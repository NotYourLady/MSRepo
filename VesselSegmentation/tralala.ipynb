{
 "cells": [
  {
   "cell_type": "code",
   "execution_count": 62,
   "id": "d38c8815-1676-43a8-8ca2-f955d1086e8c",
   "metadata": {
    "tags": []
   },
   "outputs": [
    {
     "name": "stdout",
     "output_type": "stream",
     "text": [
      "The autoreload extension is already loaded. To reload it, use:\n",
      "  %reload_ext autoreload\n"
     ]
    }
   ],
   "source": [
    "%load_ext autoreload\n",
    "%autoreload 2"
   ]
  },
  {
   "cell_type": "code",
   "execution_count": 63,
   "id": "c1cd516f-1ad5-4450-9a5d-ffb7e18c5f2b",
   "metadata": {
    "tags": []
   },
   "outputs": [],
   "source": [
    "import torch\n",
    "import torch.nn as nn\n",
    "from ml.extra_libraries.CycleGAN_losses import (CycleLoss, ReconstructionLoss, SegmentationLoss,\n",
    "                                       DiscriminatorLoss, GeneratorLoss)\n",
    "from ml.extra_libraries.cldice import soft_cldice, soft_dice"
   ]
  },
  {
   "cell_type": "code",
   "execution_count": 67,
   "id": "c098d4b3-b628-4352-8702-d301186bd404",
   "metadata": {},
   "outputs": [],
   "source": [
    "img1 = torch.rand(1, 1, 64, 64, 64)\n",
    "img2 = torch.rand(1, 1, 64, 64, 64)\n"
   ]
  },
  {
   "cell_type": "code",
   "execution_count": 68,
   "id": "fe051770-4c41-4399-b3c7-94a70d893f0a",
   "metadata": {
    "tags": []
   },
   "outputs": [
    {
     "name": "stdout",
     "output_type": "stream",
     "text": [
      "skel_pred.sum(): tensor(57384.9570)\n",
      "skel_true.sum(): tensor(57590.5156)\n",
      "tensor(0.5003)\n",
      "skel_pred.sum(): tensor(57590.5156)\n",
      "skel_true.sum(): tensor(57590.5156)\n",
      "tensor(0.2541)\n",
      "skel_pred.sum(): tensor(13837.1357)\n",
      "skel_true.sum(): tensor(13886.5166)\n",
      "tensor(0.3799)\n",
      "skel_pred.sum(): tensor(13886.5166)\n",
      "skel_true.sum(): tensor(13886.5166)\n",
      "tensor(0.3240)\n"
     ]
    }
   ],
   "source": [
    "l = soft_cldice()\n",
    "print(l(img1, img2))\n",
    "print(l(img1, img1))\n",
    "print(l(torch.sigmoid(img1), torch.sigmoid(img2)))\n",
    "print(l(torch.sigmoid(img1), torch.sigmoid(img1)))"
   ]
  },
  {
   "cell_type": "code",
   "execution_count": null,
   "id": "8fb57a68-f317-41e0-a4b9-2b14365a8784",
   "metadata": {},
   "outputs": [],
   "source": []
  }
 ],
 "metadata": {
  "kernelspec": {
   "display_name": "Python 3",
   "language": "python",
   "name": "python3"
  },
  "language_info": {
   "codemirror_mode": {
    "name": "ipython",
    "version": 3
   },
   "file_extension": ".py",
   "mimetype": "text/x-python",
   "name": "python",
   "nbconvert_exporter": "python",
   "pygments_lexer": "ipython3",
   "version": "3.8.10"
  }
 },
 "nbformat": 4,
 "nbformat_minor": 5
}
