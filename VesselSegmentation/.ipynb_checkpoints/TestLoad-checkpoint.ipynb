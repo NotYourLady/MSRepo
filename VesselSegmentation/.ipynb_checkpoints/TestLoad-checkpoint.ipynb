{
 "cells": [
  {
   "cell_type": "code",
   "execution_count": 1,
   "id": "565ec944-9079-426d-8652-63bea6e4e483",
   "metadata": {
    "tags": []
   },
   "outputs": [],
   "source": [
    "import numpy\n",
    "from stl import mesh\n",
    "\n",
    "# Using an existing stl file:\n",
    "seg_mesh = mesh.Mesh.from_file('data/segmentation299.stl')"
   ]
  },
  {
   "cell_type": "code",
   "execution_count": 29,
   "id": "3753316c-6534-446e-bcab-e494d68170d8",
   "metadata": {
    "tags": []
   },
   "outputs": [],
   "source": [
    "seg_mesh.save('data/saved_mes.stl')"
   ]
  },
  {
   "cell_type": "code",
   "execution_count": 30,
   "id": "d403f428-8252-44bc-a21e-92d4263a79f3",
   "metadata": {
    "collapsed": true,
    "jupyter": {
     "outputs_hidden": true
    },
    "tags": []
   },
   "outputs": [
    {
     "data": {
      "text/plain": [
       "(312104, 3)"
      ]
     },
     "execution_count": 30,
     "metadata": {},
     "output_type": "execute_result"
    }
   ],
   "source": [
    "seg_mesh.y.shape"
   ]
  },
  {
   "cell_type": "code",
   "execution_count": 31,
   "id": "41b17678-1e3e-48f6-b84d-038cf3ea238f",
   "metadata": {
    "collapsed": true,
    "jupyter": {
     "outputs_hidden": true
    },
    "tags": []
   },
   "outputs": [
    {
     "name": "stdout",
     "output_type": "stream",
     "text": [
      "[[ 9.8728895 10.038902  10.015289 ]\n",
      " [10.038902   9.8728895  9.878741 ]\n",
      " [ 9.789877   9.8728895 10.015289 ]\n",
      " ...\n",
      " [-9.286607  -9.124687  -9.130307 ]\n",
      " [-8.956034  -9.010082  -8.969039 ]\n",
      " [-9.018819  -8.969039  -9.010082 ]]\n",
      "[[ 19.85566   19.989784  19.802036]\n",
      " [ 19.989784  19.85566   19.961197]\n",
      " [ 19.590105  19.85566   19.802036]\n",
      " ...\n",
      " [-55.926697 -55.95069  -55.85525 ]\n",
      " [-55.953335 -55.935146 -55.97643 ]\n",
      " [-55.97107  -55.97643  -55.935146]]\n",
      "[[-38.38391  -38.232117 -38.42846 ]\n",
      " [-38.232117 -38.38391  -38.189087]\n",
      " [-38.511353 -38.38391  -38.42846 ]\n",
      " ...\n",
      " [ 37.6062    37.808807  37.886204]\n",
      " [ 38.05275   38.015656  38.03947 ]\n",
      " [ 37.93748   38.03947   38.015656]]\n"
     ]
    }
   ],
   "source": [
    "print(seg_mesh.x)\n",
    "print(seg_mesh.y)\n",
    "print(seg_mesh.z)"
   ]
  },
  {
   "cell_type": "code",
   "execution_count": 36,
   "id": "ac77bbc5-31b1-44a6-81ad-459bd48b92fc",
   "metadata": {
    "tags": []
   },
   "outputs": [],
   "source": [
    "seg_tensor = np.array([seg_mesh.x.T, seg_mesh.y.T, seg_mesh.z.T])"
   ]
  },
  {
   "cell_type": "code",
   "execution_count": null,
   "id": "6362f4c7-cca4-4e7d-b108-f2a4ef98591c",
   "metadata": {},
   "outputs": [],
   "source": []
  },
  {
   "cell_type": "code",
   "execution_count": 1,
   "id": "7b6ae417-0996-4a91-820c-8b72a89c2b37",
   "metadata": {
    "tags": []
   },
   "outputs": [],
   "source": [
    "import numpy as np\n",
    "import nibabel as nib\n",
    "\n",
    "import torch\n",
    "import torch.nn as nn\n",
    "import torch.utils.data\n",
    "import torchvision\n",
    "\n",
    "from scipy.ndimage import zoom"
   ]
  },
  {
   "cell_type": "code",
   "execution_count": 2,
   "id": "41b04178-b6df-41bf-94a0-196c80ba8995",
   "metadata": {
    "tags": []
   },
   "outputs": [
    {
     "name": "stdout",
     "output_type": "stream",
     "text": [
      "cuda\n"
     ]
    }
   ],
   "source": [
    "device = torch.device('cuda' if torch.cuda.is_available() else 'cpu')\n",
    "print(device)"
   ]
  },
  {
   "cell_type": "code",
   "execution_count": 3,
   "id": "cc61d9be-2c3b-4d34-8198-5e91f972f386",
   "metadata": {
    "tags": []
   },
   "outputs": [],
   "source": [
    "def save_vol_as_nii(numpy_arr, loaded_file, path_to_save):\n",
    "    empty_header = nib.Nifti1Header()\n",
    "    Nifti1Image = nib.Nifti1Image(numpy_arr, loaded_file.affine, empty_header)\n",
    "    nib.save(Nifti1Image, path_to_save)"
   ]
  },
  {
   "cell_type": "code",
   "execution_count": 4,
   "id": "d2f239ba-240e-45f8-b558-8239dc988ad0",
   "metadata": {
    "tags": []
   },
   "outputs": [],
   "source": [
    "brain_file = nib.load(\"data/sub-299_ses-20110422_desc-angio_N4bfc_brain_mask.nii.gz\")\n",
    "seg_file = nib.load(\"data/bad_segmentation.nii.gz\")\n",
    "\n",
    "\n",
    "brain_vol = np.array(brain_file.dataobj)\n",
    "seg_vol = np.array(seg_file.dataobj)"
   ]
  },
  {
   "cell_type": "code",
   "execution_count": 5,
   "id": "4131232d-f573-412e-9ad1-f2910885dc77",
   "metadata": {
    "tags": []
   },
   "outputs": [
    {
     "name": "stdout",
     "output_type": "stream",
     "text": [
      "(512, 512, 140)\n",
      "(512, 512, 140)\n"
     ]
    }
   ],
   "source": [
    "print(brain_vol.shape)\n",
    "print(seg_vol.shape)"
   ]
  },
  {
   "cell_type": "code",
   "execution_count": 6,
   "id": "e246cfc6-cdb7-4e27-8ca6-841b1cc11872",
   "metadata": {
    "tags": []
   },
   "outputs": [
    {
     "data": {
      "text/plain": [
       "1"
      ]
     },
     "execution_count": 6,
     "metadata": {},
     "output_type": "execute_result"
    }
   ],
   "source": [
    "seg_vol.max()"
   ]
  },
  {
   "cell_type": "code",
   "execution_count": 7,
   "id": "d9737618-6fba-481d-ab59-b78e86cebf6f",
   "metadata": {
    "tags": []
   },
   "outputs": [],
   "source": [
    "brain_vol_compressed = zoom(brain_vol, (0.25, 0.25, 0.45714285714285713))\n",
    "seg_vol_compressed = zoom(seg_vol, (0.25, 0.25, 0.45714285714285713))\n",
    "\n",
    "#brain_vol_compressed = zoom(brain_vol, (0.25/2.0, 0.25/2, 0.45714285714285713/2))\n",
    "#seg_vol_compressed = zoom(seg_vol, (0.25/2, 0.25/2, 0.45714285714285713/2))\n"
   ]
  },
  {
   "cell_type": "code",
   "execution_count": 8,
   "id": "6167b24b-c5c2-47cb-9d61-239561bb1ccc",
   "metadata": {
    "tags": []
   },
   "outputs": [
    {
     "data": {
      "text/plain": [
       "1"
      ]
     },
     "execution_count": 8,
     "metadata": {},
     "output_type": "execute_result"
    }
   ],
   "source": [
    "seg_vol_compressed[seg_vol_compressed>1] = 1\n",
    "seg_vol_compressed.max()"
   ]
  },
  {
   "cell_type": "code",
   "execution_count": 9,
   "id": "ca2f7151-5752-4ce9-902b-77acb731f6cb",
   "metadata": {
    "tags": []
   },
   "outputs": [
    {
     "name": "stdout",
     "output_type": "stream",
     "text": [
      "torch.Size([1, 1, 128, 128, 64])\n",
      "torch.Size([1, 1, 128, 128, 64])\n"
     ]
    }
   ],
   "source": [
    "brain_vol_compressed = torch.tensor(brain_vol_compressed).unsqueeze(0).unsqueeze(0)\n",
    "seg_vol_compressed = torch.tensor(seg_vol_compressed).unsqueeze(0).unsqueeze(0)\n",
    "print(brain_vol_compressed.shape)\n",
    "print(seg_vol_compressed.shape)"
   ]
  },
  {
   "cell_type": "code",
   "execution_count": 10,
   "id": "bb6b0a09-0537-4dbb-a806-15a6a6cfa34d",
   "metadata": {
    "tags": []
   },
   "outputs": [],
   "source": [
    "class conv_block(nn.Module):\n",
    "    \"\"\"\n",
    "    Convolution Block\n",
    "    \"\"\"\n",
    "\n",
    "    def __init__(self, in_channels, out_channels, k_size=3, stride=1, padding=1, bias=True):\n",
    "        super(conv_block, self).__init__()\n",
    "        self.conv = nn.Sequential(\n",
    "            nn.Conv3d(in_channels=in_channels, out_channels=out_channels, kernel_size=k_size,\n",
    "                      stride=stride, padding=padding, bias=bias),\n",
    "            nn.BatchNorm3d(num_features=out_channels),\n",
    "            nn.ReLU(inplace=True),\n",
    "            nn.Conv3d(in_channels=out_channels, out_channels=out_channels, kernel_size=k_size,\n",
    "                      stride=stride, padding=padding, bias=bias),\n",
    "            nn.BatchNorm3d(num_features=out_channels),\n",
    "            nn.ReLU(inplace=True)\n",
    "        )\n",
    "\n",
    "    def forward(self, x):\n",
    "        x = self.conv(x)\n",
    "        return x\n",
    "\n",
    "\n",
    "class up_conv(nn.Module):\n",
    "    \"\"\"\n",
    "    Up Convolution Block\n",
    "    \"\"\"\n",
    "\n",
    "    # def __init__(self, in_ch, out_ch):\n",
    "    def __init__(self, in_channels, out_channels, k_size=3, stride=1, padding=1, bias=True):\n",
    "        super(up_conv, self).__init__()\n",
    "        self.up = nn.Sequential(\n",
    "            nn.Upsample(scale_factor=2),\n",
    "            nn.Conv3d(in_channels=in_channels, out_channels=out_channels, kernel_size=k_size,\n",
    "                      stride=stride, padding=padding, bias=bias),\n",
    "            nn.BatchNorm3d(num_features=out_channels),\n",
    "            nn.ReLU(inplace=True))\n",
    "\n",
    "    def forward(self, x):\n",
    "        x = self.up(x)\n",
    "        return x\n",
    "\n",
    "\n",
    "class U_Net(nn.Module):\n",
    "    \"\"\"\n",
    "    UNet - Basic Implementation\n",
    "    Input _ [batch * channel(# of channels of each image) * depth(# of frames) * height * width].\n",
    "    Paper : https://arxiv.org/abs/1505.04597\n",
    "    \"\"\"\n",
    "\n",
    "    def __init__(self, in_ch=1, out_ch=1):\n",
    "        super(U_Net, self).__init__()\n",
    "\n",
    "        n1 = 64 #TODO: make params\n",
    "        filters = [n1, n1 * 2, n1 * 4, n1 * 8, n1 * 16]  # 64,128,256,512,1024\n",
    "\n",
    "        self.Maxpool1 = nn.MaxPool3d(kernel_size=2, stride=2)\n",
    "        self.Maxpool2 = nn.MaxPool3d(kernel_size=2, stride=2)\n",
    "        self.Maxpool3 = nn.MaxPool3d(kernel_size=2, stride=2)\n",
    "        self.Maxpool4 = nn.MaxPool3d(kernel_size=2, stride=2)\n",
    "\n",
    "        self.Conv1 = conv_block(in_ch, filters[0])\n",
    "        self.Conv2 = conv_block(filters[0], filters[1])\n",
    "        self.Conv3 = conv_block(filters[1], filters[2])\n",
    "        self.Conv4 = conv_block(filters[2], filters[3])\n",
    "        self.Conv5 = conv_block(filters[3], filters[4])\n",
    "\n",
    "        self.Up5 = up_conv(filters[4], filters[3])\n",
    "        self.Up_conv5 = conv_block(filters[4], filters[3])\n",
    "\n",
    "        self.Up4 = up_conv(filters[3], filters[2])\n",
    "        self.Up_conv4 = conv_block(filters[3], filters[2])\n",
    "\n",
    "        self.Up3 = up_conv(filters[2], filters[1])\n",
    "        self.Up_conv3 = conv_block(filters[2], filters[1])\n",
    "\n",
    "        self.Up2 = up_conv(filters[1], filters[0])\n",
    "        self.Up_conv2 = conv_block(filters[1], filters[0])\n",
    "\n",
    "        self.Conv = nn.Conv3d(filters[0], out_ch, kernel_size=1, stride=1, padding=0)\n",
    "\n",
    "    self.active = torch.nn.Sigmoid()\n",
    "\n",
    "    def forward(self, x):\n",
    "        # print(\"unet\")\n",
    "        # print(x.shape)\n",
    "        # print(padded.shape)\n",
    "\n",
    "        e1 = self.Conv1(x)\n",
    "        # print(\"conv1:\")\n",
    "        # print(e1.shape)\n",
    "\n",
    "        e2 = self.Maxpool1(e1)\n",
    "        e2 = self.Conv2(e2)\n",
    "        # print(\"conv2:\")\n",
    "        # print(e2.shape)\n",
    "\n",
    "        e3 = self.Maxpool2(e2)\n",
    "        e3 = self.Conv3(e3)\n",
    "        # print(\"conv3:\")\n",
    "        # print(e3.shape)\n",
    "\n",
    "        e4 = self.Maxpool3(e3)\n",
    "        e4 = self.Conv4(e4)\n",
    "        # print(\"conv4:\")\n",
    "        # print(e4.shape)\n",
    "\n",
    "        e5 = self.Maxpool4(e4)\n",
    "        e5 = self.Conv5(e5)\n",
    "        # print(\"conv5:\")\n",
    "        # print(e5.shape)\n",
    "\n",
    "        d5 = self.Up5(e5)\n",
    "        # print(\"d5:\")\n",
    "        # print(d5.shape)\n",
    "        # print(\"e4:\")\n",
    "        # print(e4.shape)\n",
    "        d5 = torch.cat((e4, d5), dim=1)\n",
    "        d5 = self.Up_conv5(d5)\n",
    "        # print(\"upconv5:\")\n",
    "        # print(d5.size)\n",
    "\n",
    "        d4 = self.Up4(d5)\n",
    "        # print(\"d4:\")\n",
    "        # print(d4.shape)\n",
    "        d4 = torch.cat((e3, d4), dim=1)\n",
    "        d4 = self.Up_conv4(d4)\n",
    "        # print(\"upconv4:\")\n",
    "        # print(d4.shape)\n",
    "        d3 = self.Up3(d4)\n",
    "        d3 = torch.cat((e2, d3), dim=1)\n",
    "        d3 = self.Up_conv3(d3)\n",
    "        # print(\"upconv3:\")\n",
    "        # print(d3.shape)\n",
    "        d2 = self.Up2(d3)\n",
    "        d2 = torch.cat((e1, d2), dim=1)\n",
    "        d2 = self.Up_conv2(d2)\n",
    "        # print(\"upconv2:\")\n",
    "        # print(d2.shape)\n",
    "        out = self.Conv(d2)\n",
    "        # print(\"out:\")\n",
    "        # print(out.shape)\n",
    "        # d1 = self.active(out)\n",
    "        out = self.active(out)\n",
    "        return [out]\n",
    "\n",
    "class U_Net_DeepSup(nn.Module):\n",
    "    \"\"\"\n",
    "    UNet - Basic Implementation\n",
    "    Input _ [batch * channel(# of channels of each image) * depth(# of frames) * height * width].\n",
    "    Paper : https://arxiv.org/abs/1505.04597\n",
    "    \"\"\"\n",
    "\n",
    "    def __init__(self, in_ch=1, out_ch=1):\n",
    "        super(U_Net_DeepSup, self).__init__()\n",
    "\n",
    "        n1 = 64\n",
    "        filters = [n1, n1 * 2, n1 * 4, n1 * 8, n1 * 16]  # 64,128,256,512,1024\n",
    "\n",
    "        self.Maxpool1 = nn.MaxPool3d(kernel_size=2, stride=2)\n",
    "        self.Maxpool2 = nn.MaxPool3d(kernel_size=2, stride=2)\n",
    "        self.Maxpool3 = nn.MaxPool3d(kernel_size=2, stride=2)\n",
    "        self.Maxpool4 = nn.MaxPool3d(kernel_size=2, stride=2)\n",
    "\n",
    "        self.Conv1 = conv_block(in_ch, filters[0])\n",
    "        self.Conv2 = conv_block(filters[0], filters[1])\n",
    "        self.Conv3 = conv_block(filters[1], filters[2])\n",
    "        self.Conv4 = conv_block(filters[2], filters[3])\n",
    "        self.Conv5 = conv_block(filters[3], filters[4])\n",
    "\n",
    "        #1x1x1 Convolution for Deep Supervision\n",
    "        self.Conv_d3 = conv_block(filters[1], 1)\n",
    "        self.Conv_d4 = conv_block(filters[2], 1)\n",
    "\n",
    "\n",
    "\n",
    "        self.Up5 = up_conv(filters[4], filters[3])\n",
    "        self.Up_conv5 = conv_block(filters[4], filters[3])\n",
    "\n",
    "        self.Up4 = up_conv(filters[3], filters[2])\n",
    "        self.Up_conv4 = conv_block(filters[3], filters[2])\n",
    "\n",
    "        self.Up3 = up_conv(filters[2], filters[1])\n",
    "        self.Up_conv3 = conv_block(filters[2], filters[1])\n",
    "\n",
    "        self.Up2 = up_conv(filters[1], filters[0])\n",
    "        self.Up_conv2 = conv_block(filters[1], filters[0])\n",
    "\n",
    "        self.Conv = nn.Conv3d(filters[0], out_ch, kernel_size=1, stride=1, padding=0)\n",
    "\n",
    "        for submodule in self.modules():\n",
    "            submodule.register_forward_hook(self.nan_hook)\n",
    "\n",
    "    # self.active = torch.nn.Sigmoid()\n",
    "\n",
    "    def nan_hook(self, module, inp, output):\n",
    "        for i, out in enumerate(output):\n",
    "            nan_mask = torch.isnan(out)\n",
    "            if nan_mask.any():\n",
    "                print(\"In\", self.__class__.__name__)\n",
    "                print(module)\n",
    "                raise RuntimeError(f\"Found NAN in output {i} at indices: \", nan_mask.nonzero(), \"where:\", out[nan_mask.nonzero()[:, 0].unique(sorted=True)])\n",
    "\n",
    "    def forward(self, x):\n",
    "        # print(\"unet\")\n",
    "        # print(x.shape)\n",
    "        # print(padded.shape)\n",
    "\n",
    "        e1 = self.Conv1(x)\n",
    "        # print(\"conv1:\")\n",
    "        # print(e1.shape)\n",
    "\n",
    "        e2 = self.Maxpool1(e1)\n",
    "        e2 = self.Conv2(e2)\n",
    "        # print(\"conv2:\")\n",
    "        # print(e2.shape)\n",
    "\n",
    "        e3 = self.Maxpool2(e2)\n",
    "        e3 = self.Conv3(e3)\n",
    "        # print(\"conv3:\")\n",
    "        # print(e3.shape)\n",
    "\n",
    "        e4 = self.Maxpool3(e3)\n",
    "        e4 = self.Conv4(e4)\n",
    "        # print(\"conv4:\")\n",
    "        # print(e4.shape)\n",
    "\n",
    "        e5 = self.Maxpool4(e4)\n",
    "        e5 = self.Conv5(e5)\n",
    "        # print(\"conv5:\")\n",
    "        # print(e5.shape)\n",
    "\n",
    "        d5 = self.Up5(e5)\n",
    "        # print(\"d5:\")\n",
    "        # print(d5.shape)\n",
    "        # print(\"e4:\")\n",
    "        # print(e4.shape)\n",
    "        d5 = torch.cat((e4, d5), dim=1)\n",
    "        d5 = self.Up_conv5(d5)\n",
    "        # print(\"upconv5:\")\n",
    "        # print(d5.size)\n",
    "\n",
    "        d4 = self.Up4(d5)\n",
    "        # print(\"d4:\")\n",
    "        # print(d4.shape)\n",
    "        d4 = torch.cat((e3, d4), dim=1)\n",
    "        d4 = self.Up_conv4(d4)\n",
    "        d4_out  = self.Conv_d4(d4)\n",
    "        \n",
    "                \n",
    "        # print(\"upconv4:\")\n",
    "        # print(d4.shape)\n",
    "        d3 = self.Up3(d4)\n",
    "        d3 = torch.cat((e2, d3), dim=1)\n",
    "        d3 = self.Up_conv3(d3)        \n",
    "        d3_out  = self.Conv_d3(d3)\n",
    "\n",
    "        # print(\"upconv3:\")\n",
    "        # print(d3.shape)\n",
    "        d2 = self.Up2(d3)\n",
    "        d2 = torch.cat((e1, d2), dim=1)\n",
    "        d2 = self.Up_conv2(d2)\n",
    "        # print(\"upconv2:\")\n",
    "        # print(d2.shape)\n",
    "        out = self.Conv(d2)\n",
    "        # print(\"out:\")\n",
    "        # print(out.shape)\n",
    "        # d1 = self.active(out)\n",
    "\n",
    "        return [out, d3_out , d4_out]"
   ]
  },
  {
   "cell_type": "code",
   "execution_count": 11,
   "id": "3425f65c-225b-4dbd-a21f-22fb3f017032",
   "metadata": {
    "tags": []
   },
   "outputs": [],
   "source": [
    "model = U_Net()"
   ]
  },
  {
   "cell_type": "code",
   "execution_count": 12,
   "id": "cbc9b38c-1376-4e50-a4f1-db8a3c90126e",
   "metadata": {
    "tags": []
   },
   "outputs": [
    {
     "data": {
      "text/plain": [
       "103536449"
      ]
     },
     "execution_count": 12,
     "metadata": {},
     "output_type": "execute_result"
    }
   ],
   "source": [
    "total_params = sum(\n",
    "    param.numel() for param in model.parameters()\n",
    ")\n",
    "total_params"
   ]
  },
  {
   "cell_type": "code",
   "execution_count": 13,
   "id": "5163bdf8-e7d2-4955-ac51-9d87b2e4837c",
   "metadata": {
    "tags": []
   },
   "outputs": [],
   "source": [
    "model = model.to(device)"
   ]
  },
  {
   "cell_type": "code",
   "execution_count": 14,
   "id": "a4bf68ba-ecb1-4b73-9f14-90b734dc7306",
   "metadata": {
    "tags": []
   },
   "outputs": [],
   "source": [
    "brain_vol_compressed = brain_vol_compressed.to(device)\n",
    "seg_vol_compressed = seg_vol_compressed.to(device)"
   ]
  },
  {
   "cell_type": "code",
   "execution_count": 15,
   "id": "66777288-a2e5-4cd4-9227-9c01bb0a04b5",
   "metadata": {
    "tags": []
   },
   "outputs": [],
   "source": [
    "out = model(brain_vol_compressed)"
   ]
  },
  {
   "cell_type": "code",
   "execution_count": 16,
   "id": "40303927-c72a-4211-b24a-68829067cd9a",
   "metadata": {
    "tags": []
   },
   "outputs": [
    {
     "name": "stdout",
     "output_type": "stream",
     "text": [
      "torch.Size([1, 1, 128, 128, 64])\n"
     ]
    }
   ],
   "source": [
    "print(out[0].shape)\n",
    "sig = nn.Sigmoid()\n",
    "out = sig(out[0])\n",
    "out[out<0.5] = 0\n",
    "out[out>0.5] = 1"
   ]
  },
  {
   "cell_type": "code",
   "execution_count": 17,
   "id": "97a990e6-1703-46fc-9e95-eda3e5c4481f",
   "metadata": {
    "tags": []
   },
   "outputs": [
    {
     "name": "stdout",
     "output_type": "stream",
     "text": [
      "torch.Size([1, 1, 128, 128, 64])\n",
      "torch.float32\n",
      "torch.Size([1, 1, 128, 128, 64])\n",
      "torch.int16\n"
     ]
    }
   ],
   "source": [
    "print(out.shape)\n",
    "print(out.dtype)\n",
    "\n",
    "print(seg_vol_compressed.shape)\n",
    "print(seg_vol_compressed.dtype)"
   ]
  },
  {
   "cell_type": "code",
   "execution_count": 21,
   "id": "c93d087b-79f1-48d8-a15f-68d9501cac97",
   "metadata": {
    "tags": []
   },
   "outputs": [],
   "source": [
    "loss = nn.BCELoss(reduction='mean')\n",
    "optim = torch.optim.Adam(model.parameters(), lr=3e-4, betas=(0.9, 0.999), eps=1e-06, weight_decay=0.0)"
   ]
  },
  {
   "cell_type": "code",
   "execution_count": null,
   "id": "e6c736de-9b92-466a-8b91-e2f360f56b8b",
   "metadata": {},
   "outputs": [],
   "source": []
  },
  {
   "cell_type": "code",
   "execution_count": null,
   "id": "cf1e5071-590c-4ead-9eb0-37eecbbdbd2b",
   "metadata": {},
   "outputs": [],
   "source": [
    "for epoch in range(10):\n",
    "    optim.zero_grad()\n",
    "    out = model(brain_vol_compressed)\n",
    "    \n",
    "    "
   ]
  },
  {
   "cell_type": "code",
   "execution_count": 19,
   "id": "e533c331-7167-407a-ade2-9fca2fba13d2",
   "metadata": {
    "tags": []
   },
   "outputs": [
    {
     "data": {
      "text/plain": [
       "tensor(41.6293, device='cuda:0', grad_fn=<BinaryCrossEntropyBackward0>)"
      ]
     },
     "execution_count": 19,
     "metadata": {},
     "output_type": "execute_result"
    }
   ],
   "source": [
    "loss(out, seg_vol_compressed.type(torch.float))"
   ]
  },
  {
   "cell_type": "code",
   "execution_count": null,
   "id": "16102fbe-67ac-4ca2-85a4-e7f8ac515c93",
   "metadata": {},
   "outputs": [],
   "source": []
  },
  {
   "cell_type": "code",
   "execution_count": null,
   "id": "9954692c-10f4-45df-a1ca-3e80f1d758ed",
   "metadata": {},
   "outputs": [],
   "source": []
  },
  {
   "cell_type": "code",
   "execution_count": null,
   "id": "fc7c31de-905a-4692-b131-8b6582af1422",
   "metadata": {},
   "outputs": [],
   "source": []
  },
  {
   "cell_type": "code",
   "execution_count": 15,
   "id": "bd157dc7-9006-4a26-9196-f3f14a815412",
   "metadata": {
    "tags": []
   },
   "outputs": [],
   "source": [
    "empty_header = nib.Nifti1Header()"
   ]
  },
  {
   "cell_type": "code",
   "execution_count": 6,
   "id": "fef10b18-1948-49db-88df-20e5698780d1",
   "metadata": {
    "tags": []
   },
   "outputs": [],
   "source": [
    "Nifti1Image = nib.Nifti1Image(brain_vol_compressed, brain_file.affine, empty_header)"
   ]
  },
  {
   "cell_type": "code",
   "execution_count": 8,
   "id": "1d950418-4488-4a04-b1c0-e698bfcce1c9",
   "metadata": {
    "tags": []
   },
   "outputs": [],
   "source": [
    "nib.save(Nifti1Image, 'data/brain_vol_compressed.nii.gz')"
   ]
  },
  {
   "cell_type": "markdown",
   "id": "0057ca02-115d-4ce3-b783-483d34e3183c",
   "metadata": {},
   "source": [
    "<h2> <b/>Saving example"
   ]
  },
  {
   "cell_type": "code",
   "execution_count": 11,
   "id": "f1a20af6-1196-4368-a09b-e58d034d9364",
   "metadata": {
    "tags": []
   },
   "outputs": [],
   "source": [
    "path_to_brain = \"data/sub-299_ses-20110422_desc-angio_N4bfc_brain_mask.nii.gz\"\n",
    "brain_file = nib.load(path_to_brain)\n",
    "brain_vol = np.array(brain_file.dataobj)\n",
    "brain_vol_compressed = zoom(brain_vol, (0.25, 0.25, 0.25))\n",
    "\n",
    "path_to_save = 'data/brain_vol_compressed.nii.gz'\n",
    "save_vol_as_nii(brain_vol_compressed, brain_file, path_to_save)"
   ]
  },
  {
   "cell_type": "code",
   "execution_count": null,
   "id": "2a51c535-69ee-4166-ae34-2da41fe2f29b",
   "metadata": {},
   "outputs": [],
   "source": []
  }
 ],
 "metadata": {
  "kernelspec": {
   "display_name": "Python 3",
   "language": "python",
   "name": "python3"
  },
  "language_info": {
   "codemirror_mode": {
    "name": "ipython",
    "version": 3
   },
   "file_extension": ".py",
   "mimetype": "text/x-python",
   "name": "python",
   "nbconvert_exporter": "python",
   "pygments_lexer": "ipython3",
   "version": "3.8.10"
  }
 },
 "nbformat": 4,
 "nbformat_minor": 5
}
