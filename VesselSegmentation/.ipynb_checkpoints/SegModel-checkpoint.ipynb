{
 "cells": [
  {
   "cell_type": "code",
   "execution_count": 1,
   "id": "c5551197-4f1b-4341-87e2-6ac529297e5e",
   "metadata": {
    "tags": []
   },
   "outputs": [],
   "source": [
    "%load_ext autoreload\n",
    "%autoreload 2"
   ]
  },
  {
   "cell_type": "markdown",
   "id": "ebc50aa5-62a3-4c74-a66b-d3d1ceb6c9e2",
   "metadata": {},
   "source": [
    "<h3> Загрузка библиотек"
   ]
  },
  {
   "cell_type": "code",
   "execution_count": 2,
   "id": "ee14abb5-ab02-498a-97c4-06e006266cca",
   "metadata": {
    "tags": []
   },
   "outputs": [],
   "source": [
    "import os\n",
    "import numpy as np\n",
    "\n",
    "import torch\n",
    "import torch.nn as nn\n",
    "from torch.utils.data import DataLoader"
   ]
  },
  {
   "cell_type": "code",
   "execution_count": 3,
   "id": "46805e0c-6abf-4220-aeb5-1720cba916bb",
   "metadata": {
    "tags": []
   },
   "outputs": [],
   "source": [
    "from scripts.load_and_save import (get_dcm_info, get_dcm_vol, vox_size2affine,\n",
    "                                   save_vol_as_nii, load_sample_data)\n",
    "from scripts.load_and_save import load_nii_vol, save_vol_as_nii, load_sample_data\n",
    "\n",
    "from ml.models.unet3d import U_Net\n",
    "from ml.models.rog import ROG\n",
    "\n",
    "from ml.utils import get_total_params, save_model, load_pretrainned\n",
    "from ml.dataset import preprocess_dataset, HVB_Dataset, norm_vol\n",
    "from ml.trainer import Trainer\n",
    "from ml.losses import ExponentialLogarithmicLoss, WeightedExpBCE, TverskyLoss, DiceMetric"
   ]
  },
  {
   "cell_type": "code",
   "execution_count": 4,
   "id": "f6af17a1-a09a-44b0-b96f-0e06faa4ee99",
   "metadata": {
    "tags": []
   },
   "outputs": [
    {
     "name": "stdout",
     "output_type": "stream",
     "text": [
      "cuda\n"
     ]
    }
   ],
   "source": [
    "device = torch.device('cuda' if torch.cuda.is_available() else 'cpu')\n",
    "print(device)"
   ]
  },
  {
   "cell_type": "markdown",
   "id": "0cd09a43-736a-45a9-924c-abcf307c6a5d",
   "metadata": {
    "tags": []
   },
   "source": [
    "<h3> Создание экзепляра класса датасет"
   ]
  },
  {
   "cell_type": "code",
   "execution_count": 5,
   "id": "0a82a75f-5ad6-4b48-8258-9eb80151242b",
   "metadata": {
    "tags": []
   },
   "outputs": [],
   "source": [
    "train_dataset_settings = {\n",
    "    \"data_dir\" : \"/home/msst/Documents/medtech/brain_seg_dataset\",\n",
    "    \"patch_shape\" : (64, 64, 64),\n",
    "    \"number_of_patches\" : 10,\n",
    "    \"mode\": \"train\",\n",
    "    \"RAM_samples\" : True \n",
    "}\n",
    "patch_data_df, sample_data_df = preprocess_dataset(train_dataset_settings)\n",
    "train_dataset = HVB_Dataset(train_dataset_settings)"
   ]
  },
  {
   "cell_type": "code",
   "execution_count": 6,
   "id": "a9fa5aa8-6710-4a16-96e4-2b0274fde4d0",
   "metadata": {
    "tags": []
   },
   "outputs": [],
   "source": [
    "val_dataset_settings = {\n",
    "    \"data_dir\" : \"/home/msst/Documents/medtech/brain_seg_dataset\",\n",
    "    \"patch_shape\" : (128, 128, 128),\n",
    "    \"mode\": \"eval\",\n",
    "    \"RAM_samples\" : train_dataset_settings[\"RAM_samples\"] \n",
    "}\n",
    "val_dataset = HVB_Dataset(val_dataset_settings)"
   ]
  },
  {
   "cell_type": "code",
   "execution_count": 7,
   "id": "d96b819f-040a-40e2-aa94-0c080a5308f1",
   "metadata": {
    "tags": []
   },
   "outputs": [],
   "source": [
    "train_loader_params = {\"batch_size\": 5,\n",
    "                 \"shuffle\": True,\n",
    "                 \"num_workers\": 6\n",
    "                }\n",
    "\n",
    "val_loader_params = {\"batch_size\": 1,\n",
    "                     \"shuffle\": False,\n",
    "                     \"num_workers\": 6\n",
    "                    }\n",
    "\n",
    "train_dataloader = DataLoader(train_dataset, **train_loader_params)\n",
    "val_dataloader = DataLoader(val_dataset, **val_loader_params)"
   ]
  },
  {
   "cell_type": "markdown",
   "id": "b95377fe-0b9c-4405-8bed-d99b03289a07",
   "metadata": {},
   "source": [
    "<h3> Создание экземпляра модели"
   ]
  },
  {
   "cell_type": "code",
   "execution_count": 8,
   "id": "87601130-26ed-46d1-be07-9f40b3c2b4f8",
   "metadata": {
    "tags": []
   },
   "outputs": [],
   "source": [
    "rog_params = {\n",
    "    'classes': 1,\n",
    "    'modalities': 1,\n",
    "    'strides': [[2, 2, 1], [2, 2, 1], [2, 2, 2]],\n",
    "}\n",
    "#model = ROG(rog_params)"
   ]
  },
  {
   "cell_type": "code",
   "execution_count": 9,
   "id": "63a09e15-308b-486d-b7ee-76c35ec5f7e2",
   "metadata": {
    "tags": []
   },
   "outputs": [],
   "source": [
    "model = U_Net()"
   ]
  },
  {
   "cell_type": "code",
   "execution_count": 10,
   "id": "f5eecf77-8a4a-4559-a1b9-bd86ca6be108",
   "metadata": {
    "tags": []
   },
   "outputs": [
    {
     "name": "stdout",
     "output_type": "stream",
     "text": [
      "Number of parameters: 103536449\n"
     ]
    }
   ],
   "source": [
    "print('Number of parameters: {}'.format(get_total_params(model)))"
   ]
  },
  {
   "cell_type": "markdown",
   "id": "05150b88-328e-410d-9ae1-e566f6fbe9ce",
   "metadata": {},
   "source": [
    "<h3> Обучение модели"
   ]
  },
  {
   "cell_type": "code",
   "execution_count": 11,
   "id": "db3f01a2-a9a6-418c-9f24-d417ed431483",
   "metadata": {
    "tags": []
   },
   "outputs": [
    {
     "name": "stdout",
     "output_type": "stream",
     "text": [
      "1000\n"
     ]
    }
   ],
   "source": [
    "#loss_fn = nn.BCELoss(reduction='mean')\n",
    "loss_fn = ExponentialLogarithmicLoss(gamma_tversky = 0.5, gamma_bce = 0.5, lamb=1, freq = 0.001)\n",
    "loss_fn.weighted_bce_loss.bce_weight = 1000\n",
    "print(loss_fn.weighted_bce_loss.bce_weight)\n",
    "#loss_fn = WeightedExpBCE(0.5)\n",
    "#loss_fn = TverskyLoss(0.5)\n",
    "metric_fn = DiceMetric()\n",
    "\n",
    "trainer_config = {\n",
    "    'n_epochs': 10,\n",
    "    \"loss\" : loss_fn,\n",
    "    \"metric\" : metric_fn,\n",
    "    'device' : device,\n",
    "    'lr': 3e-4\n",
    "}\n",
    "trainer = Trainer(trainer_config)"
   ]
  },
  {
   "cell_type": "code",
   "execution_count": 13,
   "id": "55c90269-3eec-4016-aafa-9d25481e67a4",
   "metadata": {
    "tags": []
   },
   "outputs": [
    {
     "name": "stdout",
     "output_type": "stream",
     "text": [
      "Epoch 1/10\n"
     ]
    },
    {
     "name": "stderr",
     "output_type": "stream",
     "text": [
      "100%|█████████████████████████████████████████████| 6/6 [00:08<00:00,  1.49s/it]\n"
     ]
    },
    {
     "name": "stdout",
     "output_type": "stream",
     "text": [
      "{'loss': 2476.713094075521}\n"
     ]
    },
    {
     "name": "stderr",
     "output_type": "stream",
     "text": [
      " 33%|███████████████                              | 1/3 [00:02<00:05,  2.89s/it]"
     ]
    },
    {
     "name": "stdout",
     "output_type": "stream",
     "text": [
      "torch.Size([1, 1, 512, 512, 256])\n"
     ]
    },
    {
     "name": "stderr",
     "output_type": "stream",
     "text": [
      " 67%|██████████████████████████████               | 2/3 [00:04<00:01,  1.87s/it]"
     ]
    },
    {
     "name": "stdout",
     "output_type": "stream",
     "text": [
      "torch.Size([1, 1, 512, 512, 384])\n"
     ]
    },
    {
     "name": "stderr",
     "output_type": "stream",
     "text": [
      "100%|█████████████████████████████████████████████| 3/3 [00:05<00:00,  1.74s/it]\n"
     ]
    },
    {
     "name": "stdout",
     "output_type": "stream",
     "text": [
      "torch.Size([1, 1, 512, 512, 512])\n",
      "Epoch 2/10\n"
     ]
    },
    {
     "name": "stderr",
     "output_type": "stream",
     "text": [
      " 33%|███████████████                              | 2/6 [00:05<00:11,  2.79s/it]\n"
     ]
    },
    {
     "ename": "KeyboardInterrupt",
     "evalue": "",
     "output_type": "error",
     "traceback": [
      "\u001b[0;31m---------------------------------------------------------------------------\u001b[0m",
      "\u001b[0;31mKeyboardInterrupt\u001b[0m                         Traceback (most recent call last)",
      "Cell \u001b[0;32mIn[13], line 1\u001b[0m\n\u001b[0;32m----> 1\u001b[0m model \u001b[38;5;241m=\u001b[39m \u001b[43mtrainer\u001b[49m\u001b[38;5;241;43m.\u001b[39;49m\u001b[43mfit\u001b[49m\u001b[43m(\u001b[49m\u001b[43mmodel\u001b[49m\u001b[43m,\u001b[49m\u001b[43m \u001b[49m\u001b[43mtrain_dataloader\u001b[49m\u001b[43m,\u001b[49m\u001b[43m \u001b[49m\u001b[43mval_dataloader\u001b[49m\u001b[43m)\u001b[49m\n",
      "File \u001b[0;32m~/repo/MSRepo/VesselSegmentation/ml/trainer.py:36\u001b[0m, in \u001b[0;36mTrainer.fit\u001b[0;34m(self, model, train_dataloader, val_dataloader)\u001b[0m\n\u001b[1;32m     34\u001b[0m \u001b[38;5;28;01mfor\u001b[39;00m epoch \u001b[38;5;129;01min\u001b[39;00m \u001b[38;5;28mrange\u001b[39m(\u001b[38;5;28mself\u001b[39m\u001b[38;5;241m.\u001b[39mn_epochs):\n\u001b[1;32m     35\u001b[0m     \u001b[38;5;28mprint\u001b[39m(\u001b[38;5;124mf\u001b[39m\u001b[38;5;124m\"\u001b[39m\u001b[38;5;124mEpoch \u001b[39m\u001b[38;5;132;01m{\u001b[39;00mepoch\u001b[38;5;250m \u001b[39m\u001b[38;5;241m+\u001b[39m\u001b[38;5;250m \u001b[39m\u001b[38;5;241m1\u001b[39m\u001b[38;5;132;01m}\u001b[39;00m\u001b[38;5;124m/\u001b[39m\u001b[38;5;132;01m{\u001b[39;00m\u001b[38;5;28mself\u001b[39m\u001b[38;5;241m.\u001b[39mn_epochs\u001b[38;5;132;01m}\u001b[39;00m\u001b[38;5;124m\"\u001b[39m)\n\u001b[0;32m---> 36\u001b[0m     train_info \u001b[38;5;241m=\u001b[39m \u001b[38;5;28;43mself\u001b[39;49m\u001b[38;5;241;43m.\u001b[39;49m\u001b[43mtrain_epoch\u001b[49m\u001b[43m(\u001b[49m\u001b[43mtrain_dataloader\u001b[49m\u001b[43m)\u001b[49m\n\u001b[1;32m     37\u001b[0m     \u001b[38;5;28mprint\u001b[39m(train_info)\n\u001b[1;32m     38\u001b[0m     \u001b[38;5;28mself\u001b[39m\u001b[38;5;241m.\u001b[39mhistory[\u001b[38;5;124m'\u001b[39m\u001b[38;5;124mtrain_loss\u001b[39m\u001b[38;5;124m'\u001b[39m]\u001b[38;5;241m.\u001b[39mappend(train_info[\u001b[38;5;124m'\u001b[39m\u001b[38;5;124mloss\u001b[39m\u001b[38;5;124m'\u001b[39m])\n",
      "File \u001b[0;32m~/repo/MSRepo/VesselSegmentation/ml/trainer.py:62\u001b[0m, in \u001b[0;36mTrainer.train_epoch\u001b[0;34m(self, train_dataloader)\u001b[0m\n\u001b[1;32m     60\u001b[0m     loss\u001b[38;5;241m.\u001b[39mbackward()\n\u001b[1;32m     61\u001b[0m     \u001b[38;5;28mself\u001b[39m\u001b[38;5;241m.\u001b[39moptimizer\u001b[38;5;241m.\u001b[39mstep()\n\u001b[0;32m---> 62\u001b[0m     loss_val \u001b[38;5;241m=\u001b[39m \u001b[43mloss\u001b[49m\u001b[38;5;241;43m.\u001b[39;49m\u001b[43mitem\u001b[49m\u001b[43m(\u001b[49m\u001b[43m)\u001b[49m\n\u001b[1;32m     63\u001b[0m     losses\u001b[38;5;241m.\u001b[39mappend(loss_val)\n\u001b[1;32m     64\u001b[0m \u001b[38;5;28;01mreturn\u001b[39;00m {\u001b[38;5;124m'\u001b[39m\u001b[38;5;124mloss\u001b[39m\u001b[38;5;124m'\u001b[39m: \u001b[38;5;28msum\u001b[39m(losses)\u001b[38;5;241m/\u001b[39m\u001b[38;5;28mlen\u001b[39m(losses)}\n",
      "\u001b[0;31mKeyboardInterrupt\u001b[0m: "
     ]
    }
   ],
   "source": [
    "model = trainer.fit(model, train_dataloader, val_dataloader)"
   ]
  },
  {
   "cell_type": "code",
   "execution_count": null,
   "id": "924a559f-05e7-4e5c-a8ad-81d2c5237221",
   "metadata": {},
   "outputs": [],
   "source": []
  },
  {
   "cell_type": "code",
   "execution_count": 42,
   "id": "46187a77-c050-47fd-b824-374e8f8bd133",
   "metadata": {
    "tags": []
   },
   "outputs": [],
   "source": [
    "model_name = \"Unet_wBCE_100\"\n",
    "#trainer.save(\"/home/msst/repo/MSRepo/VesselSegmentation/saved_models/\" + model_name)"
   ]
  },
  {
   "cell_type": "code",
   "execution_count": 43,
   "id": "7822c6f4-2f6f-431a-8ef8-eeebe530daed",
   "metadata": {
    "tags": []
   },
   "outputs": [
    {
     "data": {
      "text/plain": [
       "<All keys matched successfully>"
      ]
     },
     "execution_count": 43,
     "metadata": {},
     "output_type": "execute_result"
    }
   ],
   "source": [
    "model.load_state_dict(torch.load(\"/home/msst/repo/MSRepo/VesselSegmentation/saved_models/\" + model_name)[\"model_state_dict\"])"
   ]
  },
  {
   "cell_type": "markdown",
   "id": "5283b921-c9a4-43bc-a8c6-82ade78251a7",
   "metadata": {},
   "source": [
    "<h3> Сегментация с помощью обученной модели\n",
    "    "
   ]
  },
  {
   "cell_type": "code",
   "execution_count": 28,
   "id": "27e20456-9839-4785-8c3e-0fcb5364a5b1",
   "metadata": {
    "tags": []
   },
   "outputs": [
    {
     "name": "stdout",
     "output_type": "stream",
     "text": [
      "(512, 512, 256)\n",
      "(512, 512, 256)\n"
     ]
    }
   ],
   "source": [
    "test_data = \"P12_CTA(no_brain)\"\n",
    "head_vol = norm_vol(dataset.RAM_samples[test_data]['head'])\n",
    "vessels_vol = dataset.RAM_samples[test_data]['vessels']\n",
    "affine = dataset.RAM_samples[test_data]['affine']\n",
    "print(head_vol.shape)\n",
    "print(vessels_vol.shape)"
   ]
  },
  {
   "cell_type": "code",
   "execution_count": 29,
   "id": "4b4479d5-d9e3-4d8e-89f0-5ff40986ee5e",
   "metadata": {
    "tags": []
   },
   "outputs": [],
   "source": [
    "def np2torch(np_arr):\n",
    "        return(torch.tensor(np_arr).unsqueeze(0).unsqueeze(0))\n",
    "\n",
    "\n",
    "def seg_by_patch(model, head_tensor_5_dim, device, patch_shape=(64, 64, 64), thresh=0.5):\n",
    "    ps = patch_shape\n",
    "    model.to(device)\n",
    "    vol_shape = head_tensor_5_dim.shape\n",
    "    s1 = vol_shape[2]//ps[0]#+1\n",
    "    s2 = vol_shape[3]//ps[1]#+1\n",
    "    s3 = vol_shape[4]//ps[2]#+1\n",
    "    \n",
    "    seg = np.zeros_like(head_tensor_5_dim[0, 0])\n",
    "    with torch.no_grad():\n",
    "        model.eval()\n",
    "        for i in range(s1):\n",
    "            for j in range(s2):\n",
    "                for k in range(s3):\n",
    "                    patch = head_tensor_5_dim[:,\n",
    "                                              :,\n",
    "                                              i*ps[0]:(i+1)*ps[0],\n",
    "                                              j*ps[1]:(j+1)*ps[1],\n",
    "                                              k*ps[2]:(k+1)*ps[2]].to(device)\n",
    "                    seg[i*ps[0]:(i+1)*ps[0],\n",
    "                        j*ps[1]:(j+1)*ps[1],\n",
    "                        k*ps[2]:(k+1)*ps[2]] = model(patch)[0].cpu()\n",
    "    \n",
    "    seg[seg<thresh] = 0\n",
    "    seg[seg>0] = 1\n",
    "    return(seg)"
   ]
  },
  {
   "cell_type": "code",
   "execution_count": 32,
   "id": "7639d405-7c5e-4d72-b0eb-5b60293999ed",
   "metadata": {
    "tags": []
   },
   "outputs": [],
   "source": [
    "vessels_seg = seg_by_patch(model, np2torch(head_vol), device, patch_shape=(128, 128, 128), thresh=0.1)\n",
    "#vessels_seg = seg_by_vol(model, np2torch(head_vol), 'cpu')"
   ]
  },
  {
   "cell_type": "code",
   "execution_count": 33,
   "id": "07778526-2a69-4792-9fbb-c1d4df1fa5ab",
   "metadata": {
    "tags": []
   },
   "outputs": [
    {
     "name": "stdout",
     "output_type": "stream",
     "text": [
      "78585.0\n",
      "0.0\n"
     ]
    }
   ],
   "source": [
    "print(vessels_vol.sum())\n",
    "print(vessels_seg.sum())"
   ]
  },
  {
   "cell_type": "code",
   "execution_count": null,
   "id": "ba2327a0-380d-415d-953a-ae51a3933b15",
   "metadata": {},
   "outputs": [],
   "source": []
  },
  {
   "cell_type": "code",
   "execution_count": 23,
   "id": "f104da62-9d7a-4c44-828a-ee23f496c74e",
   "metadata": {},
   "outputs": [],
   "source": [
    "data_dir = \"seg_data/P12_CTA\"\n",
    "if not os.path.exists(data_dir):\n",
    "    os.mkdir(data_dir)\n",
    "\n",
    "\n",
    "path_to_save_vessels = data_dir + '/' + model_name + '.nii.gz'\n",
    "save_vol_as_nii(vessels_seg, affine, path_to_save_vessels)"
   ]
  },
  {
   "cell_type": "code",
   "execution_count": null,
   "id": "f2fee0a1-af4c-4696-b11e-8295e52ad1c4",
   "metadata": {},
   "outputs": [],
   "source": []
  },
  {
   "cell_type": "code",
   "execution_count": null,
   "id": "1c943353-2395-4856-91e1-60bee19dd3c7",
   "metadata": {},
   "outputs": [],
   "source": []
  },
  {
   "cell_type": "code",
   "execution_count": 4,
   "id": "c9281f2d-49a0-443b-b2a8-a1cbb8a1127f",
   "metadata": {
    "tags": []
   },
   "outputs": [
    {
     "name": "stdout",
     "output_type": "stream",
     "text": [
      "The autoreload extension is already loaded. To reload it, use:\n",
      "  %reload_ext autoreload\n"
     ]
    }
   ],
   "source": [
    "%load_ext autoreload\n",
    "%autoreload 2"
   ]
  },
  {
   "cell_type": "code",
   "execution_count": 5,
   "id": "ea3b10bb-08f9-4512-a201-a7f32805fc94",
   "metadata": {
    "tags": []
   },
   "outputs": [],
   "source": [
    "ideal = torch.tensor([[[0, 0, 0],\n",
    "                       [0, 0, 0],\n",
    "                       [0, 0, 0]],\n",
    "                      [[0, 0, 0],\n",
    "                       [0, 1.0, 0],\n",
    "                       [0, 0, 0]],\n",
    "                      [[0, 0, 0],\n",
    "                       [0, 0, 0],\n",
    "                       [0, 0, 0]]]).unsqueeze(0).unsqueeze(0)\n",
    "g_seg = torch.tensor([[[0, 0, 0],\n",
    "                       [0, 0.1, 0],\n",
    "                       [0, 0, 0]],\n",
    "                      [[0, 0.1, 0],\n",
    "                       [0.1, 0.9, 0.1],\n",
    "                       [0, 0.1, 0]],\n",
    "                      [[0, 0, 0],\n",
    "                       [0, 0.1, 0],\n",
    "                       [0, 0, 0]]]).unsqueeze(0).unsqueeze(0)\n",
    "b_seg = torch.rand((1, 1, 3, 3, 3))"
   ]
  },
  {
   "cell_type": "code",
   "execution_count": 6,
   "id": "0a86db09-9fd9-4163-95dc-e567507d5daa",
   "metadata": {
    "tags": []
   },
   "outputs": [],
   "source": [
    "from ml.losses import ExponentialLogarithmicLoss, DiceLoss, TverskyLoss, WeightedExpBCE"
   ]
  },
  {
   "cell_type": "code",
   "execution_count": 7,
   "id": "667868c5-a93b-41ef-823f-f4768e10aebf",
   "metadata": {
    "tags": []
   },
   "outputs": [
    {
     "name": "stdout",
     "output_type": "stream",
     "text": [
      "tensor(0.4348)\n",
      "tensor(1.1514)\n"
     ]
    }
   ],
   "source": [
    "loss_fn = ExponentialLogarithmicLoss(gamma_tversky = 0.3, gamma_bce = 0.3,\n",
    "                                     lamb=0.5, freq = 1/27)\n",
    "print(loss_fn(ideal, g_seg))\n",
    "print(loss_fn(ideal, b_seg))"
   ]
  },
  {
   "cell_type": "code",
   "execution_count": 8,
   "id": "4874e1c2-b91c-4ba3-b75e-b7a18b5204c6",
   "metadata": {
    "tags": []
   },
   "outputs": [
    {
     "name": "stdout",
     "output_type": "stream",
     "text": [
      "tensor(0.2000)\n",
      "tensor(0.8511)\n"
     ]
    }
   ],
   "source": [
    "loss_fn = TverskyLoss(0.5)\n",
    "print(loss_fn(ideal, g_seg))\n",
    "print(loss_fn(ideal, b_seg))"
   ]
  },
  {
   "cell_type": "code",
   "execution_count": 9,
   "id": "940c961e-5422-4fe6-9195-6b9a75c53860",
   "metadata": {
    "tags": []
   },
   "outputs": [
    {
     "name": "stdout",
     "output_type": "stream",
     "text": [
      "tensor(0.2000)\n",
      "tensor(0.8511)\n"
     ]
    }
   ],
   "source": [
    "loss_fn = DiceLoss()\n",
    "print(loss_fn(ideal, g_seg))\n",
    "print(loss_fn(ideal, b_seg))"
   ]
  },
  {
   "cell_type": "code",
   "execution_count": null,
   "id": "41fee12b-7e71-4fea-8f83-90cdfb52fe85",
   "metadata": {},
   "outputs": [],
   "source": []
  }
 ],
 "metadata": {
  "kernelspec": {
   "display_name": "Python 3",
   "language": "python",
   "name": "python3"
  },
  "language_info": {
   "codemirror_mode": {
    "name": "ipython",
    "version": 3
   },
   "file_extension": ".py",
   "mimetype": "text/x-python",
   "name": "python",
   "nbconvert_exporter": "python",
   "pygments_lexer": "ipython3",
   "version": "3.8.10"
  }
 },
 "nbformat": 4,
 "nbformat_minor": 5
}
