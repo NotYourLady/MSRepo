{
 "cells": [
  {
   "cell_type": "code",
   "execution_count": 11,
   "id": "c5551197-4f1b-4341-87e2-6ac529297e5e",
   "metadata": {
    "tags": []
   },
   "outputs": [
    {
     "name": "stdout",
     "output_type": "stream",
     "text": [
      "The autoreload extension is already loaded. To reload it, use:\n",
      "  %reload_ext autoreload\n"
     ]
    }
   ],
   "source": [
    "%load_ext autoreload\n",
    "%autoreload 2"
   ]
  },
  {
   "cell_type": "code",
   "execution_count": 12,
   "id": "ee14abb5-ab02-498a-97c4-06e006266cca",
   "metadata": {
    "tags": []
   },
   "outputs": [],
   "source": [
    "import os\n",
    "import numpy as np\n",
    "\n",
    "import torch\n",
    "import torch.nn as nn\n",
    "from torch.utils.data import DataLoader"
   ]
  },
  {
   "cell_type": "code",
   "execution_count": 13,
   "id": "46805e0c-6abf-4220-aeb5-1720cba916bb",
   "metadata": {
    "tags": []
   },
   "outputs": [],
   "source": [
    "from ml.model import U_Net"
   ]
  },
  {
   "cell_type": "code",
   "execution_count": 14,
   "id": "f6af17a1-a09a-44b0-b96f-0e06faa4ee99",
   "metadata": {
    "tags": []
   },
   "outputs": [
    {
     "name": "stdout",
     "output_type": "stream",
     "text": [
      "cuda\n"
     ]
    }
   ],
   "source": [
    "device = torch.device('cuda' if torch.cuda.is_available() else 'cpu')\n",
    "print(device)"
   ]
  },
  {
   "cell_type": "code",
   "execution_count": 16,
   "id": "18a61d82-06a9-4b80-b902-3da1f0cbd32b",
   "metadata": {
    "tags": []
   },
   "outputs": [
    {
     "ename": "NameError",
     "evalue": "name 'nib' is not defined",
     "output_type": "error",
     "traceback": [
      "\u001b[0;31m---------------------------------------------------------------------------\u001b[0m",
      "\u001b[0;31mNameError\u001b[0m                                 Traceback (most recent call last)",
      "Cell \u001b[0;32mIn[16], line 3\u001b[0m\n\u001b[1;32m      1\u001b[0m path_to_openneuro \u001b[38;5;241m=\u001b[39m \u001b[38;5;124m\"\u001b[39m\u001b[38;5;124mdata/sub-299_ses-20110422_desc-angio_N4bfc_brain_mask.nii.gz\u001b[39m\u001b[38;5;124m\"\u001b[39m\n\u001b[1;32m      2\u001b[0m path_to_nitr \u001b[38;5;241m=\u001b[39m \u001b[38;5;124m\"\u001b[39m\u001b[38;5;124mdata/BH0020.nii.gz\u001b[39m\u001b[38;5;124m\"\u001b[39m\n\u001b[0;32m----> 3\u001b[0m brain_file \u001b[38;5;241m=\u001b[39m \u001b[43mnib\u001b[49m\u001b[38;5;241m.\u001b[39mload(path_to_openneuro)\n\u001b[1;32m      5\u001b[0m brain_vol \u001b[38;5;241m=\u001b[39m np\u001b[38;5;241m.\u001b[39marray(brain_file\u001b[38;5;241m.\u001b[39mdataobj)\n\u001b[1;32m      6\u001b[0m \u001b[38;5;28mprint\u001b[39m(brain_vol\u001b[38;5;241m.\u001b[39mshape)\n",
      "\u001b[0;31mNameError\u001b[0m: name 'nib' is not defined"
     ]
    }
   ],
   "source": [
    "import nibabel as nib\n",
    "path_to_openneuro = \"data/sub-299_ses-20110422_desc-angio_N4bfc_brain_mask.nii.gz\"\n",
    "path_to_nitr = \"data/BH0020.nii.gz\"\n",
    "brain_file = nib.load(path_to_openneuro)\n",
    "\n",
    "brain_vol = np.array(brain_file.dataobj)\n",
    "print(brain_vol.shape)"
   ]
  },
  {
   "cell_type": "code",
   "execution_count": 15,
   "id": "87601130-26ed-46d1-be07-9f40b3c2b4f8",
   "metadata": {
    "tags": []
   },
   "outputs": [],
   "source": [
    "model = U_Net()"
   ]
  },
  {
   "cell_type": "code",
   "execution_count": null,
   "id": "f5eecf77-8a4a-4559-a1b9-bd86ca6be108",
   "metadata": {},
   "outputs": [],
   "source": []
  },
  {
   "cell_type": "code",
   "execution_count": null,
   "id": "fa8e6a09-0f63-4d7e-af78-cabeeeb51624",
   "metadata": {},
   "outputs": [],
   "source": []
  }
 ],
 "metadata": {
  "kernelspec": {
   "display_name": "Python 3",
   "language": "python",
   "name": "python3"
  },
  "language_info": {
   "codemirror_mode": {
    "name": "ipython",
    "version": 3
   },
   "file_extension": ".py",
   "mimetype": "text/x-python",
   "name": "python",
   "nbconvert_exporter": "python",
   "pygments_lexer": "ipython3",
   "version": "3.8.10"
  }
 },
 "nbformat": 4,
 "nbformat_minor": 5
}
