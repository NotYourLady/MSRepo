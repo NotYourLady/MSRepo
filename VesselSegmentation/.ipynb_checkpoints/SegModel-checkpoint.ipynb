{
 "cells": [
  {
   "cell_type": "code",
   "execution_count": 77,
   "id": "c5551197-4f1b-4341-87e2-6ac529297e5e",
   "metadata": {
    "tags": []
   },
   "outputs": [
    {
     "name": "stdout",
     "output_type": "stream",
     "text": [
      "The autoreload extension is already loaded. To reload it, use:\n",
      "  %reload_ext autoreload\n"
     ]
    }
   ],
   "source": [
    "%load_ext autoreload\n",
    "%autoreload 2"
   ]
  },
  {
   "cell_type": "markdown",
   "id": "ebc50aa5-62a3-4c74-a66b-d3d1ceb6c9e2",
   "metadata": {},
   "source": [
    "<h3> Загрузка библиотек"
   ]
  },
  {
   "cell_type": "code",
   "execution_count": 78,
   "id": "ee14abb5-ab02-498a-97c4-06e006266cca",
   "metadata": {
    "tags": []
   },
   "outputs": [],
   "source": [
    "import os\n",
    "import numpy as np\n",
    "\n",
    "import torch\n",
    "import torch.nn as nn\n",
    "from torch.utils.data import DataLoader"
   ]
  },
  {
   "cell_type": "code",
   "execution_count": 79,
   "id": "46805e0c-6abf-4220-aeb5-1720cba916bb",
   "metadata": {
    "tags": []
   },
   "outputs": [],
   "source": [
    "from scripts.load_and_save import (get_dcm_info, get_dcm_vol, vox_size2affine,\n",
    "                                   save_vol_as_nii, load_sample_data)\n",
    "from scripts.load_and_save import load_nii_vol, save_vol_as_nii, load_sample_data\n",
    "\n",
    "from ml.models.unet3d import U_Net\n",
    "from ml.models.rog import ROG\n",
    "\n",
    "from ml.utils import get_total_params, save_model, load_pretrainned\n",
    "from ml.dataset import preprocess_dataset, HVB_Dataset\n",
    "from ml.trainer import Trainer\n",
    "from ml.losses import ComboLoss, ExponentialLogarithmicLoss"
   ]
  },
  {
   "cell_type": "code",
   "execution_count": 81,
   "id": "f6af17a1-a09a-44b0-b96f-0e06faa4ee99",
   "metadata": {
    "tags": []
   },
   "outputs": [
    {
     "name": "stdout",
     "output_type": "stream",
     "text": [
      "cuda\n"
     ]
    }
   ],
   "source": [
    "device = torch.device('cuda' if torch.cuda.is_available() else 'cpu')\n",
    "print(device)"
   ]
  },
  {
   "cell_type": "code",
   "execution_count": 82,
   "id": "8097c49a-cab7-4dab-a229-696cd13e48f0",
   "metadata": {
    "tags": []
   },
   "outputs": [],
   "source": [
    "PATCH_SHAPE = (64, 64, 64)"
   ]
  },
  {
   "cell_type": "markdown",
   "id": "0cd09a43-736a-45a9-924c-abcf307c6a5d",
   "metadata": {
    "tags": []
   },
   "source": [
    "<h3> Создание экзепляра класса датасет"
   ]
  },
  {
   "cell_type": "code",
   "execution_count": 83,
   "id": "0a82a75f-5ad6-4b48-8258-9eb80151242b",
   "metadata": {
    "tags": []
   },
   "outputs": [],
   "source": [
    "dataset_settings = {\n",
    "    \"data_dir\" : \"/home/msst/Documents/medtech/brain_seg_dataset\",\n",
    "    \"patch_shape\" : PATCH_SHAPE,\n",
    "    \"number_of_patches\" : 128,\n",
    "    \"mode\": \"train\",\n",
    "    \"RAM_samples\" : True \n",
    "}"
   ]
  },
  {
   "cell_type": "code",
   "execution_count": 16,
   "id": "ec3cbbca-47fc-451d-bb29-9f4f2b6075a7",
   "metadata": {
    "tags": []
   },
   "outputs": [],
   "source": [
    "patch_data_df, sample_data_df = preprocess_dataset(dataset_settings)"
   ]
  },
  {
   "cell_type": "code",
   "execution_count": 17,
   "id": "4f33230e-cb9d-490f-8337-ffa9c179fedf",
   "metadata": {
    "tags": []
   },
   "outputs": [],
   "source": [
    "dataset = HVB_Dataset(dataset_settings)"
   ]
  },
  {
   "cell_type": "code",
   "execution_count": 18,
   "id": "d96b819f-040a-40e2-aa94-0c080a5308f1",
   "metadata": {
    "tags": []
   },
   "outputs": [],
   "source": [
    "loader_params = {\"batch_size\": 6,\n",
    "                 \"shuffle\": True,\n",
    "                 \"num_workers\": 6\n",
    "                }\n",
    "\n",
    "train_dataloader = DataLoader(dataset, **loader_params)"
   ]
  },
  {
   "cell_type": "markdown",
   "id": "b95377fe-0b9c-4405-8bed-d99b03289a07",
   "metadata": {},
   "source": [
    "<h3> Создание экземпляра модели"
   ]
  },
  {
   "cell_type": "code",
   "execution_count": 10,
   "id": "87601130-26ed-46d1-be07-9f40b3c2b4f8",
   "metadata": {
    "tags": []
   },
   "outputs": [],
   "source": [
    "rog_params = {\n",
    "    'classes': 1,\n",
    "    'modalities': 1,\n",
    "    'strides': [[2, 2, 1], [2, 2, 1], [2, 2, 2]],\n",
    "}\n",
    "#model = ROG(rog_params)"
   ]
  },
  {
   "cell_type": "code",
   "execution_count": 19,
   "id": "63a09e15-308b-486d-b7ee-76c35ec5f7e2",
   "metadata": {
    "tags": []
   },
   "outputs": [],
   "source": [
    "model = U_Net()"
   ]
  },
  {
   "cell_type": "code",
   "execution_count": 20,
   "id": "f5eecf77-8a4a-4559-a1b9-bd86ca6be108",
   "metadata": {
    "tags": []
   },
   "outputs": [
    {
     "name": "stdout",
     "output_type": "stream",
     "text": [
      "Number of parameters: 103536449\n"
     ]
    }
   ],
   "source": [
    "print('Number of parameters: {}'.format(get_total_params(model)))"
   ]
  },
  {
   "cell_type": "markdown",
   "id": "05150b88-328e-410d-9ae1-e566f6fbe9ce",
   "metadata": {},
   "source": [
    "<h3> Обучение модели"
   ]
  },
  {
   "cell_type": "code",
   "execution_count": 84,
   "id": "db3f01a2-a9a6-418c-9f24-d417ed431483",
   "metadata": {
    "tags": []
   },
   "outputs": [],
   "source": [
    "#loss_fn = ComboLoss(lamb = 0)\n",
    "loss_fn = nn.BCELoss(reduction='mean')\n",
    "#loss_fn = nn.BCELoss(reduction='mean')\n",
    "trainer_config = {\n",
    "    'n_epochs': 10,\n",
    "    \"loss\" : loss_fn,\n",
    "    'device' : device,\n",
    "    'lr': 3e-4\n",
    "}\n",
    "trainer = Trainer(trainer_config)"
   ]
  },
  {
   "cell_type": "code",
   "execution_count": 22,
   "id": "55c90269-3eec-4016-aafa-9d25481e67a4",
   "metadata": {
    "tags": []
   },
   "outputs": [
    {
     "name": "stdout",
     "output_type": "stream",
     "text": [
      "Epoch 1/10\n"
     ]
    },
    {
     "name": "stderr",
     "output_type": "stream",
     "text": [
      "100%|███████████████████████████████████████████| 22/22 [00:33<00:00,  1.51s/it]\n"
     ]
    },
    {
     "name": "stdout",
     "output_type": "stream",
     "text": [
      "{'loss': 0.9831557084213604}\n",
      "Epoch 2/10\n"
     ]
    },
    {
     "name": "stderr",
     "output_type": "stream",
     "text": [
      "100%|███████████████████████████████████████████| 22/22 [00:35<00:00,  1.59s/it]\n"
     ]
    },
    {
     "name": "stdout",
     "output_type": "stream",
     "text": [
      "{'loss': 0.9772604378786954}\n",
      "Epoch 3/10\n"
     ]
    },
    {
     "name": "stderr",
     "output_type": "stream",
     "text": [
      "100%|███████████████████████████████████████████| 22/22 [00:39<00:00,  1.79s/it]\n"
     ]
    },
    {
     "name": "stdout",
     "output_type": "stream",
     "text": [
      "{'loss': 0.971570071848956}\n",
      "Epoch 4/10\n"
     ]
    },
    {
     "name": "stderr",
     "output_type": "stream",
     "text": [
      " 45%|███████████████████▌                       | 10/22 [00:19<00:23,  1.95s/it]\n"
     ]
    },
    {
     "ename": "KeyboardInterrupt",
     "evalue": "",
     "output_type": "error",
     "traceback": [
      "\u001b[0;31m---------------------------------------------------------------------------\u001b[0m",
      "\u001b[0;31mKeyboardInterrupt\u001b[0m                         Traceback (most recent call last)",
      "Cell \u001b[0;32mIn[22], line 1\u001b[0m\n\u001b[0;32m----> 1\u001b[0m model \u001b[38;5;241m=\u001b[39m \u001b[43mtrainer\u001b[49m\u001b[38;5;241;43m.\u001b[39;49m\u001b[43mfit\u001b[49m\u001b[43m(\u001b[49m\u001b[43mmodel\u001b[49m\u001b[43m,\u001b[49m\u001b[43m \u001b[49m\u001b[43mtrain_dataloader\u001b[49m\u001b[43m)\u001b[49m\n",
      "File \u001b[0;32m~/repo/MSRepo/VesselSegmentation/ml/trainer.py:35\u001b[0m, in \u001b[0;36mTrainer.fit\u001b[0;34m(self, model, train_dataloader, val_dataloader)\u001b[0m\n\u001b[1;32m     33\u001b[0m \u001b[38;5;28;01mfor\u001b[39;00m epoch \u001b[38;5;129;01min\u001b[39;00m \u001b[38;5;28mrange\u001b[39m(\u001b[38;5;28mself\u001b[39m\u001b[38;5;241m.\u001b[39mn_epochs):\n\u001b[1;32m     34\u001b[0m     \u001b[38;5;28mprint\u001b[39m(\u001b[38;5;124mf\u001b[39m\u001b[38;5;124m\"\u001b[39m\u001b[38;5;124mEpoch \u001b[39m\u001b[38;5;132;01m{\u001b[39;00mepoch\u001b[38;5;250m \u001b[39m\u001b[38;5;241m+\u001b[39m\u001b[38;5;250m \u001b[39m\u001b[38;5;241m1\u001b[39m\u001b[38;5;132;01m}\u001b[39;00m\u001b[38;5;124m/\u001b[39m\u001b[38;5;132;01m{\u001b[39;00m\u001b[38;5;28mself\u001b[39m\u001b[38;5;241m.\u001b[39mn_epochs\u001b[38;5;132;01m}\u001b[39;00m\u001b[38;5;124m\"\u001b[39m)\n\u001b[0;32m---> 35\u001b[0m     train_info \u001b[38;5;241m=\u001b[39m \u001b[38;5;28;43mself\u001b[39;49m\u001b[38;5;241;43m.\u001b[39;49m\u001b[43mtrain_epoch\u001b[49m\u001b[43m(\u001b[49m\u001b[43mtrain_dataloader\u001b[49m\u001b[43m)\u001b[49m\n\u001b[1;32m     36\u001b[0m     \u001b[38;5;28mprint\u001b[39m(train_info)\n\u001b[1;32m     37\u001b[0m     \u001b[38;5;28mself\u001b[39m\u001b[38;5;241m.\u001b[39mhistory[\u001b[38;5;124m'\u001b[39m\u001b[38;5;124mtrain_loss\u001b[39m\u001b[38;5;124m'\u001b[39m]\u001b[38;5;241m.\u001b[39mappend(train_info[\u001b[38;5;124m'\u001b[39m\u001b[38;5;124mloss\u001b[39m\u001b[38;5;124m'\u001b[39m])\n",
      "File \u001b[0;32m~/repo/MSRepo/VesselSegmentation/ml/trainer.py:60\u001b[0m, in \u001b[0;36mTrainer.train_epoch\u001b[0;34m(self, train_dataloader)\u001b[0m\n\u001b[1;32m     58\u001b[0m     loss\u001b[38;5;241m.\u001b[39mbackward()\n\u001b[1;32m     59\u001b[0m     \u001b[38;5;28mself\u001b[39m\u001b[38;5;241m.\u001b[39moptimizer\u001b[38;5;241m.\u001b[39mstep()\n\u001b[0;32m---> 60\u001b[0m     loss_val \u001b[38;5;241m=\u001b[39m \u001b[43mloss\u001b[49m\u001b[38;5;241;43m.\u001b[39;49m\u001b[43mitem\u001b[49m\u001b[43m(\u001b[49m\u001b[43m)\u001b[49m\n\u001b[1;32m     61\u001b[0m     losses\u001b[38;5;241m.\u001b[39mappend(loss_val)\n\u001b[1;32m     62\u001b[0m \u001b[38;5;28;01mreturn\u001b[39;00m {\u001b[38;5;124m'\u001b[39m\u001b[38;5;124mloss\u001b[39m\u001b[38;5;124m'\u001b[39m: \u001b[38;5;28msum\u001b[39m(losses)\u001b[38;5;241m/\u001b[39m\u001b[38;5;28mlen\u001b[39m(losses)}\n",
      "\u001b[0;31mKeyboardInterrupt\u001b[0m: "
     ]
    }
   ],
   "source": [
    "model = trainer.fit(model, train_dataloader)"
   ]
  },
  {
   "cell_type": "code",
   "execution_count": 15,
   "id": "46187a77-c050-47fd-b824-374e8f8bd133",
   "metadata": {
    "tags": []
   },
   "outputs": [],
   "source": [
    "model_name = \"test_save_ROG\"\n",
    "trainer.save(\"/home/msst/repo/MSRepo/VesselSegmentation/saved_models/\" + model_name)"
   ]
  },
  {
   "cell_type": "code",
   "execution_count": 16,
   "id": "7822c6f4-2f6f-431a-8ef8-eeebe530daed",
   "metadata": {
    "tags": []
   },
   "outputs": [
    {
     "data": {
      "text/plain": [
       "<All keys matched successfully>"
      ]
     },
     "execution_count": 16,
     "metadata": {},
     "output_type": "execute_result"
    }
   ],
   "source": [
    "model.load_state_dict(torch.load(\"/home/msst/repo/MSRepo/VesselSegmentation/saved_models/\" + model_name)[\"model_state_dict\"])"
   ]
  },
  {
   "cell_type": "markdown",
   "id": "5283b921-c9a4-43bc-a8c6-82ade78251a7",
   "metadata": {},
   "source": [
    "<h3> Сегментация с помощью обученной модели\n",
    "    "
   ]
  },
  {
   "cell_type": "code",
   "execution_count": 17,
   "id": "27e20456-9839-4785-8c3e-0fcb5364a5b1",
   "metadata": {
    "tags": []
   },
   "outputs": [
    {
     "name": "stdout",
     "output_type": "stream",
     "text": [
      "(512, 512, 384)\n",
      "(512, 512, 384)\n"
     ]
    }
   ],
   "source": [
    "head_vol = dataset.RAM_samples[\"CT_S5020_uint16\"]['head']\n",
    "vessels_vol = dataset.RAM_samples[\"CT_S5020_uint16\"]['vessels']\n",
    "affine = dataset.RAM_samples[\"CT_S5020_uint16\"]['affine']\n",
    "print(head_vol.shape)\n",
    "print(vessels_vol.shape)"
   ]
  },
  {
   "cell_type": "code",
   "execution_count": 18,
   "id": "4b4479d5-d9e3-4d8e-89f0-5ff40986ee5e",
   "metadata": {
    "tags": []
   },
   "outputs": [],
   "source": [
    "def np2torch(np_arr):\n",
    "        return(torch.tensor(np_arr).unsqueeze(0).unsqueeze(0))\n",
    "\n",
    "\n",
    "def seg_by_patch(model, head_tensor_5_dim, device, patch_shape=(64, 64, 64), thresh=0.5):\n",
    "    ps = patch_shape\n",
    "    model.to(device)\n",
    "    vol_shape = head_tensor_5_dim.shape\n",
    "    s1 = vol_shape[2]//ps[0]#+1\n",
    "    s2 = vol_shape[3]//ps[1]#+1\n",
    "    s3 = vol_shape[4]//ps[2]#+1\n",
    "    \n",
    "    seg = np.zeros_like(head_tensor_5_dim[0, 0])\n",
    "    with torch.no_grad():\n",
    "        model.eval()\n",
    "        for i in range(s1):\n",
    "            for j in range(s2):\n",
    "                for k in range(s3):\n",
    "                    patch = head_tensor_5_dim[:,\n",
    "                                              :,\n",
    "                                              i*ps[0]:(i+1)*ps[0],\n",
    "                                              j*ps[1]:(j+1)*ps[1],\n",
    "                                              k*ps[2]:(k+1)*ps[2]].to(device)\n",
    "                    seg[i*ps[0]:(i+1)*ps[0],\n",
    "                        j*ps[1]:(j+1)*ps[1],\n",
    "                        k*ps[2]:(k+1)*ps[2]] = model(patch)[0].cpu()\n",
    "    \n",
    "    seg[seg<thresh] = 0\n",
    "    seg[seg>0] = 1\n",
    "    return(seg)"
   ]
  },
  {
   "cell_type": "code",
   "execution_count": 19,
   "id": "7639d405-7c5e-4d72-b0eb-5b60293999ed",
   "metadata": {
    "tags": []
   },
   "outputs": [
    {
     "name": "stdout",
     "output_type": "stream",
     "text": [
      "2 2 3 12\n"
     ]
    }
   ],
   "source": [
    "vessels_seg = seg_by_patch(model, np2torch(head_vol), device, patch_shape=(256, 256, 128), thresh=0.1)\n",
    "#vessels_seg = seg_by_vol(model, np2torch(head_vol), 'cpu')"
   ]
  },
  {
   "cell_type": "code",
   "execution_count": 20,
   "id": "07778526-2a69-4792-9fbb-c1d4df1fa5ab",
   "metadata": {
    "tags": []
   },
   "outputs": [
    {
     "name": "stdout",
     "output_type": "stream",
     "text": [
      "288187.0\n",
      "226566.0\n"
     ]
    }
   ],
   "source": [
    "print(vessels_vol.sum())\n",
    "print(vessels_seg.sum())"
   ]
  },
  {
   "cell_type": "code",
   "execution_count": 21,
   "id": "f104da62-9d7a-4c44-828a-ee23f496c74e",
   "metadata": {},
   "outputs": [],
   "source": [
    "data_dir = \"seg_data/CT_S5020_uint16\"\n",
    "if not os.path.exists(data_dir):\n",
    "    os.mkdir(data_dir)\n",
    "\n",
    "\n",
    "path_to_save_vessels = data_dir + '/' + model_name + '.nii.gz'\n",
    "save_vol_as_nii(vessels_seg, affine, path_to_save_vessels)"
   ]
  },
  {
   "cell_type": "code",
   "execution_count": null,
   "id": "f2fee0a1-af4c-4696-b11e-8295e52ad1c4",
   "metadata": {},
   "outputs": [],
   "source": []
  },
  {
   "cell_type": "code",
   "execution_count": null,
   "id": "1c943353-2395-4856-91e1-60bee19dd3c7",
   "metadata": {},
   "outputs": [],
   "source": []
  },
  {
   "cell_type": "code",
   "execution_count": null,
   "id": "c9281f2d-49a0-443b-b2a8-a1cbb8a1127f",
   "metadata": {},
   "outputs": [],
   "source": []
  },
  {
   "cell_type": "code",
   "execution_count": 86,
   "id": "ea3b10bb-08f9-4512-a201-a7f32805fc94",
   "metadata": {
    "tags": []
   },
   "outputs": [],
   "source": [
    "ideal = torch.tensor([[[0, 0, 0],\n",
    "                       [0, 0, 0],\n",
    "                       [0, 0, 0]],\n",
    "                      [[0, 0, 0],\n",
    "                       [0, 1.0, 0],\n",
    "                       [0, 0, 0]],\n",
    "                      [[0, 0, 0],\n",
    "                       [0, 0, 0],\n",
    "                       [0, 0, 0]]]).unsqueeze(0).unsqueeze(0)\n",
    "g_seg = torch.tensor([[[0, 0, 0],\n",
    "                       [0, 0.1, 0],\n",
    "                       [0, 0, 0]],\n",
    "                      [[0, 0.1, 0],\n",
    "                       [0.1, 0.9, 0.1],\n",
    "                       [0, 0.1, 0]],\n",
    "                      [[0, 0, 0],\n",
    "                       [0, 0.1, 0],\n",
    "                       [0, 0, 0]]]).unsqueeze(0).unsqueeze(0)\n",
    "b_seg = torch.rand((1, 1, 3, 3, 3))"
   ]
  },
  {
   "cell_type": "code",
   "execution_count": 73,
   "id": "667868c5-a93b-41ef-823f-f4768e10aebf",
   "metadata": {
    "tags": []
   },
   "outputs": [],
   "source": [
    "loss_fn = ExponentialLogarithmicLoss(gamma_dice = 0.3, gamma_bce = 0.3,\n",
    "                                     lamb=0.5)\n",
    "loss_fn.set_bce_weight(1/27)"
   ]
  },
  {
   "cell_type": "code",
   "execution_count": 74,
   "id": "97bb6aa0-c744-4f81-bc43-1f74fed2d6b5",
   "metadata": {
    "tags": []
   },
   "outputs": [],
   "source": [
    "#loss_fn = nn.BCELoss(reduction='mean')"
   ]
  },
  {
   "cell_type": "code",
   "execution_count": 75,
   "id": "ad065728-b8f5-4d7b-b430-22b317f9703e",
   "metadata": {
    "tags": []
   },
   "outputs": [
    {
     "name": "stdout",
     "output_type": "stream",
     "text": [
      "res: tensor(0.4857)\n",
      "tensor(-0.3676) tensor(0.9070)\n",
      "tensor(0.2697)\n",
      "res: tensor(0.9522)\n",
      "tensor(-3.0408) tensor(0.4047)\n",
      "tensor(-1.3181)\n"
     ]
    }
   ],
   "source": [
    "print(loss_fn(ideal, g_seg))\n",
    "print(loss_fn(ideal, b_seg))"
   ]
  }
 ],
 "metadata": {
  "kernelspec": {
   "display_name": "Python 3 (ipykernel)",
   "language": "python",
   "name": "python3"
  },
  "language_info": {
   "codemirror_mode": {
    "name": "ipython",
    "version": 3
   },
   "file_extension": ".py",
   "mimetype": "text/x-python",
   "name": "python",
   "nbconvert_exporter": "python",
   "pygments_lexer": "ipython3",
   "version": "3.10.11"
  }
 },
 "nbformat": 4,
 "nbformat_minor": 5
}
