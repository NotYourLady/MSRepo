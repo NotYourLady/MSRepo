{
 "cells": [
  {
   "cell_type": "code",
   "execution_count": 1,
   "id": "c5551197-4f1b-4341-87e2-6ac529297e5e",
   "metadata": {
    "tags": []
   },
   "outputs": [],
   "source": [
    "%load_ext autoreload\n",
    "%autoreload 2"
   ]
  },
  {
   "cell_type": "markdown",
   "id": "ebc50aa5-62a3-4c74-a66b-d3d1ceb6c9e2",
   "metadata": {},
   "source": [
    "<h3> Загрузка библиотек"
   ]
  },
  {
   "cell_type": "code",
   "execution_count": 2,
   "id": "ee14abb5-ab02-498a-97c4-06e006266cca",
   "metadata": {
    "tags": []
   },
   "outputs": [],
   "source": [
    "import os\n",
    "import numpy as np\n",
    "\n",
    "import torch\n",
    "import torch.nn as nn\n",
    "from torch.utils.data import DataLoader\n",
    "from torch.optim.lr_scheduler import StepLR"
   ]
  },
  {
   "cell_type": "code",
   "execution_count": 3,
   "id": "46805e0c-6abf-4220-aeb5-1720cba916bb",
   "metadata": {
    "tags": []
   },
   "outputs": [],
   "source": [
    "from scripts.load_and_save import (get_dcm_info, get_dcm_vol, vox_size2affine,\n",
    "                                   save_vol_as_nii, load_sample_data)\n",
    "from scripts.load_and_save import load_nii_vol, save_vol_as_nii, load_sample_data\n",
    "\n",
    "from ml.models.unet3d import U_Net\n",
    "from ml.models.rog import ROG\n",
    "from ml.models.unet_deepsup import U_Net_DeepSup\n",
    "\n",
    "from ml.utils import get_total_params, save_model, load_pretrainned\n",
    "from ml.dataset import preprocess_dataset, HVB_Dataset, norm_vol\n",
    "from ml.trainer import Trainer\n",
    "from ml.losses import ExponentialLogarithmicLoss, WeightedExpBCE, TverskyLoss, IOU_Metric, MultyscaleLoss"
   ]
  },
  {
   "cell_type": "code",
   "execution_count": 4,
   "id": "f6af17a1-a09a-44b0-b96f-0e06faa4ee99",
   "metadata": {
    "tags": []
   },
   "outputs": [
    {
     "name": "stdout",
     "output_type": "stream",
     "text": [
      "cuda\n"
     ]
    }
   ],
   "source": [
    "device = torch.device('cuda' if torch.cuda.is_available() else 'cpu')\n",
    "print(device)"
   ]
  },
  {
   "cell_type": "markdown",
   "id": "0cd09a43-736a-45a9-924c-abcf307c6a5d",
   "metadata": {
    "tags": []
   },
   "source": [
    "<h3> Создание экзепляра класса датасет"
   ]
  },
  {
   "cell_type": "code",
   "execution_count": 5,
   "id": "0a82a75f-5ad6-4b48-8258-9eb80151242b",
   "metadata": {
    "tags": []
   },
   "outputs": [
    {
     "name": "stdout",
     "output_type": "stream",
     "text": [
      "/home/msst/Documents/medtech/brain_seg_dataset/P12_CTA(no_brain) P12_CTA(no_brain)\n",
      "/home/msst/Documents/medtech/brain_seg_dataset/CT_S5020_uint16 CT_S5020_uint16\n",
      "/home/msst/Documents/medtech/brain_seg_dataset/P62_CTA(no_brain) P62_CTA(no_brain)\n"
     ]
    }
   ],
   "source": [
    "train_dataset_settings = {\n",
    "    \"data_dir\" : \"/home/msst/Documents/medtech/brain_seg_dataset\",\n",
    "    \"patch_shape\" : (64, 64, 64),\n",
    "    \"number_of_patches\" : 256,\n",
    "    \"mode\": \"train\",\n",
    "    \"RAM_samples\" : True \n",
    "}\n",
    "patch_data_df, sample_data_df = preprocess_dataset(train_dataset_settings)\n",
    "train_dataset = HVB_Dataset(train_dataset_settings)"
   ]
  },
  {
   "cell_type": "code",
   "execution_count": 6,
   "id": "a9fa5aa8-6710-4a16-96e4-2b0274fde4d0",
   "metadata": {
    "tags": []
   },
   "outputs": [],
   "source": [
    "val_dataset_settings = {\n",
    "    \"data_dir\" : \"/home/msst/Documents/medtech/brain_seg_dataset\",\n",
    "    \"patch_shape\" : (256, 256, 128),\n",
    "    \"mode\": \"eval\",\n",
    "    \"RAM_samples\" : train_dataset_settings[\"RAM_samples\"] \n",
    "}\n",
    "val_dataset = HVB_Dataset(val_dataset_settings)"
   ]
  },
  {
   "cell_type": "code",
   "execution_count": 22,
   "id": "7f5be7f5-8984-4bf0-bebf-7c7adc79cb09",
   "metadata": {
    "tags": []
   },
   "outputs": [
    {
     "name": "stdout",
     "output_type": "stream",
     "text": [
      "/home/msst/Documents/medtech/brain_seg_dataset_test/P35_CTA 0.625mm(no_seg) P35_CTA 0.625mm(no_seg)\n"
     ]
    }
   ],
   "source": [
    "test_dataset_settings = {\n",
    "    \"data_dir\" : \"/home/msst/Documents/medtech/brain_seg_dataset_test\",\n",
    "    \"patch_shape\" : (256, 256, 128),\n",
    "    \"mode\": \"eval\",\n",
    "    \"number_of_patches\" : 0,\n",
    "    \"RAM_samples\" : False\n",
    "}\n",
    "preprocess_dataset(test_dataset_settings)\n",
    "test_dataset = HVB_Dataset(test_dataset_settings)"
   ]
  },
  {
   "cell_type": "code",
   "execution_count": 8,
   "id": "d96b819f-040a-40e2-aa94-0c080a5308f1",
   "metadata": {
    "tags": []
   },
   "outputs": [],
   "source": [
    "train_loader_params = {\"batch_size\": 16,\n",
    "                 \"shuffle\": True,\n",
    "                 \"num_workers\": 6\n",
    "                }\n",
    "\n",
    "val_loader_params = {\"batch_size\": 1,\n",
    "                     \"shuffle\": False,\n",
    "                     \"num_workers\": 6\n",
    "                    }\n",
    "\n",
    "train_dataloader = DataLoader(train_dataset, **train_loader_params)\n",
    "val_dataloader = DataLoader(val_dataset, **val_loader_params)\n",
    "test_dataloader = DataLoader(test_dataset, **val_loader_params)"
   ]
  },
  {
   "cell_type": "code",
   "execution_count": 9,
   "id": "09d6c5ed-1b40-4c3e-9a21-ebcb340b6230",
   "metadata": {
    "tags": []
   },
   "outputs": [
    {
     "name": "stdout",
     "output_type": "stream",
     "text": [
      "3\n"
     ]
    }
   ],
   "source": [
    "print(len(test_dataset))"
   ]
  },
  {
   "cell_type": "markdown",
   "id": "b95377fe-0b9c-4405-8bed-d99b03289a07",
   "metadata": {},
   "source": [
    "<h3> Создание экземпляра модели"
   ]
  },
  {
   "cell_type": "code",
   "execution_count": 8,
   "id": "87601130-26ed-46d1-be07-9f40b3c2b4f8",
   "metadata": {
    "jupyter": {
     "source_hidden": true
    },
    "tags": []
   },
   "outputs": [],
   "source": [
    "#rog_params = {\n",
    "#    'classes': 1,\n",
    "#    'modalities': 1,\n",
    "#    'strides': [[2, 2, 1], [2, 2, 1], [2, 2, 2]],\n",
    "#}\n",
    "#model = ROG(rog_params)"
   ]
  },
  {
   "cell_type": "code",
   "execution_count": 9,
   "id": "63a09e15-308b-486d-b7ee-76c35ec5f7e2",
   "metadata": {
    "tags": []
   },
   "outputs": [],
   "source": [
    "#model = U_Net()\n",
    "class swish(nn.Module):\n",
    "    def forward(self, input_tensor):\n",
    "        return input_tensor * torch.sigmoid(input_tensor)\n",
    "\n",
    "#act_fn: nn.PReLU(inplace=True), nn.ReLU(inplace=True), swish\n",
    "model = U_Net_DeepSup(channel_coef=16, act_fn=swish())"
   ]
  },
  {
   "cell_type": "code",
   "execution_count": 10,
   "id": "f5eecf77-8a4a-4559-a1b9-bd86ca6be108",
   "metadata": {
    "tags": []
   },
   "outputs": [
    {
     "name": "stdout",
     "output_type": "stream",
     "text": [
      "Number of parameters: 6477875\n"
     ]
    }
   ],
   "source": [
    "print('Number of parameters: {}'.format(get_total_params(model)))"
   ]
  },
  {
   "cell_type": "code",
   "execution_count": 11,
   "id": "36d7c0f2-d2c2-47c5-99dc-f4ac60255ba3",
   "metadata": {
    "jupyter": {
     "source_hidden": true
    },
    "tags": []
   },
   "outputs": [],
   "source": [
    "import lightning as L\n",
    "\n",
    "\n",
    "class LitModel(L.LightningModule):\n",
    "    def __init__(self, torch_model, loss_fn, learning_rate):\n",
    "        super().__init__()\n",
    "        self.learning_rate = learning_rate\n",
    "        self.model = torch_model\n",
    "        self.loss_fn = loss_fn\n",
    "\n",
    "    def training_step(self, batch, batch_idx):\n",
    "        head_batch = batch['head_patch'].to(self.device)\n",
    "        vessels_batch = batch['vessels_patch'].to(self.device)\n",
    "    \n",
    "        outputs = self.model.forward(head_batch)\n",
    "        loss = self.loss_fn(vessels_batch, outputs)\n",
    "        self.log(\"train_loss\", loss)\n",
    "        return(loss)\n",
    "    \n",
    "    \n",
    "    def configure_optimizers(self):\n",
    "        return torch.optim.Adam(self.model.parameters(), lr=self.learning_rate)\n",
    "\n",
    "#loss_fn = MultyscaleLoss(ExponentialLogarithmicLoss(gamma_tversky = 0.5, gamma_bce = 0.5, lamb=0.01,\n",
    "#                                                    freq = 0.001, tversky_alfa=0.5))\n",
    "#lightning_model = LitModel(model, loss_fn, 0.01)\n",
    "#trainer = L.Trainer(accelerator='gpu', auto_lr_find=True)\n",
    "#trainer.tune(lightning_model, train_dataloaders=train_dataloader)\n",
    "#print(\"predicted best lr:\", lightning_model.learning_rate)"
   ]
  },
  {
   "cell_type": "markdown",
   "id": "05150b88-328e-410d-9ae1-e566f6fbe9ce",
   "metadata": {},
   "source": [
    "<h3> Обучение модели"
   ]
  },
  {
   "cell_type": "code",
   "execution_count": 42,
   "id": "4d99a5d0-539f-4543-8b12-ad139e4224f3",
   "metadata": {
    "tags": []
   },
   "outputs": [],
   "source": [
    "#loss_fn = nn.BCELoss(reduction='mean')\n",
    "\n",
    "#loss_fn = ExponentialLogarithmicLoss(gamma_tversky = 1, gamma_bce = 1, lamb=1, freq = 0.001)\n",
    "#loss_fn.weighted_bce_loss.bce_weight = 1\n",
    "\n",
    "#print(loss_fn.weighted_bce_loss.bce_weight)\n",
    "\n",
    "#loss_fn = WeightedExpBCE(0.5)\n",
    "#loss_fn = TverskyLoss(0.5)"
   ]
  },
  {
   "cell_type": "code",
   "execution_count": 15,
   "id": "fdc41e48-ac6e-4b6d-91bf-a37f0b89a091",
   "metadata": {
    "tags": []
   },
   "outputs": [],
   "source": [
    "#l = WeightedExpBCE(0.5)\n",
    "#l.set_bce_weight(0.001)\n",
    "#loss_fn = MultyscaleLoss(l)\n",
    "\n",
    "#loss_fn = MultyscaleLoss(TverskyLoss(0.75))\n",
    "\n",
    "loss_fn = MultyscaleLoss(ExponentialLogarithmicLoss(gamma_tversky = 1, gamma_bce = 1, lamb=0.9,\n",
    "                                                    freq = 0.001, tversky_alfa=0.75))"
   ]
  },
  {
   "cell_type": "code",
   "execution_count": 16,
   "id": "db3f01a2-a9a6-418c-9f24-d417ed431483",
   "metadata": {
    "tags": []
   },
   "outputs": [],
   "source": [
    "metric_fn = IOU_Metric()\n",
    "\n",
    "trainer_config = {\n",
    "    'n_epochs': 100,\n",
    "    \"loss\" : loss_fn,\n",
    "    \"metric\" : metric_fn,\n",
    "    'device' : device,\n",
    "    \"optimizer_fn\" : lambda model: torch.optim.ASGD(model.parameters(), lr=0.25),\n",
    "    \"sheduler_fn\": lambda optimizer: StepLR(optimizer, step_size=5, gamma=0.5) \n",
    "}\n",
    "trainer = Trainer(trainer_config)"
   ]
  },
  {
   "cell_type": "code",
   "execution_count": 17,
   "id": "55c90269-3eec-4016-aafa-9d25481e67a4",
   "metadata": {
    "collapsed": true,
    "jupyter": {
     "outputs_hidden": true,
     "source_hidden": true
    },
    "tags": []
   },
   "outputs": [
    {
     "name": "stdout",
     "output_type": "stream",
     "text": [
      "Epoch 1/100\n"
     ]
    },
    {
     "name": "stderr",
     "output_type": "stream",
     "text": [
      "100%|███████████████████████████████████████████| 48/48 [01:02<00:00,  1.30s/it]\n"
     ]
    },
    {
     "name": "stdout",
     "output_type": "stream",
     "text": [
      "{'loss': 0.8404603923360506}\n"
     ]
    },
    {
     "name": "stderr",
     "output_type": "stream",
     "text": [
      "100%|█████████████████████████████████████████████| 3/3 [00:23<00:00,  7.89s/it]\n"
     ]
    },
    {
     "name": "stdout",
     "output_type": "stream",
     "text": [
      "{'metrics': [tensor([1.2725e-10]), tensor([3.4700e-11]), tensor([3.1986e-11])], 'sums': [{'GT_sum': tensor(78585.), 'seg_sum': tensor(0.)}, {'GT_sum': tensor(288187.), 'seg_sum': tensor(0.)}, {'GT_sum': tensor(312637.), 'seg_sum': tensor(0.)}]}\n",
      "Epoch 2/100\n"
     ]
    },
    {
     "name": "stderr",
     "output_type": "stream",
     "text": [
      "100%|███████████████████████████████████████████| 48/48 [01:01<00:00,  1.29s/it]\n"
     ]
    },
    {
     "name": "stdout",
     "output_type": "stream",
     "text": [
      "{'loss': 0.7998391091823578}\n"
     ]
    },
    {
     "name": "stderr",
     "output_type": "stream",
     "text": [
      "100%|█████████████████████████████████████████████| 3/3 [00:23<00:00,  7.87s/it]\n"
     ]
    },
    {
     "name": "stdout",
     "output_type": "stream",
     "text": [
      "{'metrics': [tensor([1.2725e-10]), tensor([3.4700e-11]), tensor([3.1986e-11])], 'sums': [{'GT_sum': tensor(78585.), 'seg_sum': tensor(0.)}, {'GT_sum': tensor(288187.), 'seg_sum': tensor(0.)}, {'GT_sum': tensor(312637.), 'seg_sum': tensor(0.)}]}\n",
      "Epoch 3/100\n"
     ]
    },
    {
     "name": "stderr",
     "output_type": "stream",
     "text": [
      "100%|███████████████████████████████████████████| 48/48 [01:02<00:00,  1.31s/it]\n"
     ]
    },
    {
     "name": "stdout",
     "output_type": "stream",
     "text": [
      "{'loss': 0.7731606289744377}\n"
     ]
    },
    {
     "name": "stderr",
     "output_type": "stream",
     "text": [
      "100%|█████████████████████████████████████████████| 3/3 [00:23<00:00,  7.88s/it]\n"
     ]
    },
    {
     "name": "stdout",
     "output_type": "stream",
     "text": [
      "{'metrics': [tensor([1.2725e-10]), tensor([3.4700e-11]), tensor([3.1986e-11])], 'sums': [{'GT_sum': tensor(78585.), 'seg_sum': tensor(0.)}, {'GT_sum': tensor(288187.), 'seg_sum': tensor(0.)}, {'GT_sum': tensor(312637.), 'seg_sum': tensor(0.)}]}\n",
      "Epoch 4/100\n"
     ]
    },
    {
     "name": "stderr",
     "output_type": "stream",
     "text": [
      "100%|███████████████████████████████████████████| 48/48 [01:01<00:00,  1.28s/it]\n"
     ]
    },
    {
     "name": "stdout",
     "output_type": "stream",
     "text": [
      "{'loss': 0.7472799085080624}\n"
     ]
    },
    {
     "name": "stderr",
     "output_type": "stream",
     "text": [
      "100%|█████████████████████████████████████████████| 3/3 [00:23<00:00,  7.88s/it]\n"
     ]
    },
    {
     "name": "stdout",
     "output_type": "stream",
     "text": [
      "{'metrics': [tensor([1.2725e-10]), tensor([0.0003]), tensor([9.5912e-06])], 'sums': [{'GT_sum': tensor(78585.), 'seg_sum': tensor(1.)}, {'GT_sum': tensor(288187.), 'seg_sum': tensor(325.)}, {'GT_sum': tensor(312637.), 'seg_sum': tensor(155.)}]}\n",
      "Epoch 5/100\n"
     ]
    },
    {
     "name": "stderr",
     "output_type": "stream",
     "text": [
      "100%|███████████████████████████████████████████| 48/48 [01:01<00:00,  1.28s/it]\n"
     ]
    },
    {
     "name": "stdout",
     "output_type": "stream",
     "text": [
      "{'loss': 0.7010056066016356}\n"
     ]
    },
    {
     "name": "stderr",
     "output_type": "stream",
     "text": [
      "100%|█████████████████████████████████████████████| 3/3 [00:23<00:00,  7.96s/it]\n"
     ]
    },
    {
     "name": "stdout",
     "output_type": "stream",
     "text": [
      "{'metrics': [tensor([8.2693e-11]), tensor([0.0014]), tensor([0.0013])], 'sums': [{'GT_sum': tensor(78585.), 'seg_sum': tensor(42344.)}, {'GT_sum': tensor(288187.), 'seg_sum': tensor(74497.)}, {'GT_sum': tensor(312637.), 'seg_sum': tensor(133631.)}]}\n",
      "Epoch 6/100\n"
     ]
    },
    {
     "name": "stderr",
     "output_type": "stream",
     "text": [
      "100%|███████████████████████████████████████████| 48/48 [01:01<00:00,  1.28s/it]\n"
     ]
    },
    {
     "name": "stdout",
     "output_type": "stream",
     "text": [
      "{'loss': 0.5950549903015295}\n"
     ]
    },
    {
     "name": "stderr",
     "output_type": "stream",
     "text": [
      "100%|█████████████████████████████████████████████| 3/3 [00:23<00:00,  7.93s/it]\n"
     ]
    },
    {
     "name": "stdout",
     "output_type": "stream",
     "text": [
      "{'metrics': [tensor([6.9858e-05]), tensor([0.1153]), tensor([0.0188])], 'sums': [{'GT_sum': tensor(78585.), 'seg_sum': tensor(422468.)}, {'GT_sum': tensor(288187.), 'seg_sum': tensor(580655.)}, {'GT_sum': tensor(312637.), 'seg_sum': tensor(682506.)}]}\n",
      "Epoch 7/100\n"
     ]
    },
    {
     "name": "stderr",
     "output_type": "stream",
     "text": [
      "100%|███████████████████████████████████████████| 48/48 [01:02<00:00,  1.30s/it]\n"
     ]
    },
    {
     "name": "stdout",
     "output_type": "stream",
     "text": [
      "{'loss': 0.5027993669112524}\n"
     ]
    },
    {
     "name": "stderr",
     "output_type": "stream",
     "text": [
      "100%|█████████████████████████████████████████████| 3/3 [00:23<00:00,  7.89s/it]\n"
     ]
    },
    {
     "name": "stdout",
     "output_type": "stream",
     "text": [
      "{'metrics': [tensor([0.0403]), tensor([0.1233]), tensor([0.0459])], 'sums': [{'GT_sum': tensor(78585.), 'seg_sum': tensor(328713.)}, {'GT_sum': tensor(288187.), 'seg_sum': tensor(591007.)}, {'GT_sum': tensor(312637.), 'seg_sum': tensor(770069.)}]}\n",
      "Epoch 8/100\n"
     ]
    },
    {
     "name": "stderr",
     "output_type": "stream",
     "text": [
      "100%|███████████████████████████████████████████| 48/48 [01:01<00:00,  1.29s/it]\n"
     ]
    },
    {
     "name": "stdout",
     "output_type": "stream",
     "text": [
      "{'loss': 0.4832415599375963}\n"
     ]
    },
    {
     "name": "stderr",
     "output_type": "stream",
     "text": [
      "100%|█████████████████████████████████████████████| 3/3 [00:23<00:00,  7.86s/it]\n"
     ]
    },
    {
     "name": "stdout",
     "output_type": "stream",
     "text": [
      "{'metrics': [tensor([0.0018]), tensor([0.0593]), tensor([0.0151])], 'sums': [{'GT_sum': tensor(78585.), 'seg_sum': tensor(1702136.)}, {'GT_sum': tensor(288187.), 'seg_sum': tensor(841070.)}, {'GT_sum': tensor(312637.), 'seg_sum': tensor(2325059.)}]}\n",
      "Epoch 9/100\n"
     ]
    },
    {
     "name": "stderr",
     "output_type": "stream",
     "text": [
      "100%|███████████████████████████████████████████| 48/48 [01:01<00:00,  1.28s/it]\n"
     ]
    },
    {
     "name": "stdout",
     "output_type": "stream",
     "text": [
      "{'loss': 0.4545741453766823}\n"
     ]
    },
    {
     "name": "stderr",
     "output_type": "stream",
     "text": [
      "100%|█████████████████████████████████████████████| 3/3 [00:23<00:00,  7.87s/it]\n"
     ]
    },
    {
     "name": "stdout",
     "output_type": "stream",
     "text": [
      "{'metrics': [tensor([9.9033e-11]), tensor([0.0237]), tensor([0.0018])], 'sums': [{'GT_sum': tensor(78585.), 'seg_sum': tensor(22391.)}, {'GT_sum': tensor(288187.), 'seg_sum': tensor(54586.)}, {'GT_sum': tensor(312637.), 'seg_sum': tensor(186391.)}]}\n",
      "Epoch 10/100\n"
     ]
    },
    {
     "name": "stderr",
     "output_type": "stream",
     "text": [
      "100%|███████████████████████████████████████████| 48/48 [01:01<00:00,  1.28s/it]\n"
     ]
    },
    {
     "name": "stdout",
     "output_type": "stream",
     "text": [
      "{'loss': 0.42226846516132355}\n"
     ]
    },
    {
     "name": "stderr",
     "output_type": "stream",
     "text": [
      "100%|█████████████████████████████████████████████| 3/3 [00:23<00:00,  7.89s/it]\n"
     ]
    },
    {
     "name": "stdout",
     "output_type": "stream",
     "text": [
      "{'metrics': [tensor([0.0346]), tensor([0.1922]), tensor([0.0763])], 'sums': [{'GT_sum': tensor(78585.), 'seg_sum': tensor(369730.)}, {'GT_sum': tensor(288187.), 'seg_sum': tensor(257789.)}, {'GT_sum': tensor(312637.), 'seg_sum': tensor(437076.)}]}\n",
      "Epoch 11/100\n"
     ]
    },
    {
     "name": "stderr",
     "output_type": "stream",
     "text": [
      "100%|███████████████████████████████████████████| 48/48 [01:01<00:00,  1.29s/it]\n"
     ]
    },
    {
     "name": "stdout",
     "output_type": "stream",
     "text": [
      "{'loss': 0.34080280115207034}\n"
     ]
    },
    {
     "name": "stderr",
     "output_type": "stream",
     "text": [
      "100%|█████████████████████████████████████████████| 3/3 [00:23<00:00,  7.87s/it]\n"
     ]
    },
    {
     "name": "stdout",
     "output_type": "stream",
     "text": [
      "{'metrics': [tensor([0.1235]), tensor([0.3055]), tensor([0.2547])], 'sums': [{'GT_sum': tensor(78585.), 'seg_sum': tensor(260914.)}, {'GT_sum': tensor(288187.), 'seg_sum': tensor(342860.)}, {'GT_sum': tensor(312637.), 'seg_sum': tensor(368124.)}]}\n",
      "Epoch 12/100\n"
     ]
    },
    {
     "name": "stderr",
     "output_type": "stream",
     "text": [
      "100%|███████████████████████████████████████████| 48/48 [01:02<00:00,  1.30s/it]\n"
     ]
    },
    {
     "name": "stdout",
     "output_type": "stream",
     "text": [
      "{'loss': 0.3311618979399403}\n"
     ]
    },
    {
     "name": "stderr",
     "output_type": "stream",
     "text": [
      "100%|█████████████████████████████████████████████| 3/3 [00:23<00:00,  7.91s/it]\n"
     ]
    },
    {
     "name": "stdout",
     "output_type": "stream",
     "text": [
      "{'metrics': [tensor([0.0527]), tensor([0.0157]), tensor([0.0085])], 'sums': [{'GT_sum': tensor(78585.), 'seg_sum': tensor(143046.)}, {'GT_sum': tensor(288187.), 'seg_sum': tensor(9052.)}, {'GT_sum': tensor(312637.), 'seg_sum': tensor(33957.)}]}\n",
      "Epoch 13/100\n"
     ]
    },
    {
     "name": "stderr",
     "output_type": "stream",
     "text": [
      "100%|███████████████████████████████████████████| 48/48 [01:02<00:00,  1.30s/it]\n"
     ]
    },
    {
     "name": "stdout",
     "output_type": "stream",
     "text": [
      "{'loss': 0.3289844188839197}\n"
     ]
    },
    {
     "name": "stderr",
     "output_type": "stream",
     "text": [
      "100%|█████████████████████████████████████████████| 3/3 [00:23<00:00,  7.86s/it]\n"
     ]
    },
    {
     "name": "stdout",
     "output_type": "stream",
     "text": [
      "{'metrics': [tensor([0.1334]), tensor([0.2562]), tensor([0.2067])], 'sums': [{'GT_sum': tensor(78585.), 'seg_sum': tensor(383600.)}, {'GT_sum': tensor(288187.), 'seg_sum': tensor(608389.)}, {'GT_sum': tensor(312637.), 'seg_sum': tensor(824209.)}]}\n",
      "Epoch 14/100\n"
     ]
    },
    {
     "name": "stderr",
     "output_type": "stream",
     "text": [
      "100%|███████████████████████████████████████████| 48/48 [01:01<00:00,  1.29s/it]\n"
     ]
    },
    {
     "name": "stdout",
     "output_type": "stream",
     "text": [
      "{'loss': 0.31342066327730816}\n"
     ]
    },
    {
     "name": "stderr",
     "output_type": "stream",
     "text": [
      "100%|█████████████████████████████████████████████| 3/3 [00:23<00:00,  7.89s/it]\n"
     ]
    },
    {
     "name": "stdout",
     "output_type": "stream",
     "text": [
      "{'metrics': [tensor([0.1975]), tensor([0.3453]), tensor([0.2548])], 'sums': [{'GT_sum': tensor(78585.), 'seg_sum': tensor(154239.)}, {'GT_sum': tensor(288187.), 'seg_sum': tensor(323677.)}, {'GT_sum': tensor(312637.), 'seg_sum': tensor(296582.)}]}\n",
      "Epoch 15/100\n"
     ]
    },
    {
     "name": "stderr",
     "output_type": "stream",
     "text": [
      "100%|███████████████████████████████████████████| 48/48 [01:02<00:00,  1.30s/it]\n"
     ]
    },
    {
     "name": "stdout",
     "output_type": "stream",
     "text": [
      "{'loss': 0.3109920381878813}\n"
     ]
    },
    {
     "name": "stderr",
     "output_type": "stream",
     "text": [
      "100%|█████████████████████████████████████████████| 3/3 [00:23<00:00,  7.88s/it]\n"
     ]
    },
    {
     "name": "stdout",
     "output_type": "stream",
     "text": [
      "{'metrics': [tensor([0.1914]), tensor([0.3446]), tensor([0.2100])], 'sums': [{'GT_sum': tensor(78585.), 'seg_sum': tensor(110645.)}, {'GT_sum': tensor(288187.), 'seg_sum': tensor(199978.)}, {'GT_sum': tensor(312637.), 'seg_sum': tensor(239684.)}]}\n",
      "Epoch 16/100\n"
     ]
    },
    {
     "name": "stderr",
     "output_type": "stream",
     "text": [
      "100%|███████████████████████████████████████████| 48/48 [01:01<00:00,  1.28s/it]\n"
     ]
    },
    {
     "name": "stdout",
     "output_type": "stream",
     "text": [
      "{'loss': 0.27300257701426744}\n"
     ]
    },
    {
     "name": "stderr",
     "output_type": "stream",
     "text": [
      "100%|█████████████████████████████████████████████| 3/3 [00:23<00:00,  7.87s/it]\n"
     ]
    },
    {
     "name": "stdout",
     "output_type": "stream",
     "text": [
      "{'metrics': [tensor([0.1612]), tensor([0.3476]), tensor([0.2356])], 'sums': [{'GT_sum': tensor(78585.), 'seg_sum': tensor(65122.)}, {'GT_sum': tensor(288187.), 'seg_sum': tensor(216620.)}, {'GT_sum': tensor(312637.), 'seg_sum': tensor(143638.)}]}\n",
      "Epoch 17/100\n"
     ]
    },
    {
     "name": "stderr",
     "output_type": "stream",
     "text": [
      "100%|███████████████████████████████████████████| 48/48 [01:00<00:00,  1.27s/it]\n"
     ]
    },
    {
     "name": "stdout",
     "output_type": "stream",
     "text": [
      "{'loss': 0.2669406918187936}\n"
     ]
    },
    {
     "name": "stderr",
     "output_type": "stream",
     "text": [
      "100%|█████████████████████████████████████████████| 3/3 [00:23<00:00,  7.90s/it]\n"
     ]
    },
    {
     "name": "stdout",
     "output_type": "stream",
     "text": [
      "{'metrics': [tensor([0.0006]), tensor([0.3276]), tensor([0.0555])], 'sums': [{'GT_sum': tensor(78585.), 'seg_sum': tensor(288770.)}, {'GT_sum': tensor(288187.), 'seg_sum': tensor(266596.)}, {'GT_sum': tensor(312637.), 'seg_sum': tensor(506489.)}]}\n",
      "Epoch 18/100\n"
     ]
    },
    {
     "name": "stderr",
     "output_type": "stream",
     "text": [
      "100%|███████████████████████████████████████████| 48/48 [01:02<00:00,  1.29s/it]\n"
     ]
    },
    {
     "name": "stdout",
     "output_type": "stream",
     "text": [
      "{'loss': 0.2551444948961337}\n"
     ]
    },
    {
     "name": "stderr",
     "output_type": "stream",
     "text": [
      "100%|█████████████████████████████████████████████| 3/3 [00:23<00:00,  7.88s/it]\n"
     ]
    },
    {
     "name": "stdout",
     "output_type": "stream",
     "text": [
      "{'metrics': [tensor([0.2633]), tensor([0.3429]), tensor([0.3300])], 'sums': [{'GT_sum': tensor(78585.), 'seg_sum': tensor(152779.)}, {'GT_sum': tensor(288187.), 'seg_sum': tensor(373167.)}, {'GT_sum': tensor(312637.), 'seg_sum': tensor(288808.)}]}\n",
      "Epoch 19/100\n"
     ]
    },
    {
     "name": "stderr",
     "output_type": "stream",
     "text": [
      "100%|███████████████████████████████████████████| 48/48 [01:01<00:00,  1.29s/it]\n"
     ]
    },
    {
     "name": "stdout",
     "output_type": "stream",
     "text": [
      "{'loss': 0.25126209668815136}\n"
     ]
    },
    {
     "name": "stderr",
     "output_type": "stream",
     "text": [
      "100%|█████████████████████████████████████████████| 3/3 [00:23<00:00,  7.89s/it]\n"
     ]
    },
    {
     "name": "stdout",
     "output_type": "stream",
     "text": [
      "{'metrics': [tensor([0.0048]), tensor([0.3604]), tensor([0.1332])], 'sums': [{'GT_sum': tensor(78585.), 'seg_sum': tensor(93057.)}, {'GT_sum': tensor(288187.), 'seg_sum': tensor(210705.)}, {'GT_sum': tensor(312637.), 'seg_sum': tensor(190447.)}]}\n",
      "Epoch 20/100\n"
     ]
    },
    {
     "name": "stderr",
     "output_type": "stream",
     "text": [
      "100%|███████████████████████████████████████████| 48/48 [01:02<00:00,  1.30s/it]\n"
     ]
    },
    {
     "name": "stdout",
     "output_type": "stream",
     "text": [
      "{'loss': 0.2533753778164585}\n"
     ]
    },
    {
     "name": "stderr",
     "output_type": "stream",
     "text": [
      "100%|█████████████████████████████████████████████| 3/3 [00:23<00:00,  7.88s/it]\n"
     ]
    },
    {
     "name": "stdout",
     "output_type": "stream",
     "text": [
      "{'metrics': [tensor([0.0149]), tensor([0.2677]), tensor([0.1511])], 'sums': [{'GT_sum': tensor(78585.), 'seg_sum': tensor(686677.)}, {'GT_sum': tensor(288187.), 'seg_sum': tensor(544708.)}, {'GT_sum': tensor(312637.), 'seg_sum': tensor(1085617.)}]}\n",
      "Epoch 21/100\n"
     ]
    },
    {
     "name": "stderr",
     "output_type": "stream",
     "text": [
      "100%|███████████████████████████████████████████| 48/48 [01:01<00:00,  1.29s/it]\n"
     ]
    },
    {
     "name": "stdout",
     "output_type": "stream",
     "text": [
      "{'loss': 0.2302513870721062}\n"
     ]
    },
    {
     "name": "stderr",
     "output_type": "stream",
     "text": [
      "100%|█████████████████████████████████████████████| 3/3 [00:23<00:00,  7.88s/it]\n"
     ]
    },
    {
     "name": "stdout",
     "output_type": "stream",
     "text": [
      "{'metrics': [tensor([0.2703]), tensor([0.3826]), tensor([0.3196])], 'sums': [{'GT_sum': tensor(78585.), 'seg_sum': tensor(130129.)}, {'GT_sum': tensor(288187.), 'seg_sum': tensor(330044.)}, {'GT_sum': tensor(312637.), 'seg_sum': tensor(262021.)}]}\n",
      "Epoch 22/100\n"
     ]
    },
    {
     "name": "stderr",
     "output_type": "stream",
     "text": [
      "100%|███████████████████████████████████████████| 48/48 [01:02<00:00,  1.30s/it]\n"
     ]
    },
    {
     "name": "stdout",
     "output_type": "stream",
     "text": [
      "{'loss': 0.23729814371714988}\n"
     ]
    },
    {
     "name": "stderr",
     "output_type": "stream",
     "text": [
      "100%|█████████████████████████████████████████████| 3/3 [00:23<00:00,  7.89s/it]\n"
     ]
    },
    {
     "name": "stdout",
     "output_type": "stream",
     "text": [
      "{'metrics': [tensor([0.2624]), tensor([0.3645]), tensor([0.3370])], 'sums': [{'GT_sum': tensor(78585.), 'seg_sum': tensor(108681.)}, {'GT_sum': tensor(288187.), 'seg_sum': tensor(338256.)}, {'GT_sum': tensor(312637.), 'seg_sum': tensor(272232.)}]}\n",
      "Epoch 23/100\n"
     ]
    },
    {
     "name": "stderr",
     "output_type": "stream",
     "text": [
      "100%|███████████████████████████████████████████| 48/48 [01:01<00:00,  1.28s/it]\n"
     ]
    },
    {
     "name": "stdout",
     "output_type": "stream",
     "text": [
      "{'loss': 0.23138701263815165}\n"
     ]
    },
    {
     "name": "stderr",
     "output_type": "stream",
     "text": [
      "100%|█████████████████████████████████████████████| 3/3 [00:23<00:00,  7.87s/it]\n"
     ]
    },
    {
     "name": "stdout",
     "output_type": "stream",
     "text": [
      "{'metrics': [tensor([0.2650]), tensor([0.3828]), tensor([0.3220])], 'sums': [{'GT_sum': tensor(78585.), 'seg_sum': tensor(146380.)}, {'GT_sum': tensor(288187.), 'seg_sum': tensor(338266.)}, {'GT_sum': tensor(312637.), 'seg_sum': tensor(278859.)}]}\n",
      "Epoch 24/100\n"
     ]
    },
    {
     "name": "stderr",
     "output_type": "stream",
     "text": [
      "100%|███████████████████████████████████████████| 48/48 [01:02<00:00,  1.30s/it]\n"
     ]
    },
    {
     "name": "stdout",
     "output_type": "stream",
     "text": [
      "{'loss': 0.21449449813614288}\n"
     ]
    },
    {
     "name": "stderr",
     "output_type": "stream",
     "text": [
      "100%|█████████████████████████████████████████████| 3/3 [00:23<00:00,  7.87s/it]\n"
     ]
    },
    {
     "name": "stdout",
     "output_type": "stream",
     "text": [
      "{'metrics': [tensor([0.2321]), tensor([0.3345]), tensor([0.3309])], 'sums': [{'GT_sum': tensor(78585.), 'seg_sum': tensor(201763.)}, {'GT_sum': tensor(288187.), 'seg_sum': tensor(473469.)}, {'GT_sum': tensor(312637.), 'seg_sum': tensor(466507.)}]}\n",
      "Epoch 25/100\n"
     ]
    },
    {
     "name": "stderr",
     "output_type": "stream",
     "text": [
      "100%|███████████████████████████████████████████| 48/48 [01:02<00:00,  1.31s/it]\n"
     ]
    },
    {
     "name": "stdout",
     "output_type": "stream",
     "text": [
      "{'loss': 0.22243787612145147}\n"
     ]
    },
    {
     "name": "stderr",
     "output_type": "stream",
     "text": [
      "100%|█████████████████████████████████████████████| 3/3 [00:23<00:00,  7.87s/it]\n"
     ]
    },
    {
     "name": "stdout",
     "output_type": "stream",
     "text": [
      "{'metrics': [tensor([0.2783]), tensor([0.3845]), tensor([0.3161])], 'sums': [{'GT_sum': tensor(78585.), 'seg_sum': tensor(135964.)}, {'GT_sum': tensor(288187.), 'seg_sum': tensor(348446.)}, {'GT_sum': tensor(312637.), 'seg_sum': tensor(263623.)}]}\n",
      "Epoch 26/100\n"
     ]
    },
    {
     "name": "stderr",
     "output_type": "stream",
     "text": [
      "100%|███████████████████████████████████████████| 48/48 [01:01<00:00,  1.29s/it]\n"
     ]
    },
    {
     "name": "stdout",
     "output_type": "stream",
     "text": [
      "{'loss': 0.20847567139814296}\n"
     ]
    },
    {
     "name": "stderr",
     "output_type": "stream",
     "text": [
      "100%|█████████████████████████████████████████████| 3/3 [00:23<00:00,  7.89s/it]\n"
     ]
    },
    {
     "name": "stdout",
     "output_type": "stream",
     "text": [
      "{'metrics': [tensor([0.2943]), tensor([0.3914]), tensor([0.3490])], 'sums': [{'GT_sum': tensor(78585.), 'seg_sum': tensor(133634.)}, {'GT_sum': tensor(288187.), 'seg_sum': tensor(318671.)}, {'GT_sum': tensor(312637.), 'seg_sum': tensor(247034.)}]}\n",
      "Epoch 27/100\n"
     ]
    },
    {
     "name": "stderr",
     "output_type": "stream",
     "text": [
      "100%|███████████████████████████████████████████| 48/48 [01:01<00:00,  1.28s/it]\n"
     ]
    },
    {
     "name": "stdout",
     "output_type": "stream",
     "text": [
      "{'loss': 0.20652425941079855}\n"
     ]
    },
    {
     "name": "stderr",
     "output_type": "stream",
     "text": [
      "100%|█████████████████████████████████████████████| 3/3 [00:23<00:00,  7.87s/it]\n"
     ]
    },
    {
     "name": "stdout",
     "output_type": "stream",
     "text": [
      "{'metrics': [tensor([0.2377]), tensor([0.3651]), tensor([0.3760])], 'sums': [{'GT_sum': tensor(78585.), 'seg_sum': tensor(226855.)}, {'GT_sum': tensor(288187.), 'seg_sum': tensor(413756.)}, {'GT_sum': tensor(312637.), 'seg_sum': tensor(389498.)}]}\n",
      "Epoch 28/100\n"
     ]
    },
    {
     "name": "stderr",
     "output_type": "stream",
     "text": [
      "100%|███████████████████████████████████████████| 48/48 [01:02<00:00,  1.30s/it]\n"
     ]
    },
    {
     "name": "stdout",
     "output_type": "stream",
     "text": [
      "{'loss': 0.21573203212271133}\n"
     ]
    },
    {
     "name": "stderr",
     "output_type": "stream",
     "text": [
      "100%|█████████████████████████████████████████████| 3/3 [00:23<00:00,  7.89s/it]\n"
     ]
    },
    {
     "name": "stdout",
     "output_type": "stream",
     "text": [
      "{'metrics': [tensor([0.2744]), tensor([0.3553]), tensor([0.3631])], 'sums': [{'GT_sum': tensor(78585.), 'seg_sum': tensor(160281.)}, {'GT_sum': tensor(288187.), 'seg_sum': tensor(406540.)}, {'GT_sum': tensor(312637.), 'seg_sum': tensor(327824.)}]}\n",
      "Epoch 29/100\n"
     ]
    },
    {
     "name": "stderr",
     "output_type": "stream",
     "text": [
      "100%|███████████████████████████████████████████| 48/48 [01:01<00:00,  1.28s/it]\n"
     ]
    },
    {
     "name": "stdout",
     "output_type": "stream",
     "text": [
      "{'loss': 0.20966892301415405}\n"
     ]
    },
    {
     "name": "stderr",
     "output_type": "stream",
     "text": [
      "100%|█████████████████████████████████████████████| 3/3 [00:23<00:00,  7.88s/it]\n"
     ]
    },
    {
     "name": "stdout",
     "output_type": "stream",
     "text": [
      "{'metrics': [tensor([0.2702]), tensor([0.3792]), tensor([0.3560])], 'sums': [{'GT_sum': tensor(78585.), 'seg_sum': tensor(166216.)}, {'GT_sum': tensor(288187.), 'seg_sum': tensor(381976.)}, {'GT_sum': tensor(312637.), 'seg_sum': tensor(315017.)}]}\n",
      "Epoch 30/100\n"
     ]
    },
    {
     "name": "stderr",
     "output_type": "stream",
     "text": [
      "100%|███████████████████████████████████████████| 48/48 [01:02<00:00,  1.30s/it]\n"
     ]
    },
    {
     "name": "stdout",
     "output_type": "stream",
     "text": [
      "{'loss': 0.219928831482927}\n"
     ]
    },
    {
     "name": "stderr",
     "output_type": "stream",
     "text": [
      "100%|█████████████████████████████████████████████| 3/3 [00:23<00:00,  7.87s/it]\n"
     ]
    },
    {
     "name": "stdout",
     "output_type": "stream",
     "text": [
      "{'metrics': [tensor([0.2525]), tensor([0.3864]), tensor([0.3733])], 'sums': [{'GT_sum': tensor(78585.), 'seg_sum': tensor(207780.)}, {'GT_sum': tensor(288187.), 'seg_sum': tensor(364404.)}, {'GT_sum': tensor(312637.), 'seg_sum': tensor(332177.)}]}\n",
      "Epoch 31/100\n"
     ]
    },
    {
     "name": "stderr",
     "output_type": "stream",
     "text": [
      "100%|███████████████████████████████████████████| 48/48 [01:02<00:00,  1.30s/it]\n"
     ]
    },
    {
     "name": "stdout",
     "output_type": "stream",
     "text": [
      "{'loss': 0.19297036870072284}\n"
     ]
    },
    {
     "name": "stderr",
     "output_type": "stream",
     "text": [
      "100%|█████████████████████████████████████████████| 3/3 [00:23<00:00,  7.88s/it]\n"
     ]
    },
    {
     "name": "stdout",
     "output_type": "stream",
     "text": [
      "{'metrics': [tensor([0.2868]), tensor([0.3833]), tensor([0.3737])], 'sums': [{'GT_sum': tensor(78585.), 'seg_sum': tensor(157494.)}, {'GT_sum': tensor(288187.), 'seg_sum': tensor(354556.)}, {'GT_sum': tensor(312637.), 'seg_sum': tensor(287123.)}]}\n",
      "Epoch 32/100\n"
     ]
    },
    {
     "name": "stderr",
     "output_type": "stream",
     "text": [
      "100%|███████████████████████████████████████████| 48/48 [01:01<00:00,  1.29s/it]\n"
     ]
    },
    {
     "name": "stdout",
     "output_type": "stream",
     "text": [
      "{'loss': 0.1962908535885314}\n"
     ]
    },
    {
     "name": "stderr",
     "output_type": "stream",
     "text": [
      "100%|█████████████████████████████████████████████| 3/3 [00:23<00:00,  7.86s/it]\n"
     ]
    },
    {
     "name": "stdout",
     "output_type": "stream",
     "text": [
      "{'metrics': [tensor([0.2860]), tensor([0.3833]), tensor([0.3821])], 'sums': [{'GT_sum': tensor(78585.), 'seg_sum': tensor(157478.)}, {'GT_sum': tensor(288187.), 'seg_sum': tensor(358913.)}, {'GT_sum': tensor(312637.), 'seg_sum': tensor(291277.)}]}\n",
      "Epoch 33/100\n"
     ]
    },
    {
     "name": "stderr",
     "output_type": "stream",
     "text": [
      "100%|███████████████████████████████████████████| 48/48 [01:02<00:00,  1.30s/it]\n"
     ]
    },
    {
     "name": "stdout",
     "output_type": "stream",
     "text": [
      "{'loss': 0.19921640492975712}\n"
     ]
    },
    {
     "name": "stderr",
     "output_type": "stream",
     "text": [
      "100%|█████████████████████████████████████████████| 3/3 [00:23<00:00,  7.88s/it]\n"
     ]
    },
    {
     "name": "stdout",
     "output_type": "stream",
     "text": [
      "{'metrics': [tensor([0.2910]), tensor([0.3908]), tensor([0.3769])], 'sums': [{'GT_sum': tensor(78585.), 'seg_sum': tensor(153246.)}, {'GT_sum': tensor(288187.), 'seg_sum': tensor(338643.)}, {'GT_sum': tensor(312637.), 'seg_sum': tensor(273592.)}]}\n",
      "Epoch 34/100\n"
     ]
    },
    {
     "name": "stderr",
     "output_type": "stream",
     "text": [
      "100%|███████████████████████████████████████████| 48/48 [01:01<00:00,  1.28s/it]\n"
     ]
    },
    {
     "name": "stdout",
     "output_type": "stream",
     "text": [
      "{'loss': 0.2084994570662578}\n"
     ]
    },
    {
     "name": "stderr",
     "output_type": "stream",
     "text": [
      "100%|█████████████████████████████████████████████| 3/3 [00:23<00:00,  7.89s/it]\n"
     ]
    },
    {
     "name": "stdout",
     "output_type": "stream",
     "text": [
      "{'metrics': [tensor([0.2614]), tensor([0.3687]), tensor([0.3945])], 'sums': [{'GT_sum': tensor(78585.), 'seg_sum': tensor(197892.)}, {'GT_sum': tensor(288187.), 'seg_sum': tensor(390961.)}, {'GT_sum': tensor(312637.), 'seg_sum': tensor(339903.)}]}\n",
      "Epoch 35/100\n"
     ]
    },
    {
     "name": "stderr",
     "output_type": "stream",
     "text": [
      "100%|███████████████████████████████████████████| 48/48 [01:01<00:00,  1.28s/it]\n"
     ]
    },
    {
     "name": "stdout",
     "output_type": "stream",
     "text": [
      "{'loss': 0.20337093730146685}\n"
     ]
    },
    {
     "name": "stderr",
     "output_type": "stream",
     "text": [
      "100%|█████████████████████████████████████████████| 3/3 [00:23<00:00,  7.86s/it]\n"
     ]
    },
    {
     "name": "stdout",
     "output_type": "stream",
     "text": [
      "{'metrics': [tensor([0.2779]), tensor([0.3816]), tensor([0.3803])], 'sums': [{'GT_sum': tensor(78585.), 'seg_sum': tensor(166709.)}, {'GT_sum': tensor(288187.), 'seg_sum': tensor(371103.)}, {'GT_sum': tensor(312637.), 'seg_sum': tensor(304038.)}]}\n",
      "Epoch 36/100\n"
     ]
    },
    {
     "name": "stderr",
     "output_type": "stream",
     "text": [
      "100%|███████████████████████████████████████████| 48/48 [01:01<00:00,  1.28s/it]\n"
     ]
    },
    {
     "name": "stdout",
     "output_type": "stream",
     "text": [
      "{'loss': 0.18491712460915247}\n"
     ]
    },
    {
     "name": "stderr",
     "output_type": "stream",
     "text": [
      "100%|█████████████████████████████████████████████| 3/3 [00:23<00:00,  7.87s/it]\n"
     ]
    },
    {
     "name": "stdout",
     "output_type": "stream",
     "text": [
      "{'metrics': [tensor([0.2875]), tensor([0.3804]), tensor([0.3778])], 'sums': [{'GT_sum': tensor(78585.), 'seg_sum': tensor(155053.)}, {'GT_sum': tensor(288187.), 'seg_sum': tensor(368438.)}, {'GT_sum': tensor(312637.), 'seg_sum': tensor(289726.)}]}\n",
      "Epoch 37/100\n"
     ]
    },
    {
     "name": "stderr",
     "output_type": "stream",
     "text": [
      "100%|███████████████████████████████████████████| 48/48 [01:02<00:00,  1.29s/it]\n"
     ]
    },
    {
     "name": "stdout",
     "output_type": "stream",
     "text": [
      "{'loss': 0.18943474007149538}\n"
     ]
    },
    {
     "name": "stderr",
     "output_type": "stream",
     "text": [
      "100%|█████████████████████████████████████████████| 3/3 [00:23<00:00,  7.88s/it]\n"
     ]
    },
    {
     "name": "stdout",
     "output_type": "stream",
     "text": [
      "{'metrics': [tensor([0.2824]), tensor([0.3946]), tensor([0.3846])], 'sums': [{'GT_sum': tensor(78585.), 'seg_sum': tensor(169277.)}, {'GT_sum': tensor(288187.), 'seg_sum': tensor(338607.)}, {'GT_sum': tensor(312637.), 'seg_sum': tensor(280292.)}]}\n",
      "Epoch 38/100\n"
     ]
    },
    {
     "name": "stderr",
     "output_type": "stream",
     "text": [
      "100%|███████████████████████████████████████████| 48/48 [01:02<00:00,  1.30s/it]\n"
     ]
    },
    {
     "name": "stdout",
     "output_type": "stream",
     "text": [
      "{'loss': 0.19210274890065193}\n"
     ]
    },
    {
     "name": "stderr",
     "output_type": "stream",
     "text": [
      "100%|█████████████████████████████████████████████| 3/3 [00:23<00:00,  7.89s/it]\n"
     ]
    },
    {
     "name": "stdout",
     "output_type": "stream",
     "text": [
      "{'metrics': [tensor([0.2792]), tensor([0.3904]), tensor([0.3860])], 'sums': [{'GT_sum': tensor(78585.), 'seg_sum': tensor(166482.)}, {'GT_sum': tensor(288187.), 'seg_sum': tensor(348713.)}, {'GT_sum': tensor(312637.), 'seg_sum': tensor(287689.)}]}\n",
      "Epoch 39/100\n"
     ]
    },
    {
     "name": "stderr",
     "output_type": "stream",
     "text": [
      "100%|███████████████████████████████████████████| 48/48 [01:02<00:00,  1.30s/it]\n"
     ]
    },
    {
     "name": "stdout",
     "output_type": "stream",
     "text": [
      "{'loss': 0.19114572958399853}\n"
     ]
    },
    {
     "name": "stderr",
     "output_type": "stream",
     "text": [
      "100%|█████████████████████████████████████████████| 3/3 [00:23<00:00,  7.87s/it]\n"
     ]
    },
    {
     "name": "stdout",
     "output_type": "stream",
     "text": [
      "{'metrics': [tensor([0.2758]), tensor([0.3846]), tensor([0.3861])], 'sums': [{'GT_sum': tensor(78585.), 'seg_sum': tensor(167512.)}, {'GT_sum': tensor(288187.), 'seg_sum': tensor(362165.)}, {'GT_sum': tensor(312637.), 'seg_sum': tensor(304948.)}]}\n",
      "Epoch 40/100\n"
     ]
    },
    {
     "name": "stderr",
     "output_type": "stream",
     "text": [
      "100%|███████████████████████████████████████████| 48/48 [01:01<00:00,  1.28s/it]\n"
     ]
    },
    {
     "name": "stdout",
     "output_type": "stream",
     "text": [
      "{'loss': 0.17900926573202014}\n"
     ]
    },
    {
     "name": "stderr",
     "output_type": "stream",
     "text": [
      "100%|█████████████████████████████████████████████| 3/3 [00:23<00:00,  7.91s/it]\n"
     ]
    },
    {
     "name": "stdout",
     "output_type": "stream",
     "text": [
      "{'metrics': [tensor([0.2666]), tensor([0.3853]), tensor([0.3956])], 'sums': [{'GT_sum': tensor(78585.), 'seg_sum': tensor(183025.)}, {'GT_sum': tensor(288187.), 'seg_sum': tensor(374497.)}, {'GT_sum': tensor(312637.), 'seg_sum': tensor(327888.)}]}\n",
      "Epoch 41/100\n"
     ]
    },
    {
     "name": "stderr",
     "output_type": "stream",
     "text": [
      "100%|███████████████████████████████████████████| 48/48 [01:02<00:00,  1.30s/it]\n"
     ]
    },
    {
     "name": "stdout",
     "output_type": "stream",
     "text": [
      "{'loss': 0.186353863372157}\n"
     ]
    },
    {
     "name": "stderr",
     "output_type": "stream",
     "text": [
      "100%|█████████████████████████████████████████████| 3/3 [00:23<00:00,  7.85s/it]\n"
     ]
    },
    {
     "name": "stdout",
     "output_type": "stream",
     "text": [
      "{'metrics': [tensor([0.2778]), tensor([0.3880]), tensor([0.3984])], 'sums': [{'GT_sum': tensor(78585.), 'seg_sum': tensor(170099.)}, {'GT_sum': tensor(288187.), 'seg_sum': tensor(357179.)}, {'GT_sum': tensor(312637.), 'seg_sum': tensor(303080.)}]}\n",
      "Epoch 42/100\n"
     ]
    },
    {
     "name": "stderr",
     "output_type": "stream",
     "text": [
      "100%|███████████████████████████████████████████| 48/48 [01:01<00:00,  1.28s/it]\n"
     ]
    },
    {
     "name": "stdout",
     "output_type": "stream",
     "text": [
      "{'loss': 0.1888187869141499}\n"
     ]
    },
    {
     "name": "stderr",
     "output_type": "stream",
     "text": [
      "100%|█████████████████████████████████████████████| 3/3 [00:23<00:00,  7.86s/it]\n"
     ]
    },
    {
     "name": "stdout",
     "output_type": "stream",
     "text": [
      "{'metrics': [tensor([0.2836]), tensor([0.3876]), tensor([0.3943])], 'sums': [{'GT_sum': tensor(78585.), 'seg_sum': tensor(159638.)}, {'GT_sum': tensor(288187.), 'seg_sum': tensor(356315.)}, {'GT_sum': tensor(312637.), 'seg_sum': tensor(296409.)}]}\n",
      "Epoch 43/100\n"
     ]
    },
    {
     "name": "stderr",
     "output_type": "stream",
     "text": [
      "100%|███████████████████████████████████████████| 48/48 [01:02<00:00,  1.30s/it]\n"
     ]
    },
    {
     "name": "stdout",
     "output_type": "stream",
     "text": [
      "{'loss': 0.18619478975112239}\n"
     ]
    },
    {
     "name": "stderr",
     "output_type": "stream",
     "text": [
      "100%|█████████████████████████████████████████████| 3/3 [00:23<00:00,  7.86s/it]\n"
     ]
    },
    {
     "name": "stdout",
     "output_type": "stream",
     "text": [
      "{'metrics': [tensor([0.2860]), tensor([0.3790]), tensor([0.3968])], 'sums': [{'GT_sum': tensor(78585.), 'seg_sum': tensor(159265.)}, {'GT_sum': tensor(288187.), 'seg_sum': tensor(375317.)}, {'GT_sum': tensor(312637.), 'seg_sum': tensor(308748.)}]}\n",
      "Epoch 44/100\n"
     ]
    },
    {
     "name": "stderr",
     "output_type": "stream",
     "text": [
      "100%|███████████████████████████████████████████| 48/48 [01:02<00:00,  1.30s/it]\n"
     ]
    },
    {
     "name": "stdout",
     "output_type": "stream",
     "text": [
      "{'loss': 0.18434238247573376}\n"
     ]
    },
    {
     "name": "stderr",
     "output_type": "stream",
     "text": [
      "100%|█████████████████████████████████████████████| 3/3 [00:23<00:00,  7.88s/it]\n"
     ]
    },
    {
     "name": "stdout",
     "output_type": "stream",
     "text": [
      "{'metrics': [tensor([0.2812]), tensor([0.3908]), tensor([0.3989])], 'sums': [{'GT_sum': tensor(78585.), 'seg_sum': tensor(165373.)}, {'GT_sum': tensor(288187.), 'seg_sum': tensor(350016.)}, {'GT_sum': tensor(312637.), 'seg_sum': tensor(295456.)}]}\n",
      "Epoch 45/100\n"
     ]
    },
    {
     "name": "stderr",
     "output_type": "stream",
     "text": [
      "100%|███████████████████████████████████████████| 48/48 [01:01<00:00,  1.28s/it]\n"
     ]
    },
    {
     "name": "stdout",
     "output_type": "stream",
     "text": [
      "{'loss': 0.17763031894961992}\n"
     ]
    },
    {
     "name": "stderr",
     "output_type": "stream",
     "text": [
      "100%|█████████████████████████████████████████████| 3/3 [00:23<00:00,  7.87s/it]\n"
     ]
    },
    {
     "name": "stdout",
     "output_type": "stream",
     "text": [
      "{'metrics': [tensor([0.2728]), tensor([0.3759]), tensor([0.3985])], 'sums': [{'GT_sum': tensor(78585.), 'seg_sum': tensor(187873.)}, {'GT_sum': tensor(288187.), 'seg_sum': tensor(389463.)}, {'GT_sum': tensor(312637.), 'seg_sum': tensor(331657.)}]}\n",
      "Epoch 46/100\n"
     ]
    },
    {
     "name": "stderr",
     "output_type": "stream",
     "text": [
      "100%|███████████████████████████████████████████| 48/48 [01:02<00:00,  1.31s/it]\n"
     ]
    },
    {
     "name": "stdout",
     "output_type": "stream",
     "text": [
      "{'loss': 0.18782198413585624}\n"
     ]
    },
    {
     "name": "stderr",
     "output_type": "stream",
     "text": [
      "100%|█████████████████████████████████████████████| 3/3 [00:23<00:00,  7.87s/it]\n"
     ]
    },
    {
     "name": "stdout",
     "output_type": "stream",
     "text": [
      "{'metrics': [tensor([0.2772]), tensor([0.3802]), tensor([0.4039])], 'sums': [{'GT_sum': tensor(78585.), 'seg_sum': tensor(176149.)}, {'GT_sum': tensor(288187.), 'seg_sum': tensor(367196.)}, {'GT_sum': tensor(312637.), 'seg_sum': tensor(314548.)}]}\n",
      "Epoch 47/100\n"
     ]
    },
    {
     "name": "stderr",
     "output_type": "stream",
     "text": [
      "100%|███████████████████████████████████████████| 48/48 [01:02<00:00,  1.30s/it]\n"
     ]
    },
    {
     "name": "stdout",
     "output_type": "stream",
     "text": [
      "{'loss': 0.19216916244477034}\n"
     ]
    },
    {
     "name": "stderr",
     "output_type": "stream",
     "text": [
      "100%|█████████████████████████████████████████████| 3/3 [00:23<00:00,  7.89s/it]\n"
     ]
    },
    {
     "name": "stdout",
     "output_type": "stream",
     "text": [
      "{'metrics': [tensor([0.2792]), tensor([0.3860]), tensor([0.3930])], 'sums': [{'GT_sum': tensor(78585.), 'seg_sum': tensor(169426.)}, {'GT_sum': tensor(288187.), 'seg_sum': tensor(364862.)}, {'GT_sum': tensor(312637.), 'seg_sum': tensor(307932.)}]}\n",
      "Epoch 48/100\n"
     ]
    },
    {
     "name": "stderr",
     "output_type": "stream",
     "text": [
      "100%|███████████████████████████████████████████| 48/48 [01:01<00:00,  1.27s/it]\n"
     ]
    },
    {
     "name": "stdout",
     "output_type": "stream",
     "text": [
      "{'loss': 0.18034532076368728}\n"
     ]
    },
    {
     "name": "stderr",
     "output_type": "stream",
     "text": [
      "100%|█████████████████████████████████████████████| 3/3 [00:23<00:00,  7.89s/it]\n"
     ]
    },
    {
     "name": "stdout",
     "output_type": "stream",
     "text": [
      "{'metrics': [tensor([0.2801]), tensor([0.3912]), tensor([0.4053])], 'sums': [{'GT_sum': tensor(78585.), 'seg_sum': tensor(171113.)}, {'GT_sum': tensor(288187.), 'seg_sum': tensor(346766.)}, {'GT_sum': tensor(312637.), 'seg_sum': tensor(297956.)}]}\n",
      "Epoch 49/100\n"
     ]
    },
    {
     "name": "stderr",
     "output_type": "stream",
     "text": [
      "100%|███████████████████████████████████████████| 48/48 [01:01<00:00,  1.28s/it]\n"
     ]
    },
    {
     "name": "stdout",
     "output_type": "stream",
     "text": [
      "{'loss': 0.17953857593238354}\n"
     ]
    },
    {
     "name": "stderr",
     "output_type": "stream",
     "text": [
      "100%|█████████████████████████████████████████████| 3/3 [00:23<00:00,  7.87s/it]\n"
     ]
    },
    {
     "name": "stdout",
     "output_type": "stream",
     "text": [
      "{'metrics': [tensor([0.2827]), tensor([0.3924]), tensor([0.3997])], 'sums': [{'GT_sum': tensor(78585.), 'seg_sum': tensor(164566.)}, {'GT_sum': tensor(288187.), 'seg_sum': tensor(343765.)}, {'GT_sum': tensor(312637.), 'seg_sum': tensor(291497.)}]}\n",
      "Epoch 50/100\n"
     ]
    },
    {
     "name": "stderr",
     "output_type": "stream",
     "text": [
      "100%|███████████████████████████████████████████| 48/48 [01:02<00:00,  1.31s/it]\n"
     ]
    },
    {
     "name": "stdout",
     "output_type": "stream",
     "text": [
      "{'loss': 0.18617097785075506}\n"
     ]
    },
    {
     "name": "stderr",
     "output_type": "stream",
     "text": [
      "100%|█████████████████████████████████████████████| 3/3 [00:23<00:00,  7.88s/it]\n"
     ]
    },
    {
     "name": "stdout",
     "output_type": "stream",
     "text": [
      "{'metrics': [tensor([0.2744]), tensor([0.3779]), tensor([0.4120])], 'sums': [{'GT_sum': tensor(78585.), 'seg_sum': tensor(181611.)}, {'GT_sum': tensor(288187.), 'seg_sum': tensor(376262.)}, {'GT_sum': tensor(312637.), 'seg_sum': tensor(330927.)}]}\n",
      "Epoch 51/100\n"
     ]
    },
    {
     "name": "stderr",
     "output_type": "stream",
     "text": [
      "100%|███████████████████████████████████████████| 48/48 [01:01<00:00,  1.28s/it]\n"
     ]
    },
    {
     "name": "stdout",
     "output_type": "stream",
     "text": [
      "{'loss': 0.18716949597001076}\n"
     ]
    },
    {
     "name": "stderr",
     "output_type": "stream",
     "text": [
      "100%|█████████████████████████████████████████████| 3/3 [00:23<00:00,  7.89s/it]\n"
     ]
    },
    {
     "name": "stdout",
     "output_type": "stream",
     "text": [
      "{'metrics': [tensor([0.2796]), tensor([0.3787]), tensor([0.4083])], 'sums': [{'GT_sum': tensor(78585.), 'seg_sum': tensor(173285.)}, {'GT_sum': tensor(288187.), 'seg_sum': tensor(368939.)}, {'GT_sum': tensor(312637.), 'seg_sum': tensor(313310.)}]}\n",
      "Epoch 52/100\n"
     ]
    },
    {
     "name": "stderr",
     "output_type": "stream",
     "text": [
      "100%|███████████████████████████████████████████| 48/48 [01:02<00:00,  1.29s/it]\n"
     ]
    },
    {
     "name": "stdout",
     "output_type": "stream",
     "text": [
      "{'loss': 0.1819377327337861}\n"
     ]
    },
    {
     "name": "stderr",
     "output_type": "stream",
     "text": [
      "100%|█████████████████████████████████████████████| 3/3 [00:23<00:00,  7.88s/it]\n"
     ]
    },
    {
     "name": "stdout",
     "output_type": "stream",
     "text": [
      "{'metrics': [tensor([0.2814]), tensor([0.3869]), tensor([0.3889])], 'sums': [{'GT_sum': tensor(78585.), 'seg_sum': tensor(164618.)}, {'GT_sum': tensor(288187.), 'seg_sum': tensor(368701.)}, {'GT_sum': tensor(312637.), 'seg_sum': tensor(310024.)}]}\n",
      "Epoch 53/100\n"
     ]
    },
    {
     "name": "stderr",
     "output_type": "stream",
     "text": [
      "100%|███████████████████████████████████████████| 48/48 [01:01<00:00,  1.27s/it]\n"
     ]
    },
    {
     "name": "stdout",
     "output_type": "stream",
     "text": [
      "{'loss': 0.2005066073810061}\n"
     ]
    },
    {
     "name": "stderr",
     "output_type": "stream",
     "text": [
      "100%|█████████████████████████████████████████████| 3/3 [00:23<00:00,  7.88s/it]\n"
     ]
    },
    {
     "name": "stdout",
     "output_type": "stream",
     "text": [
      "{'metrics': [tensor([0.2890]), tensor([0.3888]), tensor([0.3968])], 'sums': [{'GT_sum': tensor(78585.), 'seg_sum': tensor(158943.)}, {'GT_sum': tensor(288187.), 'seg_sum': tensor(355516.)}, {'GT_sum': tensor(312637.), 'seg_sum': tensor(291424.)}]}\n",
      "Epoch 54/100\n"
     ]
    },
    {
     "name": "stderr",
     "output_type": "stream",
     "text": [
      "100%|███████████████████████████████████████████| 48/48 [01:02<00:00,  1.30s/it]\n"
     ]
    },
    {
     "name": "stdout",
     "output_type": "stream",
     "text": [
      "{'loss': 0.1782064662935833}\n"
     ]
    },
    {
     "name": "stderr",
     "output_type": "stream",
     "text": [
      "100%|█████████████████████████████████████████████| 3/3 [00:23<00:00,  7.90s/it]\n"
     ]
    },
    {
     "name": "stdout",
     "output_type": "stream",
     "text": [
      "{'metrics': [tensor([0.2768]), tensor([0.3752]), tensor([0.4077])], 'sums': [{'GT_sum': tensor(78585.), 'seg_sum': tensor(172840.)}, {'GT_sum': tensor(288187.), 'seg_sum': tensor(380264.)}, {'GT_sum': tensor(312637.), 'seg_sum': tensor(323566.)}]}\n",
      "Epoch 55/100\n"
     ]
    },
    {
     "name": "stderr",
     "output_type": "stream",
     "text": [
      "100%|███████████████████████████████████████████| 48/48 [01:02<00:00,  1.29s/it]\n"
     ]
    },
    {
     "name": "stdout",
     "output_type": "stream",
     "text": [
      "{'loss': 0.1908454829826951}\n"
     ]
    },
    {
     "name": "stderr",
     "output_type": "stream",
     "text": [
      "100%|█████████████████████████████████████████████| 3/3 [00:23<00:00,  7.88s/it]\n"
     ]
    },
    {
     "name": "stdout",
     "output_type": "stream",
     "text": [
      "{'metrics': [tensor([0.2789]), tensor([0.3745]), tensor([0.4027])], 'sums': [{'GT_sum': tensor(78585.), 'seg_sum': tensor(178718.)}, {'GT_sum': tensor(288187.), 'seg_sum': tensor(391656.)}, {'GT_sum': tensor(312637.), 'seg_sum': tensor(330199.)}]}\n",
      "Epoch 56/100\n"
     ]
    },
    {
     "name": "stderr",
     "output_type": "stream",
     "text": [
      "100%|███████████████████████████████████████████| 48/48 [01:01<00:00,  1.29s/it]\n"
     ]
    },
    {
     "name": "stdout",
     "output_type": "stream",
     "text": [
      "{'loss': 0.18190941493958235}\n"
     ]
    },
    {
     "name": "stderr",
     "output_type": "stream",
     "text": [
      "100%|█████████████████████████████████████████████| 3/3 [00:23<00:00,  7.87s/it]\n"
     ]
    },
    {
     "name": "stdout",
     "output_type": "stream",
     "text": [
      "{'metrics': [tensor([0.2851]), tensor([0.3799]), tensor([0.4063])], 'sums': [{'GT_sum': tensor(78585.), 'seg_sum': tensor(167664.)}, {'GT_sum': tensor(288187.), 'seg_sum': tensor(361839.)}, {'GT_sum': tensor(312637.), 'seg_sum': tensor(300124.)}]}\n",
      "Epoch 57/100\n"
     ]
    },
    {
     "name": "stderr",
     "output_type": "stream",
     "text": [
      "100%|███████████████████████████████████████████| 48/48 [01:01<00:00,  1.29s/it]\n"
     ]
    },
    {
     "name": "stdout",
     "output_type": "stream",
     "text": [
      "{'loss': 0.18050318537279963}\n"
     ]
    },
    {
     "name": "stderr",
     "output_type": "stream",
     "text": [
      "100%|█████████████████████████████████████████████| 3/3 [00:23<00:00,  7.86s/it]\n"
     ]
    },
    {
     "name": "stdout",
     "output_type": "stream",
     "text": [
      "{'metrics': [tensor([0.2790]), tensor([0.3808]), tensor([0.4056])], 'sums': [{'GT_sum': tensor(78585.), 'seg_sum': tensor(175420.)}, {'GT_sum': tensor(288187.), 'seg_sum': tensor(372037.)}, {'GT_sum': tensor(312637.), 'seg_sum': tensor(318813.)}]}\n",
      "Epoch 58/100\n"
     ]
    },
    {
     "name": "stderr",
     "output_type": "stream",
     "text": [
      "100%|███████████████████████████████████████████| 48/48 [01:02<00:00,  1.30s/it]\n"
     ]
    },
    {
     "name": "stdout",
     "output_type": "stream",
     "text": [
      "{'loss': 0.183220438969632}\n"
     ]
    },
    {
     "name": "stderr",
     "output_type": "stream",
     "text": [
      "100%|█████████████████████████████████████████████| 3/3 [00:23<00:00,  7.87s/it]\n"
     ]
    },
    {
     "name": "stdout",
     "output_type": "stream",
     "text": [
      "{'metrics': [tensor([0.2889]), tensor([0.3841]), tensor([0.3980])], 'sums': [{'GT_sum': tensor(78585.), 'seg_sum': tensor(161510.)}, {'GT_sum': tensor(288187.), 'seg_sum': tensor(360672.)}, {'GT_sum': tensor(312637.), 'seg_sum': tensor(294262.)}]}\n",
      "Epoch 59/100\n"
     ]
    },
    {
     "name": "stderr",
     "output_type": "stream",
     "text": [
      "100%|███████████████████████████████████████████| 48/48 [01:02<00:00,  1.30s/it]\n"
     ]
    },
    {
     "name": "stdout",
     "output_type": "stream",
     "text": [
      "{'loss': 0.18149681094413003}\n"
     ]
    },
    {
     "name": "stderr",
     "output_type": "stream",
     "text": [
      "100%|█████████████████████████████████████████████| 3/3 [00:23<00:00,  7.88s/it]\n"
     ]
    },
    {
     "name": "stdout",
     "output_type": "stream",
     "text": [
      "{'metrics': [tensor([0.2860]), tensor([0.3874]), tensor([0.4037])], 'sums': [{'GT_sum': tensor(78585.), 'seg_sum': tensor(166116.)}, {'GT_sum': tensor(288187.), 'seg_sum': tensor(351034.)}, {'GT_sum': tensor(312637.), 'seg_sum': tensor(297217.)}]}\n",
      "Epoch 60/100\n"
     ]
    },
    {
     "name": "stderr",
     "output_type": "stream",
     "text": [
      "100%|███████████████████████████████████████████| 48/48 [01:01<00:00,  1.29s/it]\n"
     ]
    },
    {
     "name": "stdout",
     "output_type": "stream",
     "text": [
      "{'loss': 0.18322840224330625}\n"
     ]
    },
    {
     "name": "stderr",
     "output_type": "stream",
     "text": [
      "100%|█████████████████████████████████████████████| 3/3 [00:23<00:00,  7.88s/it]\n"
     ]
    },
    {
     "name": "stdout",
     "output_type": "stream",
     "text": [
      "{'metrics': [tensor([0.2838]), tensor([0.3800]), tensor([0.4013])], 'sums': [{'GT_sum': tensor(78585.), 'seg_sum': tensor(167684.)}, {'GT_sum': tensor(288187.), 'seg_sum': tensor(371119.)}, {'GT_sum': tensor(312637.), 'seg_sum': tensor(312226.)}]}\n",
      "Epoch 61/100\n"
     ]
    },
    {
     "name": "stderr",
     "output_type": "stream",
     "text": [
      "100%|███████████████████████████████████████████| 48/48 [01:02<00:00,  1.30s/it]\n"
     ]
    },
    {
     "name": "stdout",
     "output_type": "stream",
     "text": [
      "{'loss': 0.18975647228459516}\n"
     ]
    },
    {
     "name": "stderr",
     "output_type": "stream",
     "text": [
      "100%|█████████████████████████████████████████████| 3/3 [00:23<00:00,  7.89s/it]\n"
     ]
    },
    {
     "name": "stdout",
     "output_type": "stream",
     "text": [
      "{'metrics': [tensor([0.2823]), tensor([0.3727]), tensor([0.4011])], 'sums': [{'GT_sum': tensor(78585.), 'seg_sum': tensor(169914.)}, {'GT_sum': tensor(288187.), 'seg_sum': tensor(383664.)}, {'GT_sum': tensor(312637.), 'seg_sum': tensor(318400.)}]}\n",
      "Epoch 62/100\n"
     ]
    },
    {
     "name": "stderr",
     "output_type": "stream",
     "text": [
      "100%|███████████████████████████████████████████| 48/48 [01:02<00:00,  1.30s/it]\n"
     ]
    },
    {
     "name": "stdout",
     "output_type": "stream",
     "text": [
      "{'loss': 0.18151524802669883}\n"
     ]
    },
    {
     "name": "stderr",
     "output_type": "stream",
     "text": [
      "100%|█████████████████████████████████████████████| 3/3 [00:23<00:00,  7.88s/it]\n"
     ]
    },
    {
     "name": "stdout",
     "output_type": "stream",
     "text": [
      "{'metrics': [tensor([0.2861]), tensor([0.3786]), tensor([0.4079])], 'sums': [{'GT_sum': tensor(78585.), 'seg_sum': tensor(168141.)}, {'GT_sum': tensor(288187.), 'seg_sum': tensor(366949.)}, {'GT_sum': tensor(312637.), 'seg_sum': tensor(307098.)}]}\n",
      "Epoch 63/100\n"
     ]
    },
    {
     "name": "stderr",
     "output_type": "stream",
     "text": [
      "100%|███████████████████████████████████████████| 48/48 [01:01<00:00,  1.29s/it]\n"
     ]
    },
    {
     "name": "stdout",
     "output_type": "stream",
     "text": [
      "{'loss': 0.17817752358193198}\n"
     ]
    },
    {
     "name": "stderr",
     "output_type": "stream",
     "text": [
      "100%|█████████████████████████████████████████████| 3/3 [00:23<00:00,  7.87s/it]\n"
     ]
    },
    {
     "name": "stdout",
     "output_type": "stream",
     "text": [
      "{'metrics': [tensor([0.2783]), tensor([0.3740]), tensor([0.4005])], 'sums': [{'GT_sum': tensor(78585.), 'seg_sum': tensor(172616.)}, {'GT_sum': tensor(288187.), 'seg_sum': tensor(384646.)}, {'GT_sum': tensor(312637.), 'seg_sum': tensor(323177.)}]}\n",
      "Epoch 64/100\n"
     ]
    },
    {
     "name": "stderr",
     "output_type": "stream",
     "text": [
      "100%|███████████████████████████████████████████| 48/48 [01:01<00:00,  1.29s/it]\n"
     ]
    },
    {
     "name": "stdout",
     "output_type": "stream",
     "text": [
      "{'loss': 0.18611604875574508}\n"
     ]
    },
    {
     "name": "stderr",
     "output_type": "stream",
     "text": [
      "100%|█████████████████████████████████████████████| 3/3 [00:23<00:00,  7.89s/it]\n"
     ]
    },
    {
     "name": "stdout",
     "output_type": "stream",
     "text": [
      "{'metrics': [tensor([0.2826]), tensor([0.3883]), tensor([0.4020])], 'sums': [{'GT_sum': tensor(78585.), 'seg_sum': tensor(165371.)}, {'GT_sum': tensor(288187.), 'seg_sum': tensor(353236.)}, {'GT_sum': tensor(312637.), 'seg_sum': tensor(300874.)}]}\n",
      "Epoch 65/100\n"
     ]
    },
    {
     "name": "stderr",
     "output_type": "stream",
     "text": [
      "100%|███████████████████████████████████████████| 48/48 [01:01<00:00,  1.29s/it]\n"
     ]
    },
    {
     "name": "stdout",
     "output_type": "stream",
     "text": [
      "{'loss': 0.18308134019995728}\n"
     ]
    },
    {
     "name": "stderr",
     "output_type": "stream",
     "text": [
      "100%|█████████████████████████████████████████████| 3/3 [00:23<00:00,  7.86s/it]\n"
     ]
    },
    {
     "name": "stdout",
     "output_type": "stream",
     "text": [
      "{'metrics': [tensor([0.2826]), tensor([0.3786]), tensor([0.4102])], 'sums': [{'GT_sum': tensor(78585.), 'seg_sum': tensor(171717.)}, {'GT_sum': tensor(288187.), 'seg_sum': tensor(366438.)}, {'GT_sum': tensor(312637.), 'seg_sum': tensor(306578.)}]}\n",
      "Epoch 66/100\n"
     ]
    },
    {
     "name": "stderr",
     "output_type": "stream",
     "text": [
      "100%|███████████████████████████████████████████| 48/48 [01:01<00:00,  1.29s/it]\n"
     ]
    },
    {
     "name": "stdout",
     "output_type": "stream",
     "text": [
      "{'loss': 0.18476545298472047}\n"
     ]
    },
    {
     "name": "stderr",
     "output_type": "stream",
     "text": [
      "100%|█████████████████████████████████████████████| 3/3 [00:23<00:00,  7.88s/it]\n"
     ]
    },
    {
     "name": "stdout",
     "output_type": "stream",
     "text": [
      "{'metrics': [tensor([0.2780]), tensor([0.3781]), tensor([0.3993])], 'sums': [{'GT_sum': tensor(78585.), 'seg_sum': tensor(173853.)}, {'GT_sum': tensor(288187.), 'seg_sum': tensor(379685.)}, {'GT_sum': tensor(312637.), 'seg_sum': tensor(325697.)}]}\n",
      "Epoch 67/100\n"
     ]
    },
    {
     "name": "stderr",
     "output_type": "stream",
     "text": [
      "100%|███████████████████████████████████████████| 48/48 [01:02<00:00,  1.30s/it]\n"
     ]
    },
    {
     "name": "stdout",
     "output_type": "stream",
     "text": [
      "{'loss': 0.177688283380121}\n"
     ]
    },
    {
     "name": "stderr",
     "output_type": "stream",
     "text": [
      "100%|█████████████████████████████████████████████| 3/3 [00:23<00:00,  7.85s/it]\n"
     ]
    },
    {
     "name": "stdout",
     "output_type": "stream",
     "text": [
      "{'metrics': [tensor([0.2799]), tensor([0.3802]), tensor([0.4021])], 'sums': [{'GT_sum': tensor(78585.), 'seg_sum': tensor(170623.)}, {'GT_sum': tensor(288187.), 'seg_sum': tensor(365905.)}, {'GT_sum': tensor(312637.), 'seg_sum': tensor(307903.)}]}\n",
      "Epoch 68/100\n"
     ]
    },
    {
     "name": "stderr",
     "output_type": "stream",
     "text": [
      "100%|███████████████████████████████████████████| 48/48 [01:01<00:00,  1.29s/it]\n"
     ]
    },
    {
     "name": "stdout",
     "output_type": "stream",
     "text": [
      "{'loss': 0.18554817093536258}\n"
     ]
    },
    {
     "name": "stderr",
     "output_type": "stream",
     "text": [
      "100%|█████████████████████████████████████████████| 3/3 [00:23<00:00,  7.91s/it]\n"
     ]
    },
    {
     "name": "stdout",
     "output_type": "stream",
     "text": [
      "{'metrics': [tensor([0.2792]), tensor([0.3774]), tensor([0.4085])], 'sums': [{'GT_sum': tensor(78585.), 'seg_sum': tensor(177135.)}, {'GT_sum': tensor(288187.), 'seg_sum': tensor(374307.)}, {'GT_sum': tensor(312637.), 'seg_sum': tensor(317731.)}]}\n",
      "Epoch 69/100\n"
     ]
    },
    {
     "name": "stderr",
     "output_type": "stream",
     "text": [
      "100%|███████████████████████████████████████████| 48/48 [01:01<00:00,  1.28s/it]\n"
     ]
    },
    {
     "name": "stdout",
     "output_type": "stream",
     "text": [
      "{'loss': 0.17605465122809014}\n"
     ]
    },
    {
     "name": "stderr",
     "output_type": "stream",
     "text": [
      "100%|█████████████████████████████████████████████| 3/3 [00:23<00:00,  7.89s/it]\n"
     ]
    },
    {
     "name": "stdout",
     "output_type": "stream",
     "text": [
      "{'metrics': [tensor([0.2775]), tensor([0.3819]), tensor([0.4036])], 'sums': [{'GT_sum': tensor(78585.), 'seg_sum': tensor(175656.)}, {'GT_sum': tensor(288187.), 'seg_sum': tensor(367020.)}, {'GT_sum': tensor(312637.), 'seg_sum': tensor(320764.)}]}\n",
      "Epoch 70/100\n"
     ]
    },
    {
     "name": "stderr",
     "output_type": "stream",
     "text": [
      "100%|███████████████████████████████████████████| 48/48 [01:01<00:00,  1.29s/it]\n"
     ]
    },
    {
     "name": "stdout",
     "output_type": "stream",
     "text": [
      "{'loss': 0.17818633498003086}\n"
     ]
    },
    {
     "name": "stderr",
     "output_type": "stream",
     "text": [
      "100%|█████████████████████████████████████████████| 3/3 [00:23<00:00,  7.88s/it]\n"
     ]
    },
    {
     "name": "stdout",
     "output_type": "stream",
     "text": [
      "{'metrics': [tensor([0.2821]), tensor([0.3879]), tensor([0.4056])], 'sums': [{'GT_sum': tensor(78585.), 'seg_sum': tensor(170141.)}, {'GT_sum': tensor(288187.), 'seg_sum': tensor(353345.)}, {'GT_sum': tensor(312637.), 'seg_sum': tensor(300774.)}]}\n",
      "Epoch 71/100\n"
     ]
    },
    {
     "name": "stderr",
     "output_type": "stream",
     "text": [
      "100%|███████████████████████████████████████████| 48/48 [01:01<00:00,  1.28s/it]\n"
     ]
    },
    {
     "name": "stdout",
     "output_type": "stream",
     "text": [
      "{'loss': 0.17630758803958693}\n"
     ]
    },
    {
     "name": "stderr",
     "output_type": "stream",
     "text": [
      "100%|█████████████████████████████████████████████| 3/3 [00:23<00:00,  7.89s/it]\n"
     ]
    },
    {
     "name": "stdout",
     "output_type": "stream",
     "text": [
      "{'metrics': [tensor([0.2849]), tensor([0.3858]), tensor([0.4055])], 'sums': [{'GT_sum': tensor(78585.), 'seg_sum': tensor(168207.)}, {'GT_sum': tensor(288187.), 'seg_sum': tensor(361017.)}, {'GT_sum': tensor(312637.), 'seg_sum': tensor(306774.)}]}\n",
      "Epoch 72/100\n"
     ]
    },
    {
     "name": "stderr",
     "output_type": "stream",
     "text": [
      "100%|███████████████████████████████████████████| 48/48 [01:01<00:00,  1.28s/it]\n"
     ]
    },
    {
     "name": "stdout",
     "output_type": "stream",
     "text": [
      "{'loss': 0.1793333444123467}\n"
     ]
    },
    {
     "name": "stderr",
     "output_type": "stream",
     "text": [
      "100%|█████████████████████████████████████████████| 3/3 [00:23<00:00,  7.85s/it]\n"
     ]
    },
    {
     "name": "stdout",
     "output_type": "stream",
     "text": [
      "{'metrics': [tensor([0.2828]), tensor([0.3883]), tensor([0.4030])], 'sums': [{'GT_sum': tensor(78585.), 'seg_sum': tensor(167314.)}, {'GT_sum': tensor(288187.), 'seg_sum': tensor(356082.)}, {'GT_sum': tensor(312637.), 'seg_sum': tensor(308453.)}]}\n",
      "Epoch 73/100\n"
     ]
    },
    {
     "name": "stderr",
     "output_type": "stream",
     "text": [
      "100%|███████████████████████████████████████████| 48/48 [01:02<00:00,  1.31s/it]\n"
     ]
    },
    {
     "name": "stdout",
     "output_type": "stream",
     "text": [
      "{'loss': 0.1826386273217698}\n"
     ]
    },
    {
     "name": "stderr",
     "output_type": "stream",
     "text": [
      "100%|█████████████████████████████████████████████| 3/3 [00:23<00:00,  7.88s/it]\n"
     ]
    },
    {
     "name": "stdout",
     "output_type": "stream",
     "text": [
      "{'metrics': [tensor([0.2778]), tensor([0.3728]), tensor([0.4028])], 'sums': [{'GT_sum': tensor(78585.), 'seg_sum': tensor(176352.)}, {'GT_sum': tensor(288187.), 'seg_sum': tensor(388636.)}, {'GT_sum': tensor(312637.), 'seg_sum': tensor(330431.)}]}\n",
      "Epoch 74/100\n"
     ]
    },
    {
     "name": "stderr",
     "output_type": "stream",
     "text": [
      "100%|███████████████████████████████████████████| 48/48 [01:02<00:00,  1.30s/it]\n"
     ]
    },
    {
     "name": "stdout",
     "output_type": "stream",
     "text": [
      "{'loss': 0.1757681251813968}\n"
     ]
    },
    {
     "name": "stderr",
     "output_type": "stream",
     "text": [
      "100%|█████████████████████████████████████████████| 3/3 [00:23<00:00,  7.86s/it]\n"
     ]
    },
    {
     "name": "stdout",
     "output_type": "stream",
     "text": [
      "{'metrics': [tensor([0.2836]), tensor([0.3786]), tensor([0.4030])], 'sums': [{'GT_sum': tensor(78585.), 'seg_sum': tensor(168534.)}, {'GT_sum': tensor(288187.), 'seg_sum': tensor(368315.)}, {'GT_sum': tensor(312637.), 'seg_sum': tensor(307848.)}]}\n",
      "Epoch 75/100\n"
     ]
    },
    {
     "name": "stderr",
     "output_type": "stream",
     "text": [
      "100%|███████████████████████████████████████████| 48/48 [01:01<00:00,  1.28s/it]\n"
     ]
    },
    {
     "name": "stdout",
     "output_type": "stream",
     "text": [
      "{'loss': 0.1772750255962213}\n"
     ]
    },
    {
     "name": "stderr",
     "output_type": "stream",
     "text": [
      "100%|█████████████████████████████████████████████| 3/3 [00:23<00:00,  7.92s/it]\n"
     ]
    },
    {
     "name": "stdout",
     "output_type": "stream",
     "text": [
      "{'metrics': [tensor([0.2822]), tensor([0.3799]), tensor([0.3997])], 'sums': [{'GT_sum': tensor(78585.), 'seg_sum': tensor(168317.)}, {'GT_sum': tensor(288187.), 'seg_sum': tensor(372426.)}, {'GT_sum': tensor(312637.), 'seg_sum': tensor(311983.)}]}\n",
      "Epoch 76/100\n"
     ]
    },
    {
     "name": "stderr",
     "output_type": "stream",
     "text": [
      "100%|███████████████████████████████████████████| 48/48 [01:01<00:00,  1.29s/it]\n"
     ]
    },
    {
     "name": "stdout",
     "output_type": "stream",
     "text": [
      "{'loss': 0.1734584664615492}\n"
     ]
    },
    {
     "name": "stderr",
     "output_type": "stream",
     "text": [
      "100%|█████████████████████████████████████████████| 3/3 [00:23<00:00,  7.89s/it]\n"
     ]
    },
    {
     "name": "stdout",
     "output_type": "stream",
     "text": [
      "{'metrics': [tensor([0.2778]), tensor([0.3859]), tensor([0.4057])], 'sums': [{'GT_sum': tensor(78585.), 'seg_sum': tensor(175118.)}, {'GT_sum': tensor(288187.), 'seg_sum': tensor(359360.)}, {'GT_sum': tensor(312637.), 'seg_sum': tensor(314566.)}]}\n",
      "Epoch 77/100\n"
     ]
    },
    {
     "name": "stderr",
     "output_type": "stream",
     "text": [
      "100%|███████████████████████████████████████████| 48/48 [01:01<00:00,  1.28s/it]\n"
     ]
    },
    {
     "name": "stdout",
     "output_type": "stream",
     "text": [
      "{'loss': 0.17460904363542795}\n"
     ]
    },
    {
     "name": "stderr",
     "output_type": "stream",
     "text": [
      "100%|█████████████████████████████████████████████| 3/3 [00:23<00:00,  7.88s/it]\n"
     ]
    },
    {
     "name": "stdout",
     "output_type": "stream",
     "text": [
      "{'metrics': [tensor([0.2852]), tensor([0.3852]), tensor([0.3989])], 'sums': [{'GT_sum': tensor(78585.), 'seg_sum': tensor(166250.)}, {'GT_sum': tensor(288187.), 'seg_sum': tensor(363732.)}, {'GT_sum': tensor(312637.), 'seg_sum': tensor(303099.)}]}\n",
      "Epoch 78/100\n"
     ]
    },
    {
     "name": "stderr",
     "output_type": "stream",
     "text": [
      "100%|███████████████████████████████████████████| 48/48 [01:01<00:00,  1.29s/it]\n"
     ]
    },
    {
     "name": "stdout",
     "output_type": "stream",
     "text": [
      "{'loss': 0.1847533251469334}\n"
     ]
    },
    {
     "name": "stderr",
     "output_type": "stream",
     "text": [
      "100%|█████████████████████████████████████████████| 3/3 [00:23<00:00,  7.87s/it]\n"
     ]
    },
    {
     "name": "stdout",
     "output_type": "stream",
     "text": [
      "{'metrics': [tensor([0.2861]), tensor([0.3894]), tensor([0.3950])], 'sums': [{'GT_sum': tensor(78585.), 'seg_sum': tensor(162532.)}, {'GT_sum': tensor(288187.), 'seg_sum': tensor(355025.)}, {'GT_sum': tensor(312637.), 'seg_sum': tensor(297000.)}]}\n",
      "Epoch 79/100\n"
     ]
    },
    {
     "name": "stderr",
     "output_type": "stream",
     "text": [
      "100%|███████████████████████████████████████████| 48/48 [01:02<00:00,  1.31s/it]\n"
     ]
    },
    {
     "name": "stdout",
     "output_type": "stream",
     "text": [
      "{'loss': 0.17951941334952912}\n"
     ]
    },
    {
     "name": "stderr",
     "output_type": "stream",
     "text": [
      "100%|█████████████████████████████████████████████| 3/3 [00:23<00:00,  7.89s/it]\n"
     ]
    },
    {
     "name": "stdout",
     "output_type": "stream",
     "text": [
      "{'metrics': [tensor([0.2723]), tensor([0.3779]), tensor([0.3981])], 'sums': [{'GT_sum': tensor(78585.), 'seg_sum': tensor(177708.)}, {'GT_sum': tensor(288187.), 'seg_sum': tensor(385407.)}, {'GT_sum': tensor(312637.), 'seg_sum': tensor(330306.)}]}\n",
      "Epoch 80/100\n"
     ]
    },
    {
     "name": "stderr",
     "output_type": "stream",
     "text": [
      "100%|███████████████████████████████████████████| 48/48 [01:01<00:00,  1.29s/it]\n"
     ]
    },
    {
     "name": "stdout",
     "output_type": "stream",
     "text": [
      "{'loss': 0.17640212348972759}\n"
     ]
    },
    {
     "name": "stderr",
     "output_type": "stream",
     "text": [
      "100%|█████████████████████████████████████████████| 3/3 [00:23<00:00,  7.90s/it]\n"
     ]
    },
    {
     "name": "stdout",
     "output_type": "stream",
     "text": [
      "{'metrics': [tensor([0.2824]), tensor([0.3751]), tensor([0.3951])], 'sums': [{'GT_sum': tensor(78585.), 'seg_sum': tensor(168114.)}, {'GT_sum': tensor(288187.), 'seg_sum': tensor(383361.)}, {'GT_sum': tensor(312637.), 'seg_sum': tensor(310925.)}]}\n",
      "Epoch 81/100\n"
     ]
    },
    {
     "name": "stderr",
     "output_type": "stream",
     "text": [
      "100%|███████████████████████████████████████████| 48/48 [01:02<00:00,  1.30s/it]\n"
     ]
    },
    {
     "name": "stdout",
     "output_type": "stream",
     "text": [
      "{'loss': 0.17772841515640417}\n"
     ]
    },
    {
     "name": "stderr",
     "output_type": "stream",
     "text": [
      "100%|█████████████████████████████████████████████| 3/3 [00:23<00:00,  7.89s/it]\n"
     ]
    },
    {
     "name": "stdout",
     "output_type": "stream",
     "text": [
      "{'metrics': [tensor([0.2723]), tensor([0.3774]), tensor([0.4012])], 'sums': [{'GT_sum': tensor(78585.), 'seg_sum': tensor(183094.)}, {'GT_sum': tensor(288187.), 'seg_sum': tensor(391381.)}, {'GT_sum': tensor(312637.), 'seg_sum': tensor(341228.)}]}\n",
      "Epoch 82/100\n"
     ]
    },
    {
     "name": "stderr",
     "output_type": "stream",
     "text": [
      "100%|███████████████████████████████████████████| 48/48 [01:02<00:00,  1.30s/it]\n"
     ]
    },
    {
     "name": "stdout",
     "output_type": "stream",
     "text": [
      "{'loss': 0.1864835930367311}\n"
     ]
    },
    {
     "name": "stderr",
     "output_type": "stream",
     "text": [
      "100%|█████████████████████████████████████████████| 3/3 [00:23<00:00,  7.89s/it]\n"
     ]
    },
    {
     "name": "stdout",
     "output_type": "stream",
     "text": [
      "{'metrics': [tensor([0.2714]), tensor([0.3837]), tensor([0.3970])], 'sums': [{'GT_sum': tensor(78585.), 'seg_sum': tensor(180661.)}, {'GT_sum': tensor(288187.), 'seg_sum': tensor(374485.)}, {'GT_sum': tensor(312637.), 'seg_sum': tensor(324472.)}]}\n",
      "Epoch 83/100\n"
     ]
    },
    {
     "name": "stderr",
     "output_type": "stream",
     "text": [
      "100%|███████████████████████████████████████████| 48/48 [01:02<00:00,  1.30s/it]\n"
     ]
    },
    {
     "name": "stdout",
     "output_type": "stream",
     "text": [
      "{'loss': 0.18079294838632146}\n"
     ]
    },
    {
     "name": "stderr",
     "output_type": "stream",
     "text": [
      "100%|█████████████████████████████████████████████| 3/3 [00:23<00:00,  7.89s/it]\n"
     ]
    },
    {
     "name": "stdout",
     "output_type": "stream",
     "text": [
      "{'metrics': [tensor([0.2809]), tensor([0.3801]), tensor([0.4092])], 'sums': [{'GT_sum': tensor(78585.), 'seg_sum': tensor(175299.)}, {'GT_sum': tensor(288187.), 'seg_sum': tensor(367655.)}, {'GT_sum': tensor(312637.), 'seg_sum': tensor(315072.)}]}\n",
      "Epoch 84/100\n"
     ]
    },
    {
     "name": "stderr",
     "output_type": "stream",
     "text": [
      "100%|███████████████████████████████████████████| 48/48 [01:02<00:00,  1.30s/it]\n"
     ]
    },
    {
     "name": "stdout",
     "output_type": "stream",
     "text": [
      "{'loss': 0.17917527398094535}\n"
     ]
    },
    {
     "name": "stderr",
     "output_type": "stream",
     "text": [
      "100%|█████████████████████████████████████████████| 3/3 [00:23<00:00,  7.89s/it]\n"
     ]
    },
    {
     "name": "stdout",
     "output_type": "stream",
     "text": [
      "{'metrics': [tensor([0.2924]), tensor([0.3907]), tensor([0.4030])], 'sums': [{'GT_sum': tensor(78585.), 'seg_sum': tensor(158473.)}, {'GT_sum': tensor(288187.), 'seg_sum': tensor(342215.)}, {'GT_sum': tensor(312637.), 'seg_sum': tensor(285025.)}]}\n",
      "Epoch 85/100\n"
     ]
    },
    {
     "name": "stderr",
     "output_type": "stream",
     "text": [
      "100%|███████████████████████████████████████████| 48/48 [01:01<00:00,  1.29s/it]\n"
     ]
    },
    {
     "name": "stdout",
     "output_type": "stream",
     "text": [
      "{'loss': 0.1788847267938157}\n"
     ]
    },
    {
     "name": "stderr",
     "output_type": "stream",
     "text": [
      "100%|█████████████████████████████████████████████| 3/3 [00:23<00:00,  7.89s/it]\n"
     ]
    },
    {
     "name": "stdout",
     "output_type": "stream",
     "text": [
      "{'metrics': [tensor([0.2768]), tensor([0.3833]), tensor([0.4005])], 'sums': [{'GT_sum': tensor(78585.), 'seg_sum': tensor(176641.)}, {'GT_sum': tensor(288187.), 'seg_sum': tensor(367768.)}, {'GT_sum': tensor(312637.), 'seg_sum': tensor(315024.)}]}\n",
      "Epoch 86/100\n"
     ]
    },
    {
     "name": "stderr",
     "output_type": "stream",
     "text": [
      "100%|███████████████████████████████████████████| 48/48 [01:02<00:00,  1.30s/it]\n"
     ]
    },
    {
     "name": "stdout",
     "output_type": "stream",
     "text": [
      "{'loss': 0.1802556343997518}\n"
     ]
    },
    {
     "name": "stderr",
     "output_type": "stream",
     "text": [
      "100%|█████████████████████████████████████████████| 3/3 [00:23<00:00,  7.88s/it]\n"
     ]
    },
    {
     "name": "stdout",
     "output_type": "stream",
     "text": [
      "{'metrics': [tensor([0.2820]), tensor([0.3862]), tensor([0.4063])], 'sums': [{'GT_sum': tensor(78585.), 'seg_sum': tensor(170060.)}, {'GT_sum': tensor(288187.), 'seg_sum': tensor(357291.)}, {'GT_sum': tensor(312637.), 'seg_sum': tensor(308076.)}]}\n",
      "Epoch 87/100\n"
     ]
    },
    {
     "name": "stderr",
     "output_type": "stream",
     "text": [
      "100%|███████████████████████████████████████████| 48/48 [01:02<00:00,  1.30s/it]\n"
     ]
    },
    {
     "name": "stdout",
     "output_type": "stream",
     "text": [
      "{'loss': 0.18592300452291965}\n"
     ]
    },
    {
     "name": "stderr",
     "output_type": "stream",
     "text": [
      "100%|█████████████████████████████████████████████| 3/3 [00:23<00:00,  7.89s/it]\n"
     ]
    },
    {
     "name": "stdout",
     "output_type": "stream",
     "text": [
      "{'metrics': [tensor([0.2858]), tensor([0.3911]), tensor([0.3982])], 'sums': [{'GT_sum': tensor(78585.), 'seg_sum': tensor(161138.)}, {'GT_sum': tensor(288187.), 'seg_sum': tensor(342773.)}, {'GT_sum': tensor(312637.), 'seg_sum': tensor(290282.)}]}\n",
      "Epoch 88/100\n"
     ]
    },
    {
     "name": "stderr",
     "output_type": "stream",
     "text": [
      "100%|███████████████████████████████████████████| 48/48 [01:01<00:00,  1.29s/it]\n"
     ]
    },
    {
     "name": "stdout",
     "output_type": "stream",
     "text": [
      "{'loss': 0.17944737585882345}\n"
     ]
    },
    {
     "name": "stderr",
     "output_type": "stream",
     "text": [
      "100%|█████████████████████████████████████████████| 3/3 [00:24<00:00,  8.26s/it]\n"
     ]
    },
    {
     "name": "stdout",
     "output_type": "stream",
     "text": [
      "{'metrics': [tensor([0.2862]), tensor([0.3902]), tensor([0.3976])], 'sums': [{'GT_sum': tensor(78585.), 'seg_sum': tensor(161800.)}, {'GT_sum': tensor(288187.), 'seg_sum': tensor(345673.)}, {'GT_sum': tensor(312637.), 'seg_sum': tensor(291706.)}]}\n",
      "Epoch 89/100\n"
     ]
    },
    {
     "name": "stderr",
     "output_type": "stream",
     "text": [
      "100%|███████████████████████████████████████████| 48/48 [01:00<00:00,  1.27s/it]\n"
     ]
    },
    {
     "name": "stdout",
     "output_type": "stream",
     "text": [
      "{'loss': 0.18959161282206574}\n"
     ]
    },
    {
     "name": "stderr",
     "output_type": "stream",
     "text": [
      "100%|█████████████████████████████████████████████| 3/3 [00:24<00:00,  8.13s/it]\n"
     ]
    },
    {
     "name": "stdout",
     "output_type": "stream",
     "text": [
      "{'metrics': [tensor([0.2900]), tensor([0.3875]), tensor([0.3975])], 'sums': [{'GT_sum': tensor(78585.), 'seg_sum': tensor(158454.)}, {'GT_sum': tensor(288187.), 'seg_sum': tensor(355336.)}, {'GT_sum': tensor(312637.), 'seg_sum': tensor(289505.)}]}\n",
      "Epoch 90/100\n"
     ]
    },
    {
     "name": "stderr",
     "output_type": "stream",
     "text": [
      "  6%|██▊                                         | 3/48 [00:09<02:29,  3.33s/it]\n"
     ]
    },
    {
     "ename": "KeyboardInterrupt",
     "evalue": "",
     "output_type": "error",
     "traceback": [
      "\u001b[0;31m---------------------------------------------------------------------------\u001b[0m",
      "\u001b[0;31mKeyboardInterrupt\u001b[0m                         Traceback (most recent call last)",
      "Cell \u001b[0;32mIn[17], line 1\u001b[0m\n\u001b[0;32m----> 1\u001b[0m model \u001b[38;5;241m=\u001b[39m \u001b[43mtrainer\u001b[49m\u001b[38;5;241;43m.\u001b[39;49m\u001b[43mfit\u001b[49m\u001b[43m(\u001b[49m\u001b[43mmodel\u001b[49m\u001b[43m,\u001b[49m\u001b[43m \u001b[49m\u001b[43mtrain_dataloader\u001b[49m\u001b[43m,\u001b[49m\u001b[43m \u001b[49m\u001b[43mval_dataloader\u001b[49m\u001b[43m)\u001b[49m\n",
      "File \u001b[0;32m~/repo/MSRepo/VesselSegmentation/ml/trainer.py:45\u001b[0m, in \u001b[0;36mTrainer.fit\u001b[0;34m(self, model, train_dataloader, val_dataloader)\u001b[0m\n\u001b[1;32m     42\u001b[0m \u001b[38;5;28;01mfor\u001b[39;00m epoch \u001b[38;5;129;01min\u001b[39;00m \u001b[38;5;28mrange\u001b[39m(\u001b[38;5;28mself\u001b[39m\u001b[38;5;241m.\u001b[39mn_epochs):\n\u001b[1;32m     43\u001b[0m     \u001b[38;5;28mprint\u001b[39m(\u001b[38;5;124mf\u001b[39m\u001b[38;5;124m\"\u001b[39m\u001b[38;5;124mEpoch \u001b[39m\u001b[38;5;132;01m{\u001b[39;00mepoch\u001b[38;5;250m \u001b[39m\u001b[38;5;241m+\u001b[39m\u001b[38;5;250m \u001b[39m\u001b[38;5;241m1\u001b[39m\u001b[38;5;132;01m}\u001b[39;00m\u001b[38;5;124m/\u001b[39m\u001b[38;5;132;01m{\u001b[39;00m\u001b[38;5;28mself\u001b[39m\u001b[38;5;241m.\u001b[39mn_epochs\u001b[38;5;132;01m}\u001b[39;00m\u001b[38;5;124m\"\u001b[39m)\n\u001b[0;32m---> 45\u001b[0m     train_info \u001b[38;5;241m=\u001b[39m \u001b[38;5;28;43mself\u001b[39;49m\u001b[38;5;241;43m.\u001b[39;49m\u001b[43mtrain_epoch\u001b[49m\u001b[43m(\u001b[49m\u001b[43mtrain_dataloader\u001b[49m\u001b[43m)\u001b[49m\n\u001b[1;32m     46\u001b[0m     \u001b[38;5;28mprint\u001b[39m(train_info)\n\u001b[1;32m     47\u001b[0m     \u001b[38;5;28mself\u001b[39m\u001b[38;5;241m.\u001b[39mhistory[\u001b[38;5;124m'\u001b[39m\u001b[38;5;124mtrain_loss\u001b[39m\u001b[38;5;124m'\u001b[39m]\u001b[38;5;241m.\u001b[39mappend(train_info[\u001b[38;5;124m'\u001b[39m\u001b[38;5;124mloss\u001b[39m\u001b[38;5;124m'\u001b[39m])\n",
      "File \u001b[0;32m~/repo/MSRepo/VesselSegmentation/ml/trainer.py:70\u001b[0m, in \u001b[0;36mTrainer.train_epoch\u001b[0;34m(self, train_dataloader)\u001b[0m\n\u001b[1;32m     66\u001b[0m vessels_batch \u001b[38;5;241m=\u001b[39m batch[\u001b[38;5;124m'\u001b[39m\u001b[38;5;124mvessels_patch\u001b[39m\u001b[38;5;124m'\u001b[39m]\u001b[38;5;241m.\u001b[39mto(\u001b[38;5;28mself\u001b[39m\u001b[38;5;241m.\u001b[39mdevice)\n\u001b[1;32m     67\u001b[0m \u001b[38;5;66;03m#brain_batch = batch['brain_patch'].to(self.device)\u001b[39;00m\n\u001b[1;32m     68\u001b[0m \u001b[38;5;66;03m#print(head_batch.sum(), head_batch.min(), head_batch.max(), head_batch.mean())\u001b[39;00m\n\u001b[0;32m---> 70\u001b[0m outputs \u001b[38;5;241m=\u001b[39m \u001b[38;5;28;43mself\u001b[39;49m\u001b[38;5;241;43m.\u001b[39;49m\u001b[43mmodel\u001b[49m\u001b[38;5;241;43m.\u001b[39;49m\u001b[43mforward\u001b[49m\u001b[43m(\u001b[49m\u001b[43mhead_batch\u001b[49m\u001b[43m)\u001b[49m   \n\u001b[1;32m     72\u001b[0m loss \u001b[38;5;241m=\u001b[39m \u001b[38;5;28mself\u001b[39m\u001b[38;5;241m.\u001b[39mloss_fn(vessels_batch, outputs)\n\u001b[1;32m     74\u001b[0m \u001b[38;5;28mself\u001b[39m\u001b[38;5;241m.\u001b[39moptimizer\u001b[38;5;241m.\u001b[39mzero_grad()\n",
      "File \u001b[0;32m~/repo/MSRepo/VesselSegmentation/ml/models/unet_deepsup.py:113\u001b[0m, in \u001b[0;36mU_Net_DeepSup.forward\u001b[0;34m(self, x)\u001b[0m\n\u001b[1;32m    110\u001b[0m d2 \u001b[38;5;241m=\u001b[39m \u001b[38;5;28mself\u001b[39m\u001b[38;5;241m.\u001b[39mUp_conv2(d2) \n\u001b[1;32m    111\u001b[0m \u001b[38;5;66;03m#print(\"d2:\")\u001b[39;00m\n\u001b[1;32m    112\u001b[0m \u001b[38;5;66;03m#print(d2.shape)\u001b[39;00m\n\u001b[0;32m--> 113\u001b[0m d2_out  \u001b[38;5;241m=\u001b[39m \u001b[38;5;28;43mself\u001b[39;49m\u001b[38;5;241;43m.\u001b[39;49m\u001b[43mConv_d2\u001b[49m\u001b[43m(\u001b[49m\u001b[43md2\u001b[49m\u001b[43m)\u001b[49m\n\u001b[1;32m    114\u001b[0m d2_out \u001b[38;5;241m=\u001b[39m \u001b[38;5;28mself\u001b[39m\u001b[38;5;241m.\u001b[39mact(d2_out)\n\u001b[1;32m    115\u001b[0m \u001b[38;5;66;03m#print(\"d2_out:\")\u001b[39;00m\n\u001b[1;32m    116\u001b[0m \u001b[38;5;66;03m#print(d2_out.shape)\u001b[39;00m\n",
      "File \u001b[0;32m~/.local/lib/python3.8/site-packages/torch/nn/modules/module.py:1538\u001b[0m, in \u001b[0;36mModule._call_impl\u001b[0;34m(self, *args, **kwargs)\u001b[0m\n\u001b[1;32m   1535\u001b[0m     bw_hook \u001b[38;5;241m=\u001b[39m hooks\u001b[38;5;241m.\u001b[39mBackwardHook(\u001b[38;5;28mself\u001b[39m, full_backward_hooks, backward_pre_hooks)\n\u001b[1;32m   1536\u001b[0m     args \u001b[38;5;241m=\u001b[39m bw_hook\u001b[38;5;241m.\u001b[39msetup_input_hook(args)\n\u001b[0;32m-> 1538\u001b[0m result \u001b[38;5;241m=\u001b[39m \u001b[43mforward_call\u001b[49m\u001b[43m(\u001b[49m\u001b[38;5;241;43m*\u001b[39;49m\u001b[43margs\u001b[49m\u001b[43m,\u001b[49m\u001b[43m \u001b[49m\u001b[38;5;241;43m*\u001b[39;49m\u001b[38;5;241;43m*\u001b[39;49m\u001b[43mkwargs\u001b[49m\u001b[43m)\u001b[49m\n\u001b[1;32m   1539\u001b[0m \u001b[38;5;28;01mif\u001b[39;00m _global_forward_hooks \u001b[38;5;129;01mor\u001b[39;00m \u001b[38;5;28mself\u001b[39m\u001b[38;5;241m.\u001b[39m_forward_hooks:\n\u001b[1;32m   1540\u001b[0m     \u001b[38;5;28;01mfor\u001b[39;00m hook_id, hook \u001b[38;5;129;01min\u001b[39;00m (\n\u001b[1;32m   1541\u001b[0m         \u001b[38;5;241m*\u001b[39m_global_forward_hooks\u001b[38;5;241m.\u001b[39mitems(),\n\u001b[1;32m   1542\u001b[0m         \u001b[38;5;241m*\u001b[39m\u001b[38;5;28mself\u001b[39m\u001b[38;5;241m.\u001b[39m_forward_hooks\u001b[38;5;241m.\u001b[39mitems(),\n\u001b[1;32m   1543\u001b[0m     ):\n",
      "File \u001b[0;32m~/repo/MSRepo/VesselSegmentation/ml/models/unet3d.py:24\u001b[0m, in \u001b[0;36mconv_block.forward\u001b[0;34m(self, x)\u001b[0m\n\u001b[1;32m     23\u001b[0m \u001b[38;5;28;01mdef\u001b[39;00m \u001b[38;5;21mforward\u001b[39m(\u001b[38;5;28mself\u001b[39m, x):\n\u001b[0;32m---> 24\u001b[0m     x \u001b[38;5;241m=\u001b[39m \u001b[38;5;28;43mself\u001b[39;49m\u001b[38;5;241;43m.\u001b[39;49m\u001b[43mconv\u001b[49m\u001b[43m(\u001b[49m\u001b[43mx\u001b[49m\u001b[43m)\u001b[49m\n\u001b[1;32m     25\u001b[0m     \u001b[38;5;28;01mreturn\u001b[39;00m x\n",
      "File \u001b[0;32m~/.local/lib/python3.8/site-packages/torch/nn/modules/module.py:1538\u001b[0m, in \u001b[0;36mModule._call_impl\u001b[0;34m(self, *args, **kwargs)\u001b[0m\n\u001b[1;32m   1535\u001b[0m     bw_hook \u001b[38;5;241m=\u001b[39m hooks\u001b[38;5;241m.\u001b[39mBackwardHook(\u001b[38;5;28mself\u001b[39m, full_backward_hooks, backward_pre_hooks)\n\u001b[1;32m   1536\u001b[0m     args \u001b[38;5;241m=\u001b[39m bw_hook\u001b[38;5;241m.\u001b[39msetup_input_hook(args)\n\u001b[0;32m-> 1538\u001b[0m result \u001b[38;5;241m=\u001b[39m \u001b[43mforward_call\u001b[49m\u001b[43m(\u001b[49m\u001b[38;5;241;43m*\u001b[39;49m\u001b[43margs\u001b[49m\u001b[43m,\u001b[49m\u001b[43m \u001b[49m\u001b[38;5;241;43m*\u001b[39;49m\u001b[38;5;241;43m*\u001b[39;49m\u001b[43mkwargs\u001b[49m\u001b[43m)\u001b[49m\n\u001b[1;32m   1539\u001b[0m \u001b[38;5;28;01mif\u001b[39;00m _global_forward_hooks \u001b[38;5;129;01mor\u001b[39;00m \u001b[38;5;28mself\u001b[39m\u001b[38;5;241m.\u001b[39m_forward_hooks:\n\u001b[1;32m   1540\u001b[0m     \u001b[38;5;28;01mfor\u001b[39;00m hook_id, hook \u001b[38;5;129;01min\u001b[39;00m (\n\u001b[1;32m   1541\u001b[0m         \u001b[38;5;241m*\u001b[39m_global_forward_hooks\u001b[38;5;241m.\u001b[39mitems(),\n\u001b[1;32m   1542\u001b[0m         \u001b[38;5;241m*\u001b[39m\u001b[38;5;28mself\u001b[39m\u001b[38;5;241m.\u001b[39m_forward_hooks\u001b[38;5;241m.\u001b[39mitems(),\n\u001b[1;32m   1543\u001b[0m     ):\n",
      "File \u001b[0;32m~/.local/lib/python3.8/site-packages/torch/nn/modules/container.py:217\u001b[0m, in \u001b[0;36mSequential.forward\u001b[0;34m(self, input)\u001b[0m\n\u001b[1;32m    215\u001b[0m \u001b[38;5;28;01mdef\u001b[39;00m \u001b[38;5;21mforward\u001b[39m(\u001b[38;5;28mself\u001b[39m, \u001b[38;5;28minput\u001b[39m):\n\u001b[1;32m    216\u001b[0m     \u001b[38;5;28;01mfor\u001b[39;00m module \u001b[38;5;129;01min\u001b[39;00m \u001b[38;5;28mself\u001b[39m:\n\u001b[0;32m--> 217\u001b[0m         \u001b[38;5;28minput\u001b[39m \u001b[38;5;241m=\u001b[39m \u001b[43mmodule\u001b[49m\u001b[43m(\u001b[49m\u001b[38;5;28;43minput\u001b[39;49m\u001b[43m)\u001b[49m\n\u001b[1;32m    218\u001b[0m     \u001b[38;5;28;01mreturn\u001b[39;00m \u001b[38;5;28minput\u001b[39m\n",
      "File \u001b[0;32m~/.local/lib/python3.8/site-packages/torch/nn/modules/module.py:1547\u001b[0m, in \u001b[0;36mModule._call_impl\u001b[0;34m(self, *args, **kwargs)\u001b[0m\n\u001b[1;32m   1545\u001b[0m     hook_result \u001b[38;5;241m=\u001b[39m hook(\u001b[38;5;28mself\u001b[39m, args, kwargs, result)\n\u001b[1;32m   1546\u001b[0m \u001b[38;5;28;01melse\u001b[39;00m:\n\u001b[0;32m-> 1547\u001b[0m     hook_result \u001b[38;5;241m=\u001b[39m \u001b[43mhook\u001b[49m\u001b[43m(\u001b[49m\u001b[38;5;28;43mself\u001b[39;49m\u001b[43m,\u001b[49m\u001b[43m \u001b[49m\u001b[43margs\u001b[49m\u001b[43m,\u001b[49m\u001b[43m \u001b[49m\u001b[43mresult\u001b[49m\u001b[43m)\u001b[49m\n\u001b[1;32m   1549\u001b[0m \u001b[38;5;28;01mif\u001b[39;00m hook_result \u001b[38;5;129;01mis\u001b[39;00m \u001b[38;5;129;01mnot\u001b[39;00m \u001b[38;5;28;01mNone\u001b[39;00m:\n\u001b[1;32m   1550\u001b[0m     result \u001b[38;5;241m=\u001b[39m hook_result\n",
      "File \u001b[0;32m~/repo/MSRepo/VesselSegmentation/ml/models/unet_deepsup.py:58\u001b[0m, in \u001b[0;36mU_Net_DeepSup.nan_hook\u001b[0;34m(self, module, inp, output)\u001b[0m\n\u001b[1;32m     56\u001b[0m \u001b[38;5;28;01mfor\u001b[39;00m i, out \u001b[38;5;129;01min\u001b[39;00m \u001b[38;5;28menumerate\u001b[39m(output):\n\u001b[1;32m     57\u001b[0m     nan_mask \u001b[38;5;241m=\u001b[39m torch\u001b[38;5;241m.\u001b[39misnan(out)\n\u001b[0;32m---> 58\u001b[0m     \u001b[38;5;28;01mif\u001b[39;00m nan_mask\u001b[38;5;241m.\u001b[39many():\n\u001b[1;32m     59\u001b[0m         \u001b[38;5;28mprint\u001b[39m(\u001b[38;5;124m\"\u001b[39m\u001b[38;5;124mIn\u001b[39m\u001b[38;5;124m\"\u001b[39m, \u001b[38;5;28mself\u001b[39m\u001b[38;5;241m.\u001b[39m\u001b[38;5;18m__class__\u001b[39m\u001b[38;5;241m.\u001b[39m\u001b[38;5;18m__name__\u001b[39m)\n\u001b[1;32m     60\u001b[0m         \u001b[38;5;28mprint\u001b[39m(module)\n",
      "\u001b[0;31mKeyboardInterrupt\u001b[0m: "
     ]
    }
   ],
   "source": [
    "model = trainer.fit(model, train_dataloader, val_dataloader)"
   ]
  },
  {
   "cell_type": "code",
   "execution_count": null,
   "id": "924a559f-05e7-4e5c-a8ad-81d2c5237221",
   "metadata": {},
   "outputs": [],
   "source": []
  },
  {
   "cell_type": "code",
   "execution_count": 17,
   "id": "46187a77-c050-47fd-b824-374e8f8bd133",
   "metadata": {
    "tags": []
   },
   "outputs": [],
   "source": [
    "model_name = \"UnetMSS16_logTversky_100\"\n",
    "#trainer.save(\"/home/msst/repo/MSRepo/VesselSegmentation/saved_models/\" + model_name)"
   ]
  },
  {
   "cell_type": "code",
   "execution_count": 18,
   "id": "7822c6f4-2f6f-431a-8ef8-eeebe530daed",
   "metadata": {
    "tags": []
   },
   "outputs": [],
   "source": [
    "model.load_state_dict(torch.load(\"/home/msst/repo/MSRepo/VesselSegmentation/saved_models/\" + model_name)[\"model_state_dict\"])\n",
    "trainer.model = model.to(device)"
   ]
  },
  {
   "cell_type": "markdown",
   "id": "5283b921-c9a4-43bc-a8c6-82ade78251a7",
   "metadata": {},
   "source": [
    "<h3> Сегментация с помощью обученной модели\n",
    "    "
   ]
  },
  {
   "cell_type": "code",
   "execution_count": 19,
   "id": "b5f2405f-1297-4e01-8bfc-cc1ee478f765",
   "metadata": {
    "tags": []
   },
   "outputs": [
    {
     "name": "stdout",
     "output_type": "stream",
     "text": [
      "dict_keys(['P12_CTA(no_brain)', 'CT_S5020_uint16', 'P62_CTA(no_brain)'])\n"
     ]
    }
   ],
   "source": [
    "print(val_dataloader.dataset.RAM_samples.keys())"
   ]
  },
  {
   "cell_type": "code",
   "execution_count": 30,
   "id": "2031bf17-a129-4870-8cf3-142477b598fe",
   "metadata": {
    "tags": []
   },
   "outputs": [
    {
     "name": "stdout",
     "output_type": "stream",
     "text": [
      "### P12_CTA(no_brain) ###\n",
      "metric: tensor([0.2624]) sum/sum_GT: tensor(2.2906)\n",
      "### CT_S5020_uint16 ###\n",
      "metric: tensor([0.2567]) sum/sum_GT: tensor(2.0586)\n",
      "### P62_CTA(no_brain) ###\n",
      "metric: tensor([0.3089]) sum/sum_GT: tensor(2.1552)\n"
     ]
    }
   ],
   "source": [
    "#patch_shape = (256, 256, 128)\n",
    "patch_shape = val_dataloader.dataset.patch_shape\n",
    "for batch in val_dataloader:\n",
    "    head_batch = batch['head']\n",
    "    vessels_batch = batch['vessels']\n",
    "    affine = batch['affine'][0]\n",
    "    sample_name = batch['sample_name'][0]\n",
    "    print(\"###\", sample_name, \"###\")\n",
    "    \n",
    "    head_seg = trainer.predict(head_batch, patch_shape)\n",
    "    metric = trainer.metric_fn(head_seg, vessels_batch)\n",
    "    \n",
    "    print('metric:', metric, \"sum/sum_GT:\", head_seg.sum()/vessels_batch.sum())\n",
    "    \n",
    "    vessels_seg = head_seg[0, 0]\n",
    "    data_dir = \"seg_data/\" + model_name\n",
    "    if not os.path.exists(data_dir):\n",
    "        os.mkdir(data_dir)\n",
    "\n",
    "    path_to_save_vessels = data_dir + '/' + sample_name + '.nii.gz'\n",
    "    save_vol_as_nii(vessels_seg, affine, path_to_save_vessels)"
   ]
  },
  {
   "cell_type": "code",
   "execution_count": null,
   "id": "0965ac98-57fd-4d93-a289-c92f2daeb9a7",
   "metadata": {
    "tags": []
   },
   "outputs": [],
   "source": [
    "print(head_seg.sum())\n",
    "vessels_seg = head_seg[0, 0]\n",
    "print(vessels_seg.sum())"
   ]
  },
  {
   "cell_type": "code",
   "execution_count": 31,
   "id": "f104da62-9d7a-4c44-828a-ee23f496c74e",
   "metadata": {},
   "outputs": [],
   "source": [
    "data_dir = \"seg_data/P12_CTA\"\n",
    "if not os.path.exists(data_dir):\n",
    "    os.mkdir(data_dir)\n",
    "\n",
    "\n",
    "path_to_save_vessels = data_dir + '/' + model_name + '_2.nii.gz'\n",
    "save_vol_as_nii(vessels_seg, affine, path_to_save_vessels)"
   ]
  },
  {
   "cell_type": "code",
   "execution_count": null,
   "id": "f2fee0a1-af4c-4696-b11e-8295e52ad1c4",
   "metadata": {},
   "outputs": [],
   "source": []
  },
  {
   "cell_type": "code",
   "execution_count": null,
   "id": "1c943353-2395-4856-91e1-60bee19dd3c7",
   "metadata": {},
   "outputs": [],
   "source": []
  },
  {
   "cell_type": "code",
   "execution_count": 4,
   "id": "c9281f2d-49a0-443b-b2a8-a1cbb8a1127f",
   "metadata": {
    "tags": []
   },
   "outputs": [
    {
     "name": "stdout",
     "output_type": "stream",
     "text": [
      "The autoreload extension is already loaded. To reload it, use:\n",
      "  %reload_ext autoreload\n"
     ]
    }
   ],
   "source": [
    "%load_ext autoreload\n",
    "%autoreload 2"
   ]
  }
 ],
 "metadata": {
  "kernelspec": {
   "display_name": "Python 3",
   "language": "python",
   "name": "python3"
  },
  "language_info": {
   "codemirror_mode": {
    "name": "ipython",
    "version": 3
   },
   "file_extension": ".py",
   "mimetype": "text/x-python",
   "name": "python",
   "nbconvert_exporter": "python",
   "pygments_lexer": "ipython3",
   "version": "3.8.10"
  }
 },
 "nbformat": 4,
 "nbformat_minor": 5
}
