{
 "cells": [
  {
   "cell_type": "code",
   "execution_count": 1,
   "id": "c5551197-4f1b-4341-87e2-6ac529297e5e",
   "metadata": {
    "tags": []
   },
   "outputs": [],
   "source": [
    "%load_ext autoreload\n",
    "%autoreload 2"
   ]
  },
  {
   "cell_type": "code",
   "execution_count": 2,
   "id": "ee14abb5-ab02-498a-97c4-06e006266cca",
   "metadata": {
    "tags": []
   },
   "outputs": [],
   "source": [
    "import os\n",
    "import numpy as np\n",
    "\n",
    "import torch\n",
    "import torch.nn as nn\n",
    "from torch.utils.data import DataLoader"
   ]
  },
  {
   "cell_type": "code",
   "execution_count": 3,
   "id": "46805e0c-6abf-4220-aeb5-1720cba916bb",
   "metadata": {
    "tags": []
   },
   "outputs": [],
   "source": [
    "from scripts.load_and_save import (get_dcm_info, get_dcm_vol, vox_size2affine,\n",
    "                                   save_vol_as_nii, load_sample_data)\n",
    "from scripts.load_and_save import load_nii_vol, save_vol_as_nii, load_sample_data\n",
    "\n",
    "from ml.models.unet3d import U_Net\n",
    "from ml.models.rog import ROG\n",
    "\n",
    "from ml.utils import get_total_params, save_model, load_pretrainned\n",
    "from ml.dataset import preprocess_dataset, HVB_Dataset\n",
    "from ml.trainer import Trainer\n",
    "from ml.losses import ComboLoss"
   ]
  },
  {
   "cell_type": "code",
   "execution_count": 4,
   "id": "f6af17a1-a09a-44b0-b96f-0e06faa4ee99",
   "metadata": {
    "tags": []
   },
   "outputs": [
    {
     "name": "stdout",
     "output_type": "stream",
     "text": [
      "cuda\n"
     ]
    }
   ],
   "source": [
    "device = torch.device('cuda' if torch.cuda.is_available() else 'cpu')\n",
    "print(device)"
   ]
  },
  {
   "cell_type": "code",
   "execution_count": 5,
   "id": "8097c49a-cab7-4dab-a229-696cd13e48f0",
   "metadata": {
    "tags": []
   },
   "outputs": [],
   "source": [
    "PATCH_SHAPE = (96, 96, 96)"
   ]
  },
  {
   "cell_type": "code",
   "execution_count": 6,
   "id": "0a82a75f-5ad6-4b48-8258-9eb80151242b",
   "metadata": {
    "tags": []
   },
   "outputs": [],
   "source": [
    "dataset_settings = {\n",
    "    \"data_dir\" : \"/home/msst/Documents/medtech/brain_seg_dataset\",\n",
    "    \"patch_shape\" : PATCH_SHAPE,\n",
    "    \"number_of_patches\" : 128,\n",
    "    \"mode\": \"train\",\n",
    "    \"RAM_samples\" : True \n",
    "}"
   ]
  },
  {
   "cell_type": "code",
   "execution_count": 7,
   "id": "ec3cbbca-47fc-451d-bb29-9f4f2b6075a7",
   "metadata": {
    "tags": []
   },
   "outputs": [],
   "source": [
    "patch_data_df, sample_data_df = preprocess_dataset(dataset_settings)"
   ]
  },
  {
   "cell_type": "code",
   "execution_count": 8,
   "id": "4f33230e-cb9d-490f-8337-ffa9c179fedf",
   "metadata": {
    "tags": []
   },
   "outputs": [],
   "source": [
    "dataset = HVB_Dataset(dataset_settings)"
   ]
  },
  {
   "cell_type": "code",
   "execution_count": 9,
   "id": "d96b819f-040a-40e2-aa94-0c080a5308f1",
   "metadata": {
    "tags": []
   },
   "outputs": [],
   "source": [
    "loader_params = {\"batch_size\": 3,\n",
    "                 \"shuffle\": True,\n",
    "                 \"num_workers\": 6\n",
    "                }\n",
    "\n",
    "train_dataloader = DataLoader(dataset, **loader_params)"
   ]
  },
  {
   "cell_type": "code",
   "execution_count": 10,
   "id": "87601130-26ed-46d1-be07-9f40b3c2b4f8",
   "metadata": {
    "tags": []
   },
   "outputs": [],
   "source": [
    "#model = U_Net()\n",
    "\n",
    "rog_params = {\n",
    "    'classes': 1,\n",
    "    'modalities': 1,\n",
    "    'strides': [[2, 2, 1], [2, 2, 1], [2, 2, 2]],\n",
    "}\n",
    "model = ROG(rog_params)"
   ]
  },
  {
   "cell_type": "code",
   "execution_count": 11,
   "id": "f5eecf77-8a4a-4559-a1b9-bd86ca6be108",
   "metadata": {
    "tags": []
   },
   "outputs": [
    {
     "name": "stdout",
     "output_type": "stream",
     "text": [
      "Number of parameters: 2596283\n"
     ]
    }
   ],
   "source": [
    "print('Number of parameters: {}'.format(get_total_params(model)))"
   ]
  },
  {
   "cell_type": "code",
   "execution_count": 12,
   "id": "db3f01a2-a9a6-418c-9f24-d417ed431483",
   "metadata": {
    "tags": []
   },
   "outputs": [],
   "source": [
    "trainer_config = {\n",
    "    'n_epochs': 10,\n",
    "    \"loss\" : nn.BCELoss(reduction='mean'),\n",
    "    'device' : device,\n",
    "    'lr': 3e-4\n",
    "}\n",
    "trainer = Trainer(trainer_config)"
   ]
  },
  {
   "cell_type": "code",
   "execution_count": null,
   "id": "55c90269-3eec-4016-aafa-9d25481e67a4",
   "metadata": {
    "tags": []
   },
   "outputs": [
    {
     "name": "stdout",
     "output_type": "stream",
     "text": [
      "Epoch 1/10\n"
     ]
    },
    {
     "name": "stderr",
     "output_type": "stream",
     "text": [
      "100%|███████████████████████████████████████████| 43/43 [00:15<00:00,  2.81it/s]\n"
     ]
    },
    {
     "name": "stdout",
     "output_type": "stream",
     "text": [
      "{'loss': 0.5654355537059695}\n",
      "Epoch 2/10\n"
     ]
    },
    {
     "name": "stderr",
     "output_type": "stream",
     "text": [
      "100%|███████████████████████████████████████████| 43/43 [00:14<00:00,  2.95it/s]\n"
     ]
    },
    {
     "name": "stdout",
     "output_type": "stream",
     "text": [
      "{'loss': 0.47926977207494337}\n",
      "Epoch 3/10\n"
     ]
    },
    {
     "name": "stderr",
     "output_type": "stream",
     "text": [
      "100%|███████████████████████████████████████████| 43/43 [00:14<00:00,  2.99it/s]\n"
     ]
    },
    {
     "name": "stdout",
     "output_type": "stream",
     "text": [
      "{'loss': 0.43258600734000985}\n",
      "Epoch 4/10\n"
     ]
    },
    {
     "name": "stderr",
     "output_type": "stream",
     "text": [
      "100%|███████████████████████████████████████████| 43/43 [00:14<00:00,  2.99it/s]\n"
     ]
    },
    {
     "name": "stdout",
     "output_type": "stream",
     "text": [
      "{'loss': 0.39158000918321834}\n",
      "Epoch 5/10\n"
     ]
    },
    {
     "name": "stderr",
     "output_type": "stream",
     "text": [
      "100%|███████████████████████████████████████████| 43/43 [00:14<00:00,  2.99it/s]\n"
     ]
    },
    {
     "name": "stdout",
     "output_type": "stream",
     "text": [
      "{'loss': 0.3520148749961409}\n",
      "Epoch 6/10\n"
     ]
    },
    {
     "name": "stderr",
     "output_type": "stream",
     "text": [
      "100%|███████████████████████████████████████████| 43/43 [00:14<00:00,  2.93it/s]\n"
     ]
    },
    {
     "name": "stdout",
     "output_type": "stream",
     "text": [
      "{'loss': 0.31495532046916874}\n",
      "Epoch 7/10\n"
     ]
    },
    {
     "name": "stderr",
     "output_type": "stream",
     "text": [
      "100%|███████████████████████████████████████████| 43/43 [00:14<00:00,  2.98it/s]\n"
     ]
    },
    {
     "name": "stdout",
     "output_type": "stream",
     "text": [
      "{'loss': 0.2810125551944555}\n",
      "Epoch 8/10\n"
     ]
    },
    {
     "name": "stderr",
     "output_type": "stream",
     "text": [
      "100%|███████████████████████████████████████████| 43/43 [00:14<00:00,  2.97it/s]\n"
     ]
    },
    {
     "name": "stdout",
     "output_type": "stream",
     "text": [
      "{'loss': 0.2498731938905494}\n",
      "Epoch 9/10\n"
     ]
    },
    {
     "name": "stderr",
     "output_type": "stream",
     "text": [
      " 40%|█████████████████                          | 17/43 [00:05<00:08,  3.00it/s]"
     ]
    }
   ],
   "source": [
    "model = trainer.fit(model, train_dataloader)"
   ]
  },
  {
   "cell_type": "code",
   "execution_count": null,
   "id": "46187a77-c050-47fd-b824-374e8f8bd133",
   "metadata": {
    "tags": []
   },
   "outputs": [],
   "source": [
    "model_name = \"test_save_ROG\"\n",
    "trainer.save(\"/home/msst/repo/MSRepo/VesselSegmentation/saved_models/\" + model_name)"
   ]
  },
  {
   "cell_type": "code",
   "execution_count": null,
   "id": "7822c6f4-2f6f-431a-8ef8-eeebe530daed",
   "metadata": {
    "tags": []
   },
   "outputs": [],
   "source": [
    "model.load_state_dict(torch.load(\"/home/msst/repo/MSRepo/VesselSegmentation/saved_models/\" + model_name)[\"model_state_dict\"])"
   ]
  },
  {
   "cell_type": "code",
   "execution_count": 21,
   "id": "27e20456-9839-4785-8c3e-0fcb5364a5b1",
   "metadata": {
    "tags": []
   },
   "outputs": [
    {
     "name": "stdout",
     "output_type": "stream",
     "text": [
      "(512, 512, 384)\n",
      "(512, 512, 384)\n"
     ]
    }
   ],
   "source": [
    "head_vol = dataset.RAM_samples[\"CT_S5020_uint16\"]['head']\n",
    "vessels_vol = dataset.RAM_samples[\"CT_S5020_uint16\"]['vessels']\n",
    "affine = dataset.RAM_samples[\"CT_S5020_uint16\"]['affine']\n",
    "print(head_vol.shape)\n",
    "print(vessels_vol.shape)"
   ]
  },
  {
   "cell_type": "code",
   "execution_count": 22,
   "id": "4b4479d5-d9e3-4d8e-89f0-5ff40986ee5e",
   "metadata": {
    "tags": []
   },
   "outputs": [],
   "source": [
    "def np2torch(np_arr):\n",
    "        return(torch.tensor(np_arr).unsqueeze(0).unsqueeze(0))\n",
    "\n",
    "\n",
    "def seg_by_patch(model, head_tensor_5_dim, device, patch_shape=(64, 64, 64), thresh=0.5):\n",
    "    ps = patch_shape\n",
    "    model.to(device)\n",
    "    vol_shape = head_tensor_5_dim.shape\n",
    "    s1 = vol_shape[2]//ps[0]#+1\n",
    "    s2 = vol_shape[3]//ps[1]#+1\n",
    "    s3 = vol_shape[4]//ps[2]#+1\n",
    "    print(s1, s2, s3, s1*s2*s3)\n",
    "    \n",
    "    seg = np.zeros_like(head_tensor_5_dim[0, 0])\n",
    "    with torch.no_grad():\n",
    "        model.eval()\n",
    "        for i in range(s1):\n",
    "            for j in range(s2):\n",
    "                for k in range(s3):\n",
    "                    patch = head_tensor_5_dim[:,\n",
    "                                              :,\n",
    "                                              i*ps[0]:(i+1)*ps[0],\n",
    "                                              j*ps[1]:(j+1)*ps[1],\n",
    "                                              k*ps[2]:(k+1)*ps[2]].to(device)\n",
    "                    seg[i*ps[0]:(i+1)*ps[0],\n",
    "                        j*ps[1]:(j+1)*ps[1],\n",
    "                        k*ps[2]:(k+1)*ps[2]] = model(patch)[0].cpu()\n",
    "    \n",
    "    seg[seg<thresh] = 0\n",
    "    seg[seg>0] = 1\n",
    "    return(seg)"
   ]
  },
  {
   "cell_type": "code",
   "execution_count": 23,
   "id": "7639d405-7c5e-4d72-b0eb-5b60293999ed",
   "metadata": {
    "tags": []
   },
   "outputs": [
    {
     "name": "stdout",
     "output_type": "stream",
     "text": [
      "2 4 3 24\n",
      "torch.Size([1, 1, 256, 128, 128])\n",
      "torch.Size([1, 1, 256, 128, 128])\n",
      "torch.Size([1, 1, 256, 128, 128])\n",
      "torch.Size([1, 1, 256, 128, 128])\n",
      "torch.Size([1, 1, 256, 128, 128])\n",
      "torch.Size([1, 1, 256, 128, 128])\n",
      "torch.Size([1, 1, 256, 128, 128])\n",
      "torch.Size([1, 1, 256, 128, 128])\n",
      "torch.Size([1, 1, 256, 128, 128])\n",
      "torch.Size([1, 1, 256, 128, 128])\n",
      "torch.Size([1, 1, 256, 128, 128])\n",
      "torch.Size([1, 1, 256, 128, 128])\n",
      "torch.Size([1, 1, 256, 128, 128])\n",
      "torch.Size([1, 1, 256, 128, 128])\n",
      "torch.Size([1, 1, 256, 128, 128])\n",
      "torch.Size([1, 1, 256, 128, 128])\n",
      "torch.Size([1, 1, 256, 128, 128])\n",
      "torch.Size([1, 1, 256, 128, 128])\n",
      "torch.Size([1, 1, 256, 128, 128])\n",
      "torch.Size([1, 1, 256, 128, 128])\n",
      "torch.Size([1, 1, 256, 128, 128])\n",
      "torch.Size([1, 1, 256, 128, 128])\n",
      "torch.Size([1, 1, 256, 128, 128])\n",
      "torch.Size([1, 1, 256, 128, 128])\n"
     ]
    }
   ],
   "source": [
    "vessels_seg = seg_by_patch(model, np2torch(head_vol), device, patch_shape=(256, 128, 128), thresh=0.1)\n",
    "#vessels_seg = seg_by_vol(model, np2torch(head_vol), 'cpu')"
   ]
  },
  {
   "cell_type": "code",
   "execution_count": 24,
   "id": "07778526-2a69-4792-9fbb-c1d4df1fa5ab",
   "metadata": {
    "tags": []
   },
   "outputs": [
    {
     "name": "stdout",
     "output_type": "stream",
     "text": [
      "288187.0\n",
      "100660640.0\n"
     ]
    }
   ],
   "source": [
    "print(vessels_vol.sum())\n",
    "print(vessels_seg.sum())"
   ]
  },
  {
   "cell_type": "code",
   "execution_count": 25,
   "id": "f104da62-9d7a-4c44-828a-ee23f496c74e",
   "metadata": {},
   "outputs": [],
   "source": [
    "data_dir = \"seg_data/CT_S5020_uint16\"\n",
    "if not os.path.exists(data_dir):\n",
    "    os.mkdir(data_dir)\n",
    "\n",
    "\n",
    "path_to_save_vessels = data_dir + '/' + model_name + '.nii.gz'\n",
    "save_vol_as_nii(vessels_seg, affine, path_to_save_vessels)"
   ]
  },
  {
   "cell_type": "code",
   "execution_count": null,
   "id": "f2fee0a1-af4c-4696-b11e-8295e52ad1c4",
   "metadata": {},
   "outputs": [],
   "source": []
  },
  {
   "cell_type": "code",
   "execution_count": null,
   "id": "d19300f7-c9e2-4fbe-91d0-330115a0bb26",
   "metadata": {},
   "outputs": [],
   "source": []
  }
 ],
 "metadata": {
  "kernelspec": {
   "display_name": "Python 3",
   "language": "python",
   "name": "python3"
  },
  "language_info": {
   "codemirror_mode": {
    "name": "ipython",
    "version": 3
   },
   "file_extension": ".py",
   "mimetype": "text/x-python",
   "name": "python",
   "nbconvert_exporter": "python",
   "pygments_lexer": "ipython3",
   "version": "3.8.10"
  }
 },
 "nbformat": 4,
 "nbformat_minor": 5
}
