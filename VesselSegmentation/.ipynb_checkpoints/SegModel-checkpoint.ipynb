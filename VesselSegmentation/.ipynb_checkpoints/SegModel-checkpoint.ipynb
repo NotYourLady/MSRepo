{
 "cells": [
  {
   "cell_type": "code",
   "execution_count": 1,
   "id": "c5551197-4f1b-4341-87e2-6ac529297e5e",
   "metadata": {
    "tags": []
   },
   "outputs": [],
   "source": [
    "%load_ext autoreload\n",
    "%autoreload 2"
   ]
  },
  {
   "cell_type": "code",
   "execution_count": 2,
   "id": "ee14abb5-ab02-498a-97c4-06e006266cca",
   "metadata": {
    "tags": []
   },
   "outputs": [],
   "source": [
    "import os\n",
    "import numpy as np\n",
    "\n",
    "import torch\n",
    "import torch.nn as nn\n",
    "from torch.utils.data import DataLoader"
   ]
  },
  {
   "cell_type": "code",
   "execution_count": 3,
   "id": "46805e0c-6abf-4220-aeb5-1720cba916bb",
   "metadata": {
    "tags": []
   },
   "outputs": [],
   "source": [
    "from ml.model import U_Net\n",
    "from ml.utils import get_total_params\n",
    "\n",
    "from scripts.load_dcm import get_dcm_info, get_dcm_vol, vox_size2affine, save_vol_as_nii"
   ]
  },
  {
   "cell_type": "code",
   "execution_count": 4,
   "id": "f6af17a1-a09a-44b0-b96f-0e06faa4ee99",
   "metadata": {
    "tags": []
   },
   "outputs": [
    {
     "name": "stdout",
     "output_type": "stream",
     "text": [
      "cuda\n"
     ]
    }
   ],
   "source": [
    "device = torch.device('cuda' if torch.cuda.is_available() else 'cpu')\n",
    "print(device)"
   ]
  },
  {
   "cell_type": "code",
   "execution_count": 5,
   "id": "8e8f709d-4ac0-4935-8919-552b52cbb1fb",
   "metadata": {
    "tags": []
   },
   "outputs": [],
   "source": [
    "import nibabel as nib\n",
    "def load_data(path_to_folder):\n",
    "    path_to_head = path_to_folder + \"/head.nii.gz\"\n",
    "    path_to_vessels = path_to_folder + \"/vessels.nii.gz\"\n",
    "    path_to_brain = path_to_folder + \"/brain.nii.gz\"\n",
    "    \n",
    "    head_file = nib.load(path_to_head)\n",
    "    vessels_file = nib.load(path_to_vessels)\n",
    "    brain_file = nib.load(path_to_brain)\n",
    "    \n",
    "    head_vol = np.array(head_file.dataobj, dtype=np.float32)\n",
    "    vessels_vol = np.array(vessels_file.dataobj, dtype=np.float32)\n",
    "    brain_vol = np.array(brain_file.dataobj, dtype=np.float32)\n",
    "    return(head_vol, vessels_vol, brain_vol)"
   ]
  },
  {
   "cell_type": "code",
   "execution_count": 6,
   "id": "73d71258-b757-4403-8051-fbc995d4aaa1",
   "metadata": {
    "tags": []
   },
   "outputs": [],
   "source": [
    "head_vol, vessels_vol, brain_vol = load_data(\"/home/msst/Documents/medtech/brain_seg_dataset/CT_S5020\")"
   ]
  },
  {
   "cell_type": "code",
   "execution_count": 7,
   "id": "0ee51ae4-621f-4536-9d7e-9935d109bab1",
   "metadata": {
    "tags": []
   },
   "outputs": [
    {
     "name": "stdout",
     "output_type": "stream",
     "text": [
      "(512, 512, 392)\n",
      "(512, 512, 392)\n",
      "(512, 512, 392)\n"
     ]
    }
   ],
   "source": [
    "print(head_vol.shape)\n",
    "print(vessels_vol.shape)\n",
    "print(brain_vol.shape)"
   ]
  },
  {
   "cell_type": "code",
   "execution_count": 8,
   "id": "e6246a54-cc47-4ecc-bfa5-b622e518df13",
   "metadata": {
    "tags": []
   },
   "outputs": [
    {
     "name": "stdout",
     "output_type": "stream",
     "text": [
      "torch.Size([1, 512, 512, 392])\n",
      "torch.Size([1, 512, 512, 392])\n",
      "torch.Size([1, 512, 512, 392])\n"
     ]
    }
   ],
   "source": [
    "head_vol = torch.tensor(head_vol).unsqueeze(0)\n",
    "vessels_vol = torch.tensor(vessels_vol).unsqueeze(0)\n",
    "brain_vol = torch.tensor(brain_vol).unsqueeze(0)\n",
    "print(head_vol.shape)\n",
    "print(vessels_vol.shape)\n",
    "print(vessels_vol.shape)"
   ]
  },
  {
   "cell_type": "code",
   "execution_count": 11,
   "id": "2b6b6e8d-1f00-4d78-bed5-7d3229dcb1c0",
   "metadata": {
    "tags": []
   },
   "outputs": [],
   "source": [
    "def made_patch_dataset(head_vol, brain_vol, patch_shape, patches_number):\n",
    "    vol_shape = head_vol.shape[1:]\n",
    "    patches = []\n",
    "    for i in range(patches_number):\n",
    "        x = np.random.randint(low=0, high=vol_shape[0]-patch_shape[0])\n",
    "        y = np.random.randint(low=0, high=vol_shape[1]-patch_shape[1])\n",
    "        z = np.random.randint(low=0, high=vol_shape[2]-patch_shape[2])\n",
    "        head_patch = head_vol[0,\n",
    "                              x:x+patch_shape[0],\n",
    "                              y:y+patch_shape[1],\n",
    "                              z:z+patch_shape[2]].unsqueeze(0)\n",
    "        brain_patch = brain_vol[0,\n",
    "                                x:x+patch_shape[0],\n",
    "                                y:y+patch_shape[1],\n",
    "                                z:z+patch_shape[2]].unsqueeze(0)\n",
    "    \n",
    "        patches.append(torch.stack((head_patch, brain_patch)))\n",
    "    return(torch.stack(patches))"
   ]
  },
  {
   "cell_type": "code",
   "execution_count": 12,
   "id": "07be4830-e6be-4ad5-95f6-9bb2d6b8323d",
   "metadata": {
    "tags": []
   },
   "outputs": [],
   "source": [
    "patches = made_patch_dataset(head_vol, brain_vol, patch_shape=(64,64,64), patches_number=64)"
   ]
  },
  {
   "cell_type": "code",
   "execution_count": 13,
   "id": "1ac602e4-260c-4d55-b073-6eebad2706c4",
   "metadata": {
    "tags": []
   },
   "outputs": [],
   "source": [
    "loader_params = {\"batch_size\": 6,\n",
    "                 \"shuffle\": True,\n",
    "                 \"num_workers\": 6\n",
    "                }\n",
    "\n",
    "\n",
    "dataloader = DataLoader(patches, **loader_params)"
   ]
  },
  {
   "cell_type": "code",
   "execution_count": 14,
   "id": "e01f72ea-cb60-439c-8def-6150987f736a",
   "metadata": {
    "tags": []
   },
   "outputs": [
    {
     "name": "stdout",
     "output_type": "stream",
     "text": [
      "torch.Size([6, 2, 1, 64, 64, 64])\n",
      "torch.Size([6, 1, 64, 64, 64])\n",
      "torch.Size([6, 1, 64, 64, 64])\n"
     ]
    }
   ],
   "source": [
    "for batch in dataloader:\n",
    "    print(batch.shape)\n",
    "    head_batch = batch[:, 0]\n",
    "    brain_batch = batch[:, 1]\n",
    "    print(head_batch.shape)\n",
    "    print(brain_batch.shape)\n",
    "    break"
   ]
  },
  {
   "cell_type": "code",
   "execution_count": null,
   "id": "387bdfa7-1817-4d1b-aa73-8d7cc154014d",
   "metadata": {},
   "outputs": [],
   "source": []
  },
  {
   "cell_type": "code",
   "execution_count": 15,
   "id": "87601130-26ed-46d1-be07-9f40b3c2b4f8",
   "metadata": {
    "tags": []
   },
   "outputs": [],
   "source": [
    "model = U_Net()"
   ]
  },
  {
   "cell_type": "code",
   "execution_count": 16,
   "id": "f5eecf77-8a4a-4559-a1b9-bd86ca6be108",
   "metadata": {
    "tags": []
   },
   "outputs": [
    {
     "data": {
      "text/plain": [
       "103536449"
      ]
     },
     "execution_count": 16,
     "metadata": {},
     "output_type": "execute_result"
    }
   ],
   "source": [
    "get_total_params(model)"
   ]
  },
  {
   "cell_type": "code",
   "execution_count": null,
   "id": "4f32f7b5-4202-4425-b336-a7e35ca7055d",
   "metadata": {},
   "outputs": [],
   "source": []
  },
  {
   "cell_type": "code",
   "execution_count": 18,
   "id": "2aa34f4a-4d9e-41f0-abf7-18902f13d81c",
   "metadata": {
    "tags": []
   },
   "outputs": [],
   "source": [
    "model = model.to(device)"
   ]
  },
  {
   "cell_type": "code",
   "execution_count": 19,
   "id": "f7b564ca-5550-4b14-828e-14e21354671e",
   "metadata": {
    "tags": []
   },
   "outputs": [],
   "source": [
    "loss_fn = nn.BCELoss(reduction='mean')\n",
    "optim = torch.optim.Adam(model.parameters(), lr=3e-4)"
   ]
  },
  {
   "cell_type": "code",
   "execution_count": 20,
   "id": "3cba705e-30cd-4c74-8e42-1fa6dff78774",
   "metadata": {
    "collapsed": true,
    "jupyter": {
     "outputs_hidden": true
    },
    "tags": []
   },
   "outputs": [
    {
     "name": "stdout",
     "output_type": "stream",
     "text": [
      "epoch: 0 0.5377492281523618\n",
      "epoch: 1 0.41534620794382965\n",
      "epoch: 2 0.4029851528731259\n",
      "epoch: 3 0.34674580801617017\n",
      "epoch: 4 0.34752940318801184\n",
      "epoch: 5 0.2634409097107974\n",
      "epoch: 6 0.34526861933144654\n",
      "epoch: 7 0.30496888810938055\n",
      "epoch: 8 0.27077665518630634\n",
      "epoch: 9 0.2940451773730191\n",
      "epoch: 10 0.336543780836192\n",
      "epoch: 11 0.2495629692619497\n",
      "epoch: 12 0.31375139545310626\n",
      "epoch: 13 0.23769358748739416\n",
      "epoch: 14 0.2210525247183713\n",
      "epoch: 15 0.2513866289095445\n",
      "epoch: 16 0.2425802539695393\n",
      "epoch: 17 0.2411855079910972\n",
      "epoch: 18 0.2651109045202082\n",
      "epoch: 19 0.19683902236548337\n",
      "epoch: 20 0.24212597446008163\n",
      "epoch: 21 0.2190647558732466\n",
      "epoch: 22 0.22314275259321387\n",
      "epoch: 23 0.18985793536359613\n",
      "epoch: 24 0.2023992809382352\n",
      "epoch: 25 0.16845728863369336\n",
      "epoch: 26 0.23605426265434784\n",
      "epoch: 27 0.21794541383331473\n",
      "epoch: 28 0.19281262836673044\n",
      "epoch: 29 0.2064010419628837\n",
      "epoch: 30 0.1396695219657638\n"
     ]
    },
    {
     "ename": "KeyboardInterrupt",
     "evalue": "",
     "output_type": "error",
     "traceback": [
      "\u001b[0;31m---------------------------------------------------------------------------\u001b[0m",
      "\u001b[0;31mKeyboardInterrupt\u001b[0m                         Traceback (most recent call last)",
      "Cell \u001b[0;32mIn[20], line 16\u001b[0m\n\u001b[1;32m     14\u001b[0m         loss_train\u001b[38;5;241m.\u001b[39mbackward()\n\u001b[1;32m     15\u001b[0m         optim\u001b[38;5;241m.\u001b[39mstep()\n\u001b[0;32m---> 16\u001b[0m         losses\u001b[38;5;241m.\u001b[39mappend(\u001b[43mloss_train\u001b[49m\u001b[38;5;241;43m.\u001b[39;49m\u001b[43mitem\u001b[49m\u001b[43m(\u001b[49m\u001b[43m)\u001b[49m)\n\u001b[1;32m     17\u001b[0m     \u001b[38;5;28mprint\u001b[39m(\u001b[38;5;124mf\u001b[39m\u001b[38;5;124m\"\u001b[39m\u001b[38;5;124mepoch: \u001b[39m\u001b[38;5;132;01m{\u001b[39;00mepoch\u001b[38;5;132;01m}\u001b[39;00m\u001b[38;5;124m\"\u001b[39m, \u001b[38;5;28msum\u001b[39m(losses)\u001b[38;5;241m/\u001b[39m\u001b[38;5;28mlen\u001b[39m(losses))\n\u001b[1;32m     19\u001b[0m model\u001b[38;5;241m.\u001b[39meval()\n",
      "\u001b[0;31mKeyboardInterrupt\u001b[0m: "
     ]
    }
   ],
   "source": [
    "for epoch in range(300):\n",
    "    model.train()\n",
    "    losses = []\n",
    "    for batch in dataloader:\n",
    "        head_batch = batch[:, 0].to(device)\n",
    "        brain_batch = batch[:, 1].to(device)\n",
    "        \n",
    "        optim.zero_grad()\n",
    "        output = model.forward(head_batch)\n",
    "        output = output[0]    \n",
    "\n",
    "        loss_train = loss_fn(output, brain_batch)\n",
    "\n",
    "        loss_train.backward()\n",
    "        optim.step()\n",
    "        losses.append(loss_train.item())\n",
    "    print(f\"epoch: {epoch}\", f\"loss: {sum(losses)/len(losses)}\")\n",
    "    \n",
    "model.eval()"
   ]
  },
  {
   "cell_type": "code",
   "execution_count": 32,
   "id": "3cbf24eb-d024-455e-83a7-0309e412fa6b",
   "metadata": {
    "tags": []
   },
   "outputs": [],
   "source": [
    "def save_model(model, path_to_save_model, epoch):\n",
    "    path_to_save_model_ = path_to_save_model + f\"/epoch_{epoch}\" \n",
    "    os.makedirs(path_to_save_model_, exist_ok=True)\n",
    "    torch.save(model.state_dict(), path_to_save_model_ + \"/model\") "
   ]
  },
  {
   "cell_type": "code",
   "execution_count": 33,
   "id": "4e6677bd-b866-408d-9a89-f8afe86f5b35",
   "metadata": {
    "tags": []
   },
   "outputs": [],
   "source": [
    "#save_model(model, '.', 69)"
   ]
  },
  {
   "cell_type": "code",
   "execution_count": 17,
   "id": "7822c6f4-2f6f-431a-8ef8-eeebe530daed",
   "metadata": {
    "tags": []
   },
   "outputs": [
    {
     "data": {
      "text/plain": [
       "<All keys matched successfully>"
      ]
     },
     "execution_count": 17,
     "metadata": {},
     "output_type": "execute_result"
    }
   ],
   "source": [
    "model.load_state_dict(torch.load(\"/home/msst/repo/MSRepo/VesselSegmentation/epoch_69/model\"))"
   ]
  },
  {
   "cell_type": "code",
   "execution_count": 18,
   "id": "d4566cce-9f36-4112-89ed-6db12ef21008",
   "metadata": {
    "tags": []
   },
   "outputs": [],
   "source": [
    "device = \"cpu\""
   ]
  },
  {
   "cell_type": "code",
   "execution_count": null,
   "id": "cbb73cf0-26a8-43a0-8a8a-9b50d237ed17",
   "metadata": {
    "tags": []
   },
   "outputs": [],
   "source": [
    "model_brain_seg = None\n",
    "with torch.no_grad():\n",
    "    model.eval()\n",
    "    model_brain_seg = model(head_vol.unsqueeze(0).to(device))\n",
    "    model_brain_seg = model_brain_seg.cpu()"
   ]
  },
  {
   "cell_type": "code",
   "execution_count": null,
   "id": "f104da62-9d7a-4c44-828a-ee23f496c74e",
   "metadata": {},
   "outputs": [],
   "source": [
    "data_dir = \"seg_data/CT_S5020\"\n",
    "if not os.path.exists(data_dir):\n",
    "    os.mkdir(data_dir)\n",
    "\n",
    "path_to_brain = path_to_folder + \"/brain.nii.gz\" \n",
    "head_file = nib.load(path_to_brain)\n",
    "    \n",
    "path_to_save_seg = data_dir + '/model_brain_seg.nii.gz'\n",
    "\n",
    "save_vol_as_nii(model_brain_seg, head_file.affine, path_to_save_seg)"
   ]
  },
  {
   "cell_type": "code",
   "execution_count": null,
   "id": "7fe148c0-3b76-47ac-be3d-272f2b02f1e8",
   "metadata": {},
   "outputs": [],
   "source": []
  }
 ],
 "metadata": {
  "kernelspec": {
   "display_name": "Python 3",
   "language": "python",
   "name": "python3"
  },
  "language_info": {
   "codemirror_mode": {
    "name": "ipython",
    "version": 3
   },
   "file_extension": ".py",
   "mimetype": "text/x-python",
   "name": "python",
   "nbconvert_exporter": "python",
   "pygments_lexer": "ipython3",
   "version": "3.8.10"
  }
 },
 "nbformat": 4,
 "nbformat_minor": 5
}
