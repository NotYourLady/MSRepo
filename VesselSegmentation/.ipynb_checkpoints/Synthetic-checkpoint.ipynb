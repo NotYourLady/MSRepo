{
 "cells": [
  {
   "cell_type": "code",
   "execution_count": 33,
   "id": "d38c8815-1676-43a8-8ca2-f955d1086e8c",
   "metadata": {
    "tags": []
   },
   "outputs": [
    {
     "name": "stdout",
     "output_type": "stream",
     "text": [
      "The autoreload extension is already loaded. To reload it, use:\n",
      "  %reload_ext autoreload\n"
     ]
    }
   ],
   "source": [
    "%load_ext autoreload\n",
    "%autoreload 2"
   ]
  },
  {
   "cell_type": "code",
   "execution_count": 36,
   "id": "c1cd516f-1ad5-4450-9a5d-ffb7e18c5f2b",
   "metadata": {
    "tags": []
   },
   "outputs": [],
   "source": [
    "import torch\n",
    "import torch.nn as nn\n",
    "from ml.models.building_blocks import VG_discriminator\n",
    "from ml.extra_libraries.pytorch_ssim import SSIM3D\n",
    "from ml.extra_libraries.cldice import soft_cldice"
   ]
  },
  {
   "cell_type": "code",
   "execution_count": 35,
   "id": "5ef25fa4-bdf5-4e8e-9f47-c0a43e3ab313",
   "metadata": {
    "tags": []
   },
   "outputs": [],
   "source": [
    "class CycleLoss:\n",
    "    def __init__(self, type='mse'):\n",
    "        self.loss_fn = nn.MSELoss()\n",
    "\n",
    "    def __call__(self, real, pred):\n",
    "        return self.loss_fn(real, pred) \n",
    "    \n",
    "class ReconstructionLoss:\n",
    "    def __init__(self):\n",
    "        self.loss_fn = SSIM3D()\n",
    "\n",
    "    def __call__(self, real, pred):\n",
    "        real = (real - real.min())/(real.max() - real.min())\n",
    "        pred = (pred - pred.min())/(pred.max() - pred.min())\n",
    "        return self.loss_fn(real, pred)\n",
    "    \n",
    "class SegmentationLoss:\n",
    "    def __init__(self):\n",
    "        self.loss_fn = SSIM3D()\n",
    "\n",
    "    def __call__(self, real, pred):\n",
    "        #real = (real - real.min())/(real.max() - real.min())\n",
    "        #pred = (pred - pred.min())/(pred.max() - pred.min())\n",
    "        return self.loss_fn(real, pred)\n",
    "    \n",
    "class DiscriminatorLoss:\n",
    "    def __init__(self, type=None):\n",
    "        self.loss_fn = SSIM3D()\n",
    "\n",
    "    def __call__(self, real, pred):\n",
    "        real = (real - real.min())/(real.max() - real.min())\n",
    "        pred = (pred - pred.min())/(pred.max() - pred.min())\n",
    "        return self.loss_fn(real, pred)"
   ]
  },
  {
   "cell_type": "code",
   "execution_count": 28,
   "id": "c098d4b3-b628-4352-8702-d301186bd404",
   "metadata": {},
   "outputs": [],
   "source": [
    "img1 = 2*torch.randn(1, 1, 64, 64, 64)\n",
    "img2 = 3*torch.randn(1, 1, 64, 64, 64)"
   ]
  },
  {
   "cell_type": "code",
   "execution_count": 32,
   "id": "3fd8033b-36ed-4bd9-ad6f-79a330d26b76",
   "metadata": {
    "tags": []
   },
   "outputs": [
    {
     "name": "stdout",
     "output_type": "stream",
     "text": [
      "tensor(0.2324)\n",
      "tensor(0.9960)\n"
     ]
    }
   ],
   "source": []
  },
  {
   "cell_type": "code",
   "execution_count": null,
   "id": "ffca6b10-3b59-4e16-8c5b-18e7a3a37dc0",
   "metadata": {},
   "outputs": [],
   "source": [
    "def discriminator_loss_fn(self, real_image, fake_image, typ=None, from_logits=True):\n",
    "    if typ == None:\n",
    "        return 0.5 * (MSE(self, tf.ones_like(real_image), real_image) + MSE(self, tf.zeros_like(fake_image), fake_image))\n",
    "    else :\n",
    "        if typ == \"bce\":\n",
    "            loss_obj = tf.keras.losses.BinaryCrossentropy(from_logits=from_logits, reduction=tf.keras.losses.Reduction.NONE)\n",
    "        elif typ == \"bfce\":\n",
    "            loss_obj = tf.keras.losses.BinaryFocalCrossentropy(from_logits=from_logits, reduction=tf.keras.losses.Reduction.NONE)\n",
    "        real = real_image\n",
    "        fake = fake_image\n",
    "        if from_logits == False:\n",
    "            real = min_max_norm_tf(real)\n",
    "            fake = min_max_norm_tf(fake)\n",
    "        loss = (loss_obj(tf.ones_like(real), real) + loss_obj(tf.zeros_like(fake), fake)) * 0.5\n",
    "        return reduce_mean(self, loss)"
   ]
  },
  {
   "cell_type": "code",
   "execution_count": null,
   "id": "a29234de-05c1-45e8-913d-4eec7373d2a9",
   "metadata": {},
   "outputs": [],
   "source": [
    "\n",
    "@tf.function\n",
    "def cycle_seg_loss(self, real_image, cycled_image):\n",
    "    \"\"\"\n",
    "    Compute the segmentation loss between the real image and the cycled image\n",
    "    \n",
    "    Args:\n",
    "    - real_image: a tensor of shape (batch_size, image_size, image_size, channels) representing the real image\n",
    "    - cycled_image: a tensor of shape (batch_size, image_size, image_size, channels) representing the cycled image\n",
    "    \n",
    "    Returns:\n",
    "    - a scalar tensor representing the segmentation loss\n",
    "    \"\"\"\n",
    "    real = min_max_norm_tf(real_image)\n",
    "    cycled = min_max_norm_tf(cycled_image)\n",
    "    cl_loss_obj = soft_dice_cldice_loss()\n",
    "    return reduce_mean(self, cl_loss_obj(real, cycled)) * self.lambda_identity\n",
    "\n",
    "@tf.function\n",
    "def identity_loss(self, real_image, same_image, typ=None):\n",
    "    \"\"\"\n",
    "    Compute the identity loss between the real image and the same image.\n",
    "\n",
    "    Args:\n",
    "        real_image: the real image\n",
    "        same_image: the generated same image\n",
    "        typ: the type of loss to use. Currently only supports \"cldice\", other MAE used.\n",
    "\n",
    "    Returns:\n",
    "        The identity loss between the real image and the same image.\n",
    "    \"\"\"\n",
    "    if typ is None:\n",
    "        return self.lambda_identity * MAE(self, real_image, same_image)\n",
    "    else:\n",
    "        if typ == \"cldice\":\n",
    "            real = min_max_norm_tf(real_image)\n",
    "            same = min_max_norm_tf(same_image)\n",
    "            loss_obj = soft_dice_cldice_loss()\n",
    "            # bf_loss_obj = tf.keras.losses.BinaryFocalCrossentropy(from_logits=True, reduction=tf.keras.losses.Reduction.NONE)\n",
    "            # id_loss = reduce_mean(self, bf_loss_obj(real, same_image)) * self.lambda_identity\n",
    "            spat_loss = reduce_mean(self, loss_obj(real, same)) * self.lambda_identity\n",
    "            return spat_loss\n",
    "\n",
    "@tf.function\n",
    "def generator_loss_fn(self, fake_image, typ=None, from_logits=True):\n",
    "    \"\"\"\n",
    "    Calculates the loss for the generator.\n",
    "\n",
    "    Args:\n",
    "        self (object): Instance of the VANGAN class.\n",
    "        fake_image (tf.Tensor): Generated fake image tensor.\n",
    "        typ (str): Type of loss. If None, default MSE is used.\n",
    "                   Else, the valid types are: \"bce\" - Binary cross-entropy,\n",
    "                   \"bfce\" - Binary focal cross-entropy.\n",
    "                   Default: None.\n",
    "        from_logits (bool): Whether to use logits or probabilities.\n",
    "                            Default: True.\n",
    "\n",
    "    Returns:\n",
    "        tf.Tensor: The generator loss.\n",
    "    \"\"\"\n",
    "    if typ == None:\n",
    "        return MSE(self, tf.ones_like(fake_image), fake_image)\n",
    "    else :\n",
    "        if typ == \"bce\":\n",
    "            loss_obj = tf.keras.losses.BinaryCrossentropy(from_logits=from_logits, reduction=tf.keras.losses.Reduction.NONE)\n",
    "        elif typ == \"bfce\":\n",
    "            loss_obj = tf.keras.losses.BinaryFocalCrossentropy(from_logits=from_logits, reduction=tf.keras.losses.Reduction.NONE)\n",
    "        fake = fake_image\n",
    "        if from_logits == False:\n",
    "            fake = min_max_norm_tf(fake)\n",
    "        loss = loss_obj(tf.ones_like(fake_image), fake)\n",
    "        return reduce_mean(self, loss)\n",
    "\n",
    "@tf.function\n"
   ]
  }
 ],
 "metadata": {
  "kernelspec": {
   "display_name": "Python 3",
   "language": "python",
   "name": "python3"
  },
  "language_info": {
   "codemirror_mode": {
    "name": "ipython",
    "version": 3
   },
   "file_extension": ".py",
   "mimetype": "text/x-python",
   "name": "python",
   "nbconvert_exporter": "python",
   "pygments_lexer": "ipython3",
   "version": "3.8.10"
  }
 },
 "nbformat": 4,
 "nbformat_minor": 5
}
