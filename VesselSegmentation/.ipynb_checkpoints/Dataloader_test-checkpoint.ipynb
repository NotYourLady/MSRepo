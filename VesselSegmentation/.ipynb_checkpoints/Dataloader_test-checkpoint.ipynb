{
 "cells": [
  {
   "cell_type": "code",
   "execution_count": 61,
   "id": "808585b8-82ef-491f-8f34-dcb7d8c09e47",
   "metadata": {
    "tags": []
   },
   "outputs": [
    {
     "name": "stdout",
     "output_type": "stream",
     "text": [
      "The autoreload extension is already loaded. To reload it, use:\n",
      "  %reload_ext autoreload\n"
     ]
    }
   ],
   "source": [
    "%load_ext autoreload\n",
    "%autoreload 2"
   ]
  },
  {
   "cell_type": "code",
   "execution_count": 62,
   "id": "78161113-e230-4dbc-b1f1-6887cacce63f",
   "metadata": {
    "tags": []
   },
   "outputs": [],
   "source": [
    "from scripts.load_and_save import load_nii_vol, save_vol_as_nii, load_sample_data\n",
    "from ml.dataset import preprocess_dataset, HVB_Dataset\n",
    "import numpy as np"
   ]
  },
  {
   "cell_type": "code",
   "execution_count": 63,
   "id": "8735a3cf-a751-43b4-a964-4cc2a4a4df37",
   "metadata": {
    "tags": []
   },
   "outputs": [],
   "source": [
    "PATCH_SHAPE = (64, 64, 64)"
   ]
  },
  {
   "cell_type": "code",
   "execution_count": 65,
   "id": "d9e16fc2-ad51-4acd-acfd-d26467017374",
   "metadata": {
    "tags": []
   },
   "outputs": [],
   "source": [
    "dataset_settings = {\n",
    "    \"data_dir\" : \"/home/msst/Documents/medtech/brain_seg_dataset\",\n",
    "    \"patch_shape\" : PATCH_SHAPE,\n",
    "    \"number_of_patches\" : 4,\n",
    "    \"mode\": \"train\",\n",
    "    \"RAM_samples\" : True \n",
    "}\n",
    "patch_data_df, sample_data_df = preprocess_dataset(dataset_settings)"
   ]
  },
  {
   "cell_type": "code",
   "execution_count": 66,
   "id": "2489e640-51e3-4c48-8a10-006b2ae5aa8d",
   "metadata": {
    "tags": []
   },
   "outputs": [
    {
     "name": "stdout",
     "output_type": "stream",
     "text": [
      "pixel_x                  133\n",
      "pixel_y                  387\n",
      "pixel_z                   22\n",
      "sample_name    CT_S5020_copy\n",
      "Name: 0, dtype: object\n"
     ]
    }
   ],
   "source": [
    "patch_info = patch_data_df.iloc[0]\n",
    "print(patch_info)"
   ]
  },
  {
   "cell_type": "code",
   "execution_count": 68,
   "id": "eceacba1-1172-4e46-a493-0032c4994321",
   "metadata": {
    "tags": []
   },
   "outputs": [
    {
     "data": {
      "text/plain": [
       "dict_keys(['CT_S5020_copy', 'CT_S5020_uint16', 'CT_S5020'])"
      ]
     },
     "execution_count": 68,
     "metadata": {},
     "output_type": "execute_result"
    }
   ],
   "source": [
    "dataset_settings['RAM_samples'].keys()"
   ]
  },
  {
   "cell_type": "code",
   "execution_count": 73,
   "id": "56a5fb91-f3da-427e-8d36-aaa9d66a23a1",
   "metadata": {
    "tags": []
   },
   "outputs": [],
   "source": [
    "dataset = HVB_Dataset(dataset_settings)"
   ]
  },
  {
   "cell_type": "code",
   "execution_count": 75,
   "id": "57df71ac-cdca-4307-81e2-90ff441bc1d7",
   "metadata": {
    "tags": []
   },
   "outputs": [
    {
     "data": {
      "text/plain": [
       "{'head_patch': tensor([[[[ 917.,  917.,  918.,  ...,  923.,  922.,  918.],\n",
       "           [ 917.,  917.,  917.,  ...,  924.,  923.,  925.],\n",
       "           [ 917.,  920.,  920.,  ...,  926.,  923.,  931.],\n",
       "           ...,\n",
       "           [  22.,   24.,   22.,  ...,   20.,   16.,   15.],\n",
       "           [  21.,   26.,   25.,  ...,   19.,   17.,   16.],\n",
       "           [  23.,   27.,   28.,  ...,   17.,   19.,   18.]],\n",
       " \n",
       "          [[ 918.,  916.,  916.,  ...,  919.,  919.,  918.],\n",
       "           [ 918.,  915.,  917.,  ...,  921.,  924.,  927.],\n",
       "           [ 916.,  917.,  919.,  ...,  924.,  926.,  932.],\n",
       "           ...,\n",
       "           [  22.,   23.,   21.,  ...,   19.,   18.,   13.],\n",
       "           [  23.,   26.,   24.,  ...,   19.,   20.,   14.],\n",
       "           [  24.,   27.,   26.,  ...,   17.,   19.,   15.]],\n",
       " \n",
       "          [[ 920.,  918.,  917.,  ...,  915.,  916.,  918.],\n",
       "           [ 921.,  919.,  919.,  ...,  920.,  922.,  925.],\n",
       "           [ 920.,  920.,  921.,  ...,  923.,  926.,  926.],\n",
       "           ...,\n",
       "           [  20.,   21.,   17.,  ...,   17.,   19.,   11.],\n",
       "           [  22.,   22.,   20.,  ...,   16.,   18.,   10.],\n",
       "           [  20.,   22.,   21.,  ...,   13.,   13.,   11.]],\n",
       " \n",
       "          ...,\n",
       " \n",
       "          [[1092., 1091., 1083.,  ..., 1067., 1072., 1082.],\n",
       "           [1093., 1091., 1082.,  ..., 1064., 1067., 1080.],\n",
       "           [1091., 1090., 1084.,  ..., 1061., 1063., 1070.],\n",
       "           ...,\n",
       "           [  20.,   24.,   27.,  ...,   20.,   27.,   29.],\n",
       "           [  15.,   22.,   33.,  ...,   16.,   25.,   25.],\n",
       "           [  15.,   21.,   36.,  ...,   17.,   25.,   23.]],\n",
       " \n",
       "          [[1093., 1094., 1086.,  ..., 1068., 1073., 1085.],\n",
       "           [1094., 1095., 1085.,  ..., 1061., 1065., 1076.],\n",
       "           [1092., 1092., 1087.,  ..., 1059., 1059., 1064.],\n",
       "           ...,\n",
       "           [  23.,   26.,   34.,  ...,   18.,   24.,   30.],\n",
       "           [  20.,   25.,   41.,  ...,   15.,   21.,   26.],\n",
       "           [  19.,   23.,   42.,  ...,   17.,   21.,   22.]],\n",
       " \n",
       "          [[1090., 1091., 1086.,  ..., 1066., 1066., 1080.],\n",
       "           [1090., 1092., 1086.,  ..., 1057., 1058., 1067.],\n",
       "           [1090., 1091., 1089.,  ..., 1056., 1058., 1056.],\n",
       "           ...,\n",
       "           [  26.,   27.,   33.,  ...,   23.,   22.,   28.],\n",
       "           [  29.,   26.,   36.,  ...,   19.,   19.,   24.],\n",
       "           [  27.,   25.,   35.,  ...,   17.,   18.,   20.]]]]),\n",
       " 'vessels_patch': tensor([[[[0., 0., 0.,  ..., 0., 0., 0.],\n",
       "           [0., 0., 0.,  ..., 0., 0., 0.],\n",
       "           [0., 0., 0.,  ..., 0., 0., 0.],\n",
       "           ...,\n",
       "           [0., 0., 0.,  ..., 0., 0., 0.],\n",
       "           [0., 0., 0.,  ..., 0., 0., 0.],\n",
       "           [0., 0., 0.,  ..., 0., 0., 0.]],\n",
       " \n",
       "          [[0., 0., 0.,  ..., 0., 0., 0.],\n",
       "           [0., 0., 0.,  ..., 0., 0., 0.],\n",
       "           [0., 0., 0.,  ..., 0., 0., 0.],\n",
       "           ...,\n",
       "           [0., 0., 0.,  ..., 0., 0., 0.],\n",
       "           [0., 0., 0.,  ..., 0., 0., 0.],\n",
       "           [0., 0., 0.,  ..., 0., 0., 0.]],\n",
       " \n",
       "          [[0., 0., 0.,  ..., 0., 0., 0.],\n",
       "           [0., 0., 0.,  ..., 0., 0., 0.],\n",
       "           [0., 0., 0.,  ..., 0., 0., 0.],\n",
       "           ...,\n",
       "           [0., 0., 0.,  ..., 0., 0., 0.],\n",
       "           [0., 0., 0.,  ..., 0., 0., 0.],\n",
       "           [0., 0., 0.,  ..., 0., 0., 0.]],\n",
       " \n",
       "          ...,\n",
       " \n",
       "          [[0., 0., 0.,  ..., 0., 0., 0.],\n",
       "           [0., 0., 0.,  ..., 0., 0., 0.],\n",
       "           [0., 0., 0.,  ..., 0., 0., 0.],\n",
       "           ...,\n",
       "           [0., 0., 0.,  ..., 0., 0., 0.],\n",
       "           [0., 0., 0.,  ..., 0., 0., 0.],\n",
       "           [0., 0., 0.,  ..., 0., 0., 0.]],\n",
       " \n",
       "          [[0., 0., 0.,  ..., 0., 0., 0.],\n",
       "           [0., 0., 0.,  ..., 0., 0., 0.],\n",
       "           [0., 0., 0.,  ..., 0., 0., 0.],\n",
       "           ...,\n",
       "           [0., 0., 0.,  ..., 0., 0., 0.],\n",
       "           [0., 0., 0.,  ..., 0., 0., 0.],\n",
       "           [0., 0., 0.,  ..., 0., 0., 0.]],\n",
       " \n",
       "          [[0., 0., 0.,  ..., 0., 0., 0.],\n",
       "           [0., 0., 0.,  ..., 0., 0., 0.],\n",
       "           [0., 0., 0.,  ..., 0., 0., 0.],\n",
       "           ...,\n",
       "           [0., 0., 0.,  ..., 0., 0., 0.],\n",
       "           [0., 0., 0.,  ..., 0., 0., 0.],\n",
       "           [0., 0., 0.,  ..., 0., 0., 0.]]]]),\n",
       " 'brain_patch': tensor([[[[0., 0., 0.,  ..., 0., 0., 0.],\n",
       "           [0., 0., 0.,  ..., 0., 0., 0.],\n",
       "           [0., 0., 0.,  ..., 0., 0., 0.],\n",
       "           ...,\n",
       "           [0., 0., 0.,  ..., 0., 0., 0.],\n",
       "           [0., 0., 0.,  ..., 0., 0., 0.],\n",
       "           [0., 0., 0.,  ..., 0., 0., 0.]],\n",
       " \n",
       "          [[0., 0., 0.,  ..., 0., 0., 0.],\n",
       "           [0., 0., 0.,  ..., 0., 0., 0.],\n",
       "           [0., 0., 0.,  ..., 0., 0., 0.],\n",
       "           ...,\n",
       "           [0., 0., 0.,  ..., 0., 0., 0.],\n",
       "           [0., 0., 0.,  ..., 0., 0., 0.],\n",
       "           [0., 0., 0.,  ..., 0., 0., 0.]],\n",
       " \n",
       "          [[0., 0., 0.,  ..., 0., 0., 0.],\n",
       "           [0., 0., 0.,  ..., 0., 0., 0.],\n",
       "           [0., 0., 0.,  ..., 0., 0., 0.],\n",
       "           ...,\n",
       "           [0., 0., 0.,  ..., 0., 0., 0.],\n",
       "           [0., 0., 0.,  ..., 0., 0., 0.],\n",
       "           [0., 0., 0.,  ..., 0., 0., 0.]],\n",
       " \n",
       "          ...,\n",
       " \n",
       "          [[0., 0., 0.,  ..., 0., 0., 0.],\n",
       "           [0., 0., 0.,  ..., 0., 0., 0.],\n",
       "           [0., 0., 0.,  ..., 0., 0., 0.],\n",
       "           ...,\n",
       "           [0., 0., 0.,  ..., 0., 0., 0.],\n",
       "           [0., 0., 0.,  ..., 0., 0., 0.],\n",
       "           [0., 0., 0.,  ..., 0., 0., 0.]],\n",
       " \n",
       "          [[0., 0., 0.,  ..., 0., 0., 0.],\n",
       "           [0., 0., 0.,  ..., 0., 0., 0.],\n",
       "           [0., 0., 0.,  ..., 0., 0., 0.],\n",
       "           ...,\n",
       "           [0., 0., 0.,  ..., 0., 0., 0.],\n",
       "           [0., 0., 0.,  ..., 0., 0., 0.],\n",
       "           [0., 0., 0.,  ..., 0., 0., 0.]],\n",
       " \n",
       "          [[0., 0., 0.,  ..., 0., 0., 0.],\n",
       "           [0., 0., 0.,  ..., 0., 0., 0.],\n",
       "           [0., 0., 0.,  ..., 0., 0., 0.],\n",
       "           ...,\n",
       "           [0., 0., 0.,  ..., 0., 0., 0.],\n",
       "           [0., 0., 0.,  ..., 0., 0., 0.],\n",
       "           [0., 0., 0.,  ..., 0., 0., 0.]]]])}"
      ]
     },
     "execution_count": 75,
     "metadata": {},
     "output_type": "execute_result"
    }
   ],
   "source": [
    "dataset[0].head"
   ]
  },
  {
   "cell_type": "code",
   "execution_count": null,
   "id": "2bc52322-8219-495b-a6a8-7457d692d410",
   "metadata": {},
   "outputs": [],
   "source": []
  },
  {
   "cell_type": "code",
   "execution_count": null,
   "id": "5ec0c964-2fd5-4fac-a0ce-fcd2ea6973c9",
   "metadata": {},
   "outputs": [],
   "source": []
  },
  {
   "cell_type": "code",
   "execution_count": null,
   "id": "8b6c001d-ac9e-4f10-8467-ad4b78dbdeba",
   "metadata": {},
   "outputs": [],
   "source": []
  },
  {
   "cell_type": "code",
   "execution_count": null,
   "id": "0cc12a11-e21c-4cc4-a570-a91015a3fda6",
   "metadata": {},
   "outputs": [],
   "source": []
  },
  {
   "cell_type": "code",
   "execution_count": null,
   "id": "578324cf-102b-4788-bc27-be6553d19995",
   "metadata": {},
   "outputs": [],
   "source": []
  },
  {
   "cell_type": "code",
   "execution_count": null,
   "id": "e6ec350f-b80f-4acb-9473-6fee360579d4",
   "metadata": {},
   "outputs": [],
   "source": []
  },
  {
   "cell_type": "code",
   "execution_count": null,
   "id": "1e0ac0e5-ef1c-48e5-8d07-05dd5b1bfe72",
   "metadata": {},
   "outputs": [],
   "source": []
  },
  {
   "cell_type": "code",
   "execution_count": null,
   "id": "f27b218c-431c-4c3a-9a55-89e3d42584c8",
   "metadata": {},
   "outputs": [],
   "source": []
  },
  {
   "cell_type": "code",
   "execution_count": 42,
   "id": "5dec3e82-94af-43c3-bbd5-f9591c02d0b0",
   "metadata": {
    "tags": []
   },
   "outputs": [
    {
     "name": "stdout",
     "output_type": "stream",
     "text": [
      "System memory before loading: 17.129474639892578Gb\n",
      "System memory after 1 sample: 15.98031234741211Gb\n",
      "System memory after 2 sample: 14.819900512695312Gb\n",
      "System memory after 3 sample: 13.675189971923828Gb\n",
      "System memory after 4 sample: 12.541011810302734Gb\n",
      "System memory after 5 sample: 11.392932891845703Gb\n",
      "System memory after 6 sample: 10.246944427490234Gb\n",
      "System memory after 7 sample: 9.079524993896484Gb\n",
      "System memory after 8 sample: 7.935577392578125Gb\n",
      "System memory after 9 sample: 6.808322906494141Gb\n",
      "System memory after 10 sample: 5.660453796386719Gb\n"
     ]
    }
   ],
   "source": [
    "import psutil\n",
    "data = []\n",
    "print(f'System memory before loading: {psutil.virtual_memory().available/(1024**3)}Gb')\n",
    "for i in range(10):\n",
    "    data.append(load_sample_data(\"/home/msst/Documents/medtech/brain_seg_dataset/CT_S5020\",\n",
    "                                 dtype=np.float32))\n",
    "    print(f'System memory after {i+1} sample: {psutil.virtual_memory().available/(1024**3)}Gb')\n",
    "del(data)"
   ]
  },
  {
   "cell_type": "code",
   "execution_count": null,
   "id": "1da1383f-c311-4ac5-994f-bf897f3e4de1",
   "metadata": {},
   "outputs": [],
   "source": []
  },
  {
   "cell_type": "code",
   "execution_count": null,
   "id": "e93c4b7c-b55c-4892-af9c-035e007d84bf",
   "metadata": {},
   "outputs": [],
   "source": []
  },
  {
   "cell_type": "code",
   "execution_count": null,
   "id": "41adcee6-c156-41bf-9319-b386c645281f",
   "metadata": {},
   "outputs": [],
   "source": []
  }
 ],
 "metadata": {
  "kernelspec": {
   "display_name": "Python 3",
   "language": "python",
   "name": "python3"
  },
  "language_info": {
   "codemirror_mode": {
    "name": "ipython",
    "version": 3
   },
   "file_extension": ".py",
   "mimetype": "text/x-python",
   "name": "python",
   "nbconvert_exporter": "python",
   "pygments_lexer": "ipython3",
   "version": "3.8.10"
  }
 },
 "nbformat": 4,
 "nbformat_minor": 5
}
