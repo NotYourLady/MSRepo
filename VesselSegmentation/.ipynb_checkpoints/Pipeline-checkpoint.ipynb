{
 "cells": [
  {
   "cell_type": "code",
   "execution_count": 19,
   "id": "e6ed8312-0921-4c0b-9ff4-e1c2a4b40496",
   "metadata": {
    "tags": []
   },
   "outputs": [],
   "source": [
    "%load_ext autoreload\n",
    "%autoreload 2"
   ]
  },
  {
   "cell_type": "markdown",
   "id": "7438d855-541c-4e45-807b-09a9fed8423e",
   "metadata": {},
   "source": [
    "<h3> Загрузка библиотек"
   ]
  },
  {
   "cell_type": "code",
   "execution_count": 20,
   "id": "3744124f-e9fb-4d39-a740-dddbacbb3d7a",
   "metadata": {
    "tags": []
   },
   "outputs": [],
   "source": [
    "import os\n",
    "import numpy as np\n",
    "\n",
    "import torch\n",
    "import torch.nn as nn\n",
    "from torch.optim.lr_scheduler import StepLR"
   ]
  },
  {
   "cell_type": "code",
   "execution_count": 21,
   "id": "8408058f-3519-48ea-a644-9845d03a4dc7",
   "metadata": {
    "tags": []
   },
   "outputs": [],
   "source": [
    "from ml.models.unet3d import U_Net\n",
    "from ml.models.rog import ROG\n",
    "from ml.models.unet_deepsup import U_Net_DeepSup\n",
    "\n",
    "from ml.utils import get_total_params, load_pretrainned\n",
    "from ml.dataset import HeadDataset\n",
    "from ml.controller import Controller\n",
    "from ml.losses import (ExponentialLogarithmicLoss, WeightedExpBCE, TverskyLoss,\n",
    "                       IOU_Metric, MultyscaleLoss, SumLoss, LinearCombLoss)"
   ]
  },
  {
   "cell_type": "code",
   "execution_count": 3,
   "id": "ec981751-c479-4c10-9364-6a6adfb50930",
   "metadata": {
    "tags": []
   },
   "outputs": [
    {
     "name": "stdout",
     "output_type": "stream",
     "text": [
      "cuda\n"
     ]
    }
   ],
   "source": [
    "device = torch.device('cuda' if torch.cuda.is_available() else 'cpu')\n",
    "print(device)"
   ]
  },
  {
   "cell_type": "code",
   "execution_count": 95,
   "id": "d361767b-f249-455b-8e2f-8fc545c860d7",
   "metadata": {
    "tags": []
   },
   "outputs": [],
   "source": [
    "train_settings  = {\n",
    "    \"patch_shape\" : (64, 64, 64),\n",
    "    \"patches_per_volume\" : 128,\n",
    "    \"augmentation_coef\" : 1,\n",
    "    \"patches_queue_length\" : 1440,\n",
    "    \"batch_size\" : 8,\n",
    "    \"num_workers\": 4,\n",
    "    \"sampler\": \"uniform\",#\"weighted\"\n",
    "}\n",
    "test_settings  = {\n",
    "    \"patch_shape\" : (64, 64, 64),#256, 256, 128),\n",
    "    \"overlap_shape\" : (16, 16, 12),#32, 32, 24),\n",
    "    \"batch_size\" : 1,\n",
    "    \"num_workers\": 4,\n",
    "}\n",
    "\n",
    "data_dir = \"/home/msst/Documents/medtech/HeadData\"\n",
    "dataset = HeadDataset(data_dir, train_settings, test_settings)"
   ]
  },
  {
   "cell_type": "code",
   "execution_count": null,
   "id": "00764c50-459d-4a05-b8e7-c7683355f235",
   "metadata": {
    "jupyter": {
     "source_hidden": true
    },
    "tags": []
   },
   "outputs": [],
   "source": [
    "train_settings = None\n",
    "test_settings  = {\n",
    "    \"patch_shape\" : (256, 256, 128),\n",
    "    \"overlap_shape\" : (32, 32, 24),\n",
    "    \"batch_size\" : 1,\n",
    "    \"num_workers\": 4,\n",
    "}\n",
    "\n",
    "data_dir = \"/home/msst/Documents/medtech/HeadData_test\"\n",
    "dataset = HeadDataset(data_dir, train_settings, test_settings)"
   ]
  },
  {
   "cell_type": "code",
   "execution_count": 100,
   "id": "c4263bc9-9589-4dba-9680-90fa565fc251",
   "metadata": {
    "tags": []
   },
   "outputs": [],
   "source": [
    "class swish(nn.Module):\n",
    "    def forward(self, input_tensor):\n",
    "        return input_tensor * torch.sigmoid(input_tensor)\n",
    "\n",
    "model = U_Net_DeepSup(channel_coef=16, act_fn=nn.ReLU())"
   ]
  },
  {
   "cell_type": "code",
   "execution_count": 101,
   "id": "884e1170-917b-475c-9061-1d24b423eee4",
   "metadata": {
    "tags": []
   },
   "outputs": [],
   "source": [
    "funcs_and_сoef_list = []\n",
    "\n",
    "#funcs_and_сoef_list.append([ExponentialLogarithmicLoss(gamma_tversky = 1, gamma_bce = 1, lamb=0.0,\n",
    "#                                   freq = 0.001, tversky_alfa=0.75), 1])\n",
    "\n",
    "funcs_and_сoef_list.append([TverskyLoss(0.75), 1])\n",
    "\n",
    "\n",
    "#funcs_and_сoef_list.append([SumLoss(alfa=0.5), 0.1])\n",
    "\n",
    "loss_fn = LinearCombLoss(funcs_and_сoef_list)"
   ]
  },
  {
   "cell_type": "code",
   "execution_count": 102,
   "id": "3ebf45eb-ff12-4c5d-874b-32d47452c450",
   "metadata": {
    "tags": []
   },
   "outputs": [],
   "source": [
    "#loss_fn = MultyscaleLoss(ExponentialLogarithmicLoss(gamma_tversky = 0.3, gamma_bce = 0.3, lamb=0.0,\n",
    "#                                                    freq = 0.001, tversky_alfa=0.75))\n",
    "\n",
    "metric_fn = IOU_Metric()\n",
    "\n",
    "controller_config = {\n",
    "    \"loss\" : loss_fn,\n",
    "    \"metric\" : metric_fn,\n",
    "    'device' : device,\n",
    "    \"optimizer_fn\" : lambda model: torch.optim.Adam(model.parameters(), lr=0.01),\n",
    "    \"sheduler_fn\": None,#lambda optimizer: StepLR(optimizer, step_size=3, gamma=0.1)\n",
    "}\n",
    "controller = Controller(controller_config)"
   ]
  },
  {
   "cell_type": "code",
   "execution_count": null,
   "id": "92c5e33f-86df-476a-90a5-5e6ef6d0603f",
   "metadata": {
    "tags": []
   },
   "outputs": [
    {
     "name": "stdout",
     "output_type": "stream",
     "text": [
      "Epoch 1/50\n"
     ]
    },
    {
     "name": "stderr",
     "output_type": "stream",
     "text": [
      "100%|███████████████████████████████████████████| 32/32 [00:37<00:00,  1.19s/it]\n"
     ]
    },
    {
     "name": "stdout",
     "output_type": "stream",
     "text": [
      "{'mean_loss': 0.9770656488835812}\n"
     ]
    },
    {
     "name": "stderr",
     "output_type": "stream",
     "text": [
      "100%|█████████████████████████████████████████████| 2/2 [00:21<00:00, 10.52s/it]\n"
     ]
    },
    {
     "name": "stdout",
     "output_type": "stream",
     "text": [
      "{'metrics': [{'sample': 'P62_CTA', 'seg_sum/GT_sum': tensor(0.), 'metric1': tensor([7.4426e-11])}, {'sample': 'new_CTA', 'seg_sum/GT_sum': tensor(0.), 'metric1': tensor([3.3899e-11])}]}\n",
      "Epoch 2/50\n"
     ]
    },
    {
     "name": "stderr",
     "output_type": "stream",
     "text": [
      "100%|███████████████████████████████████████████| 32/32 [00:37<00:00,  1.18s/it]\n"
     ]
    },
    {
     "name": "stdout",
     "output_type": "stream",
     "text": [
      "{'mean_loss': 0.9537089876830578}\n"
     ]
    },
    {
     "name": "stderr",
     "output_type": "stream",
     "text": [
      "100%|█████████████████████████████████████████████| 2/2 [00:20<00:00, 10.33s/it]\n"
     ]
    },
    {
     "name": "stdout",
     "output_type": "stream",
     "text": [
      "{'metrics': [{'sample': 'P62_CTA', 'seg_sum/GT_sum': tensor(0.), 'metric1': tensor([7.4426e-11])}, {'sample': 'new_CTA', 'seg_sum/GT_sum': tensor(0.), 'metric1': tensor([3.3899e-11])}]}\n",
      "Epoch 3/50\n"
     ]
    },
    {
     "name": "stderr",
     "output_type": "stream",
     "text": [
      "100%|███████████████████████████████████████████| 32/32 [00:38<00:00,  1.21s/it]\n"
     ]
    },
    {
     "name": "stdout",
     "output_type": "stream",
     "text": [
      "{'mean_loss': 0.8979582563042641}\n"
     ]
    },
    {
     "name": "stderr",
     "output_type": "stream",
     "text": [
      "100%|█████████████████████████████████████████████| 2/2 [00:21<00:00, 10.80s/it]\n"
     ]
    },
    {
     "name": "stdout",
     "output_type": "stream",
     "text": [
      "{'metrics': [{'sample': 'P62_CTA', 'seg_sum/GT_sum': tensor(0.), 'metric1': tensor([7.4426e-11])}, {'sample': 'new_CTA', 'seg_sum/GT_sum': tensor(0.), 'metric1': tensor([3.3899e-11])}]}\n",
      "Epoch 4/50\n"
     ]
    },
    {
     "name": "stderr",
     "output_type": "stream",
     "text": [
      "100%|███████████████████████████████████████████| 32/32 [00:38<00:00,  1.22s/it]\n"
     ]
    },
    {
     "name": "stdout",
     "output_type": "stream",
     "text": [
      "{'mean_loss': 0.8030530568212271}\n"
     ]
    },
    {
     "name": "stderr",
     "output_type": "stream",
     "text": [
      "100%|█████████████████████████████████████████████| 2/2 [00:22<00:00, 11.06s/it]\n"
     ]
    },
    {
     "name": "stdout",
     "output_type": "stream",
     "text": [
      "{'metrics': [{'sample': 'P62_CTA', 'seg_sum/GT_sum': tensor(0.), 'metric1': tensor([7.4426e-11])}, {'sample': 'new_CTA', 'seg_sum/GT_sum': tensor(0.), 'metric1': tensor([3.3899e-11])}]}\n",
      "Epoch 5/50\n"
     ]
    },
    {
     "name": "stderr",
     "output_type": "stream",
     "text": [
      "100%|███████████████████████████████████████████| 32/32 [00:39<00:00,  1.25s/it]\n"
     ]
    },
    {
     "name": "stdout",
     "output_type": "stream",
     "text": [
      "{'mean_loss': 0.7432166449725628}\n"
     ]
    },
    {
     "name": "stderr",
     "output_type": "stream",
     "text": [
      "100%|█████████████████████████████████████████████| 2/2 [00:21<00:00, 10.64s/it]\n"
     ]
    },
    {
     "name": "stdout",
     "output_type": "stream",
     "text": [
      "{'metrics': [{'sample': 'P62_CTA', 'seg_sum/GT_sum': tensor(0.), 'metric1': tensor([7.4426e-11])}, {'sample': 'new_CTA', 'seg_sum/GT_sum': tensor(0.), 'metric1': tensor([3.3899e-11])}]}\n",
      "Epoch 6/50\n"
     ]
    },
    {
     "name": "stderr",
     "output_type": "stream",
     "text": [
      "100%|███████████████████████████████████████████| 32/32 [00:39<00:00,  1.22s/it]\n"
     ]
    },
    {
     "name": "stdout",
     "output_type": "stream",
     "text": [
      "{'mean_loss': 0.7119327262043953}\n"
     ]
    },
    {
     "name": "stderr",
     "output_type": "stream",
     "text": [
      "100%|█████████████████████████████████████████████| 2/2 [00:21<00:00, 10.95s/it]\n"
     ]
    },
    {
     "name": "stdout",
     "output_type": "stream",
     "text": [
      "{'metrics': [{'sample': 'P62_CTA', 'seg_sum/GT_sum': tensor(0.), 'metric1': tensor([7.4426e-11])}, {'sample': 'new_CTA', 'seg_sum/GT_sum': tensor(0.), 'metric1': tensor([3.3899e-11])}]}\n",
      "Epoch 7/50\n"
     ]
    },
    {
     "name": "stderr",
     "output_type": "stream",
     "text": [
      "100%|███████████████████████████████████████████| 32/32 [00:38<00:00,  1.20s/it]\n"
     ]
    },
    {
     "name": "stdout",
     "output_type": "stream",
     "text": [
      "{'mean_loss': 0.6844022236764431}\n"
     ]
    },
    {
     "name": "stderr",
     "output_type": "stream",
     "text": [
      "100%|█████████████████████████████████████████████| 2/2 [00:21<00:00, 10.60s/it]\n"
     ]
    },
    {
     "name": "stdout",
     "output_type": "stream",
     "text": [
      "{'metrics': [{'sample': 'P62_CTA', 'seg_sum/GT_sum': tensor(0.), 'metric1': tensor([7.4426e-11])}, {'sample': 'new_CTA', 'seg_sum/GT_sum': tensor(0.), 'metric1': tensor([3.3899e-11])}]}\n",
      "Epoch 8/50\n"
     ]
    },
    {
     "name": "stderr",
     "output_type": "stream",
     "text": [
      "100%|███████████████████████████████████████████| 32/32 [00:38<00:00,  1.19s/it]\n"
     ]
    },
    {
     "name": "stdout",
     "output_type": "stream",
     "text": [
      "{'mean_loss': 0.6217542383819818}\n"
     ]
    },
    {
     "name": "stderr",
     "output_type": "stream",
     "text": [
      "100%|█████████████████████████████████████████████| 2/2 [00:21<00:00, 10.56s/it]\n"
     ]
    },
    {
     "name": "stdout",
     "output_type": "stream",
     "text": [
      "{'metrics': [{'sample': 'P62_CTA', 'seg_sum/GT_sum': tensor(0.), 'metric1': tensor([7.4426e-11])}, {'sample': 'new_CTA', 'seg_sum/GT_sum': tensor(0.), 'metric1': tensor([3.3899e-11])}]}\n",
      "Epoch 9/50\n"
     ]
    },
    {
     "name": "stderr",
     "output_type": "stream",
     "text": [
      "100%|███████████████████████████████████████████| 32/32 [00:38<00:00,  1.20s/it]\n"
     ]
    },
    {
     "name": "stdout",
     "output_type": "stream",
     "text": [
      "{'mean_loss': 0.574708916246891}\n"
     ]
    },
    {
     "name": "stderr",
     "output_type": "stream",
     "text": [
      "100%|█████████████████████████████████████████████| 2/2 [00:20<00:00, 10.46s/it]\n"
     ]
    },
    {
     "name": "stdout",
     "output_type": "stream",
     "text": [
      "{'metrics': [{'sample': 'P62_CTA', 'seg_sum/GT_sum': tensor(0.), 'metric1': tensor([7.4426e-11])}, {'sample': 'new_CTA', 'seg_sum/GT_sum': tensor(0.), 'metric1': tensor([3.3899e-11])}]}\n",
      "Epoch 10/50\n"
     ]
    },
    {
     "name": "stderr",
     "output_type": "stream",
     "text": [
      "100%|███████████████████████████████████████████| 32/32 [00:38<00:00,  1.20s/it]\n"
     ]
    },
    {
     "name": "stdout",
     "output_type": "stream",
     "text": [
      "{'mean_loss': 0.5815586391836405}\n"
     ]
    },
    {
     "name": "stderr",
     "output_type": "stream",
     "text": [
      "100%|█████████████████████████████████████████████| 2/2 [00:20<00:00, 10.45s/it]\n"
     ]
    },
    {
     "name": "stdout",
     "output_type": "stream",
     "text": [
      "{'metrics': [{'sample': 'P62_CTA', 'seg_sum/GT_sum': tensor(0.), 'metric1': tensor([7.4426e-11])}, {'sample': 'new_CTA', 'seg_sum/GT_sum': tensor(0.), 'metric1': tensor([3.3899e-11])}]}\n",
      "Epoch 11/50\n"
     ]
    },
    {
     "name": "stderr",
     "output_type": "stream",
     "text": [
      "100%|███████████████████████████████████████████| 32/32 [00:38<00:00,  1.21s/it]\n"
     ]
    },
    {
     "name": "stdout",
     "output_type": "stream",
     "text": [
      "{'mean_loss': 0.5966807883232832}\n"
     ]
    },
    {
     "name": "stderr",
     "output_type": "stream",
     "text": [
      "100%|█████████████████████████████████████████████| 2/2 [00:21<00:00, 10.90s/it]\n"
     ]
    },
    {
     "name": "stdout",
     "output_type": "stream",
     "text": [
      "{'metrics': [{'sample': 'P62_CTA', 'seg_sum/GT_sum': tensor(0.), 'metric1': tensor([7.4426e-11])}, {'sample': 'new_CTA', 'seg_sum/GT_sum': tensor(0.), 'metric1': tensor([3.3899e-11])}]}\n",
      "Epoch 12/50\n"
     ]
    },
    {
     "name": "stderr",
     "output_type": "stream",
     "text": [
      "100%|███████████████████████████████████████████| 32/32 [00:38<00:00,  1.20s/it]\n"
     ]
    },
    {
     "name": "stdout",
     "output_type": "stream",
     "text": [
      "{'mean_loss': 0.5705678146332502}\n"
     ]
    },
    {
     "name": "stderr",
     "output_type": "stream",
     "text": [
      "100%|█████████████████████████████████████████████| 2/2 [00:20<00:00, 10.40s/it]\n"
     ]
    },
    {
     "name": "stdout",
     "output_type": "stream",
     "text": [
      "{'metrics': [{'sample': 'P62_CTA', 'seg_sum/GT_sum': tensor(0.), 'metric1': tensor([7.4426e-11])}, {'sample': 'new_CTA', 'seg_sum/GT_sum': tensor(0.), 'metric1': tensor([3.3899e-11])}]}\n",
      "Epoch 13/50\n"
     ]
    },
    {
     "name": "stderr",
     "output_type": "stream",
     "text": [
      "100%|███████████████████████████████████████████| 32/32 [00:38<00:00,  1.19s/it]\n"
     ]
    },
    {
     "name": "stdout",
     "output_type": "stream",
     "text": [
      "{'mean_loss': 0.5590793024748564}\n"
     ]
    },
    {
     "name": "stderr",
     "output_type": "stream",
     "text": [
      "100%|█████████████████████████████████████████████| 2/2 [00:20<00:00, 10.41s/it]\n"
     ]
    },
    {
     "name": "stdout",
     "output_type": "stream",
     "text": [
      "{'metrics': [{'sample': 'P62_CTA', 'seg_sum/GT_sum': tensor(0.), 'metric1': tensor([7.4426e-11])}, {'sample': 'new_CTA', 'seg_sum/GT_sum': tensor(0.), 'metric1': tensor([3.3899e-11])}]}\n",
      "Epoch 14/50\n"
     ]
    },
    {
     "name": "stderr",
     "output_type": "stream",
     "text": [
      "100%|███████████████████████████████████████████| 32/32 [00:38<00:00,  1.21s/it]\n"
     ]
    },
    {
     "name": "stdout",
     "output_type": "stream",
     "text": [
      "{'mean_loss': 0.49858675710856915}\n"
     ]
    },
    {
     "name": "stderr",
     "output_type": "stream",
     "text": [
      "100%|█████████████████████████████████████████████| 2/2 [00:20<00:00, 10.43s/it]\n"
     ]
    },
    {
     "name": "stdout",
     "output_type": "stream",
     "text": [
      "{'metrics': [{'sample': 'P62_CTA', 'seg_sum/GT_sum': tensor(0.), 'metric1': tensor([7.4426e-11])}, {'sample': 'new_CTA', 'seg_sum/GT_sum': tensor(0.), 'metric1': tensor([3.3899e-11])}]}\n",
      "Epoch 15/50\n"
     ]
    },
    {
     "name": "stderr",
     "output_type": "stream",
     "text": [
      "100%|███████████████████████████████████████████| 32/32 [00:38<00:00,  1.20s/it]\n"
     ]
    },
    {
     "name": "stdout",
     "output_type": "stream",
     "text": [
      "{'mean_loss': 0.511908495798707}\n"
     ]
    },
    {
     "name": "stderr",
     "output_type": "stream",
     "text": [
      "100%|█████████████████████████████████████████████| 2/2 [00:21<00:00, 10.50s/it]\n"
     ]
    },
    {
     "name": "stdout",
     "output_type": "stream",
     "text": [
      "{'metrics': [{'sample': 'P62_CTA', 'seg_sum/GT_sum': tensor(0.), 'metric1': tensor([7.4426e-11])}, {'sample': 'new_CTA', 'seg_sum/GT_sum': tensor(0.), 'metric1': tensor([3.3899e-11])}]}\n",
      "Epoch 16/50\n"
     ]
    },
    {
     "name": "stderr",
     "output_type": "stream",
     "text": [
      "100%|███████████████████████████████████████████| 32/32 [00:38<00:00,  1.21s/it]\n"
     ]
    },
    {
     "name": "stdout",
     "output_type": "stream",
     "text": [
      "{'mean_loss': 0.5433359425514936}\n"
     ]
    },
    {
     "name": "stderr",
     "output_type": "stream",
     "text": [
      "100%|█████████████████████████████████████████████| 2/2 [00:21<00:00, 10.57s/it]\n"
     ]
    },
    {
     "name": "stdout",
     "output_type": "stream",
     "text": [
      "{'metrics': [{'sample': 'P62_CTA', 'seg_sum/GT_sum': tensor(0.), 'metric1': tensor([7.4426e-11])}, {'sample': 'new_CTA', 'seg_sum/GT_sum': tensor(0.), 'metric1': tensor([3.3899e-11])}]}\n",
      "Epoch 17/50\n"
     ]
    },
    {
     "name": "stderr",
     "output_type": "stream",
     "text": [
      "  0%|                                                    | 0/32 [00:00<?, ?it/s]"
     ]
    }
   ],
   "source": [
    "controller.fit(model, dataset, 50)"
   ]
  },
  {
   "cell_type": "code",
   "execution_count": null,
   "id": "1e40dd6d-e721-4e5c-968a-77b667d661e1",
   "metadata": {},
   "outputs": [],
   "source": []
  },
  {
   "cell_type": "code",
   "execution_count": null,
   "id": "97b0c2e6-b1fb-4047-a45f-ccfe7aab8a1d",
   "metadata": {},
   "outputs": [],
   "source": []
  },
  {
   "cell_type": "code",
   "execution_count": null,
   "id": "1b9e7a88-7f93-410f-b6aa-66671622406b",
   "metadata": {},
   "outputs": [],
   "source": []
  },
  {
   "cell_type": "code",
   "execution_count": null,
   "id": "5b5d61e6-1480-4344-8be8-7b1631328910",
   "metadata": {},
   "outputs": [],
   "source": []
  },
  {
   "cell_type": "code",
   "execution_count": 11,
   "id": "15de1186-7ac6-4cad-a85c-d8e586cd21df",
   "metadata": {},
   "outputs": [],
   "source": [
    "model_name = \"Unet16_logTversky_54\"\n",
    "#controller.save(\"/home/msst/repo/MSRepo/VesselSegmentation/saved_models/\" + model_name)"
   ]
  },
  {
   "cell_type": "code",
   "execution_count": 12,
   "id": "a7009241-3f7e-4aa1-996b-3f84f5c56e2b",
   "metadata": {
    "tags": []
   },
   "outputs": [],
   "source": [
    "controller.load_model(model, \"/home/msst/repo/MSRepo/VesselSegmentation/saved_models/\" + model_name)\n",
    "controller.model = model.to(device)"
   ]
  },
  {
   "cell_type": "code",
   "execution_count": 13,
   "id": "70b4e6b3-3777-49f6-a7bb-0b5d4fdaadeb",
   "metadata": {
    "tags": []
   },
   "outputs": [
    {
     "name": "stderr",
     "output_type": "stream",
     "text": [
      "100%|█████████████████████████████████████████████| 2/2 [00:22<00:00, 11.45s/it]\n"
     ]
    },
    {
     "data": {
      "text/plain": [
       "{'metrics': [{'sample': 'P62_CTA',\n",
       "   'seg_sum/GT_sum': tensor(0.6784),\n",
       "   'metric1': tensor([0.4902])},\n",
       "  {'sample': 'new_CTA',\n",
       "   'seg_sum/GT_sum': tensor(0.8539),\n",
       "   'metric1': tensor([0.3330])}]}"
      ]
     },
     "execution_count": 13,
     "metadata": {},
     "output_type": "execute_result"
    }
   ],
   "source": [
    "controller.val_epoch(dataset.test_dataloader)"
   ]
  },
  {
   "cell_type": "code",
   "execution_count": 27,
   "id": "28291f4b-66d9-4a06-855f-a86433d7e76e",
   "metadata": {
    "tags": []
   },
   "outputs": [
    {
     "name": "stderr",
     "output_type": "stream",
     "text": [
      "  0%|                                                     | 0/2 [00:06<?, ?it/s]\n"
     ]
    },
    {
     "ename": "KeyboardInterrupt",
     "evalue": "",
     "output_type": "error",
     "traceback": [
      "\u001b[0;31m---------------------------------------------------------------------------\u001b[0m",
      "\u001b[0;31mKeyboardInterrupt\u001b[0m                         Traceback (most recent call last)",
      "Cell \u001b[0;32mIn[27], line 4\u001b[0m\n\u001b[1;32m      2\u001b[0m \u001b[38;5;28;01mif\u001b[39;00m \u001b[38;5;129;01mnot\u001b[39;00m os\u001b[38;5;241m.\u001b[39mpath\u001b[38;5;241m.\u001b[39mexists(data_dir):\n\u001b[1;32m      3\u001b[0m     os\u001b[38;5;241m.\u001b[39mmkdir(data_dir)\n\u001b[0;32m----> 4\u001b[0m \u001b[43mcontroller\u001b[49m\u001b[38;5;241;43m.\u001b[39;49m\u001b[43mpredict\u001b[49m\u001b[43m(\u001b[49m\u001b[43mdataset\u001b[49m\u001b[38;5;241;43m.\u001b[39;49m\u001b[43mtest_dataloader\u001b[49m\u001b[43m,\u001b[49m\u001b[43m \u001b[49m\u001b[38;5;28;43;01mNone\u001b[39;49;00m\u001b[43m)\u001b[49m\n",
      "File \u001b[0;32m~/repo/MSRepo/VesselSegmentation/ml/controller.py:115\u001b[0m, in \u001b[0;36mController.predict\u001b[0;34m(self, test_dataloader, path_to_save)\u001b[0m\n\u001b[1;32m    113\u001b[0m head_seg \u001b[38;5;241m=\u001b[39m \u001b[38;5;28mself\u001b[39m\u001b[38;5;241m.\u001b[39mfast_predict(patch_loader, grid_aggregator)\n\u001b[1;32m    114\u001b[0m metric \u001b[38;5;241m=\u001b[39m \u001b[38;5;28mself\u001b[39m\u001b[38;5;241m.\u001b[39mmetric_fn(GT\u001b[38;5;241m.\u001b[39mdata, head_seg)\n\u001b[0;32m--> 115\u001b[0m metric \u001b[38;5;241m=\u001b[39m \u001b[38;5;28;43mself\u001b[39;49m\u001b[38;5;241;43m.\u001b[39;49m\u001b[43mmetric_fn\u001b[49m\u001b[43m(\u001b[49m\u001b[43mGT\u001b[49m\u001b[38;5;241;43m.\u001b[39;49m\u001b[43mdata\u001b[49m\u001b[43m,\u001b[49m\u001b[43m \u001b[49m\u001b[43mhead_seg\u001b[49m\u001b[43m)\u001b[49m\n\u001b[1;32m    116\u001b[0m metric \u001b[38;5;241m=\u001b[39m {\u001b[38;5;124m\"\u001b[39m\u001b[38;5;124msample\u001b[39m\u001b[38;5;124m\"\u001b[39m : sample_name,\n\u001b[1;32m    117\u001b[0m           \u001b[38;5;124m\"\u001b[39m\u001b[38;5;124mseg_sum/GT_sum\u001b[39m\u001b[38;5;124m\"\u001b[39m : head_seg\u001b[38;5;241m.\u001b[39msum()\u001b[38;5;241m/\u001b[39mGT\u001b[38;5;241m.\u001b[39mdata\u001b[38;5;241m.\u001b[39msum(),\n\u001b[1;32m    118\u001b[0m           \u001b[38;5;124m\"\u001b[39m\u001b[38;5;124mmetric1\u001b[39m\u001b[38;5;124m\"\u001b[39m : metric}\n\u001b[1;32m    119\u001b[0m \u001b[38;5;28mprint\u001b[39m(metric)\n",
      "File \u001b[0;32m~/repo/MSRepo/VesselSegmentation/ml/losses.py:17\u001b[0m, in \u001b[0;36mIOU_Metric.__call__\u001b[0;34m(self, outputs, labels)\u001b[0m\n\u001b[1;32m     15\u001b[0m SMOOTH \u001b[38;5;241m=\u001b[39m \u001b[38;5;241m1e-8\u001b[39m\n\u001b[1;32m     16\u001b[0m intersection \u001b[38;5;241m=\u001b[39m (outputs \u001b[38;5;241m&\u001b[39m labels)\u001b[38;5;241m.\u001b[39mfloat()\u001b[38;5;241m.\u001b[39msum((\u001b[38;5;241m1\u001b[39m, \u001b[38;5;241m2\u001b[39m, \u001b[38;5;241m3\u001b[39m))  \u001b[38;5;66;03m# Will be zero if Truth=0 or Prediction=0\u001b[39;00m\n\u001b[0;32m---> 17\u001b[0m union \u001b[38;5;241m=\u001b[39m \u001b[43m(\u001b[49m\u001b[43moutputs\u001b[49m\u001b[43m \u001b[49m\u001b[38;5;241;43m|\u001b[39;49m\u001b[43m \u001b[49m\u001b[43mlabels\u001b[49m\u001b[43m)\u001b[49m\u001b[38;5;241;43m.\u001b[39;49m\u001b[43mfloat\u001b[49m\u001b[43m(\u001b[49m\u001b[43m)\u001b[49m\u001b[38;5;241m.\u001b[39msum((\u001b[38;5;241m1\u001b[39m, \u001b[38;5;241m2\u001b[39m, \u001b[38;5;241m3\u001b[39m))         \u001b[38;5;66;03m# Will be zzero if both are 0\u001b[39;00m\n\u001b[1;32m     19\u001b[0m iou \u001b[38;5;241m=\u001b[39m (intersection \u001b[38;5;241m+\u001b[39m \u001b[38;5;28mself\u001b[39m\u001b[38;5;241m.\u001b[39meps) \u001b[38;5;241m/\u001b[39m (union \u001b[38;5;241m+\u001b[39m \u001b[38;5;28mself\u001b[39m\u001b[38;5;241m.\u001b[39meps)\n\u001b[1;32m     20\u001b[0m \u001b[38;5;28;01mif\u001b[39;00m \u001b[38;5;28mself\u001b[39m\u001b[38;5;241m.\u001b[39mthresh \u001b[38;5;129;01mis\u001b[39;00m \u001b[38;5;129;01mnot\u001b[39;00m \u001b[38;5;28;01mNone\u001b[39;00m:\n",
      "\u001b[0;31mKeyboardInterrupt\u001b[0m: "
     ]
    }
   ],
   "source": [
    "data_dir = \"seg_data/\" + model_name\n",
    "if not os.path.exists(data_dir):\n",
    "    os.mkdir(data_dir)\n",
    "controller.predict(dataset.test_dataloader, None)"
   ]
  },
  {
   "cell_type": "code",
   "execution_count": null,
   "id": "23d38ff3-a2d4-4eb5-9fc3-c12b80161529",
   "metadata": {},
   "outputs": [],
   "source": []
  }
 ],
 "metadata": {
  "kernelspec": {
   "display_name": "Python 3",
   "language": "python",
   "name": "python3"
  },
  "language_info": {
   "codemirror_mode": {
    "name": "ipython",
    "version": 3
   },
   "file_extension": ".py",
   "mimetype": "text/x-python",
   "name": "python",
   "nbconvert_exporter": "python",
   "pygments_lexer": "ipython3",
   "version": "3.8.10"
  }
 },
 "nbformat": 4,
 "nbformat_minor": 5
}
