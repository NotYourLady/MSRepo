{
 "cells": [
  {
   "cell_type": "code",
   "execution_count": null,
   "id": "e6ed8312-0921-4c0b-9ff4-e1c2a4b40496",
   "metadata": {
    "tags": []
   },
   "outputs": [],
   "source": [
    "%load_ext autoreload\n",
    "%autoreload 2"
   ]
  },
  {
   "cell_type": "markdown",
   "id": "7438d855-541c-4e45-807b-09a9fed8423e",
   "metadata": {},
   "source": [
    "<h3> Загрузка библиотек"
   ]
  },
  {
   "cell_type": "code",
   "execution_count": 1,
   "id": "3744124f-e9fb-4d39-a740-dddbacbb3d7a",
   "metadata": {
    "tags": []
   },
   "outputs": [],
   "source": [
    "import os\n",
    "import numpy as np\n",
    "\n",
    "import torch\n",
    "import torch.nn as nn\n",
    "from torch.optim.lr_scheduler import StepLR"
   ]
  },
  {
   "cell_type": "code",
   "execution_count": 2,
   "id": "8408058f-3519-48ea-a644-9845d03a4dc7",
   "metadata": {
    "tags": []
   },
   "outputs": [],
   "source": [
    "from ml.models.unet3d import U_Net\n",
    "from ml.models.rog import ROG\n",
    "from ml.models.unet_deepsup import Unet_MSS\n",
    "from ml.models.constructor import Net, NetBlock, conv_block, bottle_neck_connection\n",
    "\n",
    "from ml.utils import get_total_params, load_pretrainned\n",
    "from ml.tio_dataset import TioDataset\n",
    "from ml.controller import Controller\n",
    "from ml.losses import (ExponentialLogarithmicLoss, WeightedExpBCE, TverskyLoss,\n",
    "                       IOU_Metric, MultyscaleLoss, SumLoss, LinearCombLoss)"
   ]
  },
  {
   "cell_type": "code",
   "execution_count": 3,
   "id": "3aadbdee-16a9-475d-aec2-5fce7eb24602",
   "metadata": {
    "tags": []
   },
   "outputs": [
    {
     "name": "stdout",
     "output_type": "stream",
     "text": [
      "cuda\n"
     ]
    }
   ],
   "source": [
    "device = torch.device('cuda' if torch.cuda.is_available() else 'cpu')\n",
    "print(device)"
   ]
  },
  {
   "cell_type": "code",
   "execution_count": 4,
   "id": "620ff213-a408-4b6f-87b0-2a2c2a47c6e3",
   "metadata": {
    "tags": []
   },
   "outputs": [],
   "source": [
    "train_settings  = {\n",
    "    \"patch_shape\" : (64, 64, 64),\n",
    "    \"patches_per_volume\" : 128,\n",
    "    \"patches_queue_length\" : 1440,\n",
    "    \"batch_size\" : 4,\n",
    "    \"num_workers\": 4,\n",
    "    \"sampler\": \"weighted\" #\"uniform\",#\n",
    "}\n",
    "\n",
    "val_settings  = {\n",
    "    \"patch_shape\" : (64, 64, 64),\n",
    "    \"patches_per_volume\" : 32,\n",
    "    \"patches_queue_length\" : 1440,\n",
    "    \"batch_size\" : 8,\n",
    "    \"num_workers\": 4,\n",
    "    \"sampler\": \"uniform\",#\"weighted\" #\"uniform\",#\n",
    "}\n",
    "\n",
    "test_settings  = {\n",
    "    \"patch_shape\" : (128, 128, 128),\n",
    "    \"overlap_shape\" : (32, 32, 24),\n",
    "    \"batch_size\" : 1,\n",
    "    \"num_workers\": 4,\n",
    "}\n",
    "\n",
    "data_dir = \"/home/msst/Documents/medtech/MainData\"\n",
    "dataset = TioDataset(data_dir,\n",
    "                 train_settings=train_settings,\n",
    "                 val_settings=val_settings,\n",
    "                 test_settings=test_settings)"
   ]
  },
  {
   "cell_type": "code",
   "execution_count": 5,
   "id": "00764c50-459d-4a05-b8e7-c7683355f235",
   "metadata": {
    "jupyter": {
     "source_hidden": true
    },
    "tags": []
   },
   "outputs": [],
   "source": [
    "# test_settings  = {\n",
    "#     \"patch_shape\" : (128, 128, 128),\n",
    "#     \"overlap_shape\" : (32, 32, 24),\n",
    "#     \"batch_size\" : 1,\n",
    "#     \"num_workers\": 4,\n",
    "# }\n",
    "\n",
    "# data_dir = \"/home/msst/Documents/medtech/MainData_test\"\n",
    "# dataset = TioDataset(data_dir,\n",
    "#                      train_settings=None,\n",
    "#                      val_settings=None,\n",
    "#                      test_settings=test_settings)"
   ]
  },
  {
   "cell_type": "code",
   "execution_count": 6,
   "id": "c4263bc9-9589-4dba-9680-90fa565fc251",
   "metadata": {
    "jupyter": {
     "source_hidden": true
    },
    "tags": []
   },
   "outputs": [],
   "source": [
    "# class swish(nn.Module):\n",
    "#     def forward(self, input_tensor):\n",
    "#         return input_tensor * torch.sigmoid(input_tensor)\n",
    "\n",
    "# model = Unet_MSS(channel_coef=32, act_fn=swish())"
   ]
  },
  {
   "cell_type": "code",
   "execution_count": 7,
   "id": "bea90e4c-1141-402c-8e05-2ff04ee78c91",
   "metadata": {
    "tags": []
   },
   "outputs": [],
   "source": [
    "channel_coef = 8\n",
    "act_fn = nn.PReLU()\n",
    "\n",
    "block_11_settings = {\n",
    "    \"in_blocks\" : {\n",
    "        \"IN\" : nn.Identity(),\n",
    "        },    \n",
    "    \"backbone\" : conv_block(1, channel_coef, kernel_size=3, stride=1, padding=1, act_fn=act_fn), \n",
    "}\n",
    "\n",
    "block_12_settings = {\n",
    "    \"in_blocks\" : {\n",
    "        \"b21\" : nn.Upsample(scale_factor=2, mode='trilinear', align_corners=True),\n",
    "        \"b11\" : nn.Identity(),\n",
    "        },\n",
    "    \"backbone\" : conv_block(3*channel_coef, 4*channel_coef, kernel_size=3, stride=1, padding=1, act_fn=act_fn), \n",
    "}\n",
    "\n",
    "block_13_settings = {\n",
    "    \"in_blocks\" : {\n",
    "        \"b22\" : nn.Upsample(scale_factor=2, mode='trilinear', align_corners=True),\n",
    "        \"b12\" : bottle_neck_connection(4*channel_coef, 4*channel_coef, 8*channel_coef, act_fn=act_fn),\n",
    "        },\n",
    "    \"backbone\" : conv_block(12*channel_coef, 4*channel_coef, kernel_size=3, stride=1, padding=1, act_fn=act_fn), \n",
    "}\n",
    "\n",
    "block_14_settings = {\n",
    "    \"in_blocks\" : {\n",
    "        \"b23\" : nn.Upsample(scale_factor=2, mode='trilinear', align_corners=True),\n",
    "        \"b13\" : nn.Identity(),\n",
    "        },\n",
    "    \"backbone\" : conv_block(12*channel_coef, 4*channel_coef, kernel_size=3, stride=1, padding=1, act_fn=act_fn), \n",
    "}\n",
    "\n",
    "block_21_settings = {\n",
    "    \"in_blocks\" : {\n",
    "        \"b11\" : nn.MaxPool3d(2, 2),\n",
    "        },\n",
    "    \"backbone\" : conv_block(channel_coef, 2*channel_coef, kernel_size=3, stride=1, padding=1, act_fn=act_fn), \n",
    "}\n",
    "\n",
    "block_22_settings = {\n",
    "    \"in_blocks\" : {\n",
    "        \"b31\" : nn.Upsample(scale_factor=2, mode='trilinear', align_corners=True),\n",
    "        \"b21\" : nn.Identity(),\n",
    "        \"b12\" : nn.MaxPool3d(2, 2),\n",
    "        },\n",
    "    \"backbone\" : conv_block(10*channel_coef, 8*channel_coef, kernel_size=3, stride=1, padding=1, act_fn=act_fn), \n",
    "}\n",
    "\n",
    "block_23_settings = {\n",
    "    \"in_blocks\" : {\n",
    "        \"b32\" : nn.Upsample(scale_factor=2, mode='trilinear', align_corners=True),\n",
    "        \"b22\" : nn.Identity(),\n",
    "        \"b13\" : nn.MaxPool3d(2, 2),\n",
    "        },\n",
    "    \"backbone\" : conv_block(16*channel_coef, 8*channel_coef, kernel_size=3, stride=1, padding=1, act_fn=act_fn), \n",
    "}\n",
    "\n",
    "block_31_settings = {\n",
    "    \"in_blocks\" : {\n",
    "        \"b21\" : nn.MaxPool3d(2, 2),\n",
    "        },\n",
    "    \"backbone\" : conv_block(2*channel_coef, 4*channel_coef, kernel_size=3, stride=1, padding=1, act_fn=act_fn), \n",
    "}\n",
    "\n",
    "block_32_settings = {\n",
    "    \"in_blocks\" : {\n",
    "        \"b31\" : bottle_neck_connection(4*channel_coef, 4*channel_coef, 8*channel_coef, act_fn=act_fn),\n",
    "        \"b22\" : nn.MaxPool3d(2, 2),\n",
    "        },\n",
    "    \"backbone\" : conv_block(12*channel_coef, 4*channel_coef, kernel_size=3, stride=1, padding=1, act_fn=act_fn), \n",
    "}\n",
    "\n",
    "block_out_settings = {\n",
    "     \"in_blocks\" : {\n",
    "        \"b14\" : nn.Identity(),\n",
    "        },\n",
    "    \"backbone\" : conv_block(4*channel_coef, 1, kernel_size=3, stride=1, padding=1, act_fn=nn.Sigmoid()),\n",
    "}\n",
    "\n",
    "net_blocks = { \n",
    "    \"b11\" : NetBlock(block_11_settings),\n",
    "    \"b12\" : NetBlock(block_12_settings),\n",
    "    \"b13\" : NetBlock(block_13_settings),\n",
    "    \"b14\" : NetBlock(block_14_settings),\n",
    "    \"b21\" : NetBlock(block_21_settings),\n",
    "    \"b22\" : NetBlock(block_22_settings),\n",
    "    \"b23\" : NetBlock(block_23_settings),\n",
    "    \"b31\" : NetBlock(block_31_settings),\n",
    "    \"b32\" : NetBlock(block_32_settings),\n",
    "    \"out\" : NetBlock(block_out_settings),\n",
    "}\n",
    "\n",
    "model = Net(net_blocks)"
   ]
  },
  {
   "cell_type": "code",
   "execution_count": 8,
   "id": "1891bca7-6230-4c60-9e94-4bb2834e8fd3",
   "metadata": {
    "tags": []
   },
   "outputs": [
    {
     "data": {
      "text/plain": [
       "1247274"
      ]
     },
     "execution_count": 8,
     "metadata": {},
     "output_type": "execute_result"
    }
   ],
   "source": [
    "get_total_params(model)"
   ]
  },
  {
   "cell_type": "code",
   "execution_count": 9,
   "id": "884e1170-917b-475c-9061-1d24b423eee4",
   "metadata": {
    "jupyter": {
     "source_hidden": true
    },
    "tags": []
   },
   "outputs": [],
   "source": [
    "#funcs_and_сoef_list = []\n",
    "\n",
    "#funcs_and_сoef_list.append([ExponentialLogarithmicLoss(gamma_tversky = 1, gamma_bce = 1, lamb=0.0,\n",
    "#                                   freq = 0.001, tversky_alfa=0.75), 1])\n",
    "\n",
    "#funcs_and_сoef_list.append([TverskyLoss(0.75), 1])\n",
    "\n",
    "\n",
    "#funcs_and_сoef_list.append([SumLoss(alfa=0.5), 0.1])\n",
    "\n",
    "#loss_fn = LinearCombLoss(funcs_and_сoef_list)"
   ]
  },
  {
   "cell_type": "code",
   "execution_count": 10,
   "id": "3ebf45eb-ff12-4c5d-874b-32d47452c450",
   "metadata": {
    "tags": []
   },
   "outputs": [
    {
     "name": "stdout",
     "output_type": "stream",
     "text": [
      "cuda\n"
     ]
    }
   ],
   "source": [
    "loss_fn = MultyscaleLoss(ExponentialLogarithmicLoss(gamma_tversky = 1, gamma_bce = 1, lamb=0.9,\n",
    "                                                    freq = 0.001, tversky_alfa=0.55))\n",
    "metric_fn = IOU_Metric()\n",
    "\n",
    "controller_config = {\n",
    "    \"loss\" : loss_fn,\n",
    "    \"metric\" : metric_fn,\n",
    "    'device' : device,\n",
    "    \"optimizer_fn\" : lambda model: torch.optim.ASGD(model.parameters(), lr=0.1),\n",
    "    \"sheduler_fn\": lambda optimizer: StepLR(optimizer, step_size=5, gamma=0.5)\n",
    "}\n",
    "controller = Controller(controller_config)"
   ]
  },
  {
   "cell_type": "code",
   "execution_count": null,
   "id": "92c5e33f-86df-476a-90a5-5e6ef6d0603f",
   "metadata": {
    "tags": []
   },
   "outputs": [
    {
     "name": "stdout",
     "output_type": "stream",
     "text": [
      "Epoch 1/50\n"
     ]
    },
    {
     "name": "stderr",
     "output_type": "stream",
     "text": [
      "100%|█████████████████████████████████████████| 128/128 [01:12<00:00,  1.78it/s]\n"
     ]
    },
    {
     "name": "stdout",
     "output_type": "stream",
     "text": [
      "{'mean_loss': 1.0435931296087801}\n"
     ]
    },
    {
     "name": "stderr",
     "output_type": "stream",
     "text": [
      "100%|█████████████████████████████████████████████| 8/8 [00:02<00:00,  3.44it/s]\n"
     ]
    },
    {
     "name": "stdout",
     "output_type": "stream",
     "text": [
      "{'mean_loss': 0.919118233025074}\n"
     ]
    },
    {
     "name": "stderr",
     "output_type": "stream",
     "text": [
      "  0%|                                                     | 0/2 [00:00<?, ?it/s]"
     ]
    }
   ],
   "source": [
    "controller.fit(model, dataset, 50)"
   ]
  },
  {
   "cell_type": "code",
   "execution_count": null,
   "id": "5b5d61e6-1480-4344-8be8-7b1631328910",
   "metadata": {},
   "outputs": [],
   "source": []
  },
  {
   "cell_type": "code",
   "execution_count": 14,
   "id": "15de1186-7ac6-4cad-a85c-d8e586cd21df",
   "metadata": {},
   "outputs": [],
   "source": [
    "model_name = \"UnetMSS32_ExpLog09_34\"#\"Unet16_ExpLog09_25\"#\"Unet16_ExpLog09_100\"#\"Unet16_logTversky_54\"\n",
    "#controller.save(\"/home/msst/repo/MSRepo/VesselSegmentation/saved_models/\" + model_name)"
   ]
  },
  {
   "cell_type": "code",
   "execution_count": 10,
   "id": "a7009241-3f7e-4aa1-996b-3f84f5c56e2b",
   "metadata": {
    "tags": []
   },
   "outputs": [],
   "source": [
    "#controller.load_model(model, \"/home/msst/repo/MSRepo/VesselSegmentation/saved_models/\" + model_name)\n",
    "#controller.model = model.to(device)"
   ]
  },
  {
   "cell_type": "code",
   "execution_count": 15,
   "id": "89f3ce65-98bd-4d45-baa1-5abfa649d6ee",
   "metadata": {},
   "outputs": [],
   "source": [
    "path_to_check= \"/home/msst/repo/MSRepo/VesselSegmentation/saved_models/\" + model_name\n",
    "controller.load(model, path_to_checkpoint=path_to_check)"
   ]
  },
  {
   "cell_type": "code",
   "execution_count": null,
   "id": "f5cfb833-e09e-441c-97c0-dd961a3adcca",
   "metadata": {},
   "outputs": [],
   "source": []
  },
  {
   "cell_type": "code",
   "execution_count": 12,
   "id": "70b4e6b3-3777-49f6-a7bb-0b5d4fdaadeb",
   "metadata": {
    "collapsed": true,
    "jupyter": {
     "outputs_hidden": true,
     "source_hidden": true
    },
    "tags": []
   },
   "outputs": [
    {
     "name": "stderr",
     "output_type": "stream",
     "text": [
      "100%|█████████████████████████████████████████████| 7/7 [01:15<00:00, 10.74s/it]\n"
     ]
    },
    {
     "data": {
      "text/plain": [
       "{'metrics': [{'sample': 'P62_CTA',\n",
       "   'seg_sum/GT_sum': tensor(0.0060),\n",
       "   'metric1': tensor([7.3981e-11])},\n",
       "  {'sample': 'P28_CTA',\n",
       "   'seg_sum/GT_sum': tensor(0.0002),\n",
       "   'metric1': tensor([0.0011])},\n",
       "  {'sample': 'P12_CTA',\n",
       "   'seg_sum/GT_sum': tensor(74.4396),\n",
       "   'metric1': tensor([0.0129])},\n",
       "  {'sample': 'P70_CTA',\n",
       "   'seg_sum/GT_sum': tensor(0.0044),\n",
       "   'metric1': tensor([0.0011])},\n",
       "  {'sample': 'P35_CTA',\n",
       "   'seg_sum/GT_sum': tensor(0.0040),\n",
       "   'metric1': tensor([0.0006])},\n",
       "  {'sample': 'new_CTA',\n",
       "   'seg_sum/GT_sum': tensor(0.0035),\n",
       "   'metric1': tensor([7.4289e-05])},\n",
       "  {'sample': 'CT_S5020',\n",
       "   'seg_sum/GT_sum': tensor(36.7029),\n",
       "   'metric1': tensor([0.0207])}]}"
      ]
     },
     "execution_count": 12,
     "metadata": {},
     "output_type": "execute_result"
    }
   ],
   "source": [
    "controller.val_epoch(dataset.test_dataloader)"
   ]
  },
  {
   "cell_type": "code",
   "execution_count": 21,
   "id": "28291f4b-66d9-4a06-855f-a86433d7e76e",
   "metadata": {
    "tags": []
   },
   "outputs": [
    {
     "name": "stderr",
     "output_type": "stream",
     "text": [
      "100%|█████████████████████████████████████████████| 6/6 [02:49<00:00, 28.33s/it]\n"
     ]
    },
    {
     "data": {
      "text/plain": [
       "[{'sample': 'P62_CTA_0',\n",
       "  'seg_sum/GT_sum': tensor(3.3345),\n",
       "  'metric1': tensor([0.2538])},\n",
       " {'sample': 'P70_CTA_0',\n",
       "  'seg_sum/GT_sum': tensor(0.0003),\n",
       "  'metric1': tensor([7.3287e-05])},\n",
       " {'sample': 'P12_CTA_0',\n",
       "  'seg_sum/GT_sum': tensor(6.4134),\n",
       "  'metric1': tensor([0.1475])},\n",
       " {'sample': 'P28_CTA_0',\n",
       "  'seg_sum/GT_sum': tensor(7.6404e-06),\n",
       "  'metric1': tensor([3.6783e-05])},\n",
       " {'sample': 'P35_CTA_0',\n",
       "  'seg_sum/GT_sum': tensor(0.0002),\n",
       "  'metric1': tensor([2.7909e-05])},\n",
       " {'sample': 'CT_S5020_0',\n",
       "  'seg_sum/GT_sum': tensor(5.6240),\n",
       "  'metric1': tensor([0.1178])}]"
      ]
     },
     "execution_count": 21,
     "metadata": {},
     "output_type": "execute_result"
    }
   ],
   "source": [
    "data_dir = \"seg_data/\" + model_name\n",
    "if not os.path.exists(data_dir):\n",
    "    os.mkdir(data_dir)\n",
    "controller.predict(dataset.test_dataloader, data_dir)"
   ]
  },
  {
   "cell_type": "code",
   "execution_count": null,
   "id": "23d38ff3-a2d4-4eb5-9fc3-c12b80161529",
   "metadata": {},
   "outputs": [],
   "source": []
  }
 ],
 "metadata": {
  "kernelspec": {
   "display_name": "Python 3",
   "language": "python",
   "name": "python3"
  },
  "language_info": {
   "codemirror_mode": {
    "name": "ipython",
    "version": 3
   },
   "file_extension": ".py",
   "mimetype": "text/x-python",
   "name": "python",
   "nbconvert_exporter": "python",
   "pygments_lexer": "ipython3",
   "version": "3.8.10"
  }
 },
 "nbformat": 4,
 "nbformat_minor": 5
}
