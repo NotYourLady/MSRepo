{
 "cells": [
  {
   "cell_type": "code",
   "execution_count": 10,
   "id": "e6ed8312-0921-4c0b-9ff4-e1c2a4b40496",
   "metadata": {
    "tags": []
   },
   "outputs": [
    {
     "name": "stdout",
     "output_type": "stream",
     "text": [
      "The autoreload extension is already loaded. To reload it, use:\n",
      "  %reload_ext autoreload\n"
     ]
    }
   ],
   "source": [
    "%load_ext autoreload\n",
    "%autoreload 2"
   ]
  },
  {
   "cell_type": "markdown",
   "id": "7438d855-541c-4e45-807b-09a9fed8423e",
   "metadata": {},
   "source": [
    "<h3> Загрузка библиотек"
   ]
  },
  {
   "cell_type": "code",
   "execution_count": 11,
   "id": "3744124f-e9fb-4d39-a740-dddbacbb3d7a",
   "metadata": {
    "tags": []
   },
   "outputs": [],
   "source": [
    "import os\n",
    "import numpy as np\n",
    "\n",
    "import torch\n",
    "import torch.nn as nn\n",
    "from torch.optim.lr_scheduler import StepLR"
   ]
  },
  {
   "cell_type": "code",
   "execution_count": null,
   "id": "8408058f-3519-48ea-a644-9845d03a4dc7",
   "metadata": {
    "tags": []
   },
   "outputs": [],
   "source": [
    "from ml.models.unet3d import U_Net\n",
    "from ml.models.rog import ROG\n",
    "from ml.models.unet_deepsup import Unet_MSS\n",
    "from ml.models.LiquidNet import LiquidNet, LiquidNetBlock, conv_block, bottle_neck_connection\n",
    "from ml.models.LiquidNet_configs.second_config import get_config\n",
    "\n",
    "from ml.activates import swish\n",
    "from ml.utils import get_total_params, load_pretrainned\n",
    "from ml.tio_dataset import TioDataset\n",
    "from ml.controller import Controller\n",
    "from ml.losses import (ExponentialLogarithmicLoss, WeightedExpBCE, TverskyLoss,\n",
    "                       IOU_Metric, MultyscaleLoss, SumLoss, LinearCombLoss)"
   ]
  },
  {
   "cell_type": "code",
   "execution_count": 13,
   "id": "3aadbdee-16a9-475d-aec2-5fce7eb24602",
   "metadata": {
    "tags": []
   },
   "outputs": [
    {
     "name": "stdout",
     "output_type": "stream",
     "text": [
      "cuda\n"
     ]
    }
   ],
   "source": [
    "device = torch.device('cuda' if torch.cuda.is_available() else 'cpu')\n",
    "print(device)"
   ]
  },
  {
   "cell_type": "code",
   "execution_count": 14,
   "id": "620ff213-a408-4b6f-87b0-2a2c2a47c6e3",
   "metadata": {
    "tags": []
   },
   "outputs": [],
   "source": [
    "train_settings  = {\n",
    "    \"patch_shape\" : (64, 64, 64),\n",
    "    \"patches_per_volume\" : 128,\n",
    "    \"patches_queue_length\" : 1440,\n",
    "    \"batch_size\" : 8,\n",
    "    \"num_workers\": 4,\n",
    "    \"sampler\": \"weighted\" #\"uniform\",#\n",
    "}\n",
    "\n",
    "val_settings  = {\n",
    "    \"patch_shape\" : (64, 64, 64),\n",
    "    \"patches_per_volume\" : 32,\n",
    "    \"patches_queue_length\" : 1440,\n",
    "    \"batch_size\" : 8,\n",
    "    \"num_workers\": 4,\n",
    "    \"sampler\": \"uniform\",#\"weighted\" #\"uniform\",#\n",
    "}\n",
    "\n",
    "test_settings  = {\n",
    "    \"patch_shape\" : (256, 256, 128),\n",
    "    \"overlap_shape\" : (32, 32, 24),\n",
    "    \"batch_size\" : 1,\n",
    "    \"num_workers\": 4,\n",
    "}\n",
    "\n",
    "data_dir = \"/home/msst/Documents/medtech/MainData\"\n",
    "dataset = TioDataset(data_dir,\n",
    "                 train_settings=train_settings,\n",
    "                 val_settings=val_settings,\n",
    "                 test_settings=test_settings)"
   ]
  },
  {
   "cell_type": "code",
   "execution_count": 15,
   "id": "00764c50-459d-4a05-b8e7-c7683355f235",
   "metadata": {
    "jupyter": {
     "source_hidden": true
    },
    "tags": []
   },
   "outputs": [],
   "source": [
    "# test_settings  = {\n",
    "#     \"patch_shape\" : (128, 128, 128),\n",
    "#     \"overlap_shape\" : (32, 32, 24),\n",
    "#     \"batch_size\" : 1,\n",
    "#     \"num_workers\": 4,\n",
    "# }\n",
    "\n",
    "# data_dir = \"/home/msst/Documents/medtech/MainData_test\"\n",
    "# dataset = TioDataset(data_dir,\n",
    "#                      train_settings=None,\n",
    "#                      val_settings=None,\n",
    "#                      test_settings=test_settings)"
   ]
  },
  {
   "cell_type": "code",
   "execution_count": 16,
   "id": "c4263bc9-9589-4dba-9680-90fa565fc251",
   "metadata": {
    "tags": []
   },
   "outputs": [],
   "source": [
    "# model = Unet_MSS(channel_coef=32, act_fn=swish())"
   ]
  },
  {
   "cell_type": "code",
   "execution_count": 17,
   "id": "02d7954e-3203-42d5-8acc-c0b416f724dd",
   "metadata": {
    "tags": []
   },
   "outputs": [
    {
     "name": "stdout",
     "output_type": "stream",
     "text": [
      "total_params: 1327955\n"
     ]
    },
    {
     "data": {
      "text/plain": [
       "{'IN': ['b11'],\n",
       " 'b11': ['b21', 'b12'],\n",
       " 'b21': ['b31', 'b12', 'b22'],\n",
       " 'b31': ['b41', 'b22', 'b32'],\n",
       " 'b12': ['b22', 'b13'],\n",
       " 'b22': ['b32', 'b13', 'b23'],\n",
       " 'b41': ['b32', 'b42'],\n",
       " 'b32': ['b42', 'b23', 'b33'],\n",
       " 'b13': ['b23', 'b14'],\n",
       " 'b23': ['b33', 'b14', 'b24'],\n",
       " 'b42': ['b33'],\n",
       " 'b33': ['b24'],\n",
       " 'b14': ['b24', 'out1', 'b15'],\n",
       " 'b24': ['out2', 'b15']}"
      ]
     },
     "execution_count": 17,
     "metadata": {},
     "output_type": "execute_result"
    }
   ],
   "source": [
    "\n",
    "model = LiquidNet(*get_config(16), debug=False)\n",
    "print(\"total_params:\", get_total_params(model))\n",
    "model.net_graph"
   ]
  },
  {
   "cell_type": "code",
   "execution_count": 18,
   "id": "1891bca7-6230-4c60-9e94-4bb2834e8fd3",
   "metadata": {
    "tags": []
   },
   "outputs": [
    {
     "data": {
      "text/plain": [
       "1327955"
      ]
     },
     "execution_count": 18,
     "metadata": {},
     "output_type": "execute_result"
    }
   ],
   "source": [
    "get_total_params(model)"
   ]
  },
  {
   "cell_type": "code",
   "execution_count": 19,
   "id": "884e1170-917b-475c-9061-1d24b423eee4",
   "metadata": {
    "jupyter": {
     "source_hidden": true
    },
    "tags": []
   },
   "outputs": [],
   "source": [
    "#funcs_and_сoef_list = []\n",
    "\n",
    "#funcs_and_сoef_list.append([ExponentialLogarithmicLoss(gamma_tversky = 1, gamma_bce = 1, lamb=0.0,\n",
    "#                                   freq = 0.001, tversky_alfa=0.75), 1])\n",
    "\n",
    "#funcs_and_сoef_list.append([TverskyLoss(0.75), 1])\n",
    "\n",
    "\n",
    "#funcs_and_сoef_list.append([SumLoss(alfa=0.5), 0.1])\n",
    "\n",
    "#loss_fn = LinearCombLoss(funcs_and_сoef_list)"
   ]
  },
  {
   "cell_type": "code",
   "execution_count": 20,
   "id": "3ebf45eb-ff12-4c5d-874b-32d47452c450",
   "metadata": {
    "tags": []
   },
   "outputs": [
    {
     "name": "stdout",
     "output_type": "stream",
     "text": [
      "cuda\n"
     ]
    }
   ],
   "source": [
    "loss_fn = MultyscaleLoss(ExponentialLogarithmicLoss(gamma_tversky = 0.3, gamma_bce = 0.3, lamb=0.9,\n",
    "                                                    freq = 0.001, tversky_alfa=0.55))\n",
    "metric_fn = IOU_Metric()\n",
    "\n",
    "controller_config = {\n",
    "    \"loss\" : loss_fn,\n",
    "    \"metric\" : metric_fn,\n",
    "    'device' : device,\n",
    "    \"optimizer_fn\" : lambda model: torch.optim.ASGD(model.parameters(), lr=0.1),\n",
    "    \"sheduler_fn\": lambda optimizer: StepLR(optimizer, step_size=5, gamma=0.5)\n",
    "}\n",
    "controller = Controller(controller_config)"
   ]
  },
  {
   "cell_type": "code",
   "execution_count": null,
   "id": "92c5e33f-86df-476a-90a5-5e6ef6d0603f",
   "metadata": {
    "tags": []
   },
   "outputs": [
    {
     "name": "stdout",
     "output_type": "stream",
     "text": [
      "Epoch 1/50\n"
     ]
    },
    {
     "name": "stderr",
     "output_type": "stream",
     "text": [
      "100%|█████████████████████████████████████████| 128/128 [00:33<00:00,  3.83it/s]\n"
     ]
    },
    {
     "name": "stdout",
     "output_type": "stream",
     "text": [
      "{'mean_loss': 1.5768132591620088}\n"
     ]
    },
    {
     "name": "stderr",
     "output_type": "stream",
     "text": [
      "100%|█████████████████████████████████████████████| 8/8 [00:01<00:00,  5.96it/s]\n"
     ]
    },
    {
     "name": "stdout",
     "output_type": "stream",
     "text": [
      "{'mean_loss': 1.3402249366044998}\n"
     ]
    },
    {
     "name": "stderr",
     "output_type": "stream",
     "text": [
      "100%|█████████████████████████████████████████████| 2/2 [00:24<00:00, 12.34s/it]\n"
     ]
    },
    {
     "name": "stdout",
     "output_type": "stream",
     "text": [
      "{'metrics': [{'sample': 'P62_CTA_0', 'seg_sum/GT_sum': tensor(7.5660), 'metric1': tensor([0.0367])}, {'sample': 'new_CTA_0', 'seg_sum/GT_sum': tensor(5.9028), 'metric1': tensor([0.0724])}]}\n",
      "Epoch 2/50\n"
     ]
    },
    {
     "name": "stderr",
     "output_type": "stream",
     "text": [
      "100%|█████████████████████████████████████████| 128/128 [00:35<00:00,  3.65it/s]\n"
     ]
    },
    {
     "name": "stdout",
     "output_type": "stream",
     "text": [
      "{'mean_loss': 1.267041991930455}\n"
     ]
    },
    {
     "name": "stderr",
     "output_type": "stream",
     "text": [
      "100%|█████████████████████████████████████████████| 8/8 [00:03<00:00,  2.57it/s]\n"
     ]
    },
    {
     "name": "stdout",
     "output_type": "stream",
     "text": [
      "{'mean_loss': 0.947808176279068}\n"
     ]
    },
    {
     "name": "stderr",
     "output_type": "stream",
     "text": [
      "100%|█████████████████████████████████████████████| 2/2 [00:24<00:00, 12.35s/it]\n"
     ]
    },
    {
     "name": "stdout",
     "output_type": "stream",
     "text": [
      "{'metrics': [{'sample': 'P62_CTA_0', 'seg_sum/GT_sum': tensor(3.8283), 'metric1': tensor([0.1018])}, {'sample': 'new_CTA_0', 'seg_sum/GT_sum': tensor(3.4764), 'metric1': tensor([0.1373])}]}\n",
      "Epoch 3/50\n"
     ]
    },
    {
     "name": "stderr",
     "output_type": "stream",
     "text": [
      "100%|█████████████████████████████████████████| 128/128 [00:35<00:00,  3.65it/s]\n"
     ]
    },
    {
     "name": "stdout",
     "output_type": "stream",
     "text": [
      "{'mean_loss': 0.9599561681970954}\n"
     ]
    },
    {
     "name": "stderr",
     "output_type": "stream",
     "text": [
      "100%|█████████████████████████████████████████████| 8/8 [00:03<00:00,  2.51it/s]\n"
     ]
    },
    {
     "name": "stdout",
     "output_type": "stream",
     "text": [
      "{'mean_loss': 0.8775595277547836}\n"
     ]
    },
    {
     "name": "stderr",
     "output_type": "stream",
     "text": [
      "100%|█████████████████████████████████████████████| 2/2 [00:24<00:00, 12.36s/it]\n"
     ]
    },
    {
     "name": "stdout",
     "output_type": "stream",
     "text": [
      "{'metrics': [{'sample': 'P62_CTA_0', 'seg_sum/GT_sum': tensor(3.0720), 'metric1': tensor([0.1639])}, {'sample': 'new_CTA_0', 'seg_sum/GT_sum': tensor(3.1301), 'metric1': tensor([0.1749])}]}\n",
      "Epoch 4/50\n"
     ]
    },
    {
     "name": "stderr",
     "output_type": "stream",
     "text": [
      "100%|█████████████████████████████████████████| 128/128 [00:35<00:00,  3.63it/s]\n"
     ]
    },
    {
     "name": "stdout",
     "output_type": "stream",
     "text": [
      "{'mean_loss': 1.0193050964735448}\n"
     ]
    },
    {
     "name": "stderr",
     "output_type": "stream",
     "text": [
      "100%|█████████████████████████████████████████████| 8/8 [00:03<00:00,  2.46it/s]\n"
     ]
    },
    {
     "name": "stdout",
     "output_type": "stream",
     "text": [
      "{'mean_loss': 0.868098609149456}\n"
     ]
    },
    {
     "name": "stderr",
     "output_type": "stream",
     "text": [
      "100%|█████████████████████████████████████████████| 2/2 [00:25<00:00, 12.56s/it]\n"
     ]
    },
    {
     "name": "stdout",
     "output_type": "stream",
     "text": [
      "{'metrics': [{'sample': 'P62_CTA_0', 'seg_sum/GT_sum': tensor(2.5038), 'metric1': tensor([0.2173])}, {'sample': 'new_CTA_0', 'seg_sum/GT_sum': tensor(2.5867), 'metric1': tensor([0.2259])}]}\n",
      "Epoch 5/50\n"
     ]
    },
    {
     "name": "stderr",
     "output_type": "stream",
     "text": [
      "100%|█████████████████████████████████████████| 128/128 [00:35<00:00,  3.64it/s]\n"
     ]
    },
    {
     "name": "stdout",
     "output_type": "stream",
     "text": [
      "{'mean_loss': 0.8172764382325113}\n"
     ]
    },
    {
     "name": "stderr",
     "output_type": "stream",
     "text": [
      "100%|█████████████████████████████████████████████| 8/8 [00:03<00:00,  2.50it/s]\n"
     ]
    },
    {
     "name": "stdout",
     "output_type": "stream",
     "text": [
      "{'mean_loss': 0.768108420073986}\n"
     ]
    },
    {
     "name": "stderr",
     "output_type": "stream",
     "text": [
      "100%|█████████████████████████████████████████████| 2/2 [00:24<00:00, 12.42s/it]\n"
     ]
    },
    {
     "name": "stdout",
     "output_type": "stream",
     "text": [
      "{'metrics': [{'sample': 'P62_CTA_0', 'seg_sum/GT_sum': tensor(2.4461), 'metric1': tensor([0.2468])}, {'sample': 'new_CTA_0', 'seg_sum/GT_sum': tensor(2.5100), 'metric1': tensor([0.2277])}]}\n",
      "Epoch 6/50\n"
     ]
    },
    {
     "name": "stderr",
     "output_type": "stream",
     "text": [
      "100%|█████████████████████████████████████████| 128/128 [00:35<00:00,  3.64it/s]\n"
     ]
    },
    {
     "name": "stdout",
     "output_type": "stream",
     "text": [
      "{'mean_loss': 0.7528947864193469}\n"
     ]
    },
    {
     "name": "stderr",
     "output_type": "stream",
     "text": [
      "100%|█████████████████████████████████████████████| 8/8 [00:03<00:00,  2.48it/s]\n"
     ]
    },
    {
     "name": "stdout",
     "output_type": "stream",
     "text": [
      "{'mean_loss': 0.7521408125758171}\n"
     ]
    },
    {
     "name": "stderr",
     "output_type": "stream",
     "text": [
      "100%|█████████████████████████████████████████████| 2/2 [00:24<00:00, 12.43s/it]\n"
     ]
    },
    {
     "name": "stdout",
     "output_type": "stream",
     "text": [
      "{'metrics': [{'sample': 'P62_CTA_0', 'seg_sum/GT_sum': tensor(2.2496), 'metric1': tensor([0.2786])}, {'sample': 'new_CTA_0', 'seg_sum/GT_sum': tensor(2.2541), 'metric1': tensor([0.2590])}]}\n",
      "Epoch 7/50\n"
     ]
    },
    {
     "name": "stderr",
     "output_type": "stream",
     "text": [
      "100%|█████████████████████████████████████████| 128/128 [00:34<00:00,  3.66it/s]\n"
     ]
    },
    {
     "name": "stdout",
     "output_type": "stream",
     "text": [
      "{'mean_loss': 0.7577005177736282}\n"
     ]
    },
    {
     "name": "stderr",
     "output_type": "stream",
     "text": [
      "100%|█████████████████████████████████████████████| 8/8 [00:03<00:00,  2.52it/s]\n"
     ]
    },
    {
     "name": "stdout",
     "output_type": "stream",
     "text": [
      "{'mean_loss': 0.8265693187713623}\n"
     ]
    },
    {
     "name": "stderr",
     "output_type": "stream",
     "text": [
      "100%|█████████████████████████████████████████████| 2/2 [00:24<00:00, 12.41s/it]\n"
     ]
    },
    {
     "name": "stdout",
     "output_type": "stream",
     "text": [
      "{'metrics': [{'sample': 'P62_CTA_0', 'seg_sum/GT_sum': tensor(2.0745), 'metric1': tensor([0.3152])}, {'sample': 'new_CTA_0', 'seg_sum/GT_sum': tensor(2.0983), 'metric1': tensor([0.2885])}]}\n",
      "Epoch 8/50\n"
     ]
    },
    {
     "name": "stderr",
     "output_type": "stream",
     "text": [
      "100%|█████████████████████████████████████████| 128/128 [00:35<00:00,  3.64it/s]\n"
     ]
    },
    {
     "name": "stdout",
     "output_type": "stream",
     "text": [
      "{'mean_loss': 0.6674623514991254}\n"
     ]
    },
    {
     "name": "stderr",
     "output_type": "stream",
     "text": [
      "100%|█████████████████████████████████████████████| 8/8 [00:03<00:00,  2.51it/s]\n"
     ]
    },
    {
     "name": "stdout",
     "output_type": "stream",
     "text": [
      "{'mean_loss': 0.7277289479970932}\n"
     ]
    },
    {
     "name": "stderr",
     "output_type": "stream",
     "text": [
      "100%|█████████████████████████████████████████████| 2/2 [00:24<00:00, 12.49s/it]\n"
     ]
    },
    {
     "name": "stdout",
     "output_type": "stream",
     "text": [
      "{'metrics': [{'sample': 'P62_CTA_0', 'seg_sum/GT_sum': tensor(1.9951), 'metric1': tensor([0.3369])}, {'sample': 'new_CTA_0', 'seg_sum/GT_sum': tensor(1.9670), 'metric1': tensor([0.3108])}]}\n",
      "Epoch 9/50\n"
     ]
    },
    {
     "name": "stderr",
     "output_type": "stream",
     "text": [
      "100%|█████████████████████████████████████████| 128/128 [00:35<00:00,  3.63it/s]\n"
     ]
    },
    {
     "name": "stdout",
     "output_type": "stream",
     "text": [
      "{'mean_loss': 0.6703483732417226}\n"
     ]
    },
    {
     "name": "stderr",
     "output_type": "stream",
     "text": [
      "100%|█████████████████████████████████████████████| 8/8 [00:03<00:00,  2.49it/s]\n"
     ]
    },
    {
     "name": "stdout",
     "output_type": "stream",
     "text": [
      "{'mean_loss': 0.6817019656300545}\n"
     ]
    },
    {
     "name": "stderr",
     "output_type": "stream",
     "text": [
      "100%|█████████████████████████████████████████████| 2/2 [00:24<00:00, 12.44s/it]\n"
     ]
    },
    {
     "name": "stdout",
     "output_type": "stream",
     "text": [
      "{'metrics': [{'sample': 'P62_CTA_0', 'seg_sum/GT_sum': tensor(2.0161), 'metric1': tensor([0.3455])}, {'sample': 'new_CTA_0', 'seg_sum/GT_sum': tensor(1.9768), 'metric1': tensor([0.3209])}]}\n",
      "Epoch 10/50\n"
     ]
    },
    {
     "name": "stderr",
     "output_type": "stream",
     "text": [
      "100%|█████████████████████████████████████████| 128/128 [00:35<00:00,  3.60it/s]\n"
     ]
    },
    {
     "name": "stdout",
     "output_type": "stream",
     "text": [
      "{'mean_loss': 0.6023201819043607}\n"
     ]
    },
    {
     "name": "stderr",
     "output_type": "stream",
     "text": [
      "100%|█████████████████████████████████████████████| 8/8 [00:03<00:00,  2.47it/s]\n"
     ]
    },
    {
     "name": "stdout",
     "output_type": "stream",
     "text": [
      "{'mean_loss': 0.6255133934319019}\n"
     ]
    },
    {
     "name": "stderr",
     "output_type": "stream",
     "text": [
      "100%|█████████████████████████████████████████████| 2/2 [00:24<00:00, 12.42s/it]\n"
     ]
    },
    {
     "name": "stdout",
     "output_type": "stream",
     "text": [
      "{'metrics': [{'sample': 'P62_CTA_0', 'seg_sum/GT_sum': tensor(1.9236), 'metric1': tensor([0.3614])}, {'sample': 'new_CTA_0', 'seg_sum/GT_sum': tensor(1.8778), 'metric1': tensor([0.3394])}]}\n",
      "Epoch 11/50\n"
     ]
    },
    {
     "name": "stderr",
     "output_type": "stream",
     "text": [
      "100%|█████████████████████████████████████████| 128/128 [00:35<00:00,  3.59it/s]\n"
     ]
    },
    {
     "name": "stdout",
     "output_type": "stream",
     "text": [
      "{'mean_loss': 0.5593535075895488}\n"
     ]
    },
    {
     "name": "stderr",
     "output_type": "stream",
     "text": [
      "100%|█████████████████████████████████████████████| 8/8 [00:03<00:00,  2.51it/s]\n"
     ]
    },
    {
     "name": "stdout",
     "output_type": "stream",
     "text": [
      "{'mean_loss': 0.6116930320858955}\n"
     ]
    },
    {
     "name": "stderr",
     "output_type": "stream",
     "text": [
      "100%|█████████████████████████████████████████████| 2/2 [00:24<00:00, 12.44s/it]\n"
     ]
    },
    {
     "name": "stdout",
     "output_type": "stream",
     "text": [
      "{'metrics': [{'sample': 'P62_CTA_0', 'seg_sum/GT_sum': tensor(1.8885), 'metric1': tensor([0.3763])}, {'sample': 'new_CTA_0', 'seg_sum/GT_sum': tensor(1.8603), 'metric1': tensor([0.3514])}]}\n",
      "Epoch 12/50\n"
     ]
    },
    {
     "name": "stderr",
     "output_type": "stream",
     "text": [
      "100%|█████████████████████████████████████████| 128/128 [00:35<00:00,  3.60it/s]\n"
     ]
    },
    {
     "name": "stdout",
     "output_type": "stream",
     "text": [
      "{'mean_loss': 0.5970103917643428}\n"
     ]
    },
    {
     "name": "stderr",
     "output_type": "stream",
     "text": [
      "100%|█████████████████████████████████████████████| 8/8 [00:03<00:00,  2.47it/s]\n"
     ]
    },
    {
     "name": "stdout",
     "output_type": "stream",
     "text": [
      "{'mean_loss': 0.5133473314344883}\n"
     ]
    },
    {
     "name": "stderr",
     "output_type": "stream",
     "text": [
      "100%|█████████████████████████████████████████████| 2/2 [00:24<00:00, 12.46s/it]\n"
     ]
    },
    {
     "name": "stdout",
     "output_type": "stream",
     "text": [
      "{'metrics': [{'sample': 'P62_CTA_0', 'seg_sum/GT_sum': tensor(1.8239), 'metric1': tensor([0.3908])}, {'sample': 'new_CTA_0', 'seg_sum/GT_sum': tensor(1.8186), 'metric1': tensor([0.3620])}]}\n",
      "Epoch 13/50\n"
     ]
    },
    {
     "name": "stderr",
     "output_type": "stream",
     "text": [
      "100%|█████████████████████████████████████████| 128/128 [00:35<00:00,  3.62it/s]\n"
     ]
    },
    {
     "name": "stdout",
     "output_type": "stream",
     "text": [
      "{'mean_loss': 0.5692067081108689}\n"
     ]
    },
    {
     "name": "stderr",
     "output_type": "stream",
     "text": [
      "100%|█████████████████████████████████████████████| 8/8 [00:03<00:00,  2.47it/s]\n"
     ]
    },
    {
     "name": "stdout",
     "output_type": "stream",
     "text": [
      "{'mean_loss': 0.5103226341307163}\n"
     ]
    },
    {
     "name": "stderr",
     "output_type": "stream",
     "text": [
      "100%|█████████████████████████████████████████████| 2/2 [00:24<00:00, 12.43s/it]\n"
     ]
    },
    {
     "name": "stdout",
     "output_type": "stream",
     "text": [
      "{'metrics': [{'sample': 'P62_CTA_0', 'seg_sum/GT_sum': tensor(1.7488), 'metric1': tensor([0.4030])}, {'sample': 'new_CTA_0', 'seg_sum/GT_sum': tensor(1.7520), 'metric1': tensor([0.3720])}]}\n",
      "Epoch 14/50\n"
     ]
    },
    {
     "name": "stderr",
     "output_type": "stream",
     "text": [
      "100%|█████████████████████████████████████████| 128/128 [00:35<00:00,  3.61it/s]\n"
     ]
    },
    {
     "name": "stdout",
     "output_type": "stream",
     "text": [
      "{'mean_loss': 0.5471953700762242}\n"
     ]
    },
    {
     "name": "stderr",
     "output_type": "stream",
     "text": [
      "100%|█████████████████████████████████████████████| 8/8 [00:03<00:00,  2.47it/s]\n"
     ]
    },
    {
     "name": "stdout",
     "output_type": "stream",
     "text": [
      "{'mean_loss': 0.8005851320922375}\n"
     ]
    },
    {
     "name": "stderr",
     "output_type": "stream",
     "text": [
      "100%|█████████████████████████████████████████████| 2/2 [00:24<00:00, 12.43s/it]\n"
     ]
    },
    {
     "name": "stdout",
     "output_type": "stream",
     "text": [
      "{'metrics': [{'sample': 'P62_CTA_0', 'seg_sum/GT_sum': tensor(1.6752), 'metric1': tensor([0.4177])}, {'sample': 'new_CTA_0', 'seg_sum/GT_sum': tensor(1.7034), 'metric1': tensor([0.3819])}]}\n",
      "Epoch 15/50\n"
     ]
    },
    {
     "name": "stderr",
     "output_type": "stream",
     "text": [
      "100%|█████████████████████████████████████████| 128/128 [00:35<00:00,  3.61it/s]\n"
     ]
    },
    {
     "name": "stdout",
     "output_type": "stream",
     "text": [
      "{'mean_loss': 0.5038072890602052}\n"
     ]
    },
    {
     "name": "stderr",
     "output_type": "stream",
     "text": [
      "100%|█████████████████████████████████████████████| 8/8 [00:03<00:00,  2.51it/s]\n"
     ]
    },
    {
     "name": "stdout",
     "output_type": "stream",
     "text": [
      "{'mean_loss': 0.5463210009038448}\n"
     ]
    },
    {
     "name": "stderr",
     "output_type": "stream",
     "text": [
      "100%|█████████████████████████████████████████████| 2/2 [00:24<00:00, 12.46s/it]\n"
     ]
    },
    {
     "name": "stdout",
     "output_type": "stream",
     "text": [
      "{'metrics': [{'sample': 'P62_CTA_0', 'seg_sum/GT_sum': tensor(1.6373), 'metric1': tensor([0.4281])}, {'sample': 'new_CTA_0', 'seg_sum/GT_sum': tensor(1.6837), 'metric1': tensor([0.3862])}]}\n",
      "Epoch 16/50\n"
     ]
    },
    {
     "name": "stderr",
     "output_type": "stream",
     "text": [
      "100%|█████████████████████████████████████████| 128/128 [00:35<00:00,  3.62it/s]\n"
     ]
    },
    {
     "name": "stdout",
     "output_type": "stream",
     "text": [
      "{'mean_loss': 0.47650081547908485}\n"
     ]
    },
    {
     "name": "stderr",
     "output_type": "stream",
     "text": [
      "100%|█████████████████████████████████████████████| 8/8 [00:03<00:00,  2.45it/s]\n"
     ]
    },
    {
     "name": "stdout",
     "output_type": "stream",
     "text": [
      "{'mean_loss': 0.5285953432321548}\n"
     ]
    },
    {
     "name": "stderr",
     "output_type": "stream",
     "text": [
      "100%|█████████████████████████████████████████████| 2/2 [00:24<00:00, 12.43s/it]\n"
     ]
    },
    {
     "name": "stdout",
     "output_type": "stream",
     "text": [
      "{'metrics': [{'sample': 'P62_CTA_0', 'seg_sum/GT_sum': tensor(1.6137), 'metric1': tensor([0.4362])}, {'sample': 'new_CTA_0', 'seg_sum/GT_sum': tensor(1.6753), 'metric1': tensor([0.3860])}]}\n",
      "Epoch 17/50\n"
     ]
    },
    {
     "name": "stderr",
     "output_type": "stream",
     "text": [
      "100%|█████████████████████████████████████████| 128/128 [00:35<00:00,  3.61it/s]\n"
     ]
    },
    {
     "name": "stdout",
     "output_type": "stream",
     "text": [
      "{'mean_loss': 0.477833911543712}\n"
     ]
    },
    {
     "name": "stderr",
     "output_type": "stream",
     "text": [
      "100%|█████████████████████████████████████████████| 8/8 [00:03<00:00,  2.46it/s]\n"
     ]
    },
    {
     "name": "stdout",
     "output_type": "stream",
     "text": [
      "{'mean_loss': 0.4569230042397976}\n"
     ]
    },
    {
     "name": "stderr",
     "output_type": "stream",
     "text": [
      "100%|█████████████████████████████████████████████| 2/2 [00:24<00:00, 12.49s/it]\n"
     ]
    },
    {
     "name": "stdout",
     "output_type": "stream",
     "text": [
      "{'metrics': [{'sample': 'P62_CTA_0', 'seg_sum/GT_sum': tensor(1.6047), 'metric1': tensor([0.4423])}, {'sample': 'new_CTA_0', 'seg_sum/GT_sum': tensor(1.6820), 'metric1': tensor([0.3875])}]}\n",
      "Epoch 18/50\n"
     ]
    },
    {
     "name": "stderr",
     "output_type": "stream",
     "text": [
      "100%|█████████████████████████████████████████| 128/128 [00:35<00:00,  3.61it/s]\n"
     ]
    },
    {
     "name": "stdout",
     "output_type": "stream",
     "text": [
      "{'mean_loss': 0.4919881718233228}\n"
     ]
    },
    {
     "name": "stderr",
     "output_type": "stream",
     "text": [
      "100%|█████████████████████████████████████████████| 8/8 [00:03<00:00,  2.47it/s]\n"
     ]
    },
    {
     "name": "stdout",
     "output_type": "stream",
     "text": [
      "{'mean_loss': 0.4507545232772827}\n"
     ]
    },
    {
     "name": "stderr",
     "output_type": "stream",
     "text": [
      "100%|█████████████████████████████████████████████| 2/2 [00:24<00:00, 12.45s/it]\n"
     ]
    },
    {
     "name": "stdout",
     "output_type": "stream",
     "text": [
      "{'metrics': [{'sample': 'P62_CTA_0', 'seg_sum/GT_sum': tensor(1.5614), 'metric1': tensor([0.4509])}, {'sample': 'new_CTA_0', 'seg_sum/GT_sum': tensor(1.6624), 'metric1': tensor([0.3900])}]}\n",
      "Epoch 19/50\n"
     ]
    },
    {
     "name": "stderr",
     "output_type": "stream",
     "text": [
      "100%|█████████████████████████████████████████| 128/128 [00:35<00:00,  3.58it/s]\n"
     ]
    },
    {
     "name": "stdout",
     "output_type": "stream",
     "text": [
      "{'mean_loss': 0.4794726993422955}\n"
     ]
    },
    {
     "name": "stderr",
     "output_type": "stream",
     "text": [
      "100%|█████████████████████████████████████████████| 8/8 [00:03<00:00,  2.48it/s]\n"
     ]
    },
    {
     "name": "stdout",
     "output_type": "stream",
     "text": [
      "{'mean_loss': 0.5013642869889736}\n"
     ]
    },
    {
     "name": "stderr",
     "output_type": "stream",
     "text": [
      "100%|█████████████████████████████████████████████| 2/2 [00:24<00:00, 12.44s/it]\n"
     ]
    },
    {
     "name": "stdout",
     "output_type": "stream",
     "text": [
      "{'metrics': [{'sample': 'P62_CTA_0', 'seg_sum/GT_sum': tensor(1.5338), 'metric1': tensor([0.4579])}, {'sample': 'new_CTA_0', 'seg_sum/GT_sum': tensor(1.6567), 'metric1': tensor([0.3899])}]}\n",
      "Epoch 20/50\n"
     ]
    },
    {
     "name": "stderr",
     "output_type": "stream",
     "text": [
      "100%|█████████████████████████████████████████| 128/128 [00:35<00:00,  3.63it/s]\n"
     ]
    },
    {
     "name": "stdout",
     "output_type": "stream",
     "text": [
      "{'mean_loss': 0.4597965374123305}\n"
     ]
    },
    {
     "name": "stderr",
     "output_type": "stream",
     "text": [
      "100%|█████████████████████████████████████████████| 8/8 [00:03<00:00,  2.48it/s]\n"
     ]
    },
    {
     "name": "stdout",
     "output_type": "stream",
     "text": [
      "{'mean_loss': 0.42752310633659363}\n"
     ]
    },
    {
     "name": "stderr",
     "output_type": "stream",
     "text": [
      "100%|█████████████████████████████████████████████| 2/2 [00:24<00:00, 12.44s/it]\n"
     ]
    },
    {
     "name": "stdout",
     "output_type": "stream",
     "text": [
      "{'metrics': [{'sample': 'P62_CTA_0', 'seg_sum/GT_sum': tensor(1.5080), 'metric1': tensor([0.4643])}, {'sample': 'new_CTA_0', 'seg_sum/GT_sum': tensor(1.6544), 'metric1': tensor([0.3912])}]}\n",
      "Epoch 21/50\n"
     ]
    },
    {
     "name": "stderr",
     "output_type": "stream",
     "text": [
      "100%|█████████████████████████████████████████| 128/128 [00:35<00:00,  3.61it/s]\n"
     ]
    },
    {
     "name": "stdout",
     "output_type": "stream",
     "text": [
      "{'mean_loss': 0.4635983519256115}\n"
     ]
    },
    {
     "name": "stderr",
     "output_type": "stream",
     "text": [
      "100%|█████████████████████████████████████████████| 8/8 [00:03<00:00,  2.50it/s]\n"
     ]
    },
    {
     "name": "stdout",
     "output_type": "stream",
     "text": [
      "{'mean_loss': 0.5734594613313675}\n"
     ]
    },
    {
     "name": "stderr",
     "output_type": "stream",
     "text": [
      "100%|█████████████████████████████████████████████| 2/2 [00:24<00:00, 12.42s/it]\n"
     ]
    },
    {
     "name": "stdout",
     "output_type": "stream",
     "text": [
      "{'metrics': [{'sample': 'P62_CTA_0', 'seg_sum/GT_sum': tensor(1.4940), 'metric1': tensor([0.4703])}, {'sample': 'new_CTA_0', 'seg_sum/GT_sum': tensor(1.6626), 'metric1': tensor([0.3902])}]}\n",
      "Epoch 22/50\n"
     ]
    },
    {
     "name": "stderr",
     "output_type": "stream",
     "text": [
      "100%|█████████████████████████████████████████| 128/128 [00:35<00:00,  3.61it/s]\n"
     ]
    },
    {
     "name": "stdout",
     "output_type": "stream",
     "text": [
      "{'mean_loss': 0.46252887160517275}\n"
     ]
    },
    {
     "name": "stderr",
     "output_type": "stream",
     "text": [
      "100%|█████████████████████████████████████████████| 8/8 [00:03<00:00,  2.46it/s]\n"
     ]
    },
    {
     "name": "stdout",
     "output_type": "stream",
     "text": [
      "{'mean_loss': 0.4987630173563957}\n"
     ]
    },
    {
     "name": "stderr",
     "output_type": "stream",
     "text": [
      "100%|█████████████████████████████████████████████| 2/2 [00:24<00:00, 12.46s/it]\n"
     ]
    },
    {
     "name": "stdout",
     "output_type": "stream",
     "text": [
      "{'metrics': [{'sample': 'P62_CTA_0', 'seg_sum/GT_sum': tensor(1.4847), 'metric1': tensor([0.4742])}, {'sample': 'new_CTA_0', 'seg_sum/GT_sum': tensor(1.6697), 'metric1': tensor([0.3877])}]}\n",
      "Epoch 23/50\n"
     ]
    },
    {
     "name": "stderr",
     "output_type": "stream",
     "text": [
      "100%|█████████████████████████████████████████| 128/128 [00:35<00:00,  3.63it/s]\n"
     ]
    },
    {
     "name": "stdout",
     "output_type": "stream",
     "text": [
      "{'mean_loss': 0.4304199821781367}\n"
     ]
    },
    {
     "name": "stderr",
     "output_type": "stream",
     "text": [
      "100%|█████████████████████████████████████████████| 8/8 [00:03<00:00,  2.45it/s]\n"
     ]
    },
    {
     "name": "stdout",
     "output_type": "stream",
     "text": [
      "{'mean_loss': 0.4141840226948261}\n"
     ]
    },
    {
     "name": "stderr",
     "output_type": "stream",
     "text": [
      "100%|█████████████████████████████████████████████| 2/2 [00:24<00:00, 12.48s/it]\n"
     ]
    },
    {
     "name": "stdout",
     "output_type": "stream",
     "text": [
      "{'metrics': [{'sample': 'P62_CTA_0', 'seg_sum/GT_sum': tensor(1.4523), 'metric1': tensor([0.4809])}, {'sample': 'new_CTA_0', 'seg_sum/GT_sum': tensor(1.6518), 'metric1': tensor([0.3881])}]}\n",
      "Epoch 24/50\n"
     ]
    },
    {
     "name": "stderr",
     "output_type": "stream",
     "text": [
      "100%|█████████████████████████████████████████| 128/128 [00:35<00:00,  3.59it/s]\n"
     ]
    },
    {
     "name": "stdout",
     "output_type": "stream",
     "text": [
      "{'mean_loss': 0.4509175269631669}\n"
     ]
    },
    {
     "name": "stderr",
     "output_type": "stream",
     "text": [
      "100%|█████████████████████████████████████████████| 8/8 [00:03<00:00,  2.46it/s]\n"
     ]
    },
    {
     "name": "stdout",
     "output_type": "stream",
     "text": [
      "{'mean_loss': 0.41484568268060684}\n"
     ]
    },
    {
     "name": "stderr",
     "output_type": "stream",
     "text": [
      "100%|█████████████████████████████████████████████| 2/2 [00:24<00:00, 12.44s/it]\n"
     ]
    },
    {
     "name": "stdout",
     "output_type": "stream",
     "text": [
      "{'metrics': [{'sample': 'P62_CTA_0', 'seg_sum/GT_sum': tensor(1.4361), 'metric1': tensor([0.4852])}, {'sample': 'new_CTA_0', 'seg_sum/GT_sum': tensor(1.6498), 'metric1': tensor([0.3871])}]}\n",
      "Epoch 25/50\n"
     ]
    },
    {
     "name": "stderr",
     "output_type": "stream",
     "text": [
      "100%|█████████████████████████████████████████| 128/128 [00:35<00:00,  3.56it/s]\n"
     ]
    },
    {
     "name": "stdout",
     "output_type": "stream",
     "text": [
      "{'mean_loss': 0.43819251109380275}\n"
     ]
    },
    {
     "name": "stderr",
     "output_type": "stream",
     "text": [
      "100%|█████████████████████████████████████████████| 8/8 [00:03<00:00,  2.50it/s]\n"
     ]
    },
    {
     "name": "stdout",
     "output_type": "stream",
     "text": [
      "{'mean_loss': 0.40998850762844086}\n"
     ]
    },
    {
     "name": "stderr",
     "output_type": "stream",
     "text": [
      "100%|█████████████████████████████████████████████| 2/2 [00:24<00:00, 12.44s/it]\n"
     ]
    },
    {
     "name": "stdout",
     "output_type": "stream",
     "text": [
      "{'metrics': [{'sample': 'P62_CTA_0', 'seg_sum/GT_sum': tensor(1.4263), 'metric1': tensor([0.4892])}, {'sample': 'new_CTA_0', 'seg_sum/GT_sum': tensor(1.6516), 'metric1': tensor([0.3873])}]}\n",
      "Epoch 26/50\n"
     ]
    },
    {
     "name": "stderr",
     "output_type": "stream",
     "text": [
      "100%|█████████████████████████████████████████| 128/128 [00:35<00:00,  3.57it/s]\n"
     ]
    },
    {
     "name": "stdout",
     "output_type": "stream",
     "text": [
      "{'mean_loss': 0.3986951762344688}\n"
     ]
    },
    {
     "name": "stderr",
     "output_type": "stream",
     "text": [
      "100%|█████████████████████████████████████████████| 8/8 [00:03<00:00,  2.45it/s]\n"
     ]
    },
    {
     "name": "stdout",
     "output_type": "stream",
     "text": [
      "{'mean_loss': 0.47156310454010963}\n"
     ]
    },
    {
     "name": "stderr",
     "output_type": "stream",
     "text": [
      "100%|█████████████████████████████████████████████| 2/2 [00:24<00:00, 12.46s/it]\n"
     ]
    },
    {
     "name": "stdout",
     "output_type": "stream",
     "text": [
      "{'metrics': [{'sample': 'P62_CTA_0', 'seg_sum/GT_sum': tensor(1.4141), 'metric1': tensor([0.4935])}, {'sample': 'new_CTA_0', 'seg_sum/GT_sum': tensor(1.6497), 'metric1': tensor([0.3881])}]}\n",
      "Epoch 27/50\n"
     ]
    },
    {
     "name": "stderr",
     "output_type": "stream",
     "text": [
      "100%|█████████████████████████████████████████| 128/128 [00:35<00:00,  3.59it/s]\n"
     ]
    },
    {
     "name": "stdout",
     "output_type": "stream",
     "text": [
      "{'mean_loss': 0.4382224965374917}\n"
     ]
    },
    {
     "name": "stderr",
     "output_type": "stream",
     "text": [
      "100%|█████████████████████████████████████████████| 8/8 [00:03<00:00,  2.44it/s]\n"
     ]
    },
    {
     "name": "stdout",
     "output_type": "stream",
     "text": [
      "{'mean_loss': 0.42087119072675705}\n"
     ]
    },
    {
     "name": "stderr",
     "output_type": "stream",
     "text": [
      "100%|█████████████████████████████████████████████| 2/2 [00:25<00:00, 12.54s/it]\n"
     ]
    },
    {
     "name": "stdout",
     "output_type": "stream",
     "text": [
      "{'metrics': [{'sample': 'P62_CTA_0', 'seg_sum/GT_sum': tensor(1.4051), 'metric1': tensor([0.4970])}, {'sample': 'new_CTA_0', 'seg_sum/GT_sum': tensor(1.6530), 'metric1': tensor([0.3879])}]}\n",
      "Epoch 28/50\n"
     ]
    },
    {
     "name": "stderr",
     "output_type": "stream",
     "text": [
      "100%|█████████████████████████████████████████| 128/128 [00:35<00:00,  3.58it/s]\n"
     ]
    },
    {
     "name": "stdout",
     "output_type": "stream",
     "text": [
      "{'mean_loss': 0.47367539489641786}\n"
     ]
    },
    {
     "name": "stderr",
     "output_type": "stream",
     "text": [
      "100%|█████████████████████████████████████████████| 8/8 [00:03<00:00,  2.48it/s]\n"
     ]
    },
    {
     "name": "stdout",
     "output_type": "stream",
     "text": [
      "{'mean_loss': 0.4076749309897423}\n"
     ]
    },
    {
     "name": "stderr",
     "output_type": "stream",
     "text": [
      "100%|█████████████████████████████████████████████| 2/2 [00:24<00:00, 12.45s/it]\n"
     ]
    },
    {
     "name": "stdout",
     "output_type": "stream",
     "text": [
      "{'metrics': [{'sample': 'P62_CTA_0', 'seg_sum/GT_sum': tensor(1.3887), 'metric1': tensor([0.5016])}, {'sample': 'new_CTA_0', 'seg_sum/GT_sum': tensor(1.6461), 'metric1': tensor([0.3887])}]}\n",
      "Epoch 29/50\n"
     ]
    },
    {
     "name": "stderr",
     "output_type": "stream",
     "text": [
      "100%|█████████████████████████████████████████| 128/128 [00:35<00:00,  3.56it/s]\n"
     ]
    },
    {
     "name": "stdout",
     "output_type": "stream",
     "text": [
      "{'mean_loss': 0.43292785133235157}\n"
     ]
    },
    {
     "name": "stderr",
     "output_type": "stream",
     "text": [
      "100%|█████████████████████████████████████████████| 8/8 [00:03<00:00,  2.45it/s]\n"
     ]
    },
    {
     "name": "stdout",
     "output_type": "stream",
     "text": [
      "{'mean_loss': 0.4414815232157707}\n"
     ]
    },
    {
     "name": "stderr",
     "output_type": "stream",
     "text": [
      "100%|█████████████████████████████████████████████| 2/2 [00:24<00:00, 12.46s/it]\n"
     ]
    },
    {
     "name": "stdout",
     "output_type": "stream",
     "text": [
      "{'metrics': [{'sample': 'P62_CTA_0', 'seg_sum/GT_sum': tensor(1.3729), 'metric1': tensor([0.5055])}, {'sample': 'new_CTA_0', 'seg_sum/GT_sum': tensor(1.6375), 'metric1': tensor([0.3898])}]}\n",
      "Epoch 30/50\n"
     ]
    },
    {
     "name": "stderr",
     "output_type": "stream",
     "text": [
      "100%|█████████████████████████████████████████| 128/128 [00:35<00:00,  3.62it/s]\n"
     ]
    },
    {
     "name": "stdout",
     "output_type": "stream",
     "text": [
      "{'mean_loss': 0.45109184132888913}\n"
     ]
    },
    {
     "name": "stderr",
     "output_type": "stream",
     "text": [
      "100%|█████████████████████████████████████████████| 8/8 [00:03<00:00,  2.48it/s]\n"
     ]
    },
    {
     "name": "stdout",
     "output_type": "stream",
     "text": [
      "{'mean_loss': 0.4231019616127014}\n"
     ]
    },
    {
     "name": "stderr",
     "output_type": "stream",
     "text": [
      "100%|█████████████████████████████████████████████| 2/2 [00:25<00:00, 12.51s/it]\n"
     ]
    },
    {
     "name": "stdout",
     "output_type": "stream",
     "text": [
      "{'metrics': [{'sample': 'P62_CTA_0', 'seg_sum/GT_sum': tensor(1.3664), 'metric1': tensor([0.5084])}, {'sample': 'new_CTA_0', 'seg_sum/GT_sum': tensor(1.6378), 'metric1': tensor([0.3900])}]}\n",
      "Epoch 31/50\n"
     ]
    },
    {
     "name": "stderr",
     "output_type": "stream",
     "text": [
      "100%|█████████████████████████████████████████| 128/128 [00:35<00:00,  3.63it/s]\n"
     ]
    },
    {
     "name": "stdout",
     "output_type": "stream",
     "text": [
      "{'mean_loss': 0.4506790654268116}\n"
     ]
    },
    {
     "name": "stderr",
     "output_type": "stream",
     "text": [
      "100%|█████████████████████████████████████████████| 8/8 [00:03<00:00,  2.47it/s]\n"
     ]
    },
    {
     "name": "stdout",
     "output_type": "stream",
     "text": [
      "{'mean_loss': 0.42856745794415474}\n"
     ]
    },
    {
     "name": "stderr",
     "output_type": "stream",
     "text": [
      "100%|█████████████████████████████████████████████| 2/2 [00:24<00:00, 12.47s/it]\n"
     ]
    },
    {
     "name": "stdout",
     "output_type": "stream",
     "text": [
      "{'metrics': [{'sample': 'P62_CTA_0', 'seg_sum/GT_sum': tensor(1.3588), 'metric1': tensor([0.5114])}, {'sample': 'new_CTA_0', 'seg_sum/GT_sum': tensor(1.6375), 'metric1': tensor([0.3903])}]}\n",
      "Epoch 32/50\n"
     ]
    },
    {
     "name": "stderr",
     "output_type": "stream",
     "text": [
      "100%|█████████████████████████████████████████| 128/128 [00:35<00:00,  3.63it/s]\n"
     ]
    },
    {
     "name": "stdout",
     "output_type": "stream",
     "text": [
      "{'mean_loss': 0.42366218171082437}\n"
     ]
    },
    {
     "name": "stderr",
     "output_type": "stream",
     "text": [
      "100%|█████████████████████████████████████████████| 8/8 [00:03<00:00,  2.46it/s]\n"
     ]
    },
    {
     "name": "stdout",
     "output_type": "stream",
     "text": [
      "{'mean_loss': 0.40552597492933273}\n"
     ]
    },
    {
     "name": "stderr",
     "output_type": "stream",
     "text": [
      "100%|█████████████████████████████████████████████| 2/2 [00:25<00:00, 12.62s/it]\n"
     ]
    },
    {
     "name": "stdout",
     "output_type": "stream",
     "text": [
      "{'metrics': [{'sample': 'P62_CTA_0', 'seg_sum/GT_sum': tensor(1.3449), 'metric1': tensor([0.5148])}, {'sample': 'new_CTA_0', 'seg_sum/GT_sum': tensor(1.6321), 'metric1': tensor([0.3907])}]}\n",
      "Epoch 33/50\n"
     ]
    },
    {
     "name": "stderr",
     "output_type": "stream",
     "text": [
      "100%|█████████████████████████████████████████| 128/128 [00:35<00:00,  3.62it/s]\n"
     ]
    },
    {
     "name": "stdout",
     "output_type": "stream",
     "text": [
      "{'mean_loss': 0.4367224480956793}\n"
     ]
    },
    {
     "name": "stderr",
     "output_type": "stream",
     "text": [
      "100%|█████████████████████████████████████████████| 8/8 [00:03<00:00,  2.45it/s]\n"
     ]
    },
    {
     "name": "stdout",
     "output_type": "stream",
     "text": [
      "{'mean_loss': 0.42033708095550537}\n"
     ]
    },
    {
     "name": "stderr",
     "output_type": "stream",
     "text": [
      "100%|█████████████████████████████████████████████| 2/2 [00:24<00:00, 12.48s/it]\n"
     ]
    },
    {
     "name": "stdout",
     "output_type": "stream",
     "text": [
      "{'metrics': [{'sample': 'P62_CTA_0', 'seg_sum/GT_sum': tensor(1.3367), 'metric1': tensor([0.5175])}, {'sample': 'new_CTA_0', 'seg_sum/GT_sum': tensor(1.6304), 'metric1': tensor([0.3913])}]}\n",
      "Epoch 34/50\n"
     ]
    },
    {
     "name": "stderr",
     "output_type": "stream",
     "text": [
      "100%|█████████████████████████████████████████| 128/128 [00:35<00:00,  3.59it/s]\n"
     ]
    },
    {
     "name": "stdout",
     "output_type": "stream",
     "text": [
      "{'mean_loss': 0.4245557738468051}\n"
     ]
    },
    {
     "name": "stderr",
     "output_type": "stream",
     "text": [
      "100%|█████████████████████████████████████████████| 8/8 [00:03<00:00,  2.48it/s]\n"
     ]
    },
    {
     "name": "stdout",
     "output_type": "stream",
     "text": [
      "{'mean_loss': 0.481698889285326}\n"
     ]
    },
    {
     "name": "stderr",
     "output_type": "stream",
     "text": [
      "100%|█████████████████████████████████████████████| 2/2 [00:25<00:00, 12.62s/it]\n"
     ]
    },
    {
     "name": "stdout",
     "output_type": "stream",
     "text": [
      "{'metrics': [{'sample': 'P62_CTA_0', 'seg_sum/GT_sum': tensor(1.3243), 'metric1': tensor([0.5204])}, {'sample': 'new_CTA_0', 'seg_sum/GT_sum': tensor(1.6244), 'metric1': tensor([0.3920])}]}\n",
      "Epoch 35/50\n"
     ]
    },
    {
     "name": "stderr",
     "output_type": "stream",
     "text": [
      "100%|█████████████████████████████████████████| 128/128 [00:35<00:00,  3.60it/s]\n"
     ]
    },
    {
     "name": "stdout",
     "output_type": "stream",
     "text": [
      "{'mean_loss': 0.44341884297318757}\n"
     ]
    },
    {
     "name": "stderr",
     "output_type": "stream",
     "text": [
      "100%|█████████████████████████████████████████████| 8/8 [00:03<00:00,  2.49it/s]\n"
     ]
    },
    {
     "name": "stdout",
     "output_type": "stream",
     "text": [
      "{'mean_loss': 0.46300821378827095}\n"
     ]
    },
    {
     "name": "stderr",
     "output_type": "stream",
     "text": [
      "100%|█████████████████████████████████████████████| 2/2 [00:24<00:00, 12.44s/it]\n"
     ]
    },
    {
     "name": "stdout",
     "output_type": "stream",
     "text": [
      "{'metrics': [{'sample': 'P62_CTA_0', 'seg_sum/GT_sum': tensor(1.3150), 'metric1': tensor([0.5231])}, {'sample': 'new_CTA_0', 'seg_sum/GT_sum': tensor(1.6204), 'metric1': tensor([0.3930])}]}\n",
      "Epoch 36/50\n"
     ]
    },
    {
     "name": "stderr",
     "output_type": "stream",
     "text": [
      "100%|█████████████████████████████████████████| 128/128 [00:35<00:00,  3.63it/s]\n"
     ]
    },
    {
     "name": "stdout",
     "output_type": "stream",
     "text": [
      "{'mean_loss': 0.41691449633799493}\n"
     ]
    },
    {
     "name": "stderr",
     "output_type": "stream",
     "text": [
      "100%|█████████████████████████████████████████████| 8/8 [00:03<00:00,  2.48it/s]\n"
     ]
    },
    {
     "name": "stdout",
     "output_type": "stream",
     "text": [
      "{'mean_loss': 0.4220178760588169}\n"
     ]
    },
    {
     "name": "stderr",
     "output_type": "stream",
     "text": [
      "100%|█████████████████████████████████████████████| 2/2 [00:24<00:00, 12.41s/it]\n"
     ]
    },
    {
     "name": "stdout",
     "output_type": "stream",
     "text": [
      "{'metrics': [{'sample': 'P62_CTA_0', 'seg_sum/GT_sum': tensor(1.3079), 'metric1': tensor([0.5253])}, {'sample': 'new_CTA_0', 'seg_sum/GT_sum': tensor(1.6188), 'metric1': tensor([0.3934])}]}\n",
      "Epoch 37/50\n"
     ]
    },
    {
     "name": "stderr",
     "output_type": "stream",
     "text": [
      "100%|█████████████████████████████████████████| 128/128 [00:35<00:00,  3.61it/s]\n"
     ]
    },
    {
     "name": "stdout",
     "output_type": "stream",
     "text": [
      "{'mean_loss': 0.43756066798232496}\n"
     ]
    },
    {
     "name": "stderr",
     "output_type": "stream",
     "text": [
      "100%|█████████████████████████████████████████████| 8/8 [00:03<00:00,  2.46it/s]\n"
     ]
    },
    {
     "name": "stdout",
     "output_type": "stream",
     "text": [
      "{'mean_loss': 0.459138672798872}\n"
     ]
    },
    {
     "name": "stderr",
     "output_type": "stream",
     "text": [
      "100%|█████████████████████████████████████████████| 2/2 [00:25<00:00, 12.68s/it]\n"
     ]
    },
    {
     "name": "stdout",
     "output_type": "stream",
     "text": [
      "{'metrics': [{'sample': 'P62_CTA_0', 'seg_sum/GT_sum': tensor(1.3042), 'metric1': tensor([0.5270])}, {'sample': 'new_CTA_0', 'seg_sum/GT_sum': tensor(1.6203), 'metric1': tensor([0.3934])}]}\n",
      "Epoch 38/50\n"
     ]
    },
    {
     "name": "stderr",
     "output_type": "stream",
     "text": [
      "100%|█████████████████████████████████████████| 128/128 [00:35<00:00,  3.56it/s]\n"
     ]
    },
    {
     "name": "stdout",
     "output_type": "stream",
     "text": [
      "{'mean_loss': 0.43580331141129136}\n"
     ]
    },
    {
     "name": "stderr",
     "output_type": "stream",
     "text": [
      "100%|█████████████████████████████████████████████| 8/8 [00:03<00:00,  2.48it/s]\n"
     ]
    },
    {
     "name": "stdout",
     "output_type": "stream",
     "text": [
      "{'mean_loss': 0.45998261123895645}\n"
     ]
    },
    {
     "name": "stderr",
     "output_type": "stream",
     "text": [
      "100%|█████████████████████████████████████████████| 2/2 [00:24<00:00, 12.41s/it]\n"
     ]
    },
    {
     "name": "stdout",
     "output_type": "stream",
     "text": [
      "{'metrics': [{'sample': 'P62_CTA_0', 'seg_sum/GT_sum': tensor(1.2972), 'metric1': tensor([0.5290])}, {'sample': 'new_CTA_0', 'seg_sum/GT_sum': tensor(1.6176), 'metric1': tensor([0.3937])}]}\n",
      "Epoch 39/50\n"
     ]
    },
    {
     "name": "stderr",
     "output_type": "stream",
     "text": [
      "100%|█████████████████████████████████████████| 128/128 [00:35<00:00,  3.62it/s]\n"
     ]
    },
    {
     "name": "stdout",
     "output_type": "stream",
     "text": [
      "{'mean_loss': 0.40498260990716517}\n"
     ]
    },
    {
     "name": "stderr",
     "output_type": "stream",
     "text": [
      "100%|█████████████████████████████████████████████| 8/8 [00:03<00:00,  2.47it/s]\n"
     ]
    },
    {
     "name": "stdout",
     "output_type": "stream",
     "text": [
      "{'mean_loss': 0.3868459016084671}\n"
     ]
    },
    {
     "name": "stderr",
     "output_type": "stream",
     "text": [
      "100%|█████████████████████████████████████████████| 2/2 [00:24<00:00, 12.40s/it]\n"
     ]
    },
    {
     "name": "stdout",
     "output_type": "stream",
     "text": [
      "{'metrics': [{'sample': 'P62_CTA_0', 'seg_sum/GT_sum': tensor(1.2902), 'metric1': tensor([0.5309])}, {'sample': 'new_CTA_0', 'seg_sum/GT_sum': tensor(1.6141), 'metric1': tensor([0.3942])}]}\n",
      "Epoch 40/50\n"
     ]
    },
    {
     "name": "stderr",
     "output_type": "stream",
     "text": [
      "100%|█████████████████████████████████████████| 128/128 [00:35<00:00,  3.63it/s]\n"
     ]
    },
    {
     "name": "stdout",
     "output_type": "stream",
     "text": [
      "{'mean_loss': 0.40198736905585974}\n"
     ]
    },
    {
     "name": "stderr",
     "output_type": "stream",
     "text": [
      "100%|█████████████████████████████████████████████| 8/8 [00:03<00:00,  2.46it/s]\n"
     ]
    },
    {
     "name": "stdout",
     "output_type": "stream",
     "text": [
      "{'mean_loss': 0.38784293457865715}\n"
     ]
    },
    {
     "name": "stderr",
     "output_type": "stream",
     "text": [
      "100%|█████████████████████████████████████████████| 2/2 [00:24<00:00, 12.42s/it]\n"
     ]
    },
    {
     "name": "stdout",
     "output_type": "stream",
     "text": [
      "{'metrics': [{'sample': 'P62_CTA_0', 'seg_sum/GT_sum': tensor(1.2815), 'metric1': tensor([0.5328])}, {'sample': 'new_CTA_0', 'seg_sum/GT_sum': tensor(1.6085), 'metric1': tensor([0.3949])}]}\n",
      "Epoch 41/50\n"
     ]
    },
    {
     "name": "stderr",
     "output_type": "stream",
     "text": [
      "100%|█████████████████████████████████████████| 128/128 [00:35<00:00,  3.62it/s]\n"
     ]
    },
    {
     "name": "stdout",
     "output_type": "stream",
     "text": [
      "{'mean_loss': 0.4204666456207633}\n"
     ]
    },
    {
     "name": "stderr",
     "output_type": "stream",
     "text": [
      "100%|█████████████████████████████████████████████| 8/8 [00:03<00:00,  2.45it/s]\n"
     ]
    },
    {
     "name": "stdout",
     "output_type": "stream",
     "text": [
      "{'mean_loss': 0.45193295180797577}\n"
     ]
    },
    {
     "name": "stderr",
     "output_type": "stream",
     "text": [
      "100%|█████████████████████████████████████████████| 2/2 [00:24<00:00, 12.47s/it]\n"
     ]
    },
    {
     "name": "stdout",
     "output_type": "stream",
     "text": [
      "{'metrics': [{'sample': 'P62_CTA_0', 'seg_sum/GT_sum': tensor(1.2777), 'metric1': tensor([0.5339])}, {'sample': 'new_CTA_0', 'seg_sum/GT_sum': tensor(1.6082), 'metric1': tensor([0.3950])}]}\n",
      "Epoch 42/50\n"
     ]
    },
    {
     "name": "stderr",
     "output_type": "stream",
     "text": [
      "100%|█████████████████████████████████████████| 128/128 [00:35<00:00,  3.59it/s]\n"
     ]
    },
    {
     "name": "stdout",
     "output_type": "stream",
     "text": [
      "{'mean_loss': 0.422345515107736}\n"
     ]
    },
    {
     "name": "stderr",
     "output_type": "stream",
     "text": [
      "100%|█████████████████████████████████████████████| 8/8 [00:03<00:00,  2.41it/s]\n"
     ]
    },
    {
     "name": "stdout",
     "output_type": "stream",
     "text": [
      "{'mean_loss': 0.438314825296402}\n"
     ]
    },
    {
     "name": "stderr",
     "output_type": "stream",
     "text": [
      "100%|█████████████████████████████████████████████| 2/2 [00:24<00:00, 12.40s/it]\n"
     ]
    },
    {
     "name": "stdout",
     "output_type": "stream",
     "text": [
      "{'metrics': [{'sample': 'P62_CTA_0', 'seg_sum/GT_sum': tensor(1.2737), 'metric1': tensor([0.5352])}, {'sample': 'new_CTA_0', 'seg_sum/GT_sum': tensor(1.6072), 'metric1': tensor([0.3953])}]}\n",
      "Epoch 43/50\n"
     ]
    },
    {
     "name": "stderr",
     "output_type": "stream",
     "text": [
      "100%|█████████████████████████████████████████| 128/128 [00:35<00:00,  3.60it/s]\n"
     ]
    },
    {
     "name": "stdout",
     "output_type": "stream",
     "text": [
      "{'mean_loss': 0.45367980073206127}\n"
     ]
    },
    {
     "name": "stderr",
     "output_type": "stream",
     "text": [
      "100%|█████████████████████████████████████████████| 8/8 [00:03<00:00,  2.40it/s]\n"
     ]
    },
    {
     "name": "stdout",
     "output_type": "stream",
     "text": [
      "{'mean_loss': 0.43799522891640663}\n"
     ]
    },
    {
     "name": "stderr",
     "output_type": "stream",
     "text": [
      " 50%|██████████████████████▌                      | 1/2 [00:12<00:12, 12.84s/it]"
     ]
    }
   ],
   "source": [
    "controller.fit(model, dataset, 50)"
   ]
  },
  {
   "cell_type": "code",
   "execution_count": null,
   "id": "5b5d61e6-1480-4344-8be8-7b1631328910",
   "metadata": {},
   "outputs": [],
   "source": []
  },
  {
   "cell_type": "code",
   "execution_count": null,
   "id": "15de1186-7ac6-4cad-a85c-d8e586cd21df",
   "metadata": {},
   "outputs": [],
   "source": [
    "model_name = \"LiquidNet_second_config_8_ExpLog09_Tversky055_epoch50\"\n",
    "controller.save(\"/home/msst/repo/MSRepo/VesselSegmentation/saved_models/\" + model_name)"
   ]
  },
  {
   "cell_type": "code",
   "execution_count": 10,
   "id": "a7009241-3f7e-4aa1-996b-3f84f5c56e2b",
   "metadata": {
    "tags": []
   },
   "outputs": [],
   "source": [
    "#controller.load_model(model, \"/home/msst/repo/MSRepo/VesselSegmentation/saved_models/\" + model_name)\n",
    "#controller.model = model.to(device)"
   ]
  },
  {
   "cell_type": "code",
   "execution_count": 15,
   "id": "89f3ce65-98bd-4d45-baa1-5abfa649d6ee",
   "metadata": {},
   "outputs": [],
   "source": [
    "path_to_check= \"/home/msst/repo/MSRepo/VesselSegmentation/saved_models/\" + model_name\n",
    "controller.load(model, path_to_checkpoint=path_to_check)"
   ]
  },
  {
   "cell_type": "code",
   "execution_count": null,
   "id": "f5cfb833-e09e-441c-97c0-dd961a3adcca",
   "metadata": {},
   "outputs": [],
   "source": []
  },
  {
   "cell_type": "code",
   "execution_count": 12,
   "id": "70b4e6b3-3777-49f6-a7bb-0b5d4fdaadeb",
   "metadata": {
    "collapsed": true,
    "jupyter": {
     "outputs_hidden": true,
     "source_hidden": true
    },
    "tags": []
   },
   "outputs": [
    {
     "name": "stderr",
     "output_type": "stream",
     "text": [
      "100%|█████████████████████████████████████████████| 7/7 [01:15<00:00, 10.74s/it]\n"
     ]
    },
    {
     "data": {
      "text/plain": [
       "{'metrics': [{'sample': 'P62_CTA',\n",
       "   'seg_sum/GT_sum': tensor(0.0060),\n",
       "   'metric1': tensor([7.3981e-11])},\n",
       "  {'sample': 'P28_CTA',\n",
       "   'seg_sum/GT_sum': tensor(0.0002),\n",
       "   'metric1': tensor([0.0011])},\n",
       "  {'sample': 'P12_CTA',\n",
       "   'seg_sum/GT_sum': tensor(74.4396),\n",
       "   'metric1': tensor([0.0129])},\n",
       "  {'sample': 'P70_CTA',\n",
       "   'seg_sum/GT_sum': tensor(0.0044),\n",
       "   'metric1': tensor([0.0011])},\n",
       "  {'sample': 'P35_CTA',\n",
       "   'seg_sum/GT_sum': tensor(0.0040),\n",
       "   'metric1': tensor([0.0006])},\n",
       "  {'sample': 'new_CTA',\n",
       "   'seg_sum/GT_sum': tensor(0.0035),\n",
       "   'metric1': tensor([7.4289e-05])},\n",
       "  {'sample': 'CT_S5020',\n",
       "   'seg_sum/GT_sum': tensor(36.7029),\n",
       "   'metric1': tensor([0.0207])}]}"
      ]
     },
     "execution_count": 12,
     "metadata": {},
     "output_type": "execute_result"
    }
   ],
   "source": [
    "controller.val_epoch(dataset.test_dataloader)"
   ]
  },
  {
   "cell_type": "code",
   "execution_count": 21,
   "id": "28291f4b-66d9-4a06-855f-a86433d7e76e",
   "metadata": {
    "tags": []
   },
   "outputs": [
    {
     "name": "stderr",
     "output_type": "stream",
     "text": [
      "100%|█████████████████████████████████████████████| 6/6 [02:49<00:00, 28.33s/it]\n"
     ]
    },
    {
     "data": {
      "text/plain": [
       "[{'sample': 'P62_CTA_0',\n",
       "  'seg_sum/GT_sum': tensor(3.3345),\n",
       "  'metric1': tensor([0.2538])},\n",
       " {'sample': 'P70_CTA_0',\n",
       "  'seg_sum/GT_sum': tensor(0.0003),\n",
       "  'metric1': tensor([7.3287e-05])},\n",
       " {'sample': 'P12_CTA_0',\n",
       "  'seg_sum/GT_sum': tensor(6.4134),\n",
       "  'metric1': tensor([0.1475])},\n",
       " {'sample': 'P28_CTA_0',\n",
       "  'seg_sum/GT_sum': tensor(7.6404e-06),\n",
       "  'metric1': tensor([3.6783e-05])},\n",
       " {'sample': 'P35_CTA_0',\n",
       "  'seg_sum/GT_sum': tensor(0.0002),\n",
       "  'metric1': tensor([2.7909e-05])},\n",
       " {'sample': 'CT_S5020_0',\n",
       "  'seg_sum/GT_sum': tensor(5.6240),\n",
       "  'metric1': tensor([0.1178])}]"
      ]
     },
     "execution_count": 21,
     "metadata": {},
     "output_type": "execute_result"
    }
   ],
   "source": [
    "data_dir = \"seg_data/\" + model_name\n",
    "if not os.path.exists(data_dir):\n",
    "    os.mkdir(data_dir)\n",
    "controller.predict(dataset.test_dataloader, data_dir)"
   ]
  },
  {
   "cell_type": "code",
   "execution_count": null,
   "id": "23d38ff3-a2d4-4eb5-9fc3-c12b80161529",
   "metadata": {},
   "outputs": [],
   "source": []
  }
 ],
 "metadata": {
  "kernelspec": {
   "display_name": "Python 3",
   "language": "python",
   "name": "python3"
  },
  "language_info": {
   "codemirror_mode": {
    "name": "ipython",
    "version": 3
   },
   "file_extension": ".py",
   "mimetype": "text/x-python",
   "name": "python",
   "nbconvert_exporter": "python",
   "pygments_lexer": "ipython3",
   "version": "3.8.10"
  }
 },
 "nbformat": 4,
 "nbformat_minor": 5
}
