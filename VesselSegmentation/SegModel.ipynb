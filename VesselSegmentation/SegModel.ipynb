{
 "cells": [
  {
   "cell_type": "code",
   "execution_count": 1,
   "id": "c5551197-4f1b-4341-87e2-6ac529297e5e",
   "metadata": {
    "tags": []
   },
   "outputs": [],
   "source": [
    "%load_ext autoreload\n",
    "%autoreload 2"
   ]
  },
  {
   "cell_type": "code",
   "execution_count": 2,
   "id": "ee14abb5-ab02-498a-97c4-06e006266cca",
   "metadata": {
    "tags": []
   },
   "outputs": [],
   "source": [
    "import os\n",
    "import numpy as np\n",
    "\n",
    "import torch\n",
    "import torch.nn as nn\n",
    "from torch.utils.data import DataLoader"
   ]
  },
  {
   "cell_type": "code",
   "execution_count": 3,
   "id": "46805e0c-6abf-4220-aeb5-1720cba916bb",
   "metadata": {
    "tags": []
   },
   "outputs": [],
   "source": [
    "from ml.model import U_Net"
   ]
  },
  {
   "cell_type": "code",
   "execution_count": 4,
   "id": "f6af17a1-a09a-44b0-b96f-0e06faa4ee99",
   "metadata": {
    "tags": []
   },
   "outputs": [
    {
     "name": "stdout",
     "output_type": "stream",
     "text": [
      "cuda\n"
     ]
    }
   ],
   "source": [
    "device = torch.device('cuda' if torch.cuda.is_available() else 'cpu')\n",
    "print(device)"
   ]
  },
  {
   "cell_type": "code",
   "execution_count": 23,
   "id": "8e8f709d-4ac0-4935-8919-552b52cbb1fb",
   "metadata": {
    "tags": []
   },
   "outputs": [],
   "source": [
    "import nibabel as nib\n",
    "def load_data_pair(path_to_folder):\n",
    "    path_to_head = path_to_folder + \"/head.nii.gz\"\n",
    "    path_to_vessels = path_to_folder + \"/vessels.nii.gz\"\n",
    "    \n",
    "    head_file = nib.load(path_to_head)\n",
    "    vessels_file = nib.load(path_to_vessels)\n",
    "    \n",
    "    head_vol = np.array(head_file.dataobj, dtype=np.float32)\n",
    "    vessels_vol = np.array(vessels_file.dataobj, dtype=np.float32)\n",
    "    return(head_vol, vessels_vol)"
   ]
  },
  {
   "cell_type": "code",
   "execution_count": 24,
   "id": "73d71258-b757-4403-8051-fbc995d4aaa1",
   "metadata": {
    "tags": []
   },
   "outputs": [],
   "source": [
    "head_vol, vessels_vol = load_data_pair(\"/home/msst/Documents/medtech/brain_seg_dataset/CT_S5020\")"
   ]
  },
  {
   "cell_type": "code",
   "execution_count": 25,
   "id": "e6246a54-cc47-4ecc-bfa5-b622e518df13",
   "metadata": {
    "tags": []
   },
   "outputs": [
    {
     "name": "stdout",
     "output_type": "stream",
     "text": [
      "torch.Size([1, 1, 512, 512, 392])\n",
      "torch.Size([1, 1, 512, 512, 392])\n"
     ]
    }
   ],
   "source": [
    "head_vol = torch.tensor(head_vol).unsqueeze(0).unsqueeze(0)\n",
    "vessels_vol = torch.tensor(vessels_vol).unsqueeze(0).unsqueeze(0)\n",
    "print(head_vol.shape)\n",
    "print(vessels_vol.shape)"
   ]
  },
  {
   "cell_type": "code",
   "execution_count": 28,
   "id": "87601130-26ed-46d1-be07-9f40b3c2b4f8",
   "metadata": {
    "tags": []
   },
   "outputs": [],
   "source": [
    "model = U_Net()"
   ]
  },
  {
   "cell_type": "code",
   "execution_count": 29,
   "id": "f5eecf77-8a4a-4559-a1b9-bd86ca6be108",
   "metadata": {
    "tags": []
   },
   "outputs": [
    {
     "data": {
      "text/plain": [
       "103536449"
      ]
     },
     "execution_count": 29,
     "metadata": {},
     "output_type": "execute_result"
    }
   ],
   "source": [
    "def get_total_params(model):\n",
    "    total_params = sum(\n",
    "    param.numel() for param in model.parameters()\n",
    "    )\n",
    "    return(total_params)\n",
    "\n",
    "get_total_params(model)"
   ]
  },
  {
   "cell_type": "code",
   "execution_count": 30,
   "id": "f7b564ca-5550-4b14-828e-14e21354671e",
   "metadata": {
    "tags": []
   },
   "outputs": [],
   "source": [
    "loss = nn.BCELoss(reduction='mean')\n",
    "optim = torch.optim.Adam(model.parameters(), lr=3e-4, betas=(0.9, 0.999), eps=1e-06, weight_decay=0.0)"
   ]
  },
  {
   "cell_type": "code",
   "execution_count": null,
   "id": "fa8e6a09-0f63-4d7e-af78-cabeeeb51624",
   "metadata": {
    "tags": []
   },
   "outputs": [],
   "source": [
    "for epoch in range(300):\n",
    "    optim.zero_grad()\n",
    "    out = model(head_vol)\n",
    "    out = out[0]\n",
    "    loss_train = loss(out, vessels_vol.type(torch.float))\n",
    "    print(loss_train)\n",
    "    loss_train.backward()\n",
    "    optim.step()"
   ]
  },
  {
   "cell_type": "code",
   "execution_count": null,
   "id": "cbb73cf0-26a8-43a0-8a8a-9b50d237ed17",
   "metadata": {},
   "outputs": [],
   "source": []
  },
  {
   "cell_type": "code",
   "execution_count": null,
   "id": "f104da62-9d7a-4c44-828a-ee23f496c74e",
   "metadata": {},
   "outputs": [],
   "source": []
  },
  {
   "cell_type": "code",
   "execution_count": null,
   "id": "7fe148c0-3b76-47ac-be3d-272f2b02f1e8",
   "metadata": {},
   "outputs": [],
   "source": []
  }
 ],
 "metadata": {
  "kernelspec": {
   "display_name": "Python 3",
   "language": "python",
   "name": "python3"
  },
  "language_info": {
   "codemirror_mode": {
    "name": "ipython",
    "version": 3
   },
   "file_extension": ".py",
   "mimetype": "text/x-python",
   "name": "python",
   "nbconvert_exporter": "python",
   "pygments_lexer": "ipython3",
   "version": "3.8.10"
  }
 },
 "nbformat": 4,
 "nbformat_minor": 5
}
