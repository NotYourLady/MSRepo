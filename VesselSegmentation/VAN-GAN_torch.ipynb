{
 "cells": [
  {
   "cell_type": "code",
   "execution_count": 1,
   "id": "dbfb60e2-530b-44b5-b405-6612c9a242fa",
   "metadata": {
    "tags": []
   },
   "outputs": [],
   "source": [
    "%load_ext autoreload\n",
    "%autoreload 2"
   ]
  },
  {
   "cell_type": "code",
   "execution_count": 7,
   "id": "ca47817b-9e17-4c3c-a7dc-40054e3c8c15",
   "metadata": {
    "tags": []
   },
   "outputs": [],
   "source": [
    "import matplotlib.pyplot as plt\n",
    "from IPython.display import clear_output\n",
    "import time"
   ]
  },
  {
   "cell_type": "code",
   "execution_count": 5,
   "id": "bd71b5e9-e525-4669-a35b-1fae7bcb0e7f",
   "metadata": {
    "tags": []
   },
   "outputs": [],
   "source": [
    "x = [1, 2, 3, 4, 2,1,3 ,1,1,1,1,1,1]"
   ]
  },
  {
   "cell_type": "code",
   "execution_count": 13,
   "id": "5ed58523-2f5f-4d6b-b298-b0e9acc5c7c4",
   "metadata": {
    "tags": []
   },
   "outputs": [
    {
     "name": "stdout",
     "output_type": "stream",
     "text": [
      "9\n"
     ]
    },
    {
     "data": {
      "image/png": "[encoded data removed]",
      "text/plain": [
       "<Figure size 640x480 with 1 Axes>"
      ]
     },
     "metadata": {},
     "output_type": "display_data"
    }
   ],
   "source": [
    "for i in range(10):\n",
    "    clear_output()\n",
    "    time.sleep(1)\n",
    "    print(i)\n",
    "    plt.plot(x)\n",
    "    plt.show()"
   ]
  },
  {
   "cell_type": "code",
   "execution_count": 2,
   "id": "ca927d08-41ab-4877-b2bf-5b6b35f3ec0f",
   "metadata": {
    "tags": []
   },
   "outputs": [],
   "source": [
    "from typing import Dict\n",
    "from tqdm import tqdm\n",
    "\n",
    "import torch\n",
    "import torch.nn as nn\n",
    "from torch.optim.lr_scheduler import ExponentialLR\n",
    "import torchio as tio\n",
    "\n",
    "from ml.models.ResUnet import ResUNet\n",
    "from ml.models.unet_deepsup import Unet_MSS\n",
    "\n",
    "from ml.models.building_blocks import VG_discriminator\n",
    "from ml.extra_libraries.CycleGAN_losses import (CycleLoss, ReconstructionLoss, SegmentationLoss,\n",
    "                                       DiscriminatorLoss, GeneratorLoss)\n",
    "from ml.losses import IOU_Metric"
   ]
  },
  {
   "cell_type": "code",
   "execution_count": 10,
   "id": "51c5f680-e578-4d83-b409-00c0fc34bc55",
   "metadata": {
    "tags": []
   },
   "outputs": [],
   "source": [
    "from ml.tio_dataset import TioDataset\n",
    "train_settings  = {\n",
    "    \"patch_shape\" : (64, 64, 32),\n",
    "    \"patches_per_volume\" : 32,\n",
    "    \"patches_queue_length\" : 512,\n",
    "    \"batch_size\" : 5,\n",
    "    \"num_workers\": 4,\n",
    "    \"sampler\": \"weighted\" #\"uniform\",#\n",
    "}\n",
    "\n",
    "# val_settings  = {\n",
    "#     \"patch_shape\" : (32, 32, 32),\n",
    "#     \"patches_per_volume\" : 32,\n",
    "#     \"patches_queue_length\" : 1440,\n",
    "#     \"batch_size\" : 8,\n",
    "#     \"num_workers\": 4,\n",
    "#     \"sampler\": \"uniform\",#\"weighted\" #\"uniform\",#\n",
    "# }\n",
    "\n",
    "test_settings  = {\n",
    "    \"patch_shape\" : (192, 192, 128),\n",
    "    \"overlap_shape\" : (24, 24, 16),\n",
    "    \"batch_size\" : 1,\n",
    "    \"num_workers\": 4,\n",
    "}\n",
    "\n",
    "data_dir = \"/home/msst/Documents/medtech/MainData\"\n",
    "dataset = TioDataset(data_dir,\n",
    "                 train_settings=train_settings,\n",
    "                 val_settings=None,\n",
    "                 test_settings=test_settings)"
   ]
  },
  {
   "cell_type": "code",
   "execution_count": 4,
   "id": "38d96795-a380-4d68-a471-5e477e538212",
   "metadata": {
    "tags": []
   },
   "outputs": [],
   "source": [
    "class VanGan(nn.Module):\n",
    "    def __init__(self, modules):\n",
    "        super(VanGan, self).__init__()\n",
    "        self.gen_IS = modules['gen_IS']\n",
    "        self.gen_SI = modules['gen_SI']\n",
    "        self.disc_I = modules['disc_I']\n",
    "        self.disc_S = modules['disc_S']"
   ]
  },
  {
   "cell_type": "code",
   "execution_count": 5,
   "id": "9688321b-f2e4-4942-bf69-f5a601345a02",
   "metadata": {
    "tags": []
   },
   "outputs": [],
   "source": [
    "modules = {\n",
    "    #'gen_IS': ResUNet(channels_coef=8),\n",
    "    #'gen_SI': ResUNet(channels_coef=8),\n",
    "    'gen_IS': Unet_MSS(channels_coef=16),\n",
    "    'gen_SI': Unet_MSS(channels_coef=16),\n",
    "    'disc_I': VG_discriminator(channels_coef=64),\n",
    "    'disc_S': VG_discriminator(channels_coef=64),\n",
    "}\n",
    "model = VanGan(modules)"
   ]
  },
  {
   "cell_type": "code",
   "execution_count": 6,
   "id": "9c45dc3c-3277-49cc-8218-52073ea75b5f",
   "metadata": {
    "tags": []
   },
   "outputs": [],
   "source": [
    "class VG_Controller:\n",
    "    def __init__(self, config: Dict):\n",
    "        self.config = config\n",
    "        self.device = config['device']\n",
    "        self.model = config[\"model\"]\n",
    "        \n",
    "        otimizers_settings = config[\"otimizers_settings\"]\n",
    "        self.gen_IS_opt = otimizers_settings['gen_IS_opt'](self.model.gen_IS)\n",
    "        self.gen_SI_opt = otimizers_settings['gen_SI_opt'](self.model.gen_SI)\n",
    "        self.disc_I_opt = otimizers_settings['disc_I_opt'](self.model.disc_I)\n",
    "        self.disc_S_opt = otimizers_settings['disc_S_opt'](self.model.disc_S)\n",
    "        \n",
    "        if config.get('sheduler_fn') is not None:\n",
    "            self.with_sheduler = True\n",
    "            self.gen_IS_sheduler = otimizers_settings['sheduler_fn'](self.gen_IS_opt)\n",
    "            self.gen_SI_sheduler = otimizers_settings['sheduler_fn'](self.gen_SI_opt)\n",
    "            self.disc_I_sheduler = otimizers_settings['sheduler_fn'](self.disc_I_opt)\n",
    "            self.disc_S_sheduler = otimizers_settings['sheduler_fn'](self.disc_S_opt)\n",
    "        else:\n",
    "            self.with_sheduler = False\n",
    "        \n",
    "        losses = config[\"losses\"]\n",
    "        self.cycle_loss_fn = losses[\"cycle_loss_fn\"]\n",
    "        self.reconstruction_loss_fn = losses[\"reconstruction_loss_fn\"]\n",
    "        self.segmentation_loss_fn = losses[\"segmentation_loss_fn\"]\n",
    "        self.discriminator_loss_fn = losses[\"discriminator_loss_fn\"]\n",
    "        self.generator_loss_fn = losses[\"generator_loss_fn\"]\n",
    "        self.cycle_lambda = losses[\"cycle_lambda\"]\n",
    "        self.identity_lambda = losses[\"identity_lambda\"]\n",
    "        \n",
    "        self.epoch = 0\n",
    "        self.history = None\n",
    "        \n",
    "        self.metric_fn = IOU_Metric()\n",
    "        \n",
    "        \n",
    "\n",
    "    def fit(self, dataset, n_epochs):\n",
    "        model = self.model.to(self.device)\n",
    "        if self.history is None:\n",
    "            self.history = {\n",
    "                'train': [],\n",
    "                'val': [],\n",
    "                \"test\": [],\n",
    "            }\n",
    "        \n",
    "        start_epoch = self.epoch\n",
    "        for epoch in range(start_epoch, start_epoch+n_epochs):\n",
    "            self.epoch += 1\n",
    "            print(f\"Epoch {epoch + 1}/{start_epoch+n_epochs}\")\n",
    "            \n",
    "            train_info = self.train_epoch(dataset.train_dataloader)\n",
    "            print(train_info)\n",
    "            self.history['train'].append(train_info)\n",
    "            \n",
    "            if dataset.test_dataloader is not None:\n",
    "                test_info = self.test_epoch(dataset.test_dataloader)\n",
    "                print(test_info)\n",
    "                self.history['test'].append(test_info)\n",
    "            \n",
    "            if self.with_sheduler:\n",
    "                self.gen_IS_sheduler.step()\n",
    "                self.gen_SI_sheduler.step()\n",
    "                self.disc_I_sheduler.step()\n",
    "                self.disc_S_sheduler.step()\n",
    "            \n",
    "        return self.model.eval()\n",
    "\n",
    "    \n",
    "    def train_epoch(self, train_dataloader):\n",
    "        self.model.train()\n",
    "        \n",
    "        gen_IS_losses = []\n",
    "        gen_SI_losses = []\n",
    "        disc_I_losses = []\n",
    "        disc_S_losses = []\n",
    "        segmentation_losses = []\n",
    "        reconstruction_losses = []\n",
    "        \n",
    "        for patches_batch in tqdm(train_dataloader):\n",
    "            real_I = patches_batch['head']['data'].float().to(self.device)  \n",
    "            real_S = patches_batch['vessels']['data'].float().to(self.device) \n",
    "            \n",
    "            #Generator outputs\n",
    "            fake_S = self.model.gen_IS(real_I)\n",
    "            fake_I = self.model.gen_SI(real_S)\n",
    "            cycled_S = self.model.gen_IS(fake_I)\n",
    "            cycled_I = self.model.gen_SI(fake_S)\n",
    "\n",
    "            # Discriminator outputs         \n",
    "            disc_real_S = self.model.disc_S(real_S)\n",
    "            disc_fake_S = self.model.disc_S(fake_S)\n",
    "            disc_real_I = self.model.disc_I(real_I)\n",
    "            disc_fake_I = self.model.disc_I(fake_I)\n",
    "            \n",
    "            #Losses\n",
    "            cycle_loss_I = self.cycle_loss_fn(real_S, cycled_S)\n",
    "            cycle_loss_S = self.cycle_loss_fn(real_I, cycled_I)\n",
    "            \n",
    "            segmentation_loss = self.segmentation_loss_fn(real_S, cycled_S)\n",
    "            reconstruction_loss = self.reconstruction_loss_fn(real_I, cycled_I)\n",
    "\n",
    "            gen_IS_loss = self.generator_loss_fn(disc_fake_S)\n",
    "            gen_SI_loss = self.generator_loss_fn(disc_fake_I)\n",
    "\n",
    "            total_loss_I = gen_IS_loss + self.cycle_lambda * cycle_loss_I +\\\n",
    "                           self.identity_lambda * segmentation_loss\n",
    "            total_loss_S = gen_SI_loss + self.cycle_lambda * cycle_loss_S +\\\n",
    "                           self.identity_lambda * reconstruction_loss  # + id_IS_loss\n",
    "            \n",
    "            \n",
    "            # -----------------\n",
    "            # Generators\n",
    "            # -----------------\n",
    "            self.gen_IS_opt.zero_grad()\n",
    "            self.gen_SI_opt.zero_grad()\n",
    "            \n",
    "            total_loss_I.backward(retain_graph=True)\n",
    "            total_loss_S.backward(retain_graph=True)\n",
    "            \n",
    "            self.gen_IS_opt.step()\n",
    "            self.gen_SI_opt.step()\n",
    "            \n",
    "            # -----------------\n",
    "            # Discriminators\n",
    "            # -----------------\n",
    "            \n",
    "            self.disc_I_opt.zero_grad()\n",
    "            self.disc_S_opt.zero_grad()\n",
    "            \n",
    "            disc_I_loss = self.discriminator_loss_fn(disc_real_I, disc_fake_I)\n",
    "            disc_S_loss = self.discriminator_loss_fn(disc_real_S, disc_fake_S)\n",
    "            \n",
    "            disc_I_loss.backward(retain_graph=True)\n",
    "            disc_S_loss.backward()\n",
    "            \n",
    "            self.disc_I_opt.step()\n",
    "            self.disc_S_opt.step()\n",
    "            \n",
    "            gen_IS_losses.append(gen_IS_loss.item())\n",
    "            gen_SI_losses.append(gen_SI_loss.item())\n",
    "            disc_I_losses.append(disc_I_loss.item())\n",
    "            disc_S_losses.append(disc_S_loss.item())\n",
    "            segmentation_losses.append(segmentation_loss.item())\n",
    "            reconstruction_losses.append(reconstruction_loss.item())\n",
    "        \n",
    "        self.model.eval()\n",
    "        out = {'gen_IS_loss': sum(gen_IS_losses)/len(gen_IS_losses),\n",
    "                'gen_SI_loss': sum(gen_SI_losses)/len(gen_SI_losses),\n",
    "                'disc_I_loss': sum(disc_I_losses)/len(disc_I_losses),\n",
    "                'disc_S_loss': sum(disc_S_losses)/len(disc_S_losses),\n",
    "                'segmentation_loss': sum(segmentation_losses)/len(segmentation_losses),\n",
    "                'reconstruction_loss': sum(reconstruction_losses)/len(reconstruction_losses),\n",
    "               }\n",
    "        return out\n",
    "    \n",
    "    \n",
    "    def test_epoch(self, test_dataloader):\n",
    "        self.model.eval()\n",
    "        metrics = []\n",
    "        for batch in tqdm(test_dataloader):\n",
    "            patch_loader = batch[\"patch_loader\"]\n",
    "            grid_aggregator = batch[\"grid_aggregator\"]\n",
    "            GT = batch[\"GT\"]\n",
    "            sample_name = batch[\"sample_name\"]\n",
    "            head_seg = self.fast_predict(patch_loader, grid_aggregator)\n",
    "            metric = self.metric_fn(GT.data, head_seg)\n",
    "            metrics.append({\"sample\" : sample_name,\n",
    "                            \"seg_sum/GT_sum\" : head_seg.sum()/GT.data.sum()+0.000001,\n",
    "                            \"metric1\" : metric})\n",
    "            \n",
    "        return {'metrics': metrics}\n",
    "    \n",
    "    def fast_predict(self, patch_loader, grid_aggregator, thresh=0.5):\n",
    "        for patches_batch in patch_loader:\n",
    "            patch_locations = patches_batch[tio.LOCATION]\n",
    "            head_patches = patches_batch['head']['data'].to(self.device)\n",
    "            with torch.no_grad():\n",
    "                patch_seg = self.model.gen_IS(head_patches)\n",
    "                grid_aggregator.add_batch(patch_seg.cpu(), patch_locations)\n",
    "        seg = grid_aggregator.get_output_tensor()\n",
    "        seg[seg<thresh]=0\n",
    "        seg[seg>0]=1\n",
    "        return(seg)\n",
    "    "
   ]
  },
  {
   "cell_type": "code",
   "execution_count": 7,
   "id": "7984aaad-a181-479d-bde8-4fab2871e7ad",
   "metadata": {
    "tags": []
   },
   "outputs": [],
   "source": [
    "config = {\"device\": \"cuda\",\n",
    "          \"otimizers_settings\":{\n",
    "            \"gen_IS_opt\" : lambda model: torch.optim.Adam(model.parameters(), lr=0.1, betas=(0.5, 0.9)),\n",
    "            \"gen_SI_opt\" : lambda model: torch.optim.Adam(model.parameters(), lr=0.1, betas=(0.5, 0.9)),\n",
    "            \"disc_I_opt\" : lambda model: torch.optim.Adam(model.parameters(), lr=0.1, betas=(0.5, 0.9)),\n",
    "            \"disc_S_opt\" : lambda model: torch.optim.Adam(model.parameters(), lr=0.1, betas=(0.5, 0.9)),\n",
    "            \"sheduler_fn\": lambda optimizer: ExponentialLR(optimizer, 0.9)\n",
    "            },\n",
    "          \"model\": model,\n",
    "          \"losses\":{\n",
    "            \"cycle_loss_fn\": CycleLoss(),\n",
    "            \"reconstruction_loss_fn\": ReconstructionLoss(),\n",
    "            \"segmentation_loss_fn\": SegmentationLoss(),\n",
    "            \"discriminator_loss_fn\": DiscriminatorLoss(),\n",
    "            \"generator_loss_fn\": GeneratorLoss(),\n",
    "            \"cycle_lambda\" : 10, \n",
    "            \"identity_lambda\" : 5,\n",
    "            }\n",
    "          }\n",
    "vg_controller = VG_Controller(config)"
   ]
  },
  {
   "cell_type": "code",
   "execution_count": 11,
   "id": "66dc9e86-55cd-45cd-8162-92a28f3d46dc",
   "metadata": {
    "tags": []
   },
   "outputs": [
    {
     "name": "stdout",
     "output_type": "stream",
     "text": [
      "Epoch 2/51\n"
     ]
    },
    {
     "name": "stderr",
     "output_type": "stream",
     "text": [
      "100%|███████████████████████████████████████████| 26/26 [00:36<00:00,  1.39s/it]\n"
     ]
    },
    {
     "name": "stdout",
     "output_type": "stream",
     "text": [
      "{'gen_IS_loss': 0.7188867880747869, 'gen_SI_loss': 0.9999962265674884, 'disc_I_loss': 0.49999918043613434, 'disc_S_loss': 0.254559718645536, 'segmentation_loss': 0.33604933665348935, 'reconstruction_loss': 0.12829128222969863}\n"
     ]
    },
    {
     "name": "stderr",
     "output_type": "stream",
     "text": [
      "100%|█████████████████████████████████████████████| 2/2 [00:14<00:00,  7.01s/it]\n"
     ]
    },
    {
     "name": "stdout",
     "output_type": "stream",
     "text": [
      "{'metrics': [{'sample': 'P62_CTA_0', 'seg_sum/GT_sum': tensor(0.0008), 'metric1': tensor([3.3484e-11])}, {'sample': 'new_CTA_0', 'seg_sum/GT_sum': tensor(3.1494e-05), 'metric1': tensor([3.3881e-11])}]}\n",
      "Epoch 3/51\n"
     ]
    },
    {
     "name": "stderr",
     "output_type": "stream",
     "text": [
      "100%|███████████████████████████████████████████| 26/26 [00:38<00:00,  1.47s/it]\n"
     ]
    },
    {
     "name": "stdout",
     "output_type": "stream",
     "text": [
      "{'gen_IS_loss': 0.7219376185765634, 'gen_SI_loss': 0.9999909194616171, 'disc_I_loss': 0.49999859585211825, 'disc_S_loss': 0.2951166538091806, 'segmentation_loss': 0.4530435364979964, 'reconstruction_loss': 0.0974854664483036}\n"
     ]
    },
    {
     "name": "stderr",
     "output_type": "stream",
     "text": [
      "100%|█████████████████████████████████████████████| 2/2 [00:14<00:00,  7.04s/it]\n"
     ]
    },
    {
     "name": "stdout",
     "output_type": "stream",
     "text": [
      "{'metrics': [{'sample': 'P62_CTA_0', 'seg_sum/GT_sum': tensor(6.9845), 'metric1': tensor([0.0105])}, {'sample': 'new_CTA_0', 'seg_sum/GT_sum': tensor(0.6594), 'metric1': tensor([0.0926])}]}\n",
      "Epoch 4/51\n"
     ]
    },
    {
     "name": "stderr",
     "output_type": "stream",
     "text": [
      "100%|███████████████████████████████████████████| 26/26 [00:38<00:00,  1.48s/it]\n"
     ]
    },
    {
     "name": "stdout",
     "output_type": "stream",
     "text": [
      "{'gen_IS_loss': 0.5049440352102885, 'gen_SI_loss': 0.627838589824163, 'disc_I_loss': 0.48861043269817644, 'disc_S_loss': 0.314293683721469, 'segmentation_loss': 0.19164161957227266, 'reconstruction_loss': 0.14039665833115578}\n"
     ]
    },
    {
     "name": "stderr",
     "output_type": "stream",
     "text": [
      "100%|█████████████████████████████████████████████| 2/2 [00:14<00:00,  7.01s/it]\n"
     ]
    },
    {
     "name": "stdout",
     "output_type": "stream",
     "text": [
      "{'metrics': [{'sample': 'P62_CTA_0', 'seg_sum/GT_sum': tensor(0.0501), 'metric1': tensor([3.1912e-06])}, {'sample': 'new_CTA_0', 'seg_sum/GT_sum': tensor(0.0024), 'metric1': tensor([4.0561e-05])}]}\n",
      "Epoch 5/51\n"
     ]
    },
    {
     "name": "stderr",
     "output_type": "stream",
     "text": [
      "100%|███████████████████████████████████████████| 26/26 [00:38<00:00,  1.48s/it]\n"
     ]
    },
    {
     "name": "stdout",
     "output_type": "stream",
     "text": [
      "{'gen_IS_loss': 0.7538539469242096, 'gen_SI_loss': 0.5789563621465976, 'disc_I_loss': 0.4556983938583961, 'disc_S_loss': 0.22306309081614017, 'segmentation_loss': 0.6915452342766982, 'reconstruction_loss': 0.22530006230450594}\n"
     ]
    },
    {
     "name": "stderr",
     "output_type": "stream",
     "text": [
      "100%|█████████████████████████████████████████████| 2/2 [00:14<00:00,  7.06s/it]\n"
     ]
    },
    {
     "name": "stdout",
     "output_type": "stream",
     "text": [
      "{'metrics': [{'sample': 'P62_CTA_0', 'seg_sum/GT_sum': tensor(2.6694), 'metric1': tensor([7.3059e-06])}, {'sample': 'new_CTA_0', 'seg_sum/GT_sum': tensor(0.0224), 'metric1': tensor([4.3084e-05])}]}\n",
      "Epoch 6/51\n"
     ]
    },
    {
     "name": "stderr",
     "output_type": "stream",
     "text": [
      "100%|███████████████████████████████████████████| 26/26 [00:38<00:00,  1.49s/it]\n"
     ]
    },
    {
     "name": "stdout",
     "output_type": "stream",
     "text": [
      "{'gen_IS_loss': 0.6208614151065166, 'gen_SI_loss': 0.28408230760340725, 'disc_I_loss': 0.46075764527687657, 'disc_S_loss': 0.21335595101118088, 'segmentation_loss': 0.27112147212028503, 'reconstruction_loss': 0.1702665124231806}\n"
     ]
    },
    {
     "name": "stderr",
     "output_type": "stream",
     "text": [
      "100%|█████████████████████████████████████████████| 2/2 [00:14<00:00,  7.14s/it]\n"
     ]
    },
    {
     "name": "stdout",
     "output_type": "stream",
     "text": [
      "{'metrics': [{'sample': 'P62_CTA_0', 'seg_sum/GT_sum': tensor(0.0414), 'metric1': tensor([3.2177e-11])}, {'sample': 'new_CTA_0', 'seg_sum/GT_sum': tensor(0.0007), 'metric1': tensor([1.0157e-05])}]}\n",
      "Epoch 7/51\n"
     ]
    },
    {
     "name": "stderr",
     "output_type": "stream",
     "text": [
      " 27%|███████████▊                                | 7/26 [00:14<00:39,  2.09s/it]\n"
     ]
    },
    {
     "ename": "KeyboardInterrupt",
     "evalue": "",
     "output_type": "error",
     "traceback": [
      "\u001b[0;31m---------------------------------------------------------------------------\u001b[0m",
      "\u001b[0;31mKeyboardInterrupt\u001b[0m                         Traceback (most recent call last)",
      "Cell \u001b[0;32mIn[11], line 1\u001b[0m\n\u001b[0;32m----> 1\u001b[0m \u001b[43mvg_controller\u001b[49m\u001b[38;5;241;43m.\u001b[39;49m\u001b[43mfit\u001b[49m\u001b[43m(\u001b[49m\u001b[43mdataset\u001b[49m\u001b[43m,\u001b[49m\u001b[43m \u001b[49m\u001b[38;5;241;43m50\u001b[39;49m\u001b[43m)\u001b[49m\n",
      "Cell \u001b[0;32mIn[6], line 52\u001b[0m, in \u001b[0;36mVG_Controller.fit\u001b[0;34m(self, dataset, n_epochs)\u001b[0m\n\u001b[1;32m     49\u001b[0m \u001b[38;5;28mself\u001b[39m\u001b[38;5;241m.\u001b[39mepoch \u001b[38;5;241m+\u001b[39m\u001b[38;5;241m=\u001b[39m \u001b[38;5;241m1\u001b[39m\n\u001b[1;32m     50\u001b[0m \u001b[38;5;28mprint\u001b[39m(\u001b[38;5;124mf\u001b[39m\u001b[38;5;124m\"\u001b[39m\u001b[38;5;124mEpoch \u001b[39m\u001b[38;5;132;01m{\u001b[39;00mepoch\u001b[38;5;250m \u001b[39m\u001b[38;5;241m+\u001b[39m\u001b[38;5;250m \u001b[39m\u001b[38;5;241m1\u001b[39m\u001b[38;5;132;01m}\u001b[39;00m\u001b[38;5;124m/\u001b[39m\u001b[38;5;132;01m{\u001b[39;00mstart_epoch\u001b[38;5;241m+\u001b[39mn_epochs\u001b[38;5;132;01m}\u001b[39;00m\u001b[38;5;124m\"\u001b[39m)\n\u001b[0;32m---> 52\u001b[0m train_info \u001b[38;5;241m=\u001b[39m \u001b[38;5;28;43mself\u001b[39;49m\u001b[38;5;241;43m.\u001b[39;49m\u001b[43mtrain_epoch\u001b[49m\u001b[43m(\u001b[49m\u001b[43mdataset\u001b[49m\u001b[38;5;241;43m.\u001b[39;49m\u001b[43mtrain_dataloader\u001b[49m\u001b[43m)\u001b[49m\n\u001b[1;32m     53\u001b[0m \u001b[38;5;28mprint\u001b[39m(train_info)\n\u001b[1;32m     54\u001b[0m \u001b[38;5;28mself\u001b[39m\u001b[38;5;241m.\u001b[39mhistory[\u001b[38;5;124m'\u001b[39m\u001b[38;5;124mtrain\u001b[39m\u001b[38;5;124m'\u001b[39m]\u001b[38;5;241m.\u001b[39mappend(train_info)\n",
      "Cell \u001b[0;32mIn[6], line 119\u001b[0m, in \u001b[0;36mVG_Controller.train_epoch\u001b[0;34m(self, train_dataloader)\u001b[0m\n\u001b[1;32m    116\u001b[0m \u001b[38;5;28mself\u001b[39m\u001b[38;5;241m.\u001b[39mgen_SI_opt\u001b[38;5;241m.\u001b[39mzero_grad()\n\u001b[1;32m    118\u001b[0m total_loss_I\u001b[38;5;241m.\u001b[39mbackward(retain_graph\u001b[38;5;241m=\u001b[39m\u001b[38;5;28;01mTrue\u001b[39;00m)\n\u001b[0;32m--> 119\u001b[0m \u001b[43mtotal_loss_S\u001b[49m\u001b[38;5;241;43m.\u001b[39;49m\u001b[43mbackward\u001b[49m\u001b[43m(\u001b[49m\u001b[43mretain_graph\u001b[49m\u001b[38;5;241;43m=\u001b[39;49m\u001b[38;5;28;43;01mTrue\u001b[39;49;00m\u001b[43m)\u001b[49m\n\u001b[1;32m    121\u001b[0m \u001b[38;5;28mself\u001b[39m\u001b[38;5;241m.\u001b[39mgen_IS_opt\u001b[38;5;241m.\u001b[39mstep()\n\u001b[1;32m    122\u001b[0m \u001b[38;5;28mself\u001b[39m\u001b[38;5;241m.\u001b[39mgen_SI_opt\u001b[38;5;241m.\u001b[39mstep()\n",
      "File \u001b[0;32m~/.local/lib/python3.8/site-packages/torch/_tensor.py:487\u001b[0m, in \u001b[0;36mTensor.backward\u001b[0;34m(self, gradient, retain_graph, create_graph, inputs)\u001b[0m\n\u001b[1;32m    477\u001b[0m \u001b[38;5;28;01mif\u001b[39;00m has_torch_function_unary(\u001b[38;5;28mself\u001b[39m):\n\u001b[1;32m    478\u001b[0m     \u001b[38;5;28;01mreturn\u001b[39;00m handle_torch_function(\n\u001b[1;32m    479\u001b[0m         Tensor\u001b[38;5;241m.\u001b[39mbackward,\n\u001b[1;32m    480\u001b[0m         (\u001b[38;5;28mself\u001b[39m,),\n\u001b[0;32m   (...)\u001b[0m\n\u001b[1;32m    485\u001b[0m         inputs\u001b[38;5;241m=\u001b[39minputs,\n\u001b[1;32m    486\u001b[0m     )\n\u001b[0;32m--> 487\u001b[0m \u001b[43mtorch\u001b[49m\u001b[38;5;241;43m.\u001b[39;49m\u001b[43mautograd\u001b[49m\u001b[38;5;241;43m.\u001b[39;49m\u001b[43mbackward\u001b[49m\u001b[43m(\u001b[49m\n\u001b[1;32m    488\u001b[0m \u001b[43m    \u001b[49m\u001b[38;5;28;43mself\u001b[39;49m\u001b[43m,\u001b[49m\u001b[43m \u001b[49m\u001b[43mgradient\u001b[49m\u001b[43m,\u001b[49m\u001b[43m \u001b[49m\u001b[43mretain_graph\u001b[49m\u001b[43m,\u001b[49m\u001b[43m \u001b[49m\u001b[43mcreate_graph\u001b[49m\u001b[43m,\u001b[49m\u001b[43m \u001b[49m\u001b[43minputs\u001b[49m\u001b[38;5;241;43m=\u001b[39;49m\u001b[43minputs\u001b[49m\n\u001b[1;32m    489\u001b[0m \u001b[43m\u001b[49m\u001b[43m)\u001b[49m\n",
      "File \u001b[0;32m~/.local/lib/python3.8/site-packages/torch/autograd/__init__.py:200\u001b[0m, in \u001b[0;36mbackward\u001b[0;34m(tensors, grad_tensors, retain_graph, create_graph, grad_variables, inputs)\u001b[0m\n\u001b[1;32m    195\u001b[0m     retain_graph \u001b[38;5;241m=\u001b[39m create_graph\n\u001b[1;32m    197\u001b[0m \u001b[38;5;66;03m# The reason we repeat same the comment below is that\u001b[39;00m\n\u001b[1;32m    198\u001b[0m \u001b[38;5;66;03m# some Python versions print out the first line of a multi-line function\u001b[39;00m\n\u001b[1;32m    199\u001b[0m \u001b[38;5;66;03m# calls in the traceback and some print out the last line\u001b[39;00m\n\u001b[0;32m--> 200\u001b[0m \u001b[43mVariable\u001b[49m\u001b[38;5;241;43m.\u001b[39;49m\u001b[43m_execution_engine\u001b[49m\u001b[38;5;241;43m.\u001b[39;49m\u001b[43mrun_backward\u001b[49m\u001b[43m(\u001b[49m\u001b[43m  \u001b[49m\u001b[38;5;66;43;03m# Calls into the C++ engine to run the backward pass\u001b[39;49;00m\n\u001b[1;32m    201\u001b[0m \u001b[43m    \u001b[49m\u001b[43mtensors\u001b[49m\u001b[43m,\u001b[49m\u001b[43m \u001b[49m\u001b[43mgrad_tensors_\u001b[49m\u001b[43m,\u001b[49m\u001b[43m \u001b[49m\u001b[43mretain_graph\u001b[49m\u001b[43m,\u001b[49m\u001b[43m \u001b[49m\u001b[43mcreate_graph\u001b[49m\u001b[43m,\u001b[49m\u001b[43m \u001b[49m\u001b[43minputs\u001b[49m\u001b[43m,\u001b[49m\n\u001b[1;32m    202\u001b[0m \u001b[43m    \u001b[49m\u001b[43mallow_unreachable\u001b[49m\u001b[38;5;241;43m=\u001b[39;49m\u001b[38;5;28;43;01mTrue\u001b[39;49;00m\u001b[43m,\u001b[49m\u001b[43m \u001b[49m\u001b[43maccumulate_grad\u001b[49m\u001b[38;5;241;43m=\u001b[39;49m\u001b[38;5;28;43;01mTrue\u001b[39;49;00m\u001b[43m)\u001b[49m\n",
      "\u001b[0;31mKeyboardInterrupt\u001b[0m: "
     ]
    }
   ],
   "source": [
    "vg_controller.fit(dataset, 50)"
   ]
  },
  {
   "cell_type": "code",
   "execution_count": null,
   "id": "07a2284f-9823-4531-a5c8-b8b61dab6a4f",
   "metadata": {},
   "outputs": [],
   "source": []
  },
  {
   "cell_type": "code",
   "execution_count": null,
   "id": "a9228a22-7d60-4fbb-8825-99d10b4417ad",
   "metadata": {},
   "outputs": [],
   "source": []
  },
  {
   "cell_type": "code",
   "execution_count": null,
   "id": "ad70a80e-4371-405f-b1c3-5bbff4b4c17a",
   "metadata": {},
   "outputs": [],
   "source": []
  },
  {
   "cell_type": "code",
   "execution_count": null,
   "id": "3ff4a875-cf8d-42e8-b10c-02fd7c16de0b",
   "metadata": {
    "tags": []
   },
   "outputs": [],
   "source": []
  },
  {
   "cell_type": "code",
   "execution_count": null,
   "id": "63ff25b8-9046-4af8-95a8-b0eba6f8e708",
   "metadata": {},
   "outputs": [],
   "source": []
  }
 ],
 "metadata": {
  "kernelspec": {
   "display_name": "Python 3",
   "language": "python",
   "name": "python3"
  },
  "language_info": {
   "codemirror_mode": {
    "name": "ipython",
    "version": 3
   },
   "file_extension": ".py",
   "mimetype": "text/x-python",
   "name": "python",
   "nbconvert_exporter": "python",
   "pygments_lexer": "ipython3",
   "version": "3.8.10"
  }
 },
 "nbformat": 4,
 "nbformat_minor": 5
}
