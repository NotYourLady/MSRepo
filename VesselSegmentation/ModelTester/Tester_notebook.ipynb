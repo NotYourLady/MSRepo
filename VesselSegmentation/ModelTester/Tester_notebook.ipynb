{
 "cells": [
  {
   "cell_type": "code",
   "execution_count": 1,
   "id": "09db54b7-b53b-44be-931f-3892874676c6",
   "metadata": {
    "tags": []
   },
   "outputs": [],
   "source": [
    "import os\n",
    "import numpy\n",
    "import random\n",
    "import json\n",
    "from distutils.dir_util import copy_tree\n",
    "import shutil\n",
    "import time\n",
    "\n",
    "import sys, os\n",
    "sys.path.append(os.path.dirname('../.'))\n",
    "from scripts.utils import get_path"
   ]
  },
  {
   "cell_type": "code",
   "execution_count": 2,
   "id": "0f294fc0-43c2-44f4-b8ff-59c2af0cbfaa",
   "metadata": {},
   "outputs": [],
   "source": [
    "path_to_data = '/home/msst/Documents/medtech/data/TestModels_IXI/data_for_tests'"
   ]
  },
  {
   "cell_type": "code",
   "execution_count": 6,
   "id": "49360820-584e-4aa3-8ff7-e037d655af33",
   "metadata": {},
   "outputs": [],
   "source": [
    "def create_test(path_to_data, n_train, n_val, n_test):\n",
    "    sample_names = set()\n",
    "    for name in os.listdir(path_to_data):\n",
    "        if not os.path.isfile(f\"{path_to_data}/{name}\"):\n",
    "            sample_names = sample_names.union([name[:6],])\n",
    "\n",
    "    to_train = random.sample(list(sample_names), k=n_train)\n",
    "    sample_names = sample_names.difference(to_train)\n",
    "    to_val = random.sample(list(sample_names), k=n_val)    \n",
    "    sample_names = sample_names.difference(to_val)\n",
    "    to_test = random.sample(list(sample_names), k=n_test) \n",
    "    \n",
    "    test_dict = {\n",
    "        'train_patches_per_volume': None,\n",
    "        'train': [],\n",
    "        'val': [],\n",
    "        'test': []\n",
    "    }\n",
    "\n",
    "    if n_train==1: test_dict['train_patches_per_volume'] = 256\n",
    "    if n_train==2: test_dict['train_patches_per_volume'] = 196\n",
    "    if n_train>2: test_dict['train_patches_per_volume'] = 128\n",
    "    if n_train>4: test_dict['train_patches_per_volume'] = 64\n",
    "\n",
    "    \n",
    "    for name in to_train:\n",
    "        test_dict['train'].append(f'{path_to_data}/{name}_0')\n",
    "        test_dict['train'].append(f'{path_to_data}/{name}_1')\n",
    "    for name in to_val:\n",
    "        test_dict['val'].append(f'{path_to_data}/{name}_0')\n",
    "    for name in to_test:\n",
    "        test_dict['test'].append(f'{path_to_data}/{name}_0')\n",
    "\n",
    "    return(test_dict)"
   ]
  },
  {
   "cell_type": "code",
   "execution_count": 7,
   "id": "4bcbe872-5441-4ba2-bf7b-23957f7a9ae2",
   "metadata": {},
   "outputs": [],
   "source": [
    "tests = {}\n",
    "tests.update({'test1' : create_test(path_to_data, n_train=1, n_val=2, n_test=3)})\n",
    "tests.update({'test2' : create_test(path_to_data, n_train=1, n_val=2, n_test=3)})\n",
    "tests.update({'test3' : create_test(path_to_data, n_train=1, n_val=2, n_test=3)})\n",
    "tests.update({'test4' : create_test(path_to_data, n_train=2, n_val=2, n_test=3)})\n",
    "tests.update({'test5' : create_test(path_to_data, n_train=2, n_val=2, n_test=3)})\n",
    "tests.update({'test6' : create_test(path_to_data, n_train=2, n_val=2, n_test=3)})\n",
    "tests.update({'test7' : create_test(path_to_data, n_train=4, n_val=2, n_test=3)})\n",
    "tests.update({'test8' : create_test(path_to_data, n_train=4, n_val=2, n_test=3)})\n",
    "tests.update({'test9' : create_test(path_to_data, n_train=4, n_val=2, n_test=3)})"
   ]
  },
  {
   "cell_type": "code",
   "execution_count": 8,
   "id": "040162a6-1a3f-444a-893d-9a4bc33ed9e5",
   "metadata": {
    "tags": []
   },
   "outputs": [],
   "source": [
    "fp2 = open(f\"./testing_info.json\", 'w')\n",
    "json.dump(tests, sort_keys=True, indent=4, fp=fp2)\n",
    "fp2.close()"
   ]
  },
  {
   "cell_type": "code",
   "execution_count": 72,
   "id": "4d9a8df3-5548-42fe-9d71-0d3fecd3b7c7",
   "metadata": {
    "jupyter": {
     "source_hidden": true
    },
    "tags": []
   },
   "outputs": [],
   "source": [
    "path_to_processed_data = '/home/msst/Documents/medtech/data/HessData_IXI/DATA/processed'\n",
    "path_to_datasets = '/home/msst/Documents/medtech/data/HessData_IXI_test'\n",
    "\n",
    "if os.path.exists(path_to_datasets):\n",
    "    shutil.rmtree(path_to_datasets)\n",
    "    \n",
    "if not os.path.exists(path_to_datasets):\n",
    "    os.mkdir(path_to_datasets)\n",
    "\n",
    "for test_key in testing_info_dict:\n",
    "    path_to_set = path_to_datasets+'/'+test_key\n",
    "    \n",
    "    if not os.path.exists(path_to_set):\n",
    "        os.mkdir(path_to_set)\n",
    "        os.mkdir(path_to_set+\"/train\")\n",
    "        os.mkdir(path_to_set+\"/test\")\n",
    "        \n",
    "    \n",
    "    for name in testing_info_dict[test_key]['train']:\n",
    "        for tree in get_path(path_to_processed_data, name):\n",
    "            p = f\"{path_to_set}/train/{os.path.basename(tree)}\"\n",
    "            if not os.path.exists(p):\n",
    "                os.mkdir(p)\n",
    "            copy_tree(tree, p)\n",
    "\n",
    "    for name in testing_info_dict[test_key]['test']:\n",
    "        for tree in get_path(path_to_processed_data, name):\n",
    "            p = f\"{path_to_set}/test/{os.path.basename(tree)}\"\n",
    "            if p[-1]=='0':\n",
    "                if not os.path.exists(p):\n",
    "                    os.mkdir(p)\n",
    "                copy_tree(tree, p)\n",
    "    "
   ]
  },
  {
   "cell_type": "code",
   "execution_count": null,
   "id": "cef6e627-d822-4b88-9509-c935df969df9",
   "metadata": {},
   "outputs": [],
   "source": []
  },
  {
   "cell_type": "code",
   "execution_count": 3,
   "id": "805799c3-0f7f-4da4-bee7-98b7b74554a5",
   "metadata": {
    "tags": []
   },
   "outputs": [],
   "source": [
    "def parse_avg_metrics(avg_metrics_path):\n",
    "    avg_metrics_dict = json.load(open(avg_metrics_path))\n",
    "    for model in avg_metrics_dict:\n",
    "        avg_metrics = {}\n",
    "        avg_metrics_mask = {}\n",
    "        print(\"\\nMODEL:\", model)\n",
    "        tests = avg_metrics_dict[model]\n",
    "        for test in tests:\n",
    "            data = tests[test]\n",
    "            for metric in data['avg_metrics']:\n",
    "                if not avg_metrics.get(metric):\n",
    "                    avg_metrics.update({metric: [data['avg_metrics'][metric],]})\n",
    "                else:\n",
    "                    avg_metrics[metric].append(data['avg_metrics'][metric])\n",
    "            for metric in data['avg_metrics_mask']:\n",
    "                if not avg_metrics_mask.get(metric):\n",
    "                    avg_metrics_mask.update({metric: [data['avg_metrics_mask'][metric],]})\n",
    "                else:\n",
    "                    avg_metrics_mask[metric].append(data['avg_metrics_mask'][metric])\n",
    "        \n",
    "        \n",
    "        print(\"\\tavg_metrics:\")\n",
    "        for m in avg_metrics:\n",
    "            avg_metrics[m] = sum([float(x) for x in avg_metrics[m]])/len(avg_metrics[m])\n",
    "            print('\\t\\t', m, \":\", avg_metrics[m])\n",
    "        \n",
    "        print(\"\\tavg_metrics_mask:\")\n",
    "        for m in avg_metrics_mask:\n",
    "            avg_metrics_mask[m] = sum([float(x) for x in avg_metrics_mask[m]])/len(avg_metrics_mask[m])\n",
    "            print('\\t\\t', m, \":\", avg_metrics_mask[m])\n",
    "            \n",
    "        #return({\"avg_metrics\" : avg_metrics, \n",
    "        #        \"avg_metrics_mask\" : avg_metrics_mask})"
   ]
  },
  {
   "cell_type": "code",
   "execution_count": 5,
   "id": "b67d07c8-5fd0-468d-b2ed-ee48b56cdc16",
   "metadata": {
    "tags": []
   },
   "outputs": [
    {
     "name": "stdout",
     "output_type": "stream",
     "text": [
      "\n",
      "MODEL: HessNet\n",
      "\tavg_metrics:\n",
      "\t\t AVGDIST : 1.9389134074074075\n",
      "\t\t DICE : 0.7790607407407408\n",
      "\t\t SNSVTY : 0.8487398888888891\n",
      "\tavg_metrics_mask:\n",
      "\t\t AVGDIST : 0.47405266666666673\n",
      "\t\t DICE : 0.8531573333333333\n",
      "\t\t SNSVTY : 0.869843148148148\n",
      "\n",
      "MODEL: JustConv\n",
      "\tavg_metrics:\n",
      "\t\t AVGDIST : 3.077104481481481\n",
      "\t\t DICE : 0.6812497037037037\n",
      "\t\t SNSVTY : 0.721489111111111\n",
      "\tavg_metrics_mask:\n",
      "\t\t AVGDIST : 0.6172261851851851\n",
      "\t\t DICE : 0.7933803333333332\n",
      "\t\t SNSVTY : 0.9141489999999999\n",
      "\n",
      "MODEL: TwoConv\n",
      "\tavg_metrics:\n",
      "\t\t AVGDIST : 1.2807137407407407\n",
      "\t\t DICE : 0.7663785925925926\n",
      "\t\t SNSVTY : 0.7278086666666668\n",
      "\tavg_metrics_mask:\n",
      "\t\t AVGDIST : 0.847164074074074\n",
      "\t\t DICE : 0.7876780740740741\n",
      "\t\t SNSVTY : 0.8879016666666666\n",
      "\n",
      "MODEL: UNETR\n",
      "\tavg_metrics:\n",
      "\t\t AVGDIST : 8.976208666666668\n",
      "\t\t DICE : 0.7305721111111111\n",
      "\t\t SNSVTY : 0.8526773703703704\n",
      "\tavg_metrics_mask:\n",
      "\t\t AVGDIST : 0.3557209259259259\n",
      "\t\t DICE : 0.8747555185185184\n",
      "\t\t SNSVTY : 0.902607074074074\n",
      "\n",
      "MODEL: Unet2d_16ch\n",
      "\tavg_metrics:\n",
      "\t\t AVGDIST : 0.9140291481481483\n",
      "\t\t DICE : 0.8319365925925926\n",
      "\t\t SNSVTY : 0.865000962962963\n",
      "\tavg_metrics_mask:\n",
      "\t\t AVGDIST : 0.33463425925925927\n",
      "\t\t DICE : 0.8652569629629628\n",
      "\t\t SNSVTY : 0.8634807037037037\n",
      "\n",
      "MODEL: Unet3d_16ch\n",
      "\tavg_metrics:\n",
      "\t\t AVGDIST : 0.4036787777777778\n",
      "\t\t DICE : 0.8855970000000001\n",
      "\t\t SNSVTY : 0.9051687037037036\n",
      "\tavg_metrics_mask:\n",
      "\t\t AVGDIST : 0.2602845555555555\n",
      "\t\t DICE : 0.8944567037037037\n",
      "\t\t SNSVTY : 0.8831746666666667\n"
     ]
    }
   ],
   "source": [
    "avg_metrics_path = '/home/msst/Documents/medtech/data/TestModels_IXI/out/avg_metrics.json'\n",
    "_ = parse_avg_metrics(avg_metrics_path)"
   ]
  },
  {
   "cell_type": "code",
   "execution_count": 7,
   "id": "59965d9c-9c77-4d2a-bfdf-4ad18112d87b",
   "metadata": {},
   "outputs": [],
   "source": []
  },
  {
   "cell_type": "code",
   "execution_count": null,
   "id": "2f635f7f-15b1-4455-a1c8-9217e0e3d073",
   "metadata": {},
   "outputs": [],
   "source": []
  }
 ],
 "metadata": {
  "kernelspec": {
   "display_name": "Python 3 (ipykernel)",
   "language": "python",
   "name": "python3"
  },
  "language_info": {
   "codemirror_mode": {
    "name": "ipython",
    "version": 3
   },
   "file_extension": ".py",
   "mimetype": "text/x-python",
   "name": "python",
   "nbconvert_exporter": "python",
   "pygments_lexer": "ipython3",
   "version": "3.10.13"
  }
 },
 "nbformat": 4,
 "nbformat_minor": 5
}
