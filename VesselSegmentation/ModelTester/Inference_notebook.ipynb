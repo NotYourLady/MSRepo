{
 "cells": [
  {
   "cell_type": "code",
   "execution_count": 2,
   "id": "09db54b7-b53b-44be-931f-3892874676c6",
   "metadata": {
    "tags": []
   },
   "outputs": [],
   "source": [
    "import os\n",
    "import numpy\n",
    "import random\n",
    "import json\n",
    "from distutils.dir_util import copy_tree\n",
    "import shutil\n",
    "import time\n",
    "\n",
    "import sys, os\n",
    "sys.path.append(os.path.dirname('../.'))\n",
    "from scripts.utils import get_path"
   ]
  },
  {
   "cell_type": "code",
   "execution_count": 71,
   "id": "2c50a665-e783-4a46-85ac-1404da596753",
   "metadata": {
    "collapsed": true,
    "jupyter": {
     "outputs_hidden": true,
     "source_hidden": true
    },
    "tags": []
   },
   "outputs": [
    {
     "data": {
      "text/plain": [
       "{'test1': {'train': ['IXI131',\n",
       "   'IXI100',\n",
       "   'IXI057',\n",
       "   'IXI052',\n",
       "   'IXI137',\n",
       "   'IXI020'],\n",
       "  'test': ['IXI111', 'IXI115', 'IXI077']},\n",
       " 'test2': {'train': ['IXI131',\n",
       "   'IXI115',\n",
       "   'IXI057',\n",
       "   'IXI077',\n",
       "   'IXI052',\n",
       "   'IXI137'],\n",
       "  'test': ['IXI100', 'IXI111', 'IXI020']}}"
      ]
     },
     "execution_count": 71,
     "metadata": {},
     "output_type": "execute_result"
    }
   ],
   "source": [
    "path_to_data = '/home/msst/Documents/medtech/data/Inference_IXI'\n",
    "N_tests = 2\n",
    "test_size = 3\n",
    "\n",
    "sample_names = set()\n",
    "for name in os.listdir(path_to_data):\n",
    "    if not os.path.isfile(f\"{path_to_data}/{name}\"):\n",
    "        sample_names = sample_names.union([name,])\n",
    "\n",
    "\n",
    "def get_test_train_samples(sample_names, n_test):\n",
    "    to_test = random.sample(sample_names, k=n_test)\n",
    "    to_train = list(sample_names.difference(to_test))\n",
    "    return(to_train, to_test)\n",
    "\n",
    "\n",
    "testing_info_dict = {}\n",
    "\n",
    "for i in range(N_tests):\n",
    "    to_train, to_test = get_test_train_samples(sample_names, test_size)\n",
    "    testing_info_dict.update({f\"test{i+1}\" : {'train' : to_train,\n",
    "                                              'test' : to_test}})\n",
    "\n",
    "testing_info_dict"
   ]
  },
  {
   "cell_type": "code",
   "execution_count": 73,
   "id": "040162a6-1a3f-444a-893d-9a4bc33ed9e5",
   "metadata": {
    "jupyter": {
     "source_hidden": true
    },
    "tags": []
   },
   "outputs": [],
   "source": [
    "fp2 = open(f\"{path_to_data}/testing_info.json\", 'w')\n",
    "json.dump(testing_info_dict, sort_keys=True, indent=4, fp=fp2)\n",
    "fp2.close()"
   ]
  },
  {
   "cell_type": "code",
   "execution_count": 72,
   "id": "4d9a8df3-5548-42fe-9d71-0d3fecd3b7c7",
   "metadata": {
    "jupyter": {
     "source_hidden": true
    },
    "tags": []
   },
   "outputs": [],
   "source": [
    "path_to_processed_data = '/home/msst/Documents/medtech/data/HessData_IXI/DATA/processed'\n",
    "path_to_datasets = '/home/msst/Documents/medtech/data/HessData_IXI_test'\n",
    "\n",
    "if os.path.exists(path_to_datasets):\n",
    "    shutil.rmtree(path_to_datasets)\n",
    "    \n",
    "if not os.path.exists(path_to_datasets):\n",
    "    os.mkdir(path_to_datasets)\n",
    "\n",
    "for test_key in testing_info_dict:\n",
    "    path_to_set = path_to_datasets+'/'+test_key\n",
    "    \n",
    "    if not os.path.exists(path_to_set):\n",
    "        os.mkdir(path_to_set)\n",
    "        os.mkdir(path_to_set+\"/train\")\n",
    "        os.mkdir(path_to_set+\"/test\")\n",
    "        \n",
    "    \n",
    "    for name in testing_info_dict[test_key]['train']:\n",
    "        for tree in get_path(path_to_processed_data, name):\n",
    "            p = f\"{path_to_set}/train/{os.path.basename(tree)}\"\n",
    "            if not os.path.exists(p):\n",
    "                os.mkdir(p)\n",
    "            copy_tree(tree, p)\n",
    "\n",
    "    for name in testing_info_dict[test_key]['test']:\n",
    "        for tree in get_path(path_to_processed_data, name):\n",
    "            p = f\"{path_to_set}/test/{os.path.basename(tree)}\"\n",
    "            if p[-1]=='0':\n",
    "                if not os.path.exists(p):\n",
    "                    os.mkdir(p)\n",
    "                copy_tree(tree, p)\n",
    "    "
   ]
  },
  {
   "cell_type": "code",
   "execution_count": null,
   "id": "cef6e627-d822-4b88-9509-c935df969df9",
   "metadata": {},
   "outputs": [],
   "source": []
  },
  {
   "cell_type": "code",
   "execution_count": 3,
   "id": "805799c3-0f7f-4da4-bee7-98b7b74554a5",
   "metadata": {
    "tags": []
   },
   "outputs": [],
   "source": [
    "def parse_avg_metrics(avg_metrics_path):\n",
    "    avg_metrics_dict = json.load(open(avg_metrics_path))\n",
    "    for model in avg_metrics_dict:\n",
    "        avg_metrics = {}\n",
    "        avg_metrics_mask = {}\n",
    "        print(\"\\nMODEL:\", model)\n",
    "        tests = avg_metrics_dict[model]\n",
    "        for test in tests:\n",
    "            data = tests[test]\n",
    "            for metric in data['avg_metrics']:\n",
    "                if not avg_metrics.get(metric):\n",
    "                    avg_metrics.update({metric: [data['avg_metrics'][metric],]})\n",
    "                else:\n",
    "                    avg_metrics[metric].append(data['avg_metrics'][metric])\n",
    "            for metric in data['avg_metrics_mask']:\n",
    "                if not avg_metrics_mask.get(metric):\n",
    "                    avg_metrics_mask.update({metric: [data['avg_metrics_mask'][metric],]})\n",
    "                else:\n",
    "                    avg_metrics_mask[metric].append(data['avg_metrics_mask'][metric])\n",
    "        \n",
    "        \n",
    "        print(\"\\tavg_metrics:\")\n",
    "        for m in avg_metrics:\n",
    "            avg_metrics[m] = sum([float(x) for x in avg_metrics[m]])/len(avg_metrics[m])\n",
    "            print('\\t\\t', m, \":\", avg_metrics[m])\n",
    "        \n",
    "        print(\"\\tavg_metrics_mask:\")\n",
    "        for m in avg_metrics_mask:\n",
    "            avg_metrics_mask[m] = sum([float(x) for x in avg_metrics_mask[m]])/len(avg_metrics_mask[m])\n",
    "            print('\\t\\t', m, \":\", avg_metrics_mask[m])\n",
    "            \n",
    "        #return({\"avg_metrics\" : avg_metrics, \n",
    "        #        \"avg_metrics_mask\" : avg_metrics_mask})"
   ]
  },
  {
   "cell_type": "code",
   "execution_count": 5,
   "id": "b67d07c8-5fd0-468d-b2ed-ee48b56cdc16",
   "metadata": {
    "tags": []
   },
   "outputs": [
    {
     "name": "stdout",
     "output_type": "stream",
     "text": [
      "\n",
      "MODEL: HessNet\n",
      "\tavg_metrics:\n",
      "\t\t AVGDIST : 1.4695551666666666\n",
      "\t\t DICE : 0.7994174999999999\n",
      "\t\t SNSVTY : 0.7802219999999999\n",
      "\tavg_metrics_mask:\n",
      "\t\t AVGDIST : 0.4563963333333334\n",
      "\t\t DICE : 0.8438953333333334\n",
      "\t\t SNSVTY : 0.7850103333333334\n",
      "\n",
      "MODEL: HessUNet\n",
      "\tavg_metrics:\n",
      "\t\t AVGDIST : 0.393968\n",
      "\t\t DICE : 0.8877688333333332\n",
      "\t\t SNSVTY : 0.8663216666666667\n",
      "\tavg_metrics_mask:\n",
      "\t\t AVGDIST : 0.2746206666666666\n",
      "\t\t DICE : 0.8942356666666668\n",
      "\t\t SNSVTY : 0.86856\n",
      "\n",
      "MODEL: Unet2d_16ch\n",
      "\tavg_metrics:\n",
      "\t\t AVGDIST : 0.8541155\n",
      "\t\t DICE : 0.8401875000000001\n",
      "\t\t SNSVTY : 0.8431063333333333\n",
      "\tavg_metrics_mask:\n",
      "\t\t AVGDIST : 0.3571573333333333\n",
      "\t\t DICE : 0.8676181666666666\n",
      "\t\t SNSVTY : 0.8533476666666666\n",
      "\n",
      "MODEL: Unet3d_16ch\n",
      "\tavg_metrics:\n",
      "\t\t AVGDIST : 0.3460645\n",
      "\t\t DICE : 0.8908043333333334\n",
      "\t\t SNSVTY : 0.8903986666666667\n",
      "\tavg_metrics_mask:\n",
      "\t\t AVGDIST : 0.2443583333333333\n",
      "\t\t DICE : 0.8974291666666667\n",
      "\t\t SNSVTY : 0.894417\n",
      "\n",
      "MODEL: Unet3d_16ch_\n",
      "\tavg_metrics:\n",
      "\t\t AVGDIST : 0.42948716666666675\n",
      "\t\t DICE : 0.8681536666666667\n",
      "\t\t SNSVTY : 0.8401945000000001\n",
      "\tavg_metrics_mask:\n",
      "\t\t AVGDIST : 0.3061661666666667\n",
      "\t\t DICE : 0.8742433333333333\n",
      "\t\t SNSVTY : 0.8407150000000001\n"
     ]
    }
   ],
   "source": [
    "avg_metrics_path = '/home/msst/Documents/medtech/data/Inference_IXI/out/avg_metrics.json'\n",
    "_ = parse_avg_metrics(avg_metrics_path)"
   ]
  },
  {
   "cell_type": "code",
   "execution_count": null,
   "id": "59965d9c-9c77-4d2a-bfdf-4ad18112d87b",
   "metadata": {},
   "outputs": [],
   "source": [
    "|"
   ]
  }
 ],
 "metadata": {
  "kernelspec": {
   "display_name": "Python 3 (ipykernel)",
   "language": "python",
   "name": "python3"
  },
  "language_info": {
   "codemirror_mode": {
    "name": "ipython",
    "version": 3
   },
   "file_extension": ".py",
   "mimetype": "text/x-python",
   "name": "python",
   "nbconvert_exporter": "python",
   "pygments_lexer": "ipython3",
   "version": "3.10.13"
  }
 },
 "nbformat": 4,
 "nbformat_minor": 5
}
