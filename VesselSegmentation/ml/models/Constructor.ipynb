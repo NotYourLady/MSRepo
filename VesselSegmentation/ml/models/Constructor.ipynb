{
 "cells": [
  {
   "cell_type": "code",
   "execution_count": 2,
   "id": "b562ff24-6569-4c01-bda9-0087f7495356",
   "metadata": {
    "tags": []
   },
   "outputs": [],
   "source": [
    "%load_ext autoreload\n",
    "%autoreload 2"
   ]
  },
  {
   "cell_type": "code",
   "execution_count": 3,
   "id": "2e16d0ac-0578-4e02-9a3f-ed8a60dc2a8e",
   "metadata": {
    "tags": []
   },
   "outputs": [],
   "source": [
    "import torch\n",
    "import torch.nn as nn\n",
    "import torch.utils.data"
   ]
  },
  {
   "cell_type": "code",
   "execution_count": 4,
   "id": "39511129-f1e7-4e86-87a6-e83fcecf4d26",
   "metadata": {
    "tags": []
   },
   "outputs": [],
   "source": [
    "class conv_block(nn.Module):\n",
    "    def __init__(self, in_channels, out_channels, kernel_size=3, stride=1, padding=1, bias=True, act_fn=nn.ReLU(inplace=True)):\n",
    "        super(conv_block, self).__init__()\n",
    "        self.conv = nn.Sequential(\n",
    "            nn.Conv3d(in_channels=in_channels, out_channels=out_channels, kernel_size=kernel_size,\n",
    "                      stride=stride, padding=padding, bias=bias),\n",
    "            nn.BatchNorm3d(num_features=out_channels),\n",
    "            act_fn,\n",
    "            nn.Conv3d(in_channels=out_channels, out_channels=out_channels, kernel_size=kernel_size,\n",
    "                      stride=stride, padding=padding, bias=bias),\n",
    "            nn.BatchNorm3d(num_features=out_channels),\n",
    "            act_fn\n",
    "        )\n",
    "\n",
    "    def forward(self, x):\n",
    "        x = self.conv(x)\n",
    "        return x"
   ]
  },
  {
   "cell_type": "code",
   "execution_count": 5,
   "id": "d2b67933-0622-4b76-a2e3-228e2bc9dc89",
   "metadata": {
    "tags": []
   },
   "outputs": [],
   "source": [
    "class bottle_neck_connection(nn.Module):\n",
    "    def __init__(self, in_channels, out_channels, bottle_channels,\n",
    "                 bias=True, act_fn=nn.ReLU(inplace=True)):\n",
    "        super(bottle_neck_connection, self).__init__()\n",
    "        self.bottleneck1 = nn.Sequential(\n",
    "            nn.Conv3d(in_channels=in_channels, out_channels=bottle_channels, kernel_size=3,\n",
    "                      stride=2, padding=1, bias=bias),\n",
    "            nn.BatchNorm3d(num_features=bottle_channels),\n",
    "            act_fn,\n",
    "        )\n",
    "        \n",
    "        self.bottleneck2 = nn.Sequential(\n",
    "            nn.Conv3d(in_channels=bottle_channels, out_channels=bottle_channels, kernel_size=1,\n",
    "                      stride=1, padding=0, bias=False),\n",
    "            act_fn,\n",
    "        )\n",
    "        \n",
    "        self.bottleneck3 = nn.Sequential(\n",
    "            nn.ConvTranspose3d(in_channels=bottle_channels, out_channels=out_channels, kernel_size=3,\n",
    "                               stride=2, padding=1, output_padding=1, bias=bias),\n",
    "            nn.BatchNorm3d(num_features=out_channels),\n",
    "            act_fn,\n",
    "        )\n",
    "\n",
    "    def forward(self, x):\n",
    "        x = self.bottleneck1(x)\n",
    "        x = self.bottleneck2(x)\n",
    "        x = self.bottleneck3(x)\n",
    "        return x"
   ]
  },
  {
   "cell_type": "code",
   "execution_count": 6,
   "id": "a337bf69-066e-4366-817a-95e5b673e15d",
   "metadata": {
    "jupyter": {
     "source_hidden": true
    },
    "tags": []
   },
   "outputs": [],
   "source": [
    "def get_total_params(model):\n",
    "    total_params = sum(\n",
    "    param.numel() for param in model.parameters()\n",
    "    )\n",
    "    return(total_params)"
   ]
  },
  {
   "cell_type": "code",
   "execution_count": 7,
   "id": "4a19f2cc-8717-4f25-ab1a-b74cddfb211b",
   "metadata": {
    "tags": []
   },
   "outputs": [],
   "source": [
    "class NetBlock(nn.Module):\n",
    "    def __init__(self, settings):\n",
    "        super(NetBlock, self).__init__()\n",
    "        self.backbone = settings[\"backbone\"]\n",
    "        self.in_blocks = torch.nn.ModuleDict(settings[\"in_blocks\"])\n",
    "        \n",
    "    def forward(self, in_list):\n",
    "        x = torch.cat(in_list, dim=1)\n",
    "        x = self.backbone(x)\n",
    "        return(x)"
   ]
  },
  {
   "cell_type": "code",
   "execution_count": 8,
   "id": "0f981866-3204-4c96-9010-775e96908b28",
   "metadata": {
    "jupyter": {
     "source_hidden": true
    },
    "tags": []
   },
   "outputs": [],
   "source": [
    "class Net(nn.Module):\n",
    "    def __init__(self, net_blocks):\n",
    "        super(Net, self).__init__()\n",
    "        self.net_blocks = torch.nn.ModuleDict(net_blocks)\n",
    "        self.net_graph = self.make_Net_graph()\n",
    "        \n",
    "        \n",
    "    def make_Net_graph(self):\n",
    "        graph = {}\n",
    "        first_vertex = \"IN\"\n",
    "        verified_verteсes = set( (first_vertex,))\n",
    "\n",
    "        block_queue = [*self.net_blocks.keys()]\n",
    "        queued_blocks_count = 0\n",
    "        run = True\n",
    "\n",
    "        while run:\n",
    "            if len(block_queue)==0:\n",
    "                break\n",
    "\n",
    "            if queued_blocks_count>len(block_queue):\n",
    "                print(graph)\n",
    "                raise RuntimeError('Net::make_Net_graph::Error: Can\\'t build graph, please check Net.net_blocks')\n",
    "\n",
    "            block_name = block_queue.pop(0)\n",
    "            in_blocks = self.net_blocks[block_name].in_blocks.keys()\n",
    "\n",
    "            if sorted(list(in_blocks))== sorted(list(verified_verteсes.intersection(in_blocks))):\n",
    "                verified_verteсes.add(block_name)\n",
    "                for start in in_blocks:\n",
    "                    if graph.get(start) is None:\n",
    "                        graph.update({start : [block_name,]})\n",
    "                    else: \n",
    "                        graph[start].append(block_name)\n",
    "                queued_blocks_count = 0\n",
    "            else:\n",
    "                block_queue.append(block_name)\n",
    "                queued_blocks_count+=1\n",
    "\n",
    "        return graph\n",
    "    \n",
    "\n",
    "    def forward(self, IN):\n",
    "        block_outs = {\"IN\" : IN} #we will iteratively calculate all outputs\n",
    "        \n",
    "        for vertes in self.net_graph.keys():\n",
    "            for block_name in self.net_graph[vertes]:\n",
    "                if (block_name not in block_outs.keys()):\n",
    "                    block = self.net_blocks[block_name]\n",
    "\n",
    "                    in_list = [] #upload all inputs to block\n",
    "                    for in_block in block.in_blocks: \n",
    "                        resampled_out = block.in_blocks[in_block](block_outs[in_block])\n",
    "                        in_list.append(resampled_out)\n",
    "                    block_outs.update({block_name : (block(in_list))})\n",
    "        return(block_outs[\"out\"])\n",
    "    \n",
    "    \n",
    "#     def forward_old(self, IN):\n",
    "#         block_outs = {\"IN\" : IN} #we will iteratively calculate all outputs\n",
    "        \n",
    "#         for vertes in self.net_graph.keys():\n",
    "#             queue = [*self.net_graph[vertes]] \n",
    "#             while len(queue) > 0:\n",
    "#                 block_name = queue.pop(0)\n",
    "#                 if (block_name not in block_outs.keys()):\n",
    "#                     block = self.net_blocks[block_name]\n",
    "                    \n",
    "                    \n",
    "#                     put_to_queue = False #If true, we can't calculate output now, set this block to the end of queue\n",
    "#                     for in_block in block.in_blocks:\n",
    "#                         if block_outs.get(in_block) is None:\n",
    "#                             queue.append(block_name)\n",
    "#                             put_to_queue = True\n",
    "#                             break\n",
    "#                     if put_to_queue:\n",
    "#                         continue\n",
    "                \n",
    "\n",
    "#                     in_list = [] #upload all inputs to block\n",
    "#                     for in_block in block.in_blocks: \n",
    "#                         resampled_out = block.in_blocks[in_block](block_outs[in_block])\n",
    "#                         in_list.append(resampled_out)\n",
    "#                     block_outs.update({block_name : (block(in_list))})\n",
    "#         return(block_outs[\"out\"])"
   ]
  },
  {
   "cell_type": "code",
   "execution_count": 9,
   "id": "f86aa6dc-2232-4623-bf4b-ae852ceabd6c",
   "metadata": {
    "jupyter": {
     "source_hidden": true
    },
    "tags": []
   },
   "outputs": [],
   "source": [
    "channel_coef = 16\n",
    "act_fn = nn.PReLU()\n",
    "\n",
    "block_11_settings = {\n",
    "    \"in_blocks\" : {\n",
    "        \"IN\" : nn.Identity(),\n",
    "        },    \n",
    "    \"backbone\" : conv_block(1, channel_coef, kernel_size=3, stride=1, padding=1, act_fn=act_fn), \n",
    "}\n",
    "\n",
    "block_12_settings = {\n",
    "    \"in_blocks\" : {\n",
    "        \"b21\" : nn.Upsample(scale_factor=2, mode='trilinear', align_corners=True),\n",
    "        \"b11\" : nn.Identity(),\n",
    "        },\n",
    "    \"backbone\" : conv_block(3*channel_coef, 4*channel_coef, kernel_size=3, stride=1, padding=1, act_fn=act_fn), \n",
    "}\n",
    "\n",
    "block_13_settings = {\n",
    "    \"in_blocks\" : {\n",
    "        \"b22\" : nn.Upsample(scale_factor=2, mode='trilinear', align_corners=True),\n",
    "        \"b12\" : bottle_neck_connection(4*channel_coef, 4*channel_coef, 8*channel_coef, act_fn=act_fn),\n",
    "        },\n",
    "    \"backbone\" : conv_block(12*channel_coef, 4*channel_coef, kernel_size=3, stride=1, padding=1, act_fn=act_fn), \n",
    "}\n",
    "\n",
    "block_14_settings = {\n",
    "    \"in_blocks\" : {\n",
    "        \"b23\" : nn.Upsample(scale_factor=2, mode='trilinear', align_corners=True),\n",
    "        \"b13\" : nn.Identity(),\n",
    "        },\n",
    "    \"backbone\" : conv_block(12*channel_coef, 4*channel_coef, kernel_size=3, stride=1, padding=1, act_fn=act_fn), \n",
    "}\n",
    "\n",
    "block_21_settings = {\n",
    "    \"in_blocks\" : {\n",
    "        \"b11\" : nn.MaxPool3d(2, 2),\n",
    "        },\n",
    "    \"backbone\" : conv_block(channel_coef, 2*channel_coef, kernel_size=3, stride=1, padding=1, act_fn=act_fn), \n",
    "}\n",
    "\n",
    "block_22_settings = {\n",
    "    \"in_blocks\" : {\n",
    "        \"b31\" : nn.Upsample(scale_factor=2, mode='trilinear', align_corners=True),\n",
    "        \"b21\" : nn.Identity(),\n",
    "        \"b12\" : nn.MaxPool3d(2, 2),\n",
    "        },\n",
    "    \"backbone\" : conv_block(10*channel_coef, 8*channel_coef, kernel_size=3, stride=1, padding=1, act_fn=act_fn), \n",
    "}\n",
    "\n",
    "block_23_settings = {\n",
    "    \"in_blocks\" : {\n",
    "        \"b32\" : nn.Upsample(scale_factor=2, mode='trilinear', align_corners=True),\n",
    "        \"b22\" : nn.Identity(),\n",
    "        \"b13\" : nn.MaxPool3d(2, 2),\n",
    "        },\n",
    "    \"backbone\" : conv_block(16*channel_coef, 8*channel_coef, kernel_size=3, stride=1, padding=1, act_fn=act_fn), \n",
    "}\n",
    "\n",
    "block_31_settings = {\n",
    "    \"in_blocks\" : {\n",
    "        \"b21\" : nn.MaxPool3d(2, 2),\n",
    "        },\n",
    "    \"backbone\" : conv_block(2*channel_coef, 4*channel_coef, kernel_size=3, stride=1, padding=1, act_fn=act_fn), \n",
    "}\n",
    "\n",
    "block_32_settings = {\n",
    "    \"in_blocks\" : {\n",
    "        \"b31\" : bottle_neck_connection(4*channel_coef, 4*channel_coef, 8*channel_coef, act_fn=act_fn),\n",
    "        \"b22\" : nn.MaxPool3d(2, 2),\n",
    "        },\n",
    "    \"backbone\" : conv_block(12*channel_coef, 4*channel_coef, kernel_size=3, stride=1, padding=1, act_fn=act_fn), \n",
    "}\n",
    "\n",
    "block_out_settings = {\n",
    "     \"in_blocks\" : {\n",
    "        \"b14\" : nn.Identity(),\n",
    "        },\n",
    "    \"backbone\" : conv_block(4*channel_coef, 1, kernel_size=3, stride=1, padding=1, act_fn=nn.Sigmoid()),\n",
    "}\n",
    "\n",
    "net_blocks = { \n",
    "    \"b11\" : NetBlock(block_11_settings),\n",
    "    \"b12\" : NetBlock(block_12_settings),\n",
    "    \"b13\" : NetBlock(block_13_settings),\n",
    "    \"b14\" : NetBlock(block_14_settings),\n",
    "    \"b21\" : NetBlock(block_21_settings),\n",
    "    \"b22\" : NetBlock(block_22_settings),\n",
    "    \"b23\" : NetBlock(block_23_settings),\n",
    "    \"b31\" : NetBlock(block_31_settings),\n",
    "    \"b32\" : NetBlock(block_32_settings),\n",
    "    \"out\" : NetBlock(block_out_settings),\n",
    "}"
   ]
  },
  {
   "cell_type": "code",
   "execution_count": null,
   "id": "c1dfdda2-7949-47d0-b418-53db007e21b5",
   "metadata": {},
   "outputs": [],
   "source": []
  },
  {
   "cell_type": "code",
   "execution_count": 10,
   "id": "62f1c70a-fd71-40ce-92b8-524b4af8e2e5",
   "metadata": {
    "tags": []
   },
   "outputs": [
    {
     "name": "stdout",
     "output_type": "stream",
     "text": [
      "total_params: 4981938\n"
     ]
    },
    {
     "data": {
      "text/plain": [
       "{'IN': ['b11'],\n",
       " 'b11': ['b21', 'b12'],\n",
       " 'b21': ['b31', 'b12', 'b22'],\n",
       " 'b31': ['b22', 'b32'],\n",
       " 'b12': ['b22', 'b13'],\n",
       " 'b22': ['b32', 'b13', 'b23'],\n",
       " 'b32': ['b23'],\n",
       " 'b13': ['b23', 'b14'],\n",
       " 'b23': ['b14'],\n",
       " 'b14': ['out']}"
      ]
     },
     "execution_count": 10,
     "metadata": {},
     "output_type": "execute_result"
    }
   ],
   "source": [
    "model = Net(net_blocks)\n",
    "print(\"total_params:\", get_total_params(model))\n",
    "model.net_graph"
   ]
  },
  {
   "cell_type": "code",
   "execution_count": 11,
   "id": "1f72fa48-abe5-4d69-9c18-4783847121cb",
   "metadata": {
    "tags": []
   },
   "outputs": [
    {
     "name": "stdout",
     "output_type": "stream",
     "text": [
      "torch.Size([1, 1, 64, 64, 64])\n"
     ]
    }
   ],
   "source": [
    "o = model(torch.rand(1, 1, 64, 64, 64))\n",
    "print(o.shape)"
   ]
  },
  {
   "cell_type": "code",
   "execution_count": null,
   "id": "60f411cf-0e93-40e5-9c84-3c7cff7b4a7b",
   "metadata": {},
   "outputs": [],
   "source": []
  },
  {
   "cell_type": "code",
   "execution_count": 12,
   "id": "a65ced8c-88eb-4f6b-a053-48aabea5981a",
   "metadata": {
    "tags": []
   },
   "outputs": [
    {
     "data": {
      "text/plain": [
       "1"
      ]
     },
     "execution_count": 12,
     "metadata": {},
     "output_type": "execute_result"
    }
   ],
   "source": [
    "model = model.to('cuda')\n",
    "1"
   ]
  },
  {
   "cell_type": "code",
   "execution_count": 13,
   "id": "b2152aab-df69-48b9-a800-7d6ae91086d7",
   "metadata": {
    "tags": []
   },
   "outputs": [],
   "source": [
    "loss_fn = nn.MSELoss()\n",
    "opt = torch.optim.Adam(model.parameters(), lr=0.1)\n",
    "n_epochs = 100"
   ]
  },
  {
   "cell_type": "code",
   "execution_count": 16,
   "id": "3df793ab-4132-46ff-a887-3026ab0f5ee4",
   "metadata": {
    "tags": []
   },
   "outputs": [],
   "source": [
    "x = torch.rand(4, 1, 64, 64, 64)\n",
    "GT = torch.rand(4, 1, 64, 64, 64)"
   ]
  },
  {
   "cell_type": "code",
   "execution_count": 17,
   "id": "02f6469c-ad1e-4621-a38d-456e92b988ec",
   "metadata": {
    "tags": []
   },
   "outputs": [
    {
     "name": "stdout",
     "output_type": "stream",
     "text": [
      "0.5160942673683167\n",
      "0.10768172144889832\n",
      "0.09517958015203476\n",
      "0.09066644310951233\n",
      "0.08971656858921051\n",
      "0.08916527777910233\n",
      "0.0886305645108223\n",
      "0.08824214339256287\n",
      "0.08768998831510544\n",
      "0.08686032146215439\n"
     ]
    }
   ],
   "source": [
    "model = model.to('cuda')\n",
    "for epoch in range(n_epochs):\n",
    "    x_cuda = x.to('cuda')\n",
    "    GT_cuda = GT.to('cuda')\n",
    "    \n",
    "    out = model.forward(x_cuda)   \n",
    "    loss = loss_fn(GT_cuda, out)\n",
    "\n",
    "    opt.zero_grad()\n",
    "    loss.backward()\n",
    "    opt.step()\n",
    "    if epoch%10==0:\n",
    "        print(loss.item())"
   ]
  },
  {
   "cell_type": "code",
   "execution_count": null,
   "id": "24bd882a-a8ea-41ed-82c8-1cd76565e1ad",
   "metadata": {},
   "outputs": [],
   "source": []
  },
  {
   "cell_type": "code",
   "execution_count": null,
   "id": "1913da07-c22e-45e0-bb0b-277431ac9e39",
   "metadata": {},
   "outputs": [],
   "source": []
  },
  {
   "cell_type": "code",
   "execution_count": null,
   "id": "2e135c90-5bd8-4113-92ee-4e51ea9a7842",
   "metadata": {},
   "outputs": [],
   "source": []
  },
  {
   "cell_type": "code",
   "execution_count": null,
   "id": "1c42eccc-26ee-463c-87e7-03960d174214",
   "metadata": {},
   "outputs": [],
   "source": []
  },
  {
   "cell_type": "code",
   "execution_count": null,
   "id": "6277ff17-54b5-4c2b-a976-7a27b16d6c71",
   "metadata": {},
   "outputs": [],
   "source": []
  },
  {
   "cell_type": "code",
   "execution_count": null,
   "id": "c2bce35a-96f8-47b1-8660-ec14ea357588",
   "metadata": {},
   "outputs": [],
   "source": []
  },
  {
   "cell_type": "code",
   "execution_count": null,
   "id": "0d44a4d4-46de-4545-9bc0-97ee3e41f854",
   "metadata": {},
   "outputs": [],
   "source": []
  },
  {
   "cell_type": "code",
   "execution_count": null,
   "id": "cdae86e5-c021-4797-924b-32fa5cb22fe5",
   "metadata": {},
   "outputs": [],
   "source": []
  },
  {
   "cell_type": "code",
   "execution_count": null,
   "id": "8d71731d-0858-4489-bf23-ce1d91dd3d17",
   "metadata": {},
   "outputs": [],
   "source": []
  },
  {
   "cell_type": "code",
   "execution_count": null,
   "id": "6704beb3-e2e8-4a30-855a-aaba9c3c5cdc",
   "metadata": {},
   "outputs": [],
   "source": []
  },
  {
   "cell_type": "code",
   "execution_count": null,
   "id": "33b2ba0b-1e19-45a9-be97-d1767f4984f6",
   "metadata": {},
   "outputs": [],
   "source": []
  },
  {
   "cell_type": "code",
   "execution_count": null,
   "id": "2b13000f-ffaf-456c-be1d-d4370dd09de0",
   "metadata": {},
   "outputs": [],
   "source": []
  }
 ],
 "metadata": {
  "kernelspec": {
   "display_name": "Python 3",
   "language": "python",
   "name": "python3"
  },
  "language_info": {
   "codemirror_mode": {
    "name": "ipython",
    "version": 3
   },
   "file_extension": ".py",
   "mimetype": "text/x-python",
   "name": "python",
   "nbconvert_exporter": "python",
   "pygments_lexer": "ipython3",
   "version": "3.8.10"
  }
 },
 "nbformat": 4,
 "nbformat_minor": 5
}
