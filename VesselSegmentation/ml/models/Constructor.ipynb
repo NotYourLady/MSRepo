{
 "cells": [
  {
   "cell_type": "code",
   "execution_count": 89,
   "id": "2e16d0ac-0578-4e02-9a3f-ed8a60dc2a8e",
   "metadata": {
    "tags": []
   },
   "outputs": [],
   "source": [
    "import torch\n",
    "import torch.nn as nn\n",
    "import torch.utils.data\n",
    "from copy import deepcopy"
   ]
  },
  {
   "cell_type": "code",
   "execution_count": 90,
   "id": "a337bf69-066e-4366-817a-95e5b673e15d",
   "metadata": {
    "tags": []
   },
   "outputs": [],
   "source": [
    "def get_total_params(model):\n",
    "    total_params = sum(\n",
    "    param.numel() for param in model.parameters()\n",
    "    )\n",
    "    return(total_params)"
   ]
  },
  {
   "cell_type": "code",
   "execution_count": 91,
   "id": "befbb976-afa0-4125-b0ab-b7d94173d299",
   "metadata": {
    "tags": []
   },
   "outputs": [],
   "source": [
    "net_graph = {\n",
    "    \"IN\" : (\"b11\",),\n",
    "    \"b11\" : (\"b12\", \"b21\"),\n",
    "    \"b21\" : (\"b12\", \"b31\",),\n",
    "    \"b12\" : (\"b22\", \"b13\"),\n",
    "    \"b31\" : (\"b22\",),\n",
    "    \"b22\" : (\"b13\",),\n",
    "    \"b13\" : (\"out\",),\n",
    "    \"out\" : (\"OUT\",),\n",
    "}"
   ]
  },
  {
   "cell_type": "code",
   "execution_count": 92,
   "id": "4a19f2cc-8717-4f25-ab1a-b74cddfb211b",
   "metadata": {
    "tags": []
   },
   "outputs": [],
   "source": [
    "class NetBlock(nn.Module):\n",
    "    def __init__(self, settings):\n",
    "        super(NetBlock, self).__init__()\n",
    "        self.backbone = settings[\"backbone\"]\n",
    "        self.in_blocks = settings[\"in_blocks\"]\n",
    "        \n",
    "    def forward(self, in_list):\n",
    "        x = torch.cat(in_list, dim=1)\n",
    "        x = self.backbone(x)\n",
    "        return(x)"
   ]
  },
  {
   "cell_type": "code",
   "execution_count": 93,
   "id": "272b1522-01c9-4c25-b26c-08a3f8f3299c",
   "metadata": {},
   "outputs": [],
   "source": [
    "class NetConnection(nn.Module):\n",
    "    def __init__(self, connect_from, backbone=None):\n",
    "        super(NetConnection, self).__init__()\n",
    "        self.connect_from = connect_from\n",
    "        if backbone is None: \n",
    "            self.backbone = nn.Identity()\n",
    "        else:    \n",
    "            self.backbone = backbone\n",
    "        \n",
    "    def forward(self, x):\n",
    "        x = self.backbone(x)\n",
    "        return(x)"
   ]
  },
  {
   "cell_type": "code",
   "execution_count": 94,
   "id": "f86aa6dc-2232-4623-bf4b-ae852ceabd6c",
   "metadata": {
    "tags": []
   },
   "outputs": [],
   "source": [
    "block_11_settings = {\n",
    "    \"in_blocks\" : {\n",
    "        \"IN\" : nn.Identity(),\n",
    "        },    \n",
    "    \"backbone\" : nn.Conv3d(1, 3, kernel_size=3, stride=1, padding=1), #nn.Identity(),\n",
    "}\n",
    "\n",
    "block_21_settings = {\n",
    "    \"in_blocks\" : {\n",
    "        \"b11\" : nn.MaxPool3d(2, 2),\n",
    "        },\n",
    "    \"backbone\" : nn.Conv3d(3, 3, kernel_size=3, stride=1, padding=1), #nn.Identity(),\n",
    "}\n",
    "\n",
    "block_12_settings = {\n",
    "    \"in_blocks\" : {\n",
    "        \"b21\" : nn.Upsample(scale_factor=2, mode='trilinear', align_corners=True),\n",
    "        \"b11\" : nn.Identity(),\n",
    "        },\n",
    "    \"backbone\" : nn.Conv3d(6, 3, kernel_size=3, stride=1, padding=1), #nn.Identity(),\n",
    "}\n",
    "\n",
    "block_31_settings = {\n",
    "    \"in_blocks\" : {\n",
    "        \"b21\" : nn.MaxPool3d(2, 2),\n",
    "        },\n",
    "    \"backbone\" : nn.Conv3d(3, 3, kernel_size=3, stride=1, padding=1), #nn.Identity(),\n",
    "}\n",
    "\n",
    "block_22_settings = {\n",
    "    \"in_blocks\" : {\n",
    "        \"b31\" : nn.Upsample(scale_factor=2, mode='trilinear', align_corners=True),\n",
    "        \"b21\" : nn.Identity(),\n",
    "        \"b12\" : nn.MaxPool3d(2, 2),\n",
    "        },\n",
    "    \"backbone\" : nn.Conv3d(9, 3, kernel_size=3, stride=1, padding=1), #nn.Identity(),\n",
    "}\n",
    "\n",
    "block_13_settings = {\n",
    "    \"in_blocks\" : {\n",
    "        \"b22\" : nn.Upsample(scale_factor=2, mode='trilinear', align_corners=True),\n",
    "        \"b12\" : nn.Identity(),\n",
    "        },\n",
    "    \"backbone\" : nn.Conv3d(6, 3, kernel_size=3, stride=1, padding=1), #nn.Identity(),\n",
    "}\n",
    "\n",
    "block_out_settings = {\n",
    "     \"in_blocks\" : {\n",
    "        \"b13\" : nn.Identity(),\n",
    "        },\n",
    "    \"backbone\" : nn.Conv3d(3, 1, kernel_size=3, stride=1, padding=1), #nn.Identity(),\n",
    "}\n",
    "\n",
    "net_blocks = { \n",
    "    \"b11\" : NetBlock(block_11_settings),\n",
    "    \"b21\" : NetBlock(block_21_settings),\n",
    "    \"b31\" : NetBlock(block_31_settings),\n",
    "    \"b12\" : NetBlock(block_12_settings),\n",
    "    \"b22\" : NetBlock(block_22_settings),\n",
    "    \"b13\" : NetBlock(block_13_settings),\n",
    "    \"out\" : NetBlock(block_out_settings),\n",
    "}\n",
    "\n",
    "#net_blocks"
   ]
  },
  {
   "cell_type": "code",
   "execution_count": 95,
   "id": "98b22daa-8b18-4205-8ac0-8b1af98dd605",
   "metadata": {
    "tags": []
   },
   "outputs": [],
   "source": [
    "class Net_(nn.Module):\n",
    "    def __init__(self, net_blocks, net_graph):\n",
    "        super(Net, self).__init__()\n",
    "        self.net_blocks = torch.nn.ModuleDict(net_blocks)\n",
    "        self.net_graph = (net_graph)\n",
    "        \n",
    "    def forward(self, IN):\n",
    "        block_outs = {\"IN\" : IN}\n",
    "        \n",
    "        for vertes in self.net_graph.keys():\n",
    "            for block_name in self.net_graph[vertes]:\n",
    "                if (block_name == \"OUT\"):\n",
    "                    pass \n",
    "                \n",
    "                elif (block_name not in block_outs.keys()):\n",
    "                    block = self.net_blocks[block_name]\n",
    "                    \n",
    "                    #if block_outs.get(out) = None: continue \n",
    "                    in_list = []\n",
    "                    for in_block in block.in_blocks:\n",
    "                        resampled_out = block.in_blocks[in_block](block_outs[in_block])\n",
    "                        in_list.append(resampled_out)\n",
    "                    block_outs.update({block_name : (block(in_list))})\n",
    "        #print(\"\\n block outputs:\", block_outs)\n",
    "        return(block_outs[\"out\"])"
   ]
  },
  {
   "cell_type": "code",
   "execution_count": null,
   "id": "b9e9e2cb-5791-4af6-b777-82ca2e1134a0",
   "metadata": {},
   "outputs": [],
   "source": []
  },
  {
   "cell_type": "code",
   "execution_count": 96,
   "id": "0f981866-3204-4c96-9010-775e96908b28",
   "metadata": {
    "tags": []
   },
   "outputs": [],
   "source": [
    "class Net(nn.Module):\n",
    "    def __init__(self, net_blocks, net_graph):\n",
    "        super(Net, self).__init__()\n",
    "        self.net_blocks = torch.nn.ModuleDict(net_blocks)\n",
    "        self.net_graph = (net_graph)\n",
    "        \n",
    "    #def check_outs(self):\n",
    "        \n",
    "    \n",
    "        \n",
    "    def forward(self, IN):\n",
    "        block_outs = {\"IN\" : IN} #we will iteratively calculate all outputs\n",
    "        \n",
    "        for vertes in self.net_graph.keys():\n",
    "            queue = [*self.net_graph[vertes]] \n",
    "            max_iters = (len(queue)**2)/2\n",
    "            k = 0\n",
    "            while len(queue) > 0: \n",
    "                if k > max_iters:\n",
    "                    raise Exception('')\n",
    "                block_name = queue.pop(0)\n",
    "                if (block_name == \"OUT\"):\n",
    "                    pass \n",
    "                \n",
    "                elif (block_name not in block_outs.keys()):\n",
    "                    block = self.net_blocks[block_name]\n",
    "                    \n",
    "                    \n",
    "                    put_to_queue = False #If true, we can't calculate output now, set this block to the end of queue\n",
    "                    for in_block in block.in_blocks:\n",
    "                        if block_outs.get(in_block) is None:\n",
    "                            queue.append(block_name)\n",
    "                            put_to_queue = True\n",
    "                            break\n",
    "                    if put_to_queue:\n",
    "                        continue\n",
    "                \n",
    "\n",
    "                    in_list = [] #upload all inputs to block\n",
    "                    for in_block in block.in_blocks: \n",
    "                        resampled_out = block.in_blocks[in_block](block_outs[in_block])\n",
    "                        in_list.append(resampled_out)\n",
    "                    block_outs.update({block_name : (block(in_list))})\n",
    "                k++\n",
    "        return(block_outs[\"out\"])"
   ]
  },
  {
   "cell_type": "code",
   "execution_count": 97,
   "id": "3df793ab-4132-46ff-a887-3026ab0f5ee4",
   "metadata": {
    "tags": []
   },
   "outputs": [],
   "source": [
    "x = torch.rand(1, 1, 64, 64, 64)\n",
    "GT = torch.rand(1, 1, 64, 64, 64) "
   ]
  },
  {
   "cell_type": "code",
   "execution_count": 98,
   "id": "62f1c70a-fd71-40ce-92b8-524b4af8e2e5",
   "metadata": {
    "tags": []
   },
   "outputs": [
    {
     "name": "stdout",
     "output_type": "stream",
     "text": [
      "total_params: 2368\n"
     ]
    }
   ],
   "source": [
    "model = Net(net_blocks, net_graph)\n",
    "print(\"total_params:\", get_total_params(model))"
   ]
  },
  {
   "cell_type": "code",
   "execution_count": 99,
   "id": "bfddbba0-5bfa-4f32-a225-36c8f4e48a84",
   "metadata": {
    "tags": []
   },
   "outputs": [
    {
     "data": {
      "text/plain": [
       "1"
      ]
     },
     "execution_count": 99,
     "metadata": {},
     "output_type": "execute_result"
    }
   ],
   "source": [
    "model.to('cuda')\n",
    "1"
   ]
  },
  {
   "cell_type": "code",
   "execution_count": 100,
   "id": "b2152aab-df69-48b9-a800-7d6ae91086d7",
   "metadata": {
    "tags": []
   },
   "outputs": [],
   "source": [
    "loss_fn = nn.MSELoss()\n",
    "opt = torch.optim.Adam(model.parameters())\n",
    "n_epochs = 100"
   ]
  },
  {
   "cell_type": "code",
   "execution_count": 101,
   "id": "02f6469c-ad1e-4621-a38d-456e92b988ec",
   "metadata": {
    "tags": []
   },
   "outputs": [
    {
     "name": "stdout",
     "output_type": "stream",
     "text": [
      "0.38896670937538147\n",
      "0.34376659989356995\n",
      "0.30145424604415894\n",
      "0.25598061084747314\n",
      "0.20562002062797546\n",
      "0.15224692225456238\n",
      "0.10749007761478424\n",
      "0.10021573305130005\n",
      "0.14329808950424194\n",
      "0.1486728936433792\n",
      "0.12211531400680542\n",
      "0.10039184242486954\n",
      "0.09548762440681458\n",
      "0.10177996009588242\n",
      "0.11050626635551453\n",
      "0.11646005511283875\n",
      "0.11773843318223953\n",
      "0.1146751195192337\n",
      "0.10863392800092697\n",
      "0.10166993737220764\n",
      "0.09611101448535919\n",
      "0.09396779537200928\n",
      "0.09587757289409637\n",
      "0.10005359351634979\n",
      "0.10296913981437683\n",
      "0.10237058252096176\n",
      "0.098988838493824\n",
      "0.09537513554096222\n",
      "0.0934314951300621\n",
      "0.0935005471110344\n",
      "0.09477837383747101\n",
      "0.09618861228227615\n",
      "0.09695689380168915\n",
      "0.09673995524644852\n",
      "0.09571388363838196\n",
      "0.09429434686899185\n",
      "0.09308551251888275\n",
      "0.09254296123981476\n",
      "0.092784583568573\n",
      "0.09348484873771667\n",
      "0.0940474346280098\n",
      "0.09403079748153687\n",
      "0.09344612061977386\n",
      "0.09266987442970276\n",
      "0.09214068949222565\n",
      "0.09202621877193451\n",
      "0.09223079681396484\n",
      "0.09250684827566147\n",
      "0.09262386709451675\n",
      "0.09249089658260345\n",
      "0.09216649830341339\n",
      "0.09179964661598206\n",
      "0.09155920892953873\n",
      "0.09151837974786758\n",
      "0.09161780774593353\n",
      "0.09172399342060089\n",
      "0.09169841557741165\n",
      "0.09152866899967194\n",
      "0.09130363166332245\n",
      "0.09113433212041855\n",
      "0.09107418358325958\n",
      "0.09109355509281158\n",
      "0.09111489355564117\n",
      "0.09108005464076996\n",
      "0.0909738689661026\n",
      "0.0908360481262207\n",
      "0.0907207727432251\n",
      "0.09066328406333923\n",
      "0.0906500369310379\n",
      "0.09063854813575745\n",
      "0.09059062600135803\n",
      "0.09049888700246811\n",
      "0.090400829911232\n",
      "0.09032732993364334\n",
      "0.09028678387403488\n",
      "0.09026139974594116\n",
      "0.09022197127342224\n",
      "0.09016105532646179\n",
      "0.09008481353521347\n",
      "0.0900161862373352\n",
      "0.08996711671352386\n",
      "0.08993175625801086\n",
      "0.08989325165748596\n",
      "0.0898413136601448\n",
      "0.08977822214365005\n",
      "0.08972012996673584\n",
      "0.08967382460832596\n",
      "0.08963610231876373\n",
      "0.08959576487541199\n",
      "0.08954636752605438\n",
      "0.08949212729930878\n",
      "0.08944220840930939\n",
      "0.08940045535564423\n",
      "0.08936222642660141\n",
      "0.0893198624253273\n",
      "0.08927202224731445\n",
      "0.08922448009252548\n",
      "0.08918209373950958\n",
      "0.08914364874362946\n",
      "0.08910426497459412\n"
     ]
    }
   ],
   "source": [
    "for epoch in range(n_epochs):\n",
    "    x_cuda = x.to('cuda')\n",
    "    GT_cuda = GT.to('cuda')\n",
    "    \n",
    "    out = model.forward(x_cuda)   \n",
    "    loss = loss_fn(GT_cuda, out)\n",
    "\n",
    "    opt.zero_grad()\n",
    "    loss.backward()\n",
    "    opt.step()\n",
    "    print(loss.item())"
   ]
  },
  {
   "cell_type": "code",
   "execution_count": null,
   "id": "24bd882a-a8ea-41ed-82c8-1cd76565e1ad",
   "metadata": {},
   "outputs": [],
   "source": []
  },
  {
   "cell_type": "code",
   "execution_count": null,
   "id": "130198af-2d56-4c24-b133-51a064ede4cf",
   "metadata": {},
   "outputs": [],
   "source": []
  }
 ],
 "metadata": {
  "kernelspec": {
   "display_name": "Python 3",
   "language": "python",
   "name": "python3"
  },
  "language_info": {
   "codemirror_mode": {
    "name": "ipython",
    "version": 3
   },
   "file_extension": ".py",
   "mimetype": "text/x-python",
   "name": "python",
   "nbconvert_exporter": "python",
   "pygments_lexer": "ipython3",
   "version": "3.8.10"
  }
 },
 "nbformat": 4,
 "nbformat_minor": 5
}
