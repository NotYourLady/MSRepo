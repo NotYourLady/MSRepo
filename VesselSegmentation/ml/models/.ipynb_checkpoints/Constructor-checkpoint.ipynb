{
 "cells": [
  {
   "cell_type": "code",
   "execution_count": 48,
   "id": "2e16d0ac-0578-4e02-9a3f-ed8a60dc2a8e",
   "metadata": {
    "tags": []
   },
   "outputs": [],
   "source": [
    "import torch\n",
    "import torch.nn as nn\n",
    "import torch.utils.data\n",
    "from copy import deepcopy"
   ]
  },
  {
   "cell_type": "code",
   "execution_count": 49,
   "id": "a337bf69-066e-4366-817a-95e5b673e15d",
   "metadata": {
    "tags": []
   },
   "outputs": [],
   "source": [
    "def get_total_params(model):\n",
    "    total_params = sum(\n",
    "    param.numel() for param in model.parameters()\n",
    "    )\n",
    "    return(total_params)"
   ]
  },
  {
   "cell_type": "code",
   "execution_count": 50,
   "id": "272b1522-01c9-4c25-b26c-08a3f8f3299c",
   "metadata": {},
   "outputs": [],
   "source": [
    "class NetConnection(nn.Module):\n",
    "    def __init__(self, connect_from, backbone=None):\n",
    "        super(NetConnection, self).__init__()\n",
    "        self.connect_from = connect_from\n",
    "        if backbone is None: \n",
    "            self.backbone = nn.Identity()\n",
    "        else:    \n",
    "            self.backbone = backbone\n",
    "        \n",
    "    def forward(self, x):\n",
    "        x = self.backbone(x)\n",
    "        return(x)"
   ]
  },
  {
   "cell_type": "code",
   "execution_count": 92,
   "id": "befbb976-afa0-4125-b0ab-b7d94173d299",
   "metadata": {
    "tags": []
   },
   "outputs": [],
   "source": [
    "net_graph = {\n",
    "    \"IN\" :  (NetConnection(\"b11\"),),\n",
    "    \"b11\" : (NetConnection(\"b21\", nn.MaxPool3d(2, 2)),\n",
    "             NetConnection(\"b12\")),\n",
    "    \"b21\" : (NetConnection(\"b12\", nn.Upsample(scale_factor=2, mode='trilinear', align_corners=True)),),\n",
    "    \"b12\" : (NetConnection(\"out\"),),\n",
    "    \"out\" : (NetConnection(\"OUT\"),),\n",
    "}"
   ]
  },
  {
   "cell_type": "code",
   "execution_count": 93,
   "id": "4a19f2cc-8717-4f25-ab1a-b74cddfb211b",
   "metadata": {
    "tags": []
   },
   "outputs": [],
   "source": [
    "class NetBlock(nn.Module):\n",
    "    def __init__(self, settings):\n",
    "        super(NetBlock, self).__init__()\n",
    "        self.in_blocks = settings[\"in\"]\n",
    "        self.backbone = settings[\"backbone\"]\n",
    "        \n",
    "    def forward(self, in_list):\n",
    "        x = torch.cat(in_list, dim=1)\n",
    "        x = self.backbone(x)\n",
    "        return(x)"
   ]
  },
  {
   "cell_type": "code",
   "execution_count": 94,
   "id": "f86aa6dc-2232-4623-bf4b-ae852ceabd6c",
   "metadata": {
    "tags": []
   },
   "outputs": [],
   "source": [
    "block_11_settings = {\n",
    "    \"in\" : (\"IN\",),\n",
    "    \"level\" : 1,\n",
    "    \"backbone\" : nn.Conv3d(1, 3, kernel_size=3, stride=1, padding=1), #nn.Identity(),\n",
    "}\n",
    "\n",
    "block_21_settings = {\n",
    "    \"in\" : (\"b11\",),\n",
    "    \"level\" : 2,\n",
    "    \"backbone\" : nn.Conv3d(3, 3, kernel_size=3, stride=1, padding=1), #nn.Identity(),\n",
    "}\n",
    "\n",
    "block_12_settings = {\n",
    "    \"in\" : (\"b11\", \"b21\"),\n",
    "    \"level\" : 1,\n",
    "    \"backbone\" : nn.Conv3d(6, 1, kernel_size=3, stride=1, padding=1), #nn.Identity(),\n",
    "}\n",
    "\n",
    "block_out_settings = {\n",
    "    \"in\" : (\"b12\",),\n",
    "    \"level\" : 1,\n",
    "    \"backbone\" : nn.Conv3d(1, 1, kernel_size=3, stride=1, padding=1), #nn.Identity(),\n",
    "}\n",
    "\n",
    "net_blocks = { \n",
    "    \"b11\" : NetBlock(block_11_settings),\n",
    "    \"b21\" : NetBlock(block_21_settings),\n",
    "    \"b12\" : NetBlock(block_12_settings),\n",
    "    \"out\" : NetBlock(block_out_settings),\n",
    "}\n",
    "\n",
    "#net_blocks"
   ]
  },
  {
   "cell_type": "code",
   "execution_count": 95,
   "id": "98b22daa-8b18-4205-8ac0-8b1af98dd605",
   "metadata": {
    "tags": []
   },
   "outputs": [],
   "source": [
    "class Net(nn.Module):\n",
    "    def __init__(self, net_blocks, net_graph):\n",
    "        super(Net, self).__init__()\n",
    "        self.net_blocks = torch.nn.ModuleDict(net_blocks)\n",
    "        self.net_graph = (net_graph)\n",
    "        \n",
    "    def forward(self, IN):\n",
    "        block_outs = {\"IN\" : IN}\n",
    "        \n",
    "        for vertes in self.net_graph.keys():\n",
    "            for connection in self.net_graph[vertes]:\n",
    "                block_name = connection.connect_to\n",
    "                if (block_name == \"OUT\"):\n",
    "                    pass \n",
    "                \n",
    "                elif (block_name not in block_outs.keys()):\n",
    "                    block = self.net_blocks[block_name]\n",
    "                    print(block_name)\n",
    "                    \n",
    "                    in_list = []\n",
    "                    \n",
    "                    #if block_outs.get(out) = None: continue \n",
    "                    for input_block in block.in_blocks:\n",
    "                        resampled_out = connection.backbone(block_outs[input_block])\n",
    "                        print(resampled_out.shape)\n",
    "                        in_list.append(resampled_out)\n",
    "                    block_outs.update({block_name : (block(in_list))})\n",
    "        #print(\"\\n block outputs:\", block_outs)\n",
    "        return(block_outs[\"out\"])"
   ]
  },
  {
   "cell_type": "code",
   "execution_count": 96,
   "id": "3df793ab-4132-46ff-a887-3026ab0f5ee4",
   "metadata": {
    "tags": []
   },
   "outputs": [],
   "source": [
    "x = torch.rand(1, 1, 64, 64, 64)\n",
    "GT = torch.rand(1, 1, 64, 64, 64) "
   ]
  },
  {
   "cell_type": "code",
   "execution_count": 97,
   "id": "62f1c70a-fd71-40ce-92b8-524b4af8e2e5",
   "metadata": {
    "tags": []
   },
   "outputs": [
    {
     "name": "stdout",
     "output_type": "stream",
     "text": [
      "total_params: 521\n"
     ]
    }
   ],
   "source": [
    "model = Net(net_blocks, net_graph)\n",
    "print(\"total_params:\", get_total_params(model))"
   ]
  },
  {
   "cell_type": "code",
   "execution_count": 98,
   "id": "bfddbba0-5bfa-4f32-a225-36c8f4e48a84",
   "metadata": {
    "tags": []
   },
   "outputs": [
    {
     "data": {
      "text/plain": [
       "1"
      ]
     },
     "execution_count": 98,
     "metadata": {},
     "output_type": "execute_result"
    }
   ],
   "source": [
    "model.to('cuda')\n",
    "1"
   ]
  },
  {
   "cell_type": "code",
   "execution_count": 99,
   "id": "b2152aab-df69-48b9-a800-7d6ae91086d7",
   "metadata": {
    "tags": []
   },
   "outputs": [],
   "source": [
    "loss_fn = nn.MSELoss()\n",
    "opt = torch.optim.Adam(model.parameters())\n",
    "n_epochs = 100"
   ]
  },
  {
   "cell_type": "code",
   "execution_count": 100,
   "id": "aee5a637-68a9-4fd3-953c-be1ecbff57de",
   "metadata": {
    "tags": []
   },
   "outputs": [
    {
     "name": "stdout",
     "output_type": "stream",
     "text": [
      "torch.Size([1, 1, 32, 32, 32])\n",
      "torch.Size([1, 1, 64, 64, 64])\n"
     ]
    }
   ],
   "source": [
    "t = torch.rand(1, 1, 32, 32, 32)\n",
    "print(t.shape)\n",
    "up = nn.Upsample(scale_factor=2, mode='trilinear', align_corners=True)\n",
    "print(up(t).shape)"
   ]
  },
  {
   "cell_type": "code",
   "execution_count": 102,
   "id": "02f6469c-ad1e-4621-a38d-456e92b988ec",
   "metadata": {
    "tags": []
   },
   "outputs": [
    {
     "name": "stdout",
     "output_type": "stream",
     "text": [
      "b11\n",
      "torch.Size([1, 1, 64, 64, 64])\n",
      "b21\n",
      "torch.Size([1, 3, 32, 32, 32])\n",
      "b12\n",
      "torch.Size([1, 3, 64, 64, 64])\n",
      "torch.Size([1, 3, 32, 32, 32])\n"
     ]
    },
    {
     "ename": "RuntimeError",
     "evalue": "Sizes of tensors must match except in dimension 1. Expected size 64 but got size 32 for tensor number 1 in the list.",
     "output_type": "error",
     "traceback": [
      "\u001b[0;31m---------------------------------------------------------------------------\u001b[0m",
      "\u001b[0;31mRuntimeError\u001b[0m                              Traceback (most recent call last)",
      "Cell \u001b[0;32mIn[102], line 5\u001b[0m\n\u001b[1;32m      2\u001b[0m x_cuda \u001b[38;5;241m=\u001b[39m x\u001b[38;5;241m.\u001b[39mto(\u001b[38;5;124m'\u001b[39m\u001b[38;5;124mcuda\u001b[39m\u001b[38;5;124m'\u001b[39m)\n\u001b[1;32m      3\u001b[0m GT_cuda \u001b[38;5;241m=\u001b[39m GT\u001b[38;5;241m.\u001b[39mto(\u001b[38;5;124m'\u001b[39m\u001b[38;5;124mcuda\u001b[39m\u001b[38;5;124m'\u001b[39m)\n\u001b[0;32m----> 5\u001b[0m out \u001b[38;5;241m=\u001b[39m \u001b[43mmodel\u001b[49m\u001b[38;5;241;43m.\u001b[39;49m\u001b[43mforward\u001b[49m\u001b[43m(\u001b[49m\u001b[43mx_cuda\u001b[49m\u001b[43m)\u001b[49m   \n\u001b[1;32m      6\u001b[0m loss \u001b[38;5;241m=\u001b[39m loss_fn(GT_cuda, out)\n\u001b[1;32m      8\u001b[0m opt\u001b[38;5;241m.\u001b[39mzero_grad()\n",
      "Cell \u001b[0;32mIn[95], line 27\u001b[0m, in \u001b[0;36mNet.forward\u001b[0;34m(self, IN)\u001b[0m\n\u001b[1;32m     25\u001b[0m                 \u001b[38;5;28mprint\u001b[39m(resampled_out\u001b[38;5;241m.\u001b[39mshape)\n\u001b[1;32m     26\u001b[0m                 in_list\u001b[38;5;241m.\u001b[39mappend(resampled_out)\n\u001b[0;32m---> 27\u001b[0m             block_outs\u001b[38;5;241m.\u001b[39mupdate({block_name : (\u001b[43mblock\u001b[49m\u001b[43m(\u001b[49m\u001b[43min_list\u001b[49m\u001b[43m)\u001b[49m)})\n\u001b[1;32m     28\u001b[0m \u001b[38;5;66;03m#print(\"\\n block outputs:\", block_outs)\u001b[39;00m\n\u001b[1;32m     29\u001b[0m \u001b[38;5;28;01mreturn\u001b[39;00m(block_outs[\u001b[38;5;124m\"\u001b[39m\u001b[38;5;124mout\u001b[39m\u001b[38;5;124m\"\u001b[39m])\n",
      "File \u001b[0;32m~/.local/lib/python3.8/site-packages/torch/nn/modules/module.py:1501\u001b[0m, in \u001b[0;36mModule._call_impl\u001b[0;34m(self, *args, **kwargs)\u001b[0m\n\u001b[1;32m   1496\u001b[0m \u001b[38;5;66;03m# If we don't have any hooks, we want to skip the rest of the logic in\u001b[39;00m\n\u001b[1;32m   1497\u001b[0m \u001b[38;5;66;03m# this function, and just call forward.\u001b[39;00m\n\u001b[1;32m   1498\u001b[0m \u001b[38;5;28;01mif\u001b[39;00m \u001b[38;5;129;01mnot\u001b[39;00m (\u001b[38;5;28mself\u001b[39m\u001b[38;5;241m.\u001b[39m_backward_hooks \u001b[38;5;129;01mor\u001b[39;00m \u001b[38;5;28mself\u001b[39m\u001b[38;5;241m.\u001b[39m_backward_pre_hooks \u001b[38;5;129;01mor\u001b[39;00m \u001b[38;5;28mself\u001b[39m\u001b[38;5;241m.\u001b[39m_forward_hooks \u001b[38;5;129;01mor\u001b[39;00m \u001b[38;5;28mself\u001b[39m\u001b[38;5;241m.\u001b[39m_forward_pre_hooks\n\u001b[1;32m   1499\u001b[0m         \u001b[38;5;129;01mor\u001b[39;00m _global_backward_pre_hooks \u001b[38;5;129;01mor\u001b[39;00m _global_backward_hooks\n\u001b[1;32m   1500\u001b[0m         \u001b[38;5;129;01mor\u001b[39;00m _global_forward_hooks \u001b[38;5;129;01mor\u001b[39;00m _global_forward_pre_hooks):\n\u001b[0;32m-> 1501\u001b[0m     \u001b[38;5;28;01mreturn\u001b[39;00m \u001b[43mforward_call\u001b[49m\u001b[43m(\u001b[49m\u001b[38;5;241;43m*\u001b[39;49m\u001b[43margs\u001b[49m\u001b[43m,\u001b[49m\u001b[43m \u001b[49m\u001b[38;5;241;43m*\u001b[39;49m\u001b[38;5;241;43m*\u001b[39;49m\u001b[43mkwargs\u001b[49m\u001b[43m)\u001b[49m\n\u001b[1;32m   1502\u001b[0m \u001b[38;5;66;03m# Do not call functions when jit is used\u001b[39;00m\n\u001b[1;32m   1503\u001b[0m full_backward_hooks, non_full_backward_hooks \u001b[38;5;241m=\u001b[39m [], []\n",
      "Cell \u001b[0;32mIn[93], line 8\u001b[0m, in \u001b[0;36mNetBlock.forward\u001b[0;34m(self, in_list)\u001b[0m\n\u001b[1;32m      7\u001b[0m \u001b[38;5;28;01mdef\u001b[39;00m \u001b[38;5;21mforward\u001b[39m(\u001b[38;5;28mself\u001b[39m, in_list):\n\u001b[0;32m----> 8\u001b[0m     x \u001b[38;5;241m=\u001b[39m \u001b[43mtorch\u001b[49m\u001b[38;5;241;43m.\u001b[39;49m\u001b[43mcat\u001b[49m\u001b[43m(\u001b[49m\u001b[43min_list\u001b[49m\u001b[43m,\u001b[49m\u001b[43m \u001b[49m\u001b[43mdim\u001b[49m\u001b[38;5;241;43m=\u001b[39;49m\u001b[38;5;241;43m1\u001b[39;49m\u001b[43m)\u001b[49m\n\u001b[1;32m      9\u001b[0m     x \u001b[38;5;241m=\u001b[39m \u001b[38;5;28mself\u001b[39m\u001b[38;5;241m.\u001b[39mbackbone(x)\n\u001b[1;32m     10\u001b[0m     \u001b[38;5;28;01mreturn\u001b[39;00m(x)\n",
      "\u001b[0;31mRuntimeError\u001b[0m: Sizes of tensors must match except in dimension 1. Expected size 64 but got size 32 for tensor number 1 in the list."
     ]
    }
   ],
   "source": [
    "for epoch in range(n_epochs):\n",
    "    x_cuda = x.to('cuda')\n",
    "    GT_cuda = GT.to('cuda')\n",
    "    \n",
    "    out = model.forward(x_cuda)   \n",
    "    loss = loss_fn(GT_cuda, out)\n",
    "\n",
    "    opt.zero_grad()\n",
    "    loss.backward()\n",
    "    opt.step()\n",
    "    print(loss.item())"
   ]
  },
  {
   "cell_type": "code",
   "execution_count": null,
   "id": "24bd882a-a8ea-41ed-82c8-1cd76565e1ad",
   "metadata": {},
   "outputs": [],
   "source": []
  }
 ],
 "metadata": {
  "kernelspec": {
   "display_name": "Python 3",
   "language": "python",
   "name": "python3"
  },
  "language_info": {
   "codemirror_mode": {
    "name": "ipython",
    "version": 3
   },
   "file_extension": ".py",
   "mimetype": "text/x-python",
   "name": "python",
   "nbconvert_exporter": "python",
   "pygments_lexer": "ipython3",
   "version": "3.8.10"
  }
 },
 "nbformat": 4,
 "nbformat_minor": 5
}
