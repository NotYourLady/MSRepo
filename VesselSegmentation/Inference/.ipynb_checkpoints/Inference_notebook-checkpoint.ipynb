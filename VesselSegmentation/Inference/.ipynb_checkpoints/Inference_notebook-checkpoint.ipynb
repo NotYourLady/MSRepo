{
 "cells": [
  {
   "cell_type": "code",
   "execution_count": 96,
   "id": "09db54b7-b53b-44be-931f-3892874676c6",
   "metadata": {
    "tags": []
   },
   "outputs": [],
   "source": [
    "import os\n",
    "import numpy\n",
    "import random\n",
    "import json\n",
    "from distutils.dir_util import copy_tree\n",
    "import shutil\n",
    "import time\n",
    "\n",
    "import sys, os\n",
    "sys.path.append(os.path.dirname('../.'))\n",
    "from scripts.utils import get_path"
   ]
  },
  {
   "cell_type": "code",
   "execution_count": 121,
   "id": "0bfc0619-79ba-40b5-bacb-3d5c721d7be0",
   "metadata": {
    "tags": []
   },
   "outputs": [],
   "source": [
    "if os.path.exists(path_to_out):\n",
    "    shutil.rmtree(path_to_out)\n",
    "path_to_out = \"/home/msst/test.json\"  "
   ]
  },
  {
   "cell_type": "code",
   "execution_count": 124,
   "id": "e2847438-f19c-4edc-9729-653f71d0cdb3",
   "metadata": {
    "tags": []
   },
   "outputs": [
    {
     "name": "stdout",
     "output_type": "stream",
     "text": [
      "IF\n"
     ]
    },
    {
     "ename": "JSONDecodeError",
     "evalue": "Extra data: line 9 column 2 (char 96)",
     "output_type": "error",
     "traceback": [
      "\u001b[0;31m---------------------------------------------------------------------------\u001b[0m",
      "\u001b[0;31mJSONDecodeError\u001b[0m                           Traceback (most recent call last)",
      "Cell \u001b[0;32mIn[124], line 12\u001b[0m\n\u001b[1;32m     10\u001b[0m \u001b[38;5;28mprint\u001b[39m(\u001b[38;5;124m\"\u001b[39m\u001b[38;5;124mIF\u001b[39m\u001b[38;5;124m\"\u001b[39m)\n\u001b[1;32m     11\u001b[0m fp \u001b[38;5;241m=\u001b[39m \u001b[38;5;28mopen\u001b[39m(path_to_out, \u001b[38;5;124m'\u001b[39m\u001b[38;5;124mr+\u001b[39m\u001b[38;5;124m'\u001b[39m)\n\u001b[0;32m---> 12\u001b[0m prev_dict \u001b[38;5;241m=\u001b[39m \u001b[43mjson\u001b[49m\u001b[38;5;241;43m.\u001b[39;49m\u001b[43mload\u001b[49m\u001b[43m(\u001b[49m\u001b[43mfp\u001b[49m\u001b[43m)\u001b[49m\n\u001b[1;32m     13\u001b[0m \u001b[38;5;28;01mif\u001b[39;00m prev_dict\u001b[38;5;241m.\u001b[39mget(\u001b[38;5;124m\"\u001b[39m\u001b[38;5;124mmain\u001b[39m\u001b[38;5;124m\"\u001b[39m):\n\u001b[1;32m     14\u001b[0m     prev_dict[\u001b[38;5;124m\"\u001b[39m\u001b[38;5;124mmain\u001b[39m\u001b[38;5;124m\"\u001b[39m]\u001b[38;5;241m.\u001b[39mupdate(test_dict[\u001b[38;5;124m\"\u001b[39m\u001b[38;5;124mmain\u001b[39m\u001b[38;5;124m\"\u001b[39m])\n",
      "File \u001b[0;32m/usr/lib/python3.8/json/__init__.py:293\u001b[0m, in \u001b[0;36mload\u001b[0;34m(fp, cls, object_hook, parse_float, parse_int, parse_constant, object_pairs_hook, **kw)\u001b[0m\n\u001b[1;32m    274\u001b[0m \u001b[38;5;28;01mdef\u001b[39;00m \u001b[38;5;21mload\u001b[39m(fp, \u001b[38;5;241m*\u001b[39m, \u001b[38;5;28mcls\u001b[39m\u001b[38;5;241m=\u001b[39m\u001b[38;5;28;01mNone\u001b[39;00m, object_hook\u001b[38;5;241m=\u001b[39m\u001b[38;5;28;01mNone\u001b[39;00m, parse_float\u001b[38;5;241m=\u001b[39m\u001b[38;5;28;01mNone\u001b[39;00m,\n\u001b[1;32m    275\u001b[0m         parse_int\u001b[38;5;241m=\u001b[39m\u001b[38;5;28;01mNone\u001b[39;00m, parse_constant\u001b[38;5;241m=\u001b[39m\u001b[38;5;28;01mNone\u001b[39;00m, object_pairs_hook\u001b[38;5;241m=\u001b[39m\u001b[38;5;28;01mNone\u001b[39;00m, \u001b[38;5;241m*\u001b[39m\u001b[38;5;241m*\u001b[39mkw):\n\u001b[1;32m    276\u001b[0m \u001b[38;5;250m    \u001b[39m\u001b[38;5;124;03m\"\"\"Deserialize ``fp`` (a ``.read()``-supporting file-like object containing\u001b[39;00m\n\u001b[1;32m    277\u001b[0m \u001b[38;5;124;03m    a JSON document) to a Python object.\u001b[39;00m\n\u001b[1;32m    278\u001b[0m \n\u001b[0;32m   (...)\u001b[0m\n\u001b[1;32m    291\u001b[0m \u001b[38;5;124;03m    kwarg; otherwise ``JSONDecoder`` is used.\u001b[39;00m\n\u001b[1;32m    292\u001b[0m \u001b[38;5;124;03m    \"\"\"\u001b[39;00m\n\u001b[0;32m--> 293\u001b[0m     \u001b[38;5;28;01mreturn\u001b[39;00m \u001b[43mloads\u001b[49m\u001b[43m(\u001b[49m\u001b[43mfp\u001b[49m\u001b[38;5;241;43m.\u001b[39;49m\u001b[43mread\u001b[49m\u001b[43m(\u001b[49m\u001b[43m)\u001b[49m\u001b[43m,\u001b[49m\n\u001b[1;32m    294\u001b[0m \u001b[43m        \u001b[49m\u001b[38;5;28;43mcls\u001b[39;49m\u001b[38;5;241;43m=\u001b[39;49m\u001b[38;5;28;43mcls\u001b[39;49m\u001b[43m,\u001b[49m\u001b[43m \u001b[49m\u001b[43mobject_hook\u001b[49m\u001b[38;5;241;43m=\u001b[39;49m\u001b[43mobject_hook\u001b[49m\u001b[43m,\u001b[49m\n\u001b[1;32m    295\u001b[0m \u001b[43m        \u001b[49m\u001b[43mparse_float\u001b[49m\u001b[38;5;241;43m=\u001b[39;49m\u001b[43mparse_float\u001b[49m\u001b[43m,\u001b[49m\u001b[43m \u001b[49m\u001b[43mparse_int\u001b[49m\u001b[38;5;241;43m=\u001b[39;49m\u001b[43mparse_int\u001b[49m\u001b[43m,\u001b[49m\n\u001b[1;32m    296\u001b[0m \u001b[43m        \u001b[49m\u001b[43mparse_constant\u001b[49m\u001b[38;5;241;43m=\u001b[39;49m\u001b[43mparse_constant\u001b[49m\u001b[43m,\u001b[49m\u001b[43m \u001b[49m\u001b[43mobject_pairs_hook\u001b[49m\u001b[38;5;241;43m=\u001b[39;49m\u001b[43mobject_pairs_hook\u001b[49m\u001b[43m,\u001b[49m\u001b[43m \u001b[49m\u001b[38;5;241;43m*\u001b[39;49m\u001b[38;5;241;43m*\u001b[39;49m\u001b[43mkw\u001b[49m\u001b[43m)\u001b[49m\n",
      "File \u001b[0;32m/usr/lib/python3.8/json/__init__.py:357\u001b[0m, in \u001b[0;36mloads\u001b[0;34m(s, cls, object_hook, parse_float, parse_int, parse_constant, object_pairs_hook, **kw)\u001b[0m\n\u001b[1;32m    352\u001b[0m     \u001b[38;5;28;01mdel\u001b[39;00m kw[\u001b[38;5;124m'\u001b[39m\u001b[38;5;124mencoding\u001b[39m\u001b[38;5;124m'\u001b[39m]\n\u001b[1;32m    354\u001b[0m \u001b[38;5;28;01mif\u001b[39;00m (\u001b[38;5;28mcls\u001b[39m \u001b[38;5;129;01mis\u001b[39;00m \u001b[38;5;28;01mNone\u001b[39;00m \u001b[38;5;129;01mand\u001b[39;00m object_hook \u001b[38;5;129;01mis\u001b[39;00m \u001b[38;5;28;01mNone\u001b[39;00m \u001b[38;5;129;01mand\u001b[39;00m\n\u001b[1;32m    355\u001b[0m         parse_int \u001b[38;5;129;01mis\u001b[39;00m \u001b[38;5;28;01mNone\u001b[39;00m \u001b[38;5;129;01mand\u001b[39;00m parse_float \u001b[38;5;129;01mis\u001b[39;00m \u001b[38;5;28;01mNone\u001b[39;00m \u001b[38;5;129;01mand\u001b[39;00m\n\u001b[1;32m    356\u001b[0m         parse_constant \u001b[38;5;129;01mis\u001b[39;00m \u001b[38;5;28;01mNone\u001b[39;00m \u001b[38;5;129;01mand\u001b[39;00m object_pairs_hook \u001b[38;5;129;01mis\u001b[39;00m \u001b[38;5;28;01mNone\u001b[39;00m \u001b[38;5;129;01mand\u001b[39;00m \u001b[38;5;129;01mnot\u001b[39;00m kw):\n\u001b[0;32m--> 357\u001b[0m     \u001b[38;5;28;01mreturn\u001b[39;00m \u001b[43m_default_decoder\u001b[49m\u001b[38;5;241;43m.\u001b[39;49m\u001b[43mdecode\u001b[49m\u001b[43m(\u001b[49m\u001b[43ms\u001b[49m\u001b[43m)\u001b[49m\n\u001b[1;32m    358\u001b[0m \u001b[38;5;28;01mif\u001b[39;00m \u001b[38;5;28mcls\u001b[39m \u001b[38;5;129;01mis\u001b[39;00m \u001b[38;5;28;01mNone\u001b[39;00m:\n\u001b[1;32m    359\u001b[0m     \u001b[38;5;28mcls\u001b[39m \u001b[38;5;241m=\u001b[39m JSONDecoder\n",
      "File \u001b[0;32m/usr/lib/python3.8/json/decoder.py:340\u001b[0m, in \u001b[0;36mJSONDecoder.decode\u001b[0;34m(self, s, _w)\u001b[0m\n\u001b[1;32m    338\u001b[0m end \u001b[38;5;241m=\u001b[39m _w(s, end)\u001b[38;5;241m.\u001b[39mend()\n\u001b[1;32m    339\u001b[0m \u001b[38;5;28;01mif\u001b[39;00m end \u001b[38;5;241m!=\u001b[39m \u001b[38;5;28mlen\u001b[39m(s):\n\u001b[0;32m--> 340\u001b[0m     \u001b[38;5;28;01mraise\u001b[39;00m JSONDecodeError(\u001b[38;5;124m\"\u001b[39m\u001b[38;5;124mExtra data\u001b[39m\u001b[38;5;124m\"\u001b[39m, s, end)\n\u001b[1;32m    341\u001b[0m \u001b[38;5;28;01mreturn\u001b[39;00m obj\n",
      "\u001b[0;31mJSONDecodeError\u001b[0m: Extra data: line 9 column 2 (char 96)"
     ]
    }
   ],
   "source": [
    "test = \"lala2\"\n",
    "test_dict = {\n",
    "    \"main\": {\n",
    "        test: [3, 3, 3]\n",
    "    }\n",
    "}\n",
    "\n",
    "\n",
    "if os.path.exists(path_to_out):\n",
    "    print(\"IF\")\n",
    "    fp = open(path_to_out, 'r+')\n",
    "    prev_dict = json.load(fp)\n",
    "    if prev_dict.get(\"main\"):\n",
    "        prev_dict[\"main\"].update(test_dict[\"main\"])\n",
    "    else:\n",
    "        prev_dict.update(test_dict)\n",
    "    f.seek(0)\n",
    "    json.dump(prev_dict, sort_keys=True, indent=4, fp=fp)\n",
    "    fp.truncate() \n",
    "else:\n",
    "    print(\"ELSE\")\n",
    "    fp = open(path_to_out, 'w')\n",
    "    json.dump(test_dict, sort_keys=True, indent=4, fp=fp)\n",
    "    fp.close()    "
   ]
  },
  {
   "cell_type": "code",
   "execution_count": 71,
   "id": "2c50a665-e783-4a46-85ac-1404da596753",
   "metadata": {
    "tags": []
   },
   "outputs": [
    {
     "data": {
      "text/plain": [
       "{'test1': {'train': ['IXI131',\n",
       "   'IXI100',\n",
       "   'IXI057',\n",
       "   'IXI052',\n",
       "   'IXI137',\n",
       "   'IXI020'],\n",
       "  'test': ['IXI111', 'IXI115', 'IXI077']},\n",
       " 'test2': {'train': ['IXI131',\n",
       "   'IXI115',\n",
       "   'IXI057',\n",
       "   'IXI077',\n",
       "   'IXI052',\n",
       "   'IXI137'],\n",
       "  'test': ['IXI100', 'IXI111', 'IXI020']}}"
      ]
     },
     "execution_count": 71,
     "metadata": {},
     "output_type": "execute_result"
    }
   ],
   "source": [
    "path_to_data = '/home/msst/Documents/medtech/data/Inference_IXI'\n",
    "N_tests = 2\n",
    "test_size = 3\n",
    "\n",
    "sample_names = set()\n",
    "for name in os.listdir(path_to_data):\n",
    "    if not os.path.isfile(f\"{path_to_data}/{name}\"):\n",
    "        sample_names = sample_names.union([name,])\n",
    "\n",
    "\n",
    "def get_test_train_samples(sample_names, n_test):\n",
    "    to_test = random.sample(sample_names, k=n_test)\n",
    "    to_train = list(sample_names.difference(to_test))\n",
    "    return(to_train, to_test)\n",
    "\n",
    "\n",
    "testing_info_dict = {}\n",
    "\n",
    "for i in range(N_tests):\n",
    "    to_train, to_test = get_test_train_samples(sample_names, test_size)\n",
    "    testing_info_dict.update({f\"test{i+1}\" : {'train' : to_train,\n",
    "                                              'test' : to_test}})\n",
    "\n",
    "testing_info_dict"
   ]
  },
  {
   "cell_type": "code",
   "execution_count": 73,
   "id": "040162a6-1a3f-444a-893d-9a4bc33ed9e5",
   "metadata": {},
   "outputs": [],
   "source": [
    "fp2 = open(f\"{path_to_data}/testing_info.json\", 'w')\n",
    "json.dump(testing_info_dict, sort_keys=True, indent=4, fp=fp2)\n",
    "fp2.close()"
   ]
  },
  {
   "cell_type": "code",
   "execution_count": 72,
   "id": "4d9a8df3-5548-42fe-9d71-0d3fecd3b7c7",
   "metadata": {
    "tags": []
   },
   "outputs": [],
   "source": [
    "path_to_processed_data = '/home/msst/Documents/medtech/data/HessData_IXI/DATA/processed'\n",
    "path_to_datasets = '/home/msst/Documents/medtech/data/HessData_IXI_test'\n",
    "\n",
    "if os.path.exists(path_to_datasets):\n",
    "    shutil.rmtree(path_to_datasets)\n",
    "    \n",
    "if not os.path.exists(path_to_datasets):\n",
    "    os.mkdir(path_to_datasets)\n",
    "\n",
    "for test_key in testing_info_dict:\n",
    "    path_to_set = path_to_datasets+'/'+test_key\n",
    "    \n",
    "    if not os.path.exists(path_to_set):\n",
    "        os.mkdir(path_to_set)\n",
    "        os.mkdir(path_to_set+\"/train\")\n",
    "        os.mkdir(path_to_set+\"/test\")\n",
    "        \n",
    "    \n",
    "    for name in testing_info_dict[test_key]['train']:\n",
    "        for tree in get_path(path_to_processed_data, name):\n",
    "            p = f\"{path_to_set}/train/{os.path.basename(tree)}\"\n",
    "            if not os.path.exists(p):\n",
    "                os.mkdir(p)\n",
    "            copy_tree(tree, p)\n",
    "\n",
    "    for name in testing_info_dict[test_key]['test']:\n",
    "        for tree in get_path(path_to_processed_data, name):\n",
    "            p = f\"{path_to_set}/test/{os.path.basename(tree)}\"\n",
    "            if p[-1]=='0':\n",
    "                if not os.path.exists(p):\n",
    "                    os.mkdir(p)\n",
    "                copy_tree(tree, p)\n",
    "    "
   ]
  },
  {
   "cell_type": "code",
   "execution_count": null,
   "id": "cef6e627-d822-4b88-9509-c935df969df9",
   "metadata": {},
   "outputs": [],
   "source": []
  }
 ],
 "metadata": {
  "kernelspec": {
   "display_name": "Python 3",
   "language": "python",
   "name": "python3"
  },
  "language_info": {
   "codemirror_mode": {
    "name": "ipython",
    "version": 3
   },
   "file_extension": ".py",
   "mimetype": "text/x-python",
   "name": "python",
   "nbconvert_exporter": "python",
   "pygments_lexer": "ipython3",
   "version": "3.8.10"
  }
 },
 "nbformat": 4,
 "nbformat_minor": 5
}
