{
 "cells": [
  {
   "cell_type": "code",
   "execution_count": 68,
   "id": "09db54b7-b53b-44be-931f-3892874676c6",
   "metadata": {
    "tags": []
   },
   "outputs": [],
   "source": [
    "import os\n",
    "import numpy\n",
    "import random\n",
    "import json\n",
    "from distutils.dir_util import copy_tree\n",
    "import shutil\n",
    "import time\n",
    "\n",
    "import sys, os\n",
    "sys.path.append(os.path.dirname('../.'))\n",
    "from scripts.utils import get_path"
   ]
  },
  {
   "cell_type": "code",
   "execution_count": 69,
   "id": "118128d5-0428-4cb1-a079-58f8f452377f",
   "metadata": {
    "tags": []
   },
   "outputs": [
    {
     "data": {
      "text/plain": [
       "{'IXI020',\n",
       " 'IXI052',\n",
       " 'IXI057',\n",
       " 'IXI077',\n",
       " 'IXI100',\n",
       " 'IXI111',\n",
       " 'IXI115',\n",
       " 'IXI131',\n",
       " 'IXI137'}"
      ]
     },
     "execution_count": 69,
     "metadata": {},
     "output_type": "execute_result"
    }
   ],
   "source": []
  },
  {
   "cell_type": "code",
   "execution_count": 71,
   "id": "2c50a665-e783-4a46-85ac-1404da596753",
   "metadata": {
    "tags": []
   },
   "outputs": [
    {
     "data": {
      "text/plain": [
       "{'test1': {'train': ['IXI131',\n",
       "   'IXI100',\n",
       "   'IXI057',\n",
       "   'IXI052',\n",
       "   'IXI137',\n",
       "   'IXI020'],\n",
       "  'test': ['IXI111', 'IXI115', 'IXI077']},\n",
       " 'test2': {'train': ['IXI131',\n",
       "   'IXI115',\n",
       "   'IXI057',\n",
       "   'IXI077',\n",
       "   'IXI052',\n",
       "   'IXI137'],\n",
       "  'test': ['IXI100', 'IXI111', 'IXI020']}}"
      ]
     },
     "execution_count": 71,
     "metadata": {},
     "output_type": "execute_result"
    }
   ],
   "source": [
    "path_to_data = '/home/msst/Documents/medtech/data/Inference_IXI'\n",
    "N_tests = 2\n",
    "test_size = 3\n",
    "\n",
    "sample_names = set()\n",
    "for name in os.listdir(path_to_data):\n",
    "    if not os.path.isfile(f\"{path_to_data}/{name}\"):\n",
    "        sample_names = sample_names.union([name,])\n",
    "\n",
    "\n",
    "def get_test_train_samples(sample_names, n_test):\n",
    "    to_test = random.sample(sample_names, k=n_test)\n",
    "    to_train = list(sample_names.difference(to_test))\n",
    "    return(to_train, to_test)\n",
    "\n",
    "\n",
    "testing_info_dict = {}\n",
    "\n",
    "for i in range(N_tests):\n",
    "    to_train, to_test = get_test_train_samples(sample_names, test_size)\n",
    "    testing_info_dict.update({f\"test{i+1}\" : {'train' : to_train,\n",
    "                                              'test' : to_test}})\n",
    "\n",
    "testing_info_dict"
   ]
  },
  {
   "cell_type": "code",
   "execution_count": 23,
   "id": "040162a6-1a3f-444a-893d-9a4bc33ed9e5",
   "metadata": {},
   "outputs": [],
   "source": [
    "#fp2 = open(f\"{path_to_data}/testing_info.json\", 'w')\n",
    "#json.dump(testing_info_dict, sort_keys=True, indent=4, fp=fp2)\n",
    "#fp2.close()"
   ]
  },
  {
   "cell_type": "code",
   "execution_count": 72,
   "id": "4d9a8df3-5548-42fe-9d71-0d3fecd3b7c7",
   "metadata": {
    "tags": []
   },
   "outputs": [],
   "source": [
    "path_to_processed_data = '/home/msst/Documents/medtech/data/HessData_IXI/DATA/processed'\n",
    "path_to_datasets = '/home/msst/Documents/medtech/data/HessData_IXI_test'\n",
    "\n",
    "if os.path.exists(path_to_datasets):\n",
    "    shutil.rmtree(path_to_datasets)\n",
    "    \n",
    "if not os.path.exists(path_to_datasets):\n",
    "    os.mkdir(path_to_datasets)\n",
    "\n",
    "for test_key in testing_info_dict:\n",
    "    path_to_set = path_to_datasets+'/'+test_key\n",
    "    \n",
    "    if not os.path.exists(path_to_set):\n",
    "        os.mkdir(path_to_set)\n",
    "        os.mkdir(path_to_set+\"/train\")\n",
    "        os.mkdir(path_to_set+\"/test\")\n",
    "        \n",
    "    \n",
    "    for name in testing_info_dict[test_key]['train']:\n",
    "        for tree in get_path(path_to_processed_data, name):\n",
    "            p = f\"{path_to_set}/train/{os.path.basename(tree)}\"\n",
    "            if not os.path.exists(p):\n",
    "                os.mkdir(p)\n",
    "            copy_tree(tree, p)\n",
    "\n",
    "    for name in testing_info_dict[test_key]['test']:\n",
    "        for tree in get_path(path_to_processed_data, name):\n",
    "            p = f\"{path_to_set}/test/{os.path.basename(tree)}\"\n",
    "            if p[-1]=='0':\n",
    "                if not os.path.exists(p):\n",
    "                    os.mkdir(p)\n",
    "                copy_tree(tree, p)\n",
    "    "
   ]
  },
  {
   "cell_type": "code",
   "execution_count": null,
   "id": "cef6e627-d822-4b88-9509-c935df969df9",
   "metadata": {},
   "outputs": [],
   "source": []
  }
 ],
 "metadata": {
  "kernelspec": {
   "display_name": "Python 3",
   "language": "python",
   "name": "python3"
  },
  "language_info": {
   "codemirror_mode": {
    "name": "ipython",
    "version": 3
   },
   "file_extension": ".py",
   "mimetype": "text/x-python",
   "name": "python",
   "nbconvert_exporter": "python",
   "pygments_lexer": "ipython3",
   "version": "3.8.10"
  }
 },
 "nbformat": 4,
 "nbformat_minor": 5
}
