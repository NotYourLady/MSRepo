{
 "cells": [
  {
   "cell_type": "code",
   "execution_count": 3,
   "metadata": {
    "tags": []
   },
   "outputs": [],
   "source": [
    "import numpy as np\n",
    "import nibabel as nib\n",
    "import matplotlib.pyplot as plt\n",
    "from tqdm import tqdm"
   ]
  },
  {
   "cell_type": "code",
   "execution_count": 5,
   "metadata": {},
   "outputs": [],
   "source": [
    "def show_slices(slices):\n",
    "    \"\"\" Function to display row of image slices \"\"\"\n",
    "    fig, axes = plt.subplots(1, len(slices))\n",
    "    for i, slice in enumerate(slices):\n",
    "        axes[i].imshow(slice.T, cmap=\"gray\", origin=\"lower\")"
   ]
  },
  {
   "cell_type": "code",
   "execution_count": 36,
   "metadata": {
    "tags": []
   },
   "outputs": [],
   "source": [
    "def MatrixError_(img1, img2):\n",
    "    # img1 -- predicted data\n",
    "    # img2 -- true data\n",
    "\n",
    "    cnt_m = np.zeros((101, 2, 2), dtype=int)\n",
    "    for i in tqdm(range(img1.shape[0])):\n",
    "        for j in range(img1.shape[1]):\n",
    "            for k in range(img1.shape[2]):\n",
    "                threshold = int(100*img1[i][j][k])\n",
    "                if img2[i][j][k] == 0:\n",
    "                    cnt_m[threshold:, 1, 1] += 1  # TN\n",
    "                    cnt_m[:threshold, 0, 1] += 1  # FP\n",
    "                if img2[i][j][k] == 1:\n",
    "                    cnt_m[threshold:, 1, 0] += 1  # FN\n",
    "                    cnt_m[:threshold, 0, 0] += 1  # TP\n",
    "\n",
    "                # if img1[i][j][k] == 1 and img2[i][j][k] == 1: # TP\n",
    "                #     cnt_m[0][0] = cnt_m[0][0] + 1\n",
    "                # if img1[i][j][k] == 1 and img2[i][j][k] == 0: # FP\n",
    "                #     cnt_m[0][1] = cnt_m[0][1] + 1\n",
    "                # if img1[i][j][k] == 0 and img2[i][j][k] == 1: # FN\n",
    "                #     cnt_m[1][0] = cnt_m[1][0] + 1\n",
    "                # if img1[i][j][k] == 0 and img2[i][j][k] == 0: # TN\n",
    "                #     cnt_m[1][1] = cnt_m[1][1] + 1\n",
    "    return cnt_m"
   ]
  },
  {
   "cell_type": "code",
   "execution_count": 37,
   "metadata": {
    "tags": []
   },
   "outputs": [],
   "source": [
    "def MatrixError(img1, img2):\n",
    "    # img1 -- predicted data\n",
    "    # img2 -- true data\n",
    "    img2 = (img2*1).astype(bool)\n",
    "    cnt_m = np.zeros((101, 2, 2), dtype=int)\n",
    "    \n",
    "    for idx, T in enumerate(np.linspace(0, 1, 101)):\n",
    "        TP_count = ((img1>=T)*img2).sum()\n",
    "        TN_count = ((img1<=T)*~img2).sum()\n",
    "\n",
    "        FP_count = ((img1>=T)*~img2).sum()\n",
    "        FN_count = ((img1<=T)*img2).sum()\n",
    "        \n",
    "        cnt_m[idx, 1, 1] = FN_count\n",
    "        cnt_m[idx, 0, 1] = FP_count\n",
    "        cnt_m[idx, 1, 0] = FN_count\n",
    "        cnt_m[idx, 0, 0] = TP_count\n",
    "    return cnt_m"
   ]
  },
  {
   "cell_type": "code",
   "execution_count": 48,
   "metadata": {
    "tags": []
   },
   "outputs": [],
   "source": [
    "gt = np.array([[[1, 0, 1, 0, 1]]]).astype(bool)\n",
    "a = np.array([[[0.75, 0.1, 0.95, 0.05, 1]]])"
   ]
  },
  {
   "cell_type": "code",
   "execution_count": 49,
   "metadata": {
    "tags": []
   },
   "outputs": [
    {
     "name": "stderr",
     "output_type": "stream",
     "text": [
      "100%|██████████████████████████████████████████| 1/1 [00:00<00:00, 15420.24it/s]\n"
     ]
    }
   ],
   "source": [
    "out1 = MatrixError(a, gt)\n",
    "out2 = MatrixError_(a, gt)\n"
   ]
  },
  {
   "cell_type": "code",
   "execution_count": 50,
   "metadata": {
    "tags": []
   },
   "outputs": [
    {
     "name": "stdout",
     "output_type": "stream",
     "text": [
      "160.0\n"
     ]
    }
   ],
   "source": [
    "print((((out1-out2)**2)**0.5).sum())"
   ]
  },
  {
   "cell_type": "code",
   "execution_count": 11,
   "metadata": {},
   "outputs": [],
   "source": [
    "def AUC(x, y):\n",
    "    s = 0\n",
    "    for i in range(1, x.shape[0]):\n",
    "        s += (x[i] - x[i-1]) * (y[i] + y[i-1]) / 2\n",
    "    return s"
   ]
  },
  {
   "cell_type": "code",
   "execution_count": 7,
   "metadata": {},
   "outputs": [
    {
     "name": "stdout",
     "output_type": "stream",
     "text": [
      "(512, 512, 100)\n",
      "(512, 512, 100)\n"
     ]
    }
   ],
   "source": [
    "# Download filter data:\n",
    "img_filter = nib.load('C:/Users/nicit/OneDrive/Рабочий стол/IXI/IXI131/nn_out_19_09_2023_09_30.nii.gz')\n",
    "img_filter = img_filter.get_fdata()\n",
    "print(img_filter.shape)\n",
    "\n",
    "# Download true data:\n",
    "img_true = nib.load('C:/Users/nicit/OneDrive/Рабочий стол/Segmentation/Result/131/nn_out_19_09_2023_09_30_Segmentation-Segment_1-label.nii.gz')\n",
    "img_true = img_true.get_fdata()\n",
    "print(img_true.shape)"
   ]
  },
  {
   "cell_type": "code",
   "execution_count": 8,
   "metadata": {},
   "outputs": [
    {
     "name": "stderr",
     "output_type": "stream",
     "text": [
      "100%|██████████| 512/512 [04:36<00:00,  1.85it/s]\n"
     ]
    }
   ],
   "source": [
    "tmp_matrix = MatrixError(img_filter, img_true)"
   ]
  },
  {
   "cell_type": "code",
   "execution_count": 23,
   "metadata": {},
   "outputs": [],
   "source": [
    "ROC = np.array([tmp_matrix[:, 0, 1] / (tmp_matrix[:, 1, 1] + tmp_matrix[:, 0, 1]), tmp_matrix[:, 0, 0] / (tmp_matrix[:, 0, 0] + tmp_matrix[:, 1, 0])])"
   ]
  },
  {
   "cell_type": "code",
   "execution_count": 26,
   "metadata": {},
   "outputs": [],
   "source": [
    "ROC = np.hstack((np.array([[1], [1]]), ROC))"
   ]
  },
  {
   "cell_type": "code",
   "execution_count": 31,
   "metadata": {},
   "outputs": [
    {
     "data": {
      "text/plain": [
       "[<matplotlib.lines.Line2D at 0x255187932d0>]"
      ]
     },
     "execution_count": 31,
     "metadata": {},
     "output_type": "execute_result"
    },
    {
     "data": {
      "image/png": "[encoded data removed]",
      "text/plain": [
       "<Figure size 640x480 with 1 Axes>"
      ]
     },
     "metadata": {},
     "output_type": "display_data"
    }
   ],
   "source": [
    "plt.plot(ROC[0, :], ROC[1, :])"
   ]
  },
  {
   "cell_type": "code",
   "execution_count": 32,
   "metadata": {},
   "outputs": [
    {
     "data": {
      "text/plain": [
       "0.9930450692217901"
      ]
     },
     "execution_count": 32,
     "metadata": {},
     "output_type": "execute_result"
    }
   ],
   "source": [
    "AUC(ROC[0, ::-1], ROC[1, ::-1])"
   ]
  },
  {
   "cell_type": "code",
   "execution_count": null,
   "metadata": {},
   "outputs": [],
   "source": []
  }
 ],
 "metadata": {
  "kernelspec": {
   "display_name": "Python 3",
   "language": "python",
   "name": "python3"
  },
  "language_info": {
   "codemirror_mode": {
    "name": "ipython",
    "version": 3
   },
   "file_extension": ".py",
   "mimetype": "text/x-python",
   "name": "python",
   "nbconvert_exporter": "python",
   "pygments_lexer": "ipython3",
   "version": "3.8.10"
  }
 },
 "nbformat": 4,
 "nbformat_minor": 4
}
