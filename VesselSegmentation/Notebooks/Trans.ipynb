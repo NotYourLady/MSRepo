{
 "cells": [
  {
   "cell_type": "code",
   "execution_count": 3,
   "id": "e0659c1d-cdb0-44d5-90b7-b9777ad166e6",
   "metadata": {},
   "outputs": [
    {
     "name": "stdout",
     "output_type": "stream",
     "text": [
      "The autoreload extension is already loaded. To reload it, use:\n",
      "  %reload_ext autoreload\n"
     ]
    }
   ],
   "source": [
    "%load_ext autoreload\n",
    "%autoreload 2\n",
    "\n",
    "import torch\n",
    "import torch.nn as nn\n",
    "import sys, os\n",
    "sys.path.append(os.path.dirname('../ml/transformers/.'))\n",
    "from BaseDecodeHead import BaseDecodeHead\n",
    "from SegFormerHead import SegFormerHead\n",
    "from MixTransformer import MixVisionTransformer, MixVisionTransformer_short\n",
    "from OutputResizeHead import OutputResizeHead\n",
    "\n",
    "sys.path.append(os.path.dirname('../ml/.'))\n",
    "from utils import get_total_params"
   ]
  },
  {
   "cell_type": "code",
   "execution_count": 11,
   "id": "0ea5eec6-d06e-48bd-a0af-74b64b27ddb6",
   "metadata": {},
   "outputs": [],
   "source": [
    "DEVICE = 'cuda'\n",
    "BATCH_SIZE = 16\n",
    "IMG_SIZE = 3*(32,)"
   ]
  },
  {
   "cell_type": "code",
   "execution_count": 8,
   "id": "812e3bce-64f3-40d9-8b60-41e103298055",
   "metadata": {},
   "outputs": [],
   "source": [
    "encoder_cfg = {\n",
    "    'img_size' : IMG_SIZE,\n",
    "    'patch_sizes' : [5, 3],\n",
    "    'patch_strides' : [1, 2],\n",
    "    'in_channels' : 1,\n",
    "    'embedding_dims' : [32, 64],\n",
    "    'num_heads' : [4, 4],\n",
    "    'mlp_ratios' : [2, 2],\n",
    "    'depths' : [4, 4],\n",
    "    'sr_ratios' : [8, 2],\n",
    "    'qkv_bias' : True,\n",
    "    'qk_scale' : None,\n",
    "}\n",
    "\n",
    "encoder = MixVisionTransformer_short(encoder_cfg)\n",
    "\n",
    "decoder = SegFormerHead(embedding_dim = 128,\n",
    "                        in_channels=[32, 64],\n",
    "                        num_classes=8,\n",
    "                        dropout_ratio=0.1,\n",
    "                        conv_cfg=None,\n",
    "                        norm_cfg=None,\n",
    "                        act_cfg=dict(type='ReLU'),\n",
    "                        in_index=[0, 1],\n",
    "                        decoder_params=None,\n",
    "                        align_corners=False)\n",
    "\n",
    "auxiliary_head = OutputResizeHead(in_channels=8, out_channels=1, out_size=IMG_SIZE, mode='upsample')"
   ]
  },
  {
   "cell_type": "code",
   "execution_count": 9,
   "id": "42c1afc0-c1c3-4811-8fcb-eee1856eba05",
   "metadata": {},
   "outputs": [
    {
     "name": "stdout",
     "output_type": "stream",
     "text": [
      "total_params: 2525473\n",
      "torch.Size([1, 1, 32, 32, 32])\n"
     ]
    }
   ],
   "source": [
    "model = nn.Sequential(\n",
    "    encoder,\n",
    "    decoder,\n",
    "    auxiliary_head                   \n",
    ")\n",
    "\n",
    "print(\"total_params:\", get_total_params(model))\n",
    "\n",
    "x = torch.randn(1, 1, 64, 64, 64)\n",
    "out = model(x)\n",
    "print(out.shape)"
   ]
  },
  {
   "cell_type": "code",
   "execution_count": 12,
   "id": "36dc09e4-64b4-4c82-a53d-7c07c68150d2",
   "metadata": {},
   "outputs": [],
   "source": [
    "from torch.optim import Adam\n",
    "from torch.nn import MSELoss\n",
    "\n",
    "model = model.to(DEVICE)\n",
    "loss_fn = MSELoss()\n",
    "optim = Adam(model.parameters())\n",
    "\n",
    "for i in range(10):\n",
    "    input = torch.randn(BATCH_SIZE, 1, *IMG_SIZE).to(DEVICE)\n",
    "    GT = torch.randn(BATCH_SIZE, 1, *IMG_SIZE).to(DEVICE)\n",
    "    output = model.forward(input)   \n",
    "    \n",
    "    loss = loss_fn(GT, output)\n",
    "    optim.zero_grad()\n",
    "    loss.backward()\n",
    "        \n",
    "    optim.step()\n",
    "    loss_val = loss.item()"
   ]
  },
  {
   "cell_type": "code",
   "execution_count": null,
   "id": "422ecd80-5e3c-4e30-96eb-2fd5ad452a13",
   "metadata": {},
   "outputs": [],
   "source": []
  },
  {
   "cell_type": "code",
   "execution_count": null,
   "id": "fef2667c-bb6e-44da-9b45-81b53379c73a",
   "metadata": {},
   "outputs": [],
   "source": []
  }
 ],
 "metadata": {
  "kernelspec": {
   "display_name": "segenv",
   "language": "python",
   "name": "segenv"
  },
  "language_info": {
   "codemirror_mode": {
    "name": "ipython",
    "version": 3
   },
   "file_extension": ".py",
   "mimetype": "text/x-python",
   "name": "python",
   "nbconvert_exporter": "python",
   "pygments_lexer": "ipython3",
   "version": "3.10.13"
  }
 },
 "nbformat": 4,
 "nbformat_minor": 5
}
