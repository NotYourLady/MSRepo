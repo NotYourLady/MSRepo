{
 "cells": [
  {
   "cell_type": "code",
   "execution_count": 2,
   "id": "f0ff981f-e422-4768-8c08-af201ecdf9b6",
   "metadata": {},
   "outputs": [],
   "source": [
    "import sys\n",
    "import os\n",
    "sys.path.append(os.path.dirname('../.'))\n",
    "sys.path.append(os.path.dirname('../ml/.'))\n",
    "\n",
    "from scripts.hessian_based import hessian_detect_2016\n",
    "from scripts.utils import get_path\n",
    "from ml.metrics import DICE_Metric\n",
    "\n",
    "from tqdm import tqdm\n",
    "import numpy as np\n",
    "import torch\n",
    "import torchio as tio\n",
    "import matplotlib.pyplot as plt"
   ]
  },
  {
   "cell_type": "code",
   "execution_count": 3,
   "id": "111c68e4-b9a4-4934-ade9-6da95eb29ee2",
   "metadata": {},
   "outputs": [],
   "source": [
    "def print_img(vol, axis, slice_=None, title= 'title', cmap='hot'):\n",
    "    axis.set_title(title)\n",
    "    im = axis.imshow(vol[:, :, slice_], cmap=cmap)\n",
    "    plt.colorbar(im)"
   ]
  },
  {
   "cell_type": "code",
   "execution_count": 4,
   "id": "70f80fe0-b4f6-49ca-be32-d95cdd12a0f9",
   "metadata": {},
   "outputs": [],
   "source": [
    "def segment(sample_index):\n",
    "    try:\n",
    "        path_to_head = get_path(f\"/home/msst/IXI_MRA_work/IXI{sample_index}\", key=\"head\")\n",
    "        head = tio.ScalarImage(path_to_head).data[0].numpy()\n",
    "\n",
    "        hd2016_outs = []\n",
    "        sigmas = [0.5, 1, 2]\n",
    "        for s in sigmas:\n",
    "            hd2016_outs.append(hessian_detect_2016(head, sigma=s, tau=0.5))\n",
    "        \n",
    "        seg = np.max(np.array(hd2016_outs), axis=0)\n",
    "        return({sample_index : seg})\n",
    "    except:\n",
    "        print(f\"bad {sample_index}!\")\n",
    "        return({sample_index : None})\n",
    "\n",
    "def print_img(vol, axis, slice_=None, title= 'title', cmap='hot'):\n",
    "    axis.set_title(title)\n",
    "    im = axis.imshow(vol[:, :, slice_], cmap=cmap)\n",
    "    plt.colorbar(im)"
   ]
  },
  {
   "cell_type": "code",
   "execution_count": 5,
   "id": "60ea82d4-1111-46a0-af82-85e22c505195",
   "metadata": {
    "collapsed": true,
    "jupyter": {
     "outputs_hidden": true
    }
   },
   "outputs": [
    {
     "name": "stderr",
     "output_type": "stream",
     "text": [
      "  0%|                                                     | 0/9 [00:00<?, ?it/s]/home/msst/repo/MSRepo/VesselSegmentation/Notebooks/../scripts/hessian_based.py:49: RuntimeWarning: divide by zero encountered in divide\n",
      "  out = np.where((l_2 > 0)*(l_rho > 0), (l_2**2) * (l_rho - l_2) * (27.0/((l_2+l_rho)**3)), 0)\n",
      "/home/msst/repo/MSRepo/VesselSegmentation/Notebooks/../scripts/hessian_based.py:49: RuntimeWarning: invalid value encountered in multiply\n",
      "  out = np.where((l_2 > 0)*(l_rho > 0), (l_2**2) * (l_rho - l_2) * (27.0/((l_2+l_rho)**3)), 0)\n",
      " 33%|███████████████                              | 3/9 [01:58<03:57, 39.63s/it]/home/msst/repo/MSRepo/VesselSegmentation/Notebooks/../scripts/hessian_based.py:49: RuntimeWarning: overflow encountered in divide\n",
      "  out = np.where((l_2 > 0)*(l_rho > 0), (l_2**2) * (l_rho - l_2) * (27.0/((l_2+l_rho)**3)), 0)\n",
      "100%|█████████████████████████████████████████████| 9/9 [05:56<00:00, 39.60s/it]\n"
     ]
    }
   ],
   "source": [
    "sample_indexes = (\"080\", '083', '052',\n",
    "                  '020', '115', '077',\n",
    "                  '057', '100', '111')\n",
    "outs = []\n",
    "for sample_index in tqdm(sample_indexes):\n",
    "    outs.append(segment(sample_index))"
   ]
  },
  {
   "cell_type": "code",
   "execution_count": 8,
   "id": "724e0aa5-e037-498d-b6b7-3b6d6a0ff292",
   "metadata": {},
   "outputs": [],
   "source": [
    "outs_dict = {}\n",
    "for out in outs:\n",
    "    outs_dict.update(out)"
   ]
  },
  {
   "cell_type": "code",
   "execution_count": 95,
   "id": "db313a16-1024-432e-accd-f1ef194d9ec8",
   "metadata": {},
   "outputs": [],
   "source": [
    "def get_score(outs_dict, sample_index, thres=0.5):\n",
    "    seg = outs_dict[sample_index]>thres\n",
    "    seg = torch.tensor(seg).unsqueeze(0).unsqueeze(0)\n",
    "    path_to_gt = get_path(f\"/home/msst/IXI_MRA_work/IXI{sample_index}\", key=\"vessels\")\n",
    "    gt = tio.ScalarImage(path_to_gt).data.unsqueeze(0)\n",
    "\n",
    "    path_to_mask = get_path(f\"/home/msst/IXI_MRA_work/IXI{sample_index}\", key=\"brain\")\n",
    "    mask = tio.ScalarImage(path_to_mask).data.unsqueeze(0)\n",
    "\n",
    "    m = DICE_Metric()\n",
    "    return (m(seg, gt), m(seg*mask, gt*mask))"
   ]
  },
  {
   "cell_type": "code",
   "execution_count": 96,
   "id": "015477d5-e71a-4f15-a2bb-890d0c93950b",
   "metadata": {},
   "outputs": [
    {
     "name": "stderr",
     "output_type": "stream",
     "text": [
      "100%|█████████████████████████████████████████████| 6/6 [00:01<00:00,  3.39it/s]\n"
     ]
    },
    {
     "name": "stdout",
     "output_type": "stream",
     "text": [
      "mean score train: tensor([0.6213])\n",
      "mean score masked train: tensor([0.7530])\n"
     ]
    },
    {
     "name": "stderr",
     "output_type": "stream",
     "text": [
      "100%|█████████████████████████████████████████████| 3/3 [00:00<00:00,  3.79it/s]"
     ]
    },
    {
     "name": "stdout",
     "output_type": "stream",
     "text": [
      "mean score test: tensor([0.6761])\n",
      "mean score masked test: tensor([0.7953])\n"
     ]
    },
    {
     "name": "stderr",
     "output_type": "stream",
     "text": [
      "\n"
     ]
    }
   ],
   "source": [
    "thres = 0.23\n",
    "\n",
    "score = 0\n",
    "score_mask = 0\n",
    "train_len = 6\n",
    "test_len = len(sample_indexes) - train_len\n",
    "\n",
    "for sample_index in tqdm(sample_indexes[:train_len]):\n",
    "    s, s_mask = get_score(outs_dict, sample_index, thres=thres)\n",
    "    score += s\n",
    "    score_mask += s_mask\n",
    "    \n",
    "score/=train_len\n",
    "score_mask/=train_len\n",
    "\n",
    "print(\"mean score train:\", score)\n",
    "print(\"mean score masked train:\", score_mask)\n",
    "\n",
    "score = 0\n",
    "score_mask = 0\n",
    "for sample_index in tqdm(sample_indexes[train_len:]):\n",
    "    s, s_mask = get_score(outs_dict, sample_index, thres=thres)\n",
    "    score += s\n",
    "    score_mask += s_mask\n",
    "    \n",
    "score/=test_len\n",
    "score_mask/=test_len\n",
    "\n",
    "print(\"mean score test:\", score)\n",
    "print(\"mean score masked test:\", score_mask)"
   ]
  },
  {
   "cell_type": "code",
   "execution_count": 49,
   "id": "ff4279e0-4aa5-479b-af49-63ae52b37bc1",
   "metadata": {},
   "outputs": [
    {
     "ename": "NameError",
     "evalue": "name 'Sample' is not defined",
     "output_type": "error",
     "traceback": [
      "\u001b[0;31m---------------------------------------------------------------------------\u001b[0m",
      "\u001b[0;31mNameError\u001b[0m                                 Traceback (most recent call last)",
      "Cell \u001b[0;32mIn[49], line 1\u001b[0m\n\u001b[0;32m----> 1\u001b[0m \u001b[38;5;28;01mdef\u001b[39;00m \u001b[38;5;21mget_metrics\u001b[39m(\u001b[38;5;28mself\u001b[39m, sample: \u001b[43mSample\u001b[49m, metrics, for_masked, save\u001b[38;5;241m=\u001b[39m\u001b[38;5;28;01mFalse\u001b[39;00m):\n\u001b[1;32m      2\u001b[0m     metric_dict \u001b[38;5;241m=\u001b[39m {}\n\u001b[1;32m      3\u001b[0m     \u001b[38;5;28;01mif\u001b[39;00m for_masked:\n",
      "\u001b[0;31mNameError\u001b[0m: name 'Sample' is not defined"
     ]
    }
   ],
   "source": [
    "tmp_path = \"/home/msst/tmp\"\n",
    "path_to_EvaluateSegmentation : \"/home/msst/repo/MSRepo/VesselSegmentation/Inference/EvaluateSegmentation\"\n",
    "\n",
    "def get_metrics(outs_dict, sample_index, thres=0.5):\n",
    "    seg = outs_dict[sample_index]>thres\n",
    "    seg = torch.tensor(seg).unsqueeze(0).unsqueeze(0)\n",
    "    path_to_save_seg = f\"{tmp_path}/{sample_index}_seg.nii.gz\"\n",
    "    save_vol_as_nii(seg, subject.head.affine, path_to_save)\n",
    "\n",
    "    path_to_gt = get_path(f\"/home/msst/IXI_MRA_work/IXI{sample_index}\", key=\"vessels\")\n",
    "    gt = tio.ScalarImage(path_to_gt).data.unsqueeze(0)\n",
    "\n",
    "    path_to_mask = get_path(f\"/home/msst/IXI_MRA_work/IXI{sample_index}\", key=\"brain\")\n",
    "    mask = tio.ScalarImage(path_to_mask).data.unsqueeze(0)\n",
    "    \n",
    "\n",
    "    gt_masked = gt*mask\n",
    "    seg_masked = seg*mask\n",
    "    \n",
    "    \n",
    "    # command_output = subprocess.run([f\"{self.settings['path_to_EvaluateSegmentation']}\",\n",
    "    #                              GT_path, SEG_path], stdout=subprocess.PIPE, text=True)\n",
    "    \n",
    "    # if save:\n",
    "    #     if for_masked:\n",
    "    #         text_file = open(f\"{sample.path_to_sample_dir}/metrics_masked.txt\", \"w\")\n",
    "    #     else:\n",
    "    #         text_file = open(f\"{sample.path_to_sample_dir}/metrics.txt\", \"w\")\n",
    "    #     text_file.write(command_output.stdout)\n",
    "    #     text_file.close()\n",
    "    \n",
    "    # command_output = command_output.stdout.split('\\n')\n",
    "    # for metric in metrics:\n",
    "    #     for line in command_output:\n",
    "    #         if re.search(metric, line):\n",
    "    #             metric_dict.update({metric : line.split('\\t')[1][2:]})\n",
    "    \n",
    "    return(metric_dict)"
   ]
  },
  {
   "cell_type": "code",
   "execution_count": null,
   "id": "fdb8e121-439b-420b-a39e-39ea24042e1a",
   "metadata": {},
   "outputs": [],
   "source": []
  }
 ],
 "metadata": {
  "kernelspec": {
   "display_name": "Python 3 (ipykernel)",
   "language": "python",
   "name": "python3"
  },
  "language_info": {
   "codemirror_mode": {
    "name": "ipython",
    "version": 3
   },
   "file_extension": ".py",
   "mimetype": "text/x-python",
   "name": "python",
   "nbconvert_exporter": "python",
   "pygments_lexer": "ipython3",
   "version": "3.10.13"
  }
 },
 "nbformat": 4,
 "nbformat_minor": 5
}
