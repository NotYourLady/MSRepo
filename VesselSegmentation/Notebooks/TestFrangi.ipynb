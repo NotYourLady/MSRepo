{
 "cells": [
  {
   "cell_type": "code",
   "execution_count": 123,
   "id": "f0ff981f-e422-4768-8c08-af201ecdf9b6",
   "metadata": {},
   "outputs": [],
   "source": [
    "import sys\n",
    "import os\n",
    "sys.path.append(os.path.dirname('../.'))\n",
    "sys.path.append(os.path.dirname('../ml/.'))\n",
    "\n",
    "from scripts.hessian_based import hessian_detect_2016\n",
    "from scripts.utils import get_path\n",
    "from scripts.load_and_save import save_vol_as_nii\n",
    "from ml.metrics import DICE_Metric\n",
    "\n",
    "import re\n",
    "import subprocess\n",
    "from tqdm import tqdm\n",
    "import numpy as np\n",
    "import torch\n",
    "import torchio as tio\n",
    "import matplotlib.pyplot as plt"
   ]
  },
  {
   "cell_type": "code",
   "execution_count": 3,
   "id": "111c68e4-b9a4-4934-ade9-6da95eb29ee2",
   "metadata": {},
   "outputs": [],
   "source": [
    "def print_img(vol, axis, slice_=None, title= 'title', cmap='hot'):\n",
    "    axis.set_title(title)\n",
    "    im = axis.imshow(vol[:, :, slice_], cmap=cmap)\n",
    "    plt.colorbar(im)"
   ]
  },
  {
   "cell_type": "code",
   "execution_count": 4,
   "id": "70f80fe0-b4f6-49ca-be32-d95cdd12a0f9",
   "metadata": {},
   "outputs": [],
   "source": [
    "def segment(sample_index):\n",
    "    try:\n",
    "        path_to_head = get_path(f\"/home/msst/IXI_MRA_work/IXI{sample_index}\", key=\"head\")\n",
    "        head = tio.ScalarImage(path_to_head).data[0].numpy()\n",
    "\n",
    "        hd2016_outs = []\n",
    "        sigmas = [0.5, 1, 2]\n",
    "        for s in sigmas:\n",
    "            hd2016_outs.append(hessian_detect_2016(head, sigma=s, tau=0.5))\n",
    "        \n",
    "        seg = np.max(np.array(hd2016_outs), axis=0)\n",
    "        return({sample_index : seg})\n",
    "    except:\n",
    "        print(f\"bad {sample_index}!\")\n",
    "        return({sample_index : None})\n",
    "\n",
    "def print_img(vol, axis, slice_=None, title= 'title', cmap='hot'):\n",
    "    axis.set_title(title)\n",
    "    im = axis.imshow(vol[:, :, slice_], cmap=cmap)\n",
    "    plt.colorbar(im)"
   ]
  },
  {
   "cell_type": "code",
   "execution_count": 5,
   "id": "60ea82d4-1111-46a0-af82-85e22c505195",
   "metadata": {
    "collapsed": true,
    "jupyter": {
     "outputs_hidden": true
    }
   },
   "outputs": [
    {
     "name": "stderr",
     "output_type": "stream",
     "text": [
      "  0%|                                                     | 0/9 [00:00<?, ?it/s]/home/msst/repo/MSRepo/VesselSegmentation/Notebooks/../scripts/hessian_based.py:49: RuntimeWarning: divide by zero encountered in divide\n",
      "  out = np.where((l_2 > 0)*(l_rho > 0), (l_2**2) * (l_rho - l_2) * (27.0/((l_2+l_rho)**3)), 0)\n",
      "/home/msst/repo/MSRepo/VesselSegmentation/Notebooks/../scripts/hessian_based.py:49: RuntimeWarning: invalid value encountered in multiply\n",
      "  out = np.where((l_2 > 0)*(l_rho > 0), (l_2**2) * (l_rho - l_2) * (27.0/((l_2+l_rho)**3)), 0)\n",
      " 33%|███████████████                              | 3/9 [01:58<03:57, 39.63s/it]/home/msst/repo/MSRepo/VesselSegmentation/Notebooks/../scripts/hessian_based.py:49: RuntimeWarning: overflow encountered in divide\n",
      "  out = np.where((l_2 > 0)*(l_rho > 0), (l_2**2) * (l_rho - l_2) * (27.0/((l_2+l_rho)**3)), 0)\n",
      "100%|█████████████████████████████████████████████| 9/9 [05:56<00:00, 39.60s/it]\n"
     ]
    }
   ],
   "source": [
    "sample_indexes = (\"080\", '083', '052',\n",
    "                  '020', '115', '077',\n",
    "                  '057', '100', '111')\n",
    "outs = []\n",
    "for sample_index in tqdm(sample_indexes):\n",
    "    outs.append(segment(sample_index))"
   ]
  },
  {
   "cell_type": "code",
   "execution_count": 8,
   "id": "724e0aa5-e037-498d-b6b7-3b6d6a0ff292",
   "metadata": {},
   "outputs": [],
   "source": [
    "outs_dict = {}\n",
    "for out in outs:\n",
    "    outs_dict.update(out)"
   ]
  },
  {
   "cell_type": "code",
   "execution_count": 95,
   "id": "db313a16-1024-432e-accd-f1ef194d9ec8",
   "metadata": {},
   "outputs": [],
   "source": [
    "def get_score(outs_dict, sample_index, thres=0.5):\n",
    "    seg = outs_dict[sample_index]>thres\n",
    "    seg = torch.tensor(seg).unsqueeze(0).unsqueeze(0)\n",
    "    path_to_gt = get_path(f\"/home/msst/IXI_MRA_work/IXI{sample_index}\", key=\"vessels\")\n",
    "    gt = tio.ScalarImage(path_to_gt).data.unsqueeze(0)\n",
    "\n",
    "    path_to_mask = get_path(f\"/home/msst/IXI_MRA_work/IXI{sample_index}\", key=\"brain\")\n",
    "    mask = tio.ScalarImage(path_to_mask).data.unsqueeze(0)\n",
    "\n",
    "    m = DICE_Metric()\n",
    "    return (m(seg, gt), m(seg*mask, gt*mask))"
   ]
  },
  {
   "cell_type": "code",
   "execution_count": 96,
   "id": "015477d5-e71a-4f15-a2bb-890d0c93950b",
   "metadata": {},
   "outputs": [
    {
     "name": "stderr",
     "output_type": "stream",
     "text": [
      "100%|█████████████████████████████████████████████| 6/6 [00:01<00:00,  3.39it/s]\n"
     ]
    },
    {
     "name": "stdout",
     "output_type": "stream",
     "text": [
      "mean score train: tensor([0.6213])\n",
      "mean score masked train: tensor([0.7530])\n"
     ]
    },
    {
     "name": "stderr",
     "output_type": "stream",
     "text": [
      "100%|█████████████████████████████████████████████| 3/3 [00:00<00:00,  3.79it/s]"
     ]
    },
    {
     "name": "stdout",
     "output_type": "stream",
     "text": [
      "mean score test: tensor([0.6761])\n",
      "mean score masked test: tensor([0.7953])\n"
     ]
    },
    {
     "name": "stderr",
     "output_type": "stream",
     "text": [
      "\n"
     ]
    }
   ],
   "source": [
    "thres = 0.23\n",
    "\n",
    "score = 0\n",
    "score_mask = 0\n",
    "train_len = 6\n",
    "test_len = len(sample_indexes) - train_len\n",
    "\n",
    "for sample_index in tqdm(sample_indexes[:train_len]):\n",
    "    s, s_mask = get_score(outs_dict, sample_index, thres=thres)\n",
    "    score += s\n",
    "    score_mask += s_mask\n",
    "    \n",
    "score/=train_len\n",
    "score_mask/=train_len\n",
    "\n",
    "print(\"mean score train:\", score)\n",
    "print(\"mean score masked train:\", score_mask)\n",
    "\n",
    "score = 0\n",
    "score_mask = 0\n",
    "for sample_index in tqdm(sample_indexes[train_len:]):\n",
    "    s, s_mask = get_score(outs_dict, sample_index, thres=thres)\n",
    "    score += s\n",
    "    score_mask += s_mask\n",
    "    \n",
    "score/=test_len\n",
    "score_mask/=test_len\n",
    "\n",
    "print(\"mean score test:\", score)\n",
    "print(\"mean score masked test:\", score_mask)"
   ]
  },
  {
   "cell_type": "code",
   "execution_count": 144,
   "id": "ff4279e0-4aa5-479b-af49-63ae52b37bc1",
   "metadata": {},
   "outputs": [],
   "source": [
    "tmp_path = \"/home/msst/tmp\"\n",
    "path_to_EvaluateSegmentation = \"/home/msst/repo/MSRepo/VesselSegmentation/Inference/EvaluateSegmentation\"\n",
    "\n",
    "def get_metrics(outs_dict, sample_index, thres=0.5, metrics=[\"DICE\", \"AVGDIST\", \"SNSVTY\"]):\n",
    "    path_to_gt = get_path(f\"/home/msst/IXI_MRA_work/IXI{sample_index}\", key=\"vessels\")\n",
    "    gt_data = tio.ScalarImage(path_to_gt)\n",
    "    gt = gt_data.data\n",
    "    affine = gt_data.affine\n",
    "    \n",
    "    path_to_mask = get_path(f\"/home/msst/IXI_MRA_work/IXI{sample_index}\", key=\"brain\")\n",
    "    mask = tio.ScalarImage(path_to_mask).data\n",
    "\n",
    "    seg = outs_dict[sample_index]>thres\n",
    "    seg = torch.tensor(seg).unsqueeze(0)\n",
    "    \n",
    "    path_to_save_seg = f\"{tmp_path}/{sample_index}_seg.nii.gz\"\n",
    "    save_vol_as_nii(seg, affine, path_to_save_seg)\n",
    "    \n",
    "    seg_masked = seg*mask\n",
    "    path_to_save_seg_masked = f\"{tmp_path}/{sample_index}_seg_masked.nii.gz\"\n",
    "    save_vol_as_nii(seg_masked, affine, path_to_save_seg_masked)\n",
    "\n",
    "    gt_masked = gt*mask\n",
    "    path_to_save_gt_masked = f\"{tmp_path}/{sample_index}_gt_masked.nii.gz\"\n",
    "    save_vol_as_nii(gt_masked, affine, path_to_save_gt_masked)\n",
    "\n",
    "    \n",
    "    command_output = subprocess.run([f\"{path_to_EvaluateSegmentation}\",\n",
    "                                     path_to_gt, path_to_save_seg],\n",
    "                                    stdout=subprocess.PIPE, text=True)\n",
    "\n",
    "    command_output = command_output.stdout.split('\\n')\n",
    "    \n",
    "    metric_dict = {}\n",
    "    for metric in metrics:\n",
    "        for line in command_output:\n",
    "            if re.search(metric, line):\n",
    "                metric_dict.update({metric : float(line.split('\\t')[1][2:])})\n",
    "\n",
    "    command_output = subprocess.run([f\"{path_to_EvaluateSegmentation}\",\n",
    "                                     path_to_save_gt_masked, path_to_save_seg_masked],\n",
    "                                    stdout=subprocess.PIPE, text=True)\n",
    "\n",
    "    command_output = command_output.stdout.split('\\n')\n",
    "    \n",
    "    metric_dict_masked = {}\n",
    "    for metric in metrics:\n",
    "        for line in command_output:\n",
    "            if re.search(metric, line):\n",
    "                metric_dict_masked.update({metric : float(line.split('\\t')[1][2:])})\n",
    "    \n",
    "    return(metric_dict, metric_dict_masked)"
   ]
  },
  {
   "cell_type": "code",
   "execution_count": 145,
   "id": "fdb8e121-439b-420b-a39e-39ea24042e1a",
   "metadata": {},
   "outputs": [
    {
     "data": {
      "text/plain": [
       "({'DICE': 0.657152, 'AVGDIST': 4.027792, 'SNSVTY': 0.714153},\n",
       " {'DICE': 0.765552, 'AVGDIST': 0.568779, 'SNSVTY': 0.713741})"
      ]
     },
     "execution_count": 145,
     "metadata": {},
     "output_type": "execute_result"
    }
   ],
   "source": [
    "get_metrics(outs_dict, '080', thres=thres)"
   ]
  },
  {
   "cell_type": "code",
   "execution_count": 146,
   "id": "4987649d-d42d-4458-9eb3-7e97ac8e7f83",
   "metadata": {},
   "outputs": [
    {
     "name": "stderr",
     "output_type": "stream",
     "text": [
      "  0%|                                                     | 0/9 [00:00<?, ?it/s]"
     ]
    },
    {
     "name": "stdout",
     "output_type": "stream",
     "text": [
      "080\n"
     ]
    },
    {
     "name": "stderr",
     "output_type": "stream",
     "text": [
      " 11%|█████                                        | 1/9 [00:12<01:41, 12.70s/it]"
     ]
    },
    {
     "name": "stdout",
     "output_type": "stream",
     "text": [
      "083\n"
     ]
    },
    {
     "name": "stderr",
     "output_type": "stream",
     "text": [
      " 22%|██████████                                   | 2/9 [00:27<01:35, 13.65s/it]"
     ]
    },
    {
     "name": "stdout",
     "output_type": "stream",
     "text": [
      "052\n"
     ]
    },
    {
     "name": "stderr",
     "output_type": "stream",
     "text": [
      " 33%|███████████████                              | 3/9 [00:43<01:30, 15.08s/it]"
     ]
    },
    {
     "name": "stdout",
     "output_type": "stream",
     "text": [
      "020\n"
     ]
    },
    {
     "name": "stderr",
     "output_type": "stream",
     "text": [
      " 44%|████████████████████                         | 4/9 [00:54<01:06, 13.34s/it]"
     ]
    },
    {
     "name": "stdout",
     "output_type": "stream",
     "text": [
      "115\n"
     ]
    },
    {
     "name": "stderr",
     "output_type": "stream",
     "text": [
      " 56%|█████████████████████████                    | 5/9 [01:09<00:55, 13.94s/it]"
     ]
    },
    {
     "name": "stdout",
     "output_type": "stream",
     "text": [
      "077\n"
     ]
    },
    {
     "name": "stderr",
     "output_type": "stream",
     "text": [
      " 67%|██████████████████████████████               | 6/9 [01:19<00:37, 12.61s/it]"
     ]
    },
    {
     "name": "stdout",
     "output_type": "stream",
     "text": [
      "057\n"
     ]
    },
    {
     "name": "stderr",
     "output_type": "stream",
     "text": [
      " 78%|███████████████████████████████████          | 7/9 [01:32<00:25, 12.75s/it]"
     ]
    },
    {
     "name": "stdout",
     "output_type": "stream",
     "text": [
      "100\n"
     ]
    },
    {
     "name": "stderr",
     "output_type": "stream",
     "text": [
      " 89%|████████████████████████████████████████     | 8/9 [01:41<00:11, 11.42s/it]"
     ]
    },
    {
     "name": "stdout",
     "output_type": "stream",
     "text": [
      "111\n"
     ]
    },
    {
     "name": "stderr",
     "output_type": "stream",
     "text": [
      "100%|█████████████████████████████████████████████| 9/9 [01:56<00:00, 12.92s/it]"
     ]
    },
    {
     "name": "stdout",
     "output_type": "stream",
     "text": [
      "metrics: {'DICE': 0.6395745555555555, 'AVGDIST': 3.721673222222222, 'SNSVTY': 0.7689594444444443}\n",
      "metrics_masked: {'DICE': 0.7671083333333333, 'AVGDIST': 0.699607, 'SNSVTY': 0.7613246666666668}\n"
     ]
    },
    {
     "name": "stderr",
     "output_type": "stream",
     "text": [
      "\n"
     ]
    }
   ],
   "source": [
    "thres = 0.23\n",
    "\n",
    "metrics = {\n",
    "    \"DICE\" : 0,\n",
    "    \"AVGDIST\" : 0,\n",
    "    \"SNSVTY\" : 0\n",
    "}\n",
    "\n",
    "metrics_masked = {\n",
    "    \"DICE\" : 0,\n",
    "    \"AVGDIST\" : 0,\n",
    "    \"SNSVTY\" : 0\n",
    "}\n",
    "\n",
    "for sample_index in tqdm(sample_indexes[:]):\n",
    "    print(sample_index)\n",
    "    metric_dict, metric_dict_masked = get_metrics(outs_dict, sample_index, thres=thres)\n",
    "    for m in metric_dict:\n",
    "        metrics[m]+=metric_dict[m]\n",
    "    for m in metric_dict_masked:\n",
    "        metrics_masked[m]+=metric_dict_masked[m]\n",
    "\n",
    "N = len(sample_indexes)\n",
    "for m in metric_dict:\n",
    "    metrics[m]/=N\n",
    "for m in metric_dict_masked:\n",
    "    metrics_masked[m]/=N\n",
    "\n",
    "\n",
    "print(\"metrics:\", metrics)\n",
    "print(\"metrics_masked:\", metrics_masked)"
   ]
  },
  {
   "cell_type": "code",
   "execution_count": null,
   "id": "34dc3468-7fd2-433a-83aa-02e975e83aa1",
   "metadata": {},
   "outputs": [],
   "source": []
  }
 ],
 "metadata": {
  "kernelspec": {
   "display_name": "Python 3 (ipykernel)",
   "language": "python",
   "name": "python3"
  },
  "language_info": {
   "codemirror_mode": {
    "name": "ipython",
    "version": 3
   },
   "file_extension": ".py",
   "mimetype": "text/x-python",
   "name": "python",
   "nbconvert_exporter": "python",
   "pygments_lexer": "ipython3",
   "version": "3.10.13"
  }
 },
 "nbformat": 4,
 "nbformat_minor": 5
}
