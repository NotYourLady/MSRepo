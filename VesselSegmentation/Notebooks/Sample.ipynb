{
 "cells": [
  {
   "cell_type": "code",
   "execution_count": 1,
   "id": "5535625c-504d-4eb6-97a1-b30d351a21b8",
   "metadata": {},
   "outputs": [],
   "source": [
    "%load_ext autoreload\n",
    "%autoreload 2\n",
    "    \n",
    "import torch\n",
    "import torch.nn as nn\n",
    "import sys, os\n",
    "from time import time\n",
    "\n",
    "sys.path.append(os.path.dirname('../ml/.'))\n",
    "from activates import get_activate\n",
    "from transformers_models.modules import UdSampleModule, DownSampleModule, ConvModule\n",
    "from models.HessNet import HessBlock, HessFeatures\n",
    "from utils import get_total_params"
   ]
  },
  {
   "cell_type": "code",
   "execution_count": 2,
   "id": "86be3557-4a3c-40e7-9582-bfda05926cd9",
   "metadata": {
    "collapsed": true,
    "jupyter": {
     "outputs_hidden": true,
     "source_hidden": true
    },
    "scrolled": true
   },
   "outputs": [
    {
     "name": "stdout",
     "output_type": "stream",
     "text": [
      "torch.Size([1, 1, 128, 128, 128])\n",
      "torch.Size([1, 1, 128, 128, 128])\n"
     ]
    }
   ],
   "source": [
    "x = torch.randn(1, 1, 64, 64, 64)\n",
    "up1 = UdSampleModule(mode='conv', in_channels=1)\n",
    "up2 = UdSampleModule()\n",
    "print(up1(x).shape)\n",
    "print(up2(x).shape)"
   ]
  },
  {
   "cell_type": "code",
   "execution_count": 4,
   "id": "f3a7763e-1b6e-43fd-b0fd-a62bd0fa4b47",
   "metadata": {
    "collapsed": true,
    "jupyter": {
     "outputs_hidden": true,
     "source_hidden": true
    }
   },
   "outputs": [
    {
     "name": "stdout",
     "output_type": "stream",
     "text": [
      "torch.Size([1, 1, 32, 32, 32])\n",
      "torch.Size([1, 1, 32, 32, 32])\n",
      "torch.Size([1, 1, 32, 32, 32])\n"
     ]
    }
   ],
   "source": [
    "x = torch.randn(1, 1, 64, 64, 64)\n",
    "\n",
    "down1 = DownSampleModule(mode='conv', in_channels=1, dilation=1,\n",
    "                        norm='layer_norm', layer_norm_shape=[32, 32])\n",
    "down2 = DownSampleModule(mode='avg_pool')\n",
    "down3 = DownSampleModule(mode='max_pool')\n",
    "print(down1(x).shape)\n",
    "print(down2(x).shape)\n",
    "print(down3(x).shape)"
   ]
  },
  {
   "cell_type": "code",
   "execution_count": 6,
   "id": "03e36b35-149c-42ef-a8bb-5aa1ed1ec2ac",
   "metadata": {
    "collapsed": true,
    "jupyter": {
     "outputs_hidden": true,
     "source_hidden": true
    }
   },
   "outputs": [
    {
     "data": {
      "text/plain": [
       "torch.Size([1, 1, 32, 32, 32])"
      ]
     },
     "execution_count": 6,
     "metadata": {},
     "output_type": "execute_result"
    }
   ],
   "source": [
    "x = torch.randn(1, 1, 64, 64, 64)\n",
    "m = ConvModule(in_channels=1,\n",
    "               out_channels=1,\n",
    "               kernel_size=7,\n",
    "               stride=2,\n",
    "               dilation=2,\n",
    "               dim=3,\n",
    "               norm='batch_norm',\n",
    "               act='relu',)\n",
    "m(x).shape"
   ]
  },
  {
   "cell_type": "code",
   "execution_count": null,
   "id": "9d9f423d-d109-4f3b-830e-016f7ac8ff74",
   "metadata": {},
   "outputs": [],
   "source": []
  },
  {
   "cell_type": "code",
   "execution_count": null,
   "id": "3ae58211-408c-4897-b9d3-0eb291350b03",
   "metadata": {},
   "outputs": [],
   "source": []
  },
  {
   "cell_type": "code",
   "execution_count": 7,
   "id": "f90564b9-5186-49d9-9817-d7194f4d1a0d",
   "metadata": {},
   "outputs": [],
   "source": [
    "class HessNet(nn.Module):\n",
    "    def __init__(self,\n",
    "                 in_channels,\n",
    "                 out_channels,\n",
    "                 device):\n",
    "        super(HessNet, self).__init__()\n",
    "        self.device = device\n",
    "\n",
    "        self.hess1 = HessFeatures(in_channels=8,\n",
    "                                  n_hess_blocks=1,\n",
    "                                  start_scale=2,\n",
    "                                  device=DEVICE,\n",
    "                                  hess_with_blur=False,\n",
    "                                  hess_learnable_scale=False)\n",
    "        self.hess2 = HessFeatures(in_channels=8,\n",
    "                                  n_hess_blocks=3,\n",
    "                                  start_scale=1,\n",
    "                                  device=DEVICE,\n",
    "                                  hess_with_blur=False,\n",
    "                                  hess_learnable_scale=False)\n",
    "        self.hess3 = HessFeatures(in_channels=8,\n",
    "                                  n_hess_blocks=3,\n",
    "                                  start_scale=0.5,\n",
    "                                  device=DEVICE,\n",
    "                                  hess_with_blur=False,\n",
    "                                  hess_learnable_scale=False)\n",
    "        \n",
    "        self.img_down = DownSampleModule(mode='avg_pool')\n",
    "\n",
    "        self.down1 = nn.Sequential(\n",
    "            DownSampleModule(mode='conv', in_channels=2, dilation=1, norm=None, act='relu'),\n",
    "            ConvModule(in_channels=2, out_channels=4, kernel_size=3, norm='batch_norm', act='relu')\n",
    "        )\n",
    "\n",
    "        self.down2 = nn.Sequential(\n",
    "            DownSampleModule(mode='conv', in_channels=8, dilation=1, norm=None, act='relu'),\n",
    "            ConvModule(in_channels=8, out_channels=8, kernel_size=3, norm='batch_norm', act='relu')\n",
    "        )\n",
    "\n",
    "        self.down1 = nn.Sequential(\n",
    "            DownSampleModule(mode='conv', in_channels=2, dilation=1, norm=None, act='relu')\n",
    "            ConvModule(in_channels=2, out_channels=4, kernel_size=3, norm='batch_norm', act='relu')\n",
    "        )\n",
    "\n",
    "        self.down2 = nn.Sequential(\n",
    "            DownSampleModule(mode='conv', in_channels=8, dilation=1, norm=None, act='relu')\n",
    "            ConvModule(in_channels=8, out_channels=8, kernel_size=3, norm='batch_norm', act='relu')\n",
    "        )\n",
    "\n",
    "    def forward(self, x):\n",
    "        x_ = self.img_down(x)\n",
    "        x__ = self.img_down(x_)\n",
    "        print(x.shape, x_.shape, x__.shape)"
   ]
  },
  {
   "cell_type": "code",
   "execution_count": 8,
   "id": "0908e8cb-b4ac-4415-a5d5-59eb2019ecae",
   "metadata": {},
   "outputs": [
    {
     "name": "stdout",
     "output_type": "stream",
     "text": [
      "4463\n",
      "torch.Size([16, 1, 64, 64, 64]) torch.Size([16, 1, 32, 32, 32]) torch.Size([16, 1, 16, 16, 16])\n"
     ]
    },
    {
     "ename": "AttributeError",
     "evalue": "'NoneType' object has no attribute 'shape'",
     "output_type": "error",
     "traceback": [
      "\u001b[0;31m---------------------------------------------------------------------------\u001b[0m",
      "\u001b[0;31mAttributeError\u001b[0m                            Traceback (most recent call last)",
      "Cell \u001b[0;32mIn[8], line 8\u001b[0m\n\u001b[1;32m      3\u001b[0m m \u001b[38;5;241m=\u001b[39m HessNet(in_channels\u001b[38;5;241m=\u001b[39m\u001b[38;5;241m1\u001b[39m,\n\u001b[1;32m      4\u001b[0m             out_channels\u001b[38;5;241m=\u001b[39m\u001b[38;5;241m1\u001b[39m,\n\u001b[1;32m      5\u001b[0m             device\u001b[38;5;241m=\u001b[39mDEVICE)\n\u001b[1;32m      7\u001b[0m \u001b[38;5;28mprint\u001b[39m(get_total_params(m))\n\u001b[0;32m----> 8\u001b[0m \u001b[43mm\u001b[49m\u001b[43m(\u001b[49m\u001b[43mx\u001b[49m\u001b[43m)\u001b[49m\u001b[38;5;241;43m.\u001b[39;49m\u001b[43mshape\u001b[49m\n",
      "\u001b[0;31mAttributeError\u001b[0m: 'NoneType' object has no attribute 'shape'"
     ]
    }
   ],
   "source": [
    "DEVICE = 'cpu'\n",
    "x = torch.randn(16, 1, 64, 64, 64).to(DEVICE)\n",
    "m = HessNet(in_channels=1,\n",
    "            out_channels=1,\n",
    "            device=DEVICE)\n",
    "\n",
    "print(get_total_params(m))\n",
    "m(x).shape"
   ]
  },
  {
   "cell_type": "code",
   "execution_count": 20,
   "id": "7d16bd09-b7ac-4411-b96a-859d1727df55",
   "metadata": {},
   "outputs": [],
   "source": [
    "scale = torch.FloatTensor(torch.tensor(0.5))"
   ]
  },
  {
   "cell_type": "code",
   "execution_count": 4,
   "id": "67f213d8-e3ff-4447-abde-dda9292a28f1",
   "metadata": {},
   "outputs": [
    {
     "ename": "TypeError",
     "evalue": "new(): data must be a sequence (got float)",
     "output_type": "error",
     "traceback": [
      "\u001b[0;31m---------------------------------------------------------------------------\u001b[0m",
      "\u001b[0;31mTypeError\u001b[0m                                 Traceback (most recent call last)",
      "Cell \u001b[0;32mIn[4], line 1\u001b[0m\n\u001b[0;32m----> 1\u001b[0m m \u001b[38;5;241m=\u001b[39m \u001b[43mHessFeatures\u001b[49m\u001b[43m(\u001b[49m\u001b[43min_channels\u001b[49m\u001b[38;5;241;43m=\u001b[39;49m\u001b[38;5;241;43m8\u001b[39;49m\u001b[43m,\u001b[49m\n\u001b[1;32m      2\u001b[0m \u001b[43m  \u001b[49m\u001b[43mn_hess_blocks\u001b[49m\u001b[38;5;241;43m=\u001b[39;49m\u001b[38;5;241;43m3\u001b[39;49m\u001b[43m,\u001b[49m\n\u001b[1;32m      3\u001b[0m \u001b[43m  \u001b[49m\u001b[43mstart_scale\u001b[49m\u001b[38;5;241;43m=\u001b[39;49m\u001b[38;5;241;43m0.5\u001b[39;49m\u001b[43m,\u001b[49m\n\u001b[1;32m      4\u001b[0m \u001b[43m  \u001b[49m\u001b[43mdevice\u001b[49m\u001b[38;5;241;43m=\u001b[39;49m\u001b[38;5;124;43m'\u001b[39;49m\u001b[38;5;124;43mcuda\u001b[39;49m\u001b[38;5;124;43m'\u001b[39;49m\u001b[43m,\u001b[49m\n\u001b[1;32m      5\u001b[0m \u001b[43m  \u001b[49m\u001b[43mhess_with_blur\u001b[49m\u001b[38;5;241;43m=\u001b[39;49m\u001b[38;5;28;43;01mFalse\u001b[39;49;00m\u001b[43m,\u001b[49m\n\u001b[1;32m      6\u001b[0m \u001b[43m  \u001b[49m\u001b[43mhess_learnable_scale\u001b[49m\u001b[38;5;241;43m=\u001b[39;49m\u001b[38;5;28;43;01mFalse\u001b[39;49;00m\u001b[43m)\u001b[49m\n",
      "File \u001b[0;32m~/repo/MSRepo/VesselSegmentation/Notebooks/../ml/models/HessNet.py:131\u001b[0m, in \u001b[0;36mHessFeatures.__init__\u001b[0;34m(self, in_channels, n_hess_blocks, start_scale, device, hess_with_blur, hess_learnable_scale, out_act)\u001b[0m\n\u001b[1;32m    129\u001b[0m \u001b[38;5;28mself\u001b[39m\u001b[38;5;241m.\u001b[39mscale \u001b[38;5;241m=\u001b[39m start_scale\n\u001b[1;32m    130\u001b[0m \u001b[38;5;28;01mif\u001b[39;00m \u001b[38;5;129;01mnot\u001b[39;00m \u001b[38;5;28misinstance\u001b[39m(\u001b[38;5;28mself\u001b[39m\u001b[38;5;241m.\u001b[39mscale, torch\u001b[38;5;241m.\u001b[39mFloatTensor):\n\u001b[0;32m--> 131\u001b[0m     \u001b[38;5;28mself\u001b[39m\u001b[38;5;241m.\u001b[39mscale \u001b[38;5;241m=\u001b[39m \u001b[43mtorch\u001b[49m\u001b[38;5;241;43m.\u001b[39;49m\u001b[43mFloatTensor\u001b[49m\u001b[43m(\u001b[49m\u001b[38;5;28;43mself\u001b[39;49m\u001b[38;5;241;43m.\u001b[39;49m\u001b[43mscale\u001b[49m\u001b[43m)\u001b[49m\n\u001b[1;32m    134\u001b[0m \u001b[38;5;28mself\u001b[39m\u001b[38;5;241m.\u001b[39mHessBlocks \u001b[38;5;241m=\u001b[39m nn\u001b[38;5;241m.\u001b[39mModuleList(\n\u001b[1;32m    135\u001b[0m     [HessBlock(in_channels\u001b[38;5;241m=\u001b[39min_channels,\n\u001b[1;32m    136\u001b[0m                start_scale\u001b[38;5;241m=\u001b[39m\u001b[38;5;28mself\u001b[39m\u001b[38;5;241m.\u001b[39mscale,\n\u001b[0;32m   (...)\u001b[0m\n\u001b[1;32m    139\u001b[0m                with_blur\u001b[38;5;241m=\u001b[39mhess_with_blur,\n\u001b[1;32m    140\u001b[0m                learnable_scale\u001b[38;5;241m=\u001b[39mhess_learnable_scale) \u001b[38;5;28;01mfor\u001b[39;00m _ \u001b[38;5;129;01min\u001b[39;00m \u001b[38;5;28mrange\u001b[39m(n_hess_blocks)])\n",
      "\u001b[0;31mTypeError\u001b[0m: new(): data must be a sequence (got float)"
     ]
    }
   ],
   "source": [
    "m = HessFeatures(in_channels=8,\n",
    "  n_hess_blocks=3,\n",
    "  start_scale=0.5,\n",
    "  device='cuda',\n",
    "  hess_with_blur=False,\n",
    "  hess_learnable_scale=False)"
   ]
  },
  {
   "cell_type": "code",
   "execution_count": null,
   "id": "e6db2da9-cb73-4a8f-ae48-df33f170947e",
   "metadata": {},
   "outputs": [],
   "source": []
  }
 ],
 "metadata": {
  "kernelspec": {
   "display_name": "Python 3 (ipykernel)",
   "language": "python",
   "name": "python3"
  },
  "language_info": {
   "codemirror_mode": {
    "name": "ipython",
    "version": 3
   },
   "file_extension": ".py",
   "mimetype": "text/x-python",
   "name": "python",
   "nbconvert_exporter": "python",
   "pygments_lexer": "ipython3",
   "version": "3.10.13"
  }
 },
 "nbformat": 4,
 "nbformat_minor": 5
}
