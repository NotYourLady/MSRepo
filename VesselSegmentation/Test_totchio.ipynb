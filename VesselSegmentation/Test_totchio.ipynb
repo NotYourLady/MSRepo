{
 "cells": [
  {
   "cell_type": "code",
   "execution_count": 10,
   "id": "4d29636d-9f7e-4aa7-82bf-8ac9eb64ac8d",
   "metadata": {
    "tags": []
   },
   "outputs": [],
   "source": [
    "import torchio as tio"
   ]
  },
  {
   "cell_type": "code",
   "execution_count": 11,
   "id": "1d3e2678-e448-4b12-a890-0edb3a096d0e",
   "metadata": {
    "tags": []
   },
   "outputs": [],
   "source": [
    "transforms = [\n",
    "    tio.ToCanonical(),  # to RAS\n",
    "    tio.Resample((1, 1, 1)),  # to 1 mm iso\n",
    "]\n",
    "ixi_dataset = tio.datasets.IXI(\n",
    "    '/home/msst/Documents/medtech/IXI_torchio',\n",
    "    modalities=('MRA',),\n",
    "    transform=tio.Compose(transforms),\n",
    "    download=True,\n",
    ")"
   ]
  },
  {
   "cell_type": "code",
   "execution_count": 14,
   "id": "87fb5c78-4a2b-44cd-8ebe-2b17ab294acb",
   "metadata": {},
   "outputs": [
    {
     "name": "stdout",
     "output_type": "stream",
     "text": [
      "Number of subjects in dataset: 570\n",
      "Keys in subject: ('subject_id', 'MRA')\n"
     ]
    }
   ],
   "source": [
    "print('Number of subjects in dataset:', len(ixi_dataset))  # 577\n",
    "sample_subject = ixi_dataset[100]\n",
    "print('Keys in subject:', tuple(sample_subject.keys()))  # ('T1', 'T2')"
   ]
  },
  {
   "cell_type": "code",
   "execution_count": 15,
   "id": "808a03f0-21e8-4fd3-bc1b-aa3bf0a81bd4",
   "metadata": {},
   "outputs": [
    {
     "name": "stdout",
     "output_type": "stream",
     "text": [
      "Shape of MRA data: (1, 241, 240, 81)\n"
     ]
    }
   ],
   "source": [
    "print('Shape of MRA data:', sample_subject['MRA'].shape)  # [1, 180, 268, 268]"
   ]
  },
  {
   "cell_type": "code",
   "execution_count": null,
   "id": "da339c27-388e-4f8b-b021-7ffef393ccbe",
   "metadata": {},
   "outputs": [],
   "source": [
    "import torchio as tio\n",
    "subject = tio.Subject(\n",
    "    t1=tio.ScalarImage('t1_mri.nii.gz'),\n",
    "    sampling_map=tio.Image('sampling.nii.gz', type=tio.SAMPLING_MAP),\n",
    ")\n",
    "patch_size = 64\n",
    "sampler = tio.data.WeightedSampler(patch_size, 'sampling_map')\n",
    "for patch in sampler(subject):\n",
    "    print(patch[tio.LOCATION])"
   ]
  },
  {
   "cell_type": "code",
   "execution_count": null,
   "id": "25cfdebc-e033-4a3b-a5a2-a6c9622d310f",
   "metadata": {},
   "outputs": [],
   "source": [
    "subjects_dataset = tio.SubjectsDataset(subjects)"
   ]
  },
  {
   "cell_type": "code",
   "execution_count": null,
   "id": "b62abe59-406d-46cb-a612-0f2651f4c039",
   "metadata": {},
   "outputs": [],
   "source": [
    "sampler = tio.data.UniformSampler(self.patch_size)"
   ]
  },
  {
   "cell_type": "code",
   "execution_count": null,
   "id": "5997ddbe-4efb-4bb2-aa0b-cbe1ffed3940",
   "metadata": {},
   "outputs": [],
   "source": []
  },
  {
   "cell_type": "code",
   "execution_count": 21,
   "id": "68df8b91-6936-435a-bb43-bb41aa94c85b",
   "metadata": {
    "tags": []
   },
   "outputs": [],
   "source": [
    "import os\n",
    "import glob"
   ]
  },
  {
   "cell_type": "code",
   "execution_count": 19,
   "id": "fd68933f-8ea5-4e73-9f05-eff0a4940a48",
   "metadata": {
    "collapsed": true,
    "jupyter": {
     "outputs_hidden": true
    },
    "tags": []
   },
   "outputs": [
    {
     "ename": "NameError",
     "evalue": "name 'glob' is not defined",
     "output_type": "error",
     "traceback": [
      "\u001b[0;31m---------------------------------------------------------------------------\u001b[0m",
      "\u001b[0;31mNameError\u001b[0m                                 Traceback (most recent call last)",
      "Cell \u001b[0;32mIn[19], line 1\u001b[0m\n\u001b[0;32m----> 1\u001b[0m vols \u001b[38;5;241m=\u001b[39m \u001b[43mglob\u001b[49m(vol_path \u001b[38;5;241m+\u001b[39m \u001b[38;5;124m\"\u001b[39m\u001b[38;5;124m*.nii\u001b[39m\u001b[38;5;124m\"\u001b[39m) \u001b[38;5;241m+\u001b[39m glob(vol_path \u001b[38;5;241m+\u001b[39m \u001b[38;5;124m\"\u001b[39m\u001b[38;5;124m*.nii.gz\u001b[39m\u001b[38;5;124m\"\u001b[39m)\n\u001b[1;32m      2\u001b[0m labels \u001b[38;5;241m=\u001b[39m glob(label_path \u001b[38;5;241m+\u001b[39m \u001b[38;5;124m\"\u001b[39m\u001b[38;5;124m*.nii\u001b[39m\u001b[38;5;124m\"\u001b[39m) \u001b[38;5;241m+\u001b[39m glob(label_path \u001b[38;5;241m+\u001b[39m \u001b[38;5;124m\"\u001b[39m\u001b[38;5;124m*.nii.gz\u001b[39m\u001b[38;5;124m\"\u001b[39m)\n\u001b[1;32m      3\u001b[0m subjects \u001b[38;5;241m=\u001b[39m []\n",
      "\u001b[0;31mNameError\u001b[0m: name 'glob' is not defined"
     ]
    }
   ],
   "source": [
    "vols = glob(vol_path + \"*.nii\") + glob(vol_path + \"*.nii.gz\")\n",
    "labels = glob(label_path + \"*.nii\") + glob(label_path + \"*.nii.gz\")\n",
    "subjects = []"
   ]
  },
  {
   "cell_type": "code",
   "execution_count": 24,
   "id": "92d33354-1829-4c1e-bbe6-aaa76e6d26c8",
   "metadata": {
    "tags": []
   },
   "outputs": [],
   "source": [
    "vols = [\"/home/msst/Documents/medtech/brain_seg_dataset/CT_S5020_uint16/head.nii.gz\",]\n",
    "labels = [\"/home/msst/Documents/medtech/brain_seg_dataset/CT_S5020_uint16/vessels.nii.gz\",]"
   ]
  },
  {
   "cell_type": "code",
   "execution_count": 26,
   "id": "08acb2ef-9e7b-4f7b-9a20-bc31b6d4b72a",
   "metadata": {
    "tags": []
   },
   "outputs": [],
   "source": [
    "subjects = []\n",
    "for i in range(len(vols)):\n",
    "    v = vols[i]\n",
    "    l = labels[i]\n",
    "    subject = tio.Subject(\n",
    "                            img=tio.ScalarImage(v),\n",
    "                            label=tio.LabelMap(l),\n",
    "                            subjectname=filename,\n",
    "                        )\n",
    "    subjects.append(subject) "
   ]
  },
  {
   "cell_type": "code",
   "execution_count": 27,
   "id": "91ad7b3e-6cd2-4ef3-97aa-55a22af24902",
   "metadata": {
    "tags": []
   },
   "outputs": [
    {
     "name": "stdout",
     "output_type": "stream",
     "text": [
      "[Subject(Keys: ('img', 'label', 'subjectname'); images: 2)]\n"
     ]
    }
   ],
   "source": [
    "print(subjects)"
   ]
  },
  {
   "cell_type": "code",
   "execution_count": 30,
   "id": "bb8ee2a7-34e2-4451-b4b1-f5ce69fbecd1",
   "metadata": {
    "tags": []
   },
   "outputs": [],
   "source": [
    "patch_size = 64\n",
    "max_length = 512\n",
    "subjects_dataset = tio.SubjectsDataset(subjects)\n",
    "sampler = tio.data.UniformSampler(patch_size)\n",
    "patches_queue = tio.Queue(\n",
    "                            subjects_dataset,\n",
    "                            max_length=max_length,\n",
    "                            samples_per_volume=128,\n",
    "                            sampler=sampler,\n",
    "                            num_workers=0,\n",
    "                            start_background=True\n",
    "                        )"
   ]
  },
  {
   "cell_type": "code",
   "execution_count": null,
   "id": "540bec2c-a8af-458e-9d6b-2cf3f65b492f",
   "metadata": {},
   "outputs": [],
   "source": []
  },
  {
   "cell_type": "code",
   "execution_count": null,
   "id": "de8b1d1e-698c-4ce8-8dc2-e265ec048e80",
   "metadata": {},
   "outputs": [],
   "source": []
  }
 ],
 "metadata": {
  "kernelspec": {
   "display_name": "Python 3",
   "language": "python",
   "name": "python3"
  },
  "language_info": {
   "codemirror_mode": {
    "name": "ipython",
    "version": 3
   },
   "file_extension": ".py",
   "mimetype": "text/x-python",
   "name": "python",
   "nbconvert_exporter": "python",
   "pygments_lexer": "ipython3",
   "version": "3.8.10"
  }
 },
 "nbformat": 4,
 "nbformat_minor": 5
}
