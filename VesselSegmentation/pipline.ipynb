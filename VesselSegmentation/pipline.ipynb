{
 "cells": [
  {
   "cell_type": "code",
   "execution_count": 1,
   "id": "e6ed8312-0921-4c0b-9ff4-e1c2a4b40496",
   "metadata": {
    "tags": []
   },
   "outputs": [],
   "source": [
    "%load_ext autoreload\n",
    "%autoreload 2"
   ]
  },
  {
   "cell_type": "markdown",
   "id": "7438d855-541c-4e45-807b-09a9fed8423e",
   "metadata": {},
   "source": [
    "<h3> Загрузка библиотек"
   ]
  },
  {
   "cell_type": "code",
   "execution_count": 2,
   "id": "3744124f-e9fb-4d39-a740-dddbacbb3d7a",
   "metadata": {
    "tags": []
   },
   "outputs": [],
   "source": [
    "import os\n",
    "import numpy as np\n",
    "\n",
    "import torch\n",
    "import torch.nn as nn\n",
    "from torch.optim.lr_scheduler import StepLR"
   ]
  },
  {
   "cell_type": "code",
   "execution_count": 3,
   "id": "8408058f-3519-48ea-a644-9845d03a4dc7",
   "metadata": {
    "tags": []
   },
   "outputs": [],
   "source": [
    "from ml.models.unet3d import U_Net\n",
    "from ml.models.rog import ROG\n",
    "from ml.models.unet_deepsup import Unet_MSS\n",
    "from ml.models.LiquidNet import LiquidNet, LiquidNetBlock, conv_block, bottle_neck_connection\n",
    "from ml.models.LiquidNet_configs.second_config import get_config\n",
    "\n",
    "from ml.models.activates import swish\n",
    "from ml.utils import get_total_params, load_pretrainned\n",
    "from ml.tio_dataset import TioDataset\n",
    "from ml.controller import Controller\n",
    "from ml.losses import (ExponentialLogarithmicLoss, WeightedExpBCE, TverskyLoss,\n",
    "                       IOU_Metric, MultyscaleLoss, SumLoss, LinearCombLoss)"
   ]
  },
  {
   "cell_type": "code",
   "execution_count": 4,
   "id": "3aadbdee-16a9-475d-aec2-5fce7eb24602",
   "metadata": {
    "tags": []
   },
   "outputs": [
    {
     "name": "stdout",
     "output_type": "stream",
     "text": [
      "cuda\n"
     ]
    }
   ],
   "source": [
    "device = torch.device('cuda' if torch.cuda.is_available() else 'cpu')\n",
    "print(device)"
   ]
  },
  {
   "cell_type": "code",
   "execution_count": 5,
   "id": "620ff213-a408-4b6f-87b0-2a2c2a47c6e3",
   "metadata": {
    "tags": []
   },
   "outputs": [],
   "source": [
    "train_settings  = {\n",
    "    \"patch_shape\" : (64, 64, 64),\n",
    "    \"patches_per_volume\" : 128,\n",
    "    \"patches_queue_length\" : 1440,\n",
    "    \"batch_size\" : 8,\n",
    "    \"num_workers\": 4,\n",
    "    \"sampler\": \"weighted\" #\"uniform\",#\n",
    "}\n",
    "\n",
    "val_settings  = {\n",
    "    \"patch_shape\" : (64, 64, 64),\n",
    "    \"patches_per_volume\" : 32,\n",
    "    \"patches_queue_length\" : 1440,\n",
    "    \"batch_size\" : 8,\n",
    "    \"num_workers\": 4,\n",
    "    \"sampler\": \"uniform\",#\"weighted\" #\"uniform\",#\n",
    "}\n",
    "\n",
    "test_settings  = {\n",
    "    \"patch_shape\" : (256, 256, 128),\n",
    "    \"overlap_shape\" : (32, 32, 24),\n",
    "    \"batch_size\" : 1,\n",
    "    \"num_workers\": 4,\n",
    "}\n",
    "\n",
    "data_dir = \"/home/msst/Documents/medtech/MainData\"\n",
    "dataset = TioDataset(data_dir,\n",
    "                 train_settings=train_settings,\n",
    "                 val_settings=val_settings,\n",
    "                 test_settings=test_settings)"
   ]
  },
  {
   "cell_type": "code",
   "execution_count": 6,
   "id": "00764c50-459d-4a05-b8e7-c7683355f235",
   "metadata": {
    "tags": []
   },
   "outputs": [],
   "source": [
    "# test_settings  = {\n",
    "#     \"patch_shape\" : (128, 128, 128),\n",
    "#     \"overlap_shape\" : (32, 32, 24),\n",
    "#     \"batch_size\" : 1,\n",
    "#     \"num_workers\": 4,\n",
    "# }\n",
    "\n",
    "# data_dir = \"/home/msst/Documents/medtech/MainData_test\"\n",
    "# dataset = TioDataset(data_dir,\n",
    "#                      train_settings=None,\n",
    "#                      val_settings=None,\n",
    "#                      test_settings=test_settings)"
   ]
  },
  {
   "cell_type": "code",
   "execution_count": 7,
   "id": "c4263bc9-9589-4dba-9680-90fa565fc251",
   "metadata": {
    "tags": []
   },
   "outputs": [],
   "source": [
    "# model = Unet_MSS(channel_coef=32, act_fn=swish())"
   ]
  },
  {
   "cell_type": "code",
   "execution_count": 10,
   "id": "02d7954e-3203-42d5-8acc-c0b416f724dd",
   "metadata": {
    "tags": []
   },
   "outputs": [
    {
     "name": "stdout",
     "output_type": "stream",
     "text": [
      "total_params: 5304803\n"
     ]
    }
   ],
   "source": [
    "model = LiquidNet(*get_config(16), debug=False)\n",
    "print(\"total_params:\", get_total_params(model))\n",
    "#model.net_graph"
   ]
  },
  {
   "cell_type": "code",
   "execution_count": 11,
   "id": "884e1170-917b-475c-9061-1d24b423eee4",
   "metadata": {
    "tags": []
   },
   "outputs": [],
   "source": [
    "# funcs_and_сoef_list = []\n",
    "\n",
    "# funcs_and_сoef_list.append([ExponentialLogarithmicLoss(gamma_tversky = 1, gamma_bce = 1, lamb=0.0,\n",
    "#                                    freq = 0.001, tversky_alfa=0.75), 1])\n",
    "\n",
    "# funcs_and_сoef_list.append([TverskyLoss(0.55), 1])\n",
    "\n",
    "\n",
    "# funcs_and_сoef_list.append([SumLoss(alfa=0.5), 0.1])\n",
    "\n",
    "# loss_fn = MultyscaleLoss(LinearCombLoss(funcs_and_сoef_list))"
   ]
  },
  {
   "cell_type": "code",
   "execution_count": 12,
   "id": "308b95fb-917b-4b88-943d-7eff0b385c9d",
   "metadata": {
    "tags": []
   },
   "outputs": [],
   "source": [
    "loss_fn = MultyscaleLoss(TverskyLoss(0.55))"
   ]
  },
  {
   "cell_type": "code",
   "execution_count": 15,
   "id": "3ebf45eb-ff12-4c5d-874b-32d47452c450",
   "metadata": {
    "tags": []
   },
   "outputs": [
    {
     "name": "stdout",
     "output_type": "stream",
     "text": [
      "cuda\n"
     ]
    }
   ],
   "source": [
    "#loss_fn = MultyscaleLoss(ExponentialLogarithmicLoss(gamma_tversky = 2, gamma_bce = 2, lamb=0.7,\n",
    "#                                                    freq = 0.001, tversky_alfa=0.5))\n",
    "\n",
    "\n",
    "metric_fn = IOU_Metric()\n",
    "\n",
    "controller_config = {\n",
    "    \"loss\" : loss_fn,\n",
    "    \"metric\" : metric_fn,\n",
    "    'device' : device,\n",
    "    \"optimizer_fn\" : lambda model: torch.optim.ASGD(model.parameters(), lr=0.001),\n",
    "    \"sheduler_fn\": lambda optimizer: StepLR(optimizer, step_size=5, gamma=0.5)\n",
    "}\n",
    "controller = Controller(controller_config)"
   ]
  },
  {
   "cell_type": "code",
   "execution_count": null,
   "id": "92c5e33f-86df-476a-90a5-5e6ef6d0603f",
   "metadata": {
    "tags": []
   },
   "outputs": [
    {
     "name": "stdout",
     "output_type": "stream",
     "text": [
      "Epoch 1/50\n"
     ]
    },
    {
     "name": "stderr",
     "output_type": "stream",
     "text": [
      " 92%|███████████████████████████████████████▋   | 59/64 [00:39<00:03,  1.51it/s]Traceback (most recent call last):\n",
      "Traceback (most recent call last):\n",
      "  File \"/usr/lib/python3.8/multiprocessing/queues.py\", line 245, in _feed\n",
      "    send_bytes(obj)\n",
      "  File \"/usr/lib/python3.8/multiprocessing/connection.py\", line 200, in send_bytes\n",
      "    self._send_bytes(m[offset:offset + size])\n",
      "  File \"/usr/lib/python3.8/multiprocessing/connection.py\", line 411, in _send_bytes\n",
      "    self._send(header + buf)\n",
      "  File \"/usr/lib/python3.8/multiprocessing/connection.py\", line 368, in _send\n",
      "    n = write(self._handle, buf)\n",
      "BrokenPipeError: [Errno 32] Broken pipe\n",
      "  File \"/usr/lib/python3.8/multiprocessing/queues.py\", line 245, in _feed\n",
      "    send_bytes(obj)\n",
      "  File \"/usr/lib/python3.8/multiprocessing/connection.py\", line 200, in send_bytes\n",
      "    self._send_bytes(m[offset:offset + size])\n",
      "  File \"/usr/lib/python3.8/multiprocessing/connection.py\", line 411, in _send_bytes\n",
      "    self._send(header + buf)\n",
      "  File \"/usr/lib/python3.8/multiprocessing/connection.py\", line 368, in _send\n",
      "    n = write(self._handle, buf)\n",
      "BrokenPipeError: [Errno 32] Broken pipe\n",
      "100%|███████████████████████████████████████████| 64/64 [00:47<00:00,  1.35it/s]\n"
     ]
    },
    {
     "name": "stdout",
     "output_type": "stream",
     "text": [
      "{'mean_loss': 1.434290248900652}\n"
     ]
    },
    {
     "name": "stderr",
     "output_type": "stream",
     "text": [
      "100%|█████████████████████████████████████████████| 8/8 [00:03<00:00,  2.15it/s]\n"
     ]
    },
    {
     "name": "stdout",
     "output_type": "stream",
     "text": [
      "{'mean_loss': 1.4454477578401566}\n"
     ]
    },
    {
     "name": "stderr",
     "output_type": "stream",
     "text": [
      "100%|█████████████████████████████████████████████| 2/2 [00:20<00:00, 10.06s/it]\n"
     ]
    },
    {
     "name": "stdout",
     "output_type": "stream",
     "text": [
      "{'metrics': [{'sample': 'P62_CTA_0', 'seg_sum/GT_sum': tensor(48.3362), 'metric1': tensor([0.0200])}, {'sample': 'new_CTA_0', 'seg_sum/GT_sum': tensor(55.5040), 'metric1': tensor([0.0168])}]}\n",
      "Epoch 2/50\n"
     ]
    },
    {
     "name": "stderr",
     "output_type": "stream",
     "text": [
      "100%|███████████████████████████████████████████| 64/64 [00:49<00:00,  1.29it/s]\n"
     ]
    },
    {
     "name": "stdout",
     "output_type": "stream",
     "text": [
      "{'mean_loss': 1.4413918610662222}\n"
     ]
    },
    {
     "name": "stderr",
     "output_type": "stream",
     "text": [
      "100%|█████████████████████████████████████████████| 8/8 [00:03<00:00,  2.03it/s]\n"
     ]
    },
    {
     "name": "stdout",
     "output_type": "stream",
     "text": [
      "{'mean_loss': 1.4522237479686737}\n"
     ]
    },
    {
     "name": "stderr",
     "output_type": "stream",
     "text": [
      "100%|█████████████████████████████████████████████| 2/2 [00:23<00:00, 11.82s/it]\n"
     ]
    },
    {
     "name": "stdout",
     "output_type": "stream",
     "text": [
      "{'metrics': [{'sample': 'P62_CTA_0', 'seg_sum/GT_sum': tensor(46.8564), 'metric1': tensor([0.0205])}, {'sample': 'new_CTA_0', 'seg_sum/GT_sum': tensor(51.6186), 'metric1': tensor([0.0178])}]}\n",
      "Epoch 3/50\n"
     ]
    },
    {
     "name": "stderr",
     "output_type": "stream",
     "text": [
      "100%|███████████████████████████████████████████| 64/64 [00:53<00:00,  1.20it/s]\n"
     ]
    },
    {
     "name": "stdout",
     "output_type": "stream",
     "text": [
      "{'mean_loss': 1.4292657319456339}\n"
     ]
    },
    {
     "name": "stderr",
     "output_type": "stream",
     "text": [
      "100%|█████████████████████████████████████████████| 8/8 [00:03<00:00,  2.01it/s]\n"
     ]
    },
    {
     "name": "stdout",
     "output_type": "stream",
     "text": [
      "{'mean_loss': 1.4374037683010101}\n"
     ]
    },
    {
     "name": "stderr",
     "output_type": "stream",
     "text": [
      "100%|█████████████████████████████████████████████| 2/2 [00:22<00:00, 11.07s/it]\n"
     ]
    },
    {
     "name": "stdout",
     "output_type": "stream",
     "text": [
      "{'metrics': [{'sample': 'P62_CTA_0', 'seg_sum/GT_sum': tensor(45.4039), 'metric1': tensor([0.0211])}, {'sample': 'new_CTA_0', 'seg_sum/GT_sum': tensor(48.6524), 'metric1': tensor([0.0186])}]}\n",
      "Epoch 4/50\n"
     ]
    },
    {
     "name": "stderr",
     "output_type": "stream",
     "text": [
      "100%|███████████████████████████████████████████| 64/64 [00:55<00:00,  1.16it/s]\n"
     ]
    },
    {
     "name": "stdout",
     "output_type": "stream",
     "text": [
      "{'mean_loss': 1.4461058285087347}\n"
     ]
    },
    {
     "name": "stderr",
     "output_type": "stream",
     "text": [
      "100%|█████████████████████████████████████████████| 8/8 [00:04<00:00,  2.00it/s]\n"
     ]
    },
    {
     "name": "stdout",
     "output_type": "stream",
     "text": [
      "{'mean_loss': 1.4341996014118195}\n"
     ]
    },
    {
     "name": "stderr",
     "output_type": "stream",
     "text": [
      "100%|█████████████████████████████████████████████| 2/2 [00:25<00:00, 12.90s/it]\n"
     ]
    },
    {
     "name": "stdout",
     "output_type": "stream",
     "text": [
      "{'metrics': [{'sample': 'P62_CTA_0', 'seg_sum/GT_sum': tensor(44.2757), 'metric1': tensor([0.0216])}, {'sample': 'new_CTA_0', 'seg_sum/GT_sum': tensor(46.6417), 'metric1': tensor([0.0192])}]}\n",
      "Epoch 5/50\n"
     ]
    },
    {
     "name": "stderr",
     "output_type": "stream",
     "text": [
      "100%|███████████████████████████████████████████| 64/64 [01:01<00:00,  1.04it/s]\n"
     ]
    },
    {
     "name": "stdout",
     "output_type": "stream",
     "text": [
      "{'mean_loss': 1.4331202805042267}\n"
     ]
    },
    {
     "name": "stderr",
     "output_type": "stream",
     "text": [
      "100%|█████████████████████████████████████████████| 8/8 [00:03<00:00,  2.13it/s]\n"
     ]
    },
    {
     "name": "stdout",
     "output_type": "stream",
     "text": [
      "{'mean_loss': 1.44960318505764}\n"
     ]
    },
    {
     "name": "stderr",
     "output_type": "stream",
     "text": [
      "  0%|                                                     | 0/2 [00:00<?, ?it/s]"
     ]
    }
   ],
   "source": [
    "controller.fit(model, dataset, 50)"
   ]
  },
  {
   "cell_type": "code",
   "execution_count": null,
   "id": "5b5d61e6-1480-4344-8be8-7b1631328910",
   "metadata": {},
   "outputs": [],
   "source": []
  },
  {
   "cell_type": "code",
   "execution_count": 32,
   "id": "15de1186-7ac6-4cad-a85c-d8e586cd21df",
   "metadata": {},
   "outputs": [],
   "source": [
    "#model_name = \"LiquidNet_second_config_8_ExpLog09_Tversky055_epoch50\"\n",
    "#controller.save(\"/home/msst/repo/MSRepo/VesselSegmentation/saved_models/\" + model_name)"
   ]
  },
  {
   "cell_type": "code",
   "execution_count": 30,
   "id": "a7009241-3f7e-4aa1-996b-3f84f5c56e2b",
   "metadata": {
    "tags": []
   },
   "outputs": [],
   "source": [
    "#controller.load_model(model, \"/home/msst/repo/MSRepo/VesselSegmentation/saved_models/\" + model_name)\n",
    "#controller.model = model.to(device)"
   ]
  },
  {
   "cell_type": "code",
   "execution_count": 33,
   "id": "89f3ce65-98bd-4d45-baa1-5abfa649d6ee",
   "metadata": {},
   "outputs": [],
   "source": [
    "path_to_check= \"/home/msst/repo/MSRepo/VesselSegmentation/saved_models/\" + model_name\n",
    "controller.load(model, path_to_checkpoint=path_to_check)"
   ]
  },
  {
   "cell_type": "code",
   "execution_count": null,
   "id": "f5cfb833-e09e-441c-97c0-dd961a3adcca",
   "metadata": {},
   "outputs": [],
   "source": []
  },
  {
   "cell_type": "code",
   "execution_count": 12,
   "id": "70b4e6b3-3777-49f6-a7bb-0b5d4fdaadeb",
   "metadata": {
    "collapsed": true,
    "jupyter": {
     "outputs_hidden": true,
     "source_hidden": true
    },
    "tags": []
   },
   "outputs": [
    {
     "name": "stderr",
     "output_type": "stream",
     "text": [
      "100%|█████████████████████████████████████████████| 7/7 [01:15<00:00, 10.74s/it]\n"
     ]
    },
    {
     "data": {
      "text/plain": [
       "{'metrics': [{'sample': 'P62_CTA',\n",
       "   'seg_sum/GT_sum': tensor(0.0060),\n",
       "   'metric1': tensor([7.3981e-11])},\n",
       "  {'sample': 'P28_CTA',\n",
       "   'seg_sum/GT_sum': tensor(0.0002),\n",
       "   'metric1': tensor([0.0011])},\n",
       "  {'sample': 'P12_CTA',\n",
       "   'seg_sum/GT_sum': tensor(74.4396),\n",
       "   'metric1': tensor([0.0129])},\n",
       "  {'sample': 'P70_CTA',\n",
       "   'seg_sum/GT_sum': tensor(0.0044),\n",
       "   'metric1': tensor([0.0011])},\n",
       "  {'sample': 'P35_CTA',\n",
       "   'seg_sum/GT_sum': tensor(0.0040),\n",
       "   'metric1': tensor([0.0006])},\n",
       "  {'sample': 'new_CTA',\n",
       "   'seg_sum/GT_sum': tensor(0.0035),\n",
       "   'metric1': tensor([7.4289e-05])},\n",
       "  {'sample': 'CT_S5020',\n",
       "   'seg_sum/GT_sum': tensor(36.7029),\n",
       "   'metric1': tensor([0.0207])}]}"
      ]
     },
     "execution_count": 12,
     "metadata": {},
     "output_type": "execute_result"
    }
   ],
   "source": [
    "controller.val_epoch(dataset.test_dataloader)"
   ]
  },
  {
   "cell_type": "code",
   "execution_count": 24,
   "id": "28291f4b-66d9-4a06-855f-a86433d7e76e",
   "metadata": {
    "tags": []
   },
   "outputs": [
    {
     "name": "stderr",
     "output_type": "stream",
     "text": [
      "100%|█████████████████████████████████████████████| 2/2 [00:21<00:00, 10.97s/it]\n"
     ]
    },
    {
     "data": {
      "text/plain": [
       "[{'sample': 'P62_CTA_0',\n",
       "  'seg_sum/GT_sum': tensor(0.5912),\n",
       "  'metric1': tensor([0.0703])},\n",
       " {'sample': 'new_CTA_0',\n",
       "  'seg_sum/GT_sum': tensor(0.5257),\n",
       "  'metric1': tensor([0.0477])}]"
      ]
     },
     "execution_count": 24,
     "metadata": {},
     "output_type": "execute_result"
    }
   ],
   "source": [
    "model_name = 'test'\n",
    "data_dir = \"seg_data/\" + model_name\n",
    "if not os.path.exists(data_dir):\n",
    "    os.mkdir(data_dir)\n",
    "controller.predict(dataset.test_dataloader, data_dir)"
   ]
  },
  {
   "cell_type": "code",
   "execution_count": null,
   "id": "23d38ff3-a2d4-4eb5-9fc3-c12b80161529",
   "metadata": {},
   "outputs": [],
   "source": []
  }
 ],
 "metadata": {
  "kernelspec": {
   "display_name": "Python 3",
   "language": "python",
   "name": "python3"
  },
  "language_info": {
   "codemirror_mode": {
    "name": "ipython",
    "version": 3
   },
   "file_extension": ".py",
   "mimetype": "text/x-python",
   "name": "python",
   "nbconvert_exporter": "python",
   "pygments_lexer": "ipython3",
   "version": "3.8.10"
  }
 },
 "nbformat": 4,
 "nbformat_minor": 5
}
