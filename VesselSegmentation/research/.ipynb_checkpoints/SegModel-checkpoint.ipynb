{
 "cells": [
  {
   "cell_type": "code",
   "execution_count": 1,
   "id": "c5551197-4f1b-4341-87e2-6ac529297e5e",
   "metadata": {
    "tags": []
   },
   "outputs": [],
   "source": [
    "%load_ext autoreload\n",
    "%autoreload 2"
   ]
  },
  {
   "cell_type": "markdown",
   "id": "ebc50aa5-62a3-4c74-a66b-d3d1ceb6c9e2",
   "metadata": {},
   "source": [
    "<h3> Загрузка библиотек"
   ]
  },
  {
   "cell_type": "code",
   "execution_count": 2,
   "id": "ee14abb5-ab02-498a-97c4-06e006266cca",
   "metadata": {
    "tags": []
   },
   "outputs": [],
   "source": [
    "import os\n",
    "import numpy as np\n",
    "\n",
    "import torch\n",
    "import torch.nn as nn\n",
    "from torch.utils.data import DataLoader\n",
    "from torch.optim.lr_scheduler import StepLR"
   ]
  },
  {
   "cell_type": "code",
   "execution_count": 3,
   "id": "46805e0c-6abf-4220-aeb5-1720cba916bb",
   "metadata": {
    "tags": []
   },
   "outputs": [],
   "source": [
    "from scripts.load_and_save import (get_dcm_info, get_dcm_vol, vox_size2affine,\n",
    "                                   save_vol_as_nii, load_sample_data)\n",
    "from scripts.load_and_save import load_nii_vol, save_vol_as_nii, load_sample_data\n",
    "\n",
    "from ml.models.unet3d import U_Net\n",
    "from ml.models.rog import ROG\n",
    "from ml.models.unet_deepsup import U_Net_DeepSup\n",
    "\n",
    "from ml.utils import get_total_params, save_model, load_pretrainned\n",
    "from ml.dataset import preprocess_dataset, HVB_Dataset, norm_vol, HeadDataset\n",
    "from ml.trainer import Trainer\n",
    "from ml.controller import Controller\n",
    "from ml.losses import ExponentialLogarithmicLoss, WeightedExpBCE, TverskyLoss, IOU_Metric, MultyscaleLoss"
   ]
  },
  {
   "cell_type": "code",
   "execution_count": 4,
   "id": "f6af17a1-a09a-44b0-b96f-0e06faa4ee99",
   "metadata": {
    "tags": []
   },
   "outputs": [
    {
     "name": "stdout",
     "output_type": "stream",
     "text": [
      "cuda\n"
     ]
    }
   ],
   "source": [
    "device = torch.device('cuda' if torch.cuda.is_available() else 'cpu')\n",
    "print(device)"
   ]
  },
  {
   "cell_type": "code",
   "execution_count": null,
   "id": "4a2532d6-9f48-4c09-b631-b8da999164b9",
   "metadata": {},
   "outputs": [],
   "source": []
  },
  {
   "cell_type": "code",
   "execution_count": 5,
   "id": "6f8b6feb-f5f8-4072-81f4-9ac041478f57",
   "metadata": {
    "tags": []
   },
   "outputs": [],
   "source": [
    "train_settings  = {\n",
    "    \"patch_shape\" : (64, 64, 64),\n",
    "    \"patches_per_volume\" : 256,\n",
    "    \"augmentation_coef\" : 3,\n",
    "    \"patches_queue_length\" : 1440,\n",
    "    \"batch_size\" : 8,\n",
    "    \"num_workers\": 4,\n",
    "    \"sampler\": \"uniform\",#\"weighted\" #\"uniform\",#\n",
    "}\n",
    "test_settings  = {\n",
    "    \"patch_shape\" : (256, 256, 128),\n",
    "    \"overlap_shape\" : (32, 32, 24),\n",
    "    \"batch_size\" : 1,\n",
    "    \"num_workers\": 4,\n",
    "}\n",
    "\n",
    "data_dir = \"/home/msst/Documents/medtech/HeadData\"\n",
    "dataset = HeadDataset(data_dir, train_settings, test_settings)"
   ]
  },
  {
   "cell_type": "code",
   "execution_count": null,
   "id": "b7827e7a-eac6-4d1a-a183-4dd3ce623b16",
   "metadata": {},
   "outputs": [],
   "source": []
  },
  {
   "cell_type": "code",
   "execution_count": null,
   "id": "286ef0b4-a821-4499-b1a4-7a7f76e2dc20",
   "metadata": {},
   "outputs": [],
   "source": []
  },
  {
   "cell_type": "code",
   "execution_count": null,
   "id": "89a37a3e-494a-43cd-8e70-64b25cdb7203",
   "metadata": {},
   "outputs": [],
   "source": []
  },
  {
   "cell_type": "markdown",
   "id": "0cd09a43-736a-45a9-924c-abcf307c6a5d",
   "metadata": {
    "tags": []
   },
   "source": [
    "<h3> Создание экзепляра класса датасет"
   ]
  },
  {
   "cell_type": "code",
   "execution_count": 6,
   "id": "0a82a75f-5ad6-4b48-8258-9eb80151242b",
   "metadata": {
    "tags": []
   },
   "outputs": [],
   "source": [
    "train_dataset_settings = {\n",
    "    \"data_dir\" : \"/home/msst/Documents/medtech/brain_seg_dataset\",\n",
    "    \"patch_shape\" : (64, 64, 64),\n",
    "    \"number_of_patches\" : 512,\n",
    "    \"mode\": \"train\",\n",
    "    \"RAM_samples\" : True \n",
    "}\n",
    "patch_data_df, sample_data_df = preprocess_dataset(train_dataset_settings)\n",
    "train_dataset = HVB_Dataset(train_dataset_settings)"
   ]
  },
  {
   "cell_type": "code",
   "execution_count": 7,
   "id": "a9fa5aa8-6710-4a16-96e4-2b0274fde4d0",
   "metadata": {
    "tags": []
   },
   "outputs": [],
   "source": [
    "val_dataset_settings = {\n",
    "    \"data_dir\" : \"/home/msst/Documents/medtech/brain_seg_dataset\",\n",
    "    \"patch_shape\" : (256, 256, 128),\n",
    "    \"mode\": \"eval\",\n",
    "    \"RAM_samples\" : train_dataset_settings[\"RAM_samples\"] \n",
    "}\n",
    "val_dataset = HVB_Dataset(val_dataset_settings)"
   ]
  },
  {
   "cell_type": "code",
   "execution_count": 8,
   "id": "7f5be7f5-8984-4bf0-bebf-7c7adc79cb09",
   "metadata": {
    "tags": []
   },
   "outputs": [],
   "source": [
    "test_dataset_settings = {\n",
    "    \"data_dir\" : \"/home/msst/Documents/medtech/brain_seg_dataset\",\n",
    "    \"patch_shape\" : (256, 256, 128),\n",
    "    \"mode\": \"eval\",\n",
    "    \"number_of_patches\" : 0,\n",
    "    \"RAM_samples\" : False\n",
    "}\n",
    "preprocess_dataset(test_dataset_settings)\n",
    "test_dataset = HVB_Dataset(test_dataset_settings)"
   ]
  },
  {
   "cell_type": "code",
   "execution_count": 9,
   "id": "d96b819f-040a-40e2-aa94-0c080a5308f1",
   "metadata": {
    "tags": []
   },
   "outputs": [],
   "source": [
    "train_loader_params = {\"batch_size\": 16,\n",
    "                 \"shuffle\": True,\n",
    "                 \"num_workers\": 6\n",
    "                }\n",
    "\n",
    "val_loader_params = {\"batch_size\": 1,\n",
    "                     \"shuffle\": False,\n",
    "                     \"num_workers\": 6\n",
    "                    }\n",
    "\n",
    "train_dataloader = DataLoader(train_dataset, **train_loader_params)\n",
    "val_dataloader = DataLoader(val_dataset, **val_loader_params)\n",
    "test_dataloader = DataLoader(test_dataset, **val_loader_params)"
   ]
  },
  {
   "cell_type": "code",
   "execution_count": 10,
   "id": "8fe74871-e1dc-4594-a818-48c6177cfb2b",
   "metadata": {
    "tags": []
   },
   "outputs": [
    {
     "name": "stdout",
     "output_type": "stream",
     "text": [
      "1024\n",
      "2\n",
      "2\n"
     ]
    }
   ],
   "source": [
    "print(len(train_dataset))\n",
    "print(len(val_dataset))\n",
    "print(len(test_dataset))"
   ]
  },
  {
   "cell_type": "markdown",
   "id": "b95377fe-0b9c-4405-8bed-d99b03289a07",
   "metadata": {},
   "source": [
    "<h3> Создание экземпляра модели"
   ]
  },
  {
   "cell_type": "code",
   "execution_count": 10,
   "id": "87601130-26ed-46d1-be07-9f40b3c2b4f8",
   "metadata": {
    "tags": []
   },
   "outputs": [],
   "source": [
    "#rog_params = {\n",
    "#    'classes': 1,\n",
    "#    'modalities': 1,\n",
    "#    'strides': [[2, 2, 1], [2, 2, 1], [2, 2, 2]],\n",
    "#}\n",
    "#model = ROG(rog_params)"
   ]
  },
  {
   "cell_type": "code",
   "execution_count": 11,
   "id": "63a09e15-308b-486d-b7ee-76c35ec5f7e2",
   "metadata": {
    "tags": []
   },
   "outputs": [],
   "source": [
    "#model = U_Net()\n",
    "class swish(nn.Module):\n",
    "    def forward(self, input_tensor):\n",
    "        return input_tensor * torch.sigmoid(input_tensor)\n",
    "\n",
    "#act_fn: nn.PReLU(inplace=True), nn.ReLU(inplace=True), swish\n",
    "model = U_Net_DeepSup(channel_coef=16, act_fn=swish())"
   ]
  },
  {
   "cell_type": "code",
   "execution_count": 12,
   "id": "f5eecf77-8a4a-4559-a1b9-bd86ca6be108",
   "metadata": {
    "tags": []
   },
   "outputs": [
    {
     "name": "stdout",
     "output_type": "stream",
     "text": [
      "Number of parameters: 6477875\n"
     ]
    }
   ],
   "source": [
    "print('Number of parameters: {}'.format(get_total_params(model)))"
   ]
  },
  {
   "cell_type": "code",
   "execution_count": 12,
   "id": "36d7c0f2-d2c2-47c5-99dc-f4ac60255ba3",
   "metadata": {
    "jupyter": {
     "source_hidden": true
    },
    "tags": []
   },
   "outputs": [],
   "source": [
    "import lightning as L\n",
    "\n",
    "\n",
    "class LitModel(L.LightningModule):\n",
    "    def __init__(self, torch_model, loss_fn, learning_rate):\n",
    "        super().__init__()\n",
    "        self.learning_rate = learning_rate\n",
    "        self.model = torch_model\n",
    "        self.loss_fn = loss_fn\n",
    "\n",
    "    def training_step(self, batch, batch_idx):\n",
    "        head_batch = batch['head_patch'].to(self.device)\n",
    "        vessels_batch = batch['vessels_patch'].to(self.device)\n",
    "    \n",
    "        outputs = self.model.forward(head_batch)\n",
    "        loss = self.loss_fn(vessels_batch, outputs)\n",
    "        self.log(\"train_loss\", loss)\n",
    "        return(loss)\n",
    "    \n",
    "    def configure_optimizers(self):\n",
    "        return torch.optim.Adam(self.model.parameters(), lr=self.learning_rate)\n",
    "\n",
    "#loss_fn = MultyscaleLoss(ExponentialLogarithmicLoss(gamma_tversky = 0.5, gamma_bce = 0.5, lamb=0.01,\n",
    "#                                                    freq = 0.001, tversky_alfa=0.5))\n",
    "#lightning_model = LitModel(model, loss_fn, 0.01)\n",
    "#trainer = L.Trainer(accelerator='gpu', auto_lr_find=True)\n",
    "#trainer.tune(lightning_model, train_dataloaders=train_dataloader)\n",
    "#print(\"predicted best lr:\", lightning_model.learning_rate)"
   ]
  },
  {
   "cell_type": "markdown",
   "id": "05150b88-328e-410d-9ae1-e566f6fbe9ce",
   "metadata": {},
   "source": [
    "<h3> Обучение модели"
   ]
  },
  {
   "cell_type": "code",
   "execution_count": 12,
   "id": "fdc41e48-ac6e-4b6d-91bf-a37f0b89a091",
   "metadata": {
    "tags": []
   },
   "outputs": [],
   "source": [
    "#l = WeightedExpBCE(0.5)\n",
    "#l.set_bce_weight(0.001)\n",
    "#loss_fn = MultyscaleLoss(l)\n",
    "\n",
    "#loss_fn = MultyscaleLoss(TverskyLoss(0.75))\n",
    "\n",
    "loss_fn = MultyscaleLoss(ExponentialLogarithmicLoss(gamma_tversky = 1, gamma_bce = 1, lamb=0.9,\n",
    "                                                    freq = 0.001, tversky_alfa=0.75))"
   ]
  },
  {
   "cell_type": "code",
   "execution_count": 13,
   "id": "db3f01a2-a9a6-418c-9f24-d417ed431483",
   "metadata": {
    "tags": []
   },
   "outputs": [],
   "source": [
    "metric_fn = IOU_Metric()\n",
    "\n",
    "trainer_config = {\n",
    "    'n_epochs': 100,\n",
    "    \"loss\" : loss_fn,\n",
    "    \"metric\" : metric_fn,\n",
    "    'device' : device,\n",
    "    \"optimizer_fn\" : lambda model: torch.optim.ASGD(model.parameters(), lr=0.25),\n",
    "    \"sheduler_fn\": lambda optimizer: StepLR(optimizer, step_size=5, gamma=0.5)\n",
    "}\n",
    "trainer = Trainer(trainer_config)"
   ]
  },
  {
   "cell_type": "code",
   "execution_count": null,
   "id": "55c90269-3eec-4016-aafa-9d25481e67a4",
   "metadata": {
    "tags": []
   },
   "outputs": [
    {
     "name": "stdout",
     "output_type": "stream",
     "text": [
      "Epoch 1/100\n"
     ]
    },
    {
     "name": "stderr",
     "output_type": "stream",
     "text": [
      "100%|███████████████████████████████████████████| 96/96 [00:36<00:00,  2.63it/s]\n"
     ]
    },
    {
     "name": "stdout",
     "output_type": "stream",
     "text": [
      "{'loss': 0.8079108949750662}\n"
     ]
    },
    {
     "name": "stderr",
     "output_type": "stream",
     "text": [
      "100%|█████████████████████████████████████████████| 2/2 [00:15<00:00,  7.82s/it]\n"
     ]
    },
    {
     "name": "stdout",
     "output_type": "stream",
     "text": [
      "{'metrics': [tensor([1.0817e-11]), tensor([0.1381])], 'sums': [{'GT_sum': tensor(312637.), 'seg_sum': tensor(611792.)}, {'GT_sum': tensor(320020.), 'seg_sum': tensor(1343269.)}]}\n",
      "Epoch 2/100\n"
     ]
    },
    {
     "name": "stderr",
     "output_type": "stream",
     "text": [
      "100%|███████████████████████████████████████████| 96/96 [01:00<00:00,  1.60it/s]\n"
     ]
    },
    {
     "name": "stdout",
     "output_type": "stream",
     "text": [
      "{'loss': 0.6437467777480682}\n"
     ]
    },
    {
     "name": "stderr",
     "output_type": "stream",
     "text": [
      "100%|█████████████████████████████████████████████| 2/2 [00:15<00:00,  7.95s/it]\n"
     ]
    },
    {
     "name": "stdout",
     "output_type": "stream",
     "text": [
      "{'metrics': [tensor([2.0066e-11]), tensor([0.0120])], 'sums': [{'GT_sum': tensor(312637.), 'seg_sum': tensor(185715.)}, {'GT_sum': tensor(320020.), 'seg_sum': tensor(18956248.)}]}\n",
      "Epoch 3/100\n"
     ]
    },
    {
     "name": "stderr",
     "output_type": "stream",
     "text": [
      " 28%|████████████                               | 27/96 [00:35<00:25,  2.73it/s]"
     ]
    }
   ],
   "source": [
    "model = trainer.fit(model, dataset.train_dataloader, val_dataloader)"
   ]
  },
  {
   "cell_type": "code",
   "execution_count": null,
   "id": "924a559f-05e7-4e5c-a8ad-81d2c5237221",
   "metadata": {},
   "outputs": [],
   "source": []
  },
  {
   "cell_type": "code",
   "execution_count": 16,
   "id": "46187a77-c050-47fd-b824-374e8f8bd133",
   "metadata": {
    "tags": []
   },
   "outputs": [],
   "source": [
    "model_name = \"Unet16_logTversky_54\"\n",
    "#trainer.save(\"/home/msst/repo/MSRepo/VesselSegmentation/saved_models/\" + model_name)"
   ]
  },
  {
   "cell_type": "code",
   "execution_count": 17,
   "id": "7822c6f4-2f6f-431a-8ef8-eeebe530daed",
   "metadata": {
    "tags": []
   },
   "outputs": [],
   "source": [
    "model.load_state_dict(torch.load(\"/home/msst/repo/MSRepo/VesselSegmentation/saved_models/\" + model_name)[\"model_state_dict\"])\n",
    "trainer.model = model.to(device)"
   ]
  },
  {
   "cell_type": "markdown",
   "id": "5283b921-c9a4-43bc-a8c6-82ade78251a7",
   "metadata": {},
   "source": [
    "<h3> Сегментация с помощью обученной модели\n",
    "    "
   ]
  },
  {
   "cell_type": "code",
   "execution_count": 19,
   "id": "2031bf17-a129-4870-8cf3-142477b598fe",
   "metadata": {
    "tags": []
   },
   "outputs": [
    {
     "name": "stdout",
     "output_type": "stream",
     "text": [
      "### P62_CTA ###\n",
      "metric: tensor([0.2195]) sum/sum_GT: tensor(0.4237)\n",
      "### new_CTA ###\n",
      "metric: tensor([0.1488]) sum/sum_GT: tensor(0.7033)\n"
     ]
    }
   ],
   "source": [
    "#patch_shape = (256, 256, 128)\n",
    "data_loader = test_dataloader#val_dataloader\n",
    "\n",
    "patch_shape = data_loader.dataset.patch_shape\n",
    "for batch in data_loader:\n",
    "    head_batch = batch['head']\n",
    "    vessels_batch = batch['vessels']\n",
    "    affine = batch['affine'][0]\n",
    "    sample_name = batch['sample_name'][0]\n",
    "    print(\"###\", sample_name, \"###\")\n",
    "    \n",
    "    head_seg = trainer.predict(head_batch, patch_shape)\n",
    "    metric = trainer.metric_fn(head_seg, vessels_batch)\n",
    "    \n",
    "    print('metric:', metric, \"sum/sum_GT:\", head_seg.sum()/vessels_batch.sum())\n",
    "    \n",
    "    vessels_seg = head_seg[0, 0]\n",
    "    data_dir = \"seg_data/\" + model_name\n",
    "    if not os.path.exists(data_dir):\n",
    "        os.mkdir(data_dir)\n",
    "\n",
    "    path_to_save_vessels = data_dir + '/' + sample_name + '.nii.gz'\n",
    "    save_vol_as_nii(vessels_seg, affine, path_to_save_vessels)"
   ]
  },
  {
   "cell_type": "code",
   "execution_count": null,
   "id": "0965ac98-57fd-4d93-a289-c92f2daeb9a7",
   "metadata": {
    "tags": []
   },
   "outputs": [],
   "source": [
    "print(head_seg.sum())\n",
    "vessels_seg = head_seg[0, 0]\n",
    "print(vessels_seg.sum())"
   ]
  },
  {
   "cell_type": "code",
   "execution_count": 31,
   "id": "f104da62-9d7a-4c44-828a-ee23f496c74e",
   "metadata": {},
   "outputs": [],
   "source": [
    "data_dir = \"seg_data/P12_CTA\"\n",
    "if not os.path.exists(data_dir):\n",
    "    os.mkdir(data_dir)\n",
    "\n",
    "\n",
    "path_to_save_vessels = data_dir + '/' + model_name + '_2.nii.gz'\n",
    "save_vol_as_nii(vessels_seg, affine, path_to_save_vessels)"
   ]
  },
  {
   "cell_type": "code",
   "execution_count": null,
   "id": "f2fee0a1-af4c-4696-b11e-8295e52ad1c4",
   "metadata": {},
   "outputs": [],
   "source": []
  },
  {
   "cell_type": "code",
   "execution_count": null,
   "id": "1c943353-2395-4856-91e1-60bee19dd3c7",
   "metadata": {},
   "outputs": [],
   "source": []
  },
  {
   "cell_type": "code",
   "execution_count": 4,
   "id": "c9281f2d-49a0-443b-b2a8-a1cbb8a1127f",
   "metadata": {
    "tags": []
   },
   "outputs": [
    {
     "name": "stdout",
     "output_type": "stream",
     "text": [
      "The autoreload extension is already loaded. To reload it, use:\n",
      "  %reload_ext autoreload\n"
     ]
    }
   ],
   "source": [
    "%load_ext autoreload\n",
    "%autoreload 2"
   ]
  }
 ],
 "metadata": {
  "kernelspec": {
   "display_name": "Python 3",
   "language": "python",
   "name": "python3"
  },
  "language_info": {
   "codemirror_mode": {
    "name": "ipython",
    "version": 3
   },
   "file_extension": ".py",
   "mimetype": "text/x-python",
   "name": "python",
   "nbconvert_exporter": "python",
   "pygments_lexer": "ipython3",
   "version": "3.8.10"
  }
 },
 "nbformat": 4,
 "nbformat_minor": 5
}
