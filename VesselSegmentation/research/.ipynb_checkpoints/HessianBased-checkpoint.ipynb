{
 "cells": [
  {
   "cell_type": "code",
   "execution_count": 1,
   "id": "6ae572fa-ba2a-46c6-b12b-cb2f053cb0de",
   "metadata": {
    "tags": []
   },
   "outputs": [],
   "source": [
    "%load_ext autoreload\n",
    "%autoreload 2\n",
    "import torch\n",
    "import torch.nn as nn\n",
    "from torch.optim.lr_scheduler import StepLR\n",
    "import torchio as tio\n",
    "import numpy as np\n",
    "import matplotlib.pyplot as plt\n",
    "import nibabel as nib\n",
    "\n",
    "import time\n",
    "from datetime import datetime\n",
    "from tqdm import tqdm"
   ]
  },
  {
   "cell_type": "code",
   "execution_count": 2,
   "id": "327f7528-8a18-49ca-839f-f8153af42360",
   "metadata": {
    "tags": []
   },
   "outputs": [],
   "source": [
    "import sys\n",
    "import os\n",
    "sys.path.append(os.path.dirname('../.'))\n",
    "\n",
    "from scripts.load_and_save import (get_dcm_info, get_dcm_vol, vox_size2affine,\n",
    "                                   load_nii_vol, save_vol_as_nii, raw2nifti)\n",
    "from scripts.utils import print_img, print_imgs, get_path\n",
    "from scripts.hessian_based import hessian_detect_2016\n",
    "\n",
    "from ml.get_model import get_model\n",
    "from ml.utils import get_total_params, load_pretrainned, test_model\n",
    "from ml.ControllerClass import Controller\n",
    "from ml.tio_dataset import TioDataset\n",
    "from ml.metrics import (DICE_Metric, JAC_Metric, SN_Metric, SP_Metric,\n",
    "                        IOU_Metric, ExponentialLogarithmicLoss)\n",
    "\n",
    "from ml.models.HessNet import HessBlock, HessNet, HessFeatures, HessUNet, HessUNet2 \n",
    "from ml.models.unet3d import U_Net\n",
    "from ml.models.unet2d import U_Net2d"
   ]
  },
  {
   "cell_type": "code",
   "execution_count": 5,
   "id": "615fd51a-fc8a-4c2f-b783-ed3ea024f52d",
   "metadata": {
    "tags": []
   },
   "outputs": [],
   "source": [
    "DEVICE = 'cuda'\n",
    "IS2D = 0"
   ]
  },
  {
   "cell_type": "code",
   "execution_count": 6,
   "id": "b3ef4c01-18d6-4b0f-b46d-76f6bbea1f17",
   "metadata": {
    "tags": []
   },
   "outputs": [],
   "source": [
    "if IS2D:\n",
    "    PATCH_SIZE_TRAIN = (512, 512, 1)\n",
    "    PATCH_SIZE_TEST = (512, 512, 1)\n",
    "    OVERLAP_TEST = (0, 0, 0)\n",
    "else:\n",
    "    PATCH_SIZE_TRAIN = (64, 64, 64)\n",
    "    PATCH_SIZE_TEST = (256, 256, 64)\n",
    "    OVERLAP_TEST = (32, 32, 24)\n",
    "\n",
    "train_settings  = {\n",
    "    \"patch_shape\" : PATCH_SIZE_TRAIN,\n",
    "    \"patches_per_volume\" : 4,\n",
    "    \"patches_queue_length\" : 1440,\n",
    "    \"batch_size\" : 16,\n",
    "    \"num_workers\": 4,\n",
    "    \"sampler\": \"uniform\",\n",
    "}\n",
    "\n",
    "test_settings = {\n",
    "    \"patch_shape\" : PATCH_SIZE_TEST,\n",
    "    \"overlap_shape\" : OVERLAP_TEST,\n",
    "    \"batch_size\" : 1,\n",
    "    \"num_workers\": 4,\n",
    "}\n",
    "\n",
    "data_dir = \"/home/msst/Documents/medtech/data/HessData_IXI\"\n",
    "dataset = TioDataset(data_dir,\n",
    "                 train_settings=train_settings,\n",
    "                 val_settings=None,#val_settings,\n",
    "                 test_settings=test_settings)"
   ]
  },
  {
   "cell_type": "code",
   "execution_count": 7,
   "id": "ae2d710e-a469-4243-af56-7b700e39f8c4",
   "metadata": {
    "tags": []
   },
   "outputs": [
    {
     "name": "stderr",
     "output_type": "stream",
     "text": [
      "/home/msst/repo/MSRepo/VesselSegmentation/research/../ml/models/HessNet.py:217: UserWarning: To copy construct from a tensor, it is recommended to use sourceTensor.clone().detach() or sourceTensor.clone().detach().requires_grad_(True), rather than torch.tensor(sourceTensor).\n",
      "  self.HessBlocks.append(HessBlock(start_scale=(0.5+i/2)*torch.tensor(start_scale),\n"
     ]
    },
    {
     "name": "stdout",
     "output_type": "stream",
     "text": [
      "total_params: 1608103\n"
     ]
    }
   ],
   "source": [
    "#model = HessNet(start_scale=[0.8], device=DEVICE) #HessNet_isotropic_3, HessNet_isotropic_4\n",
    "\n",
    "\n",
    "#model = HessNet(start_scale=[0.8, 0.8, 1.2], device=DEVICE) #HessNet_anisotropic_3, HessNet_anisotropic_4\n",
    "#model = U_Net(channels=16) #Unet_8ch, Unet_16ch\n",
    "#model = U_Net2d(channels=16) #Unet_8ch, Unet_16ch\n",
    "\n",
    "model = HessUNet2(in_channels=1, out_channels=1,\n",
    "                  channels=16, depth=3)\n",
    "#model = HessUNet(in_channels=1, out_channels=1, channels=16,\n",
    "#                 act=nn.Sigmoid(), depth=3)\n",
    "\n",
    "print(\"total_params:\", get_total_params(model))"
   ]
  },
  {
   "cell_type": "code",
   "execution_count": 8,
   "id": "180fc3eb-36a7-46d0-8585-5f6b51dc61fa",
   "metadata": {
    "tags": []
   },
   "outputs": [],
   "source": [
    "controller_config = {\n",
    "    \"loss\" : ExponentialLogarithmicLoss(gamma_tversky=0.5, gamma_bce=0.5, lamb=0.5,\n",
    "                                        freq = 0.1, tversky_alfa=0.5),\n",
    "    \"metric\" : DICE_Metric(),\n",
    "    'device' : DEVICE,\n",
    "    \"model\" : model,\n",
    "    \"optimizer_fn\" : lambda model: torch.optim.Adam(model.parameters(), lr=0.02),\n",
    "    \"sheduler_fn\": lambda optimizer: StepLR(optimizer, step_size=1, gamma=0.9),\n",
    "    \"is2d\" : IS2D,\n",
    "    'verbose':True\n",
    "}\n",
    "controller = Controller(controller_config)"
   ]
  },
  {
   "cell_type": "code",
   "execution_count": 9,
   "id": "d2c62da7-c0b0-434f-b2a9-536b06c985bd",
   "metadata": {
    "collapsed": true,
    "jupyter": {
     "outputs_hidden": true,
     "source_hidden": true
    },
    "tags": []
   },
   "outputs": [
    {
     "name": "stdout",
     "output_type": "stream",
     "text": [
      "Epoch 1/25\n"
     ]
    },
    {
     "name": "stderr",
     "output_type": "stream",
     "text": [
      "100%|█████████████████████████████████████████████| 3/3 [00:07<00:00,  2.53s/it]\n"
     ]
    },
    {
     "name": "stdout",
     "output_type": "stream",
     "text": [
      "{'mean_loss': 1.2988348603248596}\n"
     ]
    },
    {
     "name": "stderr",
     "output_type": "stream",
     "text": [
      "  0%|                                                     | 0/3 [00:05<?, ?it/s]\n"
     ]
    },
    {
     "ename": "KeyboardInterrupt",
     "evalue": "",
     "output_type": "error",
     "traceback": [
      "\u001b[0;31m---------------------------------------------------------------------------\u001b[0m",
      "\u001b[0;31mKeyboardInterrupt\u001b[0m                         Traceback (most recent call last)",
      "Cell \u001b[0;32mIn[9], line 1\u001b[0m\n\u001b[0;32m----> 1\u001b[0m \u001b[43mcontroller\u001b[49m\u001b[38;5;241;43m.\u001b[39;49m\u001b[43mfit\u001b[49m\u001b[43m(\u001b[49m\u001b[43mdataset\u001b[49m\u001b[43m,\u001b[49m\u001b[43m \u001b[49m\u001b[38;5;241;43m25\u001b[39;49m\u001b[43m)\u001b[49m\n",
      "File \u001b[0;32m~/repo/MSRepo/VesselSegmentation/research/../ml/ControllerClass.py:62\u001b[0m, in \u001b[0;36mController.fit\u001b[0;34m(self, dataset, n_epochs, brain_extractor)\u001b[0m\n\u001b[1;32m     59\u001b[0m     \u001b[38;5;28mself\u001b[39m\u001b[38;5;241m.\u001b[39mhistory[\u001b[38;5;124m'\u001b[39m\u001b[38;5;124mval_loss\u001b[39m\u001b[38;5;124m'\u001b[39m]\u001b[38;5;241m.\u001b[39mappend(val_info[\u001b[38;5;124m'\u001b[39m\u001b[38;5;124mmean_loss\u001b[39m\u001b[38;5;124m'\u001b[39m])\n\u001b[1;32m     61\u001b[0m \u001b[38;5;28;01mif\u001b[39;00m dataset\u001b[38;5;241m.\u001b[39mtest_dataloader \u001b[38;5;129;01mis\u001b[39;00m \u001b[38;5;129;01mnot\u001b[39;00m \u001b[38;5;28;01mNone\u001b[39;00m:\n\u001b[0;32m---> 62\u001b[0m     test_info \u001b[38;5;241m=\u001b[39m \u001b[38;5;28;43mself\u001b[39;49m\u001b[38;5;241;43m.\u001b[39;49m\u001b[43mtest_epoch\u001b[49m\u001b[43m(\u001b[49m\u001b[43mdataset\u001b[49m\u001b[38;5;241;43m.\u001b[39;49m\u001b[43mtest_dataloader\u001b[49m\u001b[43m)\u001b[49m\n\u001b[1;32m     63\u001b[0m     \u001b[38;5;28mprint\u001b[39m(test_info)\n\u001b[1;32m     64\u001b[0m     \u001b[38;5;28mself\u001b[39m\u001b[38;5;241m.\u001b[39mhistory[\u001b[38;5;124m'\u001b[39m\u001b[38;5;124mtest_quality\u001b[39m\u001b[38;5;124m'\u001b[39m]\u001b[38;5;241m.\u001b[39mappend(test_info)            \n",
      "File \u001b[0;32m~/repo/MSRepo/VesselSegmentation/research/../ml/ControllerClass.py:131\u001b[0m, in \u001b[0;36mController.test_epoch\u001b[0;34m(self, test_dataloader)\u001b[0m\n\u001b[1;32m    128\u001b[0m GT \u001b[38;5;241m=\u001b[39m batch[\u001b[38;5;124m\"\u001b[39m\u001b[38;5;124mGT\u001b[39m\u001b[38;5;124m\"\u001b[39m]\n\u001b[1;32m    129\u001b[0m sample_name \u001b[38;5;241m=\u001b[39m batch[\u001b[38;5;124m\"\u001b[39m\u001b[38;5;124msample_name\u001b[39m\u001b[38;5;124m\"\u001b[39m]\n\u001b[0;32m--> 131\u001b[0m head_seg \u001b[38;5;241m=\u001b[39m \u001b[38;5;28;43mself\u001b[39;49m\u001b[38;5;241;43m.\u001b[39;49m\u001b[43mfast_predict\u001b[49m\u001b[43m(\u001b[49m\u001b[43mpatch_loader\u001b[49m\u001b[43m,\u001b[49m\u001b[43m \u001b[49m\u001b[43mgrid_aggregator\u001b[49m\u001b[43m)\u001b[49m\n\u001b[1;32m    132\u001b[0m metric \u001b[38;5;241m=\u001b[39m \u001b[38;5;28mself\u001b[39m\u001b[38;5;241m.\u001b[39mmetric_fn(GT\u001b[38;5;241m.\u001b[39mdata, head_seg)\n\u001b[1;32m    133\u001b[0m metrics\u001b[38;5;241m.\u001b[39mappend({\u001b[38;5;124m\"\u001b[39m\u001b[38;5;124msample\u001b[39m\u001b[38;5;124m\"\u001b[39m : sample_name,\n\u001b[1;32m    134\u001b[0m                 \u001b[38;5;66;03m#\"seg_sum/GT_sum\" : head_seg.sum()/GT.data.sum(),\u001b[39;00m\n\u001b[1;32m    135\u001b[0m                 \u001b[38;5;124m\"\u001b[39m\u001b[38;5;124mmetric1\u001b[39m\u001b[38;5;124m\"\u001b[39m : metric})\n",
      "File \u001b[0;32m~/repo/MSRepo/VesselSegmentation/research/../ml/ControllerClass.py:147\u001b[0m, in \u001b[0;36mController.fast_predict\u001b[0;34m(self, patch_loader, grid_aggregator, thresh)\u001b[0m\n\u001b[1;32m    145\u001b[0m     head_patches \u001b[38;5;241m=\u001b[39m head_patches[:, :, :, :, \u001b[38;5;241m0\u001b[39m]\n\u001b[1;32m    146\u001b[0m \u001b[38;5;28;01mwith\u001b[39;00m torch\u001b[38;5;241m.\u001b[39mno_grad():\n\u001b[0;32m--> 147\u001b[0m     patch_seg \u001b[38;5;241m=\u001b[39m \u001b[38;5;28;43mself\u001b[39;49m\u001b[38;5;241;43m.\u001b[39;49m\u001b[43mmodel\u001b[49m\u001b[43m(\u001b[49m\u001b[43mhead_patches\u001b[49m\u001b[43m)\u001b[49m\n\u001b[1;32m    148\u001b[0m     \u001b[38;5;28;01mif\u001b[39;00m \u001b[38;5;28mself\u001b[39m\u001b[38;5;241m.\u001b[39mis2d:\n\u001b[1;32m    149\u001b[0m         patch_seg \u001b[38;5;241m=\u001b[39m patch_seg\u001b[38;5;241m.\u001b[39munsqueeze(\u001b[38;5;241m-\u001b[39m\u001b[38;5;241m1\u001b[39m)\n",
      "File \u001b[0;32m~/.local/lib/python3.8/site-packages/torch/nn/modules/module.py:1501\u001b[0m, in \u001b[0;36mModule._call_impl\u001b[0;34m(self, *args, **kwargs)\u001b[0m\n\u001b[1;32m   1496\u001b[0m \u001b[38;5;66;03m# If we don't have any hooks, we want to skip the rest of the logic in\u001b[39;00m\n\u001b[1;32m   1497\u001b[0m \u001b[38;5;66;03m# this function, and just call forward.\u001b[39;00m\n\u001b[1;32m   1498\u001b[0m \u001b[38;5;28;01mif\u001b[39;00m \u001b[38;5;129;01mnot\u001b[39;00m (\u001b[38;5;28mself\u001b[39m\u001b[38;5;241m.\u001b[39m_backward_hooks \u001b[38;5;129;01mor\u001b[39;00m \u001b[38;5;28mself\u001b[39m\u001b[38;5;241m.\u001b[39m_backward_pre_hooks \u001b[38;5;129;01mor\u001b[39;00m \u001b[38;5;28mself\u001b[39m\u001b[38;5;241m.\u001b[39m_forward_hooks \u001b[38;5;129;01mor\u001b[39;00m \u001b[38;5;28mself\u001b[39m\u001b[38;5;241m.\u001b[39m_forward_pre_hooks\n\u001b[1;32m   1499\u001b[0m         \u001b[38;5;129;01mor\u001b[39;00m _global_backward_pre_hooks \u001b[38;5;129;01mor\u001b[39;00m _global_backward_hooks\n\u001b[1;32m   1500\u001b[0m         \u001b[38;5;129;01mor\u001b[39;00m _global_forward_hooks \u001b[38;5;129;01mor\u001b[39;00m _global_forward_pre_hooks):\n\u001b[0;32m-> 1501\u001b[0m     \u001b[38;5;28;01mreturn\u001b[39;00m \u001b[43mforward_call\u001b[49m\u001b[43m(\u001b[49m\u001b[38;5;241;43m*\u001b[39;49m\u001b[43margs\u001b[49m\u001b[43m,\u001b[49m\u001b[43m \u001b[49m\u001b[38;5;241;43m*\u001b[39;49m\u001b[38;5;241;43m*\u001b[39;49m\u001b[43mkwargs\u001b[49m\u001b[43m)\u001b[49m\n\u001b[1;32m   1502\u001b[0m \u001b[38;5;66;03m# Do not call functions when jit is used\u001b[39;00m\n\u001b[1;32m   1503\u001b[0m full_backward_hooks, non_full_backward_hooks \u001b[38;5;241m=\u001b[39m [], []\n",
      "File \u001b[0;32m~/repo/MSRepo/VesselSegmentation/research/../ml/models/HessNet.py:384\u001b[0m, in \u001b[0;36mHessUNet2.forward\u001b[0;34m(self, x)\u001b[0m\n\u001b[1;32m    381\u001b[0m     x \u001b[38;5;241m=\u001b[39m \u001b[38;5;28mself\u001b[39m\u001b[38;5;241m.\u001b[39mUpConvs[i](x)\n\u001b[1;32m    383\u001b[0m out \u001b[38;5;241m=\u001b[39m \u001b[38;5;28mself\u001b[39m\u001b[38;5;241m.\u001b[39moutConv1(x)     \n\u001b[0;32m--> 384\u001b[0m out \u001b[38;5;241m=\u001b[39m torch\u001b[38;5;241m.\u001b[39mcat([\u001b[38;5;28;43mself\u001b[39;49m\u001b[38;5;241;43m.\u001b[39;49m\u001b[43mHessFeatures_out\u001b[49m\u001b[43m(\u001b[49m\u001b[43mout\u001b[49m\u001b[43m)\u001b[49m, out], dim\u001b[38;5;241m=\u001b[39m\u001b[38;5;241m1\u001b[39m)\n\u001b[1;32m    385\u001b[0m out \u001b[38;5;241m=\u001b[39m \u001b[38;5;28mself\u001b[39m\u001b[38;5;241m.\u001b[39moutConv2(out)\n\u001b[1;32m    386\u001b[0m out \u001b[38;5;241m=\u001b[39m \u001b[38;5;28mself\u001b[39m\u001b[38;5;241m.\u001b[39mact(out)\n",
      "File \u001b[0;32m~/.local/lib/python3.8/site-packages/torch/nn/modules/module.py:1501\u001b[0m, in \u001b[0;36mModule._call_impl\u001b[0;34m(self, *args, **kwargs)\u001b[0m\n\u001b[1;32m   1496\u001b[0m \u001b[38;5;66;03m# If we don't have any hooks, we want to skip the rest of the logic in\u001b[39;00m\n\u001b[1;32m   1497\u001b[0m \u001b[38;5;66;03m# this function, and just call forward.\u001b[39;00m\n\u001b[1;32m   1498\u001b[0m \u001b[38;5;28;01mif\u001b[39;00m \u001b[38;5;129;01mnot\u001b[39;00m (\u001b[38;5;28mself\u001b[39m\u001b[38;5;241m.\u001b[39m_backward_hooks \u001b[38;5;129;01mor\u001b[39;00m \u001b[38;5;28mself\u001b[39m\u001b[38;5;241m.\u001b[39m_backward_pre_hooks \u001b[38;5;129;01mor\u001b[39;00m \u001b[38;5;28mself\u001b[39m\u001b[38;5;241m.\u001b[39m_forward_hooks \u001b[38;5;129;01mor\u001b[39;00m \u001b[38;5;28mself\u001b[39m\u001b[38;5;241m.\u001b[39m_forward_pre_hooks\n\u001b[1;32m   1499\u001b[0m         \u001b[38;5;129;01mor\u001b[39;00m _global_backward_pre_hooks \u001b[38;5;129;01mor\u001b[39;00m _global_backward_hooks\n\u001b[1;32m   1500\u001b[0m         \u001b[38;5;129;01mor\u001b[39;00m _global_forward_hooks \u001b[38;5;129;01mor\u001b[39;00m _global_forward_pre_hooks):\n\u001b[0;32m-> 1501\u001b[0m     \u001b[38;5;28;01mreturn\u001b[39;00m \u001b[43mforward_call\u001b[49m\u001b[43m(\u001b[49m\u001b[38;5;241;43m*\u001b[39;49m\u001b[43margs\u001b[49m\u001b[43m,\u001b[49m\u001b[43m \u001b[49m\u001b[38;5;241;43m*\u001b[39;49m\u001b[38;5;241;43m*\u001b[39;49m\u001b[43mkwargs\u001b[49m\u001b[43m)\u001b[49m\n\u001b[1;32m   1502\u001b[0m \u001b[38;5;66;03m# Do not call functions when jit is used\u001b[39;00m\n\u001b[1;32m   1503\u001b[0m full_backward_hooks, non_full_backward_hooks \u001b[38;5;241m=\u001b[39m [], []\n",
      "File \u001b[0;32m~/repo/MSRepo/VesselSegmentation/research/../ml/models/HessNet.py:224\u001b[0m, in \u001b[0;36mHessFeatures.forward\u001b[0;34m(self, x)\u001b[0m\n\u001b[1;32m    222\u001b[0m h \u001b[38;5;241m=\u001b[39m []\n\u001b[1;32m    223\u001b[0m \u001b[38;5;28;01mfor\u001b[39;00m HessBlock \u001b[38;5;129;01min\u001b[39;00m \u001b[38;5;28mself\u001b[39m\u001b[38;5;241m.\u001b[39mHessBlocks:\n\u001b[0;32m--> 224\u001b[0m     h\u001b[38;5;241m.\u001b[39mappend(\u001b[43mHessBlock\u001b[49m\u001b[43m(\u001b[49m\u001b[43mx\u001b[49m\u001b[43m)\u001b[49m)     \n\u001b[1;32m    225\u001b[0m out \u001b[38;5;241m=\u001b[39m torch\u001b[38;5;241m.\u001b[39mcat(h, \u001b[38;5;241m1\u001b[39m)\n\u001b[1;32m    226\u001b[0m \u001b[38;5;28;01mreturn\u001b[39;00m(out)\n",
      "File \u001b[0;32m~/.local/lib/python3.8/site-packages/torch/nn/modules/module.py:1501\u001b[0m, in \u001b[0;36mModule._call_impl\u001b[0;34m(self, *args, **kwargs)\u001b[0m\n\u001b[1;32m   1496\u001b[0m \u001b[38;5;66;03m# If we don't have any hooks, we want to skip the rest of the logic in\u001b[39;00m\n\u001b[1;32m   1497\u001b[0m \u001b[38;5;66;03m# this function, and just call forward.\u001b[39;00m\n\u001b[1;32m   1498\u001b[0m \u001b[38;5;28;01mif\u001b[39;00m \u001b[38;5;129;01mnot\u001b[39;00m (\u001b[38;5;28mself\u001b[39m\u001b[38;5;241m.\u001b[39m_backward_hooks \u001b[38;5;129;01mor\u001b[39;00m \u001b[38;5;28mself\u001b[39m\u001b[38;5;241m.\u001b[39m_backward_pre_hooks \u001b[38;5;129;01mor\u001b[39;00m \u001b[38;5;28mself\u001b[39m\u001b[38;5;241m.\u001b[39m_forward_hooks \u001b[38;5;129;01mor\u001b[39;00m \u001b[38;5;28mself\u001b[39m\u001b[38;5;241m.\u001b[39m_forward_pre_hooks\n\u001b[1;32m   1499\u001b[0m         \u001b[38;5;129;01mor\u001b[39;00m _global_backward_pre_hooks \u001b[38;5;129;01mor\u001b[39;00m _global_backward_hooks\n\u001b[1;32m   1500\u001b[0m         \u001b[38;5;129;01mor\u001b[39;00m _global_forward_hooks \u001b[38;5;129;01mor\u001b[39;00m _global_forward_pre_hooks):\n\u001b[0;32m-> 1501\u001b[0m     \u001b[38;5;28;01mreturn\u001b[39;00m \u001b[43mforward_call\u001b[49m\u001b[43m(\u001b[49m\u001b[38;5;241;43m*\u001b[39;49m\u001b[43margs\u001b[49m\u001b[43m,\u001b[49m\u001b[43m \u001b[49m\u001b[38;5;241;43m*\u001b[39;49m\u001b[38;5;241;43m*\u001b[39;49m\u001b[43mkwargs\u001b[49m\u001b[43m)\u001b[49m\n\u001b[1;32m   1502\u001b[0m \u001b[38;5;66;03m# Do not call functions when jit is used\u001b[39;00m\n\u001b[1;32m   1503\u001b[0m full_backward_hooks, non_full_backward_hooks \u001b[38;5;241m=\u001b[39m [], []\n",
      "File \u001b[0;32m~/repo/MSRepo/VesselSegmentation/research/../ml/models/HessNet.py:161\u001b[0m, in \u001b[0;36mHessBlock.forward\u001b[0;34m(self, x)\u001b[0m\n\u001b[1;32m    159\u001b[0m x \u001b[38;5;241m=\u001b[39m \u001b[38;5;28mself\u001b[39m\u001b[38;5;241m.\u001b[39mhess(x, \u001b[38;5;28mself\u001b[39m\u001b[38;5;241m.\u001b[39mscale)\u001b[38;5;241m.\u001b[39mpermute(\u001b[38;5;241m1\u001b[39m,\u001b[38;5;241m2\u001b[39m,\u001b[38;5;241m3\u001b[39m,\u001b[38;5;241m4\u001b[39m,\u001b[38;5;241m5\u001b[39m,\u001b[38;5;241m0\u001b[39m) \u001b[38;5;66;03m#1\u001b[39;00m\n\u001b[1;32m    160\u001b[0m x \u001b[38;5;241m=\u001b[39m \u001b[38;5;28mself\u001b[39m\u001b[38;5;241m.\u001b[39mflat(x)\n\u001b[0;32m--> 161\u001b[0m scale_attention \u001b[38;5;241m=\u001b[39m \u001b[38;5;28mself\u001b[39m\u001b[38;5;241m.\u001b[39mscale\u001b[38;5;241m*\u001b[39m\u001b[43mtorch\u001b[49m\u001b[38;5;241;43m.\u001b[39;49m\u001b[43mones\u001b[49m\u001b[43m(\u001b[49m\u001b[43m(\u001b[49m\u001b[43mx\u001b[49m\u001b[38;5;241;43m.\u001b[39;49m\u001b[43mshape\u001b[49m\u001b[43m[\u001b[49m\u001b[38;5;241;43m0\u001b[39;49m\u001b[43m]\u001b[49m\u001b[43m,\u001b[49m\u001b[43m \u001b[49m\u001b[43mx\u001b[49m\u001b[38;5;241;43m.\u001b[39;49m\u001b[43mshape\u001b[49m\u001b[43m[\u001b[49m\u001b[38;5;241;43m1\u001b[39;49m\u001b[43m]\u001b[49m\u001b[43m,\u001b[49m\u001b[43m \u001b[49m\u001b[43mx\u001b[49m\u001b[38;5;241;43m.\u001b[39;49m\u001b[43mshape\u001b[49m\u001b[43m[\u001b[49m\u001b[38;5;241;43m2\u001b[39;49m\u001b[43m]\u001b[49m\u001b[43m,\u001b[49m\n\u001b[1;32m    162\u001b[0m \u001b[43m                                         \u001b[49m\u001b[38;5;28;43mself\u001b[39;49m\u001b[38;5;241;43m.\u001b[39;49m\u001b[43mscale\u001b[49m\u001b[38;5;241;43m.\u001b[39;49m\u001b[43mshape\u001b[49m\u001b[43m[\u001b[49m\u001b[38;5;241;43m0\u001b[39;49m\u001b[43m]\u001b[49m\u001b[43m)\u001b[49m\u001b[43m)\u001b[49m\u001b[38;5;241;43m.\u001b[39;49m\u001b[43mto\u001b[49m\u001b[43m(\u001b[49m\u001b[38;5;28;43mself\u001b[39;49m\u001b[38;5;241;43m.\u001b[39;49m\u001b[43mdevice\u001b[49m\u001b[43m)\u001b[49m\n\u001b[1;32m    163\u001b[0m x \u001b[38;5;241m=\u001b[39m torch\u001b[38;5;241m.\u001b[39mcat([x, scale_attention], axis\u001b[38;5;241m=\u001b[39m\u001b[38;5;241m3\u001b[39m)\n\u001b[1;32m    164\u001b[0m x \u001b[38;5;241m=\u001b[39m \u001b[38;5;28mself\u001b[39m\u001b[38;5;241m.\u001b[39mlinear(x) \u001b[38;5;66;03m#2\u001b[39;00m\n",
      "\u001b[0;31mKeyboardInterrupt\u001b[0m: "
     ]
    }
   ],
   "source": [
    "controller.fit(dataset, 25)"
   ]
  },
  {
   "cell_type": "code",
   "execution_count": 9,
   "id": "63255d52-f74c-43b5-a085-695b3aade9b5",
   "metadata": {
    "jupyter": {
     "source_hidden": true
    },
    "tags": []
   },
   "outputs": [],
   "source": [
    "model_name = \"Unet3d_16ch\"\n",
    "#model_name = \"Unet2d_16ch\"\n",
    "#model_name = \"HessNet_isotropic_smartnorm\"\n",
    "\n",
    "#model_name = \"HessUNet_depth3\""
   ]
  },
  {
   "cell_type": "code",
   "execution_count": 9,
   "id": "096bdf5b-cd1a-429e-bbb0-0213ec68b40e",
   "metadata": {
    "jupyter": {
     "source_hidden": true
    },
    "tags": []
   },
   "outputs": [],
   "source": [
    "#controller.save(f\"/home/msst/save_folder/saved_models/{model_name}\")"
   ]
  },
  {
   "cell_type": "code",
   "execution_count": 10,
   "id": "f014d15a-ad04-45e4-bbb3-1785cd18f6ae",
   "metadata": {
    "jupyter": {
     "source_hidden": true
    },
    "tags": []
   },
   "outputs": [],
   "source": [
    "path_to_check = f\"/home/msst/save_folder/saved_models/{model_name}\"\n",
    "controller.load(path_to_checkpoint=path_to_check)"
   ]
  },
  {
   "cell_type": "code",
   "execution_count": 11,
   "id": "ea3d9510-3ee9-495c-82cf-f4ad4795c5f3",
   "metadata": {
    "jupyter": {
     "source_hidden": true
    },
    "tags": []
   },
   "outputs": [
    {
     "name": "stdout",
     "output_type": "stream",
     "text": [
      "3.5003650188446045\n"
     ]
    }
   ],
   "source": [
    "sample_index = \"020\"\n",
    "\n",
    "#path_to_GT = get_path(f\"/home/msst/IXI_MRA_work/IXI{sample_index}\", key=\"vessels\")\n",
    "#GT = tio.ScalarImage(path_to_GT).data\n",
    "#path_to_brain_mask = get_path(f\"/home/msst/IXI_MRA_work/IXI{sample_index}\", key=\"brain\")\n",
    "#brain_mask = tio.ScalarImage(path_to_brain_mask).data\n",
    "\n",
    "path_to_vol = get_path(f\"/home/msst/IXI_MRA_work/IXI{sample_index}\", key=\"head\")\n",
    "subject_dict = {'head': tio.ScalarImage(path_to_vol)}\n",
    "subject = tio.Subject(subject_dict)\n",
    "subject = tio.transforms.ZNormalization()(subject)\n",
    "\n",
    "t = time.time()\n",
    "seg = controller.single_predict(subject, test_settings)\n",
    "print(time.time() - t)\n",
    "\n",
    "dt_string = datetime.now().strftime(\"%d_%m_%Y_%H:%M\")\n",
    "dir_name = os.path.dirname(path_to_vol)\n",
    "\n",
    "path_to_save = f\"/home/msst/IXI_MRA_work/IXI{sample_index}/{model_name}_{dt_string}.nii.gz\"\n",
    "seg_to_save = seg[0].numpy()\n",
    "save_vol_as_nii(seg_to_save.astype(np.float32), subject.head.affine, path_to_save)"
   ]
  },
  {
   "cell_type": "markdown",
   "id": "e427a200-0d7a-4f0b-88ab-013dba43a1e1",
   "metadata": {},
   "source": [
    "**<h3>GLOBAL TEST**"
   ]
  },
  {
   "cell_type": "code",
   "execution_count": 3,
   "id": "f46aa9e6-4883-4883-bf9b-5afaf61eafc8",
   "metadata": {
    "tags": []
   },
   "outputs": [],
   "source": [
    "def run_tests(model_name, path_to_save_models, is2d, test_data_path, epochs):\n",
    "    if is2d:\n",
    "        PATCH_SIZE_TRAIN = (512, 512, 1)\n",
    "        PATCH_SIZE_TEST = (512, 512, 1)\n",
    "        OVERLAP_TEST = (0, 0, 0)\n",
    "    else:\n",
    "        PATCH_SIZE_TRAIN = (64, 64, 64)\n",
    "        PATCH_SIZE_TEST = (256, 256, 64)\n",
    "        OVERLAP_TEST = (32, 32, 24)\n",
    "    \n",
    "    train_settings  = {\n",
    "        \"patch_shape\" : PATCH_SIZE_TRAIN,\n",
    "        \"patches_per_volume\" : 64,\n",
    "        \"patches_queue_length\" : 1440,\n",
    "        \"batch_size\" : 16,\n",
    "        \"num_workers\": 4,\n",
    "        \"sampler\": \"uniform\",\n",
    "    }\n",
    "    \n",
    "    test_settings = {\n",
    "        \"patch_shape\" : PATCH_SIZE_TEST,\n",
    "        \"overlap_shape\" : OVERLAP_TEST,\n",
    "        \"batch_size\" : 1,\n",
    "        \"num_workers\": 4,\n",
    "    }\n",
    "    \n",
    "    for test in tqdm(os.listdir(test_data_path)):\n",
    "        dataset = TioDataset(test_data_path + '/' + test,\n",
    "                  train_settings=train_settings,\n",
    "                  test_settings=test_settings)\n",
    "        \n",
    "        model = get_model(model_name)\n",
    "        \n",
    "        controller_config = {\n",
    "            \"loss\" : ExponentialLogarithmicLoss(gamma_tversky=0.5, gamma_bce=0.5, lamb=0.5,\n",
    "                                                freq = 0.1, tversky_alfa=0.5),\n",
    "            \"metric\" : DICE_Metric(),\n",
    "            'device' : 'cuda',\n",
    "            \"model\" : model,\n",
    "            \"optimizer_fn\" : lambda model: torch.optim.Adam(model.parameters(), lr=0.02),\n",
    "            \"sheduler_fn\": lambda optimizer: StepLR(optimizer, step_size=1, gamma=0.9),\n",
    "            \"is2d\" : is2d,\n",
    "            'verbose': False\n",
    "        }\n",
    "        controller = Controller(controller_config)\n",
    "        controller.fit(dataset, epochs)\n",
    "        controller.save(f\"{path_to_save_models}/{model_name}_{test}\")"
   ]
  },
  {
   "cell_type": "code",
   "execution_count": 4,
   "id": "d24be0fa-3b3a-4ce2-a1f1-cff51f13d6fb",
   "metadata": {
    "tags": []
   },
   "outputs": [
    {
     "name": "stderr",
     "output_type": "stream",
     "text": [
      "  0%|                                                     | 0/2 [00:00<?, ?it/s]/home/msst/repo/MSRepo/VesselSegmentation/research/../ml/models/HessNet.py:217: UserWarning: To copy construct from a tensor, it is recommended to use sourceTensor.clone().detach() or sourceTensor.clone().detach().requires_grad_(True), rather than torch.tensor(sourceTensor).\n",
      "  self.HessBlocks.append(HessBlock(start_scale=(0.5+i/2)*torch.tensor(start_scale),\n"
     ]
    },
    {
     "name": "stdout",
     "output_type": "stream",
     "text": [
      "Epoch 1/25\n",
      "{'mean_loss': 1.0034169976909955}\n",
      "{'metrics': [{'sample': 'IXI111_0', 'metric1': tensor([0.1961])}, {'sample': 'IXI100_0', 'metric1': tensor([0.1354])}, {'sample': 'IXI020_0', 'metric1': tensor([0.1839])}]}\n",
      "Epoch 2/25\n",
      "{'mean_loss': 0.5577186935891708}\n",
      "{'metrics': [{'sample': 'IXI111_0', 'metric1': tensor([0.3921])}, {'sample': 'IXI100_0', 'metric1': tensor([0.3414])}, {'sample': 'IXI020_0', 'metric1': tensor([0.3726])}]}\n",
      "Epoch 3/25\n",
      "{'mean_loss': 0.4549638119836648}\n",
      "{'metrics': [{'sample': 'IXI111_0', 'metric1': tensor([0.5136])}, {'sample': 'IXI100_0', 'metric1': tensor([0.4602])}, {'sample': 'IXI020_0', 'metric1': tensor([0.4841])}]}\n",
      "Epoch 4/25\n",
      "{'mean_loss': 0.40898488151530427}\n",
      "{'metrics': [{'sample': 'IXI111_0', 'metric1': tensor([0.5588])}, {'sample': 'IXI100_0', 'metric1': tensor([0.5072])}, {'sample': 'IXI020_0', 'metric1': tensor([0.5356])}]}\n",
      "Epoch 5/25\n",
      "{'mean_loss': 0.3945464218656222}\n",
      "{'metrics': [{'sample': 'IXI111_0', 'metric1': tensor([0.6253])}, {'sample': 'IXI100_0', 'metric1': tensor([0.5603])}, {'sample': 'IXI020_0', 'metric1': tensor([0.5918])}]}\n",
      "Epoch 6/25\n",
      "{'mean_loss': 0.4068630250791709}\n",
      "{'metrics': [{'sample': 'IXI111_0', 'metric1': tensor([0.6534])}, {'sample': 'IXI100_0', 'metric1': tensor([0.5926])}, {'sample': 'IXI020_0', 'metric1': tensor([0.6206])}]}\n",
      "Epoch 7/25\n",
      "{'mean_loss': 0.369722418487072}\n",
      "{'metrics': [{'sample': 'IXI111_0', 'metric1': tensor([0.6894])}, {'sample': 'IXI100_0', 'metric1': tensor([0.6276])}, {'sample': 'IXI020_0', 'metric1': tensor([0.6551])}]}\n",
      "Epoch 8/25\n",
      "{'mean_loss': 0.372005991016825}\n",
      "{'metrics': [{'sample': 'IXI111_0', 'metric1': tensor([0.6963])}, {'sample': 'IXI100_0', 'metric1': tensor([0.6362])}, {'sample': 'IXI020_0', 'metric1': tensor([0.6611])}]}\n",
      "Epoch 9/25\n",
      "{'mean_loss': 0.3665477925290664}\n",
      "{'metrics': [{'sample': 'IXI111_0', 'metric1': tensor([0.7023])}, {'sample': 'IXI100_0', 'metric1': tensor([0.6382])}, {'sample': 'IXI020_0', 'metric1': tensor([0.6661])}]}\n",
      "Epoch 10/25\n",
      "{'mean_loss': 0.371028163159887}\n",
      "{'metrics': [{'sample': 'IXI111_0', 'metric1': tensor([0.7060])}, {'sample': 'IXI100_0', 'metric1': tensor([0.6444])}, {'sample': 'IXI020_0', 'metric1': tensor([0.6714])}]}\n",
      "Epoch 11/25\n",
      "{'mean_loss': 0.347349355618159}\n",
      "{'metrics': [{'sample': 'IXI111_0', 'metric1': tensor([0.7107])}, {'sample': 'IXI100_0', 'metric1': tensor([0.6487])}, {'sample': 'IXI020_0', 'metric1': tensor([0.6779])}]}\n",
      "Epoch 12/25\n",
      "{'mean_loss': 0.3406363024065892}\n",
      "{'metrics': [{'sample': 'IXI111_0', 'metric1': tensor([0.7177])}, {'sample': 'IXI100_0', 'metric1': tensor([0.6567])}, {'sample': 'IXI020_0', 'metric1': tensor([0.6854])}]}\n",
      "Epoch 13/25\n"
     ]
    },
    {
     "name": "stderr",
     "output_type": "stream",
     "text": [
      "  0%|                                                     | 0/2 [22:34<?, ?it/s]\n"
     ]
    },
    {
     "ename": "KeyboardInterrupt",
     "evalue": "",
     "output_type": "error",
     "traceback": [
      "\u001b[0;31m---------------------------------------------------------------------------\u001b[0m",
      "\u001b[0;31mKeyboardInterrupt\u001b[0m                         Traceback (most recent call last)",
      "Cell \u001b[0;32mIn[4], line 1\u001b[0m\n\u001b[0;32m----> 1\u001b[0m \u001b[43mrun_tests\u001b[49m\u001b[43m(\u001b[49m\u001b[43mmodel_name\u001b[49m\u001b[38;5;241;43m=\u001b[39;49m\u001b[38;5;124;43m\"\u001b[39;49m\u001b[38;5;124;43mHessUNet2\u001b[39;49m\u001b[38;5;124;43m\"\u001b[39;49m\u001b[43m,\u001b[49m\u001b[43m \u001b[49m\n\u001b[1;32m      2\u001b[0m \u001b[43m          \u001b[49m\u001b[43mpath_to_save_models\u001b[49m\u001b[38;5;241;43m=\u001b[39;49m\u001b[38;5;124;43m\"\u001b[39;49m\u001b[38;5;124;43m/home/msst/save_folder/models_for_tests\u001b[39;49m\u001b[38;5;124;43m\"\u001b[39;49m\u001b[43m,\u001b[49m\n\u001b[1;32m      3\u001b[0m \u001b[43m          \u001b[49m\u001b[43mtest_data_path\u001b[49m\u001b[43m \u001b[49m\u001b[38;5;241;43m=\u001b[39;49m\u001b[43m \u001b[49m\u001b[38;5;124;43m'\u001b[39;49m\u001b[38;5;124;43m/home/msst/Documents/medtech/data/HessData_IXI_test\u001b[39;49m\u001b[38;5;124;43m'\u001b[39;49m\u001b[43m,\u001b[49m\n\u001b[1;32m      4\u001b[0m \u001b[43m          \u001b[49m\u001b[43mis2d\u001b[49m\u001b[38;5;241;43m=\u001b[39;49m\u001b[38;5;28;43;01mFalse\u001b[39;49;00m\u001b[43m,\u001b[49m\n\u001b[1;32m      5\u001b[0m \u001b[43m          \u001b[49m\u001b[43mepochs\u001b[49m\u001b[38;5;241;43m=\u001b[39;49m\u001b[38;5;241;43m25\u001b[39;49m\u001b[43m)\u001b[49m\n",
      "Cell \u001b[0;32mIn[3], line 46\u001b[0m, in \u001b[0;36mrun_tests\u001b[0;34m(model_name, path_to_save_models, is2d, test_data_path, epochs)\u001b[0m\n\u001b[1;32m     34\u001b[0m controller_config \u001b[38;5;241m=\u001b[39m {\n\u001b[1;32m     35\u001b[0m     \u001b[38;5;124m\"\u001b[39m\u001b[38;5;124mloss\u001b[39m\u001b[38;5;124m\"\u001b[39m : ExponentialLogarithmicLoss(gamma_tversky\u001b[38;5;241m=\u001b[39m\u001b[38;5;241m0.5\u001b[39m, gamma_bce\u001b[38;5;241m=\u001b[39m\u001b[38;5;241m0.5\u001b[39m, lamb\u001b[38;5;241m=\u001b[39m\u001b[38;5;241m0.5\u001b[39m,\n\u001b[1;32m     36\u001b[0m                                         freq \u001b[38;5;241m=\u001b[39m \u001b[38;5;241m0.1\u001b[39m, tversky_alfa\u001b[38;5;241m=\u001b[39m\u001b[38;5;241m0.5\u001b[39m),\n\u001b[0;32m   (...)\u001b[0m\n\u001b[1;32m     43\u001b[0m     \u001b[38;5;124m'\u001b[39m\u001b[38;5;124mverbose\u001b[39m\u001b[38;5;124m'\u001b[39m: \u001b[38;5;28;01mFalse\u001b[39;00m\n\u001b[1;32m     44\u001b[0m }\n\u001b[1;32m     45\u001b[0m controller \u001b[38;5;241m=\u001b[39m Controller(controller_config)\n\u001b[0;32m---> 46\u001b[0m \u001b[43mcontroller\u001b[49m\u001b[38;5;241;43m.\u001b[39;49m\u001b[43mfit\u001b[49m\u001b[43m(\u001b[49m\u001b[43mdataset\u001b[49m\u001b[43m,\u001b[49m\u001b[43m \u001b[49m\u001b[43mepochs\u001b[49m\u001b[43m)\u001b[49m\n\u001b[1;32m     47\u001b[0m controller\u001b[38;5;241m.\u001b[39msave(\u001b[38;5;124mf\u001b[39m\u001b[38;5;124m\"\u001b[39m\u001b[38;5;132;01m{\u001b[39;00mpath_to_save_models\u001b[38;5;132;01m}\u001b[39;00m\u001b[38;5;124m/\u001b[39m\u001b[38;5;132;01m{\u001b[39;00mmodel_name\u001b[38;5;132;01m}\u001b[39;00m\u001b[38;5;124m_\u001b[39m\u001b[38;5;132;01m{\u001b[39;00mtest\u001b[38;5;132;01m}\u001b[39;00m\u001b[38;5;124m\"\u001b[39m)\n",
      "File \u001b[0;32m~/repo/MSRepo/VesselSegmentation/research/../ml/ControllerClass.py:52\u001b[0m, in \u001b[0;36mController.fit\u001b[0;34m(self, dataset, n_epochs, brain_extractor)\u001b[0m\n\u001b[1;32m     49\u001b[0m \u001b[38;5;28mself\u001b[39m\u001b[38;5;241m.\u001b[39mepoch \u001b[38;5;241m+\u001b[39m\u001b[38;5;241m=\u001b[39m \u001b[38;5;241m1\u001b[39m\n\u001b[1;32m     50\u001b[0m \u001b[38;5;28mprint\u001b[39m(\u001b[38;5;124mf\u001b[39m\u001b[38;5;124m\"\u001b[39m\u001b[38;5;124mEpoch \u001b[39m\u001b[38;5;132;01m{\u001b[39;00mepoch\u001b[38;5;250m \u001b[39m\u001b[38;5;241m+\u001b[39m\u001b[38;5;250m \u001b[39m\u001b[38;5;241m1\u001b[39m\u001b[38;5;132;01m}\u001b[39;00m\u001b[38;5;124m/\u001b[39m\u001b[38;5;132;01m{\u001b[39;00mstart_epoch\u001b[38;5;241m+\u001b[39mn_epochs\u001b[38;5;132;01m}\u001b[39;00m\u001b[38;5;124m\"\u001b[39m)\n\u001b[0;32m---> 52\u001b[0m train_info \u001b[38;5;241m=\u001b[39m \u001b[38;5;28;43mself\u001b[39;49m\u001b[38;5;241;43m.\u001b[39;49m\u001b[43mtrain_epoch\u001b[49m\u001b[43m(\u001b[49m\u001b[43mdataset\u001b[49m\u001b[38;5;241;43m.\u001b[39;49m\u001b[43mtrain_dataloader\u001b[49m\u001b[43m,\u001b[49m\u001b[43m \u001b[49m\u001b[43mbrain_extractor\u001b[49m\u001b[38;5;241;43m=\u001b[39;49m\u001b[43mbrain_extractor\u001b[49m\u001b[43m)\u001b[49m\n\u001b[1;32m     53\u001b[0m \u001b[38;5;28mprint\u001b[39m(train_info)\n\u001b[1;32m     54\u001b[0m \u001b[38;5;28mself\u001b[39m\u001b[38;5;241m.\u001b[39mhistory[\u001b[38;5;124m'\u001b[39m\u001b[38;5;124mtrain_loss\u001b[39m\u001b[38;5;124m'\u001b[39m]\u001b[38;5;241m.\u001b[39mappend(train_info[\u001b[38;5;124m'\u001b[39m\u001b[38;5;124mmean_loss\u001b[39m\u001b[38;5;124m'\u001b[39m])\n",
      "File \u001b[0;32m~/repo/MSRepo/VesselSegmentation/research/../ml/ControllerClass.py:93\u001b[0m, in \u001b[0;36mController.train_epoch\u001b[0;34m(self, train_dataloader, brain_extractor)\u001b[0m\n\u001b[1;32m     90\u001b[0m loss \u001b[38;5;241m=\u001b[39m \u001b[38;5;28mself\u001b[39m\u001b[38;5;241m.\u001b[39mloss_fn(vessels_batch, outputs)\n\u001b[1;32m     92\u001b[0m \u001b[38;5;28mself\u001b[39m\u001b[38;5;241m.\u001b[39moptimizer\u001b[38;5;241m.\u001b[39mzero_grad()\n\u001b[0;32m---> 93\u001b[0m \u001b[43mloss\u001b[49m\u001b[38;5;241;43m.\u001b[39;49m\u001b[43mbackward\u001b[49m\u001b[43m(\u001b[49m\u001b[43m)\u001b[49m\n\u001b[1;32m     95\u001b[0m \u001b[38;5;66;03m#loss.register_hook(lambda grad: print(grad))\u001b[39;00m\n\u001b[1;32m     97\u001b[0m \u001b[38;5;28mself\u001b[39m\u001b[38;5;241m.\u001b[39moptimizer\u001b[38;5;241m.\u001b[39mstep()\n",
      "File \u001b[0;32m~/.local/lib/python3.8/site-packages/torch/_tensor.py:487\u001b[0m, in \u001b[0;36mTensor.backward\u001b[0;34m(self, gradient, retain_graph, create_graph, inputs)\u001b[0m\n\u001b[1;32m    477\u001b[0m \u001b[38;5;28;01mif\u001b[39;00m has_torch_function_unary(\u001b[38;5;28mself\u001b[39m):\n\u001b[1;32m    478\u001b[0m     \u001b[38;5;28;01mreturn\u001b[39;00m handle_torch_function(\n\u001b[1;32m    479\u001b[0m         Tensor\u001b[38;5;241m.\u001b[39mbackward,\n\u001b[1;32m    480\u001b[0m         (\u001b[38;5;28mself\u001b[39m,),\n\u001b[0;32m   (...)\u001b[0m\n\u001b[1;32m    485\u001b[0m         inputs\u001b[38;5;241m=\u001b[39minputs,\n\u001b[1;32m    486\u001b[0m     )\n\u001b[0;32m--> 487\u001b[0m \u001b[43mtorch\u001b[49m\u001b[38;5;241;43m.\u001b[39;49m\u001b[43mautograd\u001b[49m\u001b[38;5;241;43m.\u001b[39;49m\u001b[43mbackward\u001b[49m\u001b[43m(\u001b[49m\n\u001b[1;32m    488\u001b[0m \u001b[43m    \u001b[49m\u001b[38;5;28;43mself\u001b[39;49m\u001b[43m,\u001b[49m\u001b[43m \u001b[49m\u001b[43mgradient\u001b[49m\u001b[43m,\u001b[49m\u001b[43m \u001b[49m\u001b[43mretain_graph\u001b[49m\u001b[43m,\u001b[49m\u001b[43m \u001b[49m\u001b[43mcreate_graph\u001b[49m\u001b[43m,\u001b[49m\u001b[43m \u001b[49m\u001b[43minputs\u001b[49m\u001b[38;5;241;43m=\u001b[39;49m\u001b[43minputs\u001b[49m\n\u001b[1;32m    489\u001b[0m \u001b[43m\u001b[49m\u001b[43m)\u001b[49m\n",
      "File \u001b[0;32m~/.local/lib/python3.8/site-packages/torch/autograd/__init__.py:200\u001b[0m, in \u001b[0;36mbackward\u001b[0;34m(tensors, grad_tensors, retain_graph, create_graph, grad_variables, inputs)\u001b[0m\n\u001b[1;32m    195\u001b[0m     retain_graph \u001b[38;5;241m=\u001b[39m create_graph\n\u001b[1;32m    197\u001b[0m \u001b[38;5;66;03m# The reason we repeat same the comment below is that\u001b[39;00m\n\u001b[1;32m    198\u001b[0m \u001b[38;5;66;03m# some Python versions print out the first line of a multi-line function\u001b[39;00m\n\u001b[1;32m    199\u001b[0m \u001b[38;5;66;03m# calls in the traceback and some print out the last line\u001b[39;00m\n\u001b[0;32m--> 200\u001b[0m \u001b[43mVariable\u001b[49m\u001b[38;5;241;43m.\u001b[39;49m\u001b[43m_execution_engine\u001b[49m\u001b[38;5;241;43m.\u001b[39;49m\u001b[43mrun_backward\u001b[49m\u001b[43m(\u001b[49m\u001b[43m  \u001b[49m\u001b[38;5;66;43;03m# Calls into the C++ engine to run the backward pass\u001b[39;49;00m\n\u001b[1;32m    201\u001b[0m \u001b[43m    \u001b[49m\u001b[43mtensors\u001b[49m\u001b[43m,\u001b[49m\u001b[43m \u001b[49m\u001b[43mgrad_tensors_\u001b[49m\u001b[43m,\u001b[49m\u001b[43m \u001b[49m\u001b[43mretain_graph\u001b[49m\u001b[43m,\u001b[49m\u001b[43m \u001b[49m\u001b[43mcreate_graph\u001b[49m\u001b[43m,\u001b[49m\u001b[43m \u001b[49m\u001b[43minputs\u001b[49m\u001b[43m,\u001b[49m\n\u001b[1;32m    202\u001b[0m \u001b[43m    \u001b[49m\u001b[43mallow_unreachable\u001b[49m\u001b[38;5;241;43m=\u001b[39;49m\u001b[38;5;28;43;01mTrue\u001b[39;49;00m\u001b[43m,\u001b[49m\u001b[43m \u001b[49m\u001b[43maccumulate_grad\u001b[49m\u001b[38;5;241;43m=\u001b[39;49m\u001b[38;5;28;43;01mTrue\u001b[39;49;00m\u001b[43m)\u001b[49m\n",
      "\u001b[0;31mKeyboardInterrupt\u001b[0m: "
     ]
    }
   ],
   "source": [
    "#model_name = 'HessUNet2'\n",
    "model_name = 'Unet3d_16ch'\n",
    "\n",
    "run_tests(model_name=\"HessUNet2\", \n",
    "          path_to_save_models=\"/home/msst/save_folder/models_for_tests\",\n",
    "          test_data_path = '/home/msst/Documents/medtech/data/HessData_IXI_test',\n",
    "          is2d=False,\n",
    "          epochs=25)"
   ]
  },
  {
   "cell_type": "code",
   "execution_count": null,
   "id": "25da444c-ff03-48f7-9ced-277fd51367dc",
   "metadata": {},
   "outputs": [],
   "source": []
  }
 ],
 "metadata": {
  "kernelspec": {
   "display_name": "Python 3",
   "language": "python",
   "name": "python3"
  },
  "language_info": {
   "codemirror_mode": {
    "name": "ipython",
    "version": 3
   },
   "file_extension": ".py",
   "mimetype": "text/x-python",
   "name": "python",
   "nbconvert_exporter": "python",
   "pygments_lexer": "ipython3",
   "version": "3.8.10"
  }
 },
 "nbformat": 4,
 "nbformat_minor": 5
}
