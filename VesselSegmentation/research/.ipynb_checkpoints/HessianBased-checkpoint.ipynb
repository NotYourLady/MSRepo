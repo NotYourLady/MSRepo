{
 "cells": [
  {
   "cell_type": "code",
   "execution_count": 1,
   "id": "6ae572fa-ba2a-46c6-b12b-cb2f053cb0de",
   "metadata": {
    "tags": []
   },
   "outputs": [],
   "source": [
    "%load_ext autoreload\n",
    "%autoreload 2\n",
    "import torch\n",
    "import torch.nn as nn\n",
    "from torch.optim.lr_scheduler import StepLR\n",
    "import torchio as tio\n",
    "import numpy as np\n",
    "import matplotlib.pyplot as plt\n",
    "import nibabel as nib\n",
    "\n",
    "import time\n",
    "from datetime import datetime\n",
    "from tqdm import tqdm"
   ]
  },
  {
   "cell_type": "code",
   "execution_count": 2,
   "id": "327f7528-8a18-49ca-839f-f8153af42360",
   "metadata": {
    "tags": []
   },
   "outputs": [],
   "source": [
    "import sys\n",
    "import os\n",
    "sys.path.append(os.path.dirname('../.'))\n",
    "\n",
    "from scripts.load_and_save import (get_dcm_info, get_dcm_vol, vox_size2affine,\n",
    "                                   load_nii_vol, save_vol_as_nii, raw2nifti)\n",
    "from scripts.utils import print_img, print_imgs, get_path\n",
    "from scripts.hessian_based import hessian_detect_2016\n",
    "\n",
    "from ml.get_model import get_model\n",
    "from ml.utils import get_total_params, load_pretrainned, test_model\n",
    "from ml.ControllerClass import Controller\n",
    "from ml.tio_dataset import TioDataset\n",
    "from ml.metrics import (DICE_Metric, JAC_Metric, SN_Metric, SP_Metric,\n",
    "                        IOU_Metric, ExponentialLogarithmicLoss)\n",
    "\n",
    "from ml.models.HessNet import HessBlock, HessNet, HessFeatures, HessUNet, HessUNet2 \n",
    "from ml.models.unet3d import U_Net\n",
    "from ml.models.unet2d import U_Net2d"
   ]
  },
  {
   "cell_type": "code",
   "execution_count": 3,
   "id": "615fd51a-fc8a-4c2f-b783-ed3ea024f52d",
   "metadata": {
    "tags": []
   },
   "outputs": [],
   "source": [
    "DEVICE = 'cuda'\n",
    "IS2D = 0"
   ]
  },
  {
   "cell_type": "code",
   "execution_count": 4,
   "id": "b3ef4c01-18d6-4b0f-b46d-76f6bbea1f17",
   "metadata": {
    "jupyter": {
     "source_hidden": true
    },
    "tags": []
   },
   "outputs": [],
   "source": [
    "if IS2D:\n",
    "    PATCH_SIZE_TRAIN = (512, 512, 1)\n",
    "    PATCH_SIZE_TEST = (512, 512, 1)\n",
    "    OVERLAP_TEST = (0, 0, 0)\n",
    "else:\n",
    "    PATCH_SIZE_TRAIN = (64, 64, 64)\n",
    "    PATCH_SIZE_TEST = (256, 256, 64)\n",
    "    OVERLAP_TEST = (32, 32, 24)\n",
    "\n",
    "train_settings  = {\n",
    "    \"patch_shape\" : PATCH_SIZE_TRAIN,\n",
    "    \"patches_per_volume\" : 4,\n",
    "    \"patches_queue_length\" : 1440,\n",
    "    \"batch_size\" : 16,\n",
    "    \"num_workers\": 4,\n",
    "    \"sampler\": \"uniform\",\n",
    "}\n",
    "\n",
    "test_settings = {\n",
    "    \"patch_shape\" : PATCH_SIZE_TEST,\n",
    "    \"overlap_shape\" : OVERLAP_TEST,\n",
    "    \"batch_size\" : 1,\n",
    "    \"num_workers\": 4,\n",
    "}\n",
    "\n",
    "data_dir = \"/home/msst/Documents/medtech/data/HessData_IXI\"\n",
    "dataset = TioDataset(data_dir,\n",
    "                 train_settings=train_settings,\n",
    "                 val_settings=None,#val_settings,\n",
    "                 test_settings=test_settings)"
   ]
  },
  {
   "cell_type": "code",
   "execution_count": 4,
   "id": "ae2d710e-a469-4243-af56-7b700e39f8c4",
   "metadata": {
    "tags": []
   },
   "outputs": [
    {
     "name": "stdout",
     "output_type": "stream",
     "text": [
      "total_params: 6475217\n"
     ]
    }
   ],
   "source": [
    "#model = HessNet(start_scale=[0.8], device=DEVICE) #HessNet_isotropic_3, HessNet_isotropic_4\n",
    "\n",
    "\n",
    "#model = HessNet(start_scale=[0.8, 0.8, 1.2], device=DEVICE) #HessNet_anisotropic_3, HessNet_anisotropic_4\n",
    "model = U_Net(channels=16) #Unet_8ch, Unet_16ch\n",
    "#model = U_Net2d(channels=16) #Unet_8ch, Unet_16ch\n",
    "\n",
    "#model = HessUNet2(in_channels=1, out_channels=1,\n",
    "#                  channels=16, depth=3)\n",
    "#model = HessUNet(in_channels=1, out_channels=1, channels=16,\n",
    "#                 act=nn.Sigmoid(), depth=3)\n",
    "\n",
    "print(\"total_params:\", get_total_params(model))"
   ]
  },
  {
   "cell_type": "code",
   "execution_count": 5,
   "id": "180fc3eb-36a7-46d0-8585-5f6b51dc61fa",
   "metadata": {
    "tags": []
   },
   "outputs": [],
   "source": [
    "controller_config = {\n",
    "    \"loss\" : ExponentialLogarithmicLoss(gamma_tversky=0.5, gamma_bce=0.5, lamb=0.5,\n",
    "                                        freq = 0.1, tversky_alfa=0.5),\n",
    "    \"metric\" : DICE_Metric(),\n",
    "    'device' : DEVICE,\n",
    "    \"model\" : model,\n",
    "    \"optimizer_fn\" : lambda model: torch.optim.Adam(model.parameters(), lr=0.02),\n",
    "    \"sheduler_fn\": lambda optimizer: StepLR(optimizer, step_size=1, gamma=0.9),\n",
    "    \"is2d\" : IS2D,\n",
    "    'verbose':True\n",
    "}\n",
    "controller = Controller(controller_config)"
   ]
  },
  {
   "cell_type": "code",
   "execution_count": 9,
   "id": "d2c62da7-c0b0-434f-b2a9-536b06c985bd",
   "metadata": {
    "collapsed": true,
    "jupyter": {
     "outputs_hidden": true,
     "source_hidden": true
    },
    "tags": []
   },
   "outputs": [
    {
     "name": "stdout",
     "output_type": "stream",
     "text": [
      "Epoch 1/25\n"
     ]
    },
    {
     "name": "stderr",
     "output_type": "stream",
     "text": [
      "100%|█████████████████████████████████████████████| 3/3 [00:07<00:00,  2.53s/it]\n"
     ]
    },
    {
     "name": "stdout",
     "output_type": "stream",
     "text": [
      "{'mean_loss': 1.2988348603248596}\n"
     ]
    },
    {
     "name": "stderr",
     "output_type": "stream",
     "text": [
      "  0%|                                                     | 0/3 [00:05<?, ?it/s]\n"
     ]
    },
    {
     "ename": "KeyboardInterrupt",
     "evalue": "",
     "output_type": "error",
     "traceback": [
      "\u001b[0;31m---------------------------------------------------------------------------\u001b[0m",
      "\u001b[0;31mKeyboardInterrupt\u001b[0m                         Traceback (most recent call last)",
      "Cell \u001b[0;32mIn[9], line 1\u001b[0m\n\u001b[0;32m----> 1\u001b[0m \u001b[43mcontroller\u001b[49m\u001b[38;5;241;43m.\u001b[39;49m\u001b[43mfit\u001b[49m\u001b[43m(\u001b[49m\u001b[43mdataset\u001b[49m\u001b[43m,\u001b[49m\u001b[43m \u001b[49m\u001b[38;5;241;43m25\u001b[39;49m\u001b[43m)\u001b[49m\n",
      "File \u001b[0;32m~/repo/MSRepo/VesselSegmentation/research/../ml/ControllerClass.py:62\u001b[0m, in \u001b[0;36mController.fit\u001b[0;34m(self, dataset, n_epochs, brain_extractor)\u001b[0m\n\u001b[1;32m     59\u001b[0m     \u001b[38;5;28mself\u001b[39m\u001b[38;5;241m.\u001b[39mhistory[\u001b[38;5;124m'\u001b[39m\u001b[38;5;124mval_loss\u001b[39m\u001b[38;5;124m'\u001b[39m]\u001b[38;5;241m.\u001b[39mappend(val_info[\u001b[38;5;124m'\u001b[39m\u001b[38;5;124mmean_loss\u001b[39m\u001b[38;5;124m'\u001b[39m])\n\u001b[1;32m     61\u001b[0m \u001b[38;5;28;01mif\u001b[39;00m dataset\u001b[38;5;241m.\u001b[39mtest_dataloader \u001b[38;5;129;01mis\u001b[39;00m \u001b[38;5;129;01mnot\u001b[39;00m \u001b[38;5;28;01mNone\u001b[39;00m:\n\u001b[0;32m---> 62\u001b[0m     test_info \u001b[38;5;241m=\u001b[39m \u001b[38;5;28;43mself\u001b[39;49m\u001b[38;5;241;43m.\u001b[39;49m\u001b[43mtest_epoch\u001b[49m\u001b[43m(\u001b[49m\u001b[43mdataset\u001b[49m\u001b[38;5;241;43m.\u001b[39;49m\u001b[43mtest_dataloader\u001b[49m\u001b[43m)\u001b[49m\n\u001b[1;32m     63\u001b[0m     \u001b[38;5;28mprint\u001b[39m(test_info)\n\u001b[1;32m     64\u001b[0m     \u001b[38;5;28mself\u001b[39m\u001b[38;5;241m.\u001b[39mhistory[\u001b[38;5;124m'\u001b[39m\u001b[38;5;124mtest_quality\u001b[39m\u001b[38;5;124m'\u001b[39m]\u001b[38;5;241m.\u001b[39mappend(test_info)            \n",
      "File \u001b[0;32m~/repo/MSRepo/VesselSegmentation/research/../ml/ControllerClass.py:131\u001b[0m, in \u001b[0;36mController.test_epoch\u001b[0;34m(self, test_dataloader)\u001b[0m\n\u001b[1;32m    128\u001b[0m GT \u001b[38;5;241m=\u001b[39m batch[\u001b[38;5;124m\"\u001b[39m\u001b[38;5;124mGT\u001b[39m\u001b[38;5;124m\"\u001b[39m]\n\u001b[1;32m    129\u001b[0m sample_name \u001b[38;5;241m=\u001b[39m batch[\u001b[38;5;124m\"\u001b[39m\u001b[38;5;124msample_name\u001b[39m\u001b[38;5;124m\"\u001b[39m]\n\u001b[0;32m--> 131\u001b[0m head_seg \u001b[38;5;241m=\u001b[39m \u001b[38;5;28;43mself\u001b[39;49m\u001b[38;5;241;43m.\u001b[39;49m\u001b[43mfast_predict\u001b[49m\u001b[43m(\u001b[49m\u001b[43mpatch_loader\u001b[49m\u001b[43m,\u001b[49m\u001b[43m \u001b[49m\u001b[43mgrid_aggregator\u001b[49m\u001b[43m)\u001b[49m\n\u001b[1;32m    132\u001b[0m metric \u001b[38;5;241m=\u001b[39m \u001b[38;5;28mself\u001b[39m\u001b[38;5;241m.\u001b[39mmetric_fn(GT\u001b[38;5;241m.\u001b[39mdata, head_seg)\n\u001b[1;32m    133\u001b[0m metrics\u001b[38;5;241m.\u001b[39mappend({\u001b[38;5;124m\"\u001b[39m\u001b[38;5;124msample\u001b[39m\u001b[38;5;124m\"\u001b[39m : sample_name,\n\u001b[1;32m    134\u001b[0m                 \u001b[38;5;66;03m#\"seg_sum/GT_sum\" : head_seg.sum()/GT.data.sum(),\u001b[39;00m\n\u001b[1;32m    135\u001b[0m                 \u001b[38;5;124m\"\u001b[39m\u001b[38;5;124mmetric1\u001b[39m\u001b[38;5;124m\"\u001b[39m : metric})\n",
      "File \u001b[0;32m~/repo/MSRepo/VesselSegmentation/research/../ml/ControllerClass.py:147\u001b[0m, in \u001b[0;36mController.fast_predict\u001b[0;34m(self, patch_loader, grid_aggregator, thresh)\u001b[0m\n\u001b[1;32m    145\u001b[0m     head_patches \u001b[38;5;241m=\u001b[39m head_patches[:, :, :, :, \u001b[38;5;241m0\u001b[39m]\n\u001b[1;32m    146\u001b[0m \u001b[38;5;28;01mwith\u001b[39;00m torch\u001b[38;5;241m.\u001b[39mno_grad():\n\u001b[0;32m--> 147\u001b[0m     patch_seg \u001b[38;5;241m=\u001b[39m \u001b[38;5;28;43mself\u001b[39;49m\u001b[38;5;241;43m.\u001b[39;49m\u001b[43mmodel\u001b[49m\u001b[43m(\u001b[49m\u001b[43mhead_patches\u001b[49m\u001b[43m)\u001b[49m\n\u001b[1;32m    148\u001b[0m     \u001b[38;5;28;01mif\u001b[39;00m \u001b[38;5;28mself\u001b[39m\u001b[38;5;241m.\u001b[39mis2d:\n\u001b[1;32m    149\u001b[0m         patch_seg \u001b[38;5;241m=\u001b[39m patch_seg\u001b[38;5;241m.\u001b[39munsqueeze(\u001b[38;5;241m-\u001b[39m\u001b[38;5;241m1\u001b[39m)\n",
      "File \u001b[0;32m~/.local/lib/python3.8/site-packages/torch/nn/modules/module.py:1501\u001b[0m, in \u001b[0;36mModule._call_impl\u001b[0;34m(self, *args, **kwargs)\u001b[0m\n\u001b[1;32m   1496\u001b[0m \u001b[38;5;66;03m# If we don't have any hooks, we want to skip the rest of the logic in\u001b[39;00m\n\u001b[1;32m   1497\u001b[0m \u001b[38;5;66;03m# this function, and just call forward.\u001b[39;00m\n\u001b[1;32m   1498\u001b[0m \u001b[38;5;28;01mif\u001b[39;00m \u001b[38;5;129;01mnot\u001b[39;00m (\u001b[38;5;28mself\u001b[39m\u001b[38;5;241m.\u001b[39m_backward_hooks \u001b[38;5;129;01mor\u001b[39;00m \u001b[38;5;28mself\u001b[39m\u001b[38;5;241m.\u001b[39m_backward_pre_hooks \u001b[38;5;129;01mor\u001b[39;00m \u001b[38;5;28mself\u001b[39m\u001b[38;5;241m.\u001b[39m_forward_hooks \u001b[38;5;129;01mor\u001b[39;00m \u001b[38;5;28mself\u001b[39m\u001b[38;5;241m.\u001b[39m_forward_pre_hooks\n\u001b[1;32m   1499\u001b[0m         \u001b[38;5;129;01mor\u001b[39;00m _global_backward_pre_hooks \u001b[38;5;129;01mor\u001b[39;00m _global_backward_hooks\n\u001b[1;32m   1500\u001b[0m         \u001b[38;5;129;01mor\u001b[39;00m _global_forward_hooks \u001b[38;5;129;01mor\u001b[39;00m _global_forward_pre_hooks):\n\u001b[0;32m-> 1501\u001b[0m     \u001b[38;5;28;01mreturn\u001b[39;00m \u001b[43mforward_call\u001b[49m\u001b[43m(\u001b[49m\u001b[38;5;241;43m*\u001b[39;49m\u001b[43margs\u001b[49m\u001b[43m,\u001b[49m\u001b[43m \u001b[49m\u001b[38;5;241;43m*\u001b[39;49m\u001b[38;5;241;43m*\u001b[39;49m\u001b[43mkwargs\u001b[49m\u001b[43m)\u001b[49m\n\u001b[1;32m   1502\u001b[0m \u001b[38;5;66;03m# Do not call functions when jit is used\u001b[39;00m\n\u001b[1;32m   1503\u001b[0m full_backward_hooks, non_full_backward_hooks \u001b[38;5;241m=\u001b[39m [], []\n",
      "File \u001b[0;32m~/repo/MSRepo/VesselSegmentation/research/../ml/models/HessNet.py:384\u001b[0m, in \u001b[0;36mHessUNet2.forward\u001b[0;34m(self, x)\u001b[0m\n\u001b[1;32m    381\u001b[0m     x \u001b[38;5;241m=\u001b[39m \u001b[38;5;28mself\u001b[39m\u001b[38;5;241m.\u001b[39mUpConvs[i](x)\n\u001b[1;32m    383\u001b[0m out \u001b[38;5;241m=\u001b[39m \u001b[38;5;28mself\u001b[39m\u001b[38;5;241m.\u001b[39moutConv1(x)     \n\u001b[0;32m--> 384\u001b[0m out \u001b[38;5;241m=\u001b[39m torch\u001b[38;5;241m.\u001b[39mcat([\u001b[38;5;28;43mself\u001b[39;49m\u001b[38;5;241;43m.\u001b[39;49m\u001b[43mHessFeatures_out\u001b[49m\u001b[43m(\u001b[49m\u001b[43mout\u001b[49m\u001b[43m)\u001b[49m, out], dim\u001b[38;5;241m=\u001b[39m\u001b[38;5;241m1\u001b[39m)\n\u001b[1;32m    385\u001b[0m out \u001b[38;5;241m=\u001b[39m \u001b[38;5;28mself\u001b[39m\u001b[38;5;241m.\u001b[39moutConv2(out)\n\u001b[1;32m    386\u001b[0m out \u001b[38;5;241m=\u001b[39m \u001b[38;5;28mself\u001b[39m\u001b[38;5;241m.\u001b[39mact(out)\n",
      "File \u001b[0;32m~/.local/lib/python3.8/site-packages/torch/nn/modules/module.py:1501\u001b[0m, in \u001b[0;36mModule._call_impl\u001b[0;34m(self, *args, **kwargs)\u001b[0m\n\u001b[1;32m   1496\u001b[0m \u001b[38;5;66;03m# If we don't have any hooks, we want to skip the rest of the logic in\u001b[39;00m\n\u001b[1;32m   1497\u001b[0m \u001b[38;5;66;03m# this function, and just call forward.\u001b[39;00m\n\u001b[1;32m   1498\u001b[0m \u001b[38;5;28;01mif\u001b[39;00m \u001b[38;5;129;01mnot\u001b[39;00m (\u001b[38;5;28mself\u001b[39m\u001b[38;5;241m.\u001b[39m_backward_hooks \u001b[38;5;129;01mor\u001b[39;00m \u001b[38;5;28mself\u001b[39m\u001b[38;5;241m.\u001b[39m_backward_pre_hooks \u001b[38;5;129;01mor\u001b[39;00m \u001b[38;5;28mself\u001b[39m\u001b[38;5;241m.\u001b[39m_forward_hooks \u001b[38;5;129;01mor\u001b[39;00m \u001b[38;5;28mself\u001b[39m\u001b[38;5;241m.\u001b[39m_forward_pre_hooks\n\u001b[1;32m   1499\u001b[0m         \u001b[38;5;129;01mor\u001b[39;00m _global_backward_pre_hooks \u001b[38;5;129;01mor\u001b[39;00m _global_backward_hooks\n\u001b[1;32m   1500\u001b[0m         \u001b[38;5;129;01mor\u001b[39;00m _global_forward_hooks \u001b[38;5;129;01mor\u001b[39;00m _global_forward_pre_hooks):\n\u001b[0;32m-> 1501\u001b[0m     \u001b[38;5;28;01mreturn\u001b[39;00m \u001b[43mforward_call\u001b[49m\u001b[43m(\u001b[49m\u001b[38;5;241;43m*\u001b[39;49m\u001b[43margs\u001b[49m\u001b[43m,\u001b[49m\u001b[43m \u001b[49m\u001b[38;5;241;43m*\u001b[39;49m\u001b[38;5;241;43m*\u001b[39;49m\u001b[43mkwargs\u001b[49m\u001b[43m)\u001b[49m\n\u001b[1;32m   1502\u001b[0m \u001b[38;5;66;03m# Do not call functions when jit is used\u001b[39;00m\n\u001b[1;32m   1503\u001b[0m full_backward_hooks, non_full_backward_hooks \u001b[38;5;241m=\u001b[39m [], []\n",
      "File \u001b[0;32m~/repo/MSRepo/VesselSegmentation/research/../ml/models/HessNet.py:224\u001b[0m, in \u001b[0;36mHessFeatures.forward\u001b[0;34m(self, x)\u001b[0m\n\u001b[1;32m    222\u001b[0m h \u001b[38;5;241m=\u001b[39m []\n\u001b[1;32m    223\u001b[0m \u001b[38;5;28;01mfor\u001b[39;00m HessBlock \u001b[38;5;129;01min\u001b[39;00m \u001b[38;5;28mself\u001b[39m\u001b[38;5;241m.\u001b[39mHessBlocks:\n\u001b[0;32m--> 224\u001b[0m     h\u001b[38;5;241m.\u001b[39mappend(\u001b[43mHessBlock\u001b[49m\u001b[43m(\u001b[49m\u001b[43mx\u001b[49m\u001b[43m)\u001b[49m)     \n\u001b[1;32m    225\u001b[0m out \u001b[38;5;241m=\u001b[39m torch\u001b[38;5;241m.\u001b[39mcat(h, \u001b[38;5;241m1\u001b[39m)\n\u001b[1;32m    226\u001b[0m \u001b[38;5;28;01mreturn\u001b[39;00m(out)\n",
      "File \u001b[0;32m~/.local/lib/python3.8/site-packages/torch/nn/modules/module.py:1501\u001b[0m, in \u001b[0;36mModule._call_impl\u001b[0;34m(self, *args, **kwargs)\u001b[0m\n\u001b[1;32m   1496\u001b[0m \u001b[38;5;66;03m# If we don't have any hooks, we want to skip the rest of the logic in\u001b[39;00m\n\u001b[1;32m   1497\u001b[0m \u001b[38;5;66;03m# this function, and just call forward.\u001b[39;00m\n\u001b[1;32m   1498\u001b[0m \u001b[38;5;28;01mif\u001b[39;00m \u001b[38;5;129;01mnot\u001b[39;00m (\u001b[38;5;28mself\u001b[39m\u001b[38;5;241m.\u001b[39m_backward_hooks \u001b[38;5;129;01mor\u001b[39;00m \u001b[38;5;28mself\u001b[39m\u001b[38;5;241m.\u001b[39m_backward_pre_hooks \u001b[38;5;129;01mor\u001b[39;00m \u001b[38;5;28mself\u001b[39m\u001b[38;5;241m.\u001b[39m_forward_hooks \u001b[38;5;129;01mor\u001b[39;00m \u001b[38;5;28mself\u001b[39m\u001b[38;5;241m.\u001b[39m_forward_pre_hooks\n\u001b[1;32m   1499\u001b[0m         \u001b[38;5;129;01mor\u001b[39;00m _global_backward_pre_hooks \u001b[38;5;129;01mor\u001b[39;00m _global_backward_hooks\n\u001b[1;32m   1500\u001b[0m         \u001b[38;5;129;01mor\u001b[39;00m _global_forward_hooks \u001b[38;5;129;01mor\u001b[39;00m _global_forward_pre_hooks):\n\u001b[0;32m-> 1501\u001b[0m     \u001b[38;5;28;01mreturn\u001b[39;00m \u001b[43mforward_call\u001b[49m\u001b[43m(\u001b[49m\u001b[38;5;241;43m*\u001b[39;49m\u001b[43margs\u001b[49m\u001b[43m,\u001b[49m\u001b[43m \u001b[49m\u001b[38;5;241;43m*\u001b[39;49m\u001b[38;5;241;43m*\u001b[39;49m\u001b[43mkwargs\u001b[49m\u001b[43m)\u001b[49m\n\u001b[1;32m   1502\u001b[0m \u001b[38;5;66;03m# Do not call functions when jit is used\u001b[39;00m\n\u001b[1;32m   1503\u001b[0m full_backward_hooks, non_full_backward_hooks \u001b[38;5;241m=\u001b[39m [], []\n",
      "File \u001b[0;32m~/repo/MSRepo/VesselSegmentation/research/../ml/models/HessNet.py:161\u001b[0m, in \u001b[0;36mHessBlock.forward\u001b[0;34m(self, x)\u001b[0m\n\u001b[1;32m    159\u001b[0m x \u001b[38;5;241m=\u001b[39m \u001b[38;5;28mself\u001b[39m\u001b[38;5;241m.\u001b[39mhess(x, \u001b[38;5;28mself\u001b[39m\u001b[38;5;241m.\u001b[39mscale)\u001b[38;5;241m.\u001b[39mpermute(\u001b[38;5;241m1\u001b[39m,\u001b[38;5;241m2\u001b[39m,\u001b[38;5;241m3\u001b[39m,\u001b[38;5;241m4\u001b[39m,\u001b[38;5;241m5\u001b[39m,\u001b[38;5;241m0\u001b[39m) \u001b[38;5;66;03m#1\u001b[39;00m\n\u001b[1;32m    160\u001b[0m x \u001b[38;5;241m=\u001b[39m \u001b[38;5;28mself\u001b[39m\u001b[38;5;241m.\u001b[39mflat(x)\n\u001b[0;32m--> 161\u001b[0m scale_attention \u001b[38;5;241m=\u001b[39m \u001b[38;5;28mself\u001b[39m\u001b[38;5;241m.\u001b[39mscale\u001b[38;5;241m*\u001b[39m\u001b[43mtorch\u001b[49m\u001b[38;5;241;43m.\u001b[39;49m\u001b[43mones\u001b[49m\u001b[43m(\u001b[49m\u001b[43m(\u001b[49m\u001b[43mx\u001b[49m\u001b[38;5;241;43m.\u001b[39;49m\u001b[43mshape\u001b[49m\u001b[43m[\u001b[49m\u001b[38;5;241;43m0\u001b[39;49m\u001b[43m]\u001b[49m\u001b[43m,\u001b[49m\u001b[43m \u001b[49m\u001b[43mx\u001b[49m\u001b[38;5;241;43m.\u001b[39;49m\u001b[43mshape\u001b[49m\u001b[43m[\u001b[49m\u001b[38;5;241;43m1\u001b[39;49m\u001b[43m]\u001b[49m\u001b[43m,\u001b[49m\u001b[43m \u001b[49m\u001b[43mx\u001b[49m\u001b[38;5;241;43m.\u001b[39;49m\u001b[43mshape\u001b[49m\u001b[43m[\u001b[49m\u001b[38;5;241;43m2\u001b[39;49m\u001b[43m]\u001b[49m\u001b[43m,\u001b[49m\n\u001b[1;32m    162\u001b[0m \u001b[43m                                         \u001b[49m\u001b[38;5;28;43mself\u001b[39;49m\u001b[38;5;241;43m.\u001b[39;49m\u001b[43mscale\u001b[49m\u001b[38;5;241;43m.\u001b[39;49m\u001b[43mshape\u001b[49m\u001b[43m[\u001b[49m\u001b[38;5;241;43m0\u001b[39;49m\u001b[43m]\u001b[49m\u001b[43m)\u001b[49m\u001b[43m)\u001b[49m\u001b[38;5;241;43m.\u001b[39;49m\u001b[43mto\u001b[49m\u001b[43m(\u001b[49m\u001b[38;5;28;43mself\u001b[39;49m\u001b[38;5;241;43m.\u001b[39;49m\u001b[43mdevice\u001b[49m\u001b[43m)\u001b[49m\n\u001b[1;32m    163\u001b[0m x \u001b[38;5;241m=\u001b[39m torch\u001b[38;5;241m.\u001b[39mcat([x, scale_attention], axis\u001b[38;5;241m=\u001b[39m\u001b[38;5;241m3\u001b[39m)\n\u001b[1;32m    164\u001b[0m x \u001b[38;5;241m=\u001b[39m \u001b[38;5;28mself\u001b[39m\u001b[38;5;241m.\u001b[39mlinear(x) \u001b[38;5;66;03m#2\u001b[39;00m\n",
      "\u001b[0;31mKeyboardInterrupt\u001b[0m: "
     ]
    }
   ],
   "source": [
    "controller.fit(dataset, 25)"
   ]
  },
  {
   "cell_type": "code",
   "execution_count": 6,
   "id": "63255d52-f74c-43b5-a085-695b3aade9b5",
   "metadata": {
    "tags": []
   },
   "outputs": [],
   "source": [
    "model_name = \"Unet3d_16ch\"\n",
    "#model_name = \"Unet2d_16ch\"\n",
    "#model_name = \"HessNet_isotropic_smartnorm\"\n",
    "\n",
    "#model_name = \"HessUNet_depth3\""
   ]
  },
  {
   "cell_type": "code",
   "execution_count": 9,
   "id": "096bdf5b-cd1a-429e-bbb0-0213ec68b40e",
   "metadata": {
    "tags": []
   },
   "outputs": [],
   "source": [
    "#controller.save(f\"/home/msst/save_folder/saved_models/{model_name}\")"
   ]
  },
  {
   "cell_type": "code",
   "execution_count": 7,
   "id": "f014d15a-ad04-45e4-bbb3-1785cd18f6ae",
   "metadata": {
    "tags": []
   },
   "outputs": [],
   "source": [
    "path_to_check = f\"/home/msst/save_folder/saved_models/{model_name}\"\n",
    "controller.load(path_to_checkpoint=path_to_check)"
   ]
  },
  {
   "cell_type": "code",
   "execution_count": 8,
   "id": "74151f4f-3e13-4ff7-8ef4-9506db97c009",
   "metadata": {
    "tags": []
   },
   "outputs": [],
   "source": [
    "#controller.save_weights(f\"/home/msst/save_folder/saved_models/{model_name}_weights\")"
   ]
  },
  {
   "cell_type": "code",
   "execution_count": null,
   "id": "aee6f5f3-9709-437b-bf78-4c435ae61c55",
   "metadata": {},
   "outputs": [],
   "source": [
    "path_onnx = \n",
    "torch.onnx.export(torch_model,               # model being run\n",
    "                  torch.randn(1, 1, 512, 512, 100),  # model input (or a tuple for multiple inputs)\n",
    "                  path_onnx,   # where to save the model (can be a file or file-like object)\n",
    "                  export_params=True,        # store the trained parameter weights inside the model file\n",
    "                  opset_version=10,          # the ONNX version to export the model to\n",
    "                  do_constant_folding=True,  # whether to execute constant folding for optimization\n",
    "                  input_names = ['input'],   # the model's input names\n",
    "                  output_names = ['output'], # the model's output names\n",
    "                  dynamic_axes=None)"
   ]
  },
  {
   "cell_type": "code",
   "execution_count": 9,
   "id": "ea3d9510-3ee9-495c-82cf-f4ad4795c5f3",
   "metadata": {
    "tags": []
   },
   "outputs": [
    {
     "name": "stdout",
     "output_type": "stream",
     "text": [
      "3.5025665760040283\n"
     ]
    }
   ],
   "source": [
    "sample_index = \"039\"\n",
    "\n",
    "#path_to_GT = get_path(f\"/home/msst/IXI_MRA_work/IXI{sample_index}\", key=\"vessels\")\n",
    "#GT = tio.ScalarImage(path_to_GT).data\n",
    "#path_to_brain_mask = get_path(f\"/home/msst/IXI_MRA_work/IXI{sample_index}\", key=\"brain\")\n",
    "#brain_mask = tio.ScalarImage(path_to_brain_mask).data\n",
    "\n",
    "path_to_vol = get_path(f\"/home/msst/IXI_MRA_work/IXI{sample_index}\", key=\"head\")\n",
    "subject_dict = {'head': tio.ScalarImage(path_to_vol)}\n",
    "subject = tio.Subject(subject_dict)\n",
    "subject = tio.transforms.ZNormalization()(subject)\n",
    "\n",
    "t = time.time()\n",
    "seg = controller.single_predict(subject, test_settings)\n",
    "print(time.time() - t)\n",
    "\n",
    "dt_string = datetime.now().strftime(\"%d_%m_%Y_%H:%M\")\n",
    "dir_name = os.path.dirname(path_to_vol)\n",
    "\n",
    "path_to_save = f\"/home/msst/IXI_MRA_work/IXI{sample_index}/{model_name}_{dt_string}.nii.gz\"\n",
    "seg_to_save = seg[0].numpy()\n",
    "save_vol_as_nii(seg_to_save.astype(np.float32), subject.head.affine, path_to_save)"
   ]
  },
  {
   "cell_type": "markdown",
   "id": "e427a200-0d7a-4f0b-88ab-013dba43a1e1",
   "metadata": {},
   "source": [
    "**<h3>GLOBAL TEST**"
   ]
  },
  {
   "cell_type": "code",
   "execution_count": 3,
   "id": "f46aa9e6-4883-4883-bf9b-5afaf61eafc8",
   "metadata": {
    "tags": []
   },
   "outputs": [],
   "source": [
    "def run_tests(model_name, path_to_save_models, is2d, test_data_path, epochs):\n",
    "    if is2d:\n",
    "        PATCH_SIZE_TRAIN = (512, 512, 1)\n",
    "        PATCH_SIZE_TEST = (512, 512, 1)\n",
    "        OVERLAP_TEST = (0, 0, 0)\n",
    "    else:\n",
    "        PATCH_SIZE_TRAIN = (64, 64, 64)\n",
    "        PATCH_SIZE_TEST = (256, 256, 64)\n",
    "        OVERLAP_TEST = (32, 32, 24)\n",
    "    \n",
    "    train_settings  = {\n",
    "        \"patch_shape\" : PATCH_SIZE_TRAIN,\n",
    "        \"patches_per_volume\" : 64,\n",
    "        \"patches_queue_length\" : 1440,\n",
    "        \"batch_size\" : 16,\n",
    "        \"num_workers\": 4,\n",
    "        \"sampler\": \"uniform\",\n",
    "    }\n",
    "    \n",
    "    test_settings = {\n",
    "        \"patch_shape\" : PATCH_SIZE_TEST,\n",
    "        \"overlap_shape\" : OVERLAP_TEST,\n",
    "        \"batch_size\" : 1,\n",
    "        \"num_workers\": 4,\n",
    "    }\n",
    "    \n",
    "    for test in tqdm(os.listdir(test_data_path)):\n",
    "        dataset = TioDataset(test_data_path + '/' + test,\n",
    "                  train_settings=train_settings,\n",
    "                  test_settings=test_settings)\n",
    "        \n",
    "        model = get_model(model_name)\n",
    "        \n",
    "        controller_config = {\n",
    "            \"loss\" : ExponentialLogarithmicLoss(gamma_tversky=0.5, gamma_bce=0.5, lamb=0.5,\n",
    "                                                freq = 0.1, tversky_alfa=0.5),\n",
    "            \"metric\" : DICE_Metric(),\n",
    "            'device' : 'cuda',\n",
    "            \"model\" : model,\n",
    "            \"optimizer_fn\" : lambda model: torch.optim.Adam(model.parameters(), lr=0.02),\n",
    "            \"sheduler_fn\": lambda optimizer: StepLR(optimizer, step_size=1, gamma=0.9),\n",
    "            \"is2d\" : is2d,\n",
    "            'verbose': False\n",
    "        }\n",
    "        controller = Controller(controller_config)\n",
    "        controller.fit(dataset, epochs)\n",
    "        controller.save(f\"{path_to_save_models}/{model_name}_{test}\")"
   ]
  },
  {
   "cell_type": "code",
   "execution_count": 4,
   "id": "d24be0fa-3b3a-4ce2-a1f1-cff51f13d6fb",
   "metadata": {
    "tags": []
   },
   "outputs": [
    {
     "name": "stderr",
     "output_type": "stream",
     "text": [
      "  0%|                                                     | 0/2 [00:00<?, ?it/s]"
     ]
    },
    {
     "name": "stdout",
     "output_type": "stream",
     "text": [
      "Epoch 1/25\n",
      "{'mean_loss': 0.7622763651112715}\n",
      "{'metrics': [{'sample': 'IXI111_0', 'metric1': tensor([0.7776])}, {'sample': 'IXI100_0', 'metric1': tensor([0.7168])}, {'sample': 'IXI020_0', 'metric1': tensor([0.7513])}]}\n",
      "Epoch 2/25\n",
      "{'mean_loss': 0.2930100342879693}\n",
      "{'metrics': [{'sample': 'IXI111_0', 'metric1': tensor([0.8368])}, {'sample': 'IXI100_0', 'metric1': tensor([0.7817])}, {'sample': 'IXI020_0', 'metric1': tensor([0.8290])}]}\n",
      "Epoch 3/25\n",
      "{'mean_loss': 0.2731123532479008}\n",
      "{'metrics': [{'sample': 'IXI111_0', 'metric1': tensor([0.8429])}, {'sample': 'IXI100_0', 'metric1': tensor([0.7831])}, {'sample': 'IXI020_0', 'metric1': tensor([0.8305])}]}\n",
      "Epoch 4/25\n",
      "{'mean_loss': 0.26982324353108805}\n",
      "{'metrics': [{'sample': 'IXI111_0', 'metric1': tensor([0.8570])}, {'sample': 'IXI100_0', 'metric1': tensor([0.7953])}, {'sample': 'IXI020_0', 'metric1': tensor([0.8501])}]}\n",
      "Epoch 5/25\n",
      "{'mean_loss': 0.25067211718608934}\n",
      "{'metrics': [{'sample': 'IXI111_0', 'metric1': tensor([0.8659])}, {'sample': 'IXI100_0', 'metric1': tensor([0.8037])}, {'sample': 'IXI020_0', 'metric1': tensor([0.8612])}]}\n",
      "Epoch 6/25\n",
      "{'mean_loss': 0.23609550793965658}\n",
      "{'metrics': [{'sample': 'IXI111_0', 'metric1': tensor([0.8809])}, {'sample': 'IXI100_0', 'metric1': tensor([0.8154])}, {'sample': 'IXI020_0', 'metric1': tensor([0.8784])}]}\n",
      "Epoch 7/25\n",
      "{'mean_loss': 0.26493708540995914}\n",
      "{'metrics': [{'sample': 'IXI111_0', 'metric1': tensor([0.8886])}, {'sample': 'IXI100_0', 'metric1': tensor([0.8209])}, {'sample': 'IXI020_0', 'metric1': tensor([0.8849])}]}\n",
      "Epoch 8/25\n",
      "{'mean_loss': 0.23556007258594036}\n",
      "{'metrics': [{'sample': 'IXI111_0', 'metric1': tensor([0.8922])}, {'sample': 'IXI100_0', 'metric1': tensor([0.8219])}, {'sample': 'IXI020_0', 'metric1': tensor([0.8899])}]}\n",
      "Epoch 9/25\n",
      "{'mean_loss': 0.2349252880861362}\n",
      "{'metrics': [{'sample': 'IXI111_0', 'metric1': tensor([0.8950])}, {'sample': 'IXI100_0', 'metric1': tensor([0.8237])}, {'sample': 'IXI020_0', 'metric1': tensor([0.8947])}]}\n",
      "Epoch 10/25\n",
      "{'mean_loss': 0.23566831462085247}\n",
      "{'metrics': [{'sample': 'IXI111_0', 'metric1': tensor([0.9017])}, {'sample': 'IXI100_0', 'metric1': tensor([0.8277])}, {'sample': 'IXI020_0', 'metric1': tensor([0.9009])}]}\n",
      "Epoch 11/25\n",
      "{'mean_loss': 0.22698609872410694}\n",
      "{'metrics': [{'sample': 'IXI111_0', 'metric1': tensor([0.9067])}, {'sample': 'IXI100_0', 'metric1': tensor([0.8325])}, {'sample': 'IXI020_0', 'metric1': tensor([0.9067])}]}\n",
      "Epoch 12/25\n",
      "{'mean_loss': 0.23678839827577272}\n",
      "{'metrics': [{'sample': 'IXI111_0', 'metric1': tensor([0.9065])}, {'sample': 'IXI100_0', 'metric1': tensor([0.8329])}, {'sample': 'IXI020_0', 'metric1': tensor([0.9057])}]}\n",
      "Epoch 13/25\n",
      "{'mean_loss': 0.24870852256814638}\n",
      "{'metrics': [{'sample': 'IXI111_0', 'metric1': tensor([0.9065])}, {'sample': 'IXI100_0', 'metric1': tensor([0.8330])}, {'sample': 'IXI020_0', 'metric1': tensor([0.9062])}]}\n",
      "Epoch 14/25\n",
      "{'mean_loss': 0.23769294625769058}\n",
      "{'metrics': [{'sample': 'IXI111_0', 'metric1': tensor([0.9106])}, {'sample': 'IXI100_0', 'metric1': tensor([0.8353])}, {'sample': 'IXI020_0', 'metric1': tensor([0.9101])}]}\n",
      "Epoch 15/25\n",
      "{'mean_loss': 0.23506000700096288}\n",
      "{'metrics': [{'sample': 'IXI111_0', 'metric1': tensor([0.9150])}, {'sample': 'IXI100_0', 'metric1': tensor([0.8380])}, {'sample': 'IXI020_0', 'metric1': tensor([0.9144])}]}\n",
      "Epoch 16/25\n",
      "{'mean_loss': 0.23453363558898369}\n",
      "{'metrics': [{'sample': 'IXI111_0', 'metric1': tensor([0.9183])}, {'sample': 'IXI100_0', 'metric1': tensor([0.8394])}, {'sample': 'IXI020_0', 'metric1': tensor([0.9172])}]}\n",
      "Epoch 17/25\n",
      "{'mean_loss': 0.22622476456065974}\n",
      "{'metrics': [{'sample': 'IXI111_0', 'metric1': tensor([0.9215])}, {'sample': 'IXI100_0', 'metric1': tensor([0.8415])}, {'sample': 'IXI020_0', 'metric1': tensor([0.9207])}]}\n",
      "Epoch 18/25\n",
      "{'mean_loss': 0.23384545433024564}\n",
      "{'metrics': [{'sample': 'IXI111_0', 'metric1': tensor([0.9237])}, {'sample': 'IXI100_0', 'metric1': tensor([0.8437])}, {'sample': 'IXI020_0', 'metric1': tensor([0.9233])}]}\n",
      "Epoch 19/25\n",
      "{'mean_loss': 0.2254338242734472}\n",
      "{'metrics': [{'sample': 'IXI111_0', 'metric1': tensor([0.9263])}, {'sample': 'IXI100_0', 'metric1': tensor([0.8449])}, {'sample': 'IXI020_0', 'metric1': tensor([0.9255])}]}\n",
      "Epoch 20/25\n",
      "{'mean_loss': 0.2281344464669625}\n",
      "{'metrics': [{'sample': 'IXI111_0', 'metric1': tensor([0.9287])}, {'sample': 'IXI100_0', 'metric1': tensor([0.8462])}, {'sample': 'IXI020_0', 'metric1': tensor([0.9273])}]}\n",
      "Epoch 21/25\n",
      "{'mean_loss': 0.22715463240941366}\n",
      "{'metrics': [{'sample': 'IXI111_0', 'metric1': tensor([0.9301])}, {'sample': 'IXI100_0', 'metric1': tensor([0.8471])}, {'sample': 'IXI020_0', 'metric1': tensor([0.9292])}]}\n",
      "Epoch 22/25\n",
      "{'mean_loss': 0.23030814218024412}\n",
      "{'metrics': [{'sample': 'IXI111_0', 'metric1': tensor([0.9315])}, {'sample': 'IXI100_0', 'metric1': tensor([0.8475])}, {'sample': 'IXI020_0', 'metric1': tensor([0.9304])}]}\n",
      "Epoch 23/25\n",
      "{'mean_loss': 0.23139321493605772}\n",
      "{'metrics': [{'sample': 'IXI111_0', 'metric1': tensor([0.9328])}, {'sample': 'IXI100_0', 'metric1': tensor([0.8486])}, {'sample': 'IXI020_0', 'metric1': tensor([0.9320])}]}\n",
      "Epoch 24/25\n",
      "{'mean_loss': 0.22511688309411207}\n",
      "{'metrics': [{'sample': 'IXI111_0', 'metric1': tensor([0.9336])}, {'sample': 'IXI100_0', 'metric1': tensor([0.8490])}, {'sample': 'IXI020_0', 'metric1': tensor([0.9333])}]}\n",
      "Epoch 25/25\n",
      "{'mean_loss': 0.22424103474865356}\n"
     ]
    },
    {
     "name": "stderr",
     "output_type": "stream",
     "text": [
      " 50%|█████████████████████▌                     | 1/2 [18:16<18:16, 1096.89s/it]"
     ]
    },
    {
     "name": "stdout",
     "output_type": "stream",
     "text": [
      "{'metrics': [{'sample': 'IXI111_0', 'metric1': tensor([0.9343])}, {'sample': 'IXI100_0', 'metric1': tensor([0.8491])}, {'sample': 'IXI020_0', 'metric1': tensor([0.9339])}]}\n",
      "Epoch 1/25\n",
      "{'mean_loss': 0.6672985454400381}\n",
      "{'metrics': [{'sample': 'IXI077_0', 'metric1': tensor([0.3137])}, {'sample': 'IXI111_0', 'metric1': tensor([0.3520])}, {'sample': 'IXI115_0', 'metric1': tensor([0.4546])}]}\n",
      "Epoch 2/25\n",
      "{'mean_loss': 0.2853224550684293}\n",
      "{'metrics': [{'sample': 'IXI077_0', 'metric1': tensor([0.7835])}, {'sample': 'IXI111_0', 'metric1': tensor([0.8429])}, {'sample': 'IXI115_0', 'metric1': tensor([0.7320])}]}\n",
      "Epoch 3/25\n",
      "{'mean_loss': 0.26316667441278696}\n",
      "{'metrics': [{'sample': 'IXI077_0', 'metric1': tensor([0.7689])}, {'sample': 'IXI111_0', 'metric1': tensor([0.8603])}, {'sample': 'IXI115_0', 'metric1': tensor([0.7597])}]}\n",
      "Epoch 4/25\n",
      "{'mean_loss': 0.2678287575642268}\n",
      "{'metrics': [{'sample': 'IXI077_0', 'metric1': tensor([0.7987])}, {'sample': 'IXI111_0', 'metric1': tensor([0.8774])}, {'sample': 'IXI115_0', 'metric1': tensor([0.7659])}]}\n",
      "Epoch 5/25\n",
      "{'mean_loss': 0.2495368638386329}\n",
      "{'metrics': [{'sample': 'IXI077_0', 'metric1': tensor([0.8158])}, {'sample': 'IXI111_0', 'metric1': tensor([0.8830])}, {'sample': 'IXI115_0', 'metric1': tensor([0.7619])}]}\n",
      "Epoch 6/25\n",
      "{'mean_loss': 0.22904719598591328}\n",
      "{'metrics': [{'sample': 'IXI077_0', 'metric1': tensor([0.8278])}, {'sample': 'IXI111_0', 'metric1': tensor([0.8882])}, {'sample': 'IXI115_0', 'metric1': tensor([0.7605])}]}\n",
      "Epoch 7/25\n",
      "{'mean_loss': 0.2328390826781591}\n",
      "{'metrics': [{'sample': 'IXI077_0', 'metric1': tensor([0.8309])}, {'sample': 'IXI111_0', 'metric1': tensor([0.8947])}, {'sample': 'IXI115_0', 'metric1': tensor([0.7683])}]}\n",
      "Epoch 8/25\n",
      "{'mean_loss': 0.22846170763174692}\n",
      "{'metrics': [{'sample': 'IXI077_0', 'metric1': tensor([0.8291])}, {'sample': 'IXI111_0', 'metric1': tensor([0.8986])}, {'sample': 'IXI115_0', 'metric1': tensor([0.7754])}]}\n",
      "Epoch 9/25\n",
      "{'mean_loss': 0.23562666308134794}\n",
      "{'metrics': [{'sample': 'IXI077_0', 'metric1': tensor([0.8407])}, {'sample': 'IXI111_0', 'metric1': tensor([0.9038])}, {'sample': 'IXI115_0', 'metric1': tensor([0.7754])}]}\n",
      "Epoch 10/25\n",
      "{'mean_loss': 0.22655217659970125}\n",
      "{'metrics': [{'sample': 'IXI077_0', 'metric1': tensor([0.8497])}, {'sample': 'IXI111_0', 'metric1': tensor([0.9095])}, {'sample': 'IXI115_0', 'metric1': tensor([0.7795])}]}\n",
      "Epoch 11/25\n",
      "{'mean_loss': 0.22554707154631615}\n",
      "{'metrics': [{'sample': 'IXI077_0', 'metric1': tensor([0.8535])}, {'sample': 'IXI111_0', 'metric1': tensor([0.9140])}, {'sample': 'IXI115_0', 'metric1': tensor([0.7844])}]}\n",
      "Epoch 12/25\n",
      "{'mean_loss': 0.2233067952717344}\n",
      "{'metrics': [{'sample': 'IXI077_0', 'metric1': tensor([0.8588])}, {'sample': 'IXI111_0', 'metric1': tensor([0.9180])}, {'sample': 'IXI115_0', 'metric1': tensor([0.7887])}]}\n",
      "Epoch 13/25\n",
      "{'mean_loss': 0.21438814016679922}\n",
      "{'metrics': [{'sample': 'IXI077_0', 'metric1': tensor([0.8653])}, {'sample': 'IXI111_0', 'metric1': tensor([0.9211])}, {'sample': 'IXI115_0', 'metric1': tensor([0.7893])}]}\n",
      "Epoch 14/25\n",
      "{'mean_loss': 0.21565366567422947}\n",
      "{'metrics': [{'sample': 'IXI077_0', 'metric1': tensor([0.8677])}, {'sample': 'IXI111_0', 'metric1': tensor([0.9241])}, {'sample': 'IXI115_0', 'metric1': tensor([0.7922])}]}\n",
      "Epoch 15/25\n",
      "{'mean_loss': 0.21605047645668188}\n",
      "{'metrics': [{'sample': 'IXI077_0', 'metric1': tensor([0.8690])}, {'sample': 'IXI111_0', 'metric1': tensor([0.9263])}, {'sample': 'IXI115_0', 'metric1': tensor([0.7948])}]}\n",
      "Epoch 16/25\n",
      "{'mean_loss': 0.2123022172600031}\n",
      "{'metrics': [{'sample': 'IXI077_0', 'metric1': tensor([0.8685])}, {'sample': 'IXI111_0', 'metric1': tensor([0.9274])}, {'sample': 'IXI115_0', 'metric1': tensor([0.7977])}]}\n",
      "Epoch 17/25\n",
      "{'mean_loss': 0.21365948766469955}\n",
      "{'metrics': [{'sample': 'IXI077_0', 'metric1': tensor([0.8719])}, {'sample': 'IXI111_0', 'metric1': tensor([0.9288])}, {'sample': 'IXI115_0', 'metric1': tensor([0.7971])}]}\n",
      "Epoch 18/25\n",
      "{'mean_loss': 0.2135700477908055}\n",
      "{'metrics': [{'sample': 'IXI077_0', 'metric1': tensor([0.8742])}, {'sample': 'IXI111_0', 'metric1': tensor([0.9304])}, {'sample': 'IXI115_0', 'metric1': tensor([0.7979])}]}\n",
      "Epoch 19/25\n",
      "{'mean_loss': 0.21407096926122904}\n",
      "{'metrics': [{'sample': 'IXI077_0', 'metric1': tensor([0.8766])}, {'sample': 'IXI111_0', 'metric1': tensor([0.9320])}, {'sample': 'IXI115_0', 'metric1': tensor([0.7991])}]}\n",
      "Epoch 20/25\n",
      "{'mean_loss': 0.21847322986771664}\n",
      "{'metrics': [{'sample': 'IXI077_0', 'metric1': tensor([0.8779])}, {'sample': 'IXI111_0', 'metric1': tensor([0.9331])}, {'sample': 'IXI115_0', 'metric1': tensor([0.8005])}]}\n",
      "Epoch 21/25\n",
      "{'mean_loss': 0.20695664826780558}\n",
      "{'metrics': [{'sample': 'IXI077_0', 'metric1': tensor([0.8765])}, {'sample': 'IXI111_0', 'metric1': tensor([0.9336])}, {'sample': 'IXI115_0', 'metric1': tensor([0.8023])}]}\n",
      "Epoch 22/25\n",
      "{'mean_loss': 0.21196507569402456}\n",
      "{'metrics': [{'sample': 'IXI077_0', 'metric1': tensor([0.8779])}, {'sample': 'IXI111_0', 'metric1': tensor([0.9347])}, {'sample': 'IXI115_0', 'metric1': tensor([0.8022])}]}\n",
      "Epoch 23/25\n",
      "{'mean_loss': 0.21413692459464073}\n",
      "{'metrics': [{'sample': 'IXI077_0', 'metric1': tensor([0.8780])}, {'sample': 'IXI111_0', 'metric1': tensor([0.9355])}, {'sample': 'IXI115_0', 'metric1': tensor([0.8035])}]}\n",
      "Epoch 24/25\n",
      "{'mean_loss': 0.2141561477134625}\n",
      "{'metrics': [{'sample': 'IXI077_0', 'metric1': tensor([0.8787])}, {'sample': 'IXI111_0', 'metric1': tensor([0.9363])}, {'sample': 'IXI115_0', 'metric1': tensor([0.8044])}]}\n",
      "Epoch 25/25\n",
      "{'mean_loss': 0.21648899714152017}\n"
     ]
    },
    {
     "name": "stderr",
     "output_type": "stream",
     "text": [
      "100%|███████████████████████████████████████████| 2/2 [36:29<00:00, 1094.53s/it]"
     ]
    },
    {
     "name": "stdout",
     "output_type": "stream",
     "text": [
      "{'metrics': [{'sample': 'IXI077_0', 'metric1': tensor([0.8792])}, {'sample': 'IXI111_0', 'metric1': tensor([0.9370])}, {'sample': 'IXI115_0', 'metric1': tensor([0.8047])}]}\n"
     ]
    },
    {
     "name": "stderr",
     "output_type": "stream",
     "text": [
      "\n"
     ]
    }
   ],
   "source": [
    "#model_name = 'HessUNet2'\n",
    "model_name = 'Unet3d_16ch'\n",
    "\n",
    "run_tests(model_name=model_name, \n",
    "          path_to_save_models=\"/home/msst/save_folder/models_for_tests\",\n",
    "          test_data_path = '/home/msst/Documents/medtech/data/HessData_IXI_test',\n",
    "          is2d=False,\n",
    "          epochs=25)"
   ]
  },
  {
   "cell_type": "code",
   "execution_count": null,
   "id": "25da444c-ff03-48f7-9ced-277fd51367dc",
   "metadata": {},
   "outputs": [],
   "source": []
  }
 ],
 "metadata": {
  "kernelspec": {
   "display_name": "Python 3",
   "language": "python",
   "name": "python3"
  },
  "language_info": {
   "codemirror_mode": {
    "name": "ipython",
    "version": 3
   },
   "file_extension": ".py",
   "mimetype": "text/x-python",
   "name": "python",
   "nbconvert_exporter": "python",
   "pygments_lexer": "ipython3",
   "version": "3.8.10"
  }
 },
 "nbformat": 4,
 "nbformat_minor": 5
}
