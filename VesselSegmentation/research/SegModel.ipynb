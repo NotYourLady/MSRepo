{
 "cells": [
  {
   "cell_type": "code",
   "execution_count": 10,
   "id": "c5551197-4f1b-4341-87e2-6ac529297e5e",
   "metadata": {
    "tags": []
   },
   "outputs": [
    {
     "name": "stdout",
     "output_type": "stream",
     "text": [
      "The autoreload extension is already loaded. To reload it, use:\n",
      "  %reload_ext autoreload\n"
     ]
    }
   ],
   "source": [
    "%load_ext autoreload\n",
    "%autoreload 2"
   ]
  },
  {
   "cell_type": "markdown",
   "id": "ebc50aa5-62a3-4c74-a66b-d3d1ceb6c9e2",
   "metadata": {},
   "source": [
    "<h3> Загрузка библиотек"
   ]
  },
  {
   "cell_type": "code",
   "execution_count": 11,
   "id": "ee14abb5-ab02-498a-97c4-06e006266cca",
   "metadata": {
    "tags": []
   },
   "outputs": [],
   "source": [
    "import os\n",
    "import numpy as np\n",
    "\n",
    "import torch\n",
    "import torch.nn as nn\n",
    "from torch.utils.data import DataLoader\n",
    "from torch.optim.lr_scheduler import StepLR"
   ]
  },
  {
   "cell_type": "code",
   "execution_count": 21,
   "id": "46805e0c-6abf-4220-aeb5-1720cba916bb",
   "metadata": {
    "tags": []
   },
   "outputs": [
    {
     "ename": "ModuleNotFoundError",
     "evalue": "No module named 'ml.dataset'",
     "output_type": "error",
     "traceback": [
      "\u001b[0;31m---------------------------------------------------------------------------\u001b[0m",
      "\u001b[0;31mModuleNotFoundError\u001b[0m                       Traceback (most recent call last)",
      "Cell \u001b[0;32mIn[21], line 14\u001b[0m\n\u001b[1;32m     10\u001b[0m \u001b[38;5;66;03m#from ml.models.rog import ROG\u001b[39;00m\n\u001b[1;32m     11\u001b[0m \u001b[38;5;66;03m#from ml.models.unet_deepsup import U_Net_DeepSup\u001b[39;00m\n\u001b[1;32m     13\u001b[0m \u001b[38;5;28;01mfrom\u001b[39;00m \u001b[38;5;21;01mml\u001b[39;00m\u001b[38;5;21;01m.\u001b[39;00m\u001b[38;5;21;01mutils\u001b[39;00m \u001b[38;5;28;01mimport\u001b[39;00m get_total_params, save_model, load_pretrainned\n\u001b[0;32m---> 14\u001b[0m \u001b[38;5;28;01mfrom\u001b[39;00m \u001b[38;5;21;01mml\u001b[39;00m\u001b[38;5;21;01m.\u001b[39;00m\u001b[38;5;21;01mdataset\u001b[39;00m \u001b[38;5;28;01mimport\u001b[39;00m preprocess_dataset, HVB_Dataset, norm_vol, HeadDataset\n\u001b[1;32m     15\u001b[0m \u001b[38;5;28;01mfrom\u001b[39;00m \u001b[38;5;21;01mml\u001b[39;00m\u001b[38;5;21;01m.\u001b[39;00m\u001b[38;5;21;01mtrainer\u001b[39;00m \u001b[38;5;28;01mimport\u001b[39;00m Trainer\n\u001b[1;32m     16\u001b[0m \u001b[38;5;28;01mfrom\u001b[39;00m \u001b[38;5;21;01mml\u001b[39;00m\u001b[38;5;21;01m.\u001b[39;00m\u001b[38;5;21;01mcontroller\u001b[39;00m \u001b[38;5;28;01mimport\u001b[39;00m Controller\n",
      "\u001b[0;31mModuleNotFoundError\u001b[0m: No module named 'ml.dataset'"
     ]
    }
   ],
   "source": [
    "import sys\n",
    "sys.path.append(os.path.dirname('/home/msst/repo/MSRepo/VesselSegmentation/'))\n",
    "sys.path.append(os.path.dirname('/home/msst/repo/MSRepo/VesselSegmentation/ml/'))\n",
    "\n",
    "from scripts.load_and_save import (get_dcm_info, get_dcm_vol, vox_size2affine,\n",
    "                                   save_vol_as_nii, load_sample_data)\n",
    "from scripts.load_and_save import load_nii_vol, save_vol_as_nii, load_sample_data\n",
    "\n",
    "from ml.models.unet3d import U_Net\n",
    "#from ml.models.rog import ROG\n",
    "#from ml.models.unet_deepsup import U_Net_DeepSup\n",
    "\n",
    "from ml.utils import get_total_params, save_model, load_pretrainned\n",
    "from ml.dataset import preprocess_dataset, HVB_Dataset, norm_vol, HeadDataset\n",
    "from ml.trainer import Trainer\n",
    "from ml.controller import Controller\n",
    "from ml.losses import ExponentialLogarithmicLoss, WeightedExpBCE, TverskyLoss, IOU_Metric, MultyscaleLoss"
   ]
  },
  {
   "cell_type": "code",
   "execution_count": 4,
   "id": "f6af17a1-a09a-44b0-b96f-0e06faa4ee99",
   "metadata": {
    "tags": []
   },
   "outputs": [
    {
     "name": "stdout",
     "output_type": "stream",
     "text": [
      "cuda\n"
     ]
    }
   ],
   "source": [
    "device = torch.device('cuda' if torch.cuda.is_available() else 'cpu')\n",
    "print(device)"
   ]
  },
  {
   "cell_type": "code",
   "execution_count": 17,
   "id": "4a2532d6-9f48-4c09-b631-b8da999164b9",
   "metadata": {},
   "outputs": [],
   "source": [
    "from ml.tio_dataset import TioDataset"
   ]
  },
  {
   "cell_type": "code",
   "execution_count": 27,
   "id": "b7827e7a-eac6-4d1a-a183-4dd3ce623b16",
   "metadata": {},
   "outputs": [],
   "source": [
    "train_settings = None\n",
    "test_settings  = {\n",
    "    \"patch_shape\" : (64, 64, 64),\n",
    "    \"overlap_shape\" : (32, 32, 32),\n",
    "    \"batch_size\" : 1,\n",
    "    \"num_workers\": 4,\n",
    "}\n",
    "\n",
    "data_dir = \"/home/msst/Documents/medtech/HeadData_test\"\n",
    "test_dataset = TioDataset(data_dir, test_settings=test_settings)"
   ]
  },
  {
   "cell_type": "code",
   "execution_count": null,
   "id": "89a37a3e-494a-43cd-8e70-64b25cdb7203",
   "metadata": {},
   "outputs": [],
   "source": []
  },
  {
   "cell_type": "markdown",
   "id": "0cd09a43-736a-45a9-924c-abcf307c6a5d",
   "metadata": {
    "tags": []
   },
   "source": [
    "<h3> Создание экзепляра класса датасет"
   ]
  },
  {
   "cell_type": "code",
   "execution_count": 5,
   "id": "0a82a75f-5ad6-4b48-8258-9eb80151242b",
   "metadata": {
    "tags": []
   },
   "outputs": [],
   "source": [
    "train_dataset_settings = {\n",
    "    \"data_dir\" : \"/home/msst/Documents/medtech/brain_seg_dataset\",\n",
    "    \"patch_shape\" : (64, 64, 64),\n",
    "    \"number_of_patches\" : 512,\n",
    "    \"mode\": \"train\",\n",
    "    \"RAM_samples\" : True \n",
    "}\n",
    "patch_data_df, sample_data_df = preprocess_dataset(train_dataset_settings)\n",
    "train_dataset = HVB_Dataset(train_dataset_settings)"
   ]
  },
  {
   "cell_type": "code",
   "execution_count": 6,
   "id": "a9fa5aa8-6710-4a16-96e4-2b0274fde4d0",
   "metadata": {
    "tags": []
   },
   "outputs": [],
   "source": [
    "val_dataset_settings = {\n",
    "    \"data_dir\" : \"/home/msst/Documents/medtech/brain_seg_dataset\",\n",
    "    \"patch_shape\" : (256, 256, 128),\n",
    "    \"mode\": \"eval\",\n",
    "    \"RAM_samples\" : train_dataset_settings[\"RAM_samples\"] \n",
    "}\n",
    "val_dataset = HVB_Dataset(val_dataset_settings)"
   ]
  },
  {
   "cell_type": "code",
   "execution_count": 7,
   "id": "7f5be7f5-8984-4bf0-bebf-7c7adc79cb09",
   "metadata": {
    "tags": []
   },
   "outputs": [],
   "source": [
    "test_dataset_settings = {\n",
    "    \"data_dir\" : \"/home/msst/Documents/medtech/brain_seg_dataset\",\n",
    "    \"patch_shape\" : (256, 256, 128),\n",
    "    \"mode\": \"eval\",\n",
    "    \"number_of_patches\" : 0,\n",
    "    \"RAM_samples\" : False\n",
    "}\n",
    "preprocess_dataset(test_dataset_settings)\n",
    "test_dataset = HVB_Dataset(test_dataset_settings)"
   ]
  },
  {
   "cell_type": "code",
   "execution_count": 8,
   "id": "d96b819f-040a-40e2-aa94-0c080a5308f1",
   "metadata": {
    "tags": []
   },
   "outputs": [],
   "source": [
    "train_loader_params = {\"batch_size\": 8,\n",
    "                 \"shuffle\": True,\n",
    "                 \"num_workers\": 6\n",
    "                }\n",
    "\n",
    "val_loader_params = {\"batch_size\": 1,\n",
    "                     \"shuffle\": False,\n",
    "                     \"num_workers\": 6\n",
    "                    }\n",
    "\n",
    "train_dataloader = DataLoader(train_dataset, **train_loader_params)\n",
    "val_dataloader = DataLoader(val_dataset, **val_loader_params)\n",
    "test_dataloader = DataLoader(test_dataset, **val_loader_params)"
   ]
  },
  {
   "cell_type": "code",
   "execution_count": 9,
   "id": "8fe74871-e1dc-4594-a818-48c6177cfb2b",
   "metadata": {
    "tags": []
   },
   "outputs": [
    {
     "name": "stdout",
     "output_type": "stream",
     "text": [
      "1024\n",
      "2\n",
      "2\n"
     ]
    }
   ],
   "source": [
    "print(len(train_dataset))\n",
    "print(len(val_dataset))\n",
    "print(len(test_dataset))"
   ]
  },
  {
   "cell_type": "markdown",
   "id": "b95377fe-0b9c-4405-8bed-d99b03289a07",
   "metadata": {},
   "source": [
    "<h3> Создание экземпляра модели"
   ]
  },
  {
   "cell_type": "code",
   "execution_count": 10,
   "id": "87601130-26ed-46d1-be07-9f40b3c2b4f8",
   "metadata": {
    "tags": []
   },
   "outputs": [],
   "source": [
    "#rog_params = {\n",
    "#    'classes': 1,\n",
    "#    'modalities': 1,\n",
    "#    'strides': [[2, 2, 1], [2, 2, 1], [2, 2, 2]],\n",
    "#}\n",
    "#model = ROG(rog_params)"
   ]
  },
  {
   "cell_type": "code",
   "execution_count": 11,
   "id": "63a09e15-308b-486d-b7ee-76c35ec5f7e2",
   "metadata": {
    "tags": []
   },
   "outputs": [],
   "source": [
    "#model = U_Net()\n",
    "class swish(nn.Module):\n",
    "    def forward(self, input_tensor):\n",
    "        return input_tensor * torch.sigmoid(input_tensor)\n",
    "\n",
    "#act_fn: nn.PReLU(inplace=True), nn.ReLU(inplace=True), swish\n",
    "model = U_Net_DeepSup(channel_coef=16, act_fn=swish())"
   ]
  },
  {
   "cell_type": "code",
   "execution_count": 12,
   "id": "f5eecf77-8a4a-4559-a1b9-bd86ca6be108",
   "metadata": {
    "tags": []
   },
   "outputs": [
    {
     "name": "stdout",
     "output_type": "stream",
     "text": [
      "Number of parameters: 6477875\n"
     ]
    }
   ],
   "source": [
    "print('Number of parameters: {}'.format(get_total_params(model)))"
   ]
  },
  {
   "cell_type": "code",
   "execution_count": 13,
   "id": "36d7c0f2-d2c2-47c5-99dc-f4ac60255ba3",
   "metadata": {
    "jupyter": {
     "source_hidden": true
    },
    "tags": []
   },
   "outputs": [],
   "source": [
    "import lightning as L\n",
    "\n",
    "\n",
    "class LitModel(L.LightningModule):\n",
    "    def __init__(self, torch_model, loss_fn, learning_rate):\n",
    "        super().__init__()\n",
    "        self.learning_rate = learning_rate\n",
    "        self.model = torch_model\n",
    "        self.loss_fn = loss_fn\n",
    "\n",
    "    def training_step(self, batch, batch_idx):\n",
    "        head_batch = batch['head_patch'].to(self.device)\n",
    "        vessels_batch = batch['vessels_patch'].to(self.device)\n",
    "    \n",
    "        outputs = self.model.forward(head_batch)\n",
    "        loss = self.loss_fn(vessels_batch, outputs)\n",
    "        self.log(\"train_loss\", loss)\n",
    "        return(loss)\n",
    "    \n",
    "    def configure_optimizers(self):\n",
    "        return torch.optim.Adam(self.model.parameters(), lr=self.learning_rate)\n",
    "\n",
    "#loss_fn = MultyscaleLoss(ExponentialLogarithmicLoss(gamma_tversky = 0.5, gamma_bce = 0.5, lamb=0.01,\n",
    "#                                                    freq = 0.001, tversky_alfa=0.5))\n",
    "#lightning_model = LitModel(model, loss_fn, 0.01)\n",
    "#trainer = L.Trainer(accelerator='gpu', auto_lr_find=True)\n",
    "#trainer.tune(lightning_model, train_dataloaders=train_dataloader)\n",
    "#print(\"predicted best lr:\", lightning_model.learning_rate)"
   ]
  },
  {
   "cell_type": "markdown",
   "id": "05150b88-328e-410d-9ae1-e566f6fbe9ce",
   "metadata": {},
   "source": [
    "<h3> Обучение модели"
   ]
  },
  {
   "cell_type": "code",
   "execution_count": 14,
   "id": "fdc41e48-ac6e-4b6d-91bf-a37f0b89a091",
   "metadata": {
    "tags": []
   },
   "outputs": [],
   "source": [
    "#l = WeightedExpBCE(0.5)\n",
    "#l.set_bce_weight(0.001)\n",
    "#loss_fn = MultyscaleLoss(l)\n",
    "\n",
    "#loss_fn = MultyscaleLoss(TverskyLoss(0.75))\n",
    "\n",
    "loss_fn = MultyscaleLoss(ExponentialLogarithmicLoss(gamma_tversky = 1, gamma_bce = 1, lamb=0.9,\n",
    "                                                    freq = 0.001, tversky_alfa=0.75))"
   ]
  },
  {
   "cell_type": "code",
   "execution_count": 15,
   "id": "db3f01a2-a9a6-418c-9f24-d417ed431483",
   "metadata": {
    "tags": []
   },
   "outputs": [],
   "source": [
    "metric_fn = IOU_Metric()\n",
    "\n",
    "trainer_config = {\n",
    "    'n_epochs': 100,\n",
    "    \"loss\" : loss_fn,\n",
    "    \"metric\" : metric_fn,\n",
    "    'device' : device,\n",
    "    \"optimizer_fn\" : lambda model: torch.optim.ASGD(model.parameters(), lr=0.25),\n",
    "    \"sheduler_fn\": lambda optimizer: StepLR(optimizer, step_size=5, gamma=0.5)\n",
    "}\n",
    "trainer = Trainer(trainer_config)"
   ]
  },
  {
   "cell_type": "code",
   "execution_count": 23,
   "id": "55c90269-3eec-4016-aafa-9d25481e67a4",
   "metadata": {
    "tags": []
   },
   "outputs": [
    {
     "name": "stdout",
     "output_type": "stream",
     "text": [
      "Epoch 1/100\n"
     ]
    },
    {
     "name": "stderr",
     "output_type": "stream",
     "text": [
      "100%|█████████████████████████████████████████| 128/128 [01:19<00:00,  1.62it/s]"
     ]
    },
    {
     "name": "stdout",
     "output_type": "stream",
     "text": [
      "{'loss': 0.7430322389118373}\n"
     ]
    },
    {
     "name": "stderr",
     "output_type": "stream",
     "text": [
      "\n"
     ]
    },
    {
     "ename": "NameError",
     "evalue": "name 'dataset' is not defined",
     "output_type": "error",
     "traceback": [
      "\u001b[0;31m---------------------------------------------------------------------------\u001b[0m",
      "\u001b[0;31mNameError\u001b[0m                                 Traceback (most recent call last)",
      "Cell \u001b[0;32mIn[23], line 1\u001b[0m\n\u001b[0;32m----> 1\u001b[0m model \u001b[38;5;241m=\u001b[39m \u001b[43mtrainer\u001b[49m\u001b[38;5;241;43m.\u001b[39;49m\u001b[43mfit\u001b[49m\u001b[43m(\u001b[49m\u001b[43mmodel\u001b[49m\u001b[43m,\u001b[49m\u001b[43m \u001b[49m\u001b[43mtrain_dataloader\u001b[49m\u001b[43m,\u001b[49m\u001b[43m \u001b[49m\u001b[43mval_dataloader\u001b[49m\u001b[43m)\u001b[49m\n",
      "File \u001b[0;32m~/repo/MSRepo/VesselSegmentation/ml/trainer.py:70\u001b[0m, in \u001b[0;36mTrainer.fit\u001b[0;34m(self, model, train_dataloader, val_dataloader, test_dataloader)\u001b[0m\n\u001b[1;32m     64\u001b[0m \u001b[38;5;28mself\u001b[39m\u001b[38;5;241m.\u001b[39mhistory[\u001b[38;5;124m'\u001b[39m\u001b[38;5;124mtrain_loss\u001b[39m\u001b[38;5;124m'\u001b[39m]\u001b[38;5;241m.\u001b[39mappend(train_info[\u001b[38;5;124m'\u001b[39m\u001b[38;5;124mloss\u001b[39m\u001b[38;5;124m'\u001b[39m])\n\u001b[1;32m     66\u001b[0m \u001b[38;5;66;03m#val_info = self.val_epoch(val_dataloader)\u001b[39;00m\n\u001b[1;32m     67\u001b[0m \u001b[38;5;66;03m#print(val_info)\u001b[39;00m\n\u001b[1;32m     68\u001b[0m \u001b[38;5;66;03m#self.history['val_quality'].append(val_info['metrics'])\u001b[39;00m\n\u001b[0;32m---> 70\u001b[0m test_info \u001b[38;5;241m=\u001b[39m \u001b[38;5;28mself\u001b[39m\u001b[38;5;241m.\u001b[39mtest_epoch(\u001b[43mdataset\u001b[49m\u001b[38;5;241m.\u001b[39mtest_dataloader)\n\u001b[1;32m     71\u001b[0m \u001b[38;5;28mprint\u001b[39m(test_info)\n\u001b[1;32m     72\u001b[0m \u001b[38;5;28mself\u001b[39m\u001b[38;5;241m.\u001b[39mhistory[\u001b[38;5;124m'\u001b[39m\u001b[38;5;124mtest_quality\u001b[39m\u001b[38;5;124m'\u001b[39m]\u001b[38;5;241m.\u001b[39mappend(test_info[\u001b[38;5;124m'\u001b[39m\u001b[38;5;124mmetrics\u001b[39m\u001b[38;5;124m'\u001b[39m])\n",
      "\u001b[0;31mNameError\u001b[0m: name 'dataset' is not defined"
     ]
    }
   ],
   "source": [
    "model = trainer.fit(model, train_dataloader, val_dataloader)"
   ]
  },
  {
   "cell_type": "code",
   "execution_count": null,
   "id": "924a559f-05e7-4e5c-a8ad-81d2c5237221",
   "metadata": {},
   "outputs": [
    {
     "name": "stderr",
     "output_type": "stream",
     "text": [
      " 29%|████████████▊                                | 2/7 [00:59<02:29, 29.83s/it]"
     ]
    }
   ],
   "source": [
    "trainer.test_epoch(test_dataset.test_dataloader)"
   ]
  },
  {
   "cell_type": "code",
   "execution_count": 20,
   "id": "46187a77-c050-47fd-b824-374e8f8bd133",
   "metadata": {
    "tags": []
   },
   "outputs": [],
   "source": [
    "model_name = \"Unet16_ExpLog09_34\"\n",
    "#trainer.save(\"/home/msst/repo/MSRepo/VesselSegmentation/saved_models/\" + model_name)"
   ]
  },
  {
   "cell_type": "code",
   "execution_count": 15,
   "id": "7822c6f4-2f6f-431a-8ef8-eeebe530daed",
   "metadata": {
    "tags": []
   },
   "outputs": [],
   "source": [
    "#model.load_state_dict(torch.load(\"/home/msst/repo/MSRepo/VesselSegmentation/saved_models/\" + model_name)[\"model_state_dict\"])\n",
    "#trainer.model = model.to(device)"
   ]
  },
  {
   "cell_type": "code",
   "execution_count": 22,
   "id": "b85b2edd-fd21-4413-8df3-00bc29e64a7c",
   "metadata": {
    "tags": []
   },
   "outputs": [],
   "source": [
    "#trainer.load(\"/home/msst/repo/MSRepo/VesselSegmentation/saved_models/\" + model_name)"
   ]
  },
  {
   "cell_type": "markdown",
   "id": "5283b921-c9a4-43bc-a8c6-82ade78251a7",
   "metadata": {},
   "source": [
    "<h3> Сегментация с помощью обученной модели\n",
    "    "
   ]
  },
  {
   "cell_type": "code",
   "execution_count": 16,
   "id": "2031bf17-a129-4870-8cf3-142477b598fe",
   "metadata": {
    "tags": []
   },
   "outputs": [
    {
     "name": "stdout",
     "output_type": "stream",
     "text": [
      "### P62_CTA ###\n",
      "metric: tensor([0.1536]) sum/sum_GT: tensor(4.0736)\n",
      "### new_CTA ###\n",
      "metric: tensor([0.4124]) sum/sum_GT: tensor(1.6118)\n"
     ]
    }
   ],
   "source": [
    "#patch_shape = (256, 256, 128)\n",
    "data_loader = test_dataloader#val_dataloader\n",
    "\n",
    "patch_shape = data_loader.dataset.patch_shape\n",
    "for batch in data_loader:\n",
    "    head_batch = batch['head']\n",
    "    vessels_batch = batch['vessels']\n",
    "    affine = batch['affine'][0]\n",
    "    sample_name = batch['sample_name'][0]\n",
    "    print(\"###\", sample_name, \"###\")\n",
    "    \n",
    "    head_seg = trainer.predict(head_batch, patch_shape)\n",
    "    metric = trainer.metric_fn(head_seg, vessels_batch)\n",
    "    \n",
    "    print('metric:', metric, \"sum/sum_GT:\", head_seg.sum()/vessels_batch.sum())\n",
    "    \n",
    "    vessels_seg = head_seg[0, 0]\n",
    "    data_dir = \"seg_data/\" + model_name\n",
    "    if not os.path.exists(data_dir):\n",
    "        os.mkdir(data_dir)\n",
    "\n",
    "    path_to_save_vessels = data_dir + '/' + sample_name + '.nii.gz'\n",
    "    save_vol_as_nii(vessels_seg, affine, path_to_save_vessels)"
   ]
  },
  {
   "cell_type": "code",
   "execution_count": null,
   "id": "0965ac98-57fd-4d93-a289-c92f2daeb9a7",
   "metadata": {
    "tags": []
   },
   "outputs": [],
   "source": [
    "print(head_seg.sum())\n",
    "vessels_seg = head_seg[0, 0]\n",
    "print(vessels_seg.sum())"
   ]
  },
  {
   "cell_type": "code",
   "execution_count": null,
   "id": "f2fee0a1-af4c-4696-b11e-8295e52ad1c4",
   "metadata": {},
   "outputs": [],
   "source": []
  },
  {
   "cell_type": "code",
   "execution_count": null,
   "id": "1c943353-2395-4856-91e1-60bee19dd3c7",
   "metadata": {},
   "outputs": [],
   "source": []
  }
 ],
 "metadata": {
  "kernelspec": {
   "display_name": "Python 3 (ipykernel)",
   "language": "python",
   "name": "python3"
  },
  "language_info": {
   "codemirror_mode": {
    "name": "ipython",
    "version": 3
   },
   "file_extension": ".py",
   "mimetype": "text/x-python",
   "name": "python",
   "nbconvert_exporter": "python",
   "pygments_lexer": "ipython3",
   "version": "3.10.13"
  }
 },
 "nbformat": 4,
 "nbformat_minor": 5
}
