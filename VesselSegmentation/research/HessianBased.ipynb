{
 "cells": [
  {
   "cell_type": "code",
   "execution_count": 1,
   "id": "6ae572fa-ba2a-46c6-b12b-cb2f053cb0de",
   "metadata": {
    "tags": []
   },
   "outputs": [],
   "source": [
    "import torch\n",
    "import torch.nn as nn\n",
    "from torch.optim.lr_scheduler import StepLR\n",
    "import torchio as tio\n",
    "import numpy as np\n",
    "import matplotlib.pyplot as plt\n",
    "import nibabel as nib\n",
    "\n",
    "import time\n",
    "from datetime import datetime\n",
    "from tqdm import tqdm\n",
    "from itertools import combinations_with_replacement"
   ]
  },
  {
   "cell_type": "code",
   "execution_count": 2,
   "id": "327f7528-8a18-49ca-839f-f8153af42360",
   "metadata": {
    "tags": []
   },
   "outputs": [],
   "source": [
    "import sys\n",
    "import os\n",
    "sys.path.append(os.path.dirname('../.'))\n",
    "\n",
    "from scripts.load_and_save import (get_dcm_info, get_dcm_vol, vox_size2affine,\n",
    "                                   load_nii_vol, save_vol_as_nii, raw2nifti)\n",
    "from scripts.utils import print_img, print_imgs, get_path\n",
    "from scripts.hessian_based import hessian_detect_2016\n",
    "\n",
    "from ml.utils import get_total_params, load_pretrainned, test_model\n",
    "from ml.ControllerClass import Controller\n",
    "from ml.tio_dataset import TioDataset\n",
    "from ml.metrics import (DICE_Metric, JAC_Metric, SN_Metric, SP_Metric,\n",
    "                        IOU_Metric, ExponentialLogarithmicLoss)\n",
    "\n",
    "from ml.models.HessNet import HessBlock, HessNet, HessNet2, GaussianBlur3D, HessianTorch\n",
    "from ml.models.unet3d import U_Net, U_HessNet, ParallelNet\n",
    "from ml.models.unet2d import U_Net2d"
   ]
  },
  {
   "cell_type": "code",
   "execution_count": 20,
   "id": "615fd51a-fc8a-4c2f-b783-ed3ea024f52d",
   "metadata": {
    "jupyter": {
     "source_hidden": true
    },
    "tags": []
   },
   "outputs": [],
   "source": [
    "DEVICE = 'cuda'\n",
    "IS2D = 1"
   ]
  },
  {
   "cell_type": "code",
   "execution_count": 21,
   "id": "b3ef4c01-18d6-4b0f-b46d-76f6bbea1f17",
   "metadata": {
    "jupyter": {
     "source_hidden": true
    },
    "tags": []
   },
   "outputs": [],
   "source": [
    "if IS2D:\n",
    "    PATCH_SIZE = (512, 512, 1)\n",
    "else:\n",
    "    PATCH_SIZE = (64, 64, 64)\n",
    "    \n",
    "train_settings  = {\n",
    "    \"patch_shape\" : PATCH_SIZE,\n",
    "    \"patches_per_volume\" : 64,\n",
    "    \"patches_queue_length\" : 1440,\n",
    "    \"batch_size\" : 16,\n",
    "    \"num_workers\": 4,\n",
    "    \"sampler\": \"uniform\",#\"weighted\"\n",
    "}\n",
    "\n",
    "val_settings  = {\n",
    "    \"patch_shape\" : PATCH_SIZE,\n",
    "    \"patches_per_volume\" : 32,\n",
    "    \"patches_queue_length\" : 1440,\n",
    "    \"batch_size\" : 32,\n",
    "    \"num_workers\": 4,\n",
    "    \"sampler\": \"uniform\",#\"weighted\" #\"uniform\",#\n",
    "}\n",
    "if IS2D:\n",
    "    test_settings  = {\n",
    "    \"patch_shape\" : (512, 512, 1),\n",
    "    \"overlap_shape\" : (0, 0, 0),\n",
    "    \"batch_size\" : 16,\n",
    "    \"num_workers\": 4,\n",
    "    }\n",
    "else:\n",
    "    test_settings = {\n",
    "        \"patch_shape\" : (256, 256, 64),\n",
    "        \"overlap_shape\" : (32, 32, 24),\n",
    "        \"batch_size\" : 1,\n",
    "        \"num_workers\": 4,\n",
    "    }\n",
    "\n",
    "data_dir = \"/home/msst/Documents/medtech/data/HessData_IXI\"\n",
    "dataset = TioDataset(data_dir,\n",
    "                 train_settings=train_settings,\n",
    "                 val_settings=None,#val_settings,\n",
    "                 test_settings=test_settings)"
   ]
  },
  {
   "cell_type": "code",
   "execution_count": 22,
   "id": "ae2d710e-a469-4243-af56-7b700e39f8c4",
   "metadata": {
    "collapsed": true,
    "jupyter": {
     "outputs_hidden": true,
     "source_hidden": true
    },
    "tags": []
   },
   "outputs": [
    {
     "name": "stdout",
     "output_type": "stream",
     "text": [
      "total_params: 2161841\n"
     ]
    }
   ],
   "source": [
    "#model = HessNet2(start_scale=[0.8], device=DEVICE, channel_coef=4)\n",
    "#model = HessNet(start_scale=[0.8], device=DEVICE) #HessNet_isotropic_3, HessNet_isotropic_4\n",
    "#model = U_HessNet(channels=16) #Unet_8ch, Unet_16ch\n",
    "#model = ParallelNet(in_ch=1, inter_ch=5) #Unet_8ch, Unet_16ch\n",
    "\n",
    "\n",
    "#model = HessNet(start_scale=[0.8, 0.8, 1.2], device=DEVICE) #HessNet_anisotropic_3, HessNet_anisotropic_4\n",
    "#model = U_Net(channels=16) #Unet_8ch, Unet_16ch\n",
    "model = U_Net2d(channels=16) #Unet_8ch, Unet_16ch\n",
    "\n",
    "print(\"total_params:\", get_total_params(model))"
   ]
  },
  {
   "cell_type": "code",
   "execution_count": 23,
   "id": "180fc3eb-36a7-46d0-8585-5f6b51dc61fa",
   "metadata": {
    "jupyter": {
     "source_hidden": true
    },
    "tags": []
   },
   "outputs": [],
   "source": [
    "controller_config = {\n",
    "    \"loss\" : ExponentialLogarithmicLoss(gamma_tversky=0.5, gamma_bce=0.5, lamb=0.5,\n",
    "                                        freq = 0.1, tversky_alfa=0.5),\n",
    "    \"metric\" : DICE_Metric(),\n",
    "    'device' : DEVICE,\n",
    "    \"model\" : model,\n",
    "    \"optimizer_fn\" : lambda model: torch.optim.Adam(model.parameters(), lr=0.02),\n",
    "    \"sheduler_fn\": lambda optimizer: StepLR(optimizer, step_size=1, gamma=0.9),\n",
    "    \"is2d\" : IS2D,\n",
    "    'verbose':True\n",
    "}\n",
    "controller = Controller(controller_config)"
   ]
  },
  {
   "cell_type": "code",
   "execution_count": 7,
   "id": "d2c62da7-c0b0-434f-b2a9-536b06c985bd",
   "metadata": {
    "collapsed": true,
    "jupyter": {
     "outputs_hidden": true,
     "source_hidden": true
    },
    "tags": []
   },
   "outputs": [
    {
     "name": "stdout",
     "output_type": "stream",
     "text": [
      "Epoch 1/25\n"
     ]
    },
    {
     "name": "stderr",
     "output_type": "stream",
     "text": [
      "100%|███████████████████████████████████████████| 48/48 [00:23<00:00,  2.04it/s]\n"
     ]
    },
    {
     "name": "stdout",
     "output_type": "stream",
     "text": [
      "{'mean_loss': 0.7787109712759653}\n"
     ]
    },
    {
     "name": "stderr",
     "output_type": "stream",
     "text": [
      "100%|█████████████████████████████████████████████| 3/3 [00:04<00:00,  1.42s/it]\n"
     ]
    },
    {
     "name": "stdout",
     "output_type": "stream",
     "text": [
      "{'metrics': [{'sample': 'IXI111_0', 'metric1': tensor([0.7759])}, {'sample': 'IXI131_0', 'metric1': tensor([0.7910])}, {'sample': 'IXI137_0', 'metric1': tensor([0.7603])}]}\n",
      "Epoch 2/25\n"
     ]
    },
    {
     "name": "stderr",
     "output_type": "stream",
     "text": [
      "100%|███████████████████████████████████████████| 48/48 [00:25<00:00,  1.90it/s]\n"
     ]
    },
    {
     "name": "stdout",
     "output_type": "stream",
     "text": [
      "{'mean_loss': 0.2408290064583222}\n"
     ]
    },
    {
     "name": "stderr",
     "output_type": "stream",
     "text": [
      "100%|█████████████████████████████████████████████| 3/3 [00:04<00:00,  1.48s/it]\n"
     ]
    },
    {
     "name": "stdout",
     "output_type": "stream",
     "text": [
      "{'metrics': [{'sample': 'IXI111_0', 'metric1': tensor([0.8659])}, {'sample': 'IXI131_0', 'metric1': tensor([0.8486])}, {'sample': 'IXI137_0', 'metric1': tensor([0.8456])}]}\n",
      "Epoch 3/25\n"
     ]
    },
    {
     "name": "stderr",
     "output_type": "stream",
     "text": [
      "100%|███████████████████████████████████████████| 48/48 [00:26<00:00,  1.85it/s]\n"
     ]
    },
    {
     "name": "stdout",
     "output_type": "stream",
     "text": [
      "{'mean_loss': 0.22912022875001034}\n"
     ]
    },
    {
     "name": "stderr",
     "output_type": "stream",
     "text": [
      "100%|█████████████████████████████████████████████| 3/3 [00:04<00:00,  1.47s/it]\n"
     ]
    },
    {
     "name": "stdout",
     "output_type": "stream",
     "text": [
      "{'metrics': [{'sample': 'IXI111_0', 'metric1': tensor([0.8721])}, {'sample': 'IXI131_0', 'metric1': tensor([0.8519])}, {'sample': 'IXI137_0', 'metric1': tensor([0.8485])}]}\n",
      "Epoch 4/25\n"
     ]
    },
    {
     "name": "stderr",
     "output_type": "stream",
     "text": [
      "100%|███████████████████████████████████████████| 48/48 [00:25<00:00,  1.89it/s]\n"
     ]
    },
    {
     "name": "stdout",
     "output_type": "stream",
     "text": [
      "{'mean_loss': 0.2275803073619803}\n"
     ]
    },
    {
     "name": "stderr",
     "output_type": "stream",
     "text": [
      "100%|█████████████████████████████████████████████| 3/3 [00:04<00:00,  1.52s/it]\n"
     ]
    },
    {
     "name": "stdout",
     "output_type": "stream",
     "text": [
      "{'metrics': [{'sample': 'IXI111_0', 'metric1': tensor([0.8816])}, {'sample': 'IXI131_0', 'metric1': tensor([0.8557])}, {'sample': 'IXI137_0', 'metric1': tensor([0.8507])}]}\n",
      "Epoch 5/25\n"
     ]
    },
    {
     "name": "stderr",
     "output_type": "stream",
     "text": [
      "100%|███████████████████████████████████████████| 48/48 [00:25<00:00,  1.91it/s]\n"
     ]
    },
    {
     "name": "stdout",
     "output_type": "stream",
     "text": [
      "{'mean_loss': 0.22468908845136562}\n"
     ]
    },
    {
     "name": "stderr",
     "output_type": "stream",
     "text": [
      "100%|█████████████████████████████████████████████| 3/3 [00:04<00:00,  1.47s/it]\n"
     ]
    },
    {
     "name": "stdout",
     "output_type": "stream",
     "text": [
      "{'metrics': [{'sample': 'IXI111_0', 'metric1': tensor([0.8850])}, {'sample': 'IXI131_0', 'metric1': tensor([0.8585])}, {'sample': 'IXI137_0', 'metric1': tensor([0.8509])}]}\n",
      "Epoch 6/25\n"
     ]
    },
    {
     "name": "stderr",
     "output_type": "stream",
     "text": [
      "100%|███████████████████████████████████████████| 48/48 [00:25<00:00,  1.90it/s]\n"
     ]
    },
    {
     "name": "stdout",
     "output_type": "stream",
     "text": [
      "{'mean_loss': 0.22209235777457556}\n"
     ]
    },
    {
     "name": "stderr",
     "output_type": "stream",
     "text": [
      "100%|█████████████████████████████████████████████| 3/3 [00:04<00:00,  1.48s/it]\n"
     ]
    },
    {
     "name": "stdout",
     "output_type": "stream",
     "text": [
      "{'metrics': [{'sample': 'IXI111_0', 'metric1': tensor([0.8899])}, {'sample': 'IXI131_0', 'metric1': tensor([0.8630])}, {'sample': 'IXI137_0', 'metric1': tensor([0.8511])}]}\n",
      "Epoch 7/25\n"
     ]
    },
    {
     "name": "stderr",
     "output_type": "stream",
     "text": [
      "100%|███████████████████████████████████████████| 48/48 [00:25<00:00,  1.89it/s]\n"
     ]
    },
    {
     "name": "stdout",
     "output_type": "stream",
     "text": [
      "{'mean_loss': 0.22164262427637973}\n"
     ]
    },
    {
     "name": "stderr",
     "output_type": "stream",
     "text": [
      "100%|█████████████████████████████████████████████| 3/3 [00:04<00:00,  1.49s/it]\n"
     ]
    },
    {
     "name": "stdout",
     "output_type": "stream",
     "text": [
      "{'metrics': [{'sample': 'IXI111_0', 'metric1': tensor([0.8879])}, {'sample': 'IXI131_0', 'metric1': tensor([0.8612])}, {'sample': 'IXI137_0', 'metric1': tensor([0.8506])}]}\n",
      "Epoch 8/25\n"
     ]
    },
    {
     "name": "stderr",
     "output_type": "stream",
     "text": [
      "100%|███████████████████████████████████████████| 48/48 [00:24<00:00,  1.93it/s]\n"
     ]
    },
    {
     "name": "stdout",
     "output_type": "stream",
     "text": [
      "{'mean_loss': 0.21811112202703953}\n"
     ]
    },
    {
     "name": "stderr",
     "output_type": "stream",
     "text": [
      "100%|█████████████████████████████████████████████| 3/3 [00:04<00:00,  1.48s/it]\n"
     ]
    },
    {
     "name": "stdout",
     "output_type": "stream",
     "text": [
      "{'metrics': [{'sample': 'IXI111_0', 'metric1': tensor([0.8892])}, {'sample': 'IXI131_0', 'metric1': tensor([0.8593])}, {'sample': 'IXI137_0', 'metric1': tensor([0.8498])}]}\n",
      "Epoch 9/25\n"
     ]
    },
    {
     "name": "stderr",
     "output_type": "stream",
     "text": [
      "100%|███████████████████████████████████████████| 48/48 [00:25<00:00,  1.90it/s]\n"
     ]
    },
    {
     "name": "stdout",
     "output_type": "stream",
     "text": [
      "{'mean_loss': 0.21747004985809326}\n"
     ]
    },
    {
     "name": "stderr",
     "output_type": "stream",
     "text": [
      "100%|█████████████████████████████████████████████| 3/3 [00:04<00:00,  1.51s/it]\n"
     ]
    },
    {
     "name": "stdout",
     "output_type": "stream",
     "text": [
      "{'metrics': [{'sample': 'IXI111_0', 'metric1': tensor([0.8900])}, {'sample': 'IXI131_0', 'metric1': tensor([0.8586])}, {'sample': 'IXI137_0', 'metric1': tensor([0.8500])}]}\n",
      "Epoch 10/25\n"
     ]
    },
    {
     "name": "stderr",
     "output_type": "stream",
     "text": [
      "100%|███████████████████████████████████████████| 48/48 [00:25<00:00,  1.90it/s]\n"
     ]
    },
    {
     "name": "stdout",
     "output_type": "stream",
     "text": [
      "{'mean_loss': 0.21624622711290917}\n"
     ]
    },
    {
     "name": "stderr",
     "output_type": "stream",
     "text": [
      "100%|█████████████████████████████████████████████| 3/3 [00:04<00:00,  1.48s/it]\n"
     ]
    },
    {
     "name": "stdout",
     "output_type": "stream",
     "text": [
      "{'metrics': [{'sample': 'IXI111_0', 'metric1': tensor([0.8910])}, {'sample': 'IXI131_0', 'metric1': tensor([0.8580])}, {'sample': 'IXI137_0', 'metric1': tensor([0.8503])}]}\n",
      "Epoch 11/25\n"
     ]
    },
    {
     "name": "stderr",
     "output_type": "stream",
     "text": [
      "100%|███████████████████████████████████████████| 48/48 [00:25<00:00,  1.86it/s]\n"
     ]
    },
    {
     "name": "stdout",
     "output_type": "stream",
     "text": [
      "{'mean_loss': 0.2171153969441851}\n"
     ]
    },
    {
     "name": "stderr",
     "output_type": "stream",
     "text": [
      "100%|█████████████████████████████████████████████| 3/3 [00:04<00:00,  1.51s/it]\n"
     ]
    },
    {
     "name": "stdout",
     "output_type": "stream",
     "text": [
      "{'metrics': [{'sample': 'IXI111_0', 'metric1': tensor([0.8893])}, {'sample': 'IXI131_0', 'metric1': tensor([0.8568])}, {'sample': 'IXI137_0', 'metric1': tensor([0.8502])}]}\n",
      "Epoch 12/25\n"
     ]
    },
    {
     "name": "stderr",
     "output_type": "stream",
     "text": [
      "100%|███████████████████████████████████████████| 48/48 [00:25<00:00,  1.87it/s]\n"
     ]
    },
    {
     "name": "stdout",
     "output_type": "stream",
     "text": [
      "{'mean_loss': 0.21570382360368967}\n"
     ]
    },
    {
     "name": "stderr",
     "output_type": "stream",
     "text": [
      "100%|█████████████████████████████████████████████| 3/3 [00:04<00:00,  1.49s/it]\n"
     ]
    },
    {
     "name": "stdout",
     "output_type": "stream",
     "text": [
      "{'metrics': [{'sample': 'IXI111_0', 'metric1': tensor([0.8907])}, {'sample': 'IXI131_0', 'metric1': tensor([0.8582])}, {'sample': 'IXI137_0', 'metric1': tensor([0.8508])}]}\n",
      "Epoch 13/25\n"
     ]
    },
    {
     "name": "stderr",
     "output_type": "stream",
     "text": [
      "100%|███████████████████████████████████████████| 48/48 [00:25<00:00,  1.88it/s]\n"
     ]
    },
    {
     "name": "stdout",
     "output_type": "stream",
     "text": [
      "{'mean_loss': 0.21569105765471855}\n"
     ]
    },
    {
     "name": "stderr",
     "output_type": "stream",
     "text": [
      "100%|█████████████████████████████████████████████| 3/3 [00:04<00:00,  1.50s/it]\n"
     ]
    },
    {
     "name": "stdout",
     "output_type": "stream",
     "text": [
      "{'metrics': [{'sample': 'IXI111_0', 'metric1': tensor([0.8920])}, {'sample': 'IXI131_0', 'metric1': tensor([0.8581])}, {'sample': 'IXI137_0', 'metric1': tensor([0.8507])}]}\n",
      "Epoch 14/25\n"
     ]
    },
    {
     "name": "stderr",
     "output_type": "stream",
     "text": [
      "100%|███████████████████████████████████████████| 48/48 [00:26<00:00,  1.83it/s]\n"
     ]
    },
    {
     "name": "stdout",
     "output_type": "stream",
     "text": [
      "{'mean_loss': 0.21336474207540354}\n"
     ]
    },
    {
     "name": "stderr",
     "output_type": "stream",
     "text": [
      "100%|█████████████████████████████████████████████| 3/3 [00:04<00:00,  1.50s/it]\n"
     ]
    },
    {
     "name": "stdout",
     "output_type": "stream",
     "text": [
      "{'metrics': [{'sample': 'IXI111_0', 'metric1': tensor([0.8929])}, {'sample': 'IXI131_0', 'metric1': tensor([0.8582])}, {'sample': 'IXI137_0', 'metric1': tensor([0.8506])}]}\n",
      "Epoch 15/25\n"
     ]
    },
    {
     "name": "stderr",
     "output_type": "stream",
     "text": [
      "100%|███████████████████████████████████████████| 48/48 [00:26<00:00,  1.84it/s]\n"
     ]
    },
    {
     "name": "stdout",
     "output_type": "stream",
     "text": [
      "{'mean_loss': 0.21209395055969557}\n"
     ]
    },
    {
     "name": "stderr",
     "output_type": "stream",
     "text": [
      "100%|█████████████████████████████████████████████| 3/3 [00:04<00:00,  1.56s/it]\n"
     ]
    },
    {
     "name": "stdout",
     "output_type": "stream",
     "text": [
      "{'metrics': [{'sample': 'IXI111_0', 'metric1': tensor([0.8932])}, {'sample': 'IXI131_0', 'metric1': tensor([0.8574])}, {'sample': 'IXI137_0', 'metric1': tensor([0.8507])}]}\n",
      "Epoch 16/25\n"
     ]
    },
    {
     "name": "stderr",
     "output_type": "stream",
     "text": [
      "100%|███████████████████████████████████████████| 48/48 [00:26<00:00,  1.82it/s]\n"
     ]
    },
    {
     "name": "stdout",
     "output_type": "stream",
     "text": [
      "{'mean_loss': 0.21156283685316643}\n"
     ]
    },
    {
     "name": "stderr",
     "output_type": "stream",
     "text": [
      "100%|█████████████████████████████████████████████| 3/3 [00:04<00:00,  1.56s/it]\n"
     ]
    },
    {
     "name": "stdout",
     "output_type": "stream",
     "text": [
      "{'metrics': [{'sample': 'IXI111_0', 'metric1': tensor([0.8944])}, {'sample': 'IXI131_0', 'metric1': tensor([0.8582])}, {'sample': 'IXI137_0', 'metric1': tensor([0.8506])}]}\n",
      "Epoch 17/25\n"
     ]
    },
    {
     "name": "stderr",
     "output_type": "stream",
     "text": [
      "100%|███████████████████████████████████████████| 48/48 [00:26<00:00,  1.83it/s]\n"
     ]
    },
    {
     "name": "stdout",
     "output_type": "stream",
     "text": [
      "{'mean_loss': 0.21162699162960052}\n"
     ]
    },
    {
     "name": "stderr",
     "output_type": "stream",
     "text": [
      "100%|█████████████████████████████████████████████| 3/3 [00:04<00:00,  1.59s/it]\n"
     ]
    },
    {
     "name": "stdout",
     "output_type": "stream",
     "text": [
      "{'metrics': [{'sample': 'IXI111_0', 'metric1': tensor([0.8945])}, {'sample': 'IXI131_0', 'metric1': tensor([0.8573])}, {'sample': 'IXI137_0', 'metric1': tensor([0.8508])}]}\n",
      "Epoch 18/25\n"
     ]
    },
    {
     "name": "stderr",
     "output_type": "stream",
     "text": [
      "100%|███████████████████████████████████████████| 48/48 [00:26<00:00,  1.81it/s]\n"
     ]
    },
    {
     "name": "stdout",
     "output_type": "stream",
     "text": [
      "{'mean_loss': 0.21082745771855116}\n"
     ]
    },
    {
     "name": "stderr",
     "output_type": "stream",
     "text": [
      "100%|█████████████████████████████████████████████| 3/3 [00:04<00:00,  1.54s/it]\n"
     ]
    },
    {
     "name": "stdout",
     "output_type": "stream",
     "text": [
      "{'metrics': [{'sample': 'IXI111_0', 'metric1': tensor([0.8946])}, {'sample': 'IXI131_0', 'metric1': tensor([0.8570])}, {'sample': 'IXI137_0', 'metric1': tensor([0.8506])}]}\n",
      "Epoch 19/25\n"
     ]
    },
    {
     "name": "stderr",
     "output_type": "stream",
     "text": [
      "100%|███████████████████████████████████████████| 48/48 [00:25<00:00,  1.86it/s]\n"
     ]
    },
    {
     "name": "stdout",
     "output_type": "stream",
     "text": [
      "{'mean_loss': 0.2101504923775792}\n"
     ]
    },
    {
     "name": "stderr",
     "output_type": "stream",
     "text": [
      "100%|█████████████████████████████████████████████| 3/3 [00:04<00:00,  1.51s/it]\n"
     ]
    },
    {
     "name": "stdout",
     "output_type": "stream",
     "text": [
      "{'metrics': [{'sample': 'IXI111_0', 'metric1': tensor([0.8957])}, {'sample': 'IXI131_0', 'metric1': tensor([0.8579])}, {'sample': 'IXI137_0', 'metric1': tensor([0.8506])}]}\n",
      "Epoch 20/25\n"
     ]
    },
    {
     "name": "stderr",
     "output_type": "stream",
     "text": [
      "100%|███████████████████████████████████████████| 48/48 [00:25<00:00,  1.91it/s]\n"
     ]
    },
    {
     "name": "stdout",
     "output_type": "stream",
     "text": [
      "{'mean_loss': 0.20978030376136303}\n"
     ]
    },
    {
     "name": "stderr",
     "output_type": "stream",
     "text": [
      "100%|█████████████████████████████████████████████| 3/3 [00:04<00:00,  1.47s/it]\n"
     ]
    },
    {
     "name": "stdout",
     "output_type": "stream",
     "text": [
      "{'metrics': [{'sample': 'IXI111_0', 'metric1': tensor([0.8958])}, {'sample': 'IXI131_0', 'metric1': tensor([0.8575])}, {'sample': 'IXI137_0', 'metric1': tensor([0.8504])}]}\n",
      "Epoch 21/25\n"
     ]
    },
    {
     "name": "stderr",
     "output_type": "stream",
     "text": [
      "100%|███████████████████████████████████████████| 48/48 [00:25<00:00,  1.89it/s]\n"
     ]
    },
    {
     "name": "stdout",
     "output_type": "stream",
     "text": [
      "{'mean_loss': 0.2108930175503095}\n"
     ]
    },
    {
     "name": "stderr",
     "output_type": "stream",
     "text": [
      "100%|█████████████████████████████████████████████| 3/3 [00:04<00:00,  1.52s/it]\n"
     ]
    },
    {
     "name": "stdout",
     "output_type": "stream",
     "text": [
      "{'metrics': [{'sample': 'IXI111_0', 'metric1': tensor([0.8964])}, {'sample': 'IXI131_0', 'metric1': tensor([0.8575])}, {'sample': 'IXI137_0', 'metric1': tensor([0.8503])}]}\n",
      "Epoch 22/25\n"
     ]
    },
    {
     "name": "stderr",
     "output_type": "stream",
     "text": [
      "100%|███████████████████████████████████████████| 48/48 [00:25<00:00,  1.90it/s]\n"
     ]
    },
    {
     "name": "stdout",
     "output_type": "stream",
     "text": [
      "{'mean_loss': 0.20993711644162735}\n"
     ]
    },
    {
     "name": "stderr",
     "output_type": "stream",
     "text": [
      "100%|█████████████████████████████████████████████| 3/3 [00:04<00:00,  1.51s/it]\n"
     ]
    },
    {
     "name": "stdout",
     "output_type": "stream",
     "text": [
      "{'metrics': [{'sample': 'IXI111_0', 'metric1': tensor([0.8970])}, {'sample': 'IXI131_0', 'metric1': tensor([0.8572])}, {'sample': 'IXI137_0', 'metric1': tensor([0.8499])}]}\n",
      "Epoch 23/25\n"
     ]
    },
    {
     "name": "stderr",
     "output_type": "stream",
     "text": [
      "100%|███████████████████████████████████████████| 48/48 [00:25<00:00,  1.86it/s]\n"
     ]
    },
    {
     "name": "stdout",
     "output_type": "stream",
     "text": [
      "{'mean_loss': 0.20860299561172724}\n"
     ]
    },
    {
     "name": "stderr",
     "output_type": "stream",
     "text": [
      "100%|█████████████████████████████████████████████| 3/3 [00:04<00:00,  1.50s/it]\n"
     ]
    },
    {
     "name": "stdout",
     "output_type": "stream",
     "text": [
      "{'metrics': [{'sample': 'IXI111_0', 'metric1': tensor([0.8973])}, {'sample': 'IXI131_0', 'metric1': tensor([0.8576])}, {'sample': 'IXI137_0', 'metric1': tensor([0.8498])}]}\n",
      "Epoch 24/25\n"
     ]
    },
    {
     "name": "stderr",
     "output_type": "stream",
     "text": [
      "100%|███████████████████████████████████████████| 48/48 [00:25<00:00,  1.89it/s]\n"
     ]
    },
    {
     "name": "stdout",
     "output_type": "stream",
     "text": [
      "{'mean_loss': 0.20750207174569368}\n"
     ]
    },
    {
     "name": "stderr",
     "output_type": "stream",
     "text": [
      "100%|█████████████████████████████████████████████| 3/3 [00:04<00:00,  1.49s/it]\n"
     ]
    },
    {
     "name": "stdout",
     "output_type": "stream",
     "text": [
      "{'metrics': [{'sample': 'IXI111_0', 'metric1': tensor([0.8979])}, {'sample': 'IXI131_0', 'metric1': tensor([0.8570])}, {'sample': 'IXI137_0', 'metric1': tensor([0.8496])}]}\n",
      "Epoch 25/25\n"
     ]
    },
    {
     "name": "stderr",
     "output_type": "stream",
     "text": [
      "100%|███████████████████████████████████████████| 48/48 [00:25<00:00,  1.89it/s]\n"
     ]
    },
    {
     "name": "stdout",
     "output_type": "stream",
     "text": [
      "{'mean_loss': 0.20863836631178856}\n"
     ]
    },
    {
     "name": "stderr",
     "output_type": "stream",
     "text": [
      "100%|█████████████████████████████████████████████| 3/3 [00:04<00:00,  1.48s/it]"
     ]
    },
    {
     "name": "stdout",
     "output_type": "stream",
     "text": [
      "{'metrics': [{'sample': 'IXI111_0', 'metric1': tensor([0.8977])}, {'sample': 'IXI131_0', 'metric1': tensor([0.8563])}, {'sample': 'IXI137_0', 'metric1': tensor([0.8494])}]}\n"
     ]
    },
    {
     "name": "stderr",
     "output_type": "stream",
     "text": [
      "\n"
     ]
    },
    {
     "data": {
      "text/plain": [
       "U_Net2d(\n",
       "  (Maxpool1): MaxPool2d(kernel_size=2, stride=2, padding=0, dilation=1, ceil_mode=False)\n",
       "  (Maxpool2): MaxPool2d(kernel_size=2, stride=2, padding=0, dilation=1, ceil_mode=False)\n",
       "  (Maxpool3): MaxPool2d(kernel_size=2, stride=2, padding=0, dilation=1, ceil_mode=False)\n",
       "  (Maxpool4): MaxPool2d(kernel_size=2, stride=2, padding=0, dilation=1, ceil_mode=False)\n",
       "  (Conv1): conv_block(\n",
       "    (conv): Sequential(\n",
       "      (0): Conv2d(1, 16, kernel_size=(3, 3), stride=(1, 1), padding=(1, 1))\n",
       "      (1): BatchNorm2d(16, eps=1e-05, momentum=0.1, affine=True, track_running_stats=True)\n",
       "      (2): ReLU(inplace=True)\n",
       "      (3): Conv2d(16, 16, kernel_size=(3, 3), stride=(1, 1), padding=(1, 1))\n",
       "      (4): BatchNorm2d(16, eps=1e-05, momentum=0.1, affine=True, track_running_stats=True)\n",
       "      (5): ReLU(inplace=True)\n",
       "    )\n",
       "  )\n",
       "  (Conv2): conv_block(\n",
       "    (conv): Sequential(\n",
       "      (0): Conv2d(16, 32, kernel_size=(3, 3), stride=(1, 1), padding=(1, 1))\n",
       "      (1): BatchNorm2d(32, eps=1e-05, momentum=0.1, affine=True, track_running_stats=True)\n",
       "      (2): ReLU(inplace=True)\n",
       "      (3): Conv2d(32, 32, kernel_size=(3, 3), stride=(1, 1), padding=(1, 1))\n",
       "      (4): BatchNorm2d(32, eps=1e-05, momentum=0.1, affine=True, track_running_stats=True)\n",
       "      (5): ReLU(inplace=True)\n",
       "    )\n",
       "  )\n",
       "  (Conv3): conv_block(\n",
       "    (conv): Sequential(\n",
       "      (0): Conv2d(32, 64, kernel_size=(3, 3), stride=(1, 1), padding=(1, 1))\n",
       "      (1): BatchNorm2d(64, eps=1e-05, momentum=0.1, affine=True, track_running_stats=True)\n",
       "      (2): ReLU(inplace=True)\n",
       "      (3): Conv2d(64, 64, kernel_size=(3, 3), stride=(1, 1), padding=(1, 1))\n",
       "      (4): BatchNorm2d(64, eps=1e-05, momentum=0.1, affine=True, track_running_stats=True)\n",
       "      (5): ReLU(inplace=True)\n",
       "    )\n",
       "  )\n",
       "  (Conv4): conv_block(\n",
       "    (conv): Sequential(\n",
       "      (0): Conv2d(64, 128, kernel_size=(3, 3), stride=(1, 1), padding=(1, 1))\n",
       "      (1): BatchNorm2d(128, eps=1e-05, momentum=0.1, affine=True, track_running_stats=True)\n",
       "      (2): ReLU(inplace=True)\n",
       "      (3): Conv2d(128, 128, kernel_size=(3, 3), stride=(1, 1), padding=(1, 1))\n",
       "      (4): BatchNorm2d(128, eps=1e-05, momentum=0.1, affine=True, track_running_stats=True)\n",
       "      (5): ReLU(inplace=True)\n",
       "    )\n",
       "  )\n",
       "  (Conv5): conv_block(\n",
       "    (conv): Sequential(\n",
       "      (0): Conv2d(128, 256, kernel_size=(3, 3), stride=(1, 1), padding=(1, 1))\n",
       "      (1): BatchNorm2d(256, eps=1e-05, momentum=0.1, affine=True, track_running_stats=True)\n",
       "      (2): ReLU(inplace=True)\n",
       "      (3): Conv2d(256, 256, kernel_size=(3, 3), stride=(1, 1), padding=(1, 1))\n",
       "      (4): BatchNorm2d(256, eps=1e-05, momentum=0.1, affine=True, track_running_stats=True)\n",
       "      (5): ReLU(inplace=True)\n",
       "    )\n",
       "  )\n",
       "  (Up5): up_conv(\n",
       "    (up): Sequential(\n",
       "      (0): Upsample(scale_factor=2.0, mode='nearest')\n",
       "      (1): Conv2d(256, 128, kernel_size=(3, 3), stride=(1, 1), padding=(1, 1))\n",
       "      (2): BatchNorm2d(128, eps=1e-05, momentum=0.1, affine=True, track_running_stats=True)\n",
       "      (3): ReLU(inplace=True)\n",
       "    )\n",
       "  )\n",
       "  (Up_conv5): conv_block(\n",
       "    (conv): Sequential(\n",
       "      (0): Conv2d(256, 128, kernel_size=(3, 3), stride=(1, 1), padding=(1, 1))\n",
       "      (1): BatchNorm2d(128, eps=1e-05, momentum=0.1, affine=True, track_running_stats=True)\n",
       "      (2): ReLU(inplace=True)\n",
       "      (3): Conv2d(128, 128, kernel_size=(3, 3), stride=(1, 1), padding=(1, 1))\n",
       "      (4): BatchNorm2d(128, eps=1e-05, momentum=0.1, affine=True, track_running_stats=True)\n",
       "      (5): ReLU(inplace=True)\n",
       "    )\n",
       "  )\n",
       "  (Up4): up_conv(\n",
       "    (up): Sequential(\n",
       "      (0): Upsample(scale_factor=2.0, mode='nearest')\n",
       "      (1): Conv2d(128, 64, kernel_size=(3, 3), stride=(1, 1), padding=(1, 1))\n",
       "      (2): BatchNorm2d(64, eps=1e-05, momentum=0.1, affine=True, track_running_stats=True)\n",
       "      (3): ReLU(inplace=True)\n",
       "    )\n",
       "  )\n",
       "  (Up_conv4): conv_block(\n",
       "    (conv): Sequential(\n",
       "      (0): Conv2d(128, 64, kernel_size=(3, 3), stride=(1, 1), padding=(1, 1))\n",
       "      (1): BatchNorm2d(64, eps=1e-05, momentum=0.1, affine=True, track_running_stats=True)\n",
       "      (2): ReLU(inplace=True)\n",
       "      (3): Conv2d(64, 64, kernel_size=(3, 3), stride=(1, 1), padding=(1, 1))\n",
       "      (4): BatchNorm2d(64, eps=1e-05, momentum=0.1, affine=True, track_running_stats=True)\n",
       "      (5): ReLU(inplace=True)\n",
       "    )\n",
       "  )\n",
       "  (Up3): up_conv(\n",
       "    (up): Sequential(\n",
       "      (0): Upsample(scale_factor=2.0, mode='nearest')\n",
       "      (1): Conv2d(64, 32, kernel_size=(3, 3), stride=(1, 1), padding=(1, 1))\n",
       "      (2): BatchNorm2d(32, eps=1e-05, momentum=0.1, affine=True, track_running_stats=True)\n",
       "      (3): ReLU(inplace=True)\n",
       "    )\n",
       "  )\n",
       "  (Up_conv3): conv_block(\n",
       "    (conv): Sequential(\n",
       "      (0): Conv2d(64, 32, kernel_size=(3, 3), stride=(1, 1), padding=(1, 1))\n",
       "      (1): BatchNorm2d(32, eps=1e-05, momentum=0.1, affine=True, track_running_stats=True)\n",
       "      (2): ReLU(inplace=True)\n",
       "      (3): Conv2d(32, 32, kernel_size=(3, 3), stride=(1, 1), padding=(1, 1))\n",
       "      (4): BatchNorm2d(32, eps=1e-05, momentum=0.1, affine=True, track_running_stats=True)\n",
       "      (5): ReLU(inplace=True)\n",
       "    )\n",
       "  )\n",
       "  (Up2): up_conv(\n",
       "    (up): Sequential(\n",
       "      (0): Upsample(scale_factor=2.0, mode='nearest')\n",
       "      (1): Conv2d(32, 16, kernel_size=(3, 3), stride=(1, 1), padding=(1, 1))\n",
       "      (2): BatchNorm2d(16, eps=1e-05, momentum=0.1, affine=True, track_running_stats=True)\n",
       "      (3): ReLU(inplace=True)\n",
       "    )\n",
       "  )\n",
       "  (Up_conv2): conv_block(\n",
       "    (conv): Sequential(\n",
       "      (0): Conv2d(32, 16, kernel_size=(3, 3), stride=(1, 1), padding=(1, 1))\n",
       "      (1): BatchNorm2d(16, eps=1e-05, momentum=0.1, affine=True, track_running_stats=True)\n",
       "      (2): ReLU(inplace=True)\n",
       "      (3): Conv2d(16, 16, kernel_size=(3, 3), stride=(1, 1), padding=(1, 1))\n",
       "      (4): BatchNorm2d(16, eps=1e-05, momentum=0.1, affine=True, track_running_stats=True)\n",
       "      (5): ReLU(inplace=True)\n",
       "    )\n",
       "  )\n",
       "  (Conv): Conv2d(16, 1, kernel_size=(1, 1), stride=(1, 1))\n",
       "  (act): Sigmoid()\n",
       ")"
      ]
     },
     "execution_count": 7,
     "metadata": {},
     "output_type": "execute_result"
    }
   ],
   "source": [
    "controller.fit(dataset, 25)"
   ]
  },
  {
   "cell_type": "code",
   "execution_count": 8,
   "id": "63255d52-f74c-43b5-a085-695b3aade9b5",
   "metadata": {
    "jupyter": {
     "source_hidden": true
    },
    "tags": []
   },
   "outputs": [],
   "source": [
    "#model_name = \"Unet3d_16ch\"\n",
    "#model_name = \"Unet2d_16ch\"\n",
    "#model_name = \"HessNet_isotropic_smartnorm\"\n",
    "\n",
    "\n",
    "#model_name = \"HessNet2\"\n",
    "#model_name = \"HessNet_anisotropic_smartnorm\"\n",
    "#model_name = \"U_HessNet\"\n",
    "#model_name = \"ParallelNet_5_lanczos\""
   ]
  },
  {
   "cell_type": "code",
   "execution_count": 10,
   "id": "096bdf5b-cd1a-429e-bbb0-0213ec68b40e",
   "metadata": {
    "jupyter": {
     "source_hidden": true
    },
    "tags": []
   },
   "outputs": [],
   "source": [
    "#controller.save(f\"/home/msst/save_folder/saved_models/{model_name}\")"
   ]
  },
  {
   "cell_type": "code",
   "execution_count": 10,
   "id": "f014d15a-ad04-45e4-bbb3-1785cd18f6ae",
   "metadata": {
    "jupyter": {
     "source_hidden": true
    },
    "tags": []
   },
   "outputs": [],
   "source": [
    "path_to_check = f\"/home/msst/save_folder/saved_models/{model_name}\"\n",
    "controller.load(path_to_checkpoint=path_to_check)"
   ]
  },
  {
   "cell_type": "code",
   "execution_count": 26,
   "id": "e91bb5d9-63de-4f3d-92c5-58b03fae522a",
   "metadata": {
    "collapsed": true,
    "jupyter": {
     "outputs_hidden": true,
     "source_hidden": true
    },
    "tags": []
   },
   "outputs": [
    {
     "name": "stdout",
     "output_type": "stream",
     "text": [
      "tensor([0.5349])\n",
      "tensor([0.7922])\n",
      "tensor([0.7529])\n",
      "tensor([0.7998])\n",
      "tensor([0.8129])\n",
      "tensor([0.8130])\n",
      "tensor([0.8174])\n",
      "tensor([0.8199])\n",
      "tensor([0.8227])\n",
      "tensor([0.8252])\n",
      "tensor([0.8261])\n",
      "tensor([0.8275])\n",
      "tensor([0.8279])\n",
      "tensor([0.8292])\n",
      "tensor([0.8289])\n",
      "tensor([0.8291])\n",
      "tensor([0.8293])\n",
      "tensor([0.8300])\n",
      "tensor([0.8304])\n",
      "tensor([0.8305])\n",
      "tensor([0.8306])\n",
      "tensor([0.8309])\n",
      "tensor([0.8312])\n",
      "tensor([0.8315])\n",
      "tensor([0.8318])\n",
      "tensor([0.8320])\n",
      "tensor([0.8321])\n",
      "tensor([0.8322])\n",
      "tensor([0.8323])\n",
      "tensor([0.8324])\n",
      "tensor([0.8324])\n",
      "tensor([0.8324])\n",
      "tensor([0.8326])\n",
      "tensor([0.8326])\n",
      "tensor([0.8328])\n",
      "tensor([0.8328])\n"
     ]
    }
   ],
   "source": [
    "N_ep = len(controller.history['train_loss'])\n",
    "\n",
    "epochs = np.linspace(1, N_ep, N_ep)\n",
    "loss_train = controller.history['train_loss']\n",
    "loss_val = controller.history['val_loss']\n",
    "all_metrics = controller.history['test_quality']\n",
    "\n",
    "avg_metrics = []\n",
    "for epoch_metrics in all_metrics:\n",
    "    metric = []\n",
    "    for dict_ in epoch_metrics['metrics']:\n",
    "        metric.append(dict_['metric1'])\n",
    "    print(sum(metric)/len(metric))\n",
    "    \n",
    "    \n",
    "\n",
    "\n",
    "\n",
    "# fontsize = 12\n",
    "# fig, ax = plt.subplots(1, 1, figsize=(8, 6)) \n",
    "\n",
    "\n",
    "# twin1 = ax.twinx()\n",
    "# p1, = ax.plot(epochs, loss_train, label=\"train loss\")\n",
    "# #p2, = ax.plot(epochs, loss_val, label=\"validation loss\")\n",
    "# p3, = twin1.plot(epochs[0:], metric, \"g-\", label=\"DICE metric\")\n",
    "\n",
    "# ax.set_xlabel(\"epoch\", fontsize=fontsize+3)\n",
    "# ax.set_ylabel(\"Loss\", fontsize=fontsize+3)\n",
    "# twin1.set_ylabel(\"DICE\", fontsize=fontsize+3)\n",
    "\n",
    "# twin1.tick_params(axis='y', colors=p3.get_color())\n",
    "\n",
    "\n",
    "# #ax.set_xticklabels(np.linspace(0, 50, 11).astype(int), fontsize=fontsize)\n",
    "# ax.set_xticks(np.linspace(0, N_ep, 6).astype(int))\n",
    "\n",
    "# #ax.set_yticklabels(np.linspace(0, 12, 7).astype(int), fontsize=fontsize)\n",
    "# #ax.set_yticks(np.linspace(0, 12, 7))\n",
    "\n",
    "# #twin1.set_yticklabels(np.round(np.linspace(0, 1, 6),1), fontsize=fontsize)\n",
    "# twin1.set_yticks(np.linspace(0, 1, 11))\n",
    "\n",
    "# ax.set_xlim(0, N_ep)\n",
    "# ax.set_ylim(0, 1)\n",
    "# twin1.set_ylim(0, 1)\n",
    "\n",
    "# ax.legend(handles=[p1, p3], fontsize=fontsize)\n",
    "\n",
    "# plt.savefig(f'/home/msst/{model_name}_learning.jpg', dpi=250)"
   ]
  },
  {
   "cell_type": "code",
   "execution_count": 24,
   "id": "ea3d9510-3ee9-495c-82cf-f4ad4795c5f3",
   "metadata": {
    "collapsed": true,
    "jupyter": {
     "outputs_hidden": true,
     "source_hidden": true
    },
    "tags": []
   },
   "outputs": [
    {
     "name": "stdout",
     "output_type": "stream",
     "text": [
      "15.855446815490723\n"
     ]
    }
   ],
   "source": [
    "sample_index = \"111\"\n",
    "\n",
    "#path_to_GT = get_path(f\"/home/msst/IXI_MRA_work/IXI{sample_index}\", key=\"vessels\")\n",
    "#GT = tio.ScalarImage(path_to_GT).data\n",
    "#path_to_brain_mask = get_path(f\"/home/msst/IXI_MRA_work/IXI{sample_index}\", key=\"brain\")\n",
    "#brain_mask = tio.ScalarImage(path_to_brain_mask).data\n",
    "\n",
    "path_to_vol = get_path(f\"/home/msst/IXI_MRA_work/IXI{sample_index}\", key=\"head\")\n",
    "subject_dict = {'head': tio.ScalarImage(path_to_vol)}\n",
    "subject = tio.Subject(subject_dict)\n",
    "subject = tio.transforms.ZNormalization()(subject)\n",
    "\n",
    "t = time.time()\n",
    "seg = controller.single_predict(subject, test_settings)\n",
    "print(time.time() - t)\n",
    "\n",
    "dt_string = datetime.now().strftime(\"%d_%m_%Y_%H:%M\")\n",
    "dir_name = os.path.dirname(path_to_vol)\n",
    "\n",
    "#path_to_save = f\"/home/msst/IXI_MRA_work/IXI{sample_index}/{model_name}_{dt_string}.nii.gz\"\n",
    "#seg_to_save = seg[0].numpy()\n",
    "#save_vol_as_nii(seg_to_save.astype(np.float32), subject.head.affine, path_to_save)"
   ]
  },
  {
   "cell_type": "code",
   "execution_count": null,
   "id": "05ae727c-588b-47fa-80c2-ce6ef6a7a8db",
   "metadata": {},
   "outputs": [],
   "source": []
  },
  {
   "cell_type": "code",
   "execution_count": null,
   "id": "4fc2cedf-1147-406f-abc1-5a6555767787",
   "metadata": {},
   "outputs": [],
   "source": []
  },
  {
   "cell_type": "markdown",
   "id": "e427a200-0d7a-4f0b-88ab-013dba43a1e1",
   "metadata": {},
   "source": [
    "**<h3>GLOBAL TEST**"
   ]
  },
  {
   "cell_type": "code",
   "execution_count": 14,
   "id": "f46aa9e6-4883-4883-bf9b-5afaf61eafc8",
   "metadata": {
    "tags": []
   },
   "outputs": [],
   "source": [
    "def get_model(model_name):\n",
    "        if model_name == 'Unet3d_16ch':\n",
    "            return(U_Net(channels=16))\n",
    "        elif model_name == 'Unet2d_16ch':\n",
    "            return(U_Net2d(channels=16))\n",
    "        elif model_name == 'HessNet':\n",
    "            return(HessNet(start_scale=[0.8], device=self.device))\n",
    "\n",
    "def run_tests(model_name, path_to_save_models, is2d, test_data_path, epochs):\n",
    "    if is2d:\n",
    "        PATCH_SIZE_TRAIN = (512, 512, 1)\n",
    "        PATCH_SIZE_TEST = (512, 512, 1)\n",
    "        OVERLAP_TEST = (0, 0, 0)\n",
    "    else:\n",
    "        PATCH_SIZE_TRAIN = (64, 64, 64)\n",
    "        PATCH_SIZE_TEST = (256, 256, 64)\n",
    "        OVERLAP_TEST = (32, 32, 24)\n",
    "    \n",
    "    train_settings  = {\n",
    "        \"patch_shape\" : PATCH_SIZE_TRAIN,\n",
    "        \"patches_per_volume\" : 64,\n",
    "        \"patches_queue_length\" : 1440,\n",
    "        \"batch_size\" : 16,\n",
    "        \"num_workers\": 4,\n",
    "        \"sampler\": \"uniform\",\n",
    "    }\n",
    "    \n",
    "    test_settings = {\n",
    "        \"patch_shape\" : PATCH_SIZE_TEST,\n",
    "        \"overlap_shape\" : OVERLAP_TEST,\n",
    "        \"batch_size\" : 1,\n",
    "        \"num_workers\": 4,\n",
    "    }\n",
    "    \n",
    "    for test in tqdm(os.listdir(test_data_path)):\n",
    "        dataset = TioDataset(test_data_path + '/' + test,\n",
    "                  train_settings=train_settings,\n",
    "                  test_settings=test_settings)\n",
    "        \n",
    "        model = get_model(model_name)\n",
    "        \n",
    "        controller_config = {\n",
    "            \"loss\" : ExponentialLogarithmicLoss(gamma_tversky=0.5, gamma_bce=0.5, lamb=0.5,\n",
    "                                                freq = 0.1, tversky_alfa=0.5),\n",
    "            \"metric\" : DICE_Metric(),\n",
    "            'device' : 'cuda',\n",
    "            \"model\" : model,\n",
    "            \"optimizer_fn\" : lambda model: torch.optim.Adam(model.parameters(), lr=0.02),\n",
    "            \"sheduler_fn\": lambda optimizer: StepLR(optimizer, step_size=1, gamma=0.9),\n",
    "            \"is2d\" : is2d,\n",
    "            'verbose': False\n",
    "        }\n",
    "        controller = Controller(controller_config)\n",
    "        controller.fit(dataset, epochs)\n",
    "        controller.save(f\"{path_to_save_models}/{model_name}_{test}\")"
   ]
  },
  {
   "cell_type": "code",
   "execution_count": null,
   "id": "d24be0fa-3b3a-4ce2-a1f1-cff51f13d6fb",
   "metadata": {
    "tags": []
   },
   "outputs": [
    {
     "name": "stderr",
     "output_type": "stream",
     "text": [
      "  0%|                                                     | 0/2 [00:00<?, ?it/s]"
     ]
    },
    {
     "name": "stdout",
     "output_type": "stream",
     "text": [
      "Epoch 1/25\n",
      "{'mean_loss': 0.8607709805170695}\n",
      "{'metrics': [{'sample': 'IXI111_0', 'metric1': tensor([0.2768])}, {'sample': 'IXI100_0', 'metric1': tensor([0.3347])}, {'sample': 'IXI020_0', 'metric1': tensor([0.4077])}]}\n",
      "Epoch 2/25\n",
      "{'mean_loss': 0.3039071761692564}\n",
      "{'metrics': [{'sample': 'IXI111_0', 'metric1': tensor([0.4761])}, {'sample': 'IXI100_0', 'metric1': tensor([0.5120])}, {'sample': 'IXI020_0', 'metric1': tensor([0.5473])}]}\n",
      "Epoch 3/25\n",
      "{'mean_loss': 0.2759030821422736}\n",
      "{'metrics': [{'sample': 'IXI111_0', 'metric1': tensor([0.8193])}, {'sample': 'IXI100_0', 'metric1': tensor([0.7956])}, {'sample': 'IXI020_0', 'metric1': tensor([0.8287])}]}\n",
      "Epoch 4/25\n",
      "{'mean_loss': 0.2686226135119796}\n",
      "{'metrics': [{'sample': 'IXI111_0', 'metric1': tensor([0.8520])}, {'sample': 'IXI100_0', 'metric1': tensor([0.8189])}, {'sample': 'IXI020_0', 'metric1': tensor([0.8590])}]}\n",
      "Epoch 5/25\n",
      "{'mean_loss': 0.26873117809494335}\n",
      "{'metrics': [{'sample': 'IXI111_0', 'metric1': tensor([0.8786])}, {'sample': 'IXI100_0', 'metric1': tensor([0.8320])}, {'sample': 'IXI020_0', 'metric1': tensor([0.8827])}]}\n",
      "Epoch 6/25\n",
      "{'mean_loss': 0.26147628637651604}\n",
      "{'metrics': [{'sample': 'IXI111_0', 'metric1': tensor([0.8939])}, {'sample': 'IXI100_0', 'metric1': tensor([0.8362])}, {'sample': 'IXI020_0', 'metric1': tensor([0.8970])}]}\n",
      "Epoch 7/25\n",
      "{'mean_loss': 0.2517678178846836}\n",
      "{'metrics': [{'sample': 'IXI111_0', 'metric1': tensor([0.9026])}, {'sample': 'IXI100_0', 'metric1': tensor([0.8415])}, {'sample': 'IXI020_0', 'metric1': tensor([0.9046])}]}\n",
      "Epoch 8/25\n",
      "{'mean_loss': 0.24988746518890062}\n",
      "{'metrics': [{'sample': 'IXI111_0', 'metric1': tensor([0.9112])}, {'sample': 'IXI100_0', 'metric1': tensor([0.8457])}, {'sample': 'IXI020_0', 'metric1': tensor([0.9111])}]}\n",
      "Epoch 9/25\n",
      "{'mean_loss': 0.24629602301865816}\n",
      "{'metrics': [{'sample': 'IXI111_0', 'metric1': tensor([0.9163])}, {'sample': 'IXI100_0', 'metric1': tensor([0.8477])}, {'sample': 'IXI020_0', 'metric1': tensor([0.9160])}]}\n",
      "Epoch 10/25\n",
      "{'mean_loss': 0.23036511770139137}\n",
      "{'metrics': [{'sample': 'IXI111_0', 'metric1': tensor([0.9205])}, {'sample': 'IXI100_0', 'metric1': tensor([0.8488])}, {'sample': 'IXI020_0', 'metric1': tensor([0.9210])}]}\n",
      "Epoch 11/25\n",
      "{'mean_loss': 0.23506240701923767}\n",
      "{'metrics': [{'sample': 'IXI111_0', 'metric1': tensor([0.9237])}, {'sample': 'IXI100_0', 'metric1': tensor([0.8479])}, {'sample': 'IXI020_0', 'metric1': tensor([0.9236])}]}\n",
      "Epoch 12/25\n",
      "{'mean_loss': 0.2318634077285727}\n",
      "{'metrics': [{'sample': 'IXI111_0', 'metric1': tensor([0.9258])}, {'sample': 'IXI100_0', 'metric1': tensor([0.8485])}, {'sample': 'IXI020_0', 'metric1': tensor([0.9250])}]}\n",
      "Epoch 13/25\n",
      "{'mean_loss': 0.2273588708291451}\n",
      "{'metrics': [{'sample': 'IXI111_0', 'metric1': tensor([0.9277])}, {'sample': 'IXI100_0', 'metric1': tensor([0.8496])}, {'sample': 'IXI020_0', 'metric1': tensor([0.9270])}]}\n",
      "Epoch 14/25\n",
      "{'mean_loss': 0.23867938481271267}\n",
      "{'metrics': [{'sample': 'IXI111_0', 'metric1': tensor([0.9283])}, {'sample': 'IXI100_0', 'metric1': tensor([0.8499])}, {'sample': 'IXI020_0', 'metric1': tensor([0.9278])}]}\n",
      "Epoch 15/25\n",
      "{'mean_loss': 0.23367785414059958}\n",
      "{'metrics': [{'sample': 'IXI111_0', 'metric1': tensor([0.9296])}, {'sample': 'IXI100_0', 'metric1': tensor([0.8500])}, {'sample': 'IXI020_0', 'metric1': tensor([0.9292])}]}\n",
      "Epoch 16/25\n",
      "{'mean_loss': 0.23237817672391733}\n",
      "{'metrics': [{'sample': 'IXI111_0', 'metric1': tensor([0.9302])}, {'sample': 'IXI100_0', 'metric1': tensor([0.8511])}, {'sample': 'IXI020_0', 'metric1': tensor([0.9300])}]}\n",
      "Epoch 17/25\n",
      "{'mean_loss': 0.229541783221066}\n",
      "{'metrics': [{'sample': 'IXI111_0', 'metric1': tensor([0.9311])}, {'sample': 'IXI100_0', 'metric1': tensor([0.8522])}, {'sample': 'IXI020_0', 'metric1': tensor([0.9311])}]}\n",
      "Epoch 18/25\n",
      "{'mean_loss': 0.23043405606100956}\n",
      "{'metrics': [{'sample': 'IXI111_0', 'metric1': tensor([0.9319])}, {'sample': 'IXI100_0', 'metric1': tensor([0.8528])}, {'sample': 'IXI020_0', 'metric1': tensor([0.9322])}]}\n",
      "Epoch 19/25\n"
     ]
    }
   ],
   "source": [
    "run_tests(model_name=\"Unet3d_16ch\", \n",
    "          path_to_save_models=\"/home/msst/save_folder/models_for_tests\",\n",
    "          test_data_path = '/home/msst/Documents/medtech/data/HessData_IXI_test',\n",
    "          is2d=False,\n",
    "          epochs=25)"
   ]
  },
  {
   "cell_type": "code",
   "execution_count": null,
   "id": "25da444c-ff03-48f7-9ced-277fd51367dc",
   "metadata": {},
   "outputs": [],
   "source": []
  }
 ],
 "metadata": {
  "kernelspec": {
   "display_name": "Python 3",
   "language": "python",
   "name": "python3"
  },
  "language_info": {
   "codemirror_mode": {
    "name": "ipython",
    "version": 3
   },
   "file_extension": ".py",
   "mimetype": "text/x-python",
   "name": "python",
   "nbconvert_exporter": "python",
   "pygments_lexer": "ipython3",
   "version": "3.8.10"
  }
 },
 "nbformat": 4,
 "nbformat_minor": 5
}
