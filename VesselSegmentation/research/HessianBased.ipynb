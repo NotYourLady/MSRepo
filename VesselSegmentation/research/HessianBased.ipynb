{
 "cells": [
  {
   "cell_type": "code",
   "execution_count": 1,
   "id": "6ae572fa-ba2a-46c6-b12b-cb2f053cb0de",
   "metadata": {
    "tags": []
   },
   "outputs": [],
   "source": [
    "%load_ext autoreload\n",
    "%autoreload 2\n",
    "\n",
    "from torch.optim import Adam\n",
    "from torch.optim.lr_scheduler import StepLR\n",
    "import matplotlib.pyplot as plt\n",
    "\n",
    "import time\n",
    "from datetime import datetime\n",
    "from tqdm import tqdm"
   ]
  },
  {
   "cell_type": "code",
   "execution_count": 2,
   "id": "327f7528-8a18-49ca-839f-f8153af42360",
   "metadata": {
    "tags": []
   },
   "outputs": [],
   "source": [
    "import sys\n",
    "import os\n",
    "sys.path.append(os.path.dirname('../.'))\n",
    "sys.path.append(os.path.dirname('../ml/.'))\n",
    "from scripts.load_and_save import (get_dcm_info, get_dcm_vol, vox_size2affine,\n",
    "                                   load_nii_vol, save_vol_as_nii, raw2nifti)\n",
    "\n",
    "#from ml.get_model import get_model\n",
    "from ml.utils import get_total_params, load_pretrainned, test_model\n",
    "from ml.ControllerClass import Controller\n",
    "from ml.tio_dataset import TioDataset\n",
    "from ml.metrics import (DICE_Metric, JAC_Metric, SN_Metric, SP_Metric,\n",
    "                        IOU_Metric, ExponentialLogarithmicLoss, WeightedExpBCE)\n",
    "\n",
    "from ml.models.HessNet import HessNet\n",
    "from ml.models.unet3d import U_Net\n",
    "from ml.models.unet2d import U_Net2d\n",
    "from ml.models.JoB_VS import Network\n",
    "from ml.transformers_models.UNETR import UNETR\n",
    "from ml.models.VesselConvs import JustConv, TwoConv"
   ]
  },
  {
   "cell_type": "code",
   "execution_count": 3,
   "id": "615fd51a-fc8a-4c2f-b783-ed3ea024f52d",
   "metadata": {
    "tags": []
   },
   "outputs": [],
   "source": [
    "DEVICE = 'cuda'\n",
    "IS2D = 0"
   ]
  },
  {
   "cell_type": "code",
   "execution_count": 4,
   "id": "b3ef4c01-18d6-4b0f-b46d-76f6bbea1f17",
   "metadata": {
    "tags": []
   },
   "outputs": [],
   "source": [
    "if IS2D:\n",
    "    PATCH_SIZE_TRAIN = (512, 512, 1)\n",
    "    PATCH_SIZE_TEST = (512, 512, 1)\n",
    "    OVERLAP_TEST = (0, 0, 0)\n",
    "else:\n",
    "    PATCH_SIZE_TRAIN = (64, 64, 64)\n",
    "    PATCH_SIZE_TEST = (64, 64, 64)\n",
    "    OVERLAP_TEST = (4, 4, 4)\n",
    "\n",
    "train_settings  = {\n",
    "    \"patch_shape\" : PATCH_SIZE_TRAIN,\n",
    "    \"patches_per_volume\" : 4,#32,\n",
    "    \"patches_queue_length\" : 1440,\n",
    "    \"batch_size\" : 8,\n",
    "    \"num_workers\": 4,\n",
    "    \"sampler\": \"uniform\",\n",
    "}\n",
    "\n",
    "test_settings = {\n",
    "    \"patch_shape\" : PATCH_SIZE_TEST,\n",
    "    \"overlap_shape\" : OVERLAP_TEST,\n",
    "    \"batch_size\" : 1,\n",
    "    \"num_workers\": 4,\n",
    "}\n",
    "\n",
    "data_dir = \"/home/msst/Documents/medtech/data/HessData_IXI\"\n",
    "dataset = TioDataset(data_dir,\n",
    "                 train_settings=train_settings,\n",
    "                 val_settings=None,#val_settings,\n",
    "                 test_settings=test_settings,)"
   ]
  },
  {
   "cell_type": "code",
   "execution_count": 5,
   "id": "ae2d710e-a469-4243-af56-7b700e39f8c4",
   "metadata": {
    "tags": []
   },
   "outputs": [
    {
     "name": "stdout",
     "output_type": "stream",
     "text": [
      "total_params: 1268\n"
     ]
    }
   ],
   "source": [
    "#model = HessNet(start_scale=[0.8, 0.8, 1.2], device=DEVICE)\n",
    "#model = U_Net(channels=16) #Unet_8ch, Unet_16ch\n",
    "#model = U_Net2d(channels=16) #Unet_8ch, Unet_16ch\n",
    "\n",
    "# model = UNETR(in_channels=1, out_channels=1, img_size=PATCH_SIZE_TRAIN,\n",
    "#               feature_size=16, hidden_size=128,\n",
    "#               mlp_dim=512, num_heads=4,\n",
    "#               norm_name='batch')\n",
    "\n",
    "#model = Network(modalities=1, num_classes=1)\n",
    "\n",
    "#model = JustConv(1, 1)\n",
    "model = TwoConv(1, 1, 5)\n",
    "\n",
    "print(\"total_params:\", get_total_params(model))"
   ]
  },
  {
   "cell_type": "code",
   "execution_count": 30,
   "id": "180fc3eb-36a7-46d0-8585-5f6b51dc61fa",
   "metadata": {
    "tags": []
   },
   "outputs": [],
   "source": [
    "controller_config = {\n",
    "    \"loss\" : ExponentialLogarithmicLoss(gamma_tversky=0.5, gamma_bce=0.5, lamb=0.5,\n",
    "                                        freq = 0.1, tversky_alfa=0.5),\n",
    "    \"metric\" : DICE_Metric(),\n",
    "    'device' : DEVICE,\n",
    "    \"model\" : model,\n",
    "    \"optimizer_fn\" : lambda model: Adam(model.parameters(), lr=0.01),\n",
    "    \"sheduler_fn\": None, #lambda optimizer: StepLR(optimizer, step_size=1, gamma=0.9),\n",
    "    \"is2d\" : IS2D,\n",
    "    'verbose':True,\n",
    "    'stoper': None\n",
    "}\n",
    "controller = Controller(controller_config)"
   ]
  },
  {
   "cell_type": "code",
   "execution_count": 31,
   "id": "d2c62da7-c0b0-434f-b2a9-536b06c985bd",
   "metadata": {
    "tags": []
   },
   "outputs": [
    {
     "name": "stdout",
     "output_type": "stream",
     "text": [
      "Epoch 1/45\n"
     ]
    },
    {
     "name": "stderr",
     "output_type": "stream",
     "text": [
      "100%|█████████████████████████████████████████████| 8/8 [00:05<00:00,  1.42it/s]\n"
     ]
    },
    {
     "name": "stdout",
     "output_type": "stream",
     "text": [
      "{'mean_loss': 1.4847934544086456}\n"
     ]
    },
    {
     "name": "stderr",
     "output_type": "stream",
     "text": [
      "100%|█████████████████████████████████████████████| 3/3 [00:03<00:00,  1.02s/it]\n"
     ]
    },
    {
     "name": "stdout",
     "output_type": "stream",
     "text": [
      "{'sample': 'IXI052_0', 'metric': tensor([0.0008])}\n",
      "{'sample': 'IXI080_0', 'metric': tensor([1.2574e-13])}\n",
      "{'sample': 'IXI020_0', 'metric': tensor([1.3731e-13])}\n",
      "Epoch 2/45\n"
     ]
    },
    {
     "name": "stderr",
     "output_type": "stream",
     "text": [
      "100%|█████████████████████████████████████████████| 8/8 [00:05<00:00,  1.50it/s]\n"
     ]
    },
    {
     "name": "stdout",
     "output_type": "stream",
     "text": [
      "{'mean_loss': 1.4914579391479492}\n"
     ]
    },
    {
     "name": "stderr",
     "output_type": "stream",
     "text": [
      "100%|█████████████████████████████████████████████| 3/3 [00:03<00:00,  1.02s/it]\n"
     ]
    },
    {
     "name": "stdout",
     "output_type": "stream",
     "text": [
      "{'sample': 'IXI052_0', 'metric': tensor([1.2575e-13])}\n",
      "{'sample': 'IXI080_0', 'metric': tensor([1.2574e-13])}\n",
      "{'sample': 'IXI020_0', 'metric': tensor([1.3731e-13])}\n",
      "Epoch 3/45\n"
     ]
    },
    {
     "name": "stderr",
     "output_type": "stream",
     "text": [
      "100%|█████████████████████████████████████████████| 8/8 [00:06<00:00,  1.31it/s]\n"
     ]
    },
    {
     "name": "stdout",
     "output_type": "stream",
     "text": [
      "{'mean_loss': 1.5405066460371017}\n"
     ]
    },
    {
     "name": "stderr",
     "output_type": "stream",
     "text": [
      "100%|█████████████████████████████████████████████| 3/3 [00:03<00:00,  1.06s/it]\n"
     ]
    },
    {
     "name": "stdout",
     "output_type": "stream",
     "text": [
      "{'sample': 'IXI052_0', 'metric': tensor([1.2575e-13])}\n",
      "{'sample': 'IXI080_0', 'metric': tensor([1.2574e-13])}\n",
      "{'sample': 'IXI020_0', 'metric': tensor([1.3731e-13])}\n",
      "Epoch 4/45\n"
     ]
    },
    {
     "name": "stderr",
     "output_type": "stream",
     "text": [
      "100%|█████████████████████████████████████████████| 8/8 [00:05<00:00,  1.40it/s]\n"
     ]
    },
    {
     "name": "stdout",
     "output_type": "stream",
     "text": [
      "{'mean_loss': 1.5223565250635147}\n"
     ]
    },
    {
     "name": "stderr",
     "output_type": "stream",
     "text": [
      "100%|█████████████████████████████████████████████| 3/3 [00:03<00:00,  1.02s/it]"
     ]
    },
    {
     "name": "stdout",
     "output_type": "stream",
     "text": [
      "{'sample': 'IXI052_0', 'metric': tensor([1.2575e-13])}\n",
      "{'sample': 'IXI080_0', 'metric': tensor([1.2574e-13])}\n",
      "{'sample': 'IXI020_0', 'metric': tensor([1.3731e-13])}\n",
      "Early stopping!\n"
     ]
    },
    {
     "name": "stderr",
     "output_type": "stream",
     "text": [
      "\n"
     ]
    },
    {
     "data": {
      "text/plain": [
       "TwoConv(\n",
       "  (conv1): ConvModule(\n",
       "    (act): ReLU()\n",
       "    (norm): BatchNorm3d(5, eps=1e-05, momentum=0.1, affine=True, track_running_stats=True)\n",
       "    (conv): Conv3d(1, 5, kernel_size=(5, 5, 5), stride=(1, 1, 1), padding=(2, 2, 2), padding_mode=reflect)\n",
       "  )\n",
       "  (conv2): ConvModule(\n",
       "    (act): Sigmoid()\n",
       "    (norm): BatchNorm3d(1, eps=1e-05, momentum=0.1, affine=True, track_running_stats=True)\n",
       "    (conv): Conv3d(5, 1, kernel_size=(5, 5, 5), stride=(1, 1, 1), padding=(2, 2, 2), padding_mode=reflect)\n",
       "  )\n",
       ")"
      ]
     },
     "execution_count": 31,
     "metadata": {},
     "output_type": "execute_result"
    }
   ],
   "source": [
    "controller.fit(dataset, 45)"
   ]
  },
  {
   "cell_type": "code",
   "execution_count": null,
   "id": "37d6d556-a9fe-48b9-8af6-1c64c4b57e2d",
   "metadata": {},
   "outputs": [],
   "source": []
  },
  {
   "cell_type": "code",
   "execution_count": 13,
   "id": "63255d52-f74c-43b5-a085-695b3aade9b5",
   "metadata": {
    "tags": []
   },
   "outputs": [],
   "source": [
    "#model_name = \"Unet3d_16ch_11.10_2\"\n",
    "#model_name = \"Unet2d_16ch\"\n",
    "#model_name = \"HessNet_isotropic_smartnorm\"\n",
    "#model_name = \"UNETR\"\n"
   ]
  },
  {
   "cell_type": "code",
   "execution_count": 14,
   "id": "096bdf5b-cd1a-429e-bbb0-0213ec68b40e",
   "metadata": {
    "tags": []
   },
   "outputs": [],
   "source": [
    "#controller.save(f\"/home/msst/save_folder/saved_models/{model_name}.pth\")\n",
    "#controller.save_weights(f\"/home/msst/save_folder/saved_models/{model_name}_weights.pth\")"
   ]
  },
  {
   "cell_type": "code",
   "execution_count": 16,
   "id": "f014d15a-ad04-45e4-bbb3-1785cd18f6ae",
   "metadata": {
    "tags": []
   },
   "outputs": [],
   "source": [
    "#path_to_check = f\"/home/msst/save_folder/saved_models/{model_name}.pth\"\n",
    "#controller.load(path_to_checkpoint=path_to_check)"
   ]
  },
  {
   "cell_type": "code",
   "execution_count": 8,
   "id": "ea3d9510-3ee9-495c-82cf-f4ad4795c5f3",
   "metadata": {
    "tags": []
   },
   "outputs": [
    {
     "name": "stdout",
     "output_type": "stream",
     "text": [
      "0.9255907535552979\n"
     ]
    }
   ],
   "source": [
    "from scripts.utils import get_path\n",
    "import torchio as tio\n",
    "\n",
    "model_name = \"TwoConv\"\n",
    "sample_index = \"092\"\n",
    "\n",
    "path_to_vol = get_path(f\"/home/msst/IXI_MRA_work/IXI{sample_index}\", key=\"head\")\n",
    "subject_dict = {'head': tio.ScalarImage(path_to_vol)}\n",
    "subject = tio.Subject(subject_dict)\n",
    "subject = tio.transforms.ZNormalization()(subject)\n",
    "\n",
    "t = time.time()\n",
    "seg = controller.single_predict(subject, test_settings)\n",
    "print(time.time() - t)\n",
    "\n",
    "#dt_string = datetime.now().strftime(\"%d_%m_%Y_%H:%M\")\n",
    "dir_name = os.path.dirname(path_to_vol)\n",
    "\n",
    "#path_to_save = f\"/home/msst/IXI_MRA_work/IXI{sample_index}/{model_name}_{dt_string}.nii.gz\"\n",
    "path_to_save = f\"/home/msst/IXI_MRA_work/IXI{sample_index}/{model_name}.nii.gz\"\n",
    "save_vol_as_nii(seg, subject.head.affine, path_to_save)"
   ]
  },
  {
   "cell_type": "code",
   "execution_count": 36,
   "id": "70a41a0c-eaf4-4990-a8b6-96932860c163",
   "metadata": {},
   "outputs": [],
   "source": [
    "path_to_GT = get_path(f\"/home/msst/IXI_MRA_work/IXI{sample_index}\", key=\"vessels\")\n",
    "GT = tio.ScalarImage(path_to_GT).data\n",
    "path_to_brain_mask = get_path(f\"/home/msst/IXI_MRA_work/IXI{sample_index}\", key=\"brain\")\n",
    "brain_mask = tio.ScalarImage(path_to_brain_mask).data\n",
    "\n",
    "path_to_save_masked = f\"/home/msst/IXI_MRA_work/IXI{sample_index}/{model_name}_mask.nii.gz\"\n",
    "path_to_save_GT_masked = f\"/home/msst/IXI_MRA_work/IXI{sample_index}/vessels_mask.nii.gz\"\n",
    "save_vol_as_nii(seg*brain_mask, subject.head.affine, path_to_save_masked)\n",
    "save_vol_as_nii(GT*brain_mask, subject.head.affine, path_to_save_GT_masked)"
   ]
  },
  {
   "cell_type": "code",
   "execution_count": 39,
   "id": "e3f8070d-7490-4e06-9cca-d41ee432bbb2",
   "metadata": {},
   "outputs": [
    {
     "data": {
      "text/plain": [
       "({'DICE': '0.823599', 'AVGDIST': '2.841585', 'SNSVTY': '0.861042'},\n",
       " {'DICE': '0.872858', 'AVGDIST': '0.263038', 'SNSVTY': '0.900524'})"
      ]
     },
     "execution_count": 39,
     "metadata": {},
     "output_type": "execute_result"
    }
   ],
   "source": [
    "import subprocess\n",
    "import re\n",
    "path_to_EvaluateSegmentation = '/home/msst/repo/MSRepo/VesselSegmentation/Inference/EvaluateSegmentation'\n",
    "\n",
    "GT_path = path_to_GT\n",
    "SEG_path = path_to_save\n",
    "GT_mask_path = path_to_save_masked\n",
    "SEG_mask_path = path_to_save_GT_masked\n",
    "\n",
    "command_output = subprocess.run([f\"{path_to_EvaluateSegmentation}\",\n",
    "                                    GT_path, SEG_path], stdout=subprocess.PIPE, text=True)\n",
    "command_output = command_output.stdout.split('\\n')\n",
    "metrics = [\"DICE\", \"AVGDIST\", \"SNSVTY\"]\n",
    "metric_dict = {}\n",
    "for metric in metrics:\n",
    "    for line in command_output:\n",
    "        if re.search(metric, line):\n",
    "            metric_dict.update({metric : line.split('\\t')[1][2:]})\n",
    "\n",
    "command_output = subprocess.run([f\"{path_to_EvaluateSegmentation}\",\n",
    "                                    GT_mask_path, SEG_mask_path], stdout=subprocess.PIPE, text=True)\n",
    "command_output = command_output.stdout.split('\\n')\n",
    "metrics = [\"DICE\", \"AVGDIST\", \"SNSVTY\"]\n",
    "metric_dict_mask = {}\n",
    "for metric in metrics:\n",
    "    for line in command_output:\n",
    "        if re.search(metric, line):\n",
    "            metric_dict_mask.update({metric : line.split('\\t')[1][2:]})\n",
    "\n",
    "metric_dict, metric_dict_mask"
   ]
  },
  {
   "cell_type": "markdown",
   "id": "e427a200-0d7a-4f0b-88ab-013dba43a1e1",
   "metadata": {},
   "source": [
    "**<h3>GLOBAL TEST**"
   ]
  },
  {
   "cell_type": "code",
   "execution_count": 3,
   "id": "f46aa9e6-4883-4883-bf9b-5afaf61eafc8",
   "metadata": {
    "tags": []
   },
   "outputs": [],
   "source": [
    "def run_tests(model_name, path_to_save_models, is2d, test_data_path, epochs):\n",
    "    if is2d:\n",
    "        PATCH_SIZE_TRAIN = (512, 512, 1)\n",
    "        PATCH_SIZE_TEST = (512, 512, 1)\n",
    "        OVERLAP_TEST = (0, 0, 0)\n",
    "    else:\n",
    "        PATCH_SIZE_TRAIN = (64, 64, 64)\n",
    "        PATCH_SIZE_TEST = (256, 256, 64)\n",
    "        OVERLAP_TEST = (32, 32, 24)\n",
    "    \n",
    "    train_settings  = {\n",
    "        \"patch_shape\" : PATCH_SIZE_TRAIN,\n",
    "        \"patches_per_volume\" : 64,\n",
    "        \"patches_queue_length\" : 1440,\n",
    "        \"batch_size\" : 16,\n",
    "        \"num_workers\": 4,\n",
    "        \"sampler\": \"uniform\",\n",
    "    }\n",
    "    \n",
    "    test_settings = {\n",
    "        \"patch_shape\" : PATCH_SIZE_TEST,\n",
    "        \"overlap_shape\" : OVERLAP_TEST,\n",
    "        \"batch_size\" : 1,\n",
    "        \"num_workers\": 4,\n",
    "    }\n",
    "    \n",
    "    for test in tqdm(os.listdir(test_data_path)):\n",
    "        dataset = TioDataset(test_data_path + '/' + test,\n",
    "                  train_settings=train_settings,\n",
    "                  test_settings=test_settings)\n",
    "        \n",
    "        model = get_model(model_name)\n",
    "        \n",
    "        controller_config = {\n",
    "            \"loss\" : ExponentialLogarithmicLoss(gamma_tversky=0.5, gamma_bce=0.5, lamb=0.5,\n",
    "                                                freq = 0.1, tversky_alfa=0.5),\n",
    "            \"metric\" : DICE_Metric(),\n",
    "            'device' : 'cuda',\n",
    "            \"model\" : model,\n",
    "            \"optimizer_fn\" : lambda model: torch.optim.Adam(model.parameters(), lr=0.02),\n",
    "            \"sheduler_fn\": lambda optimizer: StepLR(optimizer, step_size=1, gamma=0.9),\n",
    "            \"is2d\" : is2d,\n",
    "            'verbose': False\n",
    "        }\n",
    "        controller = Controller(controller_config)\n",
    "        controller.fit(dataset, epochs)\n",
    "        controller.save(f\"{path_to_save_models}/{model_name}_{test}\")"
   ]
  },
  {
   "cell_type": "code",
   "execution_count": 4,
   "id": "d24be0fa-3b3a-4ce2-a1f1-cff51f13d6fb",
   "metadata": {
    "collapsed": true,
    "jupyter": {
     "outputs_hidden": true
    },
    "tags": []
   },
   "outputs": [
    {
     "name": "stderr",
     "output_type": "stream",
     "text": [
      "  0%|                                                     | 0/2 [00:00<?, ?it/s]"
     ]
    },
    {
     "name": "stdout",
     "output_type": "stream",
     "text": [
      "Epoch 1/25\n",
      "{'mean_loss': 0.7622763651112715}\n",
      "{'metrics': [{'sample': 'IXI111_0', 'metric1': tensor([0.7776])}, {'sample': 'IXI100_0', 'metric1': tensor([0.7168])}, {'sample': 'IXI020_0', 'metric1': tensor([0.7513])}]}\n",
      "Epoch 2/25\n",
      "{'mean_loss': 0.2930100342879693}\n",
      "{'metrics': [{'sample': 'IXI111_0', 'metric1': tensor([0.8368])}, {'sample': 'IXI100_0', 'metric1': tensor([0.7817])}, {'sample': 'IXI020_0', 'metric1': tensor([0.8290])}]}\n",
      "Epoch 3/25\n",
      "{'mean_loss': 0.2731123532479008}\n",
      "{'metrics': [{'sample': 'IXI111_0', 'metric1': tensor([0.8429])}, {'sample': 'IXI100_0', 'metric1': tensor([0.7831])}, {'sample': 'IXI020_0', 'metric1': tensor([0.8305])}]}\n",
      "Epoch 4/25\n",
      "{'mean_loss': 0.26982324353108805}\n",
      "{'metrics': [{'sample': 'IXI111_0', 'metric1': tensor([0.8570])}, {'sample': 'IXI100_0', 'metric1': tensor([0.7953])}, {'sample': 'IXI020_0', 'metric1': tensor([0.8501])}]}\n",
      "Epoch 5/25\n",
      "{'mean_loss': 0.25067211718608934}\n",
      "{'metrics': [{'sample': 'IXI111_0', 'metric1': tensor([0.8659])}, {'sample': 'IXI100_0', 'metric1': tensor([0.8037])}, {'sample': 'IXI020_0', 'metric1': tensor([0.8612])}]}\n",
      "Epoch 6/25\n",
      "{'mean_loss': 0.23609550793965658}\n",
      "{'metrics': [{'sample': 'IXI111_0', 'metric1': tensor([0.8809])}, {'sample': 'IXI100_0', 'metric1': tensor([0.8154])}, {'sample': 'IXI020_0', 'metric1': tensor([0.8784])}]}\n",
      "Epoch 7/25\n",
      "{'mean_loss': 0.26493708540995914}\n",
      "{'metrics': [{'sample': 'IXI111_0', 'metric1': tensor([0.8886])}, {'sample': 'IXI100_0', 'metric1': tensor([0.8209])}, {'sample': 'IXI020_0', 'metric1': tensor([0.8849])}]}\n",
      "Epoch 8/25\n",
      "{'mean_loss': 0.23556007258594036}\n",
      "{'metrics': [{'sample': 'IXI111_0', 'metric1': tensor([0.8922])}, {'sample': 'IXI100_0', 'metric1': tensor([0.8219])}, {'sample': 'IXI020_0', 'metric1': tensor([0.8899])}]}\n",
      "Epoch 9/25\n",
      "{'mean_loss': 0.2349252880861362}\n",
      "{'metrics': [{'sample': 'IXI111_0', 'metric1': tensor([0.8950])}, {'sample': 'IXI100_0', 'metric1': tensor([0.8237])}, {'sample': 'IXI020_0', 'metric1': tensor([0.8947])}]}\n",
      "Epoch 10/25\n",
      "{'mean_loss': 0.23566831462085247}\n",
      "{'metrics': [{'sample': 'IXI111_0', 'metric1': tensor([0.9017])}, {'sample': 'IXI100_0', 'metric1': tensor([0.8277])}, {'sample': 'IXI020_0', 'metric1': tensor([0.9009])}]}\n",
      "Epoch 11/25\n",
      "{'mean_loss': 0.22698609872410694}\n",
      "{'metrics': [{'sample': 'IXI111_0', 'metric1': tensor([0.9067])}, {'sample': 'IXI100_0', 'metric1': tensor([0.8325])}, {'sample': 'IXI020_0', 'metric1': tensor([0.9067])}]}\n",
      "Epoch 12/25\n",
      "{'mean_loss': 0.23678839827577272}\n",
      "{'metrics': [{'sample': 'IXI111_0', 'metric1': tensor([0.9065])}, {'sample': 'IXI100_0', 'metric1': tensor([0.8329])}, {'sample': 'IXI020_0', 'metric1': tensor([0.9057])}]}\n",
      "Epoch 13/25\n",
      "{'mean_loss': 0.24870852256814638}\n",
      "{'metrics': [{'sample': 'IXI111_0', 'metric1': tensor([0.9065])}, {'sample': 'IXI100_0', 'metric1': tensor([0.8330])}, {'sample': 'IXI020_0', 'metric1': tensor([0.9062])}]}\n",
      "Epoch 14/25\n",
      "{'mean_loss': 0.23769294625769058}\n",
      "{'metrics': [{'sample': 'IXI111_0', 'metric1': tensor([0.9106])}, {'sample': 'IXI100_0', 'metric1': tensor([0.8353])}, {'sample': 'IXI020_0', 'metric1': tensor([0.9101])}]}\n",
      "Epoch 15/25\n",
      "{'mean_loss': 0.23506000700096288}\n",
      "{'metrics': [{'sample': 'IXI111_0', 'metric1': tensor([0.9150])}, {'sample': 'IXI100_0', 'metric1': tensor([0.8380])}, {'sample': 'IXI020_0', 'metric1': tensor([0.9144])}]}\n",
      "Epoch 16/25\n",
      "{'mean_loss': 0.23453363558898369}\n",
      "{'metrics': [{'sample': 'IXI111_0', 'metric1': tensor([0.9183])}, {'sample': 'IXI100_0', 'metric1': tensor([0.8394])}, {'sample': 'IXI020_0', 'metric1': tensor([0.9172])}]}\n",
      "Epoch 17/25\n",
      "{'mean_loss': 0.22622476456065974}\n",
      "{'metrics': [{'sample': 'IXI111_0', 'metric1': tensor([0.9215])}, {'sample': 'IXI100_0', 'metric1': tensor([0.8415])}, {'sample': 'IXI020_0', 'metric1': tensor([0.9207])}]}\n",
      "Epoch 18/25\n",
      "{'mean_loss': 0.23384545433024564}\n",
      "{'metrics': [{'sample': 'IXI111_0', 'metric1': tensor([0.9237])}, {'sample': 'IXI100_0', 'metric1': tensor([0.8437])}, {'sample': 'IXI020_0', 'metric1': tensor([0.9233])}]}\n",
      "Epoch 19/25\n",
      "{'mean_loss': 0.2254338242734472}\n",
      "{'metrics': [{'sample': 'IXI111_0', 'metric1': tensor([0.9263])}, {'sample': 'IXI100_0', 'metric1': tensor([0.8449])}, {'sample': 'IXI020_0', 'metric1': tensor([0.9255])}]}\n",
      "Epoch 20/25\n",
      "{'mean_loss': 0.2281344464669625}\n",
      "{'metrics': [{'sample': 'IXI111_0', 'metric1': tensor([0.9287])}, {'sample': 'IXI100_0', 'metric1': tensor([0.8462])}, {'sample': 'IXI020_0', 'metric1': tensor([0.9273])}]}\n",
      "Epoch 21/25\n",
      "{'mean_loss': 0.22715463240941366}\n",
      "{'metrics': [{'sample': 'IXI111_0', 'metric1': tensor([0.9301])}, {'sample': 'IXI100_0', 'metric1': tensor([0.8471])}, {'sample': 'IXI020_0', 'metric1': tensor([0.9292])}]}\n",
      "Epoch 22/25\n",
      "{'mean_loss': 0.23030814218024412}\n",
      "{'metrics': [{'sample': 'IXI111_0', 'metric1': tensor([0.9315])}, {'sample': 'IXI100_0', 'metric1': tensor([0.8475])}, {'sample': 'IXI020_0', 'metric1': tensor([0.9304])}]}\n",
      "Epoch 23/25\n",
      "{'mean_loss': 0.23139321493605772}\n",
      "{'metrics': [{'sample': 'IXI111_0', 'metric1': tensor([0.9328])}, {'sample': 'IXI100_0', 'metric1': tensor([0.8486])}, {'sample': 'IXI020_0', 'metric1': tensor([0.9320])}]}\n",
      "Epoch 24/25\n",
      "{'mean_loss': 0.22511688309411207}\n",
      "{'metrics': [{'sample': 'IXI111_0', 'metric1': tensor([0.9336])}, {'sample': 'IXI100_0', 'metric1': tensor([0.8490])}, {'sample': 'IXI020_0', 'metric1': tensor([0.9333])}]}\n",
      "Epoch 25/25\n",
      "{'mean_loss': 0.22424103474865356}\n"
     ]
    },
    {
     "name": "stderr",
     "output_type": "stream",
     "text": [
      " 50%|█████████████████████▌                     | 1/2 [18:16<18:16, 1096.89s/it]"
     ]
    },
    {
     "name": "stdout",
     "output_type": "stream",
     "text": [
      "{'metrics': [{'sample': 'IXI111_0', 'metric1': tensor([0.9343])}, {'sample': 'IXI100_0', 'metric1': tensor([0.8491])}, {'sample': 'IXI020_0', 'metric1': tensor([0.9339])}]}\n",
      "Epoch 1/25\n",
      "{'mean_loss': 0.6672985454400381}\n",
      "{'metrics': [{'sample': 'IXI077_0', 'metric1': tensor([0.3137])}, {'sample': 'IXI111_0', 'metric1': tensor([0.3520])}, {'sample': 'IXI115_0', 'metric1': tensor([0.4546])}]}\n",
      "Epoch 2/25\n",
      "{'mean_loss': 0.2853224550684293}\n",
      "{'metrics': [{'sample': 'IXI077_0', 'metric1': tensor([0.7835])}, {'sample': 'IXI111_0', 'metric1': tensor([0.8429])}, {'sample': 'IXI115_0', 'metric1': tensor([0.7320])}]}\n",
      "Epoch 3/25\n",
      "{'mean_loss': 0.26316667441278696}\n",
      "{'metrics': [{'sample': 'IXI077_0', 'metric1': tensor([0.7689])}, {'sample': 'IXI111_0', 'metric1': tensor([0.8603])}, {'sample': 'IXI115_0', 'metric1': tensor([0.7597])}]}\n",
      "Epoch 4/25\n",
      "{'mean_loss': 0.2678287575642268}\n",
      "{'metrics': [{'sample': 'IXI077_0', 'metric1': tensor([0.7987])}, {'sample': 'IXI111_0', 'metric1': tensor([0.8774])}, {'sample': 'IXI115_0', 'metric1': tensor([0.7659])}]}\n",
      "Epoch 5/25\n",
      "{'mean_loss': 0.2495368638386329}\n",
      "{'metrics': [{'sample': 'IXI077_0', 'metric1': tensor([0.8158])}, {'sample': 'IXI111_0', 'metric1': tensor([0.8830])}, {'sample': 'IXI115_0', 'metric1': tensor([0.7619])}]}\n",
      "Epoch 6/25\n",
      "{'mean_loss': 0.22904719598591328}\n",
      "{'metrics': [{'sample': 'IXI077_0', 'metric1': tensor([0.8278])}, {'sample': 'IXI111_0', 'metric1': tensor([0.8882])}, {'sample': 'IXI115_0', 'metric1': tensor([0.7605])}]}\n",
      "Epoch 7/25\n",
      "{'mean_loss': 0.2328390826781591}\n",
      "{'metrics': [{'sample': 'IXI077_0', 'metric1': tensor([0.8309])}, {'sample': 'IXI111_0', 'metric1': tensor([0.8947])}, {'sample': 'IXI115_0', 'metric1': tensor([0.7683])}]}\n",
      "Epoch 8/25\n",
      "{'mean_loss': 0.22846170763174692}\n",
      "{'metrics': [{'sample': 'IXI077_0', 'metric1': tensor([0.8291])}, {'sample': 'IXI111_0', 'metric1': tensor([0.8986])}, {'sample': 'IXI115_0', 'metric1': tensor([0.7754])}]}\n",
      "Epoch 9/25\n",
      "{'mean_loss': 0.23562666308134794}\n",
      "{'metrics': [{'sample': 'IXI077_0', 'metric1': tensor([0.8407])}, {'sample': 'IXI111_0', 'metric1': tensor([0.9038])}, {'sample': 'IXI115_0', 'metric1': tensor([0.7754])}]}\n",
      "Epoch 10/25\n",
      "{'mean_loss': 0.22655217659970125}\n",
      "{'metrics': [{'sample': 'IXI077_0', 'metric1': tensor([0.8497])}, {'sample': 'IXI111_0', 'metric1': tensor([0.9095])}, {'sample': 'IXI115_0', 'metric1': tensor([0.7795])}]}\n",
      "Epoch 11/25\n",
      "{'mean_loss': 0.22554707154631615}\n",
      "{'metrics': [{'sample': 'IXI077_0', 'metric1': tensor([0.8535])}, {'sample': 'IXI111_0', 'metric1': tensor([0.9140])}, {'sample': 'IXI115_0', 'metric1': tensor([0.7844])}]}\n",
      "Epoch 12/25\n",
      "{'mean_loss': 0.2233067952717344}\n",
      "{'metrics': [{'sample': 'IXI077_0', 'metric1': tensor([0.8588])}, {'sample': 'IXI111_0', 'metric1': tensor([0.9180])}, {'sample': 'IXI115_0', 'metric1': tensor([0.7887])}]}\n",
      "Epoch 13/25\n",
      "{'mean_loss': 0.21438814016679922}\n",
      "{'metrics': [{'sample': 'IXI077_0', 'metric1': tensor([0.8653])}, {'sample': 'IXI111_0', 'metric1': tensor([0.9211])}, {'sample': 'IXI115_0', 'metric1': tensor([0.7893])}]}\n",
      "Epoch 14/25\n",
      "{'mean_loss': 0.21565366567422947}\n",
      "{'metrics': [{'sample': 'IXI077_0', 'metric1': tensor([0.8677])}, {'sample': 'IXI111_0', 'metric1': tensor([0.9241])}, {'sample': 'IXI115_0', 'metric1': tensor([0.7922])}]}\n",
      "Epoch 15/25\n",
      "{'mean_loss': 0.21605047645668188}\n",
      "{'metrics': [{'sample': 'IXI077_0', 'metric1': tensor([0.8690])}, {'sample': 'IXI111_0', 'metric1': tensor([0.9263])}, {'sample': 'IXI115_0', 'metric1': tensor([0.7948])}]}\n",
      "Epoch 16/25\n",
      "{'mean_loss': 0.2123022172600031}\n",
      "{'metrics': [{'sample': 'IXI077_0', 'metric1': tensor([0.8685])}, {'sample': 'IXI111_0', 'metric1': tensor([0.9274])}, {'sample': 'IXI115_0', 'metric1': tensor([0.7977])}]}\n",
      "Epoch 17/25\n",
      "{'mean_loss': 0.21365948766469955}\n",
      "{'metrics': [{'sample': 'IXI077_0', 'metric1': tensor([0.8719])}, {'sample': 'IXI111_0', 'metric1': tensor([0.9288])}, {'sample': 'IXI115_0', 'metric1': tensor([0.7971])}]}\n",
      "Epoch 18/25\n",
      "{'mean_loss': 0.2135700477908055}\n",
      "{'metrics': [{'sample': 'IXI077_0', 'metric1': tensor([0.8742])}, {'sample': 'IXI111_0', 'metric1': tensor([0.9304])}, {'sample': 'IXI115_0', 'metric1': tensor([0.7979])}]}\n",
      "Epoch 19/25\n",
      "{'mean_loss': 0.21407096926122904}\n",
      "{'metrics': [{'sample': 'IXI077_0', 'metric1': tensor([0.8766])}, {'sample': 'IXI111_0', 'metric1': tensor([0.9320])}, {'sample': 'IXI115_0', 'metric1': tensor([0.7991])}]}\n",
      "Epoch 20/25\n",
      "{'mean_loss': 0.21847322986771664}\n",
      "{'metrics': [{'sample': 'IXI077_0', 'metric1': tensor([0.8779])}, {'sample': 'IXI111_0', 'metric1': tensor([0.9331])}, {'sample': 'IXI115_0', 'metric1': tensor([0.8005])}]}\n",
      "Epoch 21/25\n",
      "{'mean_loss': 0.20695664826780558}\n",
      "{'metrics': [{'sample': 'IXI077_0', 'metric1': tensor([0.8765])}, {'sample': 'IXI111_0', 'metric1': tensor([0.9336])}, {'sample': 'IXI115_0', 'metric1': tensor([0.8023])}]}\n",
      "Epoch 22/25\n",
      "{'mean_loss': 0.21196507569402456}\n",
      "{'metrics': [{'sample': 'IXI077_0', 'metric1': tensor([0.8779])}, {'sample': 'IXI111_0', 'metric1': tensor([0.9347])}, {'sample': 'IXI115_0', 'metric1': tensor([0.8022])}]}\n",
      "Epoch 23/25\n",
      "{'mean_loss': 0.21413692459464073}\n",
      "{'metrics': [{'sample': 'IXI077_0', 'metric1': tensor([0.8780])}, {'sample': 'IXI111_0', 'metric1': tensor([0.9355])}, {'sample': 'IXI115_0', 'metric1': tensor([0.8035])}]}\n",
      "Epoch 24/25\n",
      "{'mean_loss': 0.2141561477134625}\n",
      "{'metrics': [{'sample': 'IXI077_0', 'metric1': tensor([0.8787])}, {'sample': 'IXI111_0', 'metric1': tensor([0.9363])}, {'sample': 'IXI115_0', 'metric1': tensor([0.8044])}]}\n",
      "Epoch 25/25\n",
      "{'mean_loss': 0.21648899714152017}\n"
     ]
    },
    {
     "name": "stderr",
     "output_type": "stream",
     "text": [
      "100%|███████████████████████████████████████████| 2/2 [36:29<00:00, 1094.53s/it]"
     ]
    },
    {
     "name": "stdout",
     "output_type": "stream",
     "text": [
      "{'metrics': [{'sample': 'IXI077_0', 'metric1': tensor([0.8792])}, {'sample': 'IXI111_0', 'metric1': tensor([0.9370])}, {'sample': 'IXI115_0', 'metric1': tensor([0.8047])}]}\n"
     ]
    },
    {
     "name": "stderr",
     "output_type": "stream",
     "text": [
      "\n"
     ]
    }
   ],
   "source": [
    "#model_name = 'HessUNet2'\n",
    "model_name = 'Unet3d_16ch'\n",
    "\n",
    "run_tests(model_name=model_name, \n",
    "          path_to_save_models=\"/home/msst/save_folder/models_for_tests\",\n",
    "          test_data_path = '/home/msst/Documents/medtech/data/HessData_IXI_test',\n",
    "          is2d=False,\n",
    "          epochs=25)"
   ]
  },
  {
   "cell_type": "code",
   "execution_count": null,
   "id": "25da444c-ff03-48f7-9ced-277fd51367dc",
   "metadata": {},
   "outputs": [],
   "source": []
  }
 ],
 "metadata": {
  "kernelspec": {
   "display_name": "segenv",
   "language": "python",
   "name": "segenv"
  },
  "language_info": {
   "codemirror_mode": {
    "name": "ipython",
    "version": 3
   },
   "file_extension": ".py",
   "mimetype": "text/x-python",
   "name": "python",
   "nbconvert_exporter": "python",
   "pygments_lexer": "ipython3",
   "version": "3.10.13"
  }
 },
 "nbformat": 4,
 "nbformat_minor": 5
}
