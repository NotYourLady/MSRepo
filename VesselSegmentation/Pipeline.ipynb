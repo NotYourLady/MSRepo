{
 "cells": [
  {
   "cell_type": "code",
   "execution_count": 1,
   "id": "e6ed8312-0921-4c0b-9ff4-e1c2a4b40496",
   "metadata": {
    "tags": []
   },
   "outputs": [],
   "source": [
    "%load_ext autoreload\n",
    "%autoreload 2"
   ]
  },
  {
   "cell_type": "markdown",
   "id": "7438d855-541c-4e45-807b-09a9fed8423e",
   "metadata": {},
   "source": [
    "<h3> Загрузка библиотек"
   ]
  },
  {
   "cell_type": "code",
   "execution_count": 2,
   "id": "3744124f-e9fb-4d39-a740-dddbacbb3d7a",
   "metadata": {
    "tags": []
   },
   "outputs": [],
   "source": [
    "import os\n",
    "import numpy as np\n",
    "\n",
    "import torch\n",
    "import torch.nn as nn\n",
    "from torch.optim.lr_scheduler import StepLR"
   ]
  },
  {
   "cell_type": "code",
   "execution_count": 3,
   "id": "8408058f-3519-48ea-a644-9845d03a4dc7",
   "metadata": {
    "tags": []
   },
   "outputs": [],
   "source": [
    "from ml.models.unet3d import U_Net\n",
    "from ml.models.rog import ROG\n",
    "from ml.models.unet_deepsup import U_Net_DeepSup\n",
    "\n",
    "from ml.utils import get_total_params, load_pretrainned\n",
    "from ml.dataset import HeadDataset\n",
    "from ml.controller import Controller\n",
    "from ml.losses import (ExponentialLogarithmicLoss, WeightedExpBCE, TverskyLoss,\n",
    "                       IOU_Metric, MultyscaleLoss, SumLoss, LinearCombLoss)"
   ]
  },
  {
   "cell_type": "code",
   "execution_count": 4,
   "id": "ec981751-c479-4c10-9364-6a6adfb50930",
   "metadata": {
    "tags": []
   },
   "outputs": [
    {
     "name": "stdout",
     "output_type": "stream",
     "text": [
      "cuda\n"
     ]
    }
   ],
   "source": [
    "device = torch.device('cuda' if torch.cuda.is_available() else 'cpu')\n",
    "print(device)"
   ]
  },
  {
   "cell_type": "code",
   "execution_count": 5,
   "id": "d361767b-f249-455b-8e2f-8fc545c860d7",
   "metadata": {
    "tags": []
   },
   "outputs": [],
   "source": [
    "train_settings  = {\n",
    "    \"patch_shape\" : (64, 64, 64),\n",
    "    \"patches_per_volume\" : 256,\n",
    "    \"augmentation_coef\" : 1,\n",
    "    \"patches_queue_length\" : 1440,\n",
    "    \"batch_size\" : 8,\n",
    "    \"num_workers\": 4,\n",
    "    \"sampler\": \"uniform\",#\"weighted\"\n",
    "}\n",
    "test_settings  = {\n",
    "    \"patch_shape\" : (256, 256, 128),\n",
    "    \"overlap_shape\" : (32, 32, 24),\n",
    "    \"batch_size\" : 1,\n",
    "    \"num_workers\": 4,\n",
    "}\n",
    "\n",
    "data_dir = \"/home/msst/Documents/medtech/HeadData\"\n",
    "dataset = HeadDataset(data_dir, train_settings, test_settings)"
   ]
  },
  {
   "cell_type": "code",
   "execution_count": null,
   "id": "00764c50-459d-4a05-b8e7-c7683355f235",
   "metadata": {
    "jupyter": {
     "source_hidden": true
    },
    "tags": []
   },
   "outputs": [],
   "source": [
    "train_settings = None\n",
    "test_settings  = {\n",
    "    \"patch_shape\" : (256, 256, 128),\n",
    "    \"overlap_shape\" : (32, 32, 24),\n",
    "    \"batch_size\" : 1,\n",
    "    \"num_workers\": 4,\n",
    "}\n",
    "\n",
    "data_dir = \"/home/msst/Documents/medtech/HeadData_test\"\n",
    "dataset = HeadDataset(data_dir, train_settings, test_settings)"
   ]
  },
  {
   "cell_type": "code",
   "execution_count": 6,
   "id": "c4263bc9-9589-4dba-9680-90fa565fc251",
   "metadata": {
    "tags": []
   },
   "outputs": [],
   "source": [
    "class swish(nn.Module):\n",
    "    def forward(self, input_tensor):\n",
    "        return input_tensor * torch.sigmoid(input_tensor)\n",
    "\n",
    "model = U_Net_DeepSup(channel_coef=16, act_fn=swish())"
   ]
  },
  {
   "cell_type": "code",
   "execution_count": 101,
   "id": "884e1170-917b-475c-9061-1d24b423eee4",
   "metadata": {
    "jupyter": {
     "source_hidden": true
    },
    "tags": []
   },
   "outputs": [],
   "source": [
    "#funcs_and_сoef_list = []\n",
    "\n",
    "#funcs_and_сoef_list.append([ExponentialLogarithmicLoss(gamma_tversky = 1, gamma_bce = 1, lamb=0.0,\n",
    "#                                   freq = 0.001, tversky_alfa=0.75), 1])\n",
    "\n",
    "#funcs_and_сoef_list.append([TverskyLoss(0.75), 1])\n",
    "\n",
    "\n",
    "#funcs_and_сoef_list.append([SumLoss(alfa=0.5), 0.1])\n",
    "\n",
    "#loss_fn = LinearCombLoss(funcs_and_сoef_list)"
   ]
  },
  {
   "cell_type": "code",
   "execution_count": 7,
   "id": "3ebf45eb-ff12-4c5d-874b-32d47452c450",
   "metadata": {
    "tags": []
   },
   "outputs": [],
   "source": [
    "loss_fn = MultyscaleLoss(ExponentialLogarithmicLoss(gamma_tversky = 1, gamma_bce = 1, lamb=0.9,\n",
    "                                                    freq = 0.001, tversky_alfa=0.75))\n",
    "\n",
    "metric_fn = IOU_Metric()\n",
    "\n",
    "controller_config = {\n",
    "    \"loss\" : loss_fn,\n",
    "    \"metric\" : metric_fn,\n",
    "    'device' : device,\n",
    "    \"optimizer_fn\" : lambda model: torch.optim.ASGD(model.parameters(), lr=0.25),\n",
    "    \"sheduler_fn\": lambda optimizer: StepLR(optimizer, step_size=5, gamma=0.5)\n",
    "}\n",
    "controller = Controller(controller_config)"
   ]
  },
  {
   "cell_type": "code",
   "execution_count": 8,
   "id": "92c5e33f-86df-476a-90a5-5e6ef6d0603f",
   "metadata": {
    "tags": []
   },
   "outputs": [
    {
     "name": "stdout",
     "output_type": "stream",
     "text": [
      "Epoch 1/50\n"
     ]
    },
    {
     "name": "stderr",
     "output_type": "stream",
     "text": [
      "100%|███████████████████████████████████████████| 32/32 [00:12<00:00,  2.54it/s]\n"
     ]
    },
    {
     "name": "stdout",
     "output_type": "stream",
     "text": [
      "{'mean_loss': 1.0309889167547226}\n"
     ]
    },
    {
     "name": "stderr",
     "output_type": "stream",
     "text": [
      "100%|█████████████████████████████████████████████| 2/2 [00:32<00:00, 16.14s/it]\n"
     ]
    },
    {
     "name": "stdout",
     "output_type": "stream",
     "text": [
      "{'metrics': [{'sample': 'P62_CTA', 'seg_sum/GT_sum': tensor(0.), 'metric1': tensor([3.1986e-11])}, {'sample': 'new_CTA', 'seg_sum/GT_sum': tensor(0.), 'metric1': tensor([3.1248e-11])}]}\n",
      "Epoch 2/50\n"
     ]
    },
    {
     "name": "stderr",
     "output_type": "stream",
     "text": [
      "100%|███████████████████████████████████████████| 32/32 [00:15<00:00,  2.12it/s]\n"
     ]
    },
    {
     "name": "stdout",
     "output_type": "stream",
     "text": [
      "{'mean_loss': 0.9861912503838539}\n"
     ]
    },
    {
     "name": "stderr",
     "output_type": "stream",
     "text": [
      "100%|█████████████████████████████████████████████| 2/2 [00:32<00:00, 16.13s/it]\n"
     ]
    },
    {
     "name": "stdout",
     "output_type": "stream",
     "text": [
      "{'metrics': [{'sample': 'P62_CTA', 'seg_sum/GT_sum': tensor(2.2818), 'metric1': tensor([0.0010])}, {'sample': 'new_CTA', 'seg_sum/GT_sum': tensor(0.0042), 'metric1': tensor([3.1118e-11])}]}\n",
      "Epoch 3/50\n"
     ]
    },
    {
     "name": "stderr",
     "output_type": "stream",
     "text": [
      "100%|███████████████████████████████████████████| 32/32 [00:15<00:00,  2.11it/s]\n"
     ]
    },
    {
     "name": "stdout",
     "output_type": "stream",
     "text": [
      "{'mean_loss': 0.9693324230611324}\n"
     ]
    },
    {
     "name": "stderr",
     "output_type": "stream",
     "text": [
      "100%|█████████████████████████████████████████████| 2/2 [00:32<00:00, 16.14s/it]\n"
     ]
    },
    {
     "name": "stdout",
     "output_type": "stream",
     "text": [
      "{'metrics': [{'sample': 'P62_CTA', 'seg_sum/GT_sum': tensor(0.), 'metric1': tensor([3.1986e-11])}, {'sample': 'new_CTA', 'seg_sum/GT_sum': tensor(0.), 'metric1': tensor([3.1248e-11])}]}\n",
      "Epoch 4/50\n"
     ]
    },
    {
     "name": "stderr",
     "output_type": "stream",
     "text": [
      "100%|███████████████████████████████████████████| 32/32 [00:15<00:00,  2.10it/s]\n"
     ]
    },
    {
     "name": "stdout",
     "output_type": "stream",
     "text": [
      "{'mean_loss': 0.9771508425474167}\n"
     ]
    },
    {
     "name": "stderr",
     "output_type": "stream",
     "text": [
      "100%|█████████████████████████████████████████████| 2/2 [00:32<00:00, 16.15s/it]\n"
     ]
    },
    {
     "name": "stdout",
     "output_type": "stream",
     "text": [
      "{'metrics': [{'sample': 'P62_CTA', 'seg_sum/GT_sum': tensor(0.), 'metric1': tensor([3.1986e-11])}, {'sample': 'new_CTA', 'seg_sum/GT_sum': tensor(0.), 'metric1': tensor([3.1248e-11])}]}\n",
      "Epoch 5/50\n"
     ]
    },
    {
     "name": "stderr",
     "output_type": "stream",
     "text": [
      "100%|███████████████████████████████████████████| 32/32 [00:15<00:00,  2.10it/s]\n"
     ]
    },
    {
     "name": "stdout",
     "output_type": "stream",
     "text": [
      "{'mean_loss': 1.0233476720750332}\n"
     ]
    },
    {
     "name": "stderr",
     "output_type": "stream",
     "text": [
      "  0%|                                                     | 0/2 [00:04<?, ?it/s]\n"
     ]
    },
    {
     "ename": "KeyboardInterrupt",
     "evalue": "",
     "output_type": "error",
     "traceback": [
      "\u001b[0;31m---------------------------------------------------------------------------\u001b[0m",
      "\u001b[0;31mKeyboardInterrupt\u001b[0m                         Traceback (most recent call last)",
      "Cell \u001b[0;32mIn[8], line 1\u001b[0m\n\u001b[0;32m----> 1\u001b[0m \u001b[43mcontroller\u001b[49m\u001b[38;5;241;43m.\u001b[39;49m\u001b[43mfit\u001b[49m\u001b[43m(\u001b[49m\u001b[43mmodel\u001b[49m\u001b[43m,\u001b[49m\u001b[43m \u001b[49m\u001b[43mdataset\u001b[49m\u001b[43m,\u001b[49m\u001b[43m \u001b[49m\u001b[38;5;241;43m50\u001b[39;49m\u001b[43m)\u001b[49m\n",
      "File \u001b[0;32m~/repo/MSRepo/VesselSegmentation/ml/controller.py:48\u001b[0m, in \u001b[0;36mController.fit\u001b[0;34m(self, model, dataset, n_epochs)\u001b[0m\n\u001b[1;32m     45\u001b[0m \u001b[38;5;28mprint\u001b[39m(train_info)\n\u001b[1;32m     46\u001b[0m \u001b[38;5;28mself\u001b[39m\u001b[38;5;241m.\u001b[39mhistory[\u001b[38;5;124m'\u001b[39m\u001b[38;5;124mtrain_loss\u001b[39m\u001b[38;5;124m'\u001b[39m]\u001b[38;5;241m.\u001b[39mappend(train_info[\u001b[38;5;124m'\u001b[39m\u001b[38;5;124mmean_loss\u001b[39m\u001b[38;5;124m'\u001b[39m])\n\u001b[0;32m---> 48\u001b[0m val_info \u001b[38;5;241m=\u001b[39m \u001b[38;5;28;43mself\u001b[39;49m\u001b[38;5;241;43m.\u001b[39;49m\u001b[43mval_epoch\u001b[49m\u001b[43m(\u001b[49m\u001b[43mdataset\u001b[49m\u001b[38;5;241;43m.\u001b[39;49m\u001b[43mtest_dataloader\u001b[49m\u001b[43m)\u001b[49m\n\u001b[1;32m     49\u001b[0m \u001b[38;5;28mprint\u001b[39m(val_info)\n\u001b[1;32m     50\u001b[0m \u001b[38;5;28mself\u001b[39m\u001b[38;5;241m.\u001b[39mhistory[\u001b[38;5;124m'\u001b[39m\u001b[38;5;124mval_quality\u001b[39m\u001b[38;5;124m'\u001b[39m]\u001b[38;5;241m.\u001b[39mappend(val_info[\u001b[38;5;124m'\u001b[39m\u001b[38;5;124mmetrics\u001b[39m\u001b[38;5;124m'\u001b[39m])\n",
      "File \u001b[0;32m~/repo/MSRepo/VesselSegmentation/ml/controller.py:86\u001b[0m, in \u001b[0;36mController.val_epoch\u001b[0;34m(self, val_dataloader)\u001b[0m\n\u001b[1;32m     84\u001b[0m \u001b[38;5;28;01mfor\u001b[39;00m batch \u001b[38;5;129;01min\u001b[39;00m val_dataloader:\n\u001b[1;32m     85\u001b[0m     patch_loader, grid_aggregator, GT, sample_name \u001b[38;5;241m=\u001b[39m batch\n\u001b[0;32m---> 86\u001b[0m     head_seg \u001b[38;5;241m=\u001b[39m \u001b[38;5;28;43mself\u001b[39;49m\u001b[38;5;241;43m.\u001b[39;49m\u001b[43mfast_predict\u001b[49m\u001b[43m(\u001b[49m\u001b[43mpatch_loader\u001b[49m\u001b[43m,\u001b[49m\u001b[43m \u001b[49m\u001b[43mgrid_aggregator\u001b[49m\u001b[43m)\u001b[49m\n\u001b[1;32m     87\u001b[0m     metric \u001b[38;5;241m=\u001b[39m \u001b[38;5;28mself\u001b[39m\u001b[38;5;241m.\u001b[39mmetric_fn(GT\u001b[38;5;241m.\u001b[39mdata, head_seg)\n\u001b[1;32m     88\u001b[0m     metrics\u001b[38;5;241m.\u001b[39mappend({\u001b[38;5;124m\"\u001b[39m\u001b[38;5;124msample\u001b[39m\u001b[38;5;124m\"\u001b[39m : sample_name,\n\u001b[1;32m     89\u001b[0m                     \u001b[38;5;124m\"\u001b[39m\u001b[38;5;124mseg_sum/GT_sum\u001b[39m\u001b[38;5;124m\"\u001b[39m : head_seg\u001b[38;5;241m.\u001b[39msum()\u001b[38;5;241m/\u001b[39mGT\u001b[38;5;241m.\u001b[39mdata\u001b[38;5;241m.\u001b[39msum(),\n\u001b[1;32m     90\u001b[0m                     \u001b[38;5;124m\"\u001b[39m\u001b[38;5;124mmetric1\u001b[39m\u001b[38;5;124m\"\u001b[39m : metric})\n",
      "File \u001b[0;32m~/repo/MSRepo/VesselSegmentation/ml/controller.py:100\u001b[0m, in \u001b[0;36mController.fast_predict\u001b[0;34m(self, patch_loader, grid_aggregator, thresh)\u001b[0m\n\u001b[1;32m     98\u001b[0m     head_patches \u001b[38;5;241m=\u001b[39m patches_batch[\u001b[38;5;124m'\u001b[39m\u001b[38;5;124mhead\u001b[39m\u001b[38;5;124m'\u001b[39m][\u001b[38;5;124m'\u001b[39m\u001b[38;5;124mdata\u001b[39m\u001b[38;5;124m'\u001b[39m]\u001b[38;5;241m.\u001b[39mto(\u001b[38;5;28mself\u001b[39m\u001b[38;5;241m.\u001b[39mdevice)\n\u001b[1;32m     99\u001b[0m     \u001b[38;5;28;01mwith\u001b[39;00m torch\u001b[38;5;241m.\u001b[39mno_grad():\n\u001b[0;32m--> 100\u001b[0m         grid_aggregator\u001b[38;5;241m.\u001b[39madd_batch(\u001b[38;5;28;43mself\u001b[39;49m\u001b[38;5;241;43m.\u001b[39;49m\u001b[43mmodel\u001b[49m\u001b[43m(\u001b[49m\u001b[43mhead_patches\u001b[49m\u001b[43m)\u001b[49m[\u001b[38;5;241m0\u001b[39m]\u001b[38;5;241m.\u001b[39mcpu(), patch_locations)\n\u001b[1;32m    101\u001b[0m seg \u001b[38;5;241m=\u001b[39m grid_aggregator\u001b[38;5;241m.\u001b[39mget_output_tensor()\n\u001b[1;32m    102\u001b[0m seg[seg\u001b[38;5;241m<\u001b[39mthresh] \u001b[38;5;241m=\u001b[39m \u001b[38;5;241m0\u001b[39m\n",
      "File \u001b[0;32m~/.local/lib/python3.8/site-packages/torch/nn/modules/module.py:1538\u001b[0m, in \u001b[0;36mModule._call_impl\u001b[0;34m(self, *args, **kwargs)\u001b[0m\n\u001b[1;32m   1535\u001b[0m     bw_hook \u001b[38;5;241m=\u001b[39m hooks\u001b[38;5;241m.\u001b[39mBackwardHook(\u001b[38;5;28mself\u001b[39m, full_backward_hooks, backward_pre_hooks)\n\u001b[1;32m   1536\u001b[0m     args \u001b[38;5;241m=\u001b[39m bw_hook\u001b[38;5;241m.\u001b[39msetup_input_hook(args)\n\u001b[0;32m-> 1538\u001b[0m result \u001b[38;5;241m=\u001b[39m \u001b[43mforward_call\u001b[49m\u001b[43m(\u001b[49m\u001b[38;5;241;43m*\u001b[39;49m\u001b[43margs\u001b[49m\u001b[43m,\u001b[49m\u001b[43m \u001b[49m\u001b[38;5;241;43m*\u001b[39;49m\u001b[38;5;241;43m*\u001b[39;49m\u001b[43mkwargs\u001b[49m\u001b[43m)\u001b[49m\n\u001b[1;32m   1539\u001b[0m \u001b[38;5;28;01mif\u001b[39;00m _global_forward_hooks \u001b[38;5;129;01mor\u001b[39;00m \u001b[38;5;28mself\u001b[39m\u001b[38;5;241m.\u001b[39m_forward_hooks:\n\u001b[1;32m   1540\u001b[0m     \u001b[38;5;28;01mfor\u001b[39;00m hook_id, hook \u001b[38;5;129;01min\u001b[39;00m (\n\u001b[1;32m   1541\u001b[0m         \u001b[38;5;241m*\u001b[39m_global_forward_hooks\u001b[38;5;241m.\u001b[39mitems(),\n\u001b[1;32m   1542\u001b[0m         \u001b[38;5;241m*\u001b[39m\u001b[38;5;28mself\u001b[39m\u001b[38;5;241m.\u001b[39m_forward_hooks\u001b[38;5;241m.\u001b[39mitems(),\n\u001b[1;32m   1543\u001b[0m     ):\n",
      "File \u001b[0;32m~/repo/MSRepo/VesselSegmentation/ml/models/unet_deepsup.py:118\u001b[0m, in \u001b[0;36mU_Net_DeepSup.forward\u001b[0;34m(self, x)\u001b[0m\n\u001b[1;32m    114\u001b[0m d2_out \u001b[38;5;241m=\u001b[39m \u001b[38;5;28mself\u001b[39m\u001b[38;5;241m.\u001b[39mact(d2_out)\n\u001b[1;32m    115\u001b[0m \u001b[38;5;66;03m#print(\"d2_out:\")\u001b[39;00m\n\u001b[1;32m    116\u001b[0m \u001b[38;5;66;03m#print(d2_out.shape)\u001b[39;00m\n\u001b[0;32m--> 118\u001b[0m d1 \u001b[38;5;241m=\u001b[39m \u001b[38;5;28;43mself\u001b[39;49m\u001b[38;5;241;43m.\u001b[39;49m\u001b[43mUp1\u001b[49m\u001b[43m(\u001b[49m\u001b[43md2\u001b[49m\u001b[43m)\u001b[49m\n\u001b[1;32m    119\u001b[0m d1 \u001b[38;5;241m=\u001b[39m torch\u001b[38;5;241m.\u001b[39mcat((e1, d1), dim\u001b[38;5;241m=\u001b[39m\u001b[38;5;241m1\u001b[39m)\n\u001b[1;32m    120\u001b[0m d1 \u001b[38;5;241m=\u001b[39m \u001b[38;5;28mself\u001b[39m\u001b[38;5;241m.\u001b[39mUp_conv1(d1)\n",
      "File \u001b[0;32m~/.local/lib/python3.8/site-packages/torch/nn/modules/module.py:1538\u001b[0m, in \u001b[0;36mModule._call_impl\u001b[0;34m(self, *args, **kwargs)\u001b[0m\n\u001b[1;32m   1535\u001b[0m     bw_hook \u001b[38;5;241m=\u001b[39m hooks\u001b[38;5;241m.\u001b[39mBackwardHook(\u001b[38;5;28mself\u001b[39m, full_backward_hooks, backward_pre_hooks)\n\u001b[1;32m   1536\u001b[0m     args \u001b[38;5;241m=\u001b[39m bw_hook\u001b[38;5;241m.\u001b[39msetup_input_hook(args)\n\u001b[0;32m-> 1538\u001b[0m result \u001b[38;5;241m=\u001b[39m \u001b[43mforward_call\u001b[49m\u001b[43m(\u001b[49m\u001b[38;5;241;43m*\u001b[39;49m\u001b[43margs\u001b[49m\u001b[43m,\u001b[49m\u001b[43m \u001b[49m\u001b[38;5;241;43m*\u001b[39;49m\u001b[38;5;241;43m*\u001b[39;49m\u001b[43mkwargs\u001b[49m\u001b[43m)\u001b[49m\n\u001b[1;32m   1539\u001b[0m \u001b[38;5;28;01mif\u001b[39;00m _global_forward_hooks \u001b[38;5;129;01mor\u001b[39;00m \u001b[38;5;28mself\u001b[39m\u001b[38;5;241m.\u001b[39m_forward_hooks:\n\u001b[1;32m   1540\u001b[0m     \u001b[38;5;28;01mfor\u001b[39;00m hook_id, hook \u001b[38;5;129;01min\u001b[39;00m (\n\u001b[1;32m   1541\u001b[0m         \u001b[38;5;241m*\u001b[39m_global_forward_hooks\u001b[38;5;241m.\u001b[39mitems(),\n\u001b[1;32m   1542\u001b[0m         \u001b[38;5;241m*\u001b[39m\u001b[38;5;28mself\u001b[39m\u001b[38;5;241m.\u001b[39m_forward_hooks\u001b[38;5;241m.\u001b[39mitems(),\n\u001b[1;32m   1543\u001b[0m     ):\n",
      "File \u001b[0;32m~/repo/MSRepo/VesselSegmentation/ml/models/unet3d.py:44\u001b[0m, in \u001b[0;36mup_conv.forward\u001b[0;34m(self, x)\u001b[0m\n\u001b[1;32m     43\u001b[0m \u001b[38;5;28;01mdef\u001b[39;00m \u001b[38;5;21mforward\u001b[39m(\u001b[38;5;28mself\u001b[39m, x):\n\u001b[0;32m---> 44\u001b[0m     x \u001b[38;5;241m=\u001b[39m \u001b[38;5;28;43mself\u001b[39;49m\u001b[38;5;241;43m.\u001b[39;49m\u001b[43mup\u001b[49m\u001b[43m(\u001b[49m\u001b[43mx\u001b[49m\u001b[43m)\u001b[49m\n\u001b[1;32m     45\u001b[0m     \u001b[38;5;28;01mreturn\u001b[39;00m x\n",
      "File \u001b[0;32m~/.local/lib/python3.8/site-packages/torch/nn/modules/module.py:1538\u001b[0m, in \u001b[0;36mModule._call_impl\u001b[0;34m(self, *args, **kwargs)\u001b[0m\n\u001b[1;32m   1535\u001b[0m     bw_hook \u001b[38;5;241m=\u001b[39m hooks\u001b[38;5;241m.\u001b[39mBackwardHook(\u001b[38;5;28mself\u001b[39m, full_backward_hooks, backward_pre_hooks)\n\u001b[1;32m   1536\u001b[0m     args \u001b[38;5;241m=\u001b[39m bw_hook\u001b[38;5;241m.\u001b[39msetup_input_hook(args)\n\u001b[0;32m-> 1538\u001b[0m result \u001b[38;5;241m=\u001b[39m \u001b[43mforward_call\u001b[49m\u001b[43m(\u001b[49m\u001b[38;5;241;43m*\u001b[39;49m\u001b[43margs\u001b[49m\u001b[43m,\u001b[49m\u001b[43m \u001b[49m\u001b[38;5;241;43m*\u001b[39;49m\u001b[38;5;241;43m*\u001b[39;49m\u001b[43mkwargs\u001b[49m\u001b[43m)\u001b[49m\n\u001b[1;32m   1539\u001b[0m \u001b[38;5;28;01mif\u001b[39;00m _global_forward_hooks \u001b[38;5;129;01mor\u001b[39;00m \u001b[38;5;28mself\u001b[39m\u001b[38;5;241m.\u001b[39m_forward_hooks:\n\u001b[1;32m   1540\u001b[0m     \u001b[38;5;28;01mfor\u001b[39;00m hook_id, hook \u001b[38;5;129;01min\u001b[39;00m (\n\u001b[1;32m   1541\u001b[0m         \u001b[38;5;241m*\u001b[39m_global_forward_hooks\u001b[38;5;241m.\u001b[39mitems(),\n\u001b[1;32m   1542\u001b[0m         \u001b[38;5;241m*\u001b[39m\u001b[38;5;28mself\u001b[39m\u001b[38;5;241m.\u001b[39m_forward_hooks\u001b[38;5;241m.\u001b[39mitems(),\n\u001b[1;32m   1543\u001b[0m     ):\n",
      "File \u001b[0;32m~/.local/lib/python3.8/site-packages/torch/nn/modules/container.py:217\u001b[0m, in \u001b[0;36mSequential.forward\u001b[0;34m(self, input)\u001b[0m\n\u001b[1;32m    215\u001b[0m \u001b[38;5;28;01mdef\u001b[39;00m \u001b[38;5;21mforward\u001b[39m(\u001b[38;5;28mself\u001b[39m, \u001b[38;5;28minput\u001b[39m):\n\u001b[1;32m    216\u001b[0m     \u001b[38;5;28;01mfor\u001b[39;00m module \u001b[38;5;129;01min\u001b[39;00m \u001b[38;5;28mself\u001b[39m:\n\u001b[0;32m--> 217\u001b[0m         \u001b[38;5;28minput\u001b[39m \u001b[38;5;241m=\u001b[39m \u001b[43mmodule\u001b[49m\u001b[43m(\u001b[49m\u001b[38;5;28;43minput\u001b[39;49m\u001b[43m)\u001b[49m\n\u001b[1;32m    218\u001b[0m     \u001b[38;5;28;01mreturn\u001b[39;00m \u001b[38;5;28minput\u001b[39m\n",
      "File \u001b[0;32m~/.local/lib/python3.8/site-packages/torch/nn/modules/module.py:1547\u001b[0m, in \u001b[0;36mModule._call_impl\u001b[0;34m(self, *args, **kwargs)\u001b[0m\n\u001b[1;32m   1545\u001b[0m     hook_result \u001b[38;5;241m=\u001b[39m hook(\u001b[38;5;28mself\u001b[39m, args, kwargs, result)\n\u001b[1;32m   1546\u001b[0m \u001b[38;5;28;01melse\u001b[39;00m:\n\u001b[0;32m-> 1547\u001b[0m     hook_result \u001b[38;5;241m=\u001b[39m \u001b[43mhook\u001b[49m\u001b[43m(\u001b[49m\u001b[38;5;28;43mself\u001b[39;49m\u001b[43m,\u001b[49m\u001b[43m \u001b[49m\u001b[43margs\u001b[49m\u001b[43m,\u001b[49m\u001b[43m \u001b[49m\u001b[43mresult\u001b[49m\u001b[43m)\u001b[49m\n\u001b[1;32m   1549\u001b[0m \u001b[38;5;28;01mif\u001b[39;00m hook_result \u001b[38;5;129;01mis\u001b[39;00m \u001b[38;5;129;01mnot\u001b[39;00m \u001b[38;5;28;01mNone\u001b[39;00m:\n\u001b[1;32m   1550\u001b[0m     result \u001b[38;5;241m=\u001b[39m hook_result\n",
      "File \u001b[0;32m~/repo/MSRepo/VesselSegmentation/ml/models/unet_deepsup.py:58\u001b[0m, in \u001b[0;36mU_Net_DeepSup.nan_hook\u001b[0;34m(self, module, inp, output)\u001b[0m\n\u001b[1;32m     56\u001b[0m \u001b[38;5;28;01mfor\u001b[39;00m i, out \u001b[38;5;129;01min\u001b[39;00m \u001b[38;5;28menumerate\u001b[39m(output):\n\u001b[1;32m     57\u001b[0m     nan_mask \u001b[38;5;241m=\u001b[39m torch\u001b[38;5;241m.\u001b[39misnan(out)\n\u001b[0;32m---> 58\u001b[0m     \u001b[38;5;28;01mif\u001b[39;00m nan_mask\u001b[38;5;241m.\u001b[39many():\n\u001b[1;32m     59\u001b[0m         \u001b[38;5;28mprint\u001b[39m(\u001b[38;5;124m\"\u001b[39m\u001b[38;5;124mIn\u001b[39m\u001b[38;5;124m\"\u001b[39m, \u001b[38;5;28mself\u001b[39m\u001b[38;5;241m.\u001b[39m\u001b[38;5;18m__class__\u001b[39m\u001b[38;5;241m.\u001b[39m\u001b[38;5;18m__name__\u001b[39m)\n\u001b[1;32m     60\u001b[0m         \u001b[38;5;28mprint\u001b[39m(module)\n",
      "\u001b[0;31mKeyboardInterrupt\u001b[0m: "
     ]
    }
   ],
   "source": [
    "controller.fit(model, dataset, 50)"
   ]
  },
  {
   "cell_type": "code",
   "execution_count": null,
   "id": "1e40dd6d-e721-4e5c-968a-77b667d661e1",
   "metadata": {},
   "outputs": [],
   "source": []
  },
  {
   "cell_type": "code",
   "execution_count": null,
   "id": "97b0c2e6-b1fb-4047-a45f-ccfe7aab8a1d",
   "metadata": {},
   "outputs": [],
   "source": []
  },
  {
   "cell_type": "code",
   "execution_count": null,
   "id": "1b9e7a88-7f93-410f-b6aa-66671622406b",
   "metadata": {},
   "outputs": [],
   "source": []
  },
  {
   "cell_type": "code",
   "execution_count": null,
   "id": "5b5d61e6-1480-4344-8be8-7b1631328910",
   "metadata": {},
   "outputs": [],
   "source": []
  },
  {
   "cell_type": "code",
   "execution_count": 11,
   "id": "15de1186-7ac6-4cad-a85c-d8e586cd21df",
   "metadata": {},
   "outputs": [],
   "source": [
    "model_name = \"Unet16_logTversky_54\"\n",
    "#controller.save(\"/home/msst/repo/MSRepo/VesselSegmentation/saved_models/\" + model_name)"
   ]
  },
  {
   "cell_type": "code",
   "execution_count": 12,
   "id": "a7009241-3f7e-4aa1-996b-3f84f5c56e2b",
   "metadata": {
    "tags": []
   },
   "outputs": [],
   "source": [
    "controller.load_model(model, \"/home/msst/repo/MSRepo/VesselSegmentation/saved_models/\" + model_name)\n",
    "controller.model = model.to(device)"
   ]
  },
  {
   "cell_type": "code",
   "execution_count": null,
   "id": "89f3ce65-98bd-4d45-baa1-5abfa649d6ee",
   "metadata": {},
   "outputs": [],
   "source": []
  },
  {
   "cell_type": "code",
   "execution_count": 13,
   "id": "70b4e6b3-3777-49f6-a7bb-0b5d4fdaadeb",
   "metadata": {
    "tags": []
   },
   "outputs": [
    {
     "name": "stderr",
     "output_type": "stream",
     "text": [
      "100%|█████████████████████████████████████████████| 2/2 [00:22<00:00, 11.45s/it]\n"
     ]
    },
    {
     "data": {
      "text/plain": [
       "{'metrics': [{'sample': 'P62_CTA',\n",
       "   'seg_sum/GT_sum': tensor(0.6784),\n",
       "   'metric1': tensor([0.4902])},\n",
       "  {'sample': 'new_CTA',\n",
       "   'seg_sum/GT_sum': tensor(0.8539),\n",
       "   'metric1': tensor([0.3330])}]}"
      ]
     },
     "execution_count": 13,
     "metadata": {},
     "output_type": "execute_result"
    }
   ],
   "source": [
    "controller.val_epoch(dataset.test_dataloader)"
   ]
  },
  {
   "cell_type": "code",
   "execution_count": 27,
   "id": "28291f4b-66d9-4a06-855f-a86433d7e76e",
   "metadata": {
    "tags": []
   },
   "outputs": [
    {
     "name": "stderr",
     "output_type": "stream",
     "text": [
      "  0%|                                                     | 0/2 [00:06<?, ?it/s]\n"
     ]
    },
    {
     "ename": "KeyboardInterrupt",
     "evalue": "",
     "output_type": "error",
     "traceback": [
      "\u001b[0;31m---------------------------------------------------------------------------\u001b[0m",
      "\u001b[0;31mKeyboardInterrupt\u001b[0m                         Traceback (most recent call last)",
      "Cell \u001b[0;32mIn[27], line 4\u001b[0m\n\u001b[1;32m      2\u001b[0m \u001b[38;5;28;01mif\u001b[39;00m \u001b[38;5;129;01mnot\u001b[39;00m os\u001b[38;5;241m.\u001b[39mpath\u001b[38;5;241m.\u001b[39mexists(data_dir):\n\u001b[1;32m      3\u001b[0m     os\u001b[38;5;241m.\u001b[39mmkdir(data_dir)\n\u001b[0;32m----> 4\u001b[0m \u001b[43mcontroller\u001b[49m\u001b[38;5;241;43m.\u001b[39;49m\u001b[43mpredict\u001b[49m\u001b[43m(\u001b[49m\u001b[43mdataset\u001b[49m\u001b[38;5;241;43m.\u001b[39;49m\u001b[43mtest_dataloader\u001b[49m\u001b[43m,\u001b[49m\u001b[43m \u001b[49m\u001b[38;5;28;43;01mNone\u001b[39;49;00m\u001b[43m)\u001b[49m\n",
      "File \u001b[0;32m~/repo/MSRepo/VesselSegmentation/ml/controller.py:115\u001b[0m, in \u001b[0;36mController.predict\u001b[0;34m(self, test_dataloader, path_to_save)\u001b[0m\n\u001b[1;32m    113\u001b[0m head_seg \u001b[38;5;241m=\u001b[39m \u001b[38;5;28mself\u001b[39m\u001b[38;5;241m.\u001b[39mfast_predict(patch_loader, grid_aggregator)\n\u001b[1;32m    114\u001b[0m metric \u001b[38;5;241m=\u001b[39m \u001b[38;5;28mself\u001b[39m\u001b[38;5;241m.\u001b[39mmetric_fn(GT\u001b[38;5;241m.\u001b[39mdata, head_seg)\n\u001b[0;32m--> 115\u001b[0m metric \u001b[38;5;241m=\u001b[39m \u001b[38;5;28;43mself\u001b[39;49m\u001b[38;5;241;43m.\u001b[39;49m\u001b[43mmetric_fn\u001b[49m\u001b[43m(\u001b[49m\u001b[43mGT\u001b[49m\u001b[38;5;241;43m.\u001b[39;49m\u001b[43mdata\u001b[49m\u001b[43m,\u001b[49m\u001b[43m \u001b[49m\u001b[43mhead_seg\u001b[49m\u001b[43m)\u001b[49m\n\u001b[1;32m    116\u001b[0m metric \u001b[38;5;241m=\u001b[39m {\u001b[38;5;124m\"\u001b[39m\u001b[38;5;124msample\u001b[39m\u001b[38;5;124m\"\u001b[39m : sample_name,\n\u001b[1;32m    117\u001b[0m           \u001b[38;5;124m\"\u001b[39m\u001b[38;5;124mseg_sum/GT_sum\u001b[39m\u001b[38;5;124m\"\u001b[39m : head_seg\u001b[38;5;241m.\u001b[39msum()\u001b[38;5;241m/\u001b[39mGT\u001b[38;5;241m.\u001b[39mdata\u001b[38;5;241m.\u001b[39msum(),\n\u001b[1;32m    118\u001b[0m           \u001b[38;5;124m\"\u001b[39m\u001b[38;5;124mmetric1\u001b[39m\u001b[38;5;124m\"\u001b[39m : metric}\n\u001b[1;32m    119\u001b[0m \u001b[38;5;28mprint\u001b[39m(metric)\n",
      "File \u001b[0;32m~/repo/MSRepo/VesselSegmentation/ml/losses.py:17\u001b[0m, in \u001b[0;36mIOU_Metric.__call__\u001b[0;34m(self, outputs, labels)\u001b[0m\n\u001b[1;32m     15\u001b[0m SMOOTH \u001b[38;5;241m=\u001b[39m \u001b[38;5;241m1e-8\u001b[39m\n\u001b[1;32m     16\u001b[0m intersection \u001b[38;5;241m=\u001b[39m (outputs \u001b[38;5;241m&\u001b[39m labels)\u001b[38;5;241m.\u001b[39mfloat()\u001b[38;5;241m.\u001b[39msum((\u001b[38;5;241m1\u001b[39m, \u001b[38;5;241m2\u001b[39m, \u001b[38;5;241m3\u001b[39m))  \u001b[38;5;66;03m# Will be zero if Truth=0 or Prediction=0\u001b[39;00m\n\u001b[0;32m---> 17\u001b[0m union \u001b[38;5;241m=\u001b[39m \u001b[43m(\u001b[49m\u001b[43moutputs\u001b[49m\u001b[43m \u001b[49m\u001b[38;5;241;43m|\u001b[39;49m\u001b[43m \u001b[49m\u001b[43mlabels\u001b[49m\u001b[43m)\u001b[49m\u001b[38;5;241;43m.\u001b[39;49m\u001b[43mfloat\u001b[49m\u001b[43m(\u001b[49m\u001b[43m)\u001b[49m\u001b[38;5;241m.\u001b[39msum((\u001b[38;5;241m1\u001b[39m, \u001b[38;5;241m2\u001b[39m, \u001b[38;5;241m3\u001b[39m))         \u001b[38;5;66;03m# Will be zzero if both are 0\u001b[39;00m\n\u001b[1;32m     19\u001b[0m iou \u001b[38;5;241m=\u001b[39m (intersection \u001b[38;5;241m+\u001b[39m \u001b[38;5;28mself\u001b[39m\u001b[38;5;241m.\u001b[39meps) \u001b[38;5;241m/\u001b[39m (union \u001b[38;5;241m+\u001b[39m \u001b[38;5;28mself\u001b[39m\u001b[38;5;241m.\u001b[39meps)\n\u001b[1;32m     20\u001b[0m \u001b[38;5;28;01mif\u001b[39;00m \u001b[38;5;28mself\u001b[39m\u001b[38;5;241m.\u001b[39mthresh \u001b[38;5;129;01mis\u001b[39;00m \u001b[38;5;129;01mnot\u001b[39;00m \u001b[38;5;28;01mNone\u001b[39;00m:\n",
      "\u001b[0;31mKeyboardInterrupt\u001b[0m: "
     ]
    }
   ],
   "source": [
    "data_dir = \"seg_data/\" + model_name\n",
    "if not os.path.exists(data_dir):\n",
    "    os.mkdir(data_dir)\n",
    "controller.predict(dataset.test_dataloader, None)"
   ]
  },
  {
   "cell_type": "code",
   "execution_count": null,
   "id": "23d38ff3-a2d4-4eb5-9fc3-c12b80161529",
   "metadata": {},
   "outputs": [],
   "source": []
  }
 ],
 "metadata": {
  "kernelspec": {
   "display_name": "Python 3",
   "language": "python",
   "name": "python3"
  },
  "language_info": {
   "codemirror_mode": {
    "name": "ipython",
    "version": 3
   },
   "file_extension": ".py",
   "mimetype": "text/x-python",
   "name": "python",
   "nbconvert_exporter": "python",
   "pygments_lexer": "ipython3",
   "version": "3.8.10"
  }
 },
 "nbformat": 4,
 "nbformat_minor": 5
}
