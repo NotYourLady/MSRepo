{
 "cells": [
  {
   "cell_type": "code",
   "execution_count": 23,
   "id": "de2ebdfe-c872-469d-9826-1e4a0ec31964",
   "metadata": {
    "tags": []
   },
   "outputs": [],
   "source": [
    "from tqdm import tqdm\n",
    "import time"
   ]
  },
  {
   "cell_type": "code",
   "execution_count": 93,
   "id": "1b54d260-2a38-4f67-9af9-474ce4dc8352",
   "metadata": {
    "tags": []
   },
   "outputs": [
    {
     "name": "stdin",
     "output_type": "stream",
     "text": [
      " 1 10000\n"
     ]
    },
    {
     "name": "stderr",
     "output_type": "stream",
     "text": [
      "100%|█████████████████████████████████| 10000/10000 [00:00<00:00, 403376.03it/s]"
     ]
    },
    {
     "name": "stdout",
     "output_type": "stream",
     "text": [
      "(220,284) (1184,1210) (2620,2924) (5020,5564) (6232,6368)\n"
     ]
    },
    {
     "name": "stderr",
     "output_type": "stream",
     "text": [
      "\n"
     ]
    }
   ],
   "source": [
    "def divisors_sum(n):\n",
    "    sum = 1\n",
    "    for m in range(2, int(n ** 0.5) + 1):\n",
    "        if n % m == 0:\n",
    "            sum += m + n // m\n",
    "    return sum\n",
    "\n",
    "def if_amicable(n, m):\n",
    "    if (divisors_sum(n) == m) * (divisors_sum(m) == n):\n",
    "        return True\n",
    "    else:\n",
    "        return False\n",
    "\n",
    "a, b = map(int, input().split())\n",
    "#a, b = 200, 2500\n",
    "\n",
    "count = 0\n",
    "\n",
    "answer_string = \"\"\n",
    "\n",
    "ans = []\n",
    "for n in tqdm(range(a, b+1)):\n",
    "    div_sum = divisors_sum(n)\n",
    "    if (div_sum>a) * (div_sum<(n)):\n",
    "        if divisors_sum(div_sum)==n:\n",
    "            if count >= 1:\n",
    "                answer_string += \" \"\n",
    "            answer_string += \"(\" + str(div_sum) + \",\" + str(n) + \")\"\n",
    "            count += 1\n",
    "    \n",
    "if count == 0:\n",
    "    print(0) \n",
    "else:\n",
    "    print(answer_string)"
   ]
  },
  {
   "cell_type": "code",
   "execution_count": 92,
   "id": "fd08120b-39e3-410a-a138-33a5ee78c01c",
   "metadata": {
    "tags": []
   },
   "outputs": [
    {
     "data": {
      "text/plain": [
       "40"
      ]
     },
     "execution_count": 92,
     "metadata": {},
     "output_type": "execute_result"
    }
   ],
   "source": [
    "count"
   ]
  },
  {
   "cell_type": "code",
   "execution_count": 58,
   "id": "94638a45-ceef-4311-80c3-5cf357463165",
   "metadata": {
    "tags": []
   },
   "outputs": [],
   "source": [
    "def divisors_sum(n):\n",
    "    sum = 1\n",
    "    for m in range(2, int(n ** 0.5) + 1):\n",
    "        if n % m == 0:\n",
    "            sum += m\n",
    "            sum += n // m\n",
    "    return sum\n"
   ]
  },
  {
   "cell_type": "code",
   "execution_count": 59,
   "id": "b135460e-71e5-406e-b5f2-338eddd9ea46",
   "metadata": {
    "tags": []
   },
   "outputs": [
    {
     "data": {
      "text/plain": [
       "8.0"
      ]
     },
     "execution_count": 59,
     "metadata": {},
     "output_type": "execute_result"
    }
   ],
   "source": [
    "divisors_sum(10)"
   ]
  },
  {
   "cell_type": "code",
   "execution_count": null,
   "id": "233d83e5-873b-46a2-9c95-5b059f75e93e",
   "metadata": {},
   "outputs": [],
   "source": []
  }
 ],
 "metadata": {
  "kernelspec": {
   "display_name": "Python 3",
   "language": "python",
   "name": "python3"
  },
  "language_info": {
   "codemirror_mode": {
    "name": "ipython",
    "version": 3
   },
   "file_extension": ".py",
   "mimetype": "text/x-python",
   "name": "python",
   "nbconvert_exporter": "python",
   "pygments_lexer": "ipython3",
   "version": "3.8.10"
  }
 },
 "nbformat": 4,
 "nbformat_minor": 5
}
